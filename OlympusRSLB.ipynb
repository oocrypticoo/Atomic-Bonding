{
 "cells": [
  {
   "cell_type": "code",
   "execution_count": 23,
   "id": "887a7b9a",
   "metadata": {
    "code_folding": [
     0
    ]
   },
   "outputs": [],
   "source": [
    "#########Initialize##########\n",
    "import re\n",
    "import json\n",
    "import time\n",
    "import math\n",
    "import requests\n",
    "import pyperclip as pc\n",
    "from decimal import Decimal\n",
    "from web3 import Web3\n",
    "from ens import ENS\n",
    "from ipywidgets import widgets, Layout\n",
    "from IPython.display import display, Javascript\n",
    "\n",
    "###########NODE INFO##############\n",
    "web3 = Web3(Web3.HTTPProvider(\"https://mainnet.infura.io/v3/bdfb19d0e7914c1c975dd89500550e06\"))\n",
    "######################################\n",
    "\n",
    "ns=ENS.fromWeb3(web3)\n",
    "\n",
    "#CALLS MUST BE SUCCESFFUL\n",
    "sushiswapQuoterContract=Web3.toChecksumAddress(\"0xd9e1cE17f2641f24aE83637ab66a2cca9C378B9F\")\n",
    "sushiswapFactoryContract=Web3.toChecksumAddress(\"0xC0AEe478e3658e2610c5F7A4A2E1777cE9e4f2Ac\")\n",
    "WETH_address=Web3.toChecksumAddress(\"0xC02aaA39b223FE8D0A0e5C4F27eAD9083C756Cc2\")\n",
    "ALCX_address=Web3.toChecksumAddress(\"0xdBdb4d16EdA451D0503b854CF79D55697F90c8DF\")\n",
    "DAI_address=Web3.toChecksumAddress(\"0x6B175474E89094C44Da98b954EedeAC495271d0F\")\n",
    "CVX_address=Web3.toChecksumAddress(\"0x4e3FBD56CD56c3e72c1403e103b45Db9da5B9D2B\")\n",
    "ALCXETH_pool=Web3.toChecksumAddress(\"0xC3f279090a47e80990Fe3a9c30d24Cb117EF91a8\")\n",
    "\n",
    "tokenDict={'WETH': WETH_address,'DAI': DAI_address, 'CVX': CVX_address, 'ALCX-ETH': ALCXETH_pool}\n",
    "\n",
    "bondContract_WETHALCX_address=Web3.toChecksumAddress(\"0x6D987Dda4358a9Ba4F695Ca4e6AA3933D7Bc1B08\")\n",
    "bondContract_DAIALCX_address=Web3.toChecksumAddress(\"0x105cD312418311dd49Bc1e88459019Ed4eF218DC\")\n",
    "bondContract_CVXALCX_address=Web3.toChecksumAddress(\"0xd9feE3CdbF0B55461977756dBAEE4421Cc0A52E0\")\n",
    "bondContract_ALCXETHSLP_address=Web3.toChecksumAddress(\"0x1e5b7412f4B4B713b93D0e82260BD27810984B6e\")\n",
    "\n",
    "reedeemSwapLPBondABI='[ { \"inputs\": [], \"stateMutability\": \"nonpayable\", \"type\": \"constructor\" }, { \"inputs\": [], \"name\": \"oneInchRouter\", \"outputs\": [ { \"internalType\": \"address\", \"name\": \"\", \"type\": \"address\" } ], \"stateMutability\": \"view\", \"type\": \"function\" }, { \"inputs\": [], \"name\": \"owner\", \"outputs\": [ { \"internalType\": \"address\", \"name\": \"\", \"type\": \"address\" } ], \"stateMutability\": \"view\", \"type\": \"function\" }, { \"inputs\": [ { \"components\": [ { \"internalType\": \"address[]\", \"name\": \"redeems\", \"type\": \"address[]\" }, { \"internalType\": \"uint256[4]\", \"name\": \"slippages\", \"type\": \"uint256[4]\" }, { \"internalType\": \"uint256\", \"name\": \"amountIn\", \"type\": \"uint256\" }, { \"internalType\": \"address\", \"name\": \"tokenIn\", \"type\": \"address\" }, { \"internalType\": \"address\", \"name\": \"tokenOut\", \"type\": \"address\" }, { \"internalType\": \"bytes\", \"name\": \"swapPayload\", \"type\": \"bytes\" }, { \"internalType\": \"bool\", \"name\": \"LP\", \"type\": \"bool\" }, { \"internalType\": \"address\", \"name\": \"poolAddress\", \"type\": \"address\" }, { \"internalType\": \"address\", \"name\": \"bondContractAddress\", \"type\": \"address\" } ], \"internalType\": \"struct RedeemInvest.Params\", \"name\": \"_params\", \"type\": \"tuple\" } ], \"name\": \"redeemSwapLPBond\", \"outputs\": [], \"stateMutability\": \"nonpayable\", \"type\": \"function\" }, { \"inputs\": [ { \"internalType\": \"address\", \"name\": \"_tokenContract\", \"type\": \"address\" }, { \"internalType\": \"uint256\", \"name\": \"_amount\", \"type\": \"uint256\" } ], \"name\": \"saveTokens\", \"outputs\": [], \"stateMutability\": \"nonpayable\", \"type\": \"function\" }, { \"inputs\": [ { \"internalType\": \"address\", \"name\": \"newOwner\", \"type\": \"address\" } ], \"name\": \"setOwner\", \"outputs\": [], \"stateMutability\": \"nonpayable\", \"type\": \"function\" }, { \"inputs\": [], \"name\": \"sushiRouter\", \"outputs\": [ { \"internalType\": \"address\", \"name\": \"\", \"type\": \"address\" } ], \"stateMutability\": \"view\", \"type\": \"function\" } ]'\n",
    "sushiuniABI='[{\"inputs\":[{\"internalType\":\"address\",\"name\":\"_factory\",\"type\":\"address\"},{\"internalType\":\"address\",\"name\":\"_WETH\",\"type\":\"address\"}],\"stateMutability\":\"nonpayable\",\"type\":\"constructor\"},{\"inputs\":[],\"name\":\"WETH\",\"outputs\":[{\"internalType\":\"address\",\"name\":\"\",\"type\":\"address\"}],\"stateMutability\":\"view\",\"type\":\"function\"},{\"inputs\":[{\"internalType\":\"address\",\"name\":\"tokenA\",\"type\":\"address\"},{\"internalType\":\"address\",\"name\":\"tokenB\",\"type\":\"address\"},{\"internalType\":\"uint256\",\"name\":\"amountADesired\",\"type\":\"uint256\"},{\"internalType\":\"uint256\",\"name\":\"amountBDesired\",\"type\":\"uint256\"},{\"internalType\":\"uint256\",\"name\":\"amountAMin\",\"type\":\"uint256\"},{\"internalType\":\"uint256\",\"name\":\"amountBMin\",\"type\":\"uint256\"},{\"internalType\":\"address\",\"name\":\"to\",\"type\":\"address\"},{\"internalType\":\"uint256\",\"name\":\"deadline\",\"type\":\"uint256\"}],\"name\":\"addLiquidity\",\"outputs\":[{\"internalType\":\"uint256\",\"name\":\"amountA\",\"type\":\"uint256\"},{\"internalType\":\"uint256\",\"name\":\"amountB\",\"type\":\"uint256\"},{\"internalType\":\"uint256\",\"name\":\"liquidity\",\"type\":\"uint256\"}],\"stateMutability\":\"nonpayable\",\"type\":\"function\"},{\"inputs\":[{\"internalType\":\"address\",\"name\":\"token\",\"type\":\"address\"},{\"internalType\":\"uint256\",\"name\":\"amountTokenDesired\",\"type\":\"uint256\"},{\"internalType\":\"uint256\",\"name\":\"amountTokenMin\",\"type\":\"uint256\"},{\"internalType\":\"uint256\",\"name\":\"amountETHMin\",\"type\":\"uint256\"},{\"internalType\":\"address\",\"name\":\"to\",\"type\":\"address\"},{\"internalType\":\"uint256\",\"name\":\"deadline\",\"type\":\"uint256\"}],\"name\":\"addLiquidityETH\",\"outputs\":[{\"internalType\":\"uint256\",\"name\":\"amountToken\",\"type\":\"uint256\"},{\"internalType\":\"uint256\",\"name\":\"amountETH\",\"type\":\"uint256\"},{\"internalType\":\"uint256\",\"name\":\"liquidity\",\"type\":\"uint256\"}],\"stateMutability\":\"payable\",\"type\":\"function\"},{\"inputs\":[],\"name\":\"factory\",\"outputs\":[{\"internalType\":\"address\",\"name\":\"\",\"type\":\"address\"}],\"stateMutability\":\"view\",\"type\":\"function\"},{\"inputs\":[{\"internalType\":\"uint256\",\"name\":\"amountOut\",\"type\":\"uint256\"},{\"internalType\":\"uint256\",\"name\":\"reserveIn\",\"type\":\"uint256\"},{\"internalType\":\"uint256\",\"name\":\"reserveOut\",\"type\":\"uint256\"}],\"name\":\"getAmountIn\",\"outputs\":[{\"internalType\":\"uint256\",\"name\":\"amountIn\",\"type\":\"uint256\"}],\"stateMutability\":\"pure\",\"type\":\"function\"},{\"inputs\":[{\"internalType\":\"uint256\",\"name\":\"amountIn\",\"type\":\"uint256\"},{\"internalType\":\"uint256\",\"name\":\"reserveIn\",\"type\":\"uint256\"},{\"internalType\":\"uint256\",\"name\":\"reserveOut\",\"type\":\"uint256\"}],\"name\":\"getAmountOut\",\"outputs\":[{\"internalType\":\"uint256\",\"name\":\"amountOut\",\"type\":\"uint256\"}],\"stateMutability\":\"pure\",\"type\":\"function\"},{\"inputs\":[{\"internalType\":\"uint256\",\"name\":\"amountOut\",\"type\":\"uint256\"},{\"internalType\":\"address[]\",\"name\":\"path\",\"type\":\"address[]\"}],\"name\":\"getAmountsIn\",\"outputs\":[{\"internalType\":\"uint256[]\",\"name\":\"amounts\",\"type\":\"uint256[]\"}],\"stateMutability\":\"view\",\"type\":\"function\"},{\"inputs\":[{\"internalType\":\"uint256\",\"name\":\"amountIn\",\"type\":\"uint256\"},{\"internalType\":\"address[]\",\"name\":\"path\",\"type\":\"address[]\"}],\"name\":\"getAmountsOut\",\"outputs\":[{\"internalType\":\"uint256[]\",\"name\":\"amounts\",\"type\":\"uint256[]\"}],\"stateMutability\":\"view\",\"type\":\"function\"},{\"inputs\":[{\"internalType\":\"uint256\",\"name\":\"amountA\",\"type\":\"uint256\"},{\"internalType\":\"uint256\",\"name\":\"reserveA\",\"type\":\"uint256\"},{\"internalType\":\"uint256\",\"name\":\"reserveB\",\"type\":\"uint256\"}],\"name\":\"quote\",\"outputs\":[{\"internalType\":\"uint256\",\"name\":\"amountB\",\"type\":\"uint256\"}],\"stateMutability\":\"pure\",\"type\":\"function\"},{\"inputs\":[{\"internalType\":\"address\",\"name\":\"tokenA\",\"type\":\"address\"},{\"internalType\":\"address\",\"name\":\"tokenB\",\"type\":\"address\"},{\"internalType\":\"uint256\",\"name\":\"liquidity\",\"type\":\"uint256\"},{\"internalType\":\"uint256\",\"name\":\"amountAMin\",\"type\":\"uint256\"},{\"internalType\":\"uint256\",\"name\":\"amountBMin\",\"type\":\"uint256\"},{\"internalType\":\"address\",\"name\":\"to\",\"type\":\"address\"},{\"internalType\":\"uint256\",\"name\":\"deadline\",\"type\":\"uint256\"}],\"name\":\"removeLiquidity\",\"outputs\":[{\"internalType\":\"uint256\",\"name\":\"amountA\",\"type\":\"uint256\"},{\"internalType\":\"uint256\",\"name\":\"amountB\",\"type\":\"uint256\"}],\"stateMutability\":\"nonpayable\",\"type\":\"function\"},{\"inputs\":[{\"internalType\":\"address\",\"name\":\"token\",\"type\":\"address\"},{\"internalType\":\"uint256\",\"name\":\"liquidity\",\"type\":\"uint256\"},{\"internalType\":\"uint256\",\"name\":\"amountTokenMin\",\"type\":\"uint256\"},{\"internalType\":\"uint256\",\"name\":\"amountETHMin\",\"type\":\"uint256\"},{\"internalType\":\"address\",\"name\":\"to\",\"type\":\"address\"},{\"internalType\":\"uint256\",\"name\":\"deadline\",\"type\":\"uint256\"}],\"name\":\"removeLiquidityETH\",\"outputs\":[{\"internalType\":\"uint256\",\"name\":\"amountToken\",\"type\":\"uint256\"},{\"internalType\":\"uint256\",\"name\":\"amountETH\",\"type\":\"uint256\"}],\"stateMutability\":\"nonpayable\",\"type\":\"function\"},{\"inputs\":[{\"internalType\":\"address\",\"name\":\"token\",\"type\":\"address\"},{\"internalType\":\"uint256\",\"name\":\"liquidity\",\"type\":\"uint256\"},{\"internalType\":\"uint256\",\"name\":\"amountTokenMin\",\"type\":\"uint256\"},{\"internalType\":\"uint256\",\"name\":\"amountETHMin\",\"type\":\"uint256\"},{\"internalType\":\"address\",\"name\":\"to\",\"type\":\"address\"},{\"internalType\":\"uint256\",\"name\":\"deadline\",\"type\":\"uint256\"}],\"name\":\"removeLiquidityETHSupportingFeeOnTransferTokens\",\"outputs\":[{\"internalType\":\"uint256\",\"name\":\"amountETH\",\"type\":\"uint256\"}],\"stateMutability\":\"nonpayable\",\"type\":\"function\"},{\"inputs\":[{\"internalType\":\"address\",\"name\":\"token\",\"type\":\"address\"},{\"internalType\":\"uint256\",\"name\":\"liquidity\",\"type\":\"uint256\"},{\"internalType\":\"uint256\",\"name\":\"amountTokenMin\",\"type\":\"uint256\"},{\"internalType\":\"uint256\",\"name\":\"amountETHMin\",\"type\":\"uint256\"},{\"internalType\":\"address\",\"name\":\"to\",\"type\":\"address\"},{\"internalType\":\"uint256\",\"name\":\"deadline\",\"type\":\"uint256\"},{\"internalType\":\"bool\",\"name\":\"approveMax\",\"type\":\"bool\"},{\"internalType\":\"uint8\",\"name\":\"v\",\"type\":\"uint8\"},{\"internalType\":\"bytes32\",\"name\":\"r\",\"type\":\"bytes32\"},{\"internalType\":\"bytes32\",\"name\":\"s\",\"type\":\"bytes32\"}],\"name\":\"removeLiquidityETHWithPermit\",\"outputs\":[{\"internalType\":\"uint256\",\"name\":\"amountToken\",\"type\":\"uint256\"},{\"internalType\":\"uint256\",\"name\":\"amountETH\",\"type\":\"uint256\"}],\"stateMutability\":\"nonpayable\",\"type\":\"function\"},{\"inputs\":[{\"internalType\":\"address\",\"name\":\"token\",\"type\":\"address\"},{\"internalType\":\"uint256\",\"name\":\"liquidity\",\"type\":\"uint256\"},{\"internalType\":\"uint256\",\"name\":\"amountTokenMin\",\"type\":\"uint256\"},{\"internalType\":\"uint256\",\"name\":\"amountETHMin\",\"type\":\"uint256\"},{\"internalType\":\"address\",\"name\":\"to\",\"type\":\"address\"},{\"internalType\":\"uint256\",\"name\":\"deadline\",\"type\":\"uint256\"},{\"internalType\":\"bool\",\"name\":\"approveMax\",\"type\":\"bool\"},{\"internalType\":\"uint8\",\"name\":\"v\",\"type\":\"uint8\"},{\"internalType\":\"bytes32\",\"name\":\"r\",\"type\":\"bytes32\"},{\"internalType\":\"bytes32\",\"name\":\"s\",\"type\":\"bytes32\"}],\"name\":\"removeLiquidityETHWithPermitSupportingFeeOnTransferTokens\",\"outputs\":[{\"internalType\":\"uint256\",\"name\":\"amountETH\",\"type\":\"uint256\"}],\"stateMutability\":\"nonpayable\",\"type\":\"function\"},{\"inputs\":[{\"internalType\":\"address\",\"name\":\"tokenA\",\"type\":\"address\"},{\"internalType\":\"address\",\"name\":\"tokenB\",\"type\":\"address\"},{\"internalType\":\"uint256\",\"name\":\"liquidity\",\"type\":\"uint256\"},{\"internalType\":\"uint256\",\"name\":\"amountAMin\",\"type\":\"uint256\"},{\"internalType\":\"uint256\",\"name\":\"amountBMin\",\"type\":\"uint256\"},{\"internalType\":\"address\",\"name\":\"to\",\"type\":\"address\"},{\"internalType\":\"uint256\",\"name\":\"deadline\",\"type\":\"uint256\"},{\"internalType\":\"bool\",\"name\":\"approveMax\",\"type\":\"bool\"},{\"internalType\":\"uint8\",\"name\":\"v\",\"type\":\"uint8\"},{\"internalType\":\"bytes32\",\"name\":\"r\",\"type\":\"bytes32\"},{\"internalType\":\"bytes32\",\"name\":\"s\",\"type\":\"bytes32\"}],\"name\":\"removeLiquidityWithPermit\",\"outputs\":[{\"internalType\":\"uint256\",\"name\":\"amountA\",\"type\":\"uint256\"},{\"internalType\":\"uint256\",\"name\":\"amountB\",\"type\":\"uint256\"}],\"stateMutability\":\"nonpayable\",\"type\":\"function\"},{\"inputs\":[{\"internalType\":\"uint256\",\"name\":\"amountOut\",\"type\":\"uint256\"},{\"internalType\":\"address[]\",\"name\":\"path\",\"type\":\"address[]\"},{\"internalType\":\"address\",\"name\":\"to\",\"type\":\"address\"},{\"internalType\":\"uint256\",\"name\":\"deadline\",\"type\":\"uint256\"}],\"name\":\"swapETHForExactTokens\",\"outputs\":[{\"internalType\":\"uint256[]\",\"name\":\"amounts\",\"type\":\"uint256[]\"}],\"stateMutability\":\"payable\",\"type\":\"function\"},{\"inputs\":[{\"internalType\":\"uint256\",\"name\":\"amountOutMin\",\"type\":\"uint256\"},{\"internalType\":\"address[]\",\"name\":\"path\",\"type\":\"address[]\"},{\"internalType\":\"address\",\"name\":\"to\",\"type\":\"address\"},{\"internalType\":\"uint256\",\"name\":\"deadline\",\"type\":\"uint256\"}],\"name\":\"swapExactETHForTokens\",\"outputs\":[{\"internalType\":\"uint256[]\",\"name\":\"amounts\",\"type\":\"uint256[]\"}],\"stateMutability\":\"payable\",\"type\":\"function\"},{\"inputs\":[{\"internalType\":\"uint256\",\"name\":\"amountOutMin\",\"type\":\"uint256\"},{\"internalType\":\"address[]\",\"name\":\"path\",\"type\":\"address[]\"},{\"internalType\":\"address\",\"name\":\"to\",\"type\":\"address\"},{\"internalType\":\"uint256\",\"name\":\"deadline\",\"type\":\"uint256\"}],\"name\":\"swapExactETHForTokensSupportingFeeOnTransferTokens\",\"outputs\":[],\"stateMutability\":\"payable\",\"type\":\"function\"},{\"inputs\":[{\"internalType\":\"uint256\",\"name\":\"amountIn\",\"type\":\"uint256\"},{\"internalType\":\"uint256\",\"name\":\"amountOutMin\",\"type\":\"uint256\"},{\"internalType\":\"address[]\",\"name\":\"path\",\"type\":\"address[]\"},{\"internalType\":\"address\",\"name\":\"to\",\"type\":\"address\"},{\"internalType\":\"uint256\",\"name\":\"deadline\",\"type\":\"uint256\"}],\"name\":\"swapExactTokensForETH\",\"outputs\":[{\"internalType\":\"uint256[]\",\"name\":\"amounts\",\"type\":\"uint256[]\"}],\"stateMutability\":\"nonpayable\",\"type\":\"function\"},{\"inputs\":[{\"internalType\":\"uint256\",\"name\":\"amountIn\",\"type\":\"uint256\"},{\"internalType\":\"uint256\",\"name\":\"amountOutMin\",\"type\":\"uint256\"},{\"internalType\":\"address[]\",\"name\":\"path\",\"type\":\"address[]\"},{\"internalType\":\"address\",\"name\":\"to\",\"type\":\"address\"},{\"internalType\":\"uint256\",\"name\":\"deadline\",\"type\":\"uint256\"}],\"name\":\"swapExactTokensForETHSupportingFeeOnTransferTokens\",\"outputs\":[],\"stateMutability\":\"nonpayable\",\"type\":\"function\"},{\"inputs\":[{\"internalType\":\"uint256\",\"name\":\"amountIn\",\"type\":\"uint256\"},{\"internalType\":\"uint256\",\"name\":\"amountOutMin\",\"type\":\"uint256\"},{\"internalType\":\"address[]\",\"name\":\"path\",\"type\":\"address[]\"},{\"internalType\":\"address\",\"name\":\"to\",\"type\":\"address\"},{\"internalType\":\"uint256\",\"name\":\"deadline\",\"type\":\"uint256\"}],\"name\":\"swapExactTokensForTokens\",\"outputs\":[{\"internalType\":\"uint256[]\",\"name\":\"amounts\",\"type\":\"uint256[]\"}],\"stateMutability\":\"nonpayable\",\"type\":\"function\"},{\"inputs\":[{\"internalType\":\"uint256\",\"name\":\"amountIn\",\"type\":\"uint256\"},{\"internalType\":\"uint256\",\"name\":\"amountOutMin\",\"type\":\"uint256\"},{\"internalType\":\"address[]\",\"name\":\"path\",\"type\":\"address[]\"},{\"internalType\":\"address\",\"name\":\"to\",\"type\":\"address\"},{\"internalType\":\"uint256\",\"name\":\"deadline\",\"type\":\"uint256\"}],\"name\":\"swapExactTokensForTokensSupportingFeeOnTransferTokens\",\"outputs\":[],\"stateMutability\":\"nonpayable\",\"type\":\"function\"},{\"inputs\":[{\"internalType\":\"uint256\",\"name\":\"amountOut\",\"type\":\"uint256\"},{\"internalType\":\"uint256\",\"name\":\"amountInMax\",\"type\":\"uint256\"},{\"internalType\":\"address[]\",\"name\":\"path\",\"type\":\"address[]\"},{\"internalType\":\"address\",\"name\":\"to\",\"type\":\"address\"},{\"internalType\":\"uint256\",\"name\":\"deadline\",\"type\":\"uint256\"}],\"name\":\"swapTokensForExactETH\",\"outputs\":[{\"internalType\":\"uint256[]\",\"name\":\"amounts\",\"type\":\"uint256[]\"}],\"stateMutability\":\"nonpayable\",\"type\":\"function\"},{\"inputs\":[{\"internalType\":\"uint256\",\"name\":\"amountOut\",\"type\":\"uint256\"},{\"internalType\":\"uint256\",\"name\":\"amountInMax\",\"type\":\"uint256\"},{\"internalType\":\"address[]\",\"name\":\"path\",\"type\":\"address[]\"},{\"internalType\":\"address\",\"name\":\"to\",\"type\":\"address\"},{\"internalType\":\"uint256\",\"name\":\"deadline\",\"type\":\"uint256\"}],\"name\":\"swapTokensForExactTokens\",\"outputs\":[{\"internalType\":\"uint256[]\",\"name\":\"amounts\",\"type\":\"uint256[]\"}],\"stateMutability\":\"nonpayable\",\"type\":\"function\"},{\"stateMutability\":\"payable\",\"type\":\"receive\"}]'\n",
    "sushiuniPairABI='[{\"inputs\":[],\"stateMutability\":\"nonpayable\",\"type\":\"constructor\"},{\"anonymous\":false,\"inputs\":[{\"indexed\":true,\"internalType\":\"address\",\"name\":\"owner\",\"type\":\"address\"},{\"indexed\":true,\"internalType\":\"address\",\"name\":\"spender\",\"type\":\"address\"},{\"indexed\":false,\"internalType\":\"uint256\",\"name\":\"value\",\"type\":\"uint256\"}],\"name\":\"Approval\",\"type\":\"event\"},{\"anonymous\":false,\"inputs\":[{\"indexed\":true,\"internalType\":\"address\",\"name\":\"sender\",\"type\":\"address\"},{\"indexed\":false,\"internalType\":\"uint256\",\"name\":\"amount0\",\"type\":\"uint256\"},{\"indexed\":false,\"internalType\":\"uint256\",\"name\":\"amount1\",\"type\":\"uint256\"},{\"indexed\":true,\"internalType\":\"address\",\"name\":\"to\",\"type\":\"address\"}],\"name\":\"Burn\",\"type\":\"event\"},{\"anonymous\":false,\"inputs\":[{\"indexed\":true,\"internalType\":\"address\",\"name\":\"sender\",\"type\":\"address\"},{\"indexed\":false,\"internalType\":\"uint256\",\"name\":\"amount0\",\"type\":\"uint256\"},{\"indexed\":false,\"internalType\":\"uint256\",\"name\":\"amount1\",\"type\":\"uint256\"}],\"name\":\"Mint\",\"type\":\"event\"},{\"anonymous\":false,\"inputs\":[{\"indexed\":true,\"internalType\":\"address\",\"name\":\"sender\",\"type\":\"address\"},{\"indexed\":false,\"internalType\":\"uint256\",\"name\":\"amount0In\",\"type\":\"uint256\"},{\"indexed\":false,\"internalType\":\"uint256\",\"name\":\"amount1In\",\"type\":\"uint256\"},{\"indexed\":false,\"internalType\":\"uint256\",\"name\":\"amount0Out\",\"type\":\"uint256\"},{\"indexed\":false,\"internalType\":\"uint256\",\"name\":\"amount1Out\",\"type\":\"uint256\"},{\"indexed\":true,\"internalType\":\"address\",\"name\":\"to\",\"type\":\"address\"}],\"name\":\"Swap\",\"type\":\"event\"},{\"anonymous\":false,\"inputs\":[{\"indexed\":false,\"internalType\":\"uint112\",\"name\":\"reserve0\",\"type\":\"uint112\"},{\"indexed\":false,\"internalType\":\"uint112\",\"name\":\"reserve1\",\"type\":\"uint112\"}],\"name\":\"Sync\",\"type\":\"event\"},{\"anonymous\":false,\"inputs\":[{\"indexed\":true,\"internalType\":\"address\",\"name\":\"from\",\"type\":\"address\"},{\"indexed\":true,\"internalType\":\"address\",\"name\":\"to\",\"type\":\"address\"},{\"indexed\":false,\"internalType\":\"uint256\",\"name\":\"value\",\"type\":\"uint256\"}],\"name\":\"Transfer\",\"type\":\"event\"},{\"inputs\":[],\"name\":\"DOMAIN_SEPARATOR\",\"outputs\":[{\"internalType\":\"bytes32\",\"name\":\"\",\"type\":\"bytes32\"}],\"stateMutability\":\"view\",\"type\":\"function\"},{\"inputs\":[],\"name\":\"MINIMUM_LIQUIDITY\",\"outputs\":[{\"internalType\":\"uint256\",\"name\":\"\",\"type\":\"uint256\"}],\"stateMutability\":\"view\",\"type\":\"function\"},{\"inputs\":[],\"name\":\"PERMIT_TYPEHASH\",\"outputs\":[{\"internalType\":\"bytes32\",\"name\":\"\",\"type\":\"bytes32\"}],\"stateMutability\":\"view\",\"type\":\"function\"},{\"inputs\":[{\"internalType\":\"address\",\"name\":\"\",\"type\":\"address\"},{\"internalType\":\"address\",\"name\":\"\",\"type\":\"address\"}],\"name\":\"allowance\",\"outputs\":[{\"internalType\":\"uint256\",\"name\":\"\",\"type\":\"uint256\"}],\"stateMutability\":\"view\",\"type\":\"function\"},{\"inputs\":[{\"internalType\":\"address\",\"name\":\"spender\",\"type\":\"address\"},{\"internalType\":\"uint256\",\"name\":\"value\",\"type\":\"uint256\"}],\"name\":\"approve\",\"outputs\":[{\"internalType\":\"bool\",\"name\":\"\",\"type\":\"bool\"}],\"stateMutability\":\"nonpayable\",\"type\":\"function\"},{\"inputs\":[{\"internalType\":\"address\",\"name\":\"\",\"type\":\"address\"}],\"name\":\"balanceOf\",\"outputs\":[{\"internalType\":\"uint256\",\"name\":\"\",\"type\":\"uint256\"}],\"stateMutability\":\"view\",\"type\":\"function\"},{\"inputs\":[{\"internalType\":\"address\",\"name\":\"to\",\"type\":\"address\"}],\"name\":\"burn\",\"outputs\":[{\"internalType\":\"uint256\",\"name\":\"amount0\",\"type\":\"uint256\"},{\"internalType\":\"uint256\",\"name\":\"amount1\",\"type\":\"uint256\"}],\"stateMutability\":\"nonpayable\",\"type\":\"function\"},{\"inputs\":[],\"name\":\"decimals\",\"outputs\":[{\"internalType\":\"uint8\",\"name\":\"\",\"type\":\"uint8\"}],\"stateMutability\":\"view\",\"type\":\"function\"},{\"inputs\":[],\"name\":\"factory\",\"outputs\":[{\"internalType\":\"address\",\"name\":\"\",\"type\":\"address\"}],\"stateMutability\":\"view\",\"type\":\"function\"},{\"inputs\":[],\"name\":\"getReserves\",\"outputs\":[{\"internalType\":\"uint112\",\"name\":\"_reserve0\",\"type\":\"uint112\"},{\"internalType\":\"uint112\",\"name\":\"_reserve1\",\"type\":\"uint112\"},{\"internalType\":\"uint32\",\"name\":\"_blockTimestampLast\",\"type\":\"uint32\"}],\"stateMutability\":\"view\",\"type\":\"function\"},{\"inputs\":[{\"internalType\":\"address\",\"name\":\"_token0\",\"type\":\"address\"},{\"internalType\":\"address\",\"name\":\"_token1\",\"type\":\"address\"}],\"name\":\"initialize\",\"outputs\":[],\"stateMutability\":\"nonpayable\",\"type\":\"function\"},{\"inputs\":[],\"name\":\"kLast\",\"outputs\":[{\"internalType\":\"uint256\",\"name\":\"\",\"type\":\"uint256\"}],\"stateMutability\":\"view\",\"type\":\"function\"},{\"inputs\":[{\"internalType\":\"address\",\"name\":\"to\",\"type\":\"address\"}],\"name\":\"mint\",\"outputs\":[{\"internalType\":\"uint256\",\"name\":\"liquidity\",\"type\":\"uint256\"}],\"stateMutability\":\"nonpayable\",\"type\":\"function\"},{\"inputs\":[],\"name\":\"name\",\"outputs\":[{\"internalType\":\"string\",\"name\":\"\",\"type\":\"string\"}],\"stateMutability\":\"view\",\"type\":\"function\"},{\"inputs\":[{\"internalType\":\"address\",\"name\":\"\",\"type\":\"address\"}],\"name\":\"nonces\",\"outputs\":[{\"internalType\":\"uint256\",\"name\":\"\",\"type\":\"uint256\"}],\"stateMutability\":\"view\",\"type\":\"function\"},{\"inputs\":[{\"internalType\":\"address\",\"name\":\"owner\",\"type\":\"address\"},{\"internalType\":\"address\",\"name\":\"spender\",\"type\":\"address\"},{\"internalType\":\"uint256\",\"name\":\"value\",\"type\":\"uint256\"},{\"internalType\":\"uint256\",\"name\":\"deadline\",\"type\":\"uint256\"},{\"internalType\":\"uint8\",\"name\":\"v\",\"type\":\"uint8\"},{\"internalType\":\"bytes32\",\"name\":\"r\",\"type\":\"bytes32\"},{\"internalType\":\"bytes32\",\"name\":\"s\",\"type\":\"bytes32\"}],\"name\":\"permit\",\"outputs\":[],\"stateMutability\":\"nonpayable\",\"type\":\"function\"},{\"inputs\":[],\"name\":\"price0CumulativeLast\",\"outputs\":[{\"internalType\":\"uint256\",\"name\":\"\",\"type\":\"uint256\"}],\"stateMutability\":\"view\",\"type\":\"function\"},{\"inputs\":[],\"name\":\"price1CumulativeLast\",\"outputs\":[{\"internalType\":\"uint256\",\"name\":\"\",\"type\":\"uint256\"}],\"stateMutability\":\"view\",\"type\":\"function\"},{\"inputs\":[{\"internalType\":\"address\",\"name\":\"to\",\"type\":\"address\"}],\"name\":\"skim\",\"outputs\":[],\"stateMutability\":\"nonpayable\",\"type\":\"function\"},{\"inputs\":[{\"internalType\":\"uint256\",\"name\":\"amount0Out\",\"type\":\"uint256\"},{\"internalType\":\"uint256\",\"name\":\"amount1Out\",\"type\":\"uint256\"},{\"internalType\":\"address\",\"name\":\"to\",\"type\":\"address\"},{\"internalType\":\"bytes\",\"name\":\"data\",\"type\":\"bytes\"}],\"name\":\"swap\",\"outputs\":[],\"stateMutability\":\"nonpayable\",\"type\":\"function\"},{\"inputs\":[],\"name\":\"symbol\",\"outputs\":[{\"internalType\":\"string\",\"name\":\"\",\"type\":\"string\"}],\"stateMutability\":\"view\",\"type\":\"function\"},{\"inputs\":[],\"name\":\"sync\",\"outputs\":[],\"stateMutability\":\"nonpayable\",\"type\":\"function\"},{\"inputs\":[],\"name\":\"token0\",\"outputs\":[{\"internalType\":\"address\",\"name\":\"\",\"type\":\"address\"}],\"stateMutability\":\"view\",\"type\":\"function\"},{\"inputs\":[],\"name\":\"token1\",\"outputs\":[{\"internalType\":\"address\",\"name\":\"\",\"type\":\"address\"}],\"stateMutability\":\"view\",\"type\":\"function\"},{\"inputs\":[],\"name\":\"totalSupply\",\"outputs\":[{\"internalType\":\"uint256\",\"name\":\"\",\"type\":\"uint256\"}],\"stateMutability\":\"view\",\"type\":\"function\"},{\"inputs\":[{\"internalType\":\"address\",\"name\":\"to\",\"type\":\"address\"},{\"internalType\":\"uint256\",\"name\":\"value\",\"type\":\"uint256\"}],\"name\":\"transfer\",\"outputs\":[{\"internalType\":\"bool\",\"name\":\"\",\"type\":\"bool\"}],\"stateMutability\":\"nonpayable\",\"type\":\"function\"},{\"inputs\":[{\"internalType\":\"address\",\"name\":\"from\",\"type\":\"address\"},{\"internalType\":\"address\",\"name\":\"to\",\"type\":\"address\"},{\"internalType\":\"uint256\",\"name\":\"value\",\"type\":\"uint256\"}],\"name\":\"transferFrom\",\"outputs\":[{\"internalType\":\"bool\",\"name\":\"\",\"type\":\"bool\"}],\"stateMutability\":\"nonpayable\",\"type\":\"function\"}]'\n",
    "erc20ABI='[{\"constant\":true,\"inputs\":[],\"name\":\"name\",\"outputs\":[{\"name\":\"\",\"type\":\"string\"}],\"payable\":false,\"stateMutability\":\"view\",\"type\":\"function\"},{\"constant\":false,\"inputs\":[{\"name\":\"guy\",\"type\":\"address\"},{\"name\":\"wad\",\"type\":\"uint256\"}],\"name\":\"approve\",\"outputs\":[{\"name\":\"\",\"type\":\"bool\"}],\"payable\":false,\"stateMutability\":\"nonpayable\",\"type\":\"function\"},{\"constant\":true,\"inputs\":[],\"name\":\"totalSupply\",\"outputs\":[{\"name\":\"\",\"type\":\"uint256\"}],\"payable\":false,\"stateMutability\":\"view\",\"type\":\"function\"},{\"constant\":false,\"inputs\":[{\"name\":\"src\",\"type\":\"address\"},{\"name\":\"dst\",\"type\":\"address\"},{\"name\":\"wad\",\"type\":\"uint256\"}],\"name\":\"transferFrom\",\"outputs\":[{\"name\":\"\",\"type\":\"bool\"}],\"payable\":false,\"stateMutability\":\"nonpayable\",\"type\":\"function\"},{\"constant\":false,\"inputs\":[{\"name\":\"wad\",\"type\":\"uint256\"}],\"name\":\"withdraw\",\"outputs\":[],\"payable\":false,\"stateMutability\":\"nonpayable\",\"type\":\"function\"},{\"constant\":true,\"inputs\":[],\"name\":\"decimals\",\"outputs\":[{\"name\":\"\",\"type\":\"uint8\"}],\"payable\":false,\"stateMutability\":\"view\",\"type\":\"function\"},{\"constant\":true,\"inputs\":[{\"name\":\"\",\"type\":\"address\"}],\"name\":\"balanceOf\",\"outputs\":[{\"name\":\"\",\"type\":\"uint256\"}],\"payable\":false,\"stateMutability\":\"view\",\"type\":\"function\"},{\"constant\":true,\"inputs\":[],\"name\":\"symbol\",\"outputs\":[{\"name\":\"\",\"type\":\"string\"}],\"payable\":false,\"stateMutability\":\"view\",\"type\":\"function\"},{\"constant\":false,\"inputs\":[{\"name\":\"dst\",\"type\":\"address\"},{\"name\":\"wad\",\"type\":\"uint256\"}],\"name\":\"transfer\",\"outputs\":[{\"name\":\"\",\"type\":\"bool\"}],\"payable\":false,\"stateMutability\":\"nonpayable\",\"type\":\"function\"},{\"constant\":false,\"inputs\":[],\"name\":\"deposit\",\"outputs\":[],\"payable\":true,\"stateMutability\":\"payable\",\"type\":\"function\"},{\"constant\":true,\"inputs\":[{\"name\":\"\",\"type\":\"address\"},{\"name\":\"\",\"type\":\"address\"}],\"name\":\"allowance\",\"outputs\":[{\"name\":\"\",\"type\":\"uint256\"}],\"payable\":false,\"stateMutability\":\"view\",\"type\":\"function\"},{\"payable\":true,\"stateMutability\":\"payable\",\"type\":\"fallback\"},{\"anonymous\":false,\"inputs\":[{\"indexed\":true,\"name\":\"src\",\"type\":\"address\"},{\"indexed\":true,\"name\":\"guy\",\"type\":\"address\"},{\"indexed\":false,\"name\":\"wad\",\"type\":\"uint256\"}],\"name\":\"Approval\",\"type\":\"event\"},{\"anonymous\":false,\"inputs\":[{\"indexed\":true,\"name\":\"src\",\"type\":\"address\"},{\"indexed\":true,\"name\":\"dst\",\"type\":\"address\"},{\"indexed\":false,\"name\":\"wad\",\"type\":\"uint256\"}],\"name\":\"Transfer\",\"type\":\"event\"},{\"anonymous\":false,\"inputs\":[{\"indexed\":true,\"name\":\"dst\",\"type\":\"address\"},{\"indexed\":false,\"name\":\"wad\",\"type\":\"uint256\"}],\"name\":\"Deposit\",\"type\":\"event\"},{\"anonymous\":false,\"inputs\":[{\"indexed\":true,\"name\":\"src\",\"type\":\"address\"},{\"indexed\":false,\"name\":\"wad\",\"type\":\"uint256\"}],\"name\":\"Withdrawal\",\"type\":\"event\"}]'\n",
    "bondContractABI='[{\"inputs\":[{\"internalType\":\"address\",\"name\":\"_customTreasury\",\"type\":\"address\"},{\"internalType\":\"address\",\"name\":\"_payoutToken\",\"type\":\"address\"},{\"internalType\":\"address\",\"name\":\"_principalToken\",\"type\":\"address\"},{\"internalType\":\"address\",\"name\":\"_olympusTreasury\",\"type\":\"address\"},{\"internalType\":\"address\",\"name\":\"_subsidyRouter\",\"type\":\"address\"},{\"internalType\":\"address\",\"name\":\"_initialOwner\",\"type\":\"address\"},{\"internalType\":\"address\",\"name\":\"_olympusDAO\",\"type\":\"address\"},{\"internalType\":\"uint256[]\",\"name\":\"_tierCeilings\",\"type\":\"uint256[]\"},{\"internalType\":\"uint256[]\",\"name\":\"_fees\",\"type\":\"uint256[]\"}],\"stateMutability\":\"nonpayable\",\"type\":\"constructor\"},{\"anonymous\":false,\"inputs\":[{\"indexed\":false,\"internalType\":\"uint256\",\"name\":\"deposit\",\"type\":\"uint256\"},{\"indexed\":false,\"internalType\":\"uint256\",\"name\":\"payout\",\"type\":\"uint256\"},{\"indexed\":false,\"internalType\":\"uint256\",\"name\":\"expires\",\"type\":\"uint256\"}],\"name\":\"BondCreated\",\"type\":\"event\"},{\"anonymous\":false,\"inputs\":[{\"indexed\":false,\"internalType\":\"uint256\",\"name\":\"internalPrice\",\"type\":\"uint256\"},{\"indexed\":false,\"internalType\":\"uint256\",\"name\":\"debtRatio\",\"type\":\"uint256\"}],\"name\":\"BondPriceChanged\",\"type\":\"event\"},{\"anonymous\":false,\"inputs\":[{\"indexed\":false,\"internalType\":\"address\",\"name\":\"recipient\",\"type\":\"address\"},{\"indexed\":false,\"internalType\":\"uint256\",\"name\":\"payout\",\"type\":\"uint256\"},{\"indexed\":false,\"internalType\":\"uint256\",\"name\":\"remaining\",\"type\":\"uint256\"}],\"name\":\"BondRedeemed\",\"type\":\"event\"},{\"anonymous\":false,\"inputs\":[{\"indexed\":false,\"internalType\":\"uint256\",\"name\":\"initialBCV\",\"type\":\"uint256\"},{\"indexed\":false,\"internalType\":\"uint256\",\"name\":\"newBCV\",\"type\":\"uint256\"},{\"indexed\":false,\"internalType\":\"uint256\",\"name\":\"adjustment\",\"type\":\"uint256\"},{\"indexed\":false,\"internalType\":\"bool\",\"name\":\"addition\",\"type\":\"bool\"}],\"name\":\"ControlVariableAdjustment\",\"type\":\"event\"},{\"inputs\":[],\"name\":\"adjustment\",\"outputs\":[{\"internalType\":\"bool\",\"name\":\"add\",\"type\":\"bool\"},{\"internalType\":\"uint256\",\"name\":\"rate\",\"type\":\"uint256\"},{\"internalType\":\"uint256\",\"name\":\"target\",\"type\":\"uint256\"},{\"internalType\":\"uint256\",\"name\":\"buffer\",\"type\":\"uint256\"},{\"internalType\":\"uint256\",\"name\":\"lastBlock\",\"type\":\"uint256\"}],\"stateMutability\":\"view\",\"type\":\"function\"},{\"inputs\":[{\"internalType\":\"address\",\"name\":\"\",\"type\":\"address\"}],\"name\":\"bondInfo\",\"outputs\":[{\"internalType\":\"uint256\",\"name\":\"payout\",\"type\":\"uint256\"},{\"internalType\":\"uint256\",\"name\":\"vesting\",\"type\":\"uint256\"},{\"internalType\":\"uint256\",\"name\":\"lastBlock\",\"type\":\"uint256\"},{\"internalType\":\"uint256\",\"name\":\"truePricePaid\",\"type\":\"uint256\"}],\"stateMutability\":\"view\",\"type\":\"function\"},{\"inputs\":[],\"name\":\"bondPrice\",\"outputs\":[{\"internalType\":\"uint256\",\"name\":\"price_\",\"type\":\"uint256\"}],\"stateMutability\":\"view\",\"type\":\"function\"},{\"inputs\":[{\"internalType\":\"address\",\"name\":\"_olympusTreasury\",\"type\":\"address\"}],\"name\":\"changeOlympusTreasury\",\"outputs\":[],\"stateMutability\":\"nonpayable\",\"type\":\"function\"},{\"inputs\":[],\"name\":\"currentDebt\",\"outputs\":[{\"internalType\":\"uint256\",\"name\":\"\",\"type\":\"uint256\"}],\"stateMutability\":\"view\",\"type\":\"function\"},{\"inputs\":[],\"name\":\"currentOlympusFee\",\"outputs\":[{\"internalType\":\"uint256\",\"name\":\"currentFee_\",\"type\":\"uint256\"}],\"stateMutability\":\"view\",\"type\":\"function\"},{\"inputs\":[],\"name\":\"debtDecay\",\"outputs\":[{\"internalType\":\"uint256\",\"name\":\"decay_\",\"type\":\"uint256\"}],\"stateMutability\":\"view\",\"type\":\"function\"},{\"inputs\":[],\"name\":\"debtRatio\",\"outputs\":[{\"internalType\":\"uint256\",\"name\":\"debtRatio_\",\"type\":\"uint256\"}],\"stateMutability\":\"view\",\"type\":\"function\"},{\"inputs\":[{\"internalType\":\"uint256\",\"name\":\"_amount\",\"type\":\"uint256\"},{\"internalType\":\"uint256\",\"name\":\"_maxPrice\",\"type\":\"uint256\"},{\"internalType\":\"address\",\"name\":\"_depositor\",\"type\":\"address\"}],\"name\":\"deposit\",\"outputs\":[{\"internalType\":\"uint256\",\"name\":\"\",\"type\":\"uint256\"}],\"stateMutability\":\"nonpayable\",\"type\":\"function\"},{\"inputs\":[{\"internalType\":\"uint256\",\"name\":\"_controlVariable\",\"type\":\"uint256\"},{\"internalType\":\"uint256\",\"name\":\"_vestingTerm\",\"type\":\"uint256\"},{\"internalType\":\"uint256\",\"name\":\"_minimumPrice\",\"type\":\"uint256\"},{\"internalType\":\"uint256\",\"name\":\"_maxPayout\",\"type\":\"uint256\"},{\"internalType\":\"uint256\",\"name\":\"_maxDebt\",\"type\":\"uint256\"},{\"internalType\":\"uint256\",\"name\":\"_initialDebt\",\"type\":\"uint256\"}],\"name\":\"initializeBond\",\"outputs\":[],\"stateMutability\":\"nonpayable\",\"type\":\"function\"},{\"inputs\":[],\"name\":\"lastDecay\",\"outputs\":[{\"internalType\":\"uint256\",\"name\":\"\",\"type\":\"uint256\"}],\"stateMutability\":\"view\",\"type\":\"function\"},{\"inputs\":[],\"name\":\"maxPayout\",\"outputs\":[{\"internalType\":\"uint256\",\"name\":\"\",\"type\":\"uint256\"}],\"stateMutability\":\"view\",\"type\":\"function\"},{\"inputs\":[],\"name\":\"paySubsidy\",\"outputs\":[{\"internalType\":\"uint256\",\"name\":\"payoutSinceLastSubsidy_\",\"type\":\"uint256\"}],\"stateMutability\":\"nonpayable\",\"type\":\"function\"},{\"inputs\":[{\"internalType\":\"uint256\",\"name\":\"_value\",\"type\":\"uint256\"}],\"name\":\"payoutFor\",\"outputs\":[{\"internalType\":\"uint256\",\"name\":\"\",\"type\":\"uint256\"}],\"stateMutability\":\"view\",\"type\":\"function\"},{\"inputs\":[{\"internalType\":\"address\",\"name\":\"_depositor\",\"type\":\"address\"}],\"name\":\"pendingPayoutFor\",\"outputs\":[{\"internalType\":\"uint256\",\"name\":\"pendingPayout_\",\"type\":\"uint256\"}],\"stateMutability\":\"view\",\"type\":\"function\"},{\"inputs\":[{\"internalType\":\"address\",\"name\":\"_depositor\",\"type\":\"address\"}],\"name\":\"percentVestedFor\",\"outputs\":[{\"internalType\":\"uint256\",\"name\":\"percentVested_\",\"type\":\"uint256\"}],\"stateMutability\":\"view\",\"type\":\"function\"},{\"inputs\":[],\"name\":\"policy\",\"outputs\":[{\"internalType\":\"address\",\"name\":\"\",\"type\":\"address\"}],\"stateMutability\":\"view\",\"type\":\"function\"},{\"inputs\":[{\"internalType\":\"address\",\"name\":\"_depositor\",\"type\":\"address\"}],\"name\":\"redeem\",\"outputs\":[{\"internalType\":\"uint256\",\"name\":\"\",\"type\":\"uint256\"}],\"stateMutability\":\"nonpayable\",\"type\":\"function\"},{\"inputs\":[{\"internalType\":\"bool\",\"name\":\"_addition\",\"type\":\"bool\"},{\"internalType\":\"uint256\",\"name\":\"_increment\",\"type\":\"uint256\"},{\"internalType\":\"uint256\",\"name\":\"_target\",\"type\":\"uint256\"},{\"internalType\":\"uint256\",\"name\":\"_buffer\",\"type\":\"uint256\"}],\"name\":\"setAdjustment\",\"outputs\":[],\"stateMutability\":\"nonpayable\",\"type\":\"function\"},{\"inputs\":[{\"internalType\":\"enum CustomBond.PARAMETER\",\"name\":\"_parameter\",\"type\":\"uint8\"},{\"internalType\":\"uint256\",\"name\":\"_input\",\"type\":\"uint256\"}],\"name\":\"setBondTerms\",\"outputs\":[],\"stateMutability\":\"nonpayable\",\"type\":\"function\"},{\"inputs\":[],\"name\":\"terms\",\"outputs\":[{\"internalType\":\"uint256\",\"name\":\"controlVariable\",\"type\":\"uint256\"},{\"internalType\":\"uint256\",\"name\":\"vestingTerm\",\"type\":\"uint256\"},{\"internalType\":\"uint256\",\"name\":\"minimumPrice\",\"type\":\"uint256\"},{\"internalType\":\"uint256\",\"name\":\"maxPayout\",\"type\":\"uint256\"},{\"internalType\":\"uint256\",\"name\":\"maxDebt\",\"type\":\"uint256\"}],\"stateMutability\":\"view\",\"type\":\"function\"},{\"inputs\":[],\"name\":\"totalDebt\",\"outputs\":[{\"internalType\":\"uint256\",\"name\":\"\",\"type\":\"uint256\"}],\"stateMutability\":\"view\",\"type\":\"function\"},{\"inputs\":[],\"name\":\"totalPayoutGiven\",\"outputs\":[{\"internalType\":\"uint256\",\"name\":\"\",\"type\":\"uint256\"}],\"stateMutability\":\"view\",\"type\":\"function\"},{\"inputs\":[],\"name\":\"totalPrincipalBonded\",\"outputs\":[{\"internalType\":\"uint256\",\"name\":\"\",\"type\":\"uint256\"}],\"stateMutability\":\"view\",\"type\":\"function\"},{\"inputs\":[{\"internalType\":\"address\",\"name\":\"_newOwner\",\"type\":\"address\"}],\"name\":\"transferManagment\",\"outputs\":[],\"stateMutability\":\"nonpayable\",\"type\":\"function\"},{\"inputs\":[],\"name\":\"trueBondPrice\",\"outputs\":[{\"internalType\":\"uint256\",\"name\":\"price_\",\"type\":\"uint256\"}],\"stateMutability\":\"view\",\"type\":\"function\"}]'\n",
    "\n",
    "ALCX=web3.eth.contract(ALCX_address, abi=erc20ABI)\n",
    "ALCXETHpool=web3.eth.contract(ALCXETH_pool, abi=sushiuniPairABI)\n",
    "sushiswapQuoter = web3.eth.contract(address=sushiswapQuoterContract,abi=sushiuniABI)\n",
    "\n",
    "bondContract_WETHALCX=web3.eth.contract(bondContract_WETHALCX_address,abi=bondContractABI)\n",
    "bondContract_DAIALCX=web3.eth.contract(bondContract_DAIALCX_address,abi=bondContractABI)\n",
    "bondContract_CVXALCX=web3.eth.contract(bondContract_CVXALCX_address,abi=bondContractABI)\n",
    "bondContract_ALCXETHSLP=web3.eth.contract(bondContract_ALCXETHSLP_address,abi=bondContractABI)"
   ]
  },
  {
   "cell_type": "code",
   "execution_count": 24,
   "id": "b803f012",
   "metadata": {
    "code_folding": [
     0
    ]
   },
   "outputs": [],
   "source": [
    "############Functions##################\n",
    "def getAmountsOut_1inch(amountIn,\n",
    "                        swapPath=[\"0xdBdb4d16EdA451D0503b854CF79D55697F90c8DF\",\"0xC02aaA39b223FE8D0A0e5C4F27eAD9083C756Cc2\"]\n",
    "                        ):\n",
    "    oneinchQuoteAPI = ('https://api.1inch.exchange/v4.0/1/quote?'+\n",
    "                       'fromTokenAddress='+swapPath[0]+'&'+\n",
    "                       'toTokenAddress='+swapPath[1]+'&'+\n",
    "                        'amount='+str(int(amountIn)))\n",
    "    oneinchQuoteResponse = requests.get(oneinchQuoteAPI)\n",
    "    oneinchQuoteResponse = oneinchQuoteResponse.json()\n",
    "    #print(oneinchQuoteResponse['estimatedGas'])\n",
    "    swapPath = oneinchQuoteResponse['protocols'][0]\n",
    "    swapPathDict=[]\n",
    "    for x in range(len(swapPath)):\n",
    "        swapPathDict.append(swapPath[x][0])\n",
    "    swapPathDict\n",
    "    return [int(oneinchQuoteResponse['fromTokenAmount']),int(oneinchQuoteResponse['toTokenAmount']),swapPathDict]\n",
    "\n",
    "def checkSwap(amountIn,token):\n",
    "    global path\n",
    "    amountIn = int(amountIn)\n",
    "    if amountIn > 0:\n",
    "        if token=='WETH':\n",
    "            path=[ALCX_address,tokenDict[token]]\n",
    "            oneinchquote=getAmountsOut_1inch(amountIn,path)\n",
    "            amountOut=oneinchquote[1]\n",
    "            swapPath=oneinchquote[2]\n",
    "        if token=='DAI':\n",
    "            path=[ALCX_address,tokenDict[token]]\n",
    "            oneinchquote=getAmountsOut_1inch(amountIn,path)\n",
    "            amountOut=oneinchquote[1]\n",
    "            swapPath=oneinchquote[2]\n",
    "        if token=='CVX':\n",
    "            path=[ALCX_address,tokenDict[token]]\n",
    "            oneinchquote=getAmountsOut_1inch(amountIn,path)\n",
    "            amountOut=oneinchquote[1]\n",
    "            swapPath=oneinchquote[2]\n",
    "        if token=='ALCX-ETH SLP':\n",
    "            #convert 50% of ALCX to WETH\n",
    "            path=[ALCX_address,WETH_address]\n",
    "            oneinchquote=getAmountsOut_1inch(amountIn,path)\n",
    "            amounts=getAmountsOut_1inch(int(Decimal(amountIn)/2),path)[0:2]\n",
    "            swapPath=oneinchquote[2]\n",
    "            reserves=ALCXETHpool.functions.getReserves().call()\n",
    "            reserveA=reserves[0]\n",
    "            reserveB=reserves[1]\n",
    "            LPa=(amounts[1])/reserveA*ALCXETHpool.functions.totalSupply().call()\n",
    "            LPb=(amounts[0])/reserveB*ALCXETHpool.functions.totalSupply().call()\n",
    "            amountOut=[min(LPa,LPb),amounts[1]]\n",
    "    else:\n",
    "        amountOut=0\n",
    "        swapPath={}\n",
    "    #print('spending compute')\n",
    "    return [amountOut,swapPath]"
   ]
  },
  {
   "cell_type": "code",
   "execution_count": 27,
   "id": "aec2a57c",
   "metadata": {
    "code_folding": [
     0
    ],
    "scrolled": false
   },
   "outputs": [
    {
     "data": {
      "application/vnd.jupyter.widget-view+json": {
       "model_id": "b42cf44b572e4561ae30f084fbefe66d",
       "version_major": 2,
       "version_minor": 0
      },
      "text/plain": [
       "VBox(children=(Label(value='[Current block: 14065849]'), Text(value='0xeEEC0e4927704ab3BBE5df7F4EfFa818b43665a…"
      ]
     },
     "metadata": {},
     "output_type": "display_data"
    }
   ],
   "source": [
    "###########Settings###################\n",
    "fromAccount=ns.address(\"overkoalafied.eth\")\n",
    "redeemSwapLPBondAddress=\"0x000000000000000000000000000000000000dead\"\n",
    "#Set Max Slippages\n",
    "swapSlippage=0.005 #to match sushiswap set = 0.005 (0.5%), this gets handled on 1inch api\n",
    "addLiquiditySlippage=0.005 #to match zapper default = 0.02 (2%)\n",
    "deadlineMinutes=5 #5 minutes before tx is invalid, immediately fails stale orders\n",
    "######################################\n",
    "debugMode=False\n",
    "\n",
    "redeemSwapLPBondContract=web3.eth.contract(Web3.toChecksumAddress(redeemSwapLPBondAddress), abi=reedeemSwapLPBondABI)\n",
    "\n",
    "olympusFee = bondContract_WETHALCX.functions.currentOlympusFee().call()\n",
    "\n",
    "pendingBond_WETHALCX=bondContract_WETHALCX.functions.bondInfo(fromAccount).call()[0]\n",
    "claimableBond_WETHALCX=bondContract_WETHALCX.functions.pendingPayoutFor(fromAccount).call()\n",
    "maxInput_WETHALCX=(bondContract_WETHALCX.functions.maxPayout().call()*bondContract_WETHALCX.functions.bondPrice().call()/10**7/(1-olympusFee/10**6))\n",
    "maxPayout_WETHALCX=bondContract_WETHALCX.functions.maxPayout().call()\n",
    "\n",
    "pendingBond_DAIALCX=bondContract_DAIALCX.functions.bondInfo(fromAccount).call()[0]\n",
    "claimableBond_DAIALCX=bondContract_DAIALCX.functions.pendingPayoutFor(fromAccount).call()\n",
    "maxInput_DAIALCX=(bondContract_DAIALCX.functions.maxPayout().call()*bondContract_DAIALCX.functions.bondPrice().call()/10**7/(1-olympusFee/10**6))\n",
    "maxPayout_DAIALCX=bondContract_DAIALCX.functions.maxPayout().call()\n",
    "\n",
    "pendingBond_CVXALCX=bondContract_CVXALCX.functions.bondInfo(fromAccount).call()[0]\n",
    "claimableBond_CVXALCX=bondContract_CVXALCX.functions.pendingPayoutFor(fromAccount).call()\n",
    "maxInput_CVXALCX=(bondContract_CVXALCX.functions.maxPayout().call()*bondContract_CVXALCX.functions.bondPrice().call()/10**7/(1-olympusFee/10**6))\n",
    "maxPayout_CVXALCX=bondContract_CVXALCX.functions.maxPayout().call()\n",
    "\n",
    "pendingBond_ALCXETHSLP=bondContract_ALCXETHSLP.functions.bondInfo(fromAccount).call()[0]\n",
    "claimableBond_ALCXETHSLP=bondContract_ALCXETHSLP.functions.pendingPayoutFor(fromAccount).call()\n",
    "maxInput_ALCXETHSLP=(bondContract_ALCXETHSLP.functions.maxPayout().call()*bondContract_ALCXETHSLP.functions.bondPrice().call()/10**7/(1-olympusFee/10**6))\n",
    "maxPayout_ALCXETHSLP=bondContract_ALCXETHSLP.functions.maxPayout().call()\n",
    "\n",
    "walletBalance=ALCX.functions.balanceOf(fromAccount).call()\n",
    "\n",
    "def generateMulticall(b):\n",
    "    #redeems\n",
    "    calldata=[]\n",
    "    deadline=(math.floor(time.time())+60*deadlineMinutes) #5 minmutes to exeucte\n",
    "    \n",
    "    redeems=[]\n",
    "    if WETHadd>0:\n",
    "        redeems.append(bondContract_WETHALCX.address)\n",
    "    if DAIadd>0:\n",
    "        redeems.append(bondContract_DAIALCX.address)\n",
    "    if CVXadd>0:\n",
    "        redeems.append(bondContract_CVXALCX.address)\n",
    "    if ALCXETHadd>0:\n",
    "        redeems.append(bondContract_ALCXETHSLP.address)\n",
    "    \n",
    "    slippages=[]\n",
    "    if symbol == 'ALCX-ETH SLP':\n",
    "        slippages.append(int(amountIn*10**18*(1-addLiquiditySlippage)))\n",
    "        slippages.append(int(amountOut*10**18*(1-addLiquiditySlippage)))\n",
    "    else:\n",
    "        slippages.append(0)\n",
    "        slippages.append(0)\n",
    "    slippages.append(deadline)\n",
    "    slippages.append(trueBondPrice+5000)\n",
    "    \n",
    "    #GENERATE 1 INCH CALLDATA                    \n",
    "    oneinchOutputToken = WETH_address if symbol == \"ALCX-ETH SLP\" else tokenDict[symbol] \n",
    "    oneinchSwapAPI = ('https://api.1inch.exchange/v4.0/1/swap?'+\n",
    "        'fromTokenAddress='+ALCX_address+'&'+\n",
    "        'toTokenAddress='+oneinchOutputToken+'&'+\n",
    "        'fromAddress='+redeemSwapLPBondAddress+'&'+\n",
    "        'amount='+str(int(amountIn))+'&'+\n",
    "        'slippage='+str(swapSlippage*100)+'&'+\n",
    "        'disableEstimate=true')\n",
    "    oneinchSwapResponse = requests.get(oneinchSwapAPI)\n",
    "    oneinchSwapResponse = oneinchSwapResponse.json()\n",
    "    oneinchcalldata = oneinchSwapResponse['tx']['data']\n",
    "                \n",
    "    if amountIn>0:\n",
    "        if symbol == 'ALCX-ETH SLP':           \n",
    "            structIn={'redeems': redeems, \n",
    "              'slippages': slippages,\n",
    "              'amountIn': int(Decimal(amountIn)*2),\n",
    "              'tokenIn': path[0],\n",
    "              'tokenOut': path[1],\n",
    "              'swapPayload': web3.toBytes(hexstr=oneinchcalldata),\n",
    "              'LP': True,\n",
    "              'poolAddress': ALCXETH_pool,\n",
    "              'bondContractAddress': bondContractAddress\n",
    "             }\n",
    "            rSLBCdetails=redeemSwapLPBondContract.functions.redeemSwapLPBond(structIn).buildTransaction({'gas':0})\n",
    "            decoded_data=redeemSwapLPBondContract.decode_function_input(rSLBCdetails['data'])\n",
    "            rSLBCDict={'type': 'rsLBC', 'to': rSLBCdetails['to'],'data': rSLBCdetails['data'], 'decode': decoded_data}\n",
    "            calldata.append(rSLBCDict)\n",
    "        else:\n",
    "            structIn={'redeems': redeems, \n",
    "              'slippages': slippages,\n",
    "              'amountIn': int(amountIn),\n",
    "              'tokenIn': path[0],\n",
    "              'tokenOut': path[1],\n",
    "              'swapPayload': web3.toBytes(hexstr=oneinchcalldata),\n",
    "              'LP': False,\n",
    "              'poolAddress': \"0x0000000000000000000000000000000000000000\",\n",
    "              'bondContractAddress': bondContractAddress\n",
    "             }\n",
    "            rSLBCdetails=redeemSwapLPBondContract.functions.redeemSwapLPBond(structIn).buildTransaction({'gas':0})\n",
    "            decoded_data=redeemSwapLPBondContract.decode_function_input(rSLBCdetails['data'])\n",
    "            rSLBCDict={'type': 'rsLBC', 'to': rSLBCdetails['to'],'data': rSLBCdetails['data'], 'decode': decoded_data}\n",
    "            calldata.append(rSLBCDict)\n",
    "    #output call data\n",
    "    calls=calldata\n",
    "\n",
    "    decode_encoded = ''\n",
    "    multicallInputs=[]\n",
    "    decodedInputs=[]\n",
    "    debugData.value=''\n",
    "    slippages_str = []\n",
    "    for n in slippages:\n",
    "        slippages_str.append(str(n))\n",
    "    redeems_str = []\n",
    "    for n in redeems:\n",
    "        redeems_str.append(str(n))\n",
    "\n",
    "    outputData=(\"[\"+\n",
    "    str(redeems_str)+\",\"+\n",
    "    str(slippages_str)+\",\"+\n",
    "    '\"'+str(structIn['amountIn'])+'\"'+\",\"+\n",
    "    '\"'+str(structIn['tokenIn'])+'\"'+\",\"+\n",
    "    '\"'+str(structIn['tokenOut'])+'\"'+\",\"+\n",
    "    '\"'+str(web3.toHex(structIn['swapPayload']))+'\"'+\",\"+\n",
    "        str(structIn['LP']).lower()+\",\"+\n",
    "    '\"'+str(structIn['poolAddress'])+'\"'+\",\"+\n",
    "    '\"'+str(structIn['bondContractAddress'])+'\"'+\"]\")\n",
    "    outputData=re.sub(\"'\", '\"', outputData)\n",
    "\n",
    "    for call in calls:\n",
    "        multicallInputs.append([call['to'],call['data']])\n",
    "        debugData.value=debugData.value+str(decode_encoded)+'\\n\\n'\n",
    "        #decodedInputs.append(call['decode'])    \n",
    "    #debugData.value=debugData.value+str(oneinchSwapAPI)+'\\n\\n'\n",
    "    #debugData.value=debugData.value+str(oneinchSwapResponse)\n",
    "    #multicallData.value=str(multicallInputs).replace(\"'\",'\"')\n",
    "    multicallData.value=outputData\n",
    "\n",
    "    #debugData.value=str(decodedInputs)\n",
    "    maxInput=float(re.sub(\"[^0-9,.]\", \"\", poolDetails_maxInput.value))\n",
    "    currentInput=amountSLP if symbol=='ALCX-ETH SLP' else amountOut\n",
    "    if currentInput/10**18 > maxInput:\n",
    "        multicallData.value=debugData.value=str('You are attempting to deposit more than the max input for the current bond, adjust wallet balance slider or remove a redeem to continue.')\n",
    "    #copy multicall data to clipboard\n",
    "\n",
    "    pc.copy(multicallData.value)\n",
    "    \n",
    "    \n",
    "useWalletBalance = widgets.Checkbox(description=\"Use Wallet Balance\"+\" (\"+str(round(walletBalance/10**18,5))+\")\")\n",
    "walletSlider =widgets.FloatSlider(value=walletBalance/10**18,\n",
    "    min=0,\n",
    "    max=walletBalance/10**18,\n",
    "    step=0.00001,\n",
    "    description='',\n",
    "    disabled=False,\n",
    "    continuous_update=False,\n",
    "    orientation='horizontal',\n",
    "    readout=True,\n",
    "    readout_format='.5f',\n",
    ")\n",
    "\n",
    "redeemBond_WETHALCX = widgets.Checkbox(description=\"WETH/ALCX\"+\" (\"+str(round(claimableBond_WETHALCX/10**18,5))+\")\")\n",
    "redeemBond_DAIALCX= widgets.Checkbox(description=\"DAI/ALCX\"+\" (\"+str(round(claimableBond_DAIALCX/10**18,5))+\")\")\n",
    "redeemBond_CVXALCX= widgets.Checkbox(description=\"CVX/ALCX\"+\" (\"+str(round(claimableBond_CVXALCX/10**18,5))+\")\")\n",
    "redeemBond_ALCXETHSLP= widgets.Checkbox(description=\"ALCX-ETH SLP\"+\" (\"+str(round(claimableBond_ALCXETHSLP/10**18,5))+\")\")\n",
    "totalRedeemOut=widgets.Label()\n",
    "totalSupplyOut=widgets.Label()\n",
    "totalTransferIn=widgets.Label()\n",
    "swapPathLabel=widgets.Label()\n",
    "swapPathOut=widgets.Textarea(layout=widgets.Layout(height=\"60px\",width=\"auto\"))\n",
    "\n",
    "poolDetails_maxInput=widgets.Label()\n",
    "poolDetails_maxPayout=widgets.Label()\n",
    "poolDetails_yourPayout=widgets.Label()\n",
    "poolDetails_ROI=widgets.Label()\n",
    "#initialize\n",
    "poolDetails_maxInput.value='Max Input: '+str(maxInput_WETHALCX/10**18)+' WETH'\n",
    "poolDetails_yourPayout.value='Your Payout: '+str(0)+' ALCX'\n",
    "poolDetails_maxPayout.value='Max Payout: '+str(maxPayout_WETHALCX/10**18)+' ALCX'\n",
    "poolDetails_ROI.value='ROI: '\n",
    "\n",
    "multicallData=widgets.Textarea(layout=widgets.Layout(height=\"200px\",width=\"auto\"))\n",
    "debugData=widgets.Textarea(layout=widgets.Layout(height=\"200px\",width=\"auto\"))\n",
    "\n",
    "depositBond_Dropdown = widgets.Dropdown(options=[\"WETH/ALCX\",\"DAI/ALCX\",\"CVX/ALCX\",\"ALCX-ETH SLP\"],description=\"\")\n",
    "\n",
    "#set inital values\n",
    "WETHadd=DAIadd=CVXadd=ALCXETHadd=walletAdd=amountIn=amountOut=0\n",
    "bondPrice=bondContract_WETHALCX.functions.bondPrice().call()\n",
    "symbol='WETH'\n",
    "bondContractAddress=bondContract_WETHALCX.address\n",
    "trueBondPrice=bondContract_WETHALCX.functions.trueBondPrice().call()\n",
    "walletAdd=walletBalance\n",
    "walletCheck=False\n",
    "\n",
    "def window_open_button(url):\n",
    "    with out:\n",
    "        display(Javascript(f'window.open(\"{url.tooltip}\");'))\n",
    "\n",
    "def calculateCycle(b):\n",
    "    global WETHadd,DAIadd,CVXadd,ALCXETHadd,walletAdd,symbol,amountIn,amountOut,amountSLP,bondPrice,trueBondPrice,path,swapPath,bondContractAddress,walletIn,walletCheck\n",
    "    if type(b['owner']).__name__ == 'FloatSlider' and b['new']=={}:\n",
    "        if(walletCheck==True):\n",
    "            walletAdd=min(walletBalance,walletSlider.value*10**18)\n",
    "        #print(walletAdd)\n",
    "    if type(b['owner']).__name__ == 'Checkbox' and type(b['new'])==bool:\n",
    "        if re.search('Wallet',b['owner'].description):\n",
    "            walletAdd= walletAdd if b['new'] else 0.0\n",
    "            walletCheck= True if b['new'] else False\n",
    "            if(walletCheck==True):\n",
    "                walletAdd=min(walletBalance,walletSlider.value*10**18)\n",
    "        if re.search('WETH',b['owner'].description):\n",
    "            WETHadd = claimableBond_WETHALCX if b['new'] else 0.0\n",
    "        if re.search('DAI',b['owner'].description):\n",
    "            DAIadd = claimableBond_DAIALCX if b['new'] else 0.0\n",
    "        if re.search('CVX',b['owner'].description):\n",
    "            CVXadd = claimableBond_CVXALCX if b['new'] else 0.0\n",
    "        if re.search('ALCX-ETH',b['owner'].description):\n",
    "            ALCXETHadd = claimableBond_ALCXETHSLP if b['new'] is True else 0.0\n",
    "        amountIn=WETHadd+DAIadd+CVXadd+ALCXETHadd+walletAdd\n",
    "        swapQuery=checkSwap(amountIn,symbol)\n",
    "        amountOut=swapQuery[0]\n",
    "        swapPath=swapQuery[1]\n",
    "        \n",
    "    if type(b['owner']).__name__ == 'Dropdown' and b['new']=={}:\n",
    "        symbol = re.sub('/ALCX','',depositBond_Dropdown.value)\n",
    "        swapQuery=checkSwap(amountIn,symbol)\n",
    "        amountOut=swapQuery[0]\n",
    "        swapPath=swapQuery[1]\n",
    "        if symbol=='WETH':\n",
    "            bondContractAddress=bondContract_WETHALCX.address\n",
    "            poolDetails_maxInput.value='Max Input: '+str(maxInput_WETHALCX/10**18)+' '+symbol\n",
    "            poolDetails_maxPayout.value='Max Payout: '+str(maxPayout_WETHALCX/10**18)+' '+'ALCX'\n",
    "            bondPrice=bondContract_WETHALCX.functions.bondPrice().call()\n",
    "            trueBondPrice=bondContract_WETHALCX.functions.trueBondPrice().call()\n",
    "        if symbol=='DAI':\n",
    "            bondContractAddress=bondContract_DAIALCX.address\n",
    "            poolDetails_maxInput.value='Max Input: '+str(maxInput_DAIALCX/10**18)+' '+symbol\n",
    "            poolDetails_maxPayout.value='Max Payout: '+str(maxPayout_DAIALCX/10**18)+' '+'ALCX'\n",
    "            bondPrice=bondContract_DAIALCX.functions.bondPrice().call()\n",
    "            trueBondPrice=bondContract_DAIALCX.functions.trueBondPrice().call()\n",
    "        if symbol=='CVX':\n",
    "            bondContractAddress=bondContract_CVXALCX.address\n",
    "            trueBondPrice=bondContract_CVXALCX.functions.trueBondPrice().call()\n",
    "            poolDetails_maxInput.value='Max Input: '+str(maxInput_CVXALCX/10**18)+' '+symbol\n",
    "            poolDetails_maxPayout.value='Max Payout: '+str(maxPayout_CVXALCX/10**18)+' '+'ALCX'\n",
    "            bondPrice=bondContract_CVXALCX.functions.bondPrice().call()\n",
    "            trueBondPrice=bondContract_CVXALCX.functions.trueBondPrice().call()\n",
    "        if symbol=='ALCX-ETH SLP':\n",
    "            bondContractAddress=bondContract_ALCXETHSLP.address\n",
    "            trueBondPrice=bondContract_ALCXETHSLP.functions.trueBondPrice().call()\n",
    "            poolDetails_maxInput.value='Max Input: '+str(maxInput_ALCXETHSLP/10**18)+' '+symbol\n",
    "            poolDetails_maxPayout.value='Max Payout: '+str(maxPayout_ALCXETHSLP/10**18)+' '+'ALCX'\n",
    "            bondPrice=bondContract_ALCXETHSLP.functions.bondPrice().call()\n",
    "            trueBondPrice=bondContract_ALCXETHSLP.functions.trueBondPrice().call()\n",
    "\n",
    "    if WETHadd+DAIadd+CVXadd+ALCXETHadd+walletAdd==0:\n",
    "        totalTransferIn.value=\"\"\n",
    "        totalRedeemOut.value=\"\"\n",
    "        totalSupplyOut.value=\"\"\n",
    "        swapPathLabel.value=\"\"\n",
    "        swapPathOut.value=\"\"\n",
    "        poolDetails_yourPayout.value='You Will Get: '+str(0)+' ALCX'\n",
    "        poolDetails_ROI.value='ROI: '\n",
    "    else:\n",
    "        if b['new']=={}:\n",
    "            if symbol=='ALCX-ETH SLP':\n",
    "                if(walletCheck==True):\n",
    "                    walletAdd=min(walletAdd,walletSlider.value*10**18)\n",
    "                amountIn=WETHadd+DAIadd+CVXadd+ALCXETHadd+walletAdd\n",
    "                swapQuery=checkSwap(amountIn,symbol)\n",
    "                amountOut=swapQuery[0]\n",
    "                swapPath=swapQuery[1]\n",
    "                totalTransferIn.value=\"Transferring \"+str(round(amountIn/10**18,5))+\" ALCX into Smart Contract\"\n",
    "                amountIn=amountIn/2\n",
    "                amountSLP=amountOut[0]\n",
    "                amountOut=amountOut[1]\n",
    "                totalRedeemOut.value=\"Swapping \"+str(round(amountIn/10**18,5))+\" ALCX for \"+str(round(amountOut/10**18,5))+\" WETH\"\n",
    "                totalSupplyOut.value=\"Supplying \"+str(round(amountOut/10**18,5))+\" WETH and \"+str(round(amountIn/10**18,5))+\" ALCX for \"+str(round(amountSLP/10**18,5))+\" ALCX-ETH SLP\"\n",
    "                swapPathLabel.value=\"Swap Path:\"\n",
    "                swapPathOut.value=str(swapPath)\n",
    "                payout=amountSLP/bondPrice/10**11*(1-olympusFee/10**6)\n",
    "                poolDetails_ROI.value='ROI: '+str(round(100-(amountIn*2/10**18/payout)*100,2))+'%'\n",
    "                \n",
    "            else:\n",
    "                if(walletCheck==True):\n",
    "                    walletAdd=min(walletAdd,walletSlider.value*10**18)\n",
    "                amountIn=WETHadd+DAIadd+CVXadd+ALCXETHadd+walletAdd\n",
    "                swapQuery=checkSwap(amountIn,symbol)\n",
    "                amountOut=swapQuery[0]\n",
    "                swapPath=swapQuery[1]\n",
    "                totalTransferIn.value=\"Transferring \"+str(round(amountIn/10**18,5))+\" ALCX into Smart Contract\"\n",
    "                totalRedeemOut.value=\"Swapping \"+str(round(amountIn/10**18,5))+\" ALCX for \"+str(round(amountOut/10**18,5))+\" \"+symbol\n",
    "                totalSupplyOut.value=\"\"\n",
    "                swapPathLabel.value=\"Swap Path:\"\n",
    "                swapPathOut.value=str(swapPath)\n",
    "                payout=amountOut/bondPrice/10**11*(1-olympusFee/10**6)\n",
    "                poolDetails_ROI.value='ROI: '+str(round(100-(amountIn/10**18/payout)*100,2))+'%'\n",
    "            \n",
    "            poolDetails_yourPayout.value='You Will Get: '+str(payout)+' ALCX'\n",
    "        \n",
    "useWalletBalance.observe(calculateCycle)\n",
    "walletSlider.observe(calculateCycle)\n",
    "redeemBond_WETHALCX.observe(calculateCycle)\n",
    "redeemBond_DAIALCX.observe(calculateCycle)\n",
    "redeemBond_CVXALCX.observe(calculateCycle)\n",
    "redeemBond_ALCXETHSLP.observe(calculateCycle)\n",
    "depositBond_Dropdown.observe(calculateCycle)\n",
    "\n",
    "enterAddress=widgets.Text(value=fromAccount,description='Address: ', layout=Layout(width='425px'))\n",
    "generateMC = widgets.Button(description='Generate MultiCall Data',disabled=False,layout=Layout(width='200px'))\n",
    "generateMC.on_click(generateMulticall)\n",
    "\n",
    "out = widgets.Output()\n",
    "etherscan = widgets.Button(description=\"Open Etherscan\", tooltip=('https://etherscan.io/address/'+redeemSwapLPBondAddress+'#writeContract'))\n",
    "etherscan.on_click(window_open_button)\n",
    "with out:\n",
    "    display(ss)\n",
    "out\n",
    "\n",
    "\n",
    "ui = widgets.VBox([  \n",
    "                     widgets.Label('[Current block: '+str(web3.eth.blockNumber)+']'),\n",
    "                     enterAddress,\n",
    "                     widgets.Label(value='Select Assets to Claim:'),\n",
    "                     widgets.HBox([useWalletBalance,walletSlider]),\n",
    "                     widgets.HBox([redeemBond_WETHALCX, redeemBond_DAIALCX]), \n",
    "                     widgets.HBox([redeemBond_CVXALCX, redeemBond_ALCXETHSLP]),\n",
    "                     widgets.VBox([totalTransferIn,totalRedeemOut,totalSupplyOut]),\n",
    "                     swapPathLabel,\n",
    "                     swapPathOut,\n",
    "                     widgets.Label(value='Select Pool to Bond:'),\n",
    "                     depositBond_Dropdown,\n",
    "                     poolDetails_maxInput,\n",
    "                     poolDetails_yourPayout,\n",
    "                     poolDetails_ROI,\n",
    "                     poolDetails_maxPayout,\n",
    "                     widgets.HBox([generateMC,etherscan]),\n",
    "                     multicallData,\n",
    "                     widgets.Label('Debug:') if debugMode else widgets.Label(), #COMMENT OUT\n",
    "                     debugData if debugMode else widgets.Label() #COMMENT OUT\n",
    "                  ])\n",
    "display(ui)\n"
   ]
  }
 ],
 "metadata": {
  "hide_input": false,
  "kernelspec": {
   "display_name": "Python 3 (ipykernel)",
   "language": "python",
   "name": "python3"
  },
  "language_info": {
   "codemirror_mode": {
    "name": "ipython",
    "version": 3
   },
   "file_extension": ".py",
   "mimetype": "text/x-python",
   "name": "python",
   "nbconvert_exporter": "python",
   "pygments_lexer": "ipython3",
   "version": "3.9.7"
  },
  "varInspector": {
   "cols": {
    "lenName": 16,
    "lenType": 16,
    "lenVar": 40
   },
   "kernels_config": {
    "python": {
     "delete_cmd_postfix": "",
     "delete_cmd_prefix": "del ",
     "library": "var_list.py",
     "varRefreshCmd": "print(var_dic_list())"
    },
    "r": {
     "delete_cmd_postfix": ") ",
     "delete_cmd_prefix": "rm(",
     "library": "var_list.r",
     "varRefreshCmd": "cat(var_dic_list()) "
    }
   },
   "position": {
    "height": "1064.84px",
    "left": "1557.97px",
    "right": "20px",
    "top": "97px",
    "width": "673.476px"
   },
   "types_to_exclude": [
    "module",
    "function",
    "builtin_function_or_method",
    "instance",
    "_Feature"
   ],
   "window_display": false
  },
  "widgets": {
   "application/vnd.jupyter.widget-state+json": {
    "state": {
     "00189de9b1734de9ac96b08892ba4ac0": {
      "model_module": "@jupyter-widgets/base",
      "model_module_version": "1.2.0",
      "model_name": "LayoutModel",
      "state": {}
     },
     "0031820563cf466081ce10b82406802b": {
      "model_module": "@jupyter-widgets/controls",
      "model_module_version": "1.5.0",
      "model_name": "DescriptionStyleModel",
      "state": {
       "description_width": ""
      }
     },
     "0049ae8f7d8d4ec2add1db87f9cc460c": {
      "model_module": "@jupyter-widgets/controls",
      "model_module_version": "1.5.0",
      "model_name": "DescriptionStyleModel",
      "state": {
       "description_width": ""
      }
     },
     "005f3cd6f0ed4191a4f00dca1dca1414": {
      "model_module": "@jupyter-widgets/base",
      "model_module_version": "1.2.0",
      "model_name": "LayoutModel",
      "state": {
       "width": "425px"
      }
     },
     "0068d10a2e4a43b3992f47143497399c": {
      "model_module": "@jupyter-widgets/controls",
      "model_module_version": "1.5.0",
      "model_name": "DescriptionStyleModel",
      "state": {
       "description_width": ""
      }
     },
     "009013906bd64059bf4b49b0bf02f5d7": {
      "model_module": "@jupyter-widgets/controls",
      "model_module_version": "1.5.0",
      "model_name": "DescriptionStyleModel",
      "state": {
       "description_width": ""
      }
     },
     "00a64be33a424a51a30e495737a299a7": {
      "model_module": "@jupyter-widgets/controls",
      "model_module_version": "1.5.0",
      "model_name": "DescriptionStyleModel",
      "state": {
       "description_width": ""
      }
     },
     "00e5c36aede047628f78f15c13883fbc": {
      "model_module": "@jupyter-widgets/controls",
      "model_module_version": "1.5.0",
      "model_name": "LabelModel",
      "state": {
       "layout": "IPY_MODEL_21f6ccb161c24790b7add1dc78b42a60",
       "style": "IPY_MODEL_ea29bd2cc3354505ad593f7f84c32f3c",
       "value": "Max Input: 5.981616536252277 WETH"
      }
     },
     "0118a611a4fa42ccaedc3f4a11acd19f": {
      "model_module": "@jupyter-widgets/controls",
      "model_module_version": "1.5.0",
      "model_name": "CheckboxModel",
      "state": {
       "description": "CVX/ALCX (0.0)",
       "disabled": false,
       "layout": "IPY_MODEL_e76c56f3609845eab1a66ac3fc7941ff",
       "style": "IPY_MODEL_ea430f5e1bc24fd986c311810bd49a61",
       "value": false
      }
     },
     "0150e54df3214755bbe726d91c2687a6": {
      "model_module": "@jupyter-widgets/controls",
      "model_module_version": "1.5.0",
      "model_name": "DescriptionStyleModel",
      "state": {
       "description_width": ""
      }
     },
     "01520542817c45d4a899caa4b8c8385b": {
      "model_module": "@jupyter-widgets/base",
      "model_module_version": "1.2.0",
      "model_name": "LayoutModel",
      "state": {}
     },
     "016cb5d4f6db43fabeca38a4b96a9352": {
      "model_module": "@jupyter-widgets/controls",
      "model_module_version": "1.5.0",
      "model_name": "DescriptionStyleModel",
      "state": {
       "description_width": ""
      }
     },
     "01736d320aaa42409385d62e53705c62": {
      "model_module": "@jupyter-widgets/controls",
      "model_module_version": "1.5.0",
      "model_name": "CheckboxModel",
      "state": {
       "description": "ALCX-ETH SLP (0.0)",
       "disabled": false,
       "layout": "IPY_MODEL_8b3c67442c6446ceb121b842286f44c7",
       "style": "IPY_MODEL_ff68f4f2594a4ced99b9dec34f34e7aa",
       "value": false
      }
     },
     "0190402b80684a5c812b99eb8995451a": {
      "model_module": "@jupyter-widgets/controls",
      "model_module_version": "1.5.0",
      "model_name": "LabelModel",
      "state": {
       "layout": "IPY_MODEL_cf816fda0525442ba853b7eae6402f8c",
       "style": "IPY_MODEL_4214e57dd162475eaf18ddd59870280c",
       "value": "Select Assets to Claim:"
      }
     },
     "01a747b6c6d744b2b0e5a81dc950beac": {
      "model_module": "@jupyter-widgets/controls",
      "model_module_version": "1.5.0",
      "model_name": "LabelModel",
      "state": {
       "layout": "IPY_MODEL_754404d684504b7c9a6fc00fcf9486be",
       "style": "IPY_MODEL_5b44384911df4eebb7195ab448da266c"
      }
     },
     "01a990fb199c4b63a80ab7e6c0c9bb15": {
      "model_module": "@jupyter-widgets/controls",
      "model_module_version": "1.5.0",
      "model_name": "ButtonModel",
      "state": {
       "description": "Generate MultiCall Data",
       "layout": "IPY_MODEL_7582fa84ce094cabadd780f9ab9bee66",
       "style": "IPY_MODEL_24fe9643606b444b9a09c50bd0d8b207"
      }
     },
     "01b3ace8185a42d391a63657d208ed21": {
      "model_module": "@jupyter-widgets/base",
      "model_module_version": "1.2.0",
      "model_name": "LayoutModel",
      "state": {
       "width": "425px"
      }
     },
     "01ccd570691345c1abb67332fde22672": {
      "model_module": "@jupyter-widgets/controls",
      "model_module_version": "1.5.0",
      "model_name": "DescriptionStyleModel",
      "state": {
       "description_width": ""
      }
     },
     "020ade47aa1d43db99ddd7291eb467db": {
      "model_module": "@jupyter-widgets/controls",
      "model_module_version": "1.5.0",
      "model_name": "CheckboxModel",
      "state": {
       "description": "ALCX-ETH SLP (0.0)",
       "disabled": false,
       "layout": "IPY_MODEL_2394fa66497c45f6b60a67903dd4aca8",
       "style": "IPY_MODEL_037605c687204ca1917cf751e0b48882",
       "value": false
      }
     },
     "0218e80373854dcf8feabadd8c0b304e": {
      "model_module": "@jupyter-widgets/controls",
      "model_module_version": "1.5.0",
      "model_name": "TextModel",
      "state": {
       "description": "Address: ",
       "layout": "IPY_MODEL_d780894bc2b24b99b0f330ab9c73493b",
       "style": "IPY_MODEL_dd8b1f7a98574c3cb57993a0dc3e3584",
       "value": "0xeEEC0e4927704ab3BBE5df7F4EfFa818b43665a3"
      }
     },
     "024d792d7941456cb7fa276ee514fc1d": {
      "model_module": "@jupyter-widgets/controls",
      "model_module_version": "1.5.0",
      "model_name": "DescriptionStyleModel",
      "state": {
       "description_width": ""
      }
     },
     "024d8f4403fe453db1650da70032da68": {
      "model_module": "@jupyter-widgets/controls",
      "model_module_version": "1.5.0",
      "model_name": "LabelModel",
      "state": {
       "layout": "IPY_MODEL_7c6911030dd04eb29afb920f0c3002b4",
       "style": "IPY_MODEL_774fd8371bae4ed3bf97610076edb903",
       "value": "Your Payout: 0 WETH"
      }
     },
     "025f911e1a604118ac4f102c03ab132e": {
      "model_module": "@jupyter-widgets/controls",
      "model_module_version": "1.5.0",
      "model_name": "CheckboxModel",
      "state": {
       "description": "DAI/ALCX (3.65268)",
       "disabled": false,
       "layout": "IPY_MODEL_19abe4efdb4e46518fa5a4b93c450fdd",
       "style": "IPY_MODEL_bc3cd95839074e40b06ed86f5a547f4b",
       "value": true
      }
     },
     "02601c5deda844fb958539111954a39f": {
      "model_module": "@jupyter-widgets/controls",
      "model_module_version": "1.5.0",
      "model_name": "CheckboxModel",
      "state": {
       "description": "ALCX-ETH SLP (0.0)",
       "disabled": false,
       "layout": "IPY_MODEL_446515f3211e4062853f402c1984e38b",
       "style": "IPY_MODEL_3b075b1b44ae4796a8948ca240ec8917",
       "value": false
      }
     },
     "02635ec1020542ddbdf2b3faa85b30d8": {
      "model_module": "@jupyter-widgets/base",
      "model_module_version": "1.2.0",
      "model_name": "LayoutModel",
      "state": {}
     },
     "027c0ac7777a412f8ca16fa197c591c1": {
      "model_module": "@jupyter-widgets/base",
      "model_module_version": "1.2.0",
      "model_name": "LayoutModel",
      "state": {}
     },
     "027e123d98914808925e16e4ed73ee2c": {
      "model_module": "@jupyter-widgets/controls",
      "model_module_version": "1.5.0",
      "model_name": "VBoxModel",
      "state": {
       "children": [
        "IPY_MODEL_41bd0981c8da41419b7f7a01edc182e5",
        "IPY_MODEL_dd65da9c66fe48f09b69c77b61e3a738",
        "IPY_MODEL_3d182d3f1e954375994dcae7c4c0049e",
        "IPY_MODEL_0616975d3f5b427da057daa92075146d",
        "IPY_MODEL_2992ac38ec1349abb851a31a60f1582e",
        "IPY_MODEL_b36457c3459746aeb37cc6a8cb6c76a2",
        "IPY_MODEL_9e19a297661f4faab411452acaecdb8b",
        "IPY_MODEL_d665bcc5b38b4eb7ab08596baa042e6e",
        "IPY_MODEL_7bd5abd0a7644b018a6c3faac54e6020",
        "IPY_MODEL_fba7984852df449199f86b5849d13996",
        "IPY_MODEL_793a720c669243918926d312cdff757e",
        "IPY_MODEL_6a1e801d7a224ec0b005dc0430fa048e",
        "IPY_MODEL_b6401e1069dd48c1bbf822096702f70c",
        "IPY_MODEL_55bafa344e5e470a80c0acb8c308f748"
       ],
       "layout": "IPY_MODEL_b52f91e43a694e85827be923df518375"
      }
     },
     "0287dff6f80e414b8cdddcad37e3fc81": {
      "model_module": "@jupyter-widgets/controls",
      "model_module_version": "1.5.0",
      "model_name": "DropdownModel",
      "state": {
       "_options_labels": [
        "WETH/ALCX",
        "DAI/ALCX",
        "CVX/ALCX",
        "ALCX-ETH SLP"
       ],
       "index": 0,
       "layout": "IPY_MODEL_8abddb22b1df4722a51e0139454d5cbf",
       "style": "IPY_MODEL_89d8b56dd8ac447a816060276109c64b"
      }
     },
     "02b51ff935f84e5e87733a42cd0e565d": {
      "model_module": "@jupyter-widgets/controls",
      "model_module_version": "1.5.0",
      "model_name": "DescriptionStyleModel",
      "state": {
       "description_width": ""
      }
     },
     "02bf42241d224bb495595690120e1ea0": {
      "model_module": "@jupyter-widgets/base",
      "model_module_version": "1.2.0",
      "model_name": "LayoutModel",
      "state": {}
     },
     "02cd092042684a56a34486161d7ca48f": {
      "model_module": "@jupyter-widgets/controls",
      "model_module_version": "1.5.0",
      "model_name": "CheckboxModel",
      "state": {
       "description": "WETH/ALCX (7.16195)",
       "disabled": false,
       "layout": "IPY_MODEL_9dac60f69efe42d2b481704a6624be82",
       "style": "IPY_MODEL_9a6af30b8a5a42c3be78a15e9318a9a1",
       "value": true
      }
     },
     "02ef44fa31274552926ef65b542cecdb": {
      "model_module": "@jupyter-widgets/base",
      "model_module_version": "1.2.0",
      "model_name": "LayoutModel",
      "state": {}
     },
     "02f968df493b4dfe9645f1bf8b4d58fb": {
      "model_module": "@jupyter-widgets/base",
      "model_module_version": "1.2.0",
      "model_name": "LayoutModel",
      "state": {}
     },
     "0306861fd0ca45748104199c42edc347": {
      "model_module": "@jupyter-widgets/controls",
      "model_module_version": "1.5.0",
      "model_name": "DescriptionStyleModel",
      "state": {
       "description_width": ""
      }
     },
     "03277f30bdb249e7a05785e966c26c8c": {
      "model_module": "@jupyter-widgets/controls",
      "model_module_version": "1.5.0",
      "model_name": "LabelModel",
      "state": {
       "layout": "IPY_MODEL_62d968d6c62a41468b3c03662514a713",
       "style": "IPY_MODEL_e76fe48d617b493b9557bb5e500354d4"
      }
     },
     "0347b5975fca498b93e89d8af52ab37c": {
      "model_module": "@jupyter-widgets/base",
      "model_module_version": "1.2.0",
      "model_name": "LayoutModel",
      "state": {}
     },
     "035cc499297a4ef58ddac98c740c736c": {
      "model_module": "@jupyter-widgets/controls",
      "model_module_version": "1.5.0",
      "model_name": "DescriptionStyleModel",
      "state": {
       "description_width": ""
      }
     },
     "0374fe04313948afa9b43efddab6c737": {
      "model_module": "@jupyter-widgets/base",
      "model_module_version": "1.2.0",
      "model_name": "LayoutModel",
      "state": {}
     },
     "037605c687204ca1917cf751e0b48882": {
      "model_module": "@jupyter-widgets/controls",
      "model_module_version": "1.5.0",
      "model_name": "DescriptionStyleModel",
      "state": {
       "description_width": ""
      }
     },
     "038092cefd9c43848d88c914814be2ff": {
      "model_module": "@jupyter-widgets/base",
      "model_module_version": "1.2.0",
      "model_name": "LayoutModel",
      "state": {
       "width": "200px"
      }
     },
     "038f8d4ed3dd45d49224731d255f8d13": {
      "model_module": "@jupyter-widgets/controls",
      "model_module_version": "1.5.0",
      "model_name": "LabelModel",
      "state": {
       "layout": "IPY_MODEL_7edc9c3d63814bdc85e8192d59438721",
       "style": "IPY_MODEL_7505866210894662982233a9b140691d",
       "value": "Swapping 40.15274 ALCX for 2.583710081965526 WETH"
      }
     },
     "038fca639d2c4faa84d93d3cfa6998d0": {
      "model_module": "@jupyter-widgets/base",
      "model_module_version": "1.2.0",
      "model_name": "LayoutModel",
      "state": {}
     },
     "0390d79e71bd4aaea45d5cd4c348668a": {
      "model_module": "@jupyter-widgets/base",
      "model_module_version": "1.2.0",
      "model_name": "LayoutModel",
      "state": {}
     },
     "039a5639e1274e92bd0d9a053dba6096": {
      "model_module": "@jupyter-widgets/controls",
      "model_module_version": "1.5.0",
      "model_name": "LabelModel",
      "state": {
       "layout": "IPY_MODEL_a93b02352b0547f684577c454826c30f",
       "style": "IPY_MODEL_8e297482003349ad996724ee85133d0e",
       "value": "Your Payout: 0 WETH"
      }
     },
     "03a14e9bf58c48498043211f48c7e559": {
      "model_module": "@jupyter-widgets/controls",
      "model_module_version": "1.5.0",
      "model_name": "HBoxModel",
      "state": {
       "children": [
        "IPY_MODEL_0118a611a4fa42ccaedc3f4a11acd19f",
        "IPY_MODEL_db59a0751ed3441f8d0c3235a551c8e5"
       ],
       "layout": "IPY_MODEL_c707a564d4e64a59b65d0dec2aa77054"
      }
     },
     "03ad1538bf484ad6974142e96c783b3e": {
      "model_module": "@jupyter-widgets/base",
      "model_module_version": "1.2.0",
      "model_name": "LayoutModel",
      "state": {}
     },
     "03b0574237cb4c82b629bbab6251b2e3": {
      "model_module": "@jupyter-widgets/base",
      "model_module_version": "1.2.0",
      "model_name": "LayoutModel",
      "state": {}
     },
     "03f95b2c13024883b243278585502b00": {
      "model_module": "@jupyter-widgets/base",
      "model_module_version": "1.2.0",
      "model_name": "LayoutModel",
      "state": {}
     },
     "0411878323c543d6ae6d7d1c3596ff89": {
      "model_module": "@jupyter-widgets/base",
      "model_module_version": "1.2.0",
      "model_name": "LayoutModel",
      "state": {}
     },
     "0446961d474b43d7a8083ed54b4a813f": {
      "model_module": "@jupyter-widgets/controls",
      "model_module_version": "1.5.0",
      "model_name": "DescriptionStyleModel",
      "state": {
       "description_width": ""
      }
     },
     "044efbb2ed2e47d4976a00daf700a673": {
      "model_module": "@jupyter-widgets/controls",
      "model_module_version": "1.5.0",
      "model_name": "DescriptionStyleModel",
      "state": {
       "description_width": ""
      }
     },
     "0458a46fbd5348ddbbdf5aa76b1ac86c": {
      "model_module": "@jupyter-widgets/controls",
      "model_module_version": "1.5.0",
      "model_name": "DropdownModel",
      "state": {
       "_options_labels": [
        "WETH/ALCX",
        "DAI/ALCX",
        "CVX/ALCX",
        "ALCX-ETH SLP"
       ],
       "index": 3,
       "layout": "IPY_MODEL_9e6da62c72504335a63f46885c7e38cf",
       "style": "IPY_MODEL_7615aac9a44e4b1bb4a5d92da0a5d63a"
      }
     },
     "045f747a8f46414ca87ff35f9c8c9433": {
      "model_module": "@jupyter-widgets/controls",
      "model_module_version": "1.5.0",
      "model_name": "DescriptionStyleModel",
      "state": {
       "description_width": ""
      }
     },
     "04a3f28b389e4b529969d9e9fa2b1f3d": {
      "model_module": "@jupyter-widgets/controls",
      "model_module_version": "1.5.0",
      "model_name": "ButtonModel",
      "state": {
       "description": "Generate MultiCall Data",
       "layout": "IPY_MODEL_7427a57505854ba8ae1f2fc76c32364a",
       "style": "IPY_MODEL_c5489af60f79416784b6c2a9b1ad59cd"
      }
     },
     "04a6f6bdf65b497285f6e4f569a8f1a6": {
      "model_module": "@jupyter-widgets/base",
      "model_module_version": "1.2.0",
      "model_name": "LayoutModel",
      "state": {}
     },
     "04be9f55875c4ee5add61688cda4a923": {
      "model_module": "@jupyter-widgets/base",
      "model_module_version": "1.2.0",
      "model_name": "LayoutModel",
      "state": {}
     },
     "04cf3d6dc7cb4cd7b671093c3c02a0a8": {
      "model_module": "@jupyter-widgets/base",
      "model_module_version": "1.2.0",
      "model_name": "LayoutModel",
      "state": {}
     },
     "0520343507a54ee7a791809560e0b79d": {
      "model_module": "@jupyter-widgets/controls",
      "model_module_version": "1.5.0",
      "model_name": "CheckboxModel",
      "state": {
       "description": "CVX/ALCX (0.0)",
       "disabled": false,
       "layout": "IPY_MODEL_53af2637db42442090832debb26d8a07",
       "style": "IPY_MODEL_d5475c5888f8473c8a6d5ae96b70b852",
       "value": true
      }
     },
     "054a5aab48f84a7ea16aa50b6b3720f0": {
      "model_module": "@jupyter-widgets/base",
      "model_module_version": "1.2.0",
      "model_name": "LayoutModel",
      "state": {}
     },
     "05a4af7451c24c2ba4a36a0a1a02b525": {
      "model_module": "@jupyter-widgets/controls",
      "model_module_version": "1.5.0",
      "model_name": "DescriptionStyleModel",
      "state": {
       "description_width": ""
      }
     },
     "05c1f8727932499fb3b5d4a78d736403": {
      "model_module": "@jupyter-widgets/controls",
      "model_module_version": "1.5.0",
      "model_name": "DescriptionStyleModel",
      "state": {
       "description_width": ""
      }
     },
     "05c3e12ca7d54f9ca7e760106b13befc": {
      "model_module": "@jupyter-widgets/controls",
      "model_module_version": "1.5.0",
      "model_name": "LabelModel",
      "state": {
       "layout": "IPY_MODEL_b4d4de61b92d4c2a817eb476544cf994",
       "style": "IPY_MODEL_cf3bd6751814440a8c3729b37a1c1366",
       "value": "[Current block: 13905587]"
      }
     },
     "05cf7512d4bc4097a718bed8ec6966ef": {
      "model_module": "@jupyter-widgets/controls",
      "model_module_version": "1.5.0",
      "model_name": "LabelModel",
      "state": {
       "layout": "IPY_MODEL_6e0dd54f382f41379beb2c1e0869cd89",
       "style": "IPY_MODEL_b57bc3104aae4bcf8562a04385a4e605",
       "value": "Max Input: 5.988229971331867 WETH"
      }
     },
     "05e817ce5e124042a11e6f85f1080064": {
      "model_module": "@jupyter-widgets/controls",
      "model_module_version": "1.5.0",
      "model_name": "DescriptionStyleModel",
      "state": {
       "description_width": ""
      }
     },
     "05fe46f50b7a4d0e8e66bce999ea2051": {
      "model_module": "@jupyter-widgets/controls",
      "model_module_version": "1.5.0",
      "model_name": "CheckboxModel",
      "state": {
       "description": "Use Wallet Balance (72.80737)",
       "disabled": false,
       "layout": "IPY_MODEL_a4efc30e503448ec9248815f5f312529",
       "style": "IPY_MODEL_4d8a534d2aee4d558f04ca359df08419",
       "value": true
      }
     },
     "061492c968be49f1a22ba630729a3553": {
      "model_module": "@jupyter-widgets/base",
      "model_module_version": "1.2.0",
      "model_name": "LayoutModel",
      "state": {}
     },
     "0616975d3f5b427da057daa92075146d": {
      "model_module": "@jupyter-widgets/controls",
      "model_module_version": "1.5.0",
      "model_name": "CheckboxModel",
      "state": {
       "description": "Use Wallet Balance (72.80737)",
       "disabled": false,
       "layout": "IPY_MODEL_305ea1abe9f341609dcedfcde88c2afc",
       "style": "IPY_MODEL_9e041ec82a4e4678a71025fc384d1a70",
       "value": true
      }
     },
     "0635abfe8917446482d2cf5223b69adf": {
      "model_module": "@jupyter-widgets/controls",
      "model_module_version": "1.5.0",
      "model_name": "DescriptionStyleModel",
      "state": {
       "description_width": ""
      }
     },
     "064ff009e07b47a592daf2f7e17b93db": {
      "model_module": "@jupyter-widgets/base",
      "model_module_version": "1.2.0",
      "model_name": "LayoutModel",
      "state": {}
     },
     "06a8acbcee414a4fbfbd80998ad13273": {
      "model_module": "@jupyter-widgets/base",
      "model_module_version": "1.2.0",
      "model_name": "LayoutModel",
      "state": {}
     },
     "0706ff931a2c4412835d7379cad6022d": {
      "model_module": "@jupyter-widgets/base",
      "model_module_version": "1.2.0",
      "model_name": "LayoutModel",
      "state": {}
     },
     "0756e01907e2461c97786df5b779fad8": {
      "model_module": "@jupyter-widgets/controls",
      "model_module_version": "1.5.0",
      "model_name": "LabelModel",
      "state": {
       "layout": "IPY_MODEL_e0f20866de424aa9b4963e8518fe6caa",
       "style": "IPY_MODEL_7626292d0bcc4d08a46511f98e99a0d3",
       "value": "Select Assets to Claim:"
      }
     },
     "07868297a5524404a1c6504b60b4041d": {
      "model_module": "@jupyter-widgets/controls",
      "model_module_version": "1.5.0",
      "model_name": "DescriptionStyleModel",
      "state": {
       "description_width": ""
      }
     },
     "07a3f6f5f1324adabf894bc727e9906f": {
      "model_module": "@jupyter-widgets/controls",
      "model_module_version": "1.5.0",
      "model_name": "TextModel",
      "state": {
       "description": "Address: ",
       "layout": "IPY_MODEL_582f152ca6e74e7bb531e29223526dff",
       "style": "IPY_MODEL_febe83adc80843419cd5683250a687c4",
       "value": "0xeEEC0e4927704ab3BBE5df7F4EfFa818b43665a3"
      }
     },
     "07e7b668dbb84c2996fd01665416f70d": {
      "model_module": "@jupyter-widgets/base",
      "model_module_version": "1.2.0",
      "model_name": "LayoutModel",
      "state": {}
     },
     "07e9755344c547bb939d04bd4b28d246": {
      "model_module": "@jupyter-widgets/base",
      "model_module_version": "1.2.0",
      "model_name": "LayoutModel",
      "state": {}
     },
     "07ecc2d3e4fb41d6943ddf852886818f": {
      "model_module": "@jupyter-widgets/base",
      "model_module_version": "1.2.0",
      "model_name": "LayoutModel",
      "state": {}
     },
     "081d645abab847c8bcd97a7531017ba3": {
      "model_module": "@jupyter-widgets/controls",
      "model_module_version": "1.5.0",
      "model_name": "DescriptionStyleModel",
      "state": {
       "description_width": ""
      }
     },
     "08264ca660164db69e524d6bd4705ad6": {
      "model_module": "@jupyter-widgets/controls",
      "model_module_version": "1.5.0",
      "model_name": "VBoxModel",
      "state": {
       "children": [
        "IPY_MODEL_f865991b6b7c4e64b5b74e0396f2538d",
        "IPY_MODEL_07a3f6f5f1324adabf894bc727e9906f",
        "IPY_MODEL_43a5cc5578ab41ce96eeb1c669f49872",
        "IPY_MODEL_05fe46f50b7a4d0e8e66bce999ea2051",
        "IPY_MODEL_6d8cabb5b2b044e7993109e66202c809",
        "IPY_MODEL_ef4df6b3ca504872b20d5c15c5c80af1",
        "IPY_MODEL_d3a4f00905c5447b8cde84b3799e6318",
        "IPY_MODEL_d5c7f65bfcb84dddac3c175e28bedf3f",
        "IPY_MODEL_d44a320de4404b7c831bb8f41ed1ae81",
        "IPY_MODEL_1ce1d3ccd139435ab9731959f3c005cf",
        "IPY_MODEL_8d06aa6a52b2464ca06ba977bacd6b1f",
        "IPY_MODEL_024d8f4403fe453db1650da70032da68",
        "IPY_MODEL_838437b617fc46aab50bf8aed9b07516",
        "IPY_MODEL_3511aebe664345f2a4288da1194aa2e6"
       ],
       "layout": "IPY_MODEL_fc337c560f0f4193ac4064caa65d8dc7"
      }
     },
     "0831b1a1ffc644e4bd6a0b95705fb7ec": {
      "model_module": "@jupyter-widgets/controls",
      "model_module_version": "1.5.0",
      "model_name": "DescriptionStyleModel",
      "state": {
       "description_width": ""
      }
     },
     "083ba90156df4b0991d5ff67d67cf744": {
      "model_module": "@jupyter-widgets/base",
      "model_module_version": "1.2.0",
      "model_name": "LayoutModel",
      "state": {}
     },
     "084e93817c224b849a8c98f709c2f8bd": {
      "model_module": "@jupyter-widgets/base",
      "model_module_version": "1.2.0",
      "model_name": "LayoutModel",
      "state": {
       "width": "200px"
      }
     },
     "08541c9f4d654acaaa6760984ab596c7": {
      "model_module": "@jupyter-widgets/controls",
      "model_module_version": "1.5.0",
      "model_name": "CheckboxModel",
      "state": {
       "description": "WETH/ALCX (7.41529)",
       "disabled": false,
       "layout": "IPY_MODEL_a2c5241b15e74f26878168034aad1043",
       "style": "IPY_MODEL_a545dac89744454186f82e0fbc289a15",
       "value": true
      }
     },
     "086016d954b54005852c7485612a6189": {
      "model_module": "@jupyter-widgets/controls",
      "model_module_version": "1.5.0",
      "model_name": "DescriptionStyleModel",
      "state": {
       "description_width": ""
      }
     },
     "0876416efd5347889d1ff28400924e87": {
      "model_module": "@jupyter-widgets/controls",
      "model_module_version": "1.5.0",
      "model_name": "CheckboxModel",
      "state": {
       "description": "WETH/ALCX (7.86352)",
       "disabled": false,
       "layout": "IPY_MODEL_6268260a3a8a4984adf6356e75a3458a",
       "style": "IPY_MODEL_104402f236ff4e21af67191f75ff14d7",
       "value": false
      }
     },
     "087c244d69814a33a25ee0f0ede108c4": {
      "model_module": "@jupyter-widgets/base",
      "model_module_version": "1.2.0",
      "model_name": "LayoutModel",
      "state": {}
     },
     "089d67ee4036478d8043f9a10ac2dd2d": {
      "model_module": "@jupyter-widgets/controls",
      "model_module_version": "1.5.0",
      "model_name": "DescriptionStyleModel",
      "state": {
       "description_width": ""
      }
     },
     "089df7a9ec8c4d4eb1b0ccec143e3caa": {
      "model_module": "@jupyter-widgets/base",
      "model_module_version": "1.2.0",
      "model_name": "LayoutModel",
      "state": {}
     },
     "089f2f193749400fb4e0242517ae0ae2": {
      "model_module": "@jupyter-widgets/controls",
      "model_module_version": "1.5.0",
      "model_name": "CheckboxModel",
      "state": {
       "description": "ALCX-ETH SLP (0.0)",
       "disabled": false,
       "layout": "IPY_MODEL_3877164073a14e21b9f26af58974915c",
       "style": "IPY_MODEL_e3f76976a8b74176893b604bbd61ca28",
       "value": false
      }
     },
     "08a72e71ed3545d9a9313434e9f8fbeb": {
      "model_module": "@jupyter-widgets/controls",
      "model_module_version": "1.5.0",
      "model_name": "LabelModel",
      "state": {
       "layout": "IPY_MODEL_23c02dca09314d77bcd74cbb0498d4fe",
       "style": "IPY_MODEL_323e803508e3433d93643d6846d3218a",
       "value": "[Current block: 13905595]"
      }
     },
     "08da02430fcb466fa1ad11f8ac0b178f": {
      "model_module": "@jupyter-widgets/controls",
      "model_module_version": "1.5.0",
      "model_name": "LabelModel",
      "state": {
       "layout": "IPY_MODEL_d1e8ebdb5f9b477e90aaccdadf16ffaa",
       "style": "IPY_MODEL_ae3bac4358674f33bc00e563b8d996cc"
      }
     },
     "08edade0ab3047e7abe242253ee6d062": {
      "model_module": "@jupyter-widgets/base",
      "model_module_version": "1.2.0",
      "model_name": "LayoutModel",
      "state": {}
     },
     "08f558523cf94039b1ee372e4deb3a8f": {
      "model_module": "@jupyter-widgets/controls",
      "model_module_version": "1.5.0",
      "model_name": "CheckboxModel",
      "state": {
       "description": "DAI/ALCX (3.51091)",
       "disabled": false,
       "layout": "IPY_MODEL_f398cb668e154be18deb95890e85b52b",
       "style": "IPY_MODEL_e7819cd213fa4d5dbf67bd29bdc0945b",
       "value": false
      }
     },
     "08fea82f09ce4fca91e06b23015a21b6": {
      "model_module": "@jupyter-widgets/controls",
      "model_module_version": "1.5.0",
      "model_name": "DescriptionStyleModel",
      "state": {
       "description_width": ""
      }
     },
     "0901d030098b40ec8299b6a97fcbb5c4": {
      "model_module": "@jupyter-widgets/base",
      "model_module_version": "1.2.0",
      "model_name": "LayoutModel",
      "state": {}
     },
     "09068c9251c645279e3a879476a452f0": {
      "model_module": "@jupyter-widgets/base",
      "model_module_version": "1.2.0",
      "model_name": "LayoutModel",
      "state": {}
     },
     "090f0218439347a091f66ef960b3ad47": {
      "model_module": "@jupyter-widgets/controls",
      "model_module_version": "1.5.0",
      "model_name": "DescriptionStyleModel",
      "state": {
       "description_width": ""
      }
     },
     "094e74691a0c45079bbfb80a8b462cce": {
      "model_module": "@jupyter-widgets/base",
      "model_module_version": "1.2.0",
      "model_name": "LayoutModel",
      "state": {}
     },
     "09acc75c144b4bedb9e7604df67f8263": {
      "model_module": "@jupyter-widgets/controls",
      "model_module_version": "1.5.0",
      "model_name": "LabelModel",
      "state": {
       "layout": "IPY_MODEL_1d2db3d0ac574558ad6d654948358ccf",
       "style": "IPY_MODEL_fa2e3ae5a0dd45159f698388957fb6da"
      }
     },
     "09e080d4a4904a83bf22ad988651d974": {
      "model_module": "@jupyter-widgets/controls",
      "model_module_version": "1.5.0",
      "model_name": "DescriptionStyleModel",
      "state": {
       "description_width": ""
      }
     },
     "09e41f42a82345349b62913a5c142a12": {
      "model_module": "@jupyter-widgets/controls",
      "model_module_version": "1.5.0",
      "model_name": "LabelModel",
      "state": {
       "layout": "IPY_MODEL_93920870aacd41d4b8d6827ddf00037f",
       "style": "IPY_MODEL_8e0a41f602804f94b53a4941fac54652",
       "value": "Max Payout: 96.15992295640763 ALCX"
      }
     },
     "0a09f072a0154df980d06c1264d9a188": {
      "model_module": "@jupyter-widgets/controls",
      "model_module_version": "1.5.0",
      "model_name": "DescriptionStyleModel",
      "state": {
       "description_width": ""
      }
     },
     "0a25a91f3daa46cc83655d35cecd0b86": {
      "model_module": "@jupyter-widgets/controls",
      "model_module_version": "1.5.0",
      "model_name": "HBoxModel",
      "state": {
       "children": [
        "IPY_MODEL_17998777100946fc82cf14190cf3bf16",
        "IPY_MODEL_3391c6a9a86648b1b1b919c739dd6c46"
       ],
       "layout": "IPY_MODEL_a2ea7eb44c6d4e4bbd5a9bf8099b57e7"
      }
     },
     "0a4897468997425cb8f7310cb4f9cd24": {
      "model_module": "@jupyter-widgets/controls",
      "model_module_version": "1.5.0",
      "model_name": "LabelModel",
      "state": {
       "layout": "IPY_MODEL_bd9f4ae75c274ae3b11eb5cd99f05d54",
       "style": "IPY_MODEL_c211d2f1b5e54221959967fc91285d00",
       "value": "Max Input: 11.590695186972813 ALCX-ETH SLP"
      }
     },
     "0a4be7b48ca649d6b46d0c50e08e9546": {
      "model_module": "@jupyter-widgets/base",
      "model_module_version": "1.2.0",
      "model_name": "LayoutModel",
      "state": {}
     },
     "0a515f30db2c4a18ad02f4a2e20f5b31": {
      "model_module": "@jupyter-widgets/controls",
      "model_module_version": "1.5.0",
      "model_name": "CheckboxModel",
      "state": {
       "description": "DAI/ALCX (3.64851)",
       "disabled": false,
       "layout": "IPY_MODEL_2049df30b3914cc8b4e1cf1005d9620b",
       "style": "IPY_MODEL_12f8e73f75374e87a8f9807f3da5d32f",
       "value": false
      }
     },
     "0a7722221ed24591a3b5c5e31fe7dfbb": {
      "model_module": "@jupyter-widgets/base",
      "model_module_version": "1.2.0",
      "model_name": "LayoutModel",
      "state": {}
     },
     "0a7e380ea6804b36bf49faa3644ce729": {
      "model_module": "@jupyter-widgets/controls",
      "model_module_version": "1.5.0",
      "model_name": "DescriptionStyleModel",
      "state": {
       "description_width": ""
      }
     },
     "0a87f921f5504140b5b1adc96ee1a526": {
      "model_module": "@jupyter-widgets/controls",
      "model_module_version": "1.5.0",
      "model_name": "CheckboxModel",
      "state": {
       "description": "DAI/ALCX (3.59013)",
       "disabled": false,
       "layout": "IPY_MODEL_ab0a35f9c1c44ce59d9c67abb897b183",
       "style": "IPY_MODEL_bdd9d2d80d0e4159b4639195bc037b57",
       "value": false
      }
     },
     "0a8a09757140407f9054fbae3702e9e8": {
      "model_module": "@jupyter-widgets/controls",
      "model_module_version": "1.5.0",
      "model_name": "DescriptionStyleModel",
      "state": {
       "description_width": ""
      }
     },
     "0a8ffe49f45a4cb5870a540ca971bf57": {
      "model_module": "@jupyter-widgets/controls",
      "model_module_version": "1.5.0",
      "model_name": "LabelModel",
      "state": {
       "layout": "IPY_MODEL_eee7b1dc0d0545e0a8ce0f7a8cb58ec0",
       "style": "IPY_MODEL_73b23e4a0bf34a3591ed461bcc7b8f21",
       "value": "Select Pool to Bond:"
      }
     },
     "0a9980516b9c462cbc1cedb20622a8c6": {
      "model_module": "@jupyter-widgets/base",
      "model_module_version": "1.2.0",
      "model_name": "LayoutModel",
      "state": {}
     },
     "0ac7aed028b2442691a392764c553e02": {
      "model_module": "@jupyter-widgets/controls",
      "model_module_version": "1.5.0",
      "model_name": "DescriptionStyleModel",
      "state": {
       "description_width": ""
      }
     },
     "0ae93646cc4147a2b59b9cfd2223ff77": {
      "model_module": "@jupyter-widgets/controls",
      "model_module_version": "1.5.0",
      "model_name": "ButtonModel",
      "state": {
       "description": "Generate MultiCall Data",
       "layout": "IPY_MODEL_e979121eac114c7992b8e779e63946e8",
       "style": "IPY_MODEL_cae71cf6fa094328a84a4ea9f1ac8a12"
      }
     },
     "0af043e620404b8dba6938c00cd419cb": {
      "model_module": "@jupyter-widgets/base",
      "model_module_version": "1.2.0",
      "model_name": "LayoutModel",
      "state": {}
     },
     "0af6c995dd1245e38202199cb8a3b139": {
      "model_module": "@jupyter-widgets/base",
      "model_module_version": "1.2.0",
      "model_name": "LayoutModel",
      "state": {}
     },
     "0aff1c108e0e4891b141770b9613a4ec": {
      "model_module": "@jupyter-widgets/base",
      "model_module_version": "1.2.0",
      "model_name": "LayoutModel",
      "state": {}
     },
     "0b05e8b630364fc19bdf197d1d1c8a2f": {
      "model_module": "@jupyter-widgets/controls",
      "model_module_version": "1.5.0",
      "model_name": "LabelModel",
      "state": {
       "layout": "IPY_MODEL_b6d84e04087e445daa0c13835fb43219",
       "style": "IPY_MODEL_f03c31633ee049889d34506032b9d7b7",
       "value": "Select Pool to Bond:"
      }
     },
     "0b19e9343b844ffea2a8d75eb6ddfa9a": {
      "model_module": "@jupyter-widgets/controls",
      "model_module_version": "1.5.0",
      "model_name": "VBoxModel",
      "state": {
       "children": [
        "IPY_MODEL_27bbbd0b099741fca45d69ed7b2e2851",
        "IPY_MODEL_b77f73aeb7b240fa9efec7739ad251cb",
        "IPY_MODEL_24643b79a60a48f4af050563427ee2c5",
        "IPY_MODEL_9696e42d46ff437680a7d41c984efeb7",
        "IPY_MODEL_d6ee3e1deb2f4399b43adbb02bb3cf9c",
        "IPY_MODEL_a83c2c6d508f487c87257969554d91c3",
        "IPY_MODEL_84598be92c7a4b4ea2f0a134c9a49a28",
        "IPY_MODEL_4ef04e30fdd54abdb72045d83f41030f",
        "IPY_MODEL_3b0c453af56f4959abc7e6efe0520c17",
        "IPY_MODEL_b7d0677bcbbb4c3c8f3cb688c802babf",
        "IPY_MODEL_0a4897468997425cb8f7310cb4f9cd24",
        "IPY_MODEL_64777ad7689040a09062438a2444f107",
        "IPY_MODEL_0e0bd10ad0584bbb8f4a0ee1990c8d5e",
        "IPY_MODEL_e2e1f771d0574c658fd93af8de72d87e"
       ],
       "layout": "IPY_MODEL_ee8c179c40cf45e7bc67b396d78746ad"
      }
     },
     "0b1b9d685ea94668958584c874811df9": {
      "model_module": "@jupyter-widgets/base",
      "model_module_version": "1.2.0",
      "model_name": "LayoutModel",
      "state": {}
     },
     "0b330f0f853b46a89d901214cf65bde1": {
      "model_module": "@jupyter-widgets/controls",
      "model_module_version": "1.5.0",
      "model_name": "CheckboxModel",
      "state": {
       "description": "ALCX-ETH SLP (0.0)",
       "disabled": false,
       "layout": "IPY_MODEL_f73f545caa8844deb13ab32f561a62a4",
       "style": "IPY_MODEL_977b9115554547638685335f97b42db1",
       "value": true
      }
     },
     "0b6715ab1d984dc98b6ac95b3fd57da1": {
      "model_module": "@jupyter-widgets/controls",
      "model_module_version": "1.5.0",
      "model_name": "CheckboxModel",
      "state": {
       "description": "WETH/ALCX (7.274)",
       "disabled": false,
       "layout": "IPY_MODEL_ac4dd0a9d32f4049ae20078b749205c5",
       "style": "IPY_MODEL_828f364a50c4465b9d213d64b879f7b5",
       "value": true
      }
     },
     "0bb4f95e7a0e4b71b04d95d743311d8c": {
      "model_module": "@jupyter-widgets/base",
      "model_module_version": "1.2.0",
      "model_name": "LayoutModel",
      "state": {}
     },
     "0bbdd80c09cc4efd8d8100212a3f349e": {
      "model_module": "@jupyter-widgets/controls",
      "model_module_version": "1.5.0",
      "model_name": "TextModel",
      "state": {
       "description": "Address: ",
       "layout": "IPY_MODEL_9dad6bae9b344ebb802209e33a00a018",
       "style": "IPY_MODEL_702f97740bc14852a96963150cc38627",
       "value": "0xeEEC0e4927704ab3BBE5df7F4EfFa818b43665a3"
      }
     },
     "0bbe950d91304ee98e0e2b204f5aea7e": {
      "model_module": "@jupyter-widgets/base",
      "model_module_version": "1.2.0",
      "model_name": "LayoutModel",
      "state": {}
     },
     "0bdbf1eff7644b49ae112c14ec99a27b": {
      "model_module": "@jupyter-widgets/controls",
      "model_module_version": "1.5.0",
      "model_name": "DescriptionStyleModel",
      "state": {
       "description_width": ""
      }
     },
     "0c322e054cee41d7b5a4285fb01fbeee": {
      "model_module": "@jupyter-widgets/controls",
      "model_module_version": "1.5.0",
      "model_name": "LabelModel",
      "state": {
       "layout": "IPY_MODEL_a14974372a2741f6a71e57bcbc435509",
       "style": "IPY_MODEL_2d0075f09196424f983384b9c7d29b42",
       "value": "Max Payout: 96.15992295640763 ALCX"
      }
     },
     "0c3ec8809ee6413493cf96b901ae0f21": {
      "model_module": "@jupyter-widgets/controls",
      "model_module_version": "1.5.0",
      "model_name": "VBoxModel",
      "state": {
       "children": [
        "IPY_MODEL_10ae08408a6f4a1fa959ed3845e0b16a",
        "IPY_MODEL_479117567b5543bfab63b7cb4e28b310",
        "IPY_MODEL_df21b7db7a5a4aba94201cff8d2561a0",
        "IPY_MODEL_a47b670caed842ad92cbe4abfefb6ad9",
        "IPY_MODEL_f396d4921ef7447ba15ff18448d1ffc0",
        "IPY_MODEL_d7b5a75a97654b518b368d06af6f63b5",
        "IPY_MODEL_3505d06a79df4ecdb37616079c1bb1f1",
        "IPY_MODEL_cd513a11a5184baa8b1c9f82b48c71d9",
        "IPY_MODEL_5fc134ffa3044f87a19b73f4cae72399",
        "IPY_MODEL_58f181efc0b14d768c0d3941af98fd24",
        "IPY_MODEL_6fda3b37e6c64596a65db67b3b1a4a0d",
        "IPY_MODEL_ebe8999160774c188c6d362161d916ef",
        "IPY_MODEL_7fa377c3d23247b7a56b68cd9b8f0286",
        "IPY_MODEL_5765c5fa4ebc4ad3970b88e130d39f61"
       ],
       "layout": "IPY_MODEL_8761468f59c84b91aabe22177fa3aaec"
      }
     },
     "0c467c4e21994e8aa4303ec9d6a2fe4c": {
      "model_module": "@jupyter-widgets/controls",
      "model_module_version": "1.5.0",
      "model_name": "CheckboxModel",
      "state": {
       "description": "DAI/ALCX (3.81946)",
       "disabled": false,
       "layout": "IPY_MODEL_bcb8c854bfe546a8b1af269543862ad2",
       "style": "IPY_MODEL_75a5cfb387904fe68a198422a401efab",
       "value": true
      }
     },
     "0c72e07cae744a0f9faf09ab868737a2": {
      "model_module": "@jupyter-widgets/controls",
      "model_module_version": "1.5.0",
      "model_name": "DescriptionStyleModel",
      "state": {
       "description_width": ""
      }
     },
     "0c839e549b794d0290574aedfa4fbc0e": {
      "model_module": "@jupyter-widgets/controls",
      "model_module_version": "1.5.0",
      "model_name": "DescriptionStyleModel",
      "state": {
       "description_width": ""
      }
     },
     "0c979f0e5df7484e9c7049f9199d1b4e": {
      "model_module": "@jupyter-widgets/base",
      "model_module_version": "1.2.0",
      "model_name": "LayoutModel",
      "state": {}
     },
     "0caf61f7ce284bf8b2d6e3eb47886b4c": {
      "model_module": "@jupyter-widgets/base",
      "model_module_version": "1.2.0",
      "model_name": "LayoutModel",
      "state": {}
     },
     "0cb18daf32f04235aa8e325e90cfeac1": {
      "model_module": "@jupyter-widgets/controls",
      "model_module_version": "1.5.0",
      "model_name": "DescriptionStyleModel",
      "state": {
       "description_width": ""
      }
     },
     "0cc639ac6fea44f6a3df0232671c1f16": {
      "model_module": "@jupyter-widgets/base",
      "model_module_version": "1.2.0",
      "model_name": "LayoutModel",
      "state": {}
     },
     "0ccc28a7a46442429ed7f95aaf256579": {
      "model_module": "@jupyter-widgets/base",
      "model_module_version": "1.2.0",
      "model_name": "LayoutModel",
      "state": {}
     },
     "0cd08d02c2894bc7a3d0861b27671885": {
      "model_module": "@jupyter-widgets/controls",
      "model_module_version": "1.5.0",
      "model_name": "LabelModel",
      "state": {
       "layout": "IPY_MODEL_ff0b2f51db3e4c3f98ecfe1afbae40e7",
       "style": "IPY_MODEL_69a745710a3a4d88bda527d083490619",
       "value": "Max Payout: 96.15992295640763 ALCX"
      }
     },
     "0d174a4df7fd445596f2205b967f924c": {
      "model_module": "@jupyter-widgets/controls",
      "model_module_version": "1.5.0",
      "model_name": "DescriptionStyleModel",
      "state": {
       "description_width": ""
      }
     },
     "0d1abaa9164f4e8f9498ef1b389a1d4c": {
      "model_module": "@jupyter-widgets/controls",
      "model_module_version": "1.5.0",
      "model_name": "LabelModel",
      "state": {
       "layout": "IPY_MODEL_f3fc82cecad64858acc31ff031194ec0",
       "style": "IPY_MODEL_fe500c06705041d68b8ae2858d076389",
       "value": "Select Assets to Claim:"
      }
     },
     "0d25e023ac8b4f4abb7873e2c772beb4": {
      "model_module": "@jupyter-widgets/base",
      "model_module_version": "1.2.0",
      "model_name": "LayoutModel",
      "state": {
       "width": "200px"
      }
     },
     "0d2d382711b043bab48194f1670094dc": {
      "model_module": "@jupyter-widgets/base",
      "model_module_version": "1.2.0",
      "model_name": "LayoutModel",
      "state": {}
     },
     "0d382669bb744fdf9adab15382d54de5": {
      "model_module": "@jupyter-widgets/controls",
      "model_module_version": "1.5.0",
      "model_name": "DescriptionStyleModel",
      "state": {
       "description_width": ""
      }
     },
     "0d4c4cbafa514f9b9cf358c5698a59c2": {
      "model_module": "@jupyter-widgets/controls",
      "model_module_version": "1.5.0",
      "model_name": "DescriptionStyleModel",
      "state": {
       "description_width": ""
      }
     },
     "0d60a0618b354059aabf417e5834d510": {
      "model_module": "@jupyter-widgets/controls",
      "model_module_version": "1.5.0",
      "model_name": "HBoxModel",
      "state": {
       "children": [
        "IPY_MODEL_fcc98e5f2a464d169de7ca97c7bf9ab8",
        "IPY_MODEL_f0b3da94fd5b4de0920ac22fc0027ee9"
       ],
       "layout": "IPY_MODEL_70d5a25cf2274222824f9c3b5874a3f9"
      }
     },
     "0db44ea0ce2a4623ae0bc8409d282088": {
      "model_module": "@jupyter-widgets/controls",
      "model_module_version": "1.5.0",
      "model_name": "DropdownModel",
      "state": {
       "_options_labels": [
        "WETH/ALCX",
        "DAI/ALCX",
        "CVX/ALCX",
        "ALCX-ETH SLP"
       ],
       "index": 0,
       "layout": "IPY_MODEL_0a9980516b9c462cbc1cedb20622a8c6",
       "style": "IPY_MODEL_6a9b73514197432aa96719065334a96c"
      }
     },
     "0dea78867ef74d3eb8703293c4355571": {
      "model_module": "@jupyter-widgets/controls",
      "model_module_version": "1.5.0",
      "model_name": "HBoxModel",
      "state": {
       "children": [
        "IPY_MODEL_81667e5cfd4e4cf5a7a0f05b3c41e826",
        "IPY_MODEL_dab91aa5ed36455294d1992520c455ee"
       ],
       "layout": "IPY_MODEL_700ad1464d5a4b488775869c5ed718c8"
      }
     },
     "0df4e47acf3d4da08c37552210509f3c": {
      "model_module": "@jupyter-widgets/controls",
      "model_module_version": "1.5.0",
      "model_name": "LabelModel",
      "state": {
       "layout": "IPY_MODEL_6f22e32fb3c145e5b6de172f2a767112",
       "style": "IPY_MODEL_80894fba65344c13a534b5030e1043c9",
       "value": "[Current block: 13905600]"
      }
     },
     "0e0bd10ad0584bbb8f4a0ee1990c8d5e": {
      "model_module": "@jupyter-widgets/controls",
      "model_module_version": "1.5.0",
      "model_name": "LabelModel",
      "state": {
       "layout": "IPY_MODEL_47b04b1d21234a08b72bcf534ef8d155",
       "style": "IPY_MODEL_929b39ba8dc447198241be1fcf0dd788",
       "value": "Max Payout: 96.15992295640763 ALCX"
      }
     },
     "0e343b5a14a146c7bf74695e1e85536f": {
      "model_module": "@jupyter-widgets/controls",
      "model_module_version": "1.5.0",
      "model_name": "DescriptionStyleModel",
      "state": {
       "description_width": ""
      }
     },
     "0e3d5ebdd9a64942899e367642004ae4": {
      "model_module": "@jupyter-widgets/controls",
      "model_module_version": "1.5.0",
      "model_name": "DescriptionStyleModel",
      "state": {
       "description_width": ""
      }
     },
     "0e46e0d9a6db4bd094ba3590214f0c98": {
      "model_module": "@jupyter-widgets/base",
      "model_module_version": "1.2.0",
      "model_name": "LayoutModel",
      "state": {}
     },
     "0e47ca4d5aa84ec39f21f425039d3ec5": {
      "model_module": "@jupyter-widgets/base",
      "model_module_version": "1.2.0",
      "model_name": "LayoutModel",
      "state": {}
     },
     "0e53a85541bf4073aa811d713fdd9251": {
      "model_module": "@jupyter-widgets/base",
      "model_module_version": "1.2.0",
      "model_name": "LayoutModel",
      "state": {}
     },
     "0e9bea98a3774a84b5c2bf5e72bfa433": {
      "model_module": "@jupyter-widgets/base",
      "model_module_version": "1.2.0",
      "model_name": "LayoutModel",
      "state": {}
     },
     "0eacdca768e44fec9d2d931e283caf26": {
      "model_module": "@jupyter-widgets/controls",
      "model_module_version": "1.5.0",
      "model_name": "LabelModel",
      "state": {
       "layout": "IPY_MODEL_483be3f4c3dd45a2af7736a63799f93f",
       "style": "IPY_MODEL_1d965adb9d404879bb2d9a7008fcabbe",
       "value": "Max Payout: 96.15973854597343 ALCX"
      }
     },
     "0ecf0ceceacb409ca8a7541ba596855e": {
      "model_module": "@jupyter-widgets/base",
      "model_module_version": "1.2.0",
      "model_name": "LayoutModel",
      "state": {}
     },
     "0efd0acbb36e466dbdc08c662bc473b8": {
      "model_module": "@jupyter-widgets/controls",
      "model_module_version": "1.5.0",
      "model_name": "LabelModel",
      "state": {
       "layout": "IPY_MODEL_e5d8b736f2524c279c9b6e54e5672f95",
       "style": "IPY_MODEL_3c77d87cedcb491d8e9fe0dbda7e8a4c",
       "value": "[Current block: 13905557]"
      }
     },
     "0f0da97dad8c4b678b5b4031cccd4c47": {
      "model_module": "@jupyter-widgets/controls",
      "model_module_version": "1.5.0",
      "model_name": "LabelModel",
      "state": {
       "layout": "IPY_MODEL_e9b63854bf2841608a315c5c47d435f2",
       "style": "IPY_MODEL_a48b6193356e431b95d40b932ae03cd7"
      }
     },
     "0f3af7fe4d36491f81da1ac40f73a8d0": {
      "model_module": "@jupyter-widgets/controls",
      "model_module_version": "1.5.0",
      "model_name": "DescriptionStyleModel",
      "state": {
       "description_width": ""
      }
     },
     "0f3c0295f1074ef2a2f5da750bd0da2f": {
      "model_module": "@jupyter-widgets/controls",
      "model_module_version": "1.5.0",
      "model_name": "LabelModel",
      "state": {
       "layout": "IPY_MODEL_2f1b2a971501453b919a083e01d49b2a",
       "style": "IPY_MODEL_41840a1fea744b90a44d806f015a9ccd",
       "value": "You Will Get: 3.584852005145968 ALCX"
      }
     },
     "0f7101cd76b04eb18d05dbdb761766cc": {
      "model_module": "@jupyter-widgets/controls",
      "model_module_version": "1.5.0",
      "model_name": "DescriptionStyleModel",
      "state": {
       "description_width": ""
      }
     },
     "0f7e3b4597b14defa102eaca5f65cc8a": {
      "model_module": "@jupyter-widgets/controls",
      "model_module_version": "1.5.0",
      "model_name": "DescriptionStyleModel",
      "state": {
       "description_width": ""
      }
     },
     "0f943be3d0144f40b4ddcc0e22a9a7a6": {
      "model_module": "@jupyter-widgets/base",
      "model_module_version": "1.2.0",
      "model_name": "LayoutModel",
      "state": {
       "width": "200px"
      }
     },
     "0fb202c36eab454497d7cc01a9a4ea95": {
      "model_module": "@jupyter-widgets/controls",
      "model_module_version": "1.5.0",
      "model_name": "CheckboxModel",
      "state": {
       "description": "DAI/ALCX (3.64434)",
       "disabled": false,
       "layout": "IPY_MODEL_fbdedc69e8974c17abe643286bc603cf",
       "style": "IPY_MODEL_957910e4290c4690b8a1b0a7f97faa13",
       "value": false
      }
     },
     "0fb27b567d2a48928966698550cc9d12": {
      "model_module": "@jupyter-widgets/controls",
      "model_module_version": "1.5.0",
      "model_name": "LabelModel",
      "state": {
       "layout": "IPY_MODEL_7fd5449b1c2e45649f69c4482612ad6e",
       "style": "IPY_MODEL_79fda938027142d896062593a358bb22",
       "value": "Max Input: 5.988671521151721 WETH"
      }
     },
     "0fbaa295882a4e90b6c261622f916cc2": {
      "model_module": "@jupyter-widgets/controls",
      "model_module_version": "1.5.0",
      "model_name": "LabelModel",
      "state": {
       "layout": "IPY_MODEL_4dab503b46f142b6b466231b9205c680",
       "style": "IPY_MODEL_ea1357aa7ceb46fabe21157e69de494a",
       "value": "Select Assets to Claim:"
      }
     },
     "0fbe9dd4334342ca93c62b0c4680b417": {
      "model_module": "@jupyter-widgets/controls",
      "model_module_version": "1.5.0",
      "model_name": "ButtonModel",
      "state": {
       "description": "Generate MultiCall Data",
       "layout": "IPY_MODEL_5128173deef44124940f4ef7018fd158",
       "style": "IPY_MODEL_a095e1ddd00d4704950a1005fac5934e"
      }
     },
     "0fbea6a6454d45a1a9b5c0aaee807e94": {
      "model_module": "@jupyter-widgets/base",
      "model_module_version": "1.2.0",
      "model_name": "LayoutModel",
      "state": {}
     },
     "0fdd003cdd37497580f1d550ae9a52da": {
      "model_module": "@jupyter-widgets/controls",
      "model_module_version": "1.5.0",
      "model_name": "DescriptionStyleModel",
      "state": {
       "description_width": ""
      }
     },
     "104402f236ff4e21af67191f75ff14d7": {
      "model_module": "@jupyter-widgets/controls",
      "model_module_version": "1.5.0",
      "model_name": "DescriptionStyleModel",
      "state": {
       "description_width": ""
      }
     },
     "105f19022e4148208cd730077b6d509a": {
      "model_module": "@jupyter-widgets/controls",
      "model_module_version": "1.5.0",
      "model_name": "LabelModel",
      "state": {
       "layout": "IPY_MODEL_a6207fd02f3d4f629036482676386ccf",
       "style": "IPY_MODEL_e1256b33ad3a4815928ab3ff6aa3acbe",
       "value": "Select Pool to Bond:"
      }
     },
     "1062675d92dc40feb1a849d594c86643": {
      "model_module": "@jupyter-widgets/controls",
      "model_module_version": "1.5.0",
      "model_name": "DescriptionStyleModel",
      "state": {
       "description_width": ""
      }
     },
     "1066d447571242d88cfb6443ef6a50e2": {
      "model_module": "@jupyter-widgets/base",
      "model_module_version": "1.2.0",
      "model_name": "LayoutModel",
      "state": {}
     },
     "10887ba6c30644cbaffca5a363a5314a": {
      "model_module": "@jupyter-widgets/controls",
      "model_module_version": "1.5.0",
      "model_name": "DescriptionStyleModel",
      "state": {
       "description_width": ""
      }
     },
     "10a52e9e2908412fb6334978b66e977e": {
      "model_module": "@jupyter-widgets/controls",
      "model_module_version": "1.5.0",
      "model_name": "DescriptionStyleModel",
      "state": {
       "description_width": ""
      }
     },
     "10ae08408a6f4a1fa959ed3845e0b16a": {
      "model_module": "@jupyter-widgets/controls",
      "model_module_version": "1.5.0",
      "model_name": "LabelModel",
      "state": {
       "layout": "IPY_MODEL_7a7e9d94482e44afb1873a69a82edfd7",
       "style": "IPY_MODEL_b1ee182f4e9c460fa7b400c5bcfe8610",
       "value": "[Current block: 13905559]"
      }
     },
     "10b6546a12874b1fa8dc45d4803e8087": {
      "model_module": "@jupyter-widgets/controls",
      "model_module_version": "1.5.0",
      "model_name": "DescriptionStyleModel",
      "state": {
       "description_width": ""
      }
     },
     "10ce7c3984924a3685310ccd6e1450f2": {
      "model_module": "@jupyter-widgets/controls",
      "model_module_version": "1.5.0",
      "model_name": "DescriptionStyleModel",
      "state": {
       "description_width": ""
      }
     },
     "10dfbaa14f72422e8d64dd6e5606ec48": {
      "model_module": "@jupyter-widgets/controls",
      "model_module_version": "1.5.0",
      "model_name": "ButtonStyleModel",
      "state": {}
     },
     "10e1fc462903467bb9d37eb2f064e184": {
      "model_module": "@jupyter-widgets/controls",
      "model_module_version": "1.5.0",
      "model_name": "VBoxModel",
      "state": {
       "children": [
        "IPY_MODEL_d9637e833962490b8e6f939452d3cc1a",
        "IPY_MODEL_667b802af812427d941919c754e1d651",
        "IPY_MODEL_7ba22bb7afbc42b59d7e66a97cc94ad0",
        "IPY_MODEL_6c6cd246aedc47e39c616573d490f3e2",
        "IPY_MODEL_5196e12c304040db99a07f923032aff8",
        "IPY_MODEL_522a950413dd4874a478242bb18ae0dd",
        "IPY_MODEL_261a635775a04cbba97f73fe38d02aeb",
        "IPY_MODEL_4fcf43d61a844bf69780a7ed1b0bb9d8",
        "IPY_MODEL_d6b412c3cc1b4127a2ddcf71a0b9cee5",
        "IPY_MODEL_11e1fed00e3e49a2b0531bd6bce4b2b0",
        "IPY_MODEL_5a5ec2f9e1fb4401aea1d8a788af0c76",
        "IPY_MODEL_c57941264476463790b8b7211df82dbd",
        "IPY_MODEL_04a3f28b389e4b529969d9e9fa2b1f3d"
       ],
       "layout": "IPY_MODEL_22dc4f37e8ab42ee9d3d4d35f42a4c6b"
      }
     },
     "10ea7c46188e428cba70bee2b14514cd": {
      "model_module": "@jupyter-widgets/controls",
      "model_module_version": "1.5.0",
      "model_name": "LabelModel",
      "state": {
       "layout": "IPY_MODEL_6a14d7dff76e455b963974a59405b905",
       "style": "IPY_MODEL_855d6a6a29fc43cb854f06c6a037b490"
      }
     },
     "10eed42d87e24c0d9ea635af9683cce4": {
      "model_module": "@jupyter-widgets/controls",
      "model_module_version": "1.5.0",
      "model_name": "ButtonStyleModel",
      "state": {}
     },
     "10f65659ec294aaf8993984d71779853": {
      "model_module": "@jupyter-widgets/base",
      "model_module_version": "1.2.0",
      "model_name": "LayoutModel",
      "state": {}
     },
     "112750bd56c340f092dcd51fb0dc5855": {
      "model_module": "@jupyter-widgets/controls",
      "model_module_version": "1.5.0",
      "model_name": "DescriptionStyleModel",
      "state": {
       "description_width": ""
      }
     },
     "112794ba283244b6b281f54020f567e2": {
      "model_module": "@jupyter-widgets/base",
      "model_module_version": "1.2.0",
      "model_name": "LayoutModel",
      "state": {}
     },
     "1128bd1f18954b979cc691958fd81de8": {
      "model_module": "@jupyter-widgets/base",
      "model_module_version": "1.2.0",
      "model_name": "LayoutModel",
      "state": {}
     },
     "112d17be96a74610ab8a541d9722d5d7": {
      "model_module": "@jupyter-widgets/controls",
      "model_module_version": "1.5.0",
      "model_name": "CheckboxModel",
      "state": {
       "description": "CVX/ALCX (0.0)",
       "disabled": false,
       "layout": "IPY_MODEL_c46260d5cd8a4affaa96bf59ff784593",
       "style": "IPY_MODEL_5c1a95bbf6354bf6a75b005e2c0c1022",
       "value": false
      }
     },
     "113aaef0c0184d45937d5e1fafce82c0": {
      "model_module": "@jupyter-widgets/controls",
      "model_module_version": "1.5.0",
      "model_name": "DescriptionStyleModel",
      "state": {
       "description_width": ""
      }
     },
     "113c30e069e04a51a12db1a9208750fa": {
      "model_module": "@jupyter-widgets/base",
      "model_module_version": "1.2.0",
      "model_name": "LayoutModel",
      "state": {}
     },
     "1145a0f611224ccfb1eecdb2724a9088": {
      "model_module": "@jupyter-widgets/controls",
      "model_module_version": "1.5.0",
      "model_name": "DescriptionStyleModel",
      "state": {
       "description_width": ""
      }
     },
     "114b73863439445b91403ee0cb710aa8": {
      "model_module": "@jupyter-widgets/controls",
      "model_module_version": "1.5.0",
      "model_name": "DescriptionStyleModel",
      "state": {
       "description_width": ""
      }
     },
     "1162a862ae284a308ef4811dca1c5a1d": {
      "model_module": "@jupyter-widgets/base",
      "model_module_version": "1.2.0",
      "model_name": "LayoutModel",
      "state": {
       "width": "200px"
      }
     },
     "1174eedd78574cc2977bd588c5e7ac8d": {
      "model_module": "@jupyter-widgets/controls",
      "model_module_version": "1.5.0",
      "model_name": "LabelModel",
      "state": {
       "layout": "IPY_MODEL_064ff009e07b47a592daf2f7e17b93db",
       "style": "IPY_MODEL_2bb0633748ee48bc97661da47bf9de55",
       "value": "Supplying 2.6702556690546158 WETH and 41.58047 ALCX for 9.868836946389877 ALCX-ETH SLP"
      }
     },
     "117b525be7ab4befa447df087ecb557a": {
      "model_module": "@jupyter-widgets/base",
      "model_module_version": "1.2.0",
      "model_name": "LayoutModel",
      "state": {}
     },
     "11854c7597304a1c88e2f46065dae06f": {
      "model_module": "@jupyter-widgets/controls",
      "model_module_version": "1.5.0",
      "model_name": "CheckboxModel",
      "state": {
       "description": "DAI/ALCX (3.46921)",
       "disabled": false,
       "layout": "IPY_MODEL_603c6cc343ff498981a094d5f97250fc",
       "style": "IPY_MODEL_46b998cad1c140fc8b4cb83d9a125c6b",
       "value": false
      }
     },
     "118f82c5bf984cb78146d1c2fef013c5": {
      "model_module": "@jupyter-widgets/controls",
      "model_module_version": "1.5.0",
      "model_name": "DescriptionStyleModel",
      "state": {
       "description_width": ""
      }
     },
     "1192832a077046d2b0a93db5c58523d2": {
      "model_module": "@jupyter-widgets/base",
      "model_module_version": "1.2.0",
      "model_name": "LayoutModel",
      "state": {
       "width": "425px"
      }
     },
     "11ab630f52984dc492cb9bd36e7d8887": {
      "model_module": "@jupyter-widgets/base",
      "model_module_version": "1.2.0",
      "model_name": "LayoutModel",
      "state": {}
     },
     "11afba039c99424d87b7d73349c0ba6e": {
      "model_module": "@jupyter-widgets/controls",
      "model_module_version": "1.5.0",
      "model_name": "VBoxModel",
      "state": {
       "children": [
        "IPY_MODEL_b19121d3a88e41508a3dbac0a918667b",
        "IPY_MODEL_dc2e898c0a504eb892a0541e57318e82",
        "IPY_MODEL_648f707a81fd45eeb2ccc2ea889dc151",
        "IPY_MODEL_80c2c0ffb8a24b86827bf76e28bca7d9",
        "IPY_MODEL_c987fab9ad7d4c1daad1e7d57adccafd",
        "IPY_MODEL_ca267432c9184834b7814a7126c3d1bd",
        "IPY_MODEL_823d04651424470f9e7b9c1e410fcb02",
        "IPY_MODEL_ad2522f61e8948cfbfe58cc4484fb7d3",
        "IPY_MODEL_0b05e8b630364fc19bdf197d1d1c8a2f",
        "IPY_MODEL_3754f13e5ea94199ba00a4fafc7f5441",
        "IPY_MODEL_54248743a721439c9709baa8cb133821",
        "IPY_MODEL_441c1209767445a09eddb7f6305e800c",
        "IPY_MODEL_66c269022b044477bef5c58713a0ce47"
       ],
       "layout": "IPY_MODEL_d58dc706ed0f46f089e0ef554d63d292"
      }
     },
     "11bc8e8432564e0aa19142778d865b44": {
      "model_module": "@jupyter-widgets/controls",
      "model_module_version": "1.5.0",
      "model_name": "TextModel",
      "state": {
       "description": "Address: ",
       "layout": "IPY_MODEL_816f8f19c1944db49f45c4a5dec82ba1",
       "style": "IPY_MODEL_ce55893be1974e068866a3e917b41c6c",
       "value": "0xeEEC0e4927704ab3BBE5df7F4EfFa818b43665a3"
      }
     },
     "11dfa85eca33473e814e7873d9017e14": {
      "model_module": "@jupyter-widgets/base",
      "model_module_version": "1.2.0",
      "model_name": "LayoutModel",
      "state": {}
     },
     "11e1fed00e3e49a2b0531bd6bce4b2b0": {
      "model_module": "@jupyter-widgets/controls",
      "model_module_version": "1.5.0",
      "model_name": "DropdownModel",
      "state": {
       "_options_labels": [
        "WETH/ALCX",
        "DAI/ALCX",
        "CVX/ALCX",
        "ALCX-ETH SLP"
       ],
       "index": 0,
       "layout": "IPY_MODEL_3a9c6f64ab7749f58bcffb27ab380019",
       "style": "IPY_MODEL_6371f9a21f7446aab54e903781e43729"
      }
     },
     "11ec7655ba7b498bb3fa68eaad450b1e": {
      "model_module": "@jupyter-widgets/controls",
      "model_module_version": "1.5.0",
      "model_name": "DescriptionStyleModel",
      "state": {
       "description_width": ""
      }
     },
     "1270eccdc4d74af1b25a9ef9f51c3538": {
      "model_module": "@jupyter-widgets/controls",
      "model_module_version": "1.5.0",
      "model_name": "CheckboxModel",
      "state": {
       "description": "WETH/ALCX (7.45914)",
       "disabled": false,
       "layout": "IPY_MODEL_34ad57b4baef4f1fa8309a02b9e47654",
       "style": "IPY_MODEL_5684197912664181840fd743f8242f9d",
       "value": true
      }
     },
     "12949c7bf0f34ccab172d38af216894c": {
      "model_module": "@jupyter-widgets/controls",
      "model_module_version": "1.5.0",
      "model_name": "CheckboxModel",
      "state": {
       "description": "CVX/ALCX (0.0)",
       "disabled": false,
       "layout": "IPY_MODEL_12e6a5c76c4846869af03b4fbd597257",
       "style": "IPY_MODEL_f3b1a40610fd4e5dbb0d08576b6eca54",
       "value": false
      }
     },
     "1295c2f9e9a144be825b0bac1aaa805c": {
      "model_module": "@jupyter-widgets/base",
      "model_module_version": "1.2.0",
      "model_name": "LayoutModel",
      "state": {}
     },
     "12c5eddc333a4557a2949ce3f81083a9": {
      "model_module": "@jupyter-widgets/controls",
      "model_module_version": "1.5.0",
      "model_name": "HBoxModel",
      "state": {
       "children": [
        "IPY_MODEL_bbcccdfa37734d8a923b9ba0ff223dd2",
        "IPY_MODEL_7ec19044053641cb9760d3a944cd52e0"
       ],
       "layout": "IPY_MODEL_04be9f55875c4ee5add61688cda4a923"
      }
     },
     "12cea06532314a0e87ac6800e7ab3708": {
      "model_module": "@jupyter-widgets/controls",
      "model_module_version": "1.5.0",
      "model_name": "DescriptionStyleModel",
      "state": {
       "description_width": ""
      }
     },
     "12e41338a7fa4cc4829f01c9a2c84284": {
      "model_module": "@jupyter-widgets/controls",
      "model_module_version": "1.5.0",
      "model_name": "DescriptionStyleModel",
      "state": {
       "description_width": ""
      }
     },
     "12e6a5c76c4846869af03b4fbd597257": {
      "model_module": "@jupyter-widgets/base",
      "model_module_version": "1.2.0",
      "model_name": "LayoutModel",
      "state": {}
     },
     "12f8e73f75374e87a8f9807f3da5d32f": {
      "model_module": "@jupyter-widgets/controls",
      "model_module_version": "1.5.0",
      "model_name": "DescriptionStyleModel",
      "state": {
       "description_width": ""
      }
     },
     "12fc3764c44e4b5faa15050cf7f3942d": {
      "model_module": "@jupyter-widgets/controls",
      "model_module_version": "1.5.0",
      "model_name": "DescriptionStyleModel",
      "state": {
       "description_width": ""
      }
     },
     "132ffaebb2a445d8967f92703f26688c": {
      "model_module": "@jupyter-widgets/controls",
      "model_module_version": "1.5.0",
      "model_name": "CheckboxModel",
      "state": {
       "description": "Use Wallet Balance (72.80737)",
       "disabled": false,
       "layout": "IPY_MODEL_24ba11022bbd4e3aa221f6c32019dedf",
       "style": "IPY_MODEL_c5026186e089446bbe915e6b17032f9c",
       "value": true
      }
     },
     "1395ae51a3e04fd697f190ce86e0e6bc": {
      "model_module": "@jupyter-widgets/base",
      "model_module_version": "1.2.0",
      "model_name": "LayoutModel",
      "state": {}
     },
     "1395dfab428a4932a4bca5bf99100061": {
      "model_module": "@jupyter-widgets/controls",
      "model_module_version": "1.5.0",
      "model_name": "DescriptionStyleModel",
      "state": {
       "description_width": ""
      }
     },
     "13a7230ee6d6413bba9a0ba46b0f088e": {
      "model_module": "@jupyter-widgets/controls",
      "model_module_version": "1.5.0",
      "model_name": "VBoxModel",
      "state": {
       "children": [
        "IPY_MODEL_654a58f9c9774c849b51050cea3dc8c9",
        "IPY_MODEL_301089faa7824933b7f90627747c8748",
        "IPY_MODEL_ad68b1cfccc24bda9be9ec8c9e2f6723",
        "IPY_MODEL_41d45827fcc54e1888ccf9945364861b",
        "IPY_MODEL_eb2f5c0610aa45d5882c594bb638a6c9",
        "IPY_MODEL_15d521fd56a8480e97c222398d9a868b",
        "IPY_MODEL_c71d5cf9084b432b899ede0d889071b1",
        "IPY_MODEL_28792c8945f74ca58664727da6e8ea8d",
        "IPY_MODEL_4914d52a0f8e487e8599ff6079adb41c",
        "IPY_MODEL_1ee797d15e7b48779487361ef079aa26",
        "IPY_MODEL_b0b177225e2f49f3b11f59081fc967be",
        "IPY_MODEL_d14a502cdaf44c48b1f4e5ac8801804d",
        "IPY_MODEL_a4485926e4a04f2b8db231d028b8981c"
       ],
       "layout": "IPY_MODEL_8522c7975d92407aa86691c4b1eebd31"
      }
     },
     "13be445b38774954b7757777c13e4b48": {
      "model_module": "@jupyter-widgets/controls",
      "model_module_version": "1.5.0",
      "model_name": "DescriptionStyleModel",
      "state": {
       "description_width": ""
      }
     },
     "1409e30e781140eea951f7b007d0c1a7": {
      "model_module": "@jupyter-widgets/controls",
      "model_module_version": "1.5.0",
      "model_name": "LabelModel",
      "state": {
       "layout": "IPY_MODEL_e8e5278fb48c423fba7f20a2fffaa91e",
       "style": "IPY_MODEL_a7195172ded540758a72d45796256956",
       "value": "Select Pool to Bond:"
      }
     },
     "1412c2009e2f40cd838c36203df7a65c": {
      "model_module": "@jupyter-widgets/controls",
      "model_module_version": "1.5.0",
      "model_name": "VBoxModel",
      "state": {
       "children": [
        "IPY_MODEL_77b11e4fabb3431ab8d8e168c00351e6",
        "IPY_MODEL_c490d0809bf643da839b34b60a697b86",
        "IPY_MODEL_c993e3fa40f244a09903c1519f507c31",
        "IPY_MODEL_5a404184ecc449e7b7edd5b2200fac1c",
        "IPY_MODEL_473a771c0b7242f6a141ce4738ebb559",
        "IPY_MODEL_1be1d63f2cb244a3b04010ce097dee32",
        "IPY_MODEL_24270967dd344bcfaea32a6cb093bca5",
        "IPY_MODEL_844a03f0516e450eb7246e5d1cf85f2d",
        "IPY_MODEL_a6f305be6dcc462ba053bd5014ab9e7b",
        "IPY_MODEL_6f7cc0f703a444b99bbb94271f0078f0",
        "IPY_MODEL_5a7f986e8c9447198152a887e8c0bd36",
        "IPY_MODEL_eb56ea9d77ca467a9d3522bd556ced53",
        "IPY_MODEL_6a249d6695494d37a2404d69ea4f6065",
        "IPY_MODEL_61b75586f44747a6a019496d138525e9"
       ],
       "layout": "IPY_MODEL_c815da570228474bb6c67fc3b21a92fd"
      }
     },
     "141cd79b095546a18aacbdee02fb96b1": {
      "model_module": "@jupyter-widgets/base",
      "model_module_version": "1.2.0",
      "model_name": "LayoutModel",
      "state": {}
     },
     "145cddd49b8c46e99a2943f883e95603": {
      "model_module": "@jupyter-widgets/controls",
      "model_module_version": "1.5.0",
      "model_name": "DescriptionStyleModel",
      "state": {
       "description_width": ""
      }
     },
     "1493ed43f08149f5a44f1bebbbd7b0f3": {
      "model_module": "@jupyter-widgets/base",
      "model_module_version": "1.2.0",
      "model_name": "LayoutModel",
      "state": {}
     },
     "14ce069f2d5345aba060154bc48888be": {
      "model_module": "@jupyter-widgets/controls",
      "model_module_version": "1.5.0",
      "model_name": "CheckboxModel",
      "state": {
       "description": "Use Wallet Balance (72.80737)",
       "disabled": false,
       "layout": "IPY_MODEL_6fcb997d95734f929d6688fcf14d7a18",
       "style": "IPY_MODEL_2a9d47f29ed8429cbda17bf1e65b6f20",
       "value": true
      }
     },
     "14d9fa99356f4ddb9f1d1a39f0244f93": {
      "model_module": "@jupyter-widgets/controls",
      "model_module_version": "1.5.0",
      "model_name": "CheckboxModel",
      "state": {
       "description": "WETH/ALCX (7.40068)",
       "disabled": false,
       "layout": "IPY_MODEL_04cf3d6dc7cb4cd7b671093c3c02a0a8",
       "style": "IPY_MODEL_0635abfe8917446482d2cf5223b69adf",
       "value": false
      }
     },
     "14fc62feca064842b67a7e7d3c1bf62c": {
      "model_module": "@jupyter-widgets/base",
      "model_module_version": "1.2.0",
      "model_name": "LayoutModel",
      "state": {}
     },
     "14fff5954a2d49c6a5f381aaa4be5349": {
      "model_module": "@jupyter-widgets/controls",
      "model_module_version": "1.5.0",
      "model_name": "CheckboxModel",
      "state": {
       "description": "CVX/ALCX (0.0)",
       "disabled": false,
       "layout": "IPY_MODEL_195cee8935c34ee689e3e49c7b1d0d34",
       "style": "IPY_MODEL_2fbe209aa39044c2a988b007797d2a00",
       "value": false
      }
     },
     "150e46d7cce9464b8d2e58ae8ba04328": {
      "model_module": "@jupyter-widgets/controls",
      "model_module_version": "1.5.0",
      "model_name": "DescriptionStyleModel",
      "state": {
       "description_width": ""
      }
     },
     "15498a6e0ede4ec082ac0c45014d00da": {
      "model_module": "@jupyter-widgets/base",
      "model_module_version": "1.2.0",
      "model_name": "LayoutModel",
      "state": {
       "width": "200px"
      }
     },
     "1577715beaa84d469f945244078044f1": {
      "model_module": "@jupyter-widgets/base",
      "model_module_version": "1.2.0",
      "model_name": "LayoutModel",
      "state": {}
     },
     "158f3f7e954f44ab89b63c7869c43c99": {
      "model_module": "@jupyter-widgets/base",
      "model_module_version": "1.2.0",
      "model_name": "LayoutModel",
      "state": {}
     },
     "15cadc94f5174622af583c60b55a69f9": {
      "model_module": "@jupyter-widgets/controls",
      "model_module_version": "1.5.0",
      "model_name": "DescriptionStyleModel",
      "state": {
       "description_width": ""
      }
     },
     "15d521fd56a8480e97c222398d9a868b": {
      "model_module": "@jupyter-widgets/controls",
      "model_module_version": "1.5.0",
      "model_name": "HBoxModel",
      "state": {
       "children": [
        "IPY_MODEL_ff6c4ac5fc374553a4d0c48259b934ed",
        "IPY_MODEL_cc286aec993e4ee3a5bf8927e238bbc8"
       ],
       "layout": "IPY_MODEL_c2b289fc6b51481993b4bf30ace18c6d"
      }
     },
     "16005e38d54b44d984b2d15b9865b405": {
      "model_module": "@jupyter-widgets/controls",
      "model_module_version": "1.5.0",
      "model_name": "DescriptionStyleModel",
      "state": {
       "description_width": ""
      }
     },
     "160d4e398d2744c0877036d4fcfcf762": {
      "model_module": "@jupyter-widgets/base",
      "model_module_version": "1.2.0",
      "model_name": "LayoutModel",
      "state": {
       "width": "425px"
      }
     },
     "162820fb8134418cabb8b4a13ba7a2e0": {
      "model_module": "@jupyter-widgets/base",
      "model_module_version": "1.2.0",
      "model_name": "LayoutModel",
      "state": {}
     },
     "1629625aa6874e9e8f9708923caaa7f8": {
      "model_module": "@jupyter-widgets/controls",
      "model_module_version": "1.5.0",
      "model_name": "DescriptionStyleModel",
      "state": {
       "description_width": ""
      }
     },
     "167a9e6b7c504a6190b972dd597b2359": {
      "model_module": "@jupyter-widgets/base",
      "model_module_version": "1.2.0",
      "model_name": "LayoutModel",
      "state": {}
     },
     "16b5a229d6c941afabd6b67151fc00b2": {
      "model_module": "@jupyter-widgets/controls",
      "model_module_version": "1.5.0",
      "model_name": "DescriptionStyleModel",
      "state": {
       "description_width": ""
      }
     },
     "16c797f1210b47ac943260fec674c48c": {
      "model_module": "@jupyter-widgets/base",
      "model_module_version": "1.2.0",
      "model_name": "LayoutModel",
      "state": {}
     },
     "16de5d22acdc44d5a584b2150e5b0fc4": {
      "model_module": "@jupyter-widgets/controls",
      "model_module_version": "1.5.0",
      "model_name": "DescriptionStyleModel",
      "state": {
       "description_width": ""
      }
     },
     "16fc64120dde411c8320ccdf7997d6e3": {
      "model_module": "@jupyter-widgets/controls",
      "model_module_version": "1.5.0",
      "model_name": "DescriptionStyleModel",
      "state": {
       "description_width": ""
      }
     },
     "1714eec53f7e4c758ca0cd07023f7f8f": {
      "model_module": "@jupyter-widgets/controls",
      "model_module_version": "1.5.0",
      "model_name": "DescriptionStyleModel",
      "state": {
       "description_width": ""
      }
     },
     "17353bd8c268439fbb7c15037fee987a": {
      "model_module": "@jupyter-widgets/controls",
      "model_module_version": "1.5.0",
      "model_name": "CheckboxModel",
      "state": {
       "description": "CVX/ALCX (0.0)",
       "disabled": false,
       "layout": "IPY_MODEL_3eccf9d172da4fb1965aec264a328c4a",
       "style": "IPY_MODEL_0f3af7fe4d36491f81da1ac40f73a8d0",
       "value": false
      }
     },
     "173691ed1ea040c2962b81fa80567c5c": {
      "model_module": "@jupyter-widgets/controls",
      "model_module_version": "1.5.0",
      "model_name": "LabelModel",
      "state": {
       "layout": "IPY_MODEL_83ffe1c76a2340d18a0722ab03411652",
       "style": "IPY_MODEL_aac2fd9b51834e6dbbda4cf09f00b67c",
       "value": "Swapping 83.01764 ALCX for 5.330139218914565 WETH"
      }
     },
     "173ac22556ba497b80624121e65558d7": {
      "model_module": "@jupyter-widgets/base",
      "model_module_version": "1.2.0",
      "model_name": "LayoutModel",
      "state": {}
     },
     "1764ee3e7abc4a3d91805c152890f034": {
      "model_module": "@jupyter-widgets/controls",
      "model_module_version": "1.5.0",
      "model_name": "HBoxModel",
      "state": {
       "children": [
        "IPY_MODEL_67354bd803e143e18097d7e0f80c0363",
        "IPY_MODEL_33557300968b46b3b26974575cc7083a"
       ],
       "layout": "IPY_MODEL_1295c2f9e9a144be825b0bac1aaa805c"
      }
     },
     "17998777100946fc82cf14190cf3bf16": {
      "model_module": "@jupyter-widgets/controls",
      "model_module_version": "1.5.0",
      "model_name": "CheckboxModel",
      "state": {
       "description": "WETH/ALCX (7.27888)",
       "disabled": false,
       "layout": "IPY_MODEL_c737901fef194cd280a341876b4953ba",
       "style": "IPY_MODEL_3d59d493beff4c08a76cc42a35cb1c1d",
       "value": true
      }
     },
     "17a057b3f98249a497947c77b27ee07d": {
      "model_module": "@jupyter-widgets/controls",
      "model_module_version": "1.5.0",
      "model_name": "CheckboxModel",
      "state": {
       "description": "DAI/ALCX (3.38164)",
       "disabled": false,
       "layout": "IPY_MODEL_02f968df493b4dfe9645f1bf8b4d58fb",
       "style": "IPY_MODEL_18ffff5ff7754c9bb16b02c05d90aa1d",
       "value": true
      }
     },
     "17a5cf6a374f4a5e9e371d3e9b6f49a8": {
      "model_module": "@jupyter-widgets/base",
      "model_module_version": "1.2.0",
      "model_name": "LayoutModel",
      "state": {}
     },
     "17acbe711211437cb76cdcae2fc43296": {
      "model_module": "@jupyter-widgets/controls",
      "model_module_version": "1.5.0",
      "model_name": "LabelModel",
      "state": {
       "layout": "IPY_MODEL_64cfc778d08049159816949565b12edb",
       "style": "IPY_MODEL_05c1f8727932499fb3b5d4a78d736403",
       "value": "Select Assets to Claim:"
      }
     },
     "17c3a7dce9434298965aa6d56c65d53d": {
      "model_module": "@jupyter-widgets/base",
      "model_module_version": "1.2.0",
      "model_name": "LayoutModel",
      "state": {}
     },
     "17cda58c7f40479a82be39ab7f1a9f08": {
      "model_module": "@jupyter-widgets/controls",
      "model_module_version": "1.5.0",
      "model_name": "HBoxModel",
      "state": {
       "children": [
        "IPY_MODEL_441e7e0edf2a410ebf4f88534ed4a16c",
        "IPY_MODEL_681404c884a74089b3c01c65b905a4fe"
       ],
       "layout": "IPY_MODEL_55eb63de301b40e09a59891635940bf3"
      }
     },
     "17e27bf90cd24d41a07808ef0041c53a": {
      "model_module": "@jupyter-widgets/base",
      "model_module_version": "1.2.0",
      "model_name": "LayoutModel",
      "state": {
       "width": "200px"
      }
     },
     "18240bcc534f4ca291592d52c5350ab6": {
      "model_module": "@jupyter-widgets/base",
      "model_module_version": "1.2.0",
      "model_name": "LayoutModel",
      "state": {}
     },
     "1826b30ce39043cc9ab3cad61b2b0f39": {
      "model_module": "@jupyter-widgets/base",
      "model_module_version": "1.2.0",
      "model_name": "LayoutModel",
      "state": {}
     },
     "1846430ef02444ff9f088b116714cf2a": {
      "model_module": "@jupyter-widgets/controls",
      "model_module_version": "1.5.0",
      "model_name": "DescriptionStyleModel",
      "state": {
       "description_width": ""
      }
     },
     "188b3388862247b6b915e6aac9e18e31": {
      "model_module": "@jupyter-widgets/controls",
      "model_module_version": "1.5.0",
      "model_name": "DescriptionStyleModel",
      "state": {
       "description_width": ""
      }
     },
     "18ceda2cf730441aad6f194a0650a0b6": {
      "model_module": "@jupyter-widgets/base",
      "model_module_version": "1.2.0",
      "model_name": "LayoutModel",
      "state": {}
     },
     "18da4f4702434da1b4f46701d3686554": {
      "model_module": "@jupyter-widgets/controls",
      "model_module_version": "1.5.0",
      "model_name": "ButtonModel",
      "state": {
       "description": "Generate MultiCall Data",
       "layout": "IPY_MODEL_f45c99afc3c9439e8f8130486acd4196",
       "style": "IPY_MODEL_422189d78d7c422da4b91b36ab9cbfec"
      }
     },
     "18f9c418a5ed460e84c7f911b713219a": {
      "model_module": "@jupyter-widgets/controls",
      "model_module_version": "1.5.0",
      "model_name": "DescriptionStyleModel",
      "state": {
       "description_width": ""
      }
     },
     "18ffff5ff7754c9bb16b02c05d90aa1d": {
      "model_module": "@jupyter-widgets/controls",
      "model_module_version": "1.5.0",
      "model_name": "DescriptionStyleModel",
      "state": {
       "description_width": ""
      }
     },
     "192b189410a84cd5b4b50e3d35a28203": {
      "model_module": "@jupyter-widgets/controls",
      "model_module_version": "1.5.0",
      "model_name": "DescriptionStyleModel",
      "state": {
       "description_width": ""
      }
     },
     "19502f8130ca47f99076ae8427cb2f80": {
      "model_module": "@jupyter-widgets/base",
      "model_module_version": "1.2.0",
      "model_name": "LayoutModel",
      "state": {}
     },
     "195cee8935c34ee689e3e49c7b1d0d34": {
      "model_module": "@jupyter-widgets/base",
      "model_module_version": "1.2.0",
      "model_name": "LayoutModel",
      "state": {}
     },
     "196d1c7460e8489490fafc5996d3cbab": {
      "model_module": "@jupyter-widgets/controls",
      "model_module_version": "1.5.0",
      "model_name": "CheckboxModel",
      "state": {
       "description": "WETH/ALCX (7.49812)",
       "disabled": false,
       "layout": "IPY_MODEL_ebbef4ee4d7049ab8dc576e5da63b8fd",
       "style": "IPY_MODEL_a18da9acdb7546fa8977e4755693ac56",
       "value": false
      }
     },
     "198b70cecea048d4a24398e58e0ca5f6": {
      "model_module": "@jupyter-widgets/controls",
      "model_module_version": "1.5.0",
      "model_name": "ButtonStyleModel",
      "state": {}
     },
     "199bb78fdda14fe19016b197634d294e": {
      "model_module": "@jupyter-widgets/controls",
      "model_module_version": "1.5.0",
      "model_name": "LabelModel",
      "state": {
       "layout": "IPY_MODEL_4a2807d064b44888bd58fb8f581da897",
       "style": "IPY_MODEL_9935e7e91fc44edd90b13aa4d5bb98c8",
       "value": "Select Assets to Claim:"
      }
     },
     "199ecde9c78c49f8b1256c8e05e61e73": {
      "model_module": "@jupyter-widgets/base",
      "model_module_version": "1.2.0",
      "model_name": "LayoutModel",
      "state": {}
     },
     "19a8b66690f346fbb36f823ff714ecf5": {
      "model_module": "@jupyter-widgets/base",
      "model_module_version": "1.2.0",
      "model_name": "LayoutModel",
      "state": {}
     },
     "19abe4efdb4e46518fa5a4b93c450fdd": {
      "model_module": "@jupyter-widgets/base",
      "model_module_version": "1.2.0",
      "model_name": "LayoutModel",
      "state": {}
     },
     "19f4933bbc5546d08b66bbb8435f4571": {
      "model_module": "@jupyter-widgets/controls",
      "model_module_version": "1.5.0",
      "model_name": "LabelModel",
      "state": {
       "layout": "IPY_MODEL_4dcc270fc5004de7acccafcbd0b52fa9",
       "style": "IPY_MODEL_7d928a4591674404b5c0ccc80f793038",
       "value": "Max Payout: 96.15973854597343 ALCX"
      }
     },
     "19f57b19441842eea3317e0a6bcf0a21": {
      "model_module": "@jupyter-widgets/base",
      "model_module_version": "1.2.0",
      "model_name": "LayoutModel",
      "state": {}
     },
     "1a07761c3b794b3ca6d0901105a125db": {
      "model_module": "@jupyter-widgets/controls",
      "model_module_version": "1.5.0",
      "model_name": "DescriptionStyleModel",
      "state": {
       "description_width": ""
      }
     },
     "1a50cab3c056416896cdaaedc50a74e7": {
      "model_module": "@jupyter-widgets/controls",
      "model_module_version": "1.5.0",
      "model_name": "DescriptionStyleModel",
      "state": {
       "description_width": ""
      }
     },
     "1a57cb2c4aa248cd8a474b1d9c7be7cc": {
      "model_module": "@jupyter-widgets/controls",
      "model_module_version": "1.5.0",
      "model_name": "CheckboxModel",
      "state": {
       "description": "WETH/ALCX (7.32272)",
       "disabled": false,
       "layout": "IPY_MODEL_6cc3b611d8334e89980e9cd56b7a9a60",
       "style": "IPY_MODEL_4474735caf134fc1a9c352320d9ac858",
       "value": true
      }
     },
     "1a58ef21c1ff43ccb0eae2632dbbc525": {
      "model_module": "@jupyter-widgets/base",
      "model_module_version": "1.2.0",
      "model_name": "LayoutModel",
      "state": {}
     },
     "1a6aa6b027044d7a88901904cfbad50c": {
      "model_module": "@jupyter-widgets/controls",
      "model_module_version": "1.5.0",
      "model_name": "ButtonModel",
      "state": {
       "description": "Generate MultiCall Data",
       "layout": "IPY_MODEL_ce760f4cdbf64122b1744d54a1b1e8fe",
       "style": "IPY_MODEL_c2c211f5d3b541b49d53e54061fde660"
      }
     },
     "1aa3a66d955b4b4daca69a3bd202b92a": {
      "model_module": "@jupyter-widgets/controls",
      "model_module_version": "1.5.0",
      "model_name": "HBoxModel",
      "state": {
       "children": [
        "IPY_MODEL_b3bef83c4daa4c3b8eaa489650548e74",
        "IPY_MODEL_ce972b8ed5824a1c89b04aef67c47c4f"
       ],
       "layout": "IPY_MODEL_86d53ceaed7f40ed8d68169659436b68"
      }
     },
     "1aaa7c091d444dfeba066c2b02915ac8": {
      "model_module": "@jupyter-widgets/controls",
      "model_module_version": "1.5.0",
      "model_name": "DescriptionStyleModel",
      "state": {
       "description_width": ""
      }
     },
     "1abcab8123c247a392127641b14dab13": {
      "model_module": "@jupyter-widgets/base",
      "model_module_version": "1.2.0",
      "model_name": "LayoutModel",
      "state": {}
     },
     "1abd3199bab64780b2968e716ff3c753": {
      "model_module": "@jupyter-widgets/base",
      "model_module_version": "1.2.0",
      "model_name": "LayoutModel",
      "state": {}
     },
     "1adbda751e0b49508e12e384cdb27fdc": {
      "model_module": "@jupyter-widgets/base",
      "model_module_version": "1.2.0",
      "model_name": "LayoutModel",
      "state": {
       "width": "200px"
      }
     },
     "1ae1cf8ae0a64053aa578f96e9c976ee": {
      "model_module": "@jupyter-widgets/controls",
      "model_module_version": "1.5.0",
      "model_name": "CheckboxModel",
      "state": {
       "description": "DAI/ALCX (3.81113)",
       "disabled": false,
       "layout": "IPY_MODEL_4bf1cb38a38147f3baea2c3882d98bb7",
       "style": "IPY_MODEL_3635897d7b8745ae85e057c37a91c476",
       "value": false
      }
     },
     "1ae824a4576c4c37b62e5c133a4f70e0": {
      "model_module": "@jupyter-widgets/base",
      "model_module_version": "1.2.0",
      "model_name": "LayoutModel",
      "state": {}
     },
     "1afaecfd4c4a45b7b6901661e7db33fb": {
      "model_module": "@jupyter-widgets/controls",
      "model_module_version": "1.5.0",
      "model_name": "DescriptionStyleModel",
      "state": {
       "description_width": ""
      }
     },
     "1b03c72ef77d4bbe84bd7ea278c22f2e": {
      "model_module": "@jupyter-widgets/controls",
      "model_module_version": "1.5.0",
      "model_name": "LabelModel",
      "state": {
       "layout": "IPY_MODEL_1ceec7f5c2a64738bfad93a210118e20",
       "style": "IPY_MODEL_2442710a9a7849c5b318f4b312d983dc",
       "value": "Select Pool to Bond:"
      }
     },
     "1b1e615f48dd481dbbefe3060f318996": {
      "model_module": "@jupyter-widgets/base",
      "model_module_version": "1.2.0",
      "model_name": "LayoutModel",
      "state": {}
     },
     "1b27c4094af9472680c04c05fc32b456": {
      "model_module": "@jupyter-widgets/controls",
      "model_module_version": "1.5.0",
      "model_name": "LabelModel",
      "state": {
       "layout": "IPY_MODEL_cb9844eb4e7a478cb6e8b88187d2e9cf",
       "style": "IPY_MODEL_2d3d88e8b3694618b5be6ade63ff0384",
       "value": "Swapping 83.64095 ALCX for 5.368891587402674 WETH"
      }
     },
     "1b3a4d59af3d44fda7542ff717a08723": {
      "model_module": "@jupyter-widgets/base",
      "model_module_version": "1.2.0",
      "model_name": "LayoutModel",
      "state": {}
     },
     "1b3c36d9118f4532a27586aa5226db46": {
      "model_module": "@jupyter-widgets/controls",
      "model_module_version": "1.5.0",
      "model_name": "DescriptionStyleModel",
      "state": {
       "description_width": ""
      }
     },
     "1bbffdd1437e4455ae0c80ecbfb003fe": {
      "model_module": "@jupyter-widgets/controls",
      "model_module_version": "1.5.0",
      "model_name": "DescriptionStyleModel",
      "state": {
       "description_width": ""
      }
     },
     "1bcdeff180ee48cd8d718a06501b5060": {
      "model_module": "@jupyter-widgets/controls",
      "model_module_version": "1.5.0",
      "model_name": "DescriptionStyleModel",
      "state": {
       "description_width": ""
      }
     },
     "1bd1e63820fc4fb9bdf8bba7fe322c69": {
      "model_module": "@jupyter-widgets/controls",
      "model_module_version": "1.5.0",
      "model_name": "CheckboxModel",
      "state": {
       "description": "ALCX-ETH SLP (0.0)",
       "disabled": false,
       "layout": "IPY_MODEL_1d842678903b4d53b46fe9e9216da9fd",
       "style": "IPY_MODEL_2db47306b6f54a139eb9d34e9fda7290",
       "value": false
      }
     },
     "1bd322e6c3394ae98ef46fd8024a314e": {
      "model_module": "@jupyter-widgets/base",
      "model_module_version": "1.2.0",
      "model_name": "LayoutModel",
      "state": {}
     },
     "1be1d63f2cb244a3b04010ce097dee32": {
      "model_module": "@jupyter-widgets/controls",
      "model_module_version": "1.5.0",
      "model_name": "HBoxModel",
      "state": {
       "children": [
        "IPY_MODEL_5b9174ab9aba4a8fab4477e7a049dae8",
        "IPY_MODEL_47f1f302d9ab4987934b67d3ee5f7ea2"
       ],
       "layout": "IPY_MODEL_6b7ecf0b9001454a910a584992e8125e"
      }
     },
     "1c1456edd3e5417db2d6b42a0c55eef8": {
      "model_module": "@jupyter-widgets/base",
      "model_module_version": "1.2.0",
      "model_name": "LayoutModel",
      "state": {}
     },
     "1c4abec4fe4e4e1991c3166e15f655a1": {
      "model_module": "@jupyter-widgets/controls",
      "model_module_version": "1.5.0",
      "model_name": "TextModel",
      "state": {
       "description": "Address: ",
       "layout": "IPY_MODEL_e0e0b16cc7b84454a8a1022754e99a95",
       "style": "IPY_MODEL_90ff05df39504ad88e94d8c9298e00db",
       "value": "0xeEEC0e4927704ab3BBE5df7F4EfFa818b43665a3"
      }
     },
     "1c71615092204b6fb364269710373bd1": {
      "model_module": "@jupyter-widgets/base",
      "model_module_version": "1.2.0",
      "model_name": "LayoutModel",
      "state": {}
     },
     "1c75f785818f44d280594785b8eb39b4": {
      "model_module": "@jupyter-widgets/controls",
      "model_module_version": "1.5.0",
      "model_name": "ButtonStyleModel",
      "state": {}
     },
     "1c75fceb912544c7a644237820ce5622": {
      "model_module": "@jupyter-widgets/controls",
      "model_module_version": "1.5.0",
      "model_name": "DescriptionStyleModel",
      "state": {
       "description_width": ""
      }
     },
     "1c763beb6d77493c9259d3e099e09c23": {
      "model_module": "@jupyter-widgets/base",
      "model_module_version": "1.2.0",
      "model_name": "LayoutModel",
      "state": {}
     },
     "1c76735b2c7f48e0b54f6aab6662a528": {
      "model_module": "@jupyter-widgets/controls",
      "model_module_version": "1.5.0",
      "model_name": "VBoxModel",
      "state": {
       "children": [
        "IPY_MODEL_2e9075eaece64291a4b96534b31102f0",
        "IPY_MODEL_8099356f207f43e3be1c0232499c559d",
        "IPY_MODEL_a39fb11ddbe5463e89a84346b7f4d3bc",
        "IPY_MODEL_bde9b0b4be4b48bf916b812ff9b1a616",
        "IPY_MODEL_aafcafc0b9424d02a8b53ed5dffdfa38",
        "IPY_MODEL_1f66901b4351432fb7a6432a12c675b9",
        "IPY_MODEL_87b5303993864b03b738484a0311c166",
        "IPY_MODEL_4b061c6a01f9426cb752706cd8323d09",
        "IPY_MODEL_f22bfd52e41441f7a5377b7662c41c6e",
        "IPY_MODEL_ca19c2ee7fbe4c12b85319ff3cb5669b",
        "IPY_MODEL_b9a20a549d8a4f90815d9b7139e5dd19",
        "IPY_MODEL_26b363d3ad18441b8ff63517a81ad4f7",
        "IPY_MODEL_e0d8d9d913114abca3dcdc5b877ec49e",
        "IPY_MODEL_20c537366b3640ddb48e59e323204494"
       ],
       "layout": "IPY_MODEL_49bdbfab6be7435d9b8f287b33efbcd5"
      }
     },
     "1c79e4600a13440f8e606924566a2aff": {
      "model_module": "@jupyter-widgets/base",
      "model_module_version": "1.2.0",
      "model_name": "LayoutModel",
      "state": {}
     },
     "1c8d1f1dc35a480c8447348e98b74e37": {
      "model_module": "@jupyter-widgets/base",
      "model_module_version": "1.2.0",
      "model_name": "LayoutModel",
      "state": {}
     },
     "1c93d400ad1040b093822e9862c8df9d": {
      "model_module": "@jupyter-widgets/controls",
      "model_module_version": "1.5.0",
      "model_name": "ButtonStyleModel",
      "state": {}
     },
     "1cc5e7c86d51450aae1deb30824338c5": {
      "model_module": "@jupyter-widgets/base",
      "model_module_version": "1.2.0",
      "model_name": "LayoutModel",
      "state": {}
     },
     "1ce1d3ccd139435ab9731959f3c005cf": {
      "model_module": "@jupyter-widgets/controls",
      "model_module_version": "1.5.0",
      "model_name": "DropdownModel",
      "state": {
       "_options_labels": [
        "WETH/ALCX",
        "DAI/ALCX",
        "CVX/ALCX",
        "ALCX-ETH SLP"
       ],
       "index": 0,
       "layout": "IPY_MODEL_8a26a6fd9556462ab7b3739340540ed4",
       "style": "IPY_MODEL_deb2e5d8926a4d3b8dcddc293fdc3fbc"
      }
     },
     "1ce9f9ea699c4334aedbb08ccb06705e": {
      "model_module": "@jupyter-widgets/base",
      "model_module_version": "1.2.0",
      "model_name": "LayoutModel",
      "state": {}
     },
     "1ceec7f5c2a64738bfad93a210118e20": {
      "model_module": "@jupyter-widgets/base",
      "model_module_version": "1.2.0",
      "model_name": "LayoutModel",
      "state": {}
     },
     "1d1d6694d058445d8d6a988bab7b360f": {
      "model_module": "@jupyter-widgets/base",
      "model_module_version": "1.2.0",
      "model_name": "LayoutModel",
      "state": {}
     },
     "1d2db3d0ac574558ad6d654948358ccf": {
      "model_module": "@jupyter-widgets/base",
      "model_module_version": "1.2.0",
      "model_name": "LayoutModel",
      "state": {}
     },
     "1d301c4405464e0a8a8d7c03decbc28a": {
      "model_module": "@jupyter-widgets/base",
      "model_module_version": "1.2.0",
      "model_name": "LayoutModel",
      "state": {}
     },
     "1d3cd5771bc246c4b9eebf9a669fca0c": {
      "model_module": "@jupyter-widgets/controls",
      "model_module_version": "1.5.0",
      "model_name": "CheckboxModel",
      "state": {
       "description": "ALCX-ETH SLP (0.0)",
       "disabled": false,
       "layout": "IPY_MODEL_b50dd7f182f14df599e52932fad7716c",
       "style": "IPY_MODEL_a5f7e7504f0d4bb09684a5d251e7f516",
       "value": false
      }
     },
     "1d6b805c45e4427aa6536d431899ce7b": {
      "model_module": "@jupyter-widgets/controls",
      "model_module_version": "1.5.0",
      "model_name": "LabelModel",
      "state": {
       "layout": "IPY_MODEL_6821602ba6d64c84820a2d151b787070",
       "style": "IPY_MODEL_cae09b91d899466c9694f3abb29c0a0f",
       "value": "Max Payout: 96.15842394776256 ALCX"
      }
     },
     "1d842678903b4d53b46fe9e9216da9fd": {
      "model_module": "@jupyter-widgets/base",
      "model_module_version": "1.2.0",
      "model_name": "LayoutModel",
      "state": {}
     },
     "1d8939eec0e74fc9ad5d57730257e072": {
      "model_module": "@jupyter-widgets/controls",
      "model_module_version": "1.5.0",
      "model_name": "DescriptionStyleModel",
      "state": {
       "description_width": ""
      }
     },
     "1d965adb9d404879bb2d9a7008fcabbe": {
      "model_module": "@jupyter-widgets/controls",
      "model_module_version": "1.5.0",
      "model_name": "DescriptionStyleModel",
      "state": {
       "description_width": ""
      }
     },
     "1d9cdd82a874436d845748e2edcf383a": {
      "model_module": "@jupyter-widgets/controls",
      "model_module_version": "1.5.0",
      "model_name": "DescriptionStyleModel",
      "state": {
       "description_width": ""
      }
     },
     "1da62ee00dc8413395032a590108bd94": {
      "model_module": "@jupyter-widgets/base",
      "model_module_version": "1.2.0",
      "model_name": "LayoutModel",
      "state": {}
     },
     "1dac17d6c41749ed836c54c894463d50": {
      "model_module": "@jupyter-widgets/controls",
      "model_module_version": "1.5.0",
      "model_name": "HBoxModel",
      "state": {
       "children": [
        "IPY_MODEL_effd933d6a38496eb639ec0738406fc2",
        "IPY_MODEL_900c5225bd5d44afaf731c725632dd38"
       ],
       "layout": "IPY_MODEL_658a82e9e1494fea8b04a6bd6094a5f8"
      }
     },
     "1dda99a19c244947979d18cdbd10e62c": {
      "model_module": "@jupyter-widgets/controls",
      "model_module_version": "1.5.0",
      "model_name": "DescriptionStyleModel",
      "state": {
       "description_width": ""
      }
     },
     "1e0274e078834b1a8603f069e4913651": {
      "model_module": "@jupyter-widgets/controls",
      "model_module_version": "1.5.0",
      "model_name": "DescriptionStyleModel",
      "state": {
       "description_width": ""
      }
     },
     "1e2757353a7e49329a21be5fe82759ab": {
      "model_module": "@jupyter-widgets/controls",
      "model_module_version": "1.5.0",
      "model_name": "ButtonStyleModel",
      "state": {}
     },
     "1e35daf20e834a23bf739b0c13481008": {
      "model_module": "@jupyter-widgets/controls",
      "model_module_version": "1.5.0",
      "model_name": "VBoxModel",
      "state": {
       "children": [
        "IPY_MODEL_9986abc4d57845bf80cfe9b976c3239c",
        "IPY_MODEL_11bc8e8432564e0aa19142778d865b44",
        "IPY_MODEL_5abbcb12e9bd454888df6ae025f68f49",
        "IPY_MODEL_d83ca0c4223d42e394188afcd70fc375",
        "IPY_MODEL_381111455be540f99c0838152a8adb15",
        "IPY_MODEL_a3535366be254b16a83574ab7f5b8216",
        "IPY_MODEL_8b8495ed823f4a3c84e2f4cdc25b9dc6",
        "IPY_MODEL_2c324d6de43f461fa3d2c368862015b5",
        "IPY_MODEL_badca5dc54a64929ad0b76e1912b6dd6",
        "IPY_MODEL_e0df7d134275470d926a94a13fa618cd",
        "IPY_MODEL_dcc6657ff74044b0b42b30f6a9899c8d",
        "IPY_MODEL_e52c856134e14c4ebd9e1c4918296313",
        "IPY_MODEL_a71e00cc2611468693073653bdd9f6ca",
        "IPY_MODEL_6fb5c7efbd504afa9e39845a28860c73"
       ],
       "layout": "IPY_MODEL_d0a3a48cfd8d4e9eb34cf5b714aac1fb"
      }
     },
     "1e39b190016d4b7dad0d4eddee93669a": {
      "model_module": "@jupyter-widgets/controls",
      "model_module_version": "1.5.0",
      "model_name": "DescriptionStyleModel",
      "state": {
       "description_width": ""
      }
     },
     "1e47d4c672be4ce8821af4b3b6eb9cd5": {
      "model_module": "@jupyter-widgets/controls",
      "model_module_version": "1.5.0",
      "model_name": "DescriptionStyleModel",
      "state": {
       "description_width": ""
      }
     },
     "1e7a32c68297427784a49e1d2493f447": {
      "model_module": "@jupyter-widgets/controls",
      "model_module_version": "1.5.0",
      "model_name": "CheckboxModel",
      "state": {
       "description": "Use Wallet Balance (72.80737)",
       "disabled": false,
       "layout": "IPY_MODEL_e3b28f0b50c04604beded17f8417a1b1",
       "style": "IPY_MODEL_1bcdeff180ee48cd8d718a06501b5060",
       "value": true
      }
     },
     "1ea53cf58bdd4b91aa760091f72d11db": {
      "model_module": "@jupyter-widgets/controls",
      "model_module_version": "1.5.0",
      "model_name": "DescriptionStyleModel",
      "state": {
       "description_width": ""
      }
     },
     "1eac8b4f5bd047daa8ee9019a2caf3bf": {
      "model_module": "@jupyter-widgets/controls",
      "model_module_version": "1.5.0",
      "model_name": "CheckboxModel",
      "state": {
       "description": "Use Wallet Balance (0.0)",
       "disabled": false,
       "layout": "IPY_MODEL_72ba9f5fbf854bb4b89449dc8acb17c8",
       "style": "IPY_MODEL_9c7aff23a9944426b6fe7bf804193e90",
       "value": true
      }
     },
     "1ee797d15e7b48779487361ef079aa26": {
      "model_module": "@jupyter-widgets/controls",
      "model_module_version": "1.5.0",
      "model_name": "DropdownModel",
      "state": {
       "_options_labels": [
        "WETH/ALCX",
        "DAI/ALCX",
        "CVX/ALCX",
        "ALCX-ETH SLP"
       ],
       "index": 0,
       "layout": "IPY_MODEL_19a8b66690f346fbb36f823ff714ecf5",
       "style": "IPY_MODEL_1714eec53f7e4c758ca0cd07023f7f8f"
      }
     },
     "1f31738618f045c9b470ab66bc8f6ae1": {
      "model_module": "@jupyter-widgets/controls",
      "model_module_version": "1.5.0",
      "model_name": "DescriptionStyleModel",
      "state": {
       "description_width": ""
      }
     },
     "1f346e01d09d481598f5c2e47a9efb10": {
      "model_module": "@jupyter-widgets/base",
      "model_module_version": "1.2.0",
      "model_name": "LayoutModel",
      "state": {}
     },
     "1f46bf77732140d68d657a05f57ba1e8": {
      "model_module": "@jupyter-widgets/base",
      "model_module_version": "1.2.0",
      "model_name": "LayoutModel",
      "state": {}
     },
     "1f66901b4351432fb7a6432a12c675b9": {
      "model_module": "@jupyter-widgets/controls",
      "model_module_version": "1.5.0",
      "model_name": "HBoxModel",
      "state": {
       "children": [
        "IPY_MODEL_d97471849a334a13a3314d07372cadeb",
        "IPY_MODEL_69b09f181b434ad5bf2599e329a323ea"
       ],
       "layout": "IPY_MODEL_36fb77000e5b442998b1c704d52fafd2"
      }
     },
     "1f86df694cde478f85b03994e86e73c9": {
      "model_module": "@jupyter-widgets/base",
      "model_module_version": "1.2.0",
      "model_name": "LayoutModel",
      "state": {}
     },
     "1fae1af8cb9341c38066885ae3809c69": {
      "model_module": "@jupyter-widgets/base",
      "model_module_version": "1.2.0",
      "model_name": "LayoutModel",
      "state": {}
     },
     "1fb0bd3109a64291830f6113a4daa297": {
      "model_module": "@jupyter-widgets/controls",
      "model_module_version": "1.5.0",
      "model_name": "DescriptionStyleModel",
      "state": {
       "description_width": ""
      }
     },
     "202c8294390b41ecafa9bef191c3f31d": {
      "model_module": "@jupyter-widgets/controls",
      "model_module_version": "1.5.0",
      "model_name": "ButtonModel",
      "state": {
       "description": "Generate MultiCall Data",
       "layout": "IPY_MODEL_460ac31a263e49778ac7e48a7cb8eda1",
       "style": "IPY_MODEL_3359a85e0c3d419899cb29fdad9db9b9"
      }
     },
     "2049df30b3914cc8b4e1cf1005d9620b": {
      "model_module": "@jupyter-widgets/base",
      "model_module_version": "1.2.0",
      "model_name": "LayoutModel",
      "state": {}
     },
     "2059bb02fbb143cf86d7da20ab482691": {
      "model_module": "@jupyter-widgets/base",
      "model_module_version": "1.2.0",
      "model_name": "LayoutModel",
      "state": {}
     },
     "20892b55a49f4bdfb35882476279c1aa": {
      "model_module": "@jupyter-widgets/controls",
      "model_module_version": "1.5.0",
      "model_name": "CheckboxModel",
      "state": {
       "description": "ALCX-ETH SLP (0.0)",
       "disabled": false,
       "layout": "IPY_MODEL_a5707f7945fb4808b431a9a762e088ec",
       "style": "IPY_MODEL_05a4af7451c24c2ba4a36a0a1a02b525",
       "value": false
      }
     },
     "20a9116954b74144b2683624102ea94c": {
      "model_module": "@jupyter-widgets/controls",
      "model_module_version": "1.5.0",
      "model_name": "DescriptionStyleModel",
      "state": {
       "description_width": ""
      }
     },
     "20ab2552ce244061b5c85f684daab70f": {
      "model_module": "@jupyter-widgets/controls",
      "model_module_version": "1.5.0",
      "model_name": "DescriptionStyleModel",
      "state": {
       "description_width": ""
      }
     },
     "20c537366b3640ddb48e59e323204494": {
      "model_module": "@jupyter-widgets/controls",
      "model_module_version": "1.5.0",
      "model_name": "ButtonModel",
      "state": {
       "description": "Generate MultiCall Data",
       "layout": "IPY_MODEL_cd79ddee524e41e1935bc9dc7c547870",
       "style": "IPY_MODEL_6052a44ab8d746dc8e7cceae61d4e89a"
      }
     },
     "210032a4928e4081a7fe987d5728f405": {
      "model_module": "@jupyter-widgets/controls",
      "model_module_version": "1.5.0",
      "model_name": "CheckboxModel",
      "state": {
       "description": "Use Wallet Balance (72.80737)",
       "disabled": false,
       "layout": "IPY_MODEL_848a87a100e54d2aa6f7965db062af90",
       "style": "IPY_MODEL_035cc499297a4ef58ddac98c740c736c",
       "value": true
      }
     },
     "2101c3ef0583430589805cf78bec7f28": {
      "model_module": "@jupyter-widgets/base",
      "model_module_version": "1.2.0",
      "model_name": "LayoutModel",
      "state": {
       "width": "425px"
      }
     },
     "2112f6149b3b4d8487a7aba59b17526b": {
      "model_module": "@jupyter-widgets/base",
      "model_module_version": "1.2.0",
      "model_name": "LayoutModel",
      "state": {}
     },
     "2145714688894119a6c9d6d2e6650f74": {
      "model_module": "@jupyter-widgets/controls",
      "model_module_version": "1.5.0",
      "model_name": "DescriptionStyleModel",
      "state": {
       "description_width": ""
      }
     },
     "2149225842404e19a7ae75b1b9edea09": {
      "model_module": "@jupyter-widgets/controls",
      "model_module_version": "1.5.0",
      "model_name": "LabelModel",
      "state": {
       "layout": "IPY_MODEL_35c5fb529d524c9198f7d363c888fe53",
       "style": "IPY_MODEL_cb865ed59bc44ae888f2cb380737603a",
       "value": "Select Pool to Bond:"
      }
     },
     "21966e4d913a4b6c8766b6a4fc16a85f": {
      "model_module": "@jupyter-widgets/base",
      "model_module_version": "1.2.0",
      "model_name": "LayoutModel",
      "state": {}
     },
     "21c0d4fc552c4dbeb4e16f348a1a20ac": {
      "model_module": "@jupyter-widgets/base",
      "model_module_version": "1.2.0",
      "model_name": "LayoutModel",
      "state": {}
     },
     "21ca8217d52e46b5b36057e250cb9be9": {
      "model_module": "@jupyter-widgets/controls",
      "model_module_version": "1.5.0",
      "model_name": "DescriptionStyleModel",
      "state": {
       "description_width": ""
      }
     },
     "21f6ccb161c24790b7add1dc78b42a60": {
      "model_module": "@jupyter-widgets/base",
      "model_module_version": "1.2.0",
      "model_name": "LayoutModel",
      "state": {}
     },
     "21f7042d6e4c43d8b79064ef18ea3c55": {
      "model_module": "@jupyter-widgets/controls",
      "model_module_version": "1.5.0",
      "model_name": "LabelModel",
      "state": {
       "layout": "IPY_MODEL_a58b080966e845e6806dab6022f0b1aa",
       "style": "IPY_MODEL_fa6a71b80e304713a8b5127e8d61d7ae",
       "value": "Max Payout: 96.15973854597343 ALCX"
      }
     },
     "221187b06c854b08a1fe010a686ccb41": {
      "model_module": "@jupyter-widgets/controls",
      "model_module_version": "1.5.0",
      "model_name": "LabelModel",
      "state": {
       "layout": "IPY_MODEL_1d1d6694d058445d8d6a988bab7b360f",
       "style": "IPY_MODEL_8178032b3f4241e1a0aa7bd6304023cd",
       "value": "Max Input: 11.616204350753998 ALCX-ETH SLP"
      }
     },
     "221bfd47d3d249d3917a2f5d3965101d": {
      "model_module": "@jupyter-widgets/base",
      "model_module_version": "1.2.0",
      "model_name": "LayoutModel",
      "state": {}
     },
     "2231e1b2a00e4708aecb37eee279dc23": {
      "model_module": "@jupyter-widgets/controls",
      "model_module_version": "1.5.0",
      "model_name": "CheckboxModel",
      "state": {
       "description": "DAI/ALCX (3.58179)",
       "disabled": false,
       "layout": "IPY_MODEL_1c71615092204b6fb364269710373bd1",
       "style": "IPY_MODEL_1d8939eec0e74fc9ad5d57730257e072",
       "value": false
      }
     },
     "227307ab76724c159259078fa268bfcf": {
      "model_module": "@jupyter-widgets/controls",
      "model_module_version": "1.5.0",
      "model_name": "HBoxModel",
      "state": {
       "children": [
        "IPY_MODEL_898c8f31447643ee8b589c7e530f50fc",
        "IPY_MODEL_5ddec74aa6af486793574e2df55e8d24"
       ],
       "layout": "IPY_MODEL_3c933be4065f4f5fae9fce6a334bca84"
      }
     },
     "22957dbc977141df9ba4f7a62b77a076": {
      "model_module": "@jupyter-widgets/controls",
      "model_module_version": "1.5.0",
      "model_name": "DropdownModel",
      "state": {
       "_options_labels": [
        "WETH/ALCX",
        "DAI/ALCX",
        "CVX/ALCX",
        "ALCX-ETH SLP"
       ],
       "index": 0,
       "layout": "IPY_MODEL_4e38aa59c4af47249eccc5ece6d3529a",
       "style": "IPY_MODEL_68480777a1764f0ca4103e57e92720ea"
      }
     },
     "229ed6d844c4440384449697c66d2663": {
      "model_module": "@jupyter-widgets/controls",
      "model_module_version": "1.5.0",
      "model_name": "DescriptionStyleModel",
      "state": {
       "description_width": ""
      }
     },
     "22cbe78e868c46bf9b72fcc3dcfdc3f9": {
      "model_module": "@jupyter-widgets/controls",
      "model_module_version": "1.5.0",
      "model_name": "DescriptionStyleModel",
      "state": {
       "description_width": ""
      }
     },
     "22dc4f37e8ab42ee9d3d4d35f42a4c6b": {
      "model_module": "@jupyter-widgets/base",
      "model_module_version": "1.2.0",
      "model_name": "LayoutModel",
      "state": {}
     },
     "22e780dbe60d4d928f408a3d6b9fe575": {
      "model_module": "@jupyter-widgets/base",
      "model_module_version": "1.2.0",
      "model_name": "LayoutModel",
      "state": {
       "width": "200px"
      }
     },
     "22ec9f48badb41fda492b04bfdc5127d": {
      "model_module": "@jupyter-widgets/base",
      "model_module_version": "1.2.0",
      "model_name": "LayoutModel",
      "state": {}
     },
     "233bf05b2bbe479a84ab19ef2f07b0db": {
      "model_module": "@jupyter-widgets/controls",
      "model_module_version": "1.5.0",
      "model_name": "DescriptionStyleModel",
      "state": {
       "description_width": ""
      }
     },
     "235485831b0146f3a9129f9253b52cf9": {
      "model_module": "@jupyter-widgets/controls",
      "model_module_version": "1.5.0",
      "model_name": "LabelModel",
      "state": {
       "layout": "IPY_MODEL_17a5cf6a374f4a5e9e371d3e9b6f49a8",
       "style": "IPY_MODEL_23b25994175a4fd781930af8c9af1af6"
      }
     },
     "2390d7a5de184b4395739d99f7c4b803": {
      "model_module": "@jupyter-widgets/controls",
      "model_module_version": "1.5.0",
      "model_name": "VBoxModel",
      "state": {
       "children": [
        "IPY_MODEL_2a36ad4a77224f699b793bd18f61decc",
        "IPY_MODEL_adc3241717aa400495ec890b139a3917",
        "IPY_MODEL_a7a60d6b57e445039663b9df34d0c028",
        "IPY_MODEL_f6976d29c4684e479de3e9422c9c1c0a",
        "IPY_MODEL_487b56b96004406ca39470bf20980886",
        "IPY_MODEL_57e9421b55e042b39c1947bf485cc4c1",
        "IPY_MODEL_f186be498b1c4ed8980dcf899e044794",
        "IPY_MODEL_3550341beda144ef8c66a1dcad3a2b18",
        "IPY_MODEL_0a8ffe49f45a4cb5870a540ca971bf57",
        "IPY_MODEL_63174c86a3564f1dbb2d5cf9737378ac",
        "IPY_MODEL_78e208e4ffb441309f816e1a5c1a44cc",
        "IPY_MODEL_fd26a40e9ed743cbb35f11120b8bfb0c",
        "IPY_MODEL_c2c8f3df7d1d4cce9654ed91a5de828e"
       ],
       "layout": "IPY_MODEL_92e3e80ad8dc49be824675e718a80a2a"
      }
     },
     "2394fa66497c45f6b60a67903dd4aca8": {
      "model_module": "@jupyter-widgets/base",
      "model_module_version": "1.2.0",
      "model_name": "LayoutModel",
      "state": {}
     },
     "23aa4542e3af4c77b538e4682392fddc": {
      "model_module": "@jupyter-widgets/base",
      "model_module_version": "1.2.0",
      "model_name": "LayoutModel",
      "state": {
       "width": "200px"
      }
     },
     "23b25994175a4fd781930af8c9af1af6": {
      "model_module": "@jupyter-widgets/controls",
      "model_module_version": "1.5.0",
      "model_name": "DescriptionStyleModel",
      "state": {
       "description_width": ""
      }
     },
     "23c02dca09314d77bcd74cbb0498d4fe": {
      "model_module": "@jupyter-widgets/base",
      "model_module_version": "1.2.0",
      "model_name": "LayoutModel",
      "state": {}
     },
     "23d47d6c0909475992f44fb6dfd0d031": {
      "model_module": "@jupyter-widgets/base",
      "model_module_version": "1.2.0",
      "model_name": "LayoutModel",
      "state": {}
     },
     "23d836f5d3ca4853addfa87e3e88fce6": {
      "model_module": "@jupyter-widgets/base",
      "model_module_version": "1.2.0",
      "model_name": "LayoutModel",
      "state": {}
     },
     "23e3190494e94500b108a0116b132be0": {
      "model_module": "@jupyter-widgets/controls",
      "model_module_version": "1.5.0",
      "model_name": "TextModel",
      "state": {
       "description": "Address: ",
       "layout": "IPY_MODEL_db9bf06ca9474a36b2bd5dec42de774f",
       "style": "IPY_MODEL_95f7b7e7232c4d449bb22efd91169f4c",
       "value": "0xeEEC0e4927704ab3BBE5df7F4EfFa818b43665a3"
      }
     },
     "24270967dd344bcfaea32a6cb093bca5": {
      "model_module": "@jupyter-widgets/controls",
      "model_module_version": "1.5.0",
      "model_name": "LabelModel",
      "state": {
       "layout": "IPY_MODEL_5116c4b310eb415e90e7d387db5484df",
       "style": "IPY_MODEL_d2115fca03b549bf9407b8f11c892a98"
      }
     },
     "2442710a9a7849c5b318f4b312d983dc": {
      "model_module": "@jupyter-widgets/controls",
      "model_module_version": "1.5.0",
      "model_name": "DescriptionStyleModel",
      "state": {
       "description_width": ""
      }
     },
     "24643b79a60a48f4af050563427ee2c5": {
      "model_module": "@jupyter-widgets/controls",
      "model_module_version": "1.5.0",
      "model_name": "LabelModel",
      "state": {
       "layout": "IPY_MODEL_1826b30ce39043cc9ab3cad61b2b0f39",
       "style": "IPY_MODEL_cd65fb2b27f1456397e52ba725cc78f5",
       "value": "Select Assets to Claim:"
      }
     },
     "249e4e0ae2514917ab046933b0526bbd": {
      "model_module": "@jupyter-widgets/base",
      "model_module_version": "1.2.0",
      "model_name": "LayoutModel",
      "state": {}
     },
     "24ba11022bbd4e3aa221f6c32019dedf": {
      "model_module": "@jupyter-widgets/base",
      "model_module_version": "1.2.0",
      "model_name": "LayoutModel",
      "state": {}
     },
     "24d3c722bcef4576858fe32dbbb06324": {
      "model_module": "@jupyter-widgets/controls",
      "model_module_version": "1.5.0",
      "model_name": "DescriptionStyleModel",
      "state": {
       "description_width": ""
      }
     },
     "24d64e107caf45d8bd93bfb8fadab4b5": {
      "model_module": "@jupyter-widgets/base",
      "model_module_version": "1.2.0",
      "model_name": "LayoutModel",
      "state": {}
     },
     "24de50eaff514801a5b652b5b11eb5a0": {
      "model_module": "@jupyter-widgets/base",
      "model_module_version": "1.2.0",
      "model_name": "LayoutModel",
      "state": {}
     },
     "24e9d91fea394ac684b4cf1c5a4cd966": {
      "model_module": "@jupyter-widgets/controls",
      "model_module_version": "1.5.0",
      "model_name": "CheckboxModel",
      "state": {
       "description": "WETH/ALCX (7.51273)",
       "disabled": false,
       "layout": "IPY_MODEL_4d124c6392e24c43ad95f274fefb9a33",
       "style": "IPY_MODEL_b0aff95656c741babe97812822ca3863",
       "value": false
      }
     },
     "24f437d16ff24d9d86b63cb60c01d1d9": {
      "model_module": "@jupyter-widgets/base",
      "model_module_version": "1.2.0",
      "model_name": "LayoutModel",
      "state": {}
     },
     "24fe9643606b444b9a09c50bd0d8b207": {
      "model_module": "@jupyter-widgets/controls",
      "model_module_version": "1.5.0",
      "model_name": "ButtonStyleModel",
      "state": {}
     },
     "25440b842e25466a949a2910d4038c76": {
      "model_module": "@jupyter-widgets/base",
      "model_module_version": "1.2.0",
      "model_name": "LayoutModel",
      "state": {
       "width": "425px"
      }
     },
     "25517a50985144ac9b276b8a67545213": {
      "model_module": "@jupyter-widgets/controls",
      "model_module_version": "1.5.0",
      "model_name": "DescriptionStyleModel",
      "state": {
       "description_width": ""
      }
     },
     "25ced08fd1434357afc996531d6d0369": {
      "model_module": "@jupyter-widgets/base",
      "model_module_version": "1.2.0",
      "model_name": "LayoutModel",
      "state": {}
     },
     "25db1d70d284402ab66b07f02a962010": {
      "model_module": "@jupyter-widgets/controls",
      "model_module_version": "1.5.0",
      "model_name": "HBoxModel",
      "state": {
       "children": [
        "IPY_MODEL_53bd4926cd814f888d6ccde019590514",
        "IPY_MODEL_d03a072cb98d43cfbcf7d9168fdf00d5"
       ],
       "layout": "IPY_MODEL_03b0574237cb4c82b629bbab6251b2e3"
      }
     },
     "25f29171fbe34817aa91a14207703242": {
      "model_module": "@jupyter-widgets/controls",
      "model_module_version": "1.5.0",
      "model_name": "LabelModel",
      "state": {
       "layout": "IPY_MODEL_d2ea0f09ed4e4c0589028729e0470964",
       "style": "IPY_MODEL_27dee6613de8448ab4d7a43f26f1c3e8",
       "value": "Select Pool to Bond:"
      }
     },
     "261a635775a04cbba97f73fe38d02aeb": {
      "model_module": "@jupyter-widgets/controls",
      "model_module_version": "1.5.0",
      "model_name": "LabelModel",
      "state": {
       "layout": "IPY_MODEL_5b780366b554477f95b3404b74b89d77",
       "style": "IPY_MODEL_9448b92c71a54102a4426d42626e60a6",
       "value": "Swapping 72.80737 ALCX for 4.6737544277888805 WETH"
      }
     },
     "263d79284ede4ad4a99379771c77da2b": {
      "model_module": "@jupyter-widgets/controls",
      "model_module_version": "1.5.0",
      "model_name": "DescriptionStyleModel",
      "state": {
       "description_width": ""
      }
     },
     "264a7eefabf64d7598c02573c87f0fa7": {
      "model_module": "@jupyter-widgets/base",
      "model_module_version": "1.2.0",
      "model_name": "LayoutModel",
      "state": {}
     },
     "267261d9a2b44794aa5fe26831135dfc": {
      "model_module": "@jupyter-widgets/controls",
      "model_module_version": "1.5.0",
      "model_name": "DescriptionStyleModel",
      "state": {
       "description_width": ""
      }
     },
     "2677e882e7d148da9c3801fbaaeaceec": {
      "model_module": "@jupyter-widgets/base",
      "model_module_version": "1.2.0",
      "model_name": "LayoutModel",
      "state": {
       "width": "425px"
      }
     },
     "26a80677af9a4e12886e42c1215caac5": {
      "model_module": "@jupyter-widgets/controls",
      "model_module_version": "1.5.0",
      "model_name": "DescriptionStyleModel",
      "state": {
       "description_width": ""
      }
     },
     "26b363d3ad18441b8ff63517a81ad4f7": {
      "model_module": "@jupyter-widgets/controls",
      "model_module_version": "1.5.0",
      "model_name": "LabelModel",
      "state": {
       "layout": "IPY_MODEL_5c8c5a01433e48b98bfbd56ea6bd7506",
       "style": "IPY_MODEL_62e502b47d8c444ca2d9af75b947d7a6",
       "value": "Your Payout: 4.330450664152934e+20 ALCX"
      }
     },
     "26c6f7b51b9a426aa0e3f2bbf8c8fce5": {
      "model_module": "@jupyter-widgets/controls",
      "model_module_version": "1.5.0",
      "model_name": "CheckboxModel",
      "state": {
       "description": "WETH/ALCX (7.37632)",
       "disabled": false,
       "layout": "IPY_MODEL_5249c7e5770940428fbf6957685ebdb4",
       "style": "IPY_MODEL_f60a96d19bb74978b2880084e7a36281",
       "value": true
      }
     },
     "26c97cff16f04f1b827a4ca04b71ccdc": {
      "model_module": "@jupyter-widgets/controls",
      "model_module_version": "1.5.0",
      "model_name": "CheckboxModel",
      "state": {
       "description": "ALCX-ETH SLP (0.0)",
       "disabled": false,
       "layout": "IPY_MODEL_83b25e725b8e40eeadee89b2b508a7ec",
       "style": "IPY_MODEL_fa253848d9ce41e7ad85eabd2238d6ab",
       "value": false
      }
     },
     "2711980563aa486d928843e814e4a370": {
      "model_module": "@jupyter-widgets/controls",
      "model_module_version": "1.5.0",
      "model_name": "DescriptionStyleModel",
      "state": {
       "description_width": ""
      }
     },
     "2715794e00414b84a19214c60f1c3d84": {
      "model_module": "@jupyter-widgets/base",
      "model_module_version": "1.2.0",
      "model_name": "LayoutModel",
      "state": {}
     },
     "2726c930679347c79916cde311695c9a": {
      "model_module": "@jupyter-widgets/controls",
      "model_module_version": "1.5.0",
      "model_name": "LabelModel",
      "state": {
       "layout": "IPY_MODEL_cca36b05c7974965a1bd10fc38960fb3",
       "style": "IPY_MODEL_eb052c0deba740558e8419228703694c"
      }
     },
     "274b932327c443b2812befe0c92b2b85": {
      "model_module": "@jupyter-widgets/controls",
      "model_module_version": "1.5.0",
      "model_name": "ButtonModel",
      "state": {
       "description": "Generate MultiCall Data",
       "layout": "IPY_MODEL_0d25e023ac8b4f4abb7873e2c772beb4",
       "style": "IPY_MODEL_a6bd8e5afa3d419e849ec26bef717388"
      }
     },
     "275205063647460d97e4273392ab5f44": {
      "model_module": "@jupyter-widgets/base",
      "model_module_version": "1.2.0",
      "model_name": "LayoutModel",
      "state": {}
     },
     "275ba2bcab3d41e4b1a01e663139bdf2": {
      "model_module": "@jupyter-widgets/base",
      "model_module_version": "1.2.0",
      "model_name": "LayoutModel",
      "state": {}
     },
     "2774d1966a1846b5a547d80f7017eba8": {
      "model_module": "@jupyter-widgets/controls",
      "model_module_version": "1.5.0",
      "model_name": "CheckboxModel",
      "state": {
       "description": "Use Wallet Balance (72.80737)",
       "disabled": false,
       "layout": "IPY_MODEL_d3ddb83d50584e9b8b6270f89cc1b2e6",
       "style": "IPY_MODEL_2ae5c36082604c638ecf36e9da4d3fef",
       "value": true
      }
     },
     "27784ebf37a64fc7a8ecc9f1b550981b": {
      "model_module": "@jupyter-widgets/base",
      "model_module_version": "1.2.0",
      "model_name": "LayoutModel",
      "state": {
       "width": "425px"
      }
     },
     "278654eafb0b47fb8db834494d32237f": {
      "model_module": "@jupyter-widgets/controls",
      "model_module_version": "1.5.0",
      "model_name": "DescriptionStyleModel",
      "state": {
       "description_width": ""
      }
     },
     "27bbbd0b099741fca45d69ed7b2e2851": {
      "model_module": "@jupyter-widgets/controls",
      "model_module_version": "1.5.0",
      "model_name": "LabelModel",
      "state": {
       "layout": "IPY_MODEL_0901d030098b40ec8299b6a97fcbb5c4",
       "style": "IPY_MODEL_8c3e6f88a94d485cb303fcede294897d",
       "value": "[Current block: 13905691]"
      }
     },
     "27cbd07a19ac407d98281502cfdf956d": {
      "model_module": "@jupyter-widgets/base",
      "model_module_version": "1.2.0",
      "model_name": "LayoutModel",
      "state": {}
     },
     "27dee6613de8448ab4d7a43f26f1c3e8": {
      "model_module": "@jupyter-widgets/controls",
      "model_module_version": "1.5.0",
      "model_name": "DescriptionStyleModel",
      "state": {
       "description_width": ""
      }
     },
     "280106e7e65648ef9d293fb747a3c775": {
      "model_module": "@jupyter-widgets/base",
      "model_module_version": "1.2.0",
      "model_name": "LayoutModel",
      "state": {}
     },
     "280c1e2aff804d9d988015af30c84953": {
      "model_module": "@jupyter-widgets/base",
      "model_module_version": "1.2.0",
      "model_name": "LayoutModel",
      "state": {}
     },
     "280cb70dd4ed4086848f68bacf598730": {
      "model_module": "@jupyter-widgets/controls",
      "model_module_version": "1.5.0",
      "model_name": "DescriptionStyleModel",
      "state": {
       "description_width": ""
      }
     },
     "283919188b4646e388d28f1d784ed9da": {
      "model_module": "@jupyter-widgets/controls",
      "model_module_version": "1.5.0",
      "model_name": "HBoxModel",
      "state": {
       "children": [
        "IPY_MODEL_e239dab3295e406191cbf0f42802c4c2",
        "IPY_MODEL_020ade47aa1d43db99ddd7291eb467db"
       ],
       "layout": "IPY_MODEL_607586b5a822473883a63dccf9c93aca"
      }
     },
     "28792c8945f74ca58664727da6e8ea8d": {
      "model_module": "@jupyter-widgets/controls",
      "model_module_version": "1.5.0",
      "model_name": "LabelModel",
      "state": {
       "layout": "IPY_MODEL_e87d3d6fe6fc46ae8252cbdaf0cac03c",
       "style": "IPY_MODEL_7bad7ea46a6d4fbc9fc0c856e274ddf7"
      }
     },
     "287a4bc858844f73b3d28dde4489f262": {
      "model_module": "@jupyter-widgets/controls",
      "model_module_version": "1.5.0",
      "model_name": "DescriptionStyleModel",
      "state": {
       "description_width": ""
      }
     },
     "287ecd19879a4091bdb933cd7fb3f269": {
      "model_module": "@jupyter-widgets/base",
      "model_module_version": "1.2.0",
      "model_name": "LayoutModel",
      "state": {}
     },
     "288852d9162348a6a53501fe2492c9eb": {
      "model_module": "@jupyter-widgets/controls",
      "model_module_version": "1.5.0",
      "model_name": "LabelModel",
      "state": {
       "layout": "IPY_MODEL_73faa92ebdda4e3d90b9cc07a4a028c2",
       "style": "IPY_MODEL_633c3ce078ff426d846d36d70d15bf24",
       "value": "Your Payout: 0 WETH"
      }
     },
     "28922d87f83440e1a9799049c1274523": {
      "model_module": "@jupyter-widgets/base",
      "model_module_version": "1.2.0",
      "model_name": "LayoutModel",
      "state": {}
     },
     "28ab5c6fae724bcfbe1ac582ac1d2136": {
      "model_module": "@jupyter-widgets/controls",
      "model_module_version": "1.5.0",
      "model_name": "LabelModel",
      "state": {
       "layout": "IPY_MODEL_90df976a5db84a5ebcc5cec1f4ad81c6",
       "style": "IPY_MODEL_b2f5b2386e2449eba5b281128732ef7c",
       "value": "Swapping 41.5203 ALCX for 2.6663920540192425 WETH"
      }
     },
     "28b5beb6bb1d4216989b1f918f026a63": {
      "model_module": "@jupyter-widgets/controls",
      "model_module_version": "1.5.0",
      "model_name": "DescriptionStyleModel",
      "state": {
       "description_width": ""
      }
     },
     "28c603b1773248988ad19430fa38e0f6": {
      "model_module": "@jupyter-widgets/base",
      "model_module_version": "1.2.0",
      "model_name": "LayoutModel",
      "state": {}
     },
     "28cc7c9f327943dfb4085478c5442e7f": {
      "model_module": "@jupyter-widgets/base",
      "model_module_version": "1.2.0",
      "model_name": "LayoutModel",
      "state": {}
     },
     "28d4f95bc08442639397530fd1cda55c": {
      "model_module": "@jupyter-widgets/controls",
      "model_module_version": "1.5.0",
      "model_name": "HBoxModel",
      "state": {
       "children": [
        "IPY_MODEL_d6bedf1144c84e369f416f5208021976",
        "IPY_MODEL_11854c7597304a1c88e2f46065dae06f"
       ],
       "layout": "IPY_MODEL_a94b765f2b9948abae3b95f682f4634e"
      }
     },
     "28f9477c4d5f48aea8a44a8757b38f21": {
      "model_module": "@jupyter-widgets/controls",
      "model_module_version": "1.5.0",
      "model_name": "LabelModel",
      "state": {
       "layout": "IPY_MODEL_1b1e615f48dd481dbbefe3060f318996",
       "style": "IPY_MODEL_f437aee605834ec7b3440e5ec5085571",
       "value": "Max Payout: 96.15992294696423 ALCX"
      }
     },
     "2922f83ae12849b7b00e4cf507f00cc7": {
      "model_module": "@jupyter-widgets/controls",
      "model_module_version": "1.5.0",
      "model_name": "CheckboxModel",
      "state": {
       "description": "WETH/ALCX (7.84891)",
       "disabled": false,
       "layout": "IPY_MODEL_b33897ba0d0b45c79e516537da63241f",
       "style": "IPY_MODEL_a760bed66b954753b1fe22793c30a3f3",
       "value": false
      }
     },
     "2924d07083c8467d82544c090ccd79bf": {
      "model_module": "@jupyter-widgets/base",
      "model_module_version": "1.2.0",
      "model_name": "LayoutModel",
      "state": {}
     },
     "29299ea8742845b4a8ed1cb23ae4da1c": {
      "model_module": "@jupyter-widgets/controls",
      "model_module_version": "1.5.0",
      "model_name": "LabelModel",
      "state": {
       "layout": "IPY_MODEL_411cdb0f3de44c3c830afd7a0771e353",
       "style": "IPY_MODEL_d06d37ff575346d28a007143c5bcb3c2",
       "value": "You Will Get: 82.66071671225811 ALCX"
      }
     },
     "2945cb2cd4d24af29b6499996f21fb2b": {
      "model_module": "@jupyter-widgets/controls",
      "model_module_version": "1.5.0",
      "model_name": "DescriptionStyleModel",
      "state": {
       "description_width": ""
      }
     },
     "2959a4791b99452299c26a2976c183b6": {
      "model_module": "@jupyter-widgets/base",
      "model_module_version": "1.2.0",
      "model_name": "LayoutModel",
      "state": {}
     },
     "2992ac38ec1349abb851a31a60f1582e": {
      "model_module": "@jupyter-widgets/controls",
      "model_module_version": "1.5.0",
      "model_name": "HBoxModel",
      "state": {
       "children": [
        "IPY_MODEL_e87c89874f3342449be512917d737ec0",
        "IPY_MODEL_2231e1b2a00e4708aecb37eee279dc23"
       ],
       "layout": "IPY_MODEL_fa82b8cba92a471b9eb5facb60a353db"
      }
     },
     "29a1c78b5c6b4b9cb8441191cd647e05": {
      "model_module": "@jupyter-widgets/base",
      "model_module_version": "1.2.0",
      "model_name": "LayoutModel",
      "state": {
       "width": "425px"
      }
     },
     "29aaa807d74a410a9a30386f653eb841": {
      "model_module": "@jupyter-widgets/base",
      "model_module_version": "1.2.0",
      "model_name": "LayoutModel",
      "state": {
       "width": "425px"
      }
     },
     "29f7fb26ff724070abfe7a45bdb04665": {
      "model_module": "@jupyter-widgets/controls",
      "model_module_version": "1.5.0",
      "model_name": "CheckboxModel",
      "state": {
       "description": "Use Wallet Balance (72.80737)",
       "disabled": false,
       "layout": "IPY_MODEL_061492c968be49f1a22ba630729a3553",
       "style": "IPY_MODEL_39cb6c1e40a54da882db249a22363b97",
       "value": true
      }
     },
     "29f9f7971b534067ad5cc6274ca7b5d4": {
      "model_module": "@jupyter-widgets/base",
      "model_module_version": "1.2.0",
      "model_name": "LayoutModel",
      "state": {}
     },
     "29fa707316184995ae5c146340b4fdf5": {
      "model_module": "@jupyter-widgets/controls",
      "model_module_version": "1.5.0",
      "model_name": "DropdownModel",
      "state": {
       "_options_labels": [
        "WETH/ALCX",
        "DAI/ALCX",
        "CVX/ALCX",
        "ALCX-ETH SLP"
       ],
       "index": 0,
       "layout": "IPY_MODEL_8ca3a80c5a9244bf8e2d08f18849d902",
       "style": "IPY_MODEL_851b48e1a663483fa8bab8335cb6891f"
      }
     },
     "2a2ff8733a3a4d04a9d2b525259b4b49": {
      "model_module": "@jupyter-widgets/controls",
      "model_module_version": "1.5.0",
      "model_name": "LabelModel",
      "state": {
       "layout": "IPY_MODEL_e5ada24dadf249eca7c3356944e34b05",
       "style": "IPY_MODEL_3a44479bd0894851b5702c15c888d63f",
       "value": "Your Payout: 0 ALCX"
      }
     },
     "2a36ad4a77224f699b793bd18f61decc": {
      "model_module": "@jupyter-widgets/controls",
      "model_module_version": "1.5.0",
      "model_name": "LabelModel",
      "state": {
       "layout": "IPY_MODEL_44c0d89b704e40c286acbc5fe44ac305",
       "style": "IPY_MODEL_a7246534f8474107b6836b92e3d1f688",
       "value": "[Current block: 13905475]"
      }
     },
     "2a76d4b877fc4dfd8a1b8831e6bca318": {
      "model_module": "@jupyter-widgets/base",
      "model_module_version": "1.2.0",
      "model_name": "LayoutModel",
      "state": {}
     },
     "2a9bb310ef974cf79a4133d2ea60b37b": {
      "model_module": "@jupyter-widgets/controls",
      "model_module_version": "1.5.0",
      "model_name": "LabelModel",
      "state": {
       "layout": "IPY_MODEL_f7a42663b0894fbf88c07e31d8e5c0ef",
       "style": "IPY_MODEL_0d174a4df7fd445596f2205b967f924c",
       "value": "[Current block: 13905483]"
      }
     },
     "2a9d47f29ed8429cbda17bf1e65b6f20": {
      "model_module": "@jupyter-widgets/controls",
      "model_module_version": "1.5.0",
      "model_name": "DescriptionStyleModel",
      "state": {
       "description_width": ""
      }
     },
     "2aa4b7a34b484b0a9e276f818c3cbfab": {
      "model_module": "@jupyter-widgets/controls",
      "model_module_version": "1.5.0",
      "model_name": "DescriptionStyleModel",
      "state": {
       "description_width": ""
      }
     },
     "2aaaf13feff04b48955ac93cddefe6ec": {
      "model_module": "@jupyter-widgets/base",
      "model_module_version": "1.2.0",
      "model_name": "LayoutModel",
      "state": {
       "width": "425px"
      }
     },
     "2ad76a9b760747b5838bb46686412f53": {
      "model_module": "@jupyter-widgets/controls",
      "model_module_version": "1.5.0",
      "model_name": "DescriptionStyleModel",
      "state": {
       "description_width": ""
      }
     },
     "2ae5c36082604c638ecf36e9da4d3fef": {
      "model_module": "@jupyter-widgets/controls",
      "model_module_version": "1.5.0",
      "model_name": "DescriptionStyleModel",
      "state": {
       "description_width": ""
      }
     },
     "2aecb1955c9c47ddb8a33e0fd434a717": {
      "model_module": "@jupyter-widgets/base",
      "model_module_version": "1.2.0",
      "model_name": "LayoutModel",
      "state": {}
     },
     "2b0dd04856bd45ca8c338b3655f217a3": {
      "model_module": "@jupyter-widgets/base",
      "model_module_version": "1.2.0",
      "model_name": "LayoutModel",
      "state": {}
     },
     "2b12f4706459425a948b10169fcf87e1": {
      "model_module": "@jupyter-widgets/controls",
      "model_module_version": "1.5.0",
      "model_name": "DescriptionStyleModel",
      "state": {
       "description_width": ""
      }
     },
     "2b188eff1bf64fad875bda527967e8a0": {
      "model_module": "@jupyter-widgets/controls",
      "model_module_version": "1.5.0",
      "model_name": "LabelModel",
      "state": {
       "layout": "IPY_MODEL_fd73e0752b5f41deb5e4bfc516b0a14b",
       "style": "IPY_MODEL_484cd69bf58d4d4a951e959db68fea36",
       "value": "Select Pool to Bond:"
      }
     },
     "2b1a78503ed546c0ac6b9e8fe75c9167": {
      "model_module": "@jupyter-widgets/base",
      "model_module_version": "1.2.0",
      "model_name": "LayoutModel",
      "state": {}
     },
     "2b38a9971614401f8056d22c1e01bf32": {
      "model_module": "@jupyter-widgets/controls",
      "model_module_version": "1.5.0",
      "model_name": "LabelModel",
      "state": {
       "layout": "IPY_MODEL_d4f092df8333420080e07e42ef21d101",
       "style": "IPY_MODEL_dbe6230845994265ab23b177312e7493",
       "value": "Max Payout: 96.15973854597343 ALCX"
      }
     },
     "2b4e22463a574ea29c60efce2f57f63a": {
      "model_module": "@jupyter-widgets/base",
      "model_module_version": "1.2.0",
      "model_name": "LayoutModel",
      "state": {}
     },
     "2b52743b27d1414588195a97493d7c9d": {
      "model_module": "@jupyter-widgets/controls",
      "model_module_version": "1.5.0",
      "model_name": "DescriptionStyleModel",
      "state": {
       "description_width": ""
      }
     },
     "2b5bb7cee78d4f578a7f76a66cbae858": {
      "model_module": "@jupyter-widgets/controls",
      "model_module_version": "1.5.0",
      "model_name": "DescriptionStyleModel",
      "state": {
       "description_width": ""
      }
     },
     "2b5d81da5dd44337b78783a054eb4978": {
      "model_module": "@jupyter-widgets/controls",
      "model_module_version": "1.5.0",
      "model_name": "CheckboxModel",
      "state": {
       "description": "Use Wallet Balance (72.80737)",
       "disabled": false,
       "layout": "IPY_MODEL_02bf42241d224bb495595690120e1ea0",
       "style": "IPY_MODEL_145cddd49b8c46e99a2943f883e95603",
       "value": true
      }
     },
     "2b61928653ad48f88ed1363cfd4d8ae7": {
      "model_module": "@jupyter-widgets/controls",
      "model_module_version": "1.5.0",
      "model_name": "CheckboxModel",
      "state": {
       "description": "WETH/ALCX (7.52248)",
       "disabled": false,
       "layout": "IPY_MODEL_2b8ee91019964acab984f047216d555a",
       "style": "IPY_MODEL_b651b8155d8c4d548720bf87f6f7ca73",
       "value": true
      }
     },
     "2b7f8dd5802245b5a9727316d977e6c3": {
      "model_module": "@jupyter-widgets/base",
      "model_module_version": "1.2.0",
      "model_name": "LayoutModel",
      "state": {}
     },
     "2b8e0e6758e5426c9035c72e2bafc9b5": {
      "model_module": "@jupyter-widgets/base",
      "model_module_version": "1.2.0",
      "model_name": "LayoutModel",
      "state": {}
     },
     "2b8ee91019964acab984f047216d555a": {
      "model_module": "@jupyter-widgets/base",
      "model_module_version": "1.2.0",
      "model_name": "LayoutModel",
      "state": {}
     },
     "2bb0633748ee48bc97661da47bf9de55": {
      "model_module": "@jupyter-widgets/controls",
      "model_module_version": "1.5.0",
      "model_name": "DescriptionStyleModel",
      "state": {
       "description_width": ""
      }
     },
     "2bb8b04db2d94dbbafb18d14cb2590cf": {
      "model_module": "@jupyter-widgets/base",
      "model_module_version": "1.2.0",
      "model_name": "LayoutModel",
      "state": {}
     },
     "2c1d404d08924c73ac56c0f21a32158b": {
      "model_module": "@jupyter-widgets/controls",
      "model_module_version": "1.5.0",
      "model_name": "LabelModel",
      "state": {
       "layout": "IPY_MODEL_5306cd69161b4710927547f738c0274d",
       "style": "IPY_MODEL_9b53ac2b7cc7408cad72fdb90b5afff6",
       "value": "Max Payout: 96.15973854597343 ALCX"
      }
     },
     "2c324d6de43f461fa3d2c368862015b5": {
      "model_module": "@jupyter-widgets/controls",
      "model_module_version": "1.5.0",
      "model_name": "LabelModel",
      "state": {
       "layout": "IPY_MODEL_2ce904c4970d475c83945f3b1d40ba8c",
       "style": "IPY_MODEL_263d79284ede4ad4a99379771c77da2b"
      }
     },
     "2c706132b4fb40d6acac794548bc1b3e": {
      "model_module": "@jupyter-widgets/controls",
      "model_module_version": "1.5.0",
      "model_name": "TextModel",
      "state": {
       "description": "Address: ",
       "layout": "IPY_MODEL_6f03ecd14efc43e6884b20bd1f1d679c",
       "style": "IPY_MODEL_0a09f072a0154df980d06c1264d9a188",
       "value": "0xeEEC0e4927704ab3BBE5df7F4EfFa818b43665a3"
      }
     },
     "2c7afd6763bd48549ec9b57d8c47d833": {
      "model_module": "@jupyter-widgets/base",
      "model_module_version": "1.2.0",
      "model_name": "LayoutModel",
      "state": {}
     },
     "2c8a2cda32e54370943e886717875eaa": {
      "model_module": "@jupyter-widgets/base",
      "model_module_version": "1.2.0",
      "model_name": "LayoutModel",
      "state": {}
     },
     "2c9d78daa6324ae2a10fc68d02a29956": {
      "model_module": "@jupyter-widgets/base",
      "model_module_version": "1.2.0",
      "model_name": "LayoutModel",
      "state": {}
     },
     "2ca58aa085f84af4a29632c21e83ddc0": {
      "model_module": "@jupyter-widgets/controls",
      "model_module_version": "1.5.0",
      "model_name": "LabelModel",
      "state": {
       "layout": "IPY_MODEL_feb26f014c3c4c1a89f2bd3838759b86",
       "style": "IPY_MODEL_5a19135891ae4d5099b399beb57bb766"
      }
     },
     "2cbd3f43a89a48c1b9f4d839a07a21fe": {
      "model_module": "@jupyter-widgets/base",
      "model_module_version": "1.2.0",
      "model_name": "LayoutModel",
      "state": {}
     },
     "2cbd9d8b50b444f68947118901901d35": {
      "model_module": "@jupyter-widgets/controls",
      "model_module_version": "1.5.0",
      "model_name": "DescriptionStyleModel",
      "state": {
       "description_width": ""
      }
     },
     "2cd02f7794354016b26776d8bc5bf453": {
      "model_module": "@jupyter-widgets/controls",
      "model_module_version": "1.5.0",
      "model_name": "DescriptionStyleModel",
      "state": {
       "description_width": ""
      }
     },
     "2ce904c4970d475c83945f3b1d40ba8c": {
      "model_module": "@jupyter-widgets/base",
      "model_module_version": "1.2.0",
      "model_name": "LayoutModel",
      "state": {}
     },
     "2d0075f09196424f983384b9c7d29b42": {
      "model_module": "@jupyter-widgets/controls",
      "model_module_version": "1.5.0",
      "model_name": "DescriptionStyleModel",
      "state": {
       "description_width": ""
      }
     },
     "2d3d88e8b3694618b5be6ade63ff0384": {
      "model_module": "@jupyter-widgets/controls",
      "model_module_version": "1.5.0",
      "model_name": "DescriptionStyleModel",
      "state": {
       "description_width": ""
      }
     },
     "2d7b3689a3c34ef6b61980dbbdc2f639": {
      "model_module": "@jupyter-widgets/controls",
      "model_module_version": "1.5.0",
      "model_name": "DescriptionStyleModel",
      "state": {
       "description_width": ""
      }
     },
     "2db47306b6f54a139eb9d34e9fda7290": {
      "model_module": "@jupyter-widgets/controls",
      "model_module_version": "1.5.0",
      "model_name": "DescriptionStyleModel",
      "state": {
       "description_width": ""
      }
     },
     "2df1a032a1714b17b49b0e7fbe997ca9": {
      "model_module": "@jupyter-widgets/controls",
      "model_module_version": "1.5.0",
      "model_name": "CheckboxModel",
      "state": {
       "description": "Use Wallet Balance (72.80737)",
       "disabled": false,
       "layout": "IPY_MODEL_2b0dd04856bd45ca8c338b3655f217a3",
       "style": "IPY_MODEL_61ce55804c174619bf71b2e00319fb50",
       "value": true
      }
     },
     "2e098ddeb8304ef9ae0efb0c76dc18bd": {
      "model_module": "@jupyter-widgets/controls",
      "model_module_version": "1.5.0",
      "model_name": "CheckboxModel",
      "state": {
       "description": "ALCX-ETH SLP (0.0)",
       "disabled": false,
       "layout": "IPY_MODEL_2c7afd6763bd48549ec9b57d8c47d833",
       "style": "IPY_MODEL_8714fdf19d2e49a5ac0cc4c6154b0ad6",
       "value": false
      }
     },
     "2e0caed52e284ec9b6aa087def1698ee": {
      "model_module": "@jupyter-widgets/controls",
      "model_module_version": "1.5.0",
      "model_name": "CheckboxModel",
      "state": {
       "description": "Use Wallet Balance (72.80737)",
       "disabled": false,
       "layout": "IPY_MODEL_422d7ccaedb84bcc9cc0911de6db66cc",
       "style": "IPY_MODEL_cdcb46697011443a81edd1654c342c02",
       "value": true
      }
     },
     "2e33ff24ad9e4b29b2c20ce671401d4e": {
      "model_module": "@jupyter-widgets/controls",
      "model_module_version": "1.5.0",
      "model_name": "DescriptionStyleModel",
      "state": {
       "description_width": ""
      }
     },
     "2e3b10f6dbc9462abf78a096921b088f": {
      "model_module": "@jupyter-widgets/base",
      "model_module_version": "1.2.0",
      "model_name": "LayoutModel",
      "state": {}
     },
     "2e4c91e9d0984cbd91e4654ead6d0022": {
      "model_module": "@jupyter-widgets/base",
      "model_module_version": "1.2.0",
      "model_name": "LayoutModel",
      "state": {}
     },
     "2e66d3e47f1c40868f70834860f7a1c3": {
      "model_module": "@jupyter-widgets/controls",
      "model_module_version": "1.5.0",
      "model_name": "DescriptionStyleModel",
      "state": {
       "description_width": ""
      }
     },
     "2e8104dc13b84113beb2d032a6d361d9": {
      "model_module": "@jupyter-widgets/controls",
      "model_module_version": "1.5.0",
      "model_name": "DescriptionStyleModel",
      "state": {
       "description_width": ""
      }
     },
     "2e9075eaece64291a4b96534b31102f0": {
      "model_module": "@jupyter-widgets/controls",
      "model_module_version": "1.5.0",
      "model_name": "LabelModel",
      "state": {
       "layout": "IPY_MODEL_d97af3e7c33b40b7ba1e0271e984a53f",
       "style": "IPY_MODEL_3dca641dfa8e47d391fcebc29f764bc0",
       "value": "[Current block: 13905571]"
      }
     },
     "2ea41b5337af429c8f05e36576fb6302": {
      "model_module": "@jupyter-widgets/controls",
      "model_module_version": "1.5.0",
      "model_name": "VBoxModel",
      "state": {
       "children": [
        "IPY_MODEL_0efd0acbb36e466dbdc08c662bc473b8",
        "IPY_MODEL_620f6d966c9a4d8999c61886729ca09b",
        "IPY_MODEL_0190402b80684a5c812b99eb8995451a",
        "IPY_MODEL_2b5d81da5dd44337b78783a054eb4978",
        "IPY_MODEL_4ca948d51b2740cbb13e81abe0a78db6",
        "IPY_MODEL_1dac17d6c41749ed836c54c894463d50",
        "IPY_MODEL_460267b017d04deaada4acfe6021df4f",
        "IPY_MODEL_d8c63532a67d43e5a421fb791d28ab73",
        "IPY_MODEL_4a35d73f95654ed7a94885d0d30d2ca2",
        "IPY_MODEL_e7eeb6634cc34892bed903a3a1cda305",
        "IPY_MODEL_ef647a8bd6ac496a9577b8b5fdfe3139",
        "IPY_MODEL_862cd4d6c9244fe28e88bb7014227637",
        "IPY_MODEL_19f4933bbc5546d08b66bbb8435f4571",
        "IPY_MODEL_765df12cd42c4074afe792d627bad18e"
       ],
       "layout": "IPY_MODEL_6ce8e9ea465a49c1a64157e7c7b39df3"
      }
     },
     "2ea76fffd5054d3aa71a29eb99d7db8c": {
      "model_module": "@jupyter-widgets/controls",
      "model_module_version": "1.5.0",
      "model_name": "DropdownModel",
      "state": {
       "_options_labels": [
        "WETH/ALCX",
        "DAI/ALCX",
        "CVX/ALCX",
        "ALCX-ETH SLP"
       ],
       "index": 3,
       "layout": "IPY_MODEL_a16e45eb6b2748d39df44329e7df51b4",
       "style": "IPY_MODEL_af6974a5c1e249bcb59d13f937ba43d6"
      }
     },
     "2eb5d64ff3b249eab4387981ef1d2412": {
      "model_module": "@jupyter-widgets/base",
      "model_module_version": "1.2.0",
      "model_name": "LayoutModel",
      "state": {}
     },
     "2f0d7bd4982f42319fac7dd976850aac": {
      "model_module": "@jupyter-widgets/base",
      "model_module_version": "1.2.0",
      "model_name": "LayoutModel",
      "state": {}
     },
     "2f1b2a971501453b919a083e01d49b2a": {
      "model_module": "@jupyter-widgets/base",
      "model_module_version": "1.2.0",
      "model_name": "LayoutModel",
      "state": {}
     },
     "2f20de387e7a4e73804b03b217397685": {
      "model_module": "@jupyter-widgets/base",
      "model_module_version": "1.2.0",
      "model_name": "LayoutModel",
      "state": {}
     },
     "2f25430b7c344b7b85b24ccee63a60bc": {
      "model_module": "@jupyter-widgets/controls",
      "model_module_version": "1.5.0",
      "model_name": "DescriptionStyleModel",
      "state": {
       "description_width": ""
      }
     },
     "2f266d3fd47d4e3a835f394c85dff583": {
      "model_module": "@jupyter-widgets/controls",
      "model_module_version": "1.5.0",
      "model_name": "DropdownModel",
      "state": {
       "_options_labels": [
        "WETH/ALCX",
        "DAI/ALCX",
        "CVX/ALCX",
        "ALCX-ETH SLP"
       ],
       "index": 0,
       "layout": "IPY_MODEL_cf0a648418d34dc38850767a27ffdffe",
       "style": "IPY_MODEL_67733fba98fb43fab1776fe3e1afbb0d"
      }
     },
     "2f442058e3874b2ca948b73b716fc15a": {
      "model_module": "@jupyter-widgets/controls",
      "model_module_version": "1.5.0",
      "model_name": "TextModel",
      "state": {
       "description": "Address: ",
       "layout": "IPY_MODEL_29aaa807d74a410a9a30386f653eb841",
       "style": "IPY_MODEL_0f7101cd76b04eb18d05dbdb761766cc",
       "value": "0xeEEC0e4927704ab3BBE5df7F4EfFa818b43665a3"
      }
     },
     "2f61141d2c1341d79ebbdfb5277a20eb": {
      "model_module": "@jupyter-widgets/controls",
      "model_module_version": "1.5.0",
      "model_name": "LabelModel",
      "state": {
       "layout": "IPY_MODEL_1f46bf77732140d68d657a05f57ba1e8",
       "style": "IPY_MODEL_59270077507646e8a0d7968b373501dc",
       "value": "Your Payout: 0 WETH"
      }
     },
     "2f7cb36ed3d443838e23fa13759c69fe": {
      "model_module": "@jupyter-widgets/controls",
      "model_module_version": "1.5.0",
      "model_name": "LabelModel",
      "state": {
       "layout": "IPY_MODEL_e033ee598f4745e7b78a1a55376b548d",
       "style": "IPY_MODEL_2b12f4706459425a948b10169fcf87e1",
       "value": "Select Pool to Bond:"
      }
     },
     "2f7fb48d6ec5466a9e00a4536c3688e3": {
      "model_module": "@jupyter-widgets/controls",
      "model_module_version": "1.5.0",
      "model_name": "DescriptionStyleModel",
      "state": {
       "description_width": ""
      }
     },
     "2f8b106f80a94924bfdf164cf779ecb2": {
      "model_module": "@jupyter-widgets/base",
      "model_module_version": "1.2.0",
      "model_name": "LayoutModel",
      "state": {}
     },
     "2f9462f087844f86a7d4ba50ccebcd09": {
      "model_module": "@jupyter-widgets/base",
      "model_module_version": "1.2.0",
      "model_name": "LayoutModel",
      "state": {}
     },
     "2fbe209aa39044c2a988b007797d2a00": {
      "model_module": "@jupyter-widgets/controls",
      "model_module_version": "1.5.0",
      "model_name": "DescriptionStyleModel",
      "state": {
       "description_width": ""
      }
     },
     "2fe0a40531be448b9cc3a80c69258f2e": {
      "model_module": "@jupyter-widgets/base",
      "model_module_version": "1.2.0",
      "model_name": "LayoutModel",
      "state": {}
     },
     "2fe0d051324f44afae3ab92cd9f36de2": {
      "model_module": "@jupyter-widgets/controls",
      "model_module_version": "1.5.0",
      "model_name": "LabelModel",
      "state": {
       "layout": "IPY_MODEL_54f5faa401df401db0c2702e6cfec089",
       "style": "IPY_MODEL_9f2142df8f3343038df5403685c4afb9",
       "value": "Select Assets to Claim:"
      }
     },
     "2ffc616048db403fb2b238fc57d7453e": {
      "model_module": "@jupyter-widgets/base",
      "model_module_version": "1.2.0",
      "model_name": "LayoutModel",
      "state": {}
     },
     "301089faa7824933b7f90627747c8748": {
      "model_module": "@jupyter-widgets/controls",
      "model_module_version": "1.5.0",
      "model_name": "TextModel",
      "state": {
       "description": "Address: ",
       "layout": "IPY_MODEL_4ddf1b2dd51c4e77b5cec9c923e3200f",
       "style": "IPY_MODEL_0fdd003cdd37497580f1d550ae9a52da",
       "value": "0xeEEC0e4927704ab3BBE5df7F4EfFa818b43665a3"
      }
     },
     "3028d4d0444b4df5afbf1efecb9901de": {
      "model_module": "@jupyter-widgets/base",
      "model_module_version": "1.2.0",
      "model_name": "LayoutModel",
      "state": {}
     },
     "303361fa512e4f4c9114ea8b0656e998": {
      "model_module": "@jupyter-widgets/base",
      "model_module_version": "1.2.0",
      "model_name": "LayoutModel",
      "state": {}
     },
     "3039a59f3a514bdbad8b37e751cf3721": {
      "model_module": "@jupyter-widgets/base",
      "model_module_version": "1.2.0",
      "model_name": "LayoutModel",
      "state": {}
     },
     "3050d4fd79d24dabb09fc95cf4c66828": {
      "model_module": "@jupyter-widgets/base",
      "model_module_version": "1.2.0",
      "model_name": "LayoutModel",
      "state": {}
     },
     "305ea1abe9f341609dcedfcde88c2afc": {
      "model_module": "@jupyter-widgets/base",
      "model_module_version": "1.2.0",
      "model_name": "LayoutModel",
      "state": {}
     },
     "306c24b538764cff85437379c87e195c": {
      "model_module": "@jupyter-widgets/controls",
      "model_module_version": "1.5.0",
      "model_name": "DescriptionStyleModel",
      "state": {
       "description_width": ""
      }
     },
     "308deaced5e8495aadb4e342a81b21b0": {
      "model_module": "@jupyter-widgets/base",
      "model_module_version": "1.2.0",
      "model_name": "LayoutModel",
      "state": {}
     },
     "30d84c1d3d1d4bc69bd00ddbcbfb0b3b": {
      "model_module": "@jupyter-widgets/controls",
      "model_module_version": "1.5.0",
      "model_name": "HBoxModel",
      "state": {
       "children": [
        "IPY_MODEL_eabe42d9bf834499a996c659610b77eb",
        "IPY_MODEL_0b330f0f853b46a89d901214cf65bde1"
       ],
       "layout": "IPY_MODEL_e1f35e89e42e41e2bc967415bc45f91d"
      }
     },
     "31019918b498439bbcb92ef3b4664ca0": {
      "model_module": "@jupyter-widgets/controls",
      "model_module_version": "1.5.0",
      "model_name": "LabelModel",
      "state": {
       "layout": "IPY_MODEL_baac8c6c02284afb87a23c42d2d56348",
       "style": "IPY_MODEL_559cfcb64f0749f4a8cbe2009ca93d25",
       "value": "[Current block: 13905519]"
      }
     },
     "31387430ccc94ef49ea6380ae07ad1bd": {
      "model_module": "@jupyter-widgets/base",
      "model_module_version": "1.2.0",
      "model_name": "LayoutModel",
      "state": {
       "width": "200px"
      }
     },
     "31499337ee5e43cb9ebe20f0c1e9a032": {
      "model_module": "@jupyter-widgets/controls",
      "model_module_version": "1.5.0",
      "model_name": "DescriptionStyleModel",
      "state": {
       "description_width": ""
      }
     },
     "314dfbdf27ce4ad7a9dd491f7ba29567": {
      "model_module": "@jupyter-widgets/controls",
      "model_module_version": "1.5.0",
      "model_name": "VBoxModel",
      "state": {
       "children": [
        "IPY_MODEL_eec4fcb4a21146e288e802ae99eb9f7c",
        "IPY_MODEL_1c4abec4fe4e4e1991c3166e15f655a1",
        "IPY_MODEL_316797f2207b4f32a3fc3a47f1af62ef",
        "IPY_MODEL_ce27dbb805c34c94be4afef04557c774",
        "IPY_MODEL_49dcf0b68a2947168797253b9869ddc0",
        "IPY_MODEL_c02adeb6356f43d8a5fc502f31447b73",
        "IPY_MODEL_6fcabaf3a5d94d8f85bc9c8e8225c627",
        "IPY_MODEL_235485831b0146f3a9129f9253b52cf9",
        "IPY_MODEL_1b03c72ef77d4bbe84bd7ea278c22f2e",
        "IPY_MODEL_2f266d3fd47d4e3a835f394c85dff583",
        "IPY_MODEL_ec9473281b064c8cb0d6831a97a1f192",
        "IPY_MODEL_6b94d1ccfbf04757a4276566fa87e2f6",
        "IPY_MODEL_f854ac3e2b7c46839e9b0215bd5cc303",
        "IPY_MODEL_18da4f4702434da1b4f46701d3686554"
       ],
       "layout": "IPY_MODEL_18240bcc534f4ca291592d52c5350ab6"
      }
     },
     "3161db288af14d33bff69abcebc313e8": {
      "model_module": "@jupyter-widgets/base",
      "model_module_version": "1.2.0",
      "model_name": "LayoutModel",
      "state": {}
     },
     "3163c170f9a9493b841c1c1ee68577c1": {
      "model_module": "@jupyter-widgets/base",
      "model_module_version": "1.2.0",
      "model_name": "LayoutModel",
      "state": {
       "width": "200px"
      }
     },
     "316797f2207b4f32a3fc3a47f1af62ef": {
      "model_module": "@jupyter-widgets/controls",
      "model_module_version": "1.5.0",
      "model_name": "LabelModel",
      "state": {
       "layout": "IPY_MODEL_7e4629a3143446a5985914999b11c294",
       "style": "IPY_MODEL_e61fe93e145e4ed9a20568cd7a8b73b8",
       "value": "Select Assets to Claim:"
      }
     },
     "31740ce5f00f427cb9c10d0d3e3c2a8e": {
      "model_module": "@jupyter-widgets/controls",
      "model_module_version": "1.5.0",
      "model_name": "DescriptionStyleModel",
      "state": {
       "description_width": ""
      }
     },
     "3193311054a8430a978e542b15c699ce": {
      "model_module": "@jupyter-widgets/controls",
      "model_module_version": "1.5.0",
      "model_name": "DescriptionStyleModel",
      "state": {
       "description_width": ""
      }
     },
     "31c416cea9cb421bbce7646938a2358e": {
      "model_module": "@jupyter-widgets/controls",
      "model_module_version": "1.5.0",
      "model_name": "ButtonStyleModel",
      "state": {}
     },
     "31cb10ca43ad49c8bc25882012c18891": {
      "model_module": "@jupyter-widgets/controls",
      "model_module_version": "1.5.0",
      "model_name": "HBoxModel",
      "state": {
       "children": [
        "IPY_MODEL_26c6f7b51b9a426aa0e3f2bbf8c8fce5",
        "IPY_MODEL_794d8899eb2e4bad833c5247e92d8036"
       ],
       "layout": "IPY_MODEL_bb6f1345a8e34a5da390bd75615b90b1"
      }
     },
     "3207c50c9fd54bdc93d9d5c583b9de31": {
      "model_module": "@jupyter-widgets/base",
      "model_module_version": "1.2.0",
      "model_name": "LayoutModel",
      "state": {}
     },
     "32176f9f1eb049c19be2117fd9b00615": {
      "model_module": "@jupyter-widgets/base",
      "model_module_version": "1.2.0",
      "model_name": "LayoutModel",
      "state": {}
     },
     "321bcda4db884045a225ca81e713eb8a": {
      "model_module": "@jupyter-widgets/controls",
      "model_module_version": "1.5.0",
      "model_name": "HBoxModel",
      "state": {
       "children": [
        "IPY_MODEL_14d9fa99356f4ddb9f1d1a39f0244f93",
        "IPY_MODEL_0a87f921f5504140b5b1adc96ee1a526"
       ],
       "layout": "IPY_MODEL_2e3b10f6dbc9462abf78a096921b088f"
      }
     },
     "3233d333280640b6967556f1e3c2194d": {
      "model_module": "@jupyter-widgets/base",
      "model_module_version": "1.2.0",
      "model_name": "LayoutModel",
      "state": {}
     },
     "323e803508e3433d93643d6846d3218a": {
      "model_module": "@jupyter-widgets/controls",
      "model_module_version": "1.5.0",
      "model_name": "DescriptionStyleModel",
      "state": {
       "description_width": ""
      }
     },
     "32a94f02d7184423873f7010b2e23e56": {
      "model_module": "@jupyter-widgets/base",
      "model_module_version": "1.2.0",
      "model_name": "LayoutModel",
      "state": {}
     },
     "32b6f02733bc41319d4d0ba1cac25834": {
      "model_module": "@jupyter-widgets/controls",
      "model_module_version": "1.5.0",
      "model_name": "DescriptionStyleModel",
      "state": {
       "description_width": ""
      }
     },
     "32bb3f7d09964930b64bb29efadffad5": {
      "model_module": "@jupyter-widgets/base",
      "model_module_version": "1.2.0",
      "model_name": "LayoutModel",
      "state": {}
     },
     "32f3c79576d14719a81ac1153c34719e": {
      "model_module": "@jupyter-widgets/controls",
      "model_module_version": "1.5.0",
      "model_name": "DescriptionStyleModel",
      "state": {
       "description_width": ""
      }
     },
     "330500153b7e4772b66e91278a66b94d": {
      "model_module": "@jupyter-widgets/controls",
      "model_module_version": "1.5.0",
      "model_name": "DescriptionStyleModel",
      "state": {
       "description_width": ""
      }
     },
     "33134efb8545446187778114e97f915b": {
      "model_module": "@jupyter-widgets/controls",
      "model_module_version": "1.5.0",
      "model_name": "LabelModel",
      "state": {
       "layout": "IPY_MODEL_0fbea6a6454d45a1a9b5c0aaee807e94",
       "style": "IPY_MODEL_44a5606528064831a988b29c87bfd32c",
       "value": "Max Payout: 0.0 ALCX"
      }
     },
     "33557300968b46b3b26974575cc7083a": {
      "model_module": "@jupyter-widgets/controls",
      "model_module_version": "1.5.0",
      "model_name": "CheckboxModel",
      "state": {
       "description": "DAI/ALCX (3.5943)",
       "disabled": false,
       "layout": "IPY_MODEL_2c9d78daa6324ae2a10fc68d02a29956",
       "style": "IPY_MODEL_6dfc7363c3eb41b5a15aa59fd482b09e",
       "value": false
      }
     },
     "3359a85e0c3d419899cb29fdad9db9b9": {
      "model_module": "@jupyter-widgets/controls",
      "model_module_version": "1.5.0",
      "model_name": "ButtonStyleModel",
      "state": {}
     },
     "33737ad81f5741658e45ccbf07e73920": {
      "model_module": "@jupyter-widgets/base",
      "model_module_version": "1.2.0",
      "model_name": "LayoutModel",
      "state": {}
     },
     "3391c6a9a86648b1b1b919c739dd6c46": {
      "model_module": "@jupyter-widgets/controls",
      "model_module_version": "1.5.0",
      "model_name": "CheckboxModel",
      "state": {
       "description": "DAI/ALCX (3.53175)",
       "disabled": false,
       "layout": "IPY_MODEL_75e1dd0ec3d640e1b7bd7a4b8fe8af2c",
       "style": "IPY_MODEL_a227e9fae3e14f9c893797fbc635f8f6",
       "value": false
      }
     },
     "33996d87e809462baf4598be142542b7": {
      "model_module": "@jupyter-widgets/base",
      "model_module_version": "1.2.0",
      "model_name": "LayoutModel",
      "state": {}
     },
     "339ff331863745ff81e5721fcfe6348f": {
      "model_module": "@jupyter-widgets/controls",
      "model_module_version": "1.5.0",
      "model_name": "DescriptionStyleModel",
      "state": {
       "description_width": ""
      }
     },
     "33c89e2d80124e959e79ed91931f9c17": {
      "model_module": "@jupyter-widgets/controls",
      "model_module_version": "1.5.0",
      "model_name": "CheckboxModel",
      "state": {
       "description": "DAI/ALCX (3.67352)",
       "disabled": false,
       "layout": "IPY_MODEL_280106e7e65648ef9d293fb747a3c775",
       "style": "IPY_MODEL_bdea3c2ec11b44ebaed5a3ed7f26c60e",
       "value": true
      }
     },
     "33d1ba62ddd94f4fb59cc25f192339ba": {
      "model_module": "@jupyter-widgets/controls",
      "model_module_version": "1.5.0",
      "model_name": "LabelModel",
      "state": {
       "layout": "IPY_MODEL_17c3a7dce9434298965aa6d56c65d53d",
       "style": "IPY_MODEL_5ebc854b081849709cf0dde5eaf01117",
       "value": "[Current block: 13905419]"
      }
     },
     "33ec49478a6d46608a03597a7fce54a2": {
      "model_module": "@jupyter-widgets/controls",
      "model_module_version": "1.5.0",
      "model_name": "DescriptionStyleModel",
      "state": {
       "description_width": ""
      }
     },
     "3407ae0ba97b4510885cfd8a43b65238": {
      "model_module": "@jupyter-widgets/controls",
      "model_module_version": "1.5.0",
      "model_name": "DescriptionStyleModel",
      "state": {
       "description_width": ""
      }
     },
     "341dddfe898b45c2b474a6ed4f7b522e": {
      "model_module": "@jupyter-widgets/controls",
      "model_module_version": "1.5.0",
      "model_name": "DropdownModel",
      "state": {
       "_options_labels": [
        "WETH/ALCX",
        "DAI/ALCX",
        "CVX/ALCX",
        "ALCX-ETH SLP"
       ],
       "index": 0,
       "layout": "IPY_MODEL_d49ed5a63f584b6497985291f504e911",
       "style": "IPY_MODEL_43e8517c0a6d4a36939ef70213ac6486"
      }
     },
     "342fb71502ab496983f604dea231f8b0": {
      "model_module": "@jupyter-widgets/controls",
      "model_module_version": "1.5.0",
      "model_name": "LabelModel",
      "state": {
       "layout": "IPY_MODEL_754e9aa252484e8289c1c7dd1d25a0f2",
       "style": "IPY_MODEL_e2ea99c990a840ae873c75973af418c7",
       "value": "Max Input: 5.989554620791429 WETH"
      }
     },
     "34572934a5d04e95b60b7a30df396934": {
      "model_module": "@jupyter-widgets/controls",
      "model_module_version": "1.5.0",
      "model_name": "LabelModel",
      "state": {
       "layout": "IPY_MODEL_8b504ee5ca1944459318519e5ec45185",
       "style": "IPY_MODEL_a61f6d1a0e594388a94a782703b053e4",
       "value": "Your Payout: 0 ALCX"
      }
     },
     "34abfd34f0c04d0ca7a4fc40546c5ae8": {
      "model_module": "@jupyter-widgets/controls",
      "model_module_version": "1.5.0",
      "model_name": "DescriptionStyleModel",
      "state": {
       "description_width": ""
      }
     },
     "34ad57b4baef4f1fa8309a02b9e47654": {
      "model_module": "@jupyter-widgets/base",
      "model_module_version": "1.2.0",
      "model_name": "LayoutModel",
      "state": {}
     },
     "34b86cd88323419c8c116b1d0cb54aca": {
      "model_module": "@jupyter-widgets/base",
      "model_module_version": "1.2.0",
      "model_name": "LayoutModel",
      "state": {}
     },
     "34cfe0aec8e4446899ac0817db63a971": {
      "model_module": "@jupyter-widgets/controls",
      "model_module_version": "1.5.0",
      "model_name": "CheckboxModel",
      "state": {
       "description": "DAI/ALCX (3.62766)",
       "disabled": false,
       "layout": "IPY_MODEL_24d64e107caf45d8bd93bfb8fadab4b5",
       "style": "IPY_MODEL_84e9a251ac144f5484f78fe67fb356f0",
       "value": true
      }
     },
     "3505d06a79df4ecdb37616079c1bb1f1": {
      "model_module": "@jupyter-widgets/controls",
      "model_module_version": "1.5.0",
      "model_name": "LabelModel",
      "state": {
       "layout": "IPY_MODEL_a39fdb422a9d4b7db06c1bb6aa6811d2",
       "style": "IPY_MODEL_e31fb3f3f3a443f184af2ede705f4cce",
       "value": "Swapping 72.80737 ALCX for 4.644284847895197 WETH"
      }
     },
     "3508dbcc5bca47998b50903cda1ecc3b": {
      "model_module": "@jupyter-widgets/base",
      "model_module_version": "1.2.0",
      "model_name": "LayoutModel",
      "state": {}
     },
     "3511aebe664345f2a4288da1194aa2e6": {
      "model_module": "@jupyter-widgets/controls",
      "model_module_version": "1.5.0",
      "model_name": "ButtonModel",
      "state": {
       "description": "Generate MultiCall Data",
       "layout": "IPY_MODEL_23aa4542e3af4c77b538e4682392fddc",
       "style": "IPY_MODEL_10eed42d87e24c0d9ea635af9683cce4"
      }
     },
     "353c3e4e6574470788d60071488f1861": {
      "model_module": "@jupyter-widgets/base",
      "model_module_version": "1.2.0",
      "model_name": "LayoutModel",
      "state": {}
     },
     "354aeed557c1414ca64e1f50f3cc2108": {
      "model_module": "@jupyter-widgets/base",
      "model_module_version": "1.2.0",
      "model_name": "LayoutModel",
      "state": {}
     },
     "3550341beda144ef8c66a1dcad3a2b18": {
      "model_module": "@jupyter-widgets/controls",
      "model_module_version": "1.5.0",
      "model_name": "LabelModel",
      "state": {
       "layout": "IPY_MODEL_b41ccf01f101401087a3bd6db86bde10",
       "style": "IPY_MODEL_3d2ccf95db204a318101ceb9d56564c9"
      }
     },
     "35a7d1209943425f882d68d6b5253385": {
      "model_module": "@jupyter-widgets/controls",
      "model_module_version": "1.5.0",
      "model_name": "DropdownModel",
      "state": {
       "_options_labels": [
        "WETH/ALCX",
        "DAI/ALCX",
        "CVX/ALCX",
        "ALCX-ETH SLP"
       ],
       "index": 0,
       "layout": "IPY_MODEL_57a9f286e2064106a19e5d2874120761",
       "style": "IPY_MODEL_76bd59dd8ba241579f92354c6e5c8b07"
      }
     },
     "35b303e5338f4e18930c6d449955e098": {
      "model_module": "@jupyter-widgets/controls",
      "model_module_version": "1.5.0",
      "model_name": "DescriptionStyleModel",
      "state": {
       "description_width": ""
      }
     },
     "35c5fb529d524c9198f7d363c888fe53": {
      "model_module": "@jupyter-widgets/base",
      "model_module_version": "1.2.0",
      "model_name": "LayoutModel",
      "state": {}
     },
     "35eccdadcc99428bbbe4fc6fe3265695": {
      "model_module": "@jupyter-widgets/base",
      "model_module_version": "1.2.0",
      "model_name": "LayoutModel",
      "state": {}
     },
     "360a17b8214b4f9da1672839e3be8d6a": {
      "model_module": "@jupyter-widgets/controls",
      "model_module_version": "1.5.0",
      "model_name": "LabelModel",
      "state": {
       "layout": "IPY_MODEL_cd09218816e5482ebff0ffcba205bf90",
       "style": "IPY_MODEL_6ab84c750a6e421db01bd70affd28968",
       "value": "[Current block: 13905554]"
      }
     },
     "3617c24cb3f746c586fec66c8f84c21e": {
      "model_module": "@jupyter-widgets/controls",
      "model_module_version": "1.5.0",
      "model_name": "HBoxModel",
      "state": {
       "children": [
        "IPY_MODEL_2922f83ae12849b7b00e4cf507f00cc7",
        "IPY_MODEL_1ae1cf8ae0a64053aa578f96e9c976ee"
       ],
       "layout": "IPY_MODEL_873d31f5106c4091a974e468bbcfa0ce"
      }
     },
     "3635897d7b8745ae85e057c37a91c476": {
      "model_module": "@jupyter-widgets/controls",
      "model_module_version": "1.5.0",
      "model_name": "DescriptionStyleModel",
      "state": {
       "description_width": ""
      }
     },
     "36580716884e415ebe644111d30a6049": {
      "model_module": "@jupyter-widgets/base",
      "model_module_version": "1.2.0",
      "model_name": "LayoutModel",
      "state": {
       "width": "425px"
      }
     },
     "36aa9384f45243c6af5557fd3403ccad": {
      "model_module": "@jupyter-widgets/controls",
      "model_module_version": "1.5.0",
      "model_name": "HBoxModel",
      "state": {
       "children": [
        "IPY_MODEL_3df4e6c760934494a597d73d7d86eea4",
        "IPY_MODEL_3a58d0887cf84354a0318694a8cc03ed"
       ],
       "layout": "IPY_MODEL_6313aeb51a9642c8b795d7bfee16b6f0"
      }
     },
     "36fb77000e5b442998b1c704d52fafd2": {
      "model_module": "@jupyter-widgets/base",
      "model_module_version": "1.2.0",
      "model_name": "LayoutModel",
      "state": {}
     },
     "37037dfebe8e492684810c1307a54d55": {
      "model_module": "@jupyter-widgets/controls",
      "model_module_version": "1.5.0",
      "model_name": "DescriptionStyleModel",
      "state": {
       "description_width": ""
      }
     },
     "3728b37d8b5841a39ced0931cf2c3b11": {
      "model_module": "@jupyter-widgets/controls",
      "model_module_version": "1.5.0",
      "model_name": "DescriptionStyleModel",
      "state": {
       "description_width": ""
      }
     },
     "3754f13e5ea94199ba00a4fafc7f5441": {
      "model_module": "@jupyter-widgets/controls",
      "model_module_version": "1.5.0",
      "model_name": "DropdownModel",
      "state": {
       "_options_labels": [
        "WETH/ALCX",
        "DAI/ALCX",
        "CVX/ALCX",
        "ALCX-ETH SLP"
       ],
       "index": 0,
       "layout": "IPY_MODEL_60fe78b5594e4cee84d19f25f606aa1c",
       "style": "IPY_MODEL_a30dc670ca7040a585c2be0fe015703c"
      }
     },
     "375b1d0d41b74e74b705fe8a88fbb6d8": {
      "model_module": "@jupyter-widgets/base",
      "model_module_version": "1.2.0",
      "model_name": "LayoutModel",
      "state": {}
     },
     "376466dfe7b544fe9bf6ad978f62fff0": {
      "model_module": "@jupyter-widgets/controls",
      "model_module_version": "1.5.0",
      "model_name": "DescriptionStyleModel",
      "state": {
       "description_width": ""
      }
     },
     "3764cee8debe4b5c81bfab2a76af2c42": {
      "model_module": "@jupyter-widgets/controls",
      "model_module_version": "1.5.0",
      "model_name": "LabelModel",
      "state": {
       "layout": "IPY_MODEL_50bf5c0cb59a4645ab6b5d1946fc42b1",
       "style": "IPY_MODEL_2aa4b7a34b484b0a9e276f818c3cbfab",
       "value": "You Will Get: 78.96778777821362 ALCX"
      }
     },
     "37a0034f1f454c7ea86e571e268a9144": {
      "model_module": "@jupyter-widgets/controls",
      "model_module_version": "1.5.0",
      "model_name": "DescriptionStyleModel",
      "state": {
       "description_width": ""
      }
     },
     "37be1c5a21f54da6a8161380a01f2281": {
      "model_module": "@jupyter-widgets/controls",
      "model_module_version": "1.5.0",
      "model_name": "TextModel",
      "state": {
       "description": "Address: ",
       "layout": "IPY_MODEL_b912a51bb0664683a961aba05a469c82",
       "style": "IPY_MODEL_3bedd66948a54323824aeba11b6529c8",
       "value": "0xeEEC0e4927704ab3BBE5df7F4EfFa818b43665a3"
      }
     },
     "37c3334798314e3c890435cabf5bc276": {
      "model_module": "@jupyter-widgets/base",
      "model_module_version": "1.2.0",
      "model_name": "LayoutModel",
      "state": {}
     },
     "37f32d5f77414a0797b99f540775cbaa": {
      "model_module": "@jupyter-widgets/controls",
      "model_module_version": "1.5.0",
      "model_name": "LabelModel",
      "state": {
       "layout": "IPY_MODEL_54b210952f5e4f30910b8189c5261146",
       "style": "IPY_MODEL_26a80677af9a4e12886e42c1215caac5",
       "value": "Select Pool to Bond:"
      }
     },
     "381111455be540f99c0838152a8adb15": {
      "model_module": "@jupyter-widgets/controls",
      "model_module_version": "1.5.0",
      "model_name": "HBoxModel",
      "state": {
       "children": [
        "IPY_MODEL_c682c13b32794866b4a9dff9e07faf6b",
        "IPY_MODEL_feb77c7f145a4d39be6f4b7d2666cf1f"
       ],
       "layout": "IPY_MODEL_ffa38d480b8e4003aaf720a1b1561b44"
      }
     },
     "3877164073a14e21b9f26af58974915c": {
      "model_module": "@jupyter-widgets/base",
      "model_module_version": "1.2.0",
      "model_name": "LayoutModel",
      "state": {}
     },
     "388ca896721c45418d4bdf300c7b0e16": {
      "model_module": "@jupyter-widgets/base",
      "model_module_version": "1.2.0",
      "model_name": "LayoutModel",
      "state": {}
     },
     "38ada1413d9249c38f5fcac0c62a6bfa": {
      "model_module": "@jupyter-widgets/base",
      "model_module_version": "1.2.0",
      "model_name": "LayoutModel",
      "state": {}
     },
     "38c7d7ac86a64873939a61524e84190a": {
      "model_module": "@jupyter-widgets/controls",
      "model_module_version": "1.5.0",
      "model_name": "DescriptionStyleModel",
      "state": {
       "description_width": ""
      }
     },
     "38cd2acb1d49427197501bb9d1337382": {
      "model_module": "@jupyter-widgets/controls",
      "model_module_version": "1.5.0",
      "model_name": "HBoxModel",
      "state": {
       "children": [
        "IPY_MODEL_4558fad6779d4877ad2406fb8c80b4dc",
        "IPY_MODEL_59ec48999793476ab9695cb1dd472b74"
       ],
       "layout": "IPY_MODEL_2f20de387e7a4e73804b03b217397685"
      }
     },
     "390d903725e5410da715ba3d96aa183f": {
      "model_module": "@jupyter-widgets/base",
      "model_module_version": "1.2.0",
      "model_name": "LayoutModel",
      "state": {}
     },
     "390f87da1b204e5caea6f088a4945d99": {
      "model_module": "@jupyter-widgets/controls",
      "model_module_version": "1.5.0",
      "model_name": "HBoxModel",
      "state": {
       "children": [
        "IPY_MODEL_0876416efd5347889d1ff28400924e87",
        "IPY_MODEL_b08d1fe2e9ca403cbb204e81442e0138"
       ],
       "layout": "IPY_MODEL_2959a4791b99452299c26a2976c183b6"
      }
     },
     "3944c879168649bdbed8b9eb46879f64": {
      "model_module": "@jupyter-widgets/controls",
      "model_module_version": "1.5.0",
      "model_name": "ButtonModel",
      "state": {
       "description": "Generate MultiCall Data",
       "layout": "IPY_MODEL_f335563880e340f7a274efd16dcde058",
       "style": "IPY_MODEL_d48a382360bc4730bef03fc5b1b1f74f"
      }
     },
     "395a5d92e5c5475e96200c8e83603b3d": {
      "model_module": "@jupyter-widgets/controls",
      "model_module_version": "1.5.0",
      "model_name": "DescriptionStyleModel",
      "state": {
       "description_width": ""
      }
     },
     "396b85400993447293849a2a714ea0b9": {
      "model_module": "@jupyter-widgets/controls",
      "model_module_version": "1.5.0",
      "model_name": "CheckboxModel",
      "state": {
       "description": "WETH/ALCX (7.13758)",
       "disabled": false,
       "layout": "IPY_MODEL_094e74691a0c45079bbfb80a8b462cce",
       "style": "IPY_MODEL_f246378df49741c68f353833e8ec1764",
       "value": false
      }
     },
     "398bc1326fe6443e9ce15a1df2311721": {
      "model_module": "@jupyter-widgets/base",
      "model_module_version": "1.2.0",
      "model_name": "LayoutModel",
      "state": {}
     },
     "39978aa0aed744639fb899de758c1f05": {
      "model_module": "@jupyter-widgets/controls",
      "model_module_version": "1.5.0",
      "model_name": "VBoxModel",
      "state": {
       "children": [
        "IPY_MODEL_c58f5d7f4d3c4a13a2c13bca0dff27b4",
        "IPY_MODEL_2f442058e3874b2ca948b73b716fc15a",
        "IPY_MODEL_d9226b8a179341d6b62cd3cc0eeb30ec",
        "IPY_MODEL_1e7a32c68297427784a49e1d2493f447",
        "IPY_MODEL_e6d68874685c4df89b00766f6d1d72d3",
        "IPY_MODEL_defb14c1a7334176a195f99e32b890ff",
        "IPY_MODEL_6102a4ee8df549d2b41992d59a350a58",
        "IPY_MODEL_5dc6b7be444344478ff6f070649715d7",
        "IPY_MODEL_b8b9d1aaebc1434b807d7d612ed3146c",
        "IPY_MODEL_4900c8a4954a4a868b917bd93e1dc3db",
        "IPY_MODEL_5a8b45a7c82e46a0b2389d72fea6d65b",
        "IPY_MODEL_9d0945b329e84850b7dbdcc4d0298d13",
        "IPY_MODEL_2c1d404d08924c73ac56c0f21a32158b",
        "IPY_MODEL_a03044d61d29406488b00a6d8e7f0d45"
       ],
       "layout": "IPY_MODEL_3b4a77061fac45978f2ae54422ccef92"
      }
     },
     "39b222202c7f4266b5454024b5619e9b": {
      "model_module": "@jupyter-widgets/base",
      "model_module_version": "1.2.0",
      "model_name": "LayoutModel",
      "state": {}
     },
     "39cb6c1e40a54da882db249a22363b97": {
      "model_module": "@jupyter-widgets/controls",
      "model_module_version": "1.5.0",
      "model_name": "DescriptionStyleModel",
      "state": {
       "description_width": ""
      }
     },
     "39ded48a38cc48d9a13b285098d12057": {
      "model_module": "@jupyter-widgets/base",
      "model_module_version": "1.2.0",
      "model_name": "LayoutModel",
      "state": {}
     },
     "39f2240a28ec486283fcc64df1ace035": {
      "model_module": "@jupyter-widgets/controls",
      "model_module_version": "1.5.0",
      "model_name": "DescriptionStyleModel",
      "state": {
       "description_width": ""
      }
     },
     "3a1a02f6e9ac42ae89c1018908eb797a": {
      "model_module": "@jupyter-widgets/base",
      "model_module_version": "1.2.0",
      "model_name": "LayoutModel",
      "state": {}
     },
     "3a431cc73fed425a87f8e00d236af0e7": {
      "model_module": "@jupyter-widgets/base",
      "model_module_version": "1.2.0",
      "model_name": "LayoutModel",
      "state": {}
     },
     "3a44479bd0894851b5702c15c888d63f": {
      "model_module": "@jupyter-widgets/controls",
      "model_module_version": "1.5.0",
      "model_name": "DescriptionStyleModel",
      "state": {
       "description_width": ""
      }
     },
     "3a51fffed2f64db385f92db510d3fe0a": {
      "model_module": "@jupyter-widgets/controls",
      "model_module_version": "1.5.0",
      "model_name": "LabelModel",
      "state": {
       "layout": "IPY_MODEL_038fca639d2c4faa84d93d3cfa6998d0",
       "style": "IPY_MODEL_2ad76a9b760747b5838bb46686412f53",
       "value": "Select Pool to Bond:"
      }
     },
     "3a58d0887cf84354a0318694a8cc03ed": {
      "model_module": "@jupyter-widgets/controls",
      "model_module_version": "1.5.0",
      "model_name": "CheckboxModel",
      "state": {
       "description": "ALCX-ETH SLP (0.0)",
       "disabled": false,
       "layout": "IPY_MODEL_79be52d0bf8c44979b3fc39585d5cacd",
       "style": "IPY_MODEL_b941b05f27e5464db93e5f0803ee0828",
       "value": false
      }
     },
     "3a5b48990b414b61bc5d136745ff51a5": {
      "model_module": "@jupyter-widgets/controls",
      "model_module_version": "1.5.0",
      "model_name": "DescriptionStyleModel",
      "state": {
       "description_width": ""
      }
     },
     "3a9c6f64ab7749f58bcffb27ab380019": {
      "model_module": "@jupyter-widgets/base",
      "model_module_version": "1.2.0",
      "model_name": "LayoutModel",
      "state": {}
     },
     "3ab0622eed2f442284741963beb698e5": {
      "model_module": "@jupyter-widgets/base",
      "model_module_version": "1.2.0",
      "model_name": "LayoutModel",
      "state": {}
     },
     "3ab47c7011ea4b3fac21c9fda43afe8d": {
      "model_module": "@jupyter-widgets/controls",
      "model_module_version": "1.5.0",
      "model_name": "DescriptionStyleModel",
      "state": {
       "description_width": ""
      }
     },
     "3aca61870471475e833ce23c5688c9e3": {
      "model_module": "@jupyter-widgets/base",
      "model_module_version": "1.2.0",
      "model_name": "LayoutModel",
      "state": {}
     },
     "3ace2e724ba84656a29744f193339f09": {
      "model_module": "@jupyter-widgets/base",
      "model_module_version": "1.2.0",
      "model_name": "LayoutModel",
      "state": {}
     },
     "3ae062549a864946a3c9033a66823baa": {
      "model_module": "@jupyter-widgets/controls",
      "model_module_version": "1.5.0",
      "model_name": "ButtonModel",
      "state": {
       "description": "Generate MultiCall Data",
       "layout": "IPY_MODEL_993a60f2d0da4807892f56cb2b200732",
       "style": "IPY_MODEL_63738034b76c4e8c9ff4887a3e9ed76b"
      }
     },
     "3b075b1b44ae4796a8948ca240ec8917": {
      "model_module": "@jupyter-widgets/controls",
      "model_module_version": "1.5.0",
      "model_name": "DescriptionStyleModel",
      "state": {
       "description_width": ""
      }
     },
     "3b0c453af56f4959abc7e6efe0520c17": {
      "model_module": "@jupyter-widgets/controls",
      "model_module_version": "1.5.0",
      "model_name": "LabelModel",
      "state": {
       "layout": "IPY_MODEL_772a61e4e36840748a7fb4e92226b774",
       "style": "IPY_MODEL_35b303e5338f4e18930c6d449955e098",
       "value": "Select Pool to Bond:"
      }
     },
     "3b2012fa69194e509ae813e008e13f08": {
      "model_module": "@jupyter-widgets/base",
      "model_module_version": "1.2.0",
      "model_name": "LayoutModel",
      "state": {}
     },
     "3b3ecd5b51f84470a14d9fda8c56c1e9": {
      "model_module": "@jupyter-widgets/controls",
      "model_module_version": "1.5.0",
      "model_name": "LabelModel",
      "state": {
       "layout": "IPY_MODEL_117b525be7ab4befa447df087ecb557a",
       "style": "IPY_MODEL_01ccd570691345c1abb67332fde22672",
       "value": "Your Payout: 0 WETH"
      }
     },
     "3b4a77061fac45978f2ae54422ccef92": {
      "model_module": "@jupyter-widgets/base",
      "model_module_version": "1.2.0",
      "model_name": "LayoutModel",
      "state": {}
     },
     "3bca4339b4424d139323e46cc757316d": {
      "model_module": "@jupyter-widgets/controls",
      "model_module_version": "1.5.0",
      "model_name": "ButtonStyleModel",
      "state": {}
     },
     "3bd58873a2d348368d6668b950f6871e": {
      "model_module": "@jupyter-widgets/controls",
      "model_module_version": "1.5.0",
      "model_name": "DescriptionStyleModel",
      "state": {
       "description_width": ""
      }
     },
     "3bedd66948a54323824aeba11b6529c8": {
      "model_module": "@jupyter-widgets/controls",
      "model_module_version": "1.5.0",
      "model_name": "DescriptionStyleModel",
      "state": {
       "description_width": ""
      }
     },
     "3c318cf6f4794608b165f07f0baace84": {
      "model_module": "@jupyter-widgets/controls",
      "model_module_version": "1.5.0",
      "model_name": "ButtonStyleModel",
      "state": {}
     },
     "3c77d87cedcb491d8e9fe0dbda7e8a4c": {
      "model_module": "@jupyter-widgets/controls",
      "model_module_version": "1.5.0",
      "model_name": "DescriptionStyleModel",
      "state": {
       "description_width": ""
      }
     },
     "3c933be4065f4f5fae9fce6a334bca84": {
      "model_module": "@jupyter-widgets/base",
      "model_module_version": "1.2.0",
      "model_name": "LayoutModel",
      "state": {}
     },
     "3cb6867af2a24684a53ea9c622cb3a49": {
      "model_module": "@jupyter-widgets/controls",
      "model_module_version": "1.5.0",
      "model_name": "ButtonStyleModel",
      "state": {}
     },
     "3cd87d73f5d44b83ad0304d2d1594615": {
      "model_module": "@jupyter-widgets/base",
      "model_module_version": "1.2.0",
      "model_name": "LayoutModel",
      "state": {}
     },
     "3d182d3f1e954375994dcae7c4c0049e": {
      "model_module": "@jupyter-widgets/controls",
      "model_module_version": "1.5.0",
      "model_name": "LabelModel",
      "state": {
       "layout": "IPY_MODEL_221bfd47d3d249d3917a2f5d3965101d",
       "style": "IPY_MODEL_7515885c6c58427aa15e1ea3ac9bfc0c",
       "value": "Select Assets to Claim:"
      }
     },
     "3d1ee242e1e64b06a3cce44b25a46a89": {
      "model_module": "@jupyter-widgets/controls",
      "model_module_version": "1.5.0",
      "model_name": "VBoxModel",
      "state": {
       "children": [
        "IPY_MODEL_ea382948b8fc4df3a39b72c82f7e7d0b",
        "IPY_MODEL_c09d51c663b44c299b77004be8e75be1",
        "IPY_MODEL_dcc076368ee8416db8b34149415aa013",
        "IPY_MODEL_963da0915b8741fa890db42c9485bbd3",
        "IPY_MODEL_cd9633ee16c8402883f1f3a33bc9440b",
        "IPY_MODEL_ccf69abc24c84f67ad6bba8327c24b0c",
        "IPY_MODEL_76d8c6fe21634513932ec4e3a8f6372f",
        "IPY_MODEL_6c5a0f4a3c0048dea46991f6bb206110",
        "IPY_MODEL_a806da92862c43759b7512c2f982fe83",
        "IPY_MODEL_ad2a197b8bf046579a861f8373ef6345",
        "IPY_MODEL_c965ea999ee14904bd8d775ccbba1d18",
        "IPY_MODEL_677043f017504533a871c597caad795c",
        "IPY_MODEL_33134efb8545446187778114e97f915b",
        "IPY_MODEL_a4e755a3ed2445708ec692c9bc912d3e"
       ],
       "layout": "IPY_MODEL_c1df6079da11479b8a765acf405779db"
      }
     },
     "3d2ccf95db204a318101ceb9d56564c9": {
      "model_module": "@jupyter-widgets/controls",
      "model_module_version": "1.5.0",
      "model_name": "DescriptionStyleModel",
      "state": {
       "description_width": ""
      }
     },
     "3d2d498f9b0b4ed69cf93e187f8477e2": {
      "model_module": "@jupyter-widgets/controls",
      "model_module_version": "1.5.0",
      "model_name": "CheckboxModel",
      "state": {
       "description": "DAI/ALCX (3.61515)",
       "disabled": false,
       "layout": "IPY_MODEL_09068c9251c645279e3a879476a452f0",
       "style": "IPY_MODEL_5fedb0ad62f4452c96ee8df64b725deb",
       "value": false
      }
     },
     "3d3787dd82b54545b2ac3a2a533f348e": {
      "model_module": "@jupyter-widgets/controls",
      "model_module_version": "1.5.0",
      "model_name": "LabelModel",
      "state": {
       "layout": "IPY_MODEL_0e53a85541bf4073aa811d713fdd9251",
       "style": "IPY_MODEL_d89ae0cfc4994ba6ad38544abf9635bd"
      }
     },
     "3d59d493beff4c08a76cc42a35cb1c1d": {
      "model_module": "@jupyter-widgets/controls",
      "model_module_version": "1.5.0",
      "model_name": "DescriptionStyleModel",
      "state": {
       "description_width": ""
      }
     },
     "3d5a6a32908d45cb8efd1ad002db0e6a": {
      "model_module": "@jupyter-widgets/base",
      "model_module_version": "1.2.0",
      "model_name": "LayoutModel",
      "state": {}
     },
     "3d8a5a9051414550b2bb8a107708318a": {
      "model_module": "@jupyter-widgets/controls",
      "model_module_version": "1.5.0",
      "model_name": "LabelModel",
      "state": {
       "layout": "IPY_MODEL_78d0f6b457d742c69121b93980e2cc28",
       "style": "IPY_MODEL_ad809a8eec5841249d228d2314829615",
       "value": "Max Input: 5.9823524526187 WETH"
      }
     },
     "3d8ae8d02dd446349012c4d7b41bd380": {
      "model_module": "@jupyter-widgets/controls",
      "model_module_version": "1.5.0",
      "model_name": "DescriptionStyleModel",
      "state": {
       "description_width": ""
      }
     },
     "3d91f9547f9b4cb1b2bb9ce6399a2cfb": {
      "model_module": "@jupyter-widgets/base",
      "model_module_version": "1.2.0",
      "model_name": "LayoutModel",
      "state": {}
     },
     "3dbce710b83e4b0eb8c13c80964be5cb": {
      "model_module": "@jupyter-widgets/controls",
      "model_module_version": "1.5.0",
      "model_name": "DescriptionStyleModel",
      "state": {
       "description_width": ""
      }
     },
     "3dc1df8492454b8781348a549d1afe8b": {
      "model_module": "@jupyter-widgets/controls",
      "model_module_version": "1.5.0",
      "model_name": "CheckboxModel",
      "state": {
       "description": "ALCX-ETH SLP (0.0)",
       "disabled": false,
       "layout": "IPY_MODEL_f5c6af1549ed46cb89ccf33a1f67b327",
       "style": "IPY_MODEL_10a52e9e2908412fb6334978b66e977e",
       "value": false
      }
     },
     "3dca641dfa8e47d391fcebc29f764bc0": {
      "model_module": "@jupyter-widgets/controls",
      "model_module_version": "1.5.0",
      "model_name": "DescriptionStyleModel",
      "state": {
       "description_width": ""
      }
     },
     "3dd0ec70dae84d05b86d5ec3a23bc1be": {
      "model_module": "@jupyter-widgets/controls",
      "model_module_version": "1.5.0",
      "model_name": "DescriptionStyleModel",
      "state": {
       "description_width": ""
      }
     },
     "3dd3099fae5740db812f0f796d58a9aa": {
      "model_module": "@jupyter-widgets/base",
      "model_module_version": "1.2.0",
      "model_name": "LayoutModel",
      "state": {}
     },
     "3df4e6c760934494a597d73d7d86eea4": {
      "model_module": "@jupyter-widgets/controls",
      "model_module_version": "1.5.0",
      "model_name": "CheckboxModel",
      "state": {
       "description": "CVX/ALCX (0.0)",
       "disabled": false,
       "layout": "IPY_MODEL_5580efeeaaee42c3af46b364f36f300d",
       "style": "IPY_MODEL_1a50cab3c056416896cdaaedc50a74e7",
       "value": false
      }
     },
     "3e1551dd6564417fae0807c684e4ee01": {
      "model_module": "@jupyter-widgets/base",
      "model_module_version": "1.2.0",
      "model_name": "LayoutModel",
      "state": {}
     },
     "3e1bb9b8dcf547bbb7c485574c516e34": {
      "model_module": "@jupyter-widgets/controls",
      "model_module_version": "1.5.0",
      "model_name": "DescriptionStyleModel",
      "state": {
       "description_width": ""
      }
     },
     "3e1cc52ade9a422ab3bafb399a97f56b": {
      "model_module": "@jupyter-widgets/base",
      "model_module_version": "1.2.0",
      "model_name": "LayoutModel",
      "state": {}
     },
     "3e30a2b6239d476aa0f80cc8d9d3ab76": {
      "model_module": "@jupyter-widgets/controls",
      "model_module_version": "1.5.0",
      "model_name": "DescriptionStyleModel",
      "state": {
       "description_width": ""
      }
     },
     "3e50d4a46f6042a1b2ce8628b076ed74": {
      "model_module": "@jupyter-widgets/base",
      "model_module_version": "1.2.0",
      "model_name": "LayoutModel",
      "state": {}
     },
     "3e619909ec304317bea45031be9beba4": {
      "model_module": "@jupyter-widgets/controls",
      "model_module_version": "1.5.0",
      "model_name": "ButtonModel",
      "state": {
       "description": "Generate MultiCall Data",
       "layout": "IPY_MODEL_0f943be3d0144f40b4ddcc0e22a9a7a6",
       "style": "IPY_MODEL_f6edbc23757547b6befdc5fdebef2ab5"
      }
     },
     "3e61e29450f44cff90d66841980139ff": {
      "model_module": "@jupyter-widgets/base",
      "model_module_version": "1.2.0",
      "model_name": "LayoutModel",
      "state": {}
     },
     "3e6bc6e1799f420db9d53433b47383f0": {
      "model_module": "@jupyter-widgets/controls",
      "model_module_version": "1.5.0",
      "model_name": "DescriptionStyleModel",
      "state": {
       "description_width": ""
      }
     },
     "3ea6a719795c4fdf993142b8dbd4ee77": {
      "model_module": "@jupyter-widgets/controls",
      "model_module_version": "1.5.0",
      "model_name": "CheckboxModel",
      "state": {
       "description": "Use Wallet Balance (72.80737)",
       "disabled": false,
       "layout": "IPY_MODEL_84c803897240448d8a585c35f0fbf425",
       "style": "IPY_MODEL_f2607b6e24e140d3a0f4e9f1aed83727",
       "value": true
      }
     },
     "3ea91ecda97a46b8905915fd58790c5e": {
      "model_module": "@jupyter-widgets/controls",
      "model_module_version": "1.5.0",
      "model_name": "DescriptionStyleModel",
      "state": {
       "description_width": ""
      }
     },
     "3eccf9d172da4fb1965aec264a328c4a": {
      "model_module": "@jupyter-widgets/base",
      "model_module_version": "1.2.0",
      "model_name": "LayoutModel",
      "state": {}
     },
     "3f03291a175e4e15bdb4a72ce2589909": {
      "model_module": "@jupyter-widgets/controls",
      "model_module_version": "1.5.0",
      "model_name": "LabelModel",
      "state": {
       "layout": "IPY_MODEL_353c3e4e6574470788d60071488f1861",
       "style": "IPY_MODEL_0a8a09757140407f9054fbae3702e9e8",
       "value": "Max Input: 5.991762369890699 WETH"
      }
     },
     "3f18d2104eaa4c4494973b00761a5b4b": {
      "model_module": "@jupyter-widgets/controls",
      "model_module_version": "1.5.0",
      "model_name": "DescriptionStyleModel",
      "state": {
       "description_width": ""
      }
     },
     "3f9428bd490a45b589ad14d7c3a0113c": {
      "model_module": "@jupyter-widgets/controls",
      "model_module_version": "1.5.0",
      "model_name": "DescriptionStyleModel",
      "state": {
       "description_width": ""
      }
     },
     "3fa22198d2c342cca682165d3073c3e5": {
      "model_module": "@jupyter-widgets/base",
      "model_module_version": "1.2.0",
      "model_name": "LayoutModel",
      "state": {}
     },
     "3fdf732b66404dd9bb1d7a7fe3c015ba": {
      "model_module": "@jupyter-widgets/controls",
      "model_module_version": "1.5.0",
      "model_name": "LabelModel",
      "state": {
       "layout": "IPY_MODEL_3e50d4a46f6042a1b2ce8628b076ed74",
       "style": "IPY_MODEL_787266f51e264b658728aae6b49339d0"
      }
     },
     "4028b2b0c2b1436db01aebf2846cff01": {
      "model_module": "@jupyter-widgets/controls",
      "model_module_version": "1.5.0",
      "model_name": "LabelModel",
      "state": {
       "layout": "IPY_MODEL_ab6575d6cec94a59ae85916f25520725",
       "style": "IPY_MODEL_086016d954b54005852c7485612a6189",
       "value": "Max Payout: 96.15973854597343 ALCX"
      }
     },
     "40306cfad13a4cb09a48471d611e1632": {
      "model_module": "@jupyter-widgets/controls",
      "model_module_version": "1.5.0",
      "model_name": "DescriptionStyleModel",
      "state": {
       "description_width": ""
      }
     },
     "4034b5478de7403caba4b5dbe5c02604": {
      "model_module": "@jupyter-widgets/base",
      "model_module_version": "1.2.0",
      "model_name": "LayoutModel",
      "state": {
       "width": "200px"
      }
     },
     "408a9c923aa84a63a8665046b806e7bf": {
      "model_module": "@jupyter-widgets/base",
      "model_module_version": "1.2.0",
      "model_name": "LayoutModel",
      "state": {
       "width": "200px"
      }
     },
     "40ccaeb7cd914d10a9512b72c1d08ab2": {
      "model_module": "@jupyter-widgets/controls",
      "model_module_version": "1.5.0",
      "model_name": "ButtonStyleModel",
      "state": {}
     },
     "40f4d0cb1bab49aca626fbca449fe2db": {
      "model_module": "@jupyter-widgets/base",
      "model_module_version": "1.2.0",
      "model_name": "LayoutModel",
      "state": {}
     },
     "40fbed8c0dbe49af8687e28318a4db10": {
      "model_module": "@jupyter-widgets/base",
      "model_module_version": "1.2.0",
      "model_name": "LayoutModel",
      "state": {
       "width": "425px"
      }
     },
     "40fe326b77aa44f78ee9dcf6a4d2d850": {
      "model_module": "@jupyter-widgets/base",
      "model_module_version": "1.2.0",
      "model_name": "LayoutModel",
      "state": {}
     },
     "4100e30708524a58adad9ea379314d22": {
      "model_module": "@jupyter-widgets/controls",
      "model_module_version": "1.5.0",
      "model_name": "DescriptionStyleModel",
      "state": {
       "description_width": ""
      }
     },
     "411cdb0f3de44c3c830afd7a0771e353": {
      "model_module": "@jupyter-widgets/base",
      "model_module_version": "1.2.0",
      "model_name": "LayoutModel",
      "state": {}
     },
     "415ea0d2e7994c28a6b2abc5fc3b82a8": {
      "model_module": "@jupyter-widgets/controls",
      "model_module_version": "1.5.0",
      "model_name": "LabelModel",
      "state": {
       "layout": "IPY_MODEL_6dc4005f25a746ed96c375479269edfa",
       "style": "IPY_MODEL_baebd116460e4a72819424553127bc29",
       "value": "Max Input: 11.614869889076218 ALCX-ETH SLP"
      }
     },
     "4161057d35b04d83ab70d620a94c3e04": {
      "model_module": "@jupyter-widgets/base",
      "model_module_version": "1.2.0",
      "model_name": "LayoutModel",
      "state": {}
     },
     "417464758f9e491b82d7e75c0b42355e": {
      "model_module": "@jupyter-widgets/base",
      "model_module_version": "1.2.0",
      "model_name": "LayoutModel",
      "state": {}
     },
     "41840a1fea744b90a44d806f015a9ccd": {
      "model_module": "@jupyter-widgets/controls",
      "model_module_version": "1.5.0",
      "model_name": "DescriptionStyleModel",
      "state": {
       "description_width": ""
      }
     },
     "41a82023f8d84c93bfed9b7a1918f958": {
      "model_module": "@jupyter-widgets/base",
      "model_module_version": "1.2.0",
      "model_name": "LayoutModel",
      "state": {}
     },
     "41bd0981c8da41419b7f7a01edc182e5": {
      "model_module": "@jupyter-widgets/controls",
      "model_module_version": "1.5.0",
      "model_name": "LabelModel",
      "state": {
       "layout": "IPY_MODEL_6eef0eee362e437c81f944f7951a31d8",
       "style": "IPY_MODEL_5d61c4176cdd42539b42495058d9e404",
       "value": "[Current block: 13905556]"
      }
     },
     "41d45827fcc54e1888ccf9945364861b": {
      "model_module": "@jupyter-widgets/controls",
      "model_module_version": "1.5.0",
      "model_name": "CheckboxModel",
      "state": {
       "description": "Use Wallet Balance (72.80737)",
       "disabled": false,
       "layout": "IPY_MODEL_d923ae23a787455ea381598f3ece13cf",
       "style": "IPY_MODEL_b5203bb6220a461e9c128bd506bc4780",
       "value": false
      }
     },
     "4214e57dd162475eaf18ddd59870280c": {
      "model_module": "@jupyter-widgets/controls",
      "model_module_version": "1.5.0",
      "model_name": "DescriptionStyleModel",
      "state": {
       "description_width": ""
      }
     },
     "422189d78d7c422da4b91b36ab9cbfec": {
      "model_module": "@jupyter-widgets/controls",
      "model_module_version": "1.5.0",
      "model_name": "ButtonStyleModel",
      "state": {}
     },
     "422d7ccaedb84bcc9cc0911de6db66cc": {
      "model_module": "@jupyter-widgets/base",
      "model_module_version": "1.2.0",
      "model_name": "LayoutModel",
      "state": {}
     },
     "42e8aa88891643448f2e3437e2e51bce": {
      "model_module": "@jupyter-widgets/controls",
      "model_module_version": "1.5.0",
      "model_name": "CheckboxModel",
      "state": {
       "description": "CVX/ALCX (0.0)",
       "disabled": false,
       "layout": "IPY_MODEL_4a5dee28afb944b081a84c2b305bfa7e",
       "style": "IPY_MODEL_0446961d474b43d7a8083ed54b4a813f",
       "value": false
      }
     },
     "42ebc750ff0f487db323e70e918a5844": {
      "model_module": "@jupyter-widgets/base",
      "model_module_version": "1.2.0",
      "model_name": "LayoutModel",
      "state": {}
     },
     "43509d944031466996a48f835b745082": {
      "model_module": "@jupyter-widgets/controls",
      "model_module_version": "1.5.0",
      "model_name": "CheckboxModel",
      "state": {
       "description": "Use Wallet Balance (72.80737)",
       "disabled": false,
       "layout": "IPY_MODEL_9eb08fc2aa164336b759df9f25e2feb6",
       "style": "IPY_MODEL_5f157ac38b1f41a4a5f8f4bf89966d53",
       "value": true
      }
     },
     "438050ec506f4fc1894d164dbdbe10da": {
      "model_module": "@jupyter-widgets/controls",
      "model_module_version": "1.5.0",
      "model_name": "VBoxModel",
      "state": {
       "children": [
        "IPY_MODEL_e1899b02d3fa4a1f8af7e2eac9f9c88e",
        "IPY_MODEL_be7f6a7ddc4e4140a6309ac5e64e506c",
        "IPY_MODEL_199bb78fdda14fe19016b197634d294e",
        "IPY_MODEL_c086b27e6924462e9133be332c94f527",
        "IPY_MODEL_3617c24cb3f746c586fec66c8f84c21e",
        "IPY_MODEL_227307ab76724c159259078fa268bfcf",
        "IPY_MODEL_0f0da97dad8c4b678b5b4031cccd4c47",
        "IPY_MODEL_10ea7c46188e428cba70bee2b14514cd",
        "IPY_MODEL_bcb921f045ee41cc93e615328b8c3db9",
        "IPY_MODEL_6d64dfd6d50a4b689ccc8ba4dc1f8091",
        "IPY_MODEL_ac93a8fb05ec475980c68f70a4f618d3",
        "IPY_MODEL_34572934a5d04e95b60b7a30df396934",
        "IPY_MODEL_866a6651bcf8498e9df2c62c03037155",
        "IPY_MODEL_bce632cb101a4bc1b124c56ed38795ef"
       ],
       "layout": "IPY_MODEL_72be0b19ef7a4b35b65ccc2f9b193844"
      }
     },
     "43834adeacf3468b92b1434571bed8eb": {
      "model_module": "@jupyter-widgets/controls",
      "model_module_version": "1.5.0",
      "model_name": "ButtonStyleModel",
      "state": {}
     },
     "43a5cc5578ab41ce96eeb1c669f49872": {
      "model_module": "@jupyter-widgets/controls",
      "model_module_version": "1.5.0",
      "model_name": "LabelModel",
      "state": {
       "layout": "IPY_MODEL_880486870a1c49c69a48c08d165429ec",
       "style": "IPY_MODEL_f647d3d4537b402ea5b2d8c386e2f45f",
       "value": "Select Assets to Claim:"
      }
     },
     "43b6d92c666a4b84b0ce022460680b00": {
      "model_module": "@jupyter-widgets/controls",
      "model_module_version": "1.5.0",
      "model_name": "LabelModel",
      "state": {
       "layout": "IPY_MODEL_73aba8f3b4ac4a88b55c33ed0ea75b2c",
       "style": "IPY_MODEL_baa0faa87d854a408ecc5a20d5e95386",
       "value": "Select Assets to Claim:"
      }
     },
     "43c2061b709c459b903b0789bbc21b0e": {
      "model_module": "@jupyter-widgets/controls",
      "model_module_version": "1.5.0",
      "model_name": "LabelModel",
      "state": {
       "layout": "IPY_MODEL_0af6c995dd1245e38202199cb8a3b139",
       "style": "IPY_MODEL_2b52743b27d1414588195a97493d7c9d",
       "value": "Select Pool to Bond:"
      }
     },
     "43e8517c0a6d4a36939ef70213ac6486": {
      "model_module": "@jupyter-widgets/controls",
      "model_module_version": "1.5.0",
      "model_name": "DescriptionStyleModel",
      "state": {
       "description_width": ""
      }
     },
     "441c1209767445a09eddb7f6305e800c": {
      "model_module": "@jupyter-widgets/controls",
      "model_module_version": "1.5.0",
      "model_name": "LabelModel",
      "state": {
       "layout": "IPY_MODEL_19502f8130ca47f99076ae8427cb2f80",
       "style": "IPY_MODEL_915887dddb7b45f6bdf47f3d770314ec",
       "value": "Max Payout: 96.15973854597343 ALCX"
      }
     },
     "441e7e0edf2a410ebf4f88534ed4a16c": {
      "model_module": "@jupyter-widgets/controls",
      "model_module_version": "1.5.0",
      "model_name": "CheckboxModel",
      "state": {
       "description": "WETH/ALCX (7.29349)",
       "disabled": false,
       "layout": "IPY_MODEL_37c3334798314e3c890435cabf5bc276",
       "style": "IPY_MODEL_aea7f0f6f48c465086c1d06e5e060b9f",
       "value": true
      }
     },
     "443c4332b5cf42e0815912a6baa1b46c": {
      "model_module": "@jupyter-widgets/controls",
      "model_module_version": "1.5.0",
      "model_name": "HBoxModel",
      "state": {
       "children": [
        "IPY_MODEL_0b6715ab1d984dc98b6ac95b3fd57da1",
        "IPY_MODEL_720dfe0f0ee34711ae8d9e1bce60c678"
       ],
       "layout": "IPY_MODEL_ac79c1c67f1142959083dccf24636d23"
      }
     },
     "446060256db0401883dfb13cd8348684": {
      "model_module": "@jupyter-widgets/controls",
      "model_module_version": "1.5.0",
      "model_name": "LabelModel",
      "state": {
       "layout": "IPY_MODEL_9239063cdf52475e860ada4be35037fc",
       "style": "IPY_MODEL_5a40ae56af6140169171ebbde64315cc",
       "value": "Your Payout: 0 WETH"
      }
     },
     "4462b2c642a94538a8b422998d251324": {
      "model_module": "@jupyter-widgets/base",
      "model_module_version": "1.2.0",
      "model_name": "LayoutModel",
      "state": {
       "width": "200px"
      }
     },
     "446515f3211e4062853f402c1984e38b": {
      "model_module": "@jupyter-widgets/base",
      "model_module_version": "1.2.0",
      "model_name": "LayoutModel",
      "state": {}
     },
     "4474735caf134fc1a9c352320d9ac858": {
      "model_module": "@jupyter-widgets/controls",
      "model_module_version": "1.5.0",
      "model_name": "DescriptionStyleModel",
      "state": {
       "description_width": ""
      }
     },
     "4477e8016b694da5b9a6839b945ad79f": {
      "model_module": "@jupyter-widgets/controls",
      "model_module_version": "1.5.0",
      "model_name": "CheckboxModel",
      "state": {
       "description": "ALCX-ETH SLP (0.0)",
       "disabled": false,
       "layout": "IPY_MODEL_e0bb00cae5314caf82d1edd59ff6acd4",
       "style": "IPY_MODEL_da112d69b75e4cbeae76c12c607ce8f7",
       "value": false
      }
     },
     "44a5606528064831a988b29c87bfd32c": {
      "model_module": "@jupyter-widgets/controls",
      "model_module_version": "1.5.0",
      "model_name": "DescriptionStyleModel",
      "state": {
       "description_width": ""
      }
     },
     "44c0d89b704e40c286acbc5fe44ac305": {
      "model_module": "@jupyter-widgets/base",
      "model_module_version": "1.2.0",
      "model_name": "LayoutModel",
      "state": {}
     },
     "44d475e9b3e04d1cb2e66c5d69539424": {
      "model_module": "@jupyter-widgets/controls",
      "model_module_version": "1.5.0",
      "model_name": "LabelModel",
      "state": {
       "layout": "IPY_MODEL_aa0ea625491d42a4ba128d4f1084bee6",
       "style": "IPY_MODEL_c31e06828b1e40fbb92df80fd993320c",
       "value": "Select Pool to Bond:"
      }
     },
     "44eb9c02467841bdb8d372eb61c14d30": {
      "model_module": "@jupyter-widgets/controls",
      "model_module_version": "1.5.0",
      "model_name": "DescriptionStyleModel",
      "state": {
       "description_width": ""
      }
     },
     "44fb3fcaf57c46349e87eb7aacec33ab": {
      "model_module": "@jupyter-widgets/controls",
      "model_module_version": "1.5.0",
      "model_name": "DescriptionStyleModel",
      "state": {
       "description_width": ""
      }
     },
     "44fb9be330a140c9a0aae656f99b9dd1": {
      "model_module": "@jupyter-widgets/base",
      "model_module_version": "1.2.0",
      "model_name": "LayoutModel",
      "state": {}
     },
     "4530ce38134b4526a1bc54043bd047d6": {
      "model_module": "@jupyter-widgets/controls",
      "model_module_version": "1.5.0",
      "model_name": "DescriptionStyleModel",
      "state": {
       "description_width": ""
      }
     },
     "4558fad6779d4877ad2406fb8c80b4dc": {
      "model_module": "@jupyter-widgets/controls",
      "model_module_version": "1.5.0",
      "model_name": "CheckboxModel",
      "state": {
       "description": "WETH/ALCX (7.21067)",
       "disabled": false,
       "layout": "IPY_MODEL_d222ed89318d4e76b4ce6f383352d2aa",
       "style": "IPY_MODEL_3d8ae8d02dd446349012c4d7b41bd380",
       "value": true
      }
     },
     "459da8987f8c42128468aaa56c4b23f6": {
      "model_module": "@jupyter-widgets/base",
      "model_module_version": "1.2.0",
      "model_name": "LayoutModel",
      "state": {}
     },
     "45a92001a36247c3a1b3d0450b152e59": {
      "model_module": "@jupyter-widgets/controls",
      "model_module_version": "1.5.0",
      "model_name": "ButtonModel",
      "state": {
       "description": "Generate MultiCall Data",
       "layout": "IPY_MODEL_90123e5a09154807916890bce8d3a95a",
       "style": "IPY_MODEL_40ccaeb7cd914d10a9512b72c1d08ab2"
      }
     },
     "45dd2a96db804f3f96cc0c71882d8a79": {
      "model_module": "@jupyter-widgets/controls",
      "model_module_version": "1.5.0",
      "model_name": "DescriptionStyleModel",
      "state": {
       "description_width": ""
      }
     },
     "45e0ec1537c948dea01ef453138015d4": {
      "model_module": "@jupyter-widgets/controls",
      "model_module_version": "1.5.0",
      "model_name": "DescriptionStyleModel",
      "state": {
       "description_width": ""
      }
     },
     "45e167e9d64641d1ae07020e55d507d4": {
      "model_module": "@jupyter-widgets/controls",
      "model_module_version": "1.5.0",
      "model_name": "DropdownModel",
      "state": {
       "_options_labels": [
        "WETH/ALCX",
        "DAI/ALCX",
        "CVX/ALCX",
        "ALCX-ETH SLP"
       ],
       "index": 1,
       "layout": "IPY_MODEL_275205063647460d97e4273392ab5f44",
       "style": "IPY_MODEL_05e817ce5e124042a11e6f85f1080064"
      }
     },
     "45e754e2193745aba4f480d21f926657": {
      "model_module": "@jupyter-widgets/controls",
      "model_module_version": "1.5.0",
      "model_name": "ButtonStyleModel",
      "state": {}
     },
     "45f8a0411be5404793c763b6df0f1f32": {
      "model_module": "@jupyter-widgets/controls",
      "model_module_version": "1.5.0",
      "model_name": "DescriptionStyleModel",
      "state": {
       "description_width": ""
      }
     },
     "45fff8b6b979469d82fa45c4494c25bf": {
      "model_module": "@jupyter-widgets/base",
      "model_module_version": "1.2.0",
      "model_name": "LayoutModel",
      "state": {}
     },
     "460267b017d04deaada4acfe6021df4f": {
      "model_module": "@jupyter-widgets/controls",
      "model_module_version": "1.5.0",
      "model_name": "LabelModel",
      "state": {
       "layout": "IPY_MODEL_ace0a1a006c2483ea256741f5aab7842",
       "style": "IPY_MODEL_a73c6586bd404c33a7ea9a43992729b6",
       "value": "Swapping 72.80737 ALCX for 4.644284847895197 WETH"
      }
     },
     "460ac31a263e49778ac7e48a7cb8eda1": {
      "model_module": "@jupyter-widgets/base",
      "model_module_version": "1.2.0",
      "model_name": "LayoutModel",
      "state": {
       "width": "200px"
      }
     },
     "460dab82a6c049509c89388124ccb008": {
      "model_module": "@jupyter-widgets/controls",
      "model_module_version": "1.5.0",
      "model_name": "HBoxModel",
      "state": {
       "children": [
        "IPY_MODEL_75d69ff0351c40c7b32a8ddbf1f10df6",
        "IPY_MODEL_7cd71d91b47e48599eb1247a479a1dfd"
       ],
       "layout": "IPY_MODEL_9e2068727d9b46fcbf3894b10dd4161a"
      }
     },
     "46339994de0e4d2ba3dfdd05ddc425fa": {
      "model_module": "@jupyter-widgets/base",
      "model_module_version": "1.2.0",
      "model_name": "LayoutModel",
      "state": {}
     },
     "4692c7112db34f69bfd11b0408f8345d": {
      "model_module": "@jupyter-widgets/controls",
      "model_module_version": "1.5.0",
      "model_name": "CheckboxModel",
      "state": {
       "description": "DAI/ALCX (3.34412)",
       "disabled": false,
       "layout": "IPY_MODEL_1c8d1f1dc35a480c8447348e98b74e37",
       "style": "IPY_MODEL_807f36fb74e540c59331ef633a3e096c",
       "value": true
      }
     },
     "46ab53d313894871af6566c1772db502": {
      "model_module": "@jupyter-widgets/base",
      "model_module_version": "1.2.0",
      "model_name": "LayoutModel",
      "state": {}
     },
     "46b998cad1c140fc8b4cb83d9a125c6b": {
      "model_module": "@jupyter-widgets/controls",
      "model_module_version": "1.5.0",
      "model_name": "DescriptionStyleModel",
      "state": {
       "description_width": ""
      }
     },
     "46bb986614084db49d785517ade3d444": {
      "model_module": "@jupyter-widgets/base",
      "model_module_version": "1.2.0",
      "model_name": "LayoutModel",
      "state": {}
     },
     "46bc240661ae4c25b7b6d222f5f83d7e": {
      "model_module": "@jupyter-widgets/controls",
      "model_module_version": "1.5.0",
      "model_name": "LabelModel",
      "state": {
       "layout": "IPY_MODEL_141cd79b095546a18aacbdee02fb96b1",
       "style": "IPY_MODEL_67c5512b0b59485c8e4e6bc0878baaea",
       "value": "Select Assets to Claim:"
      }
     },
     "4732d90c10ac4ecda4aabcb199a0dfea": {
      "model_module": "@jupyter-widgets/controls",
      "model_module_version": "1.5.0",
      "model_name": "DescriptionStyleModel",
      "state": {
       "description_width": ""
      }
     },
     "473a771c0b7242f6a141ce4738ebb559": {
      "model_module": "@jupyter-widgets/controls",
      "model_module_version": "1.5.0",
      "model_name": "HBoxModel",
      "state": {
       "children": [
        "IPY_MODEL_52805b2b417c4071be33365603930b84",
        "IPY_MODEL_0a515f30db2c4a18ad02f4a2e20f5b31"
       ],
       "layout": "IPY_MODEL_2f0d7bd4982f42319fac7dd976850aac"
      }
     },
     "473ec7d73c6a44068becd2bd27b74f25": {
      "model_module": "@jupyter-widgets/base",
      "model_module_version": "1.2.0",
      "model_name": "LayoutModel",
      "state": {}
     },
     "476d9339cc9147c281343da9c37fab71": {
      "model_module": "@jupyter-widgets/controls",
      "model_module_version": "1.5.0",
      "model_name": "DescriptionStyleModel",
      "state": {
       "description_width": ""
      }
     },
     "476dc395575f4f12bc654c7144d8f4db": {
      "model_module": "@jupyter-widgets/base",
      "model_module_version": "1.2.0",
      "model_name": "LayoutModel",
      "state": {}
     },
     "47846dc5ac8e433aaf9765a04e6e41f8": {
      "model_module": "@jupyter-widgets/base",
      "model_module_version": "1.2.0",
      "model_name": "LayoutModel",
      "state": {}
     },
     "479117567b5543bfab63b7cb4e28b310": {
      "model_module": "@jupyter-widgets/controls",
      "model_module_version": "1.5.0",
      "model_name": "TextModel",
      "state": {
       "description": "Address: ",
       "layout": "IPY_MODEL_63f556f5f9d94beda08321b29189a61a",
       "style": "IPY_MODEL_7b712d486e5d4756beb844de4e032b06",
       "value": "0xeEEC0e4927704ab3BBE5df7F4EfFa818b43665a3"
      }
     },
     "47b04b1d21234a08b72bcf534ef8d155": {
      "model_module": "@jupyter-widgets/base",
      "model_module_version": "1.2.0",
      "model_name": "LayoutModel",
      "state": {}
     },
     "47b2fe2bb40d4c8b8301f6676d70612d": {
      "model_module": "@jupyter-widgets/base",
      "model_module_version": "1.2.0",
      "model_name": "LayoutModel",
      "state": {}
     },
     "47e266d092774a4fac84e83a2b799e45": {
      "model_module": "@jupyter-widgets/base",
      "model_module_version": "1.2.0",
      "model_name": "LayoutModel",
      "state": {}
     },
     "47f1f302d9ab4987934b67d3ee5f7ea2": {
      "model_module": "@jupyter-widgets/controls",
      "model_module_version": "1.5.0",
      "model_name": "CheckboxModel",
      "state": {
       "description": "ALCX-ETH SLP (0.0)",
       "disabled": false,
       "layout": "IPY_MODEL_162820fb8134418cabb8b4a13ba7a2e0",
       "style": "IPY_MODEL_c381dc89f05d4b47a41113f47fafaa29",
       "value": false
      }
     },
     "480b230f7e7549449bac3e9709bdfe87": {
      "model_module": "@jupyter-widgets/base",
      "model_module_version": "1.2.0",
      "model_name": "LayoutModel",
      "state": {}
     },
     "480dfd1936e746028616722fc4ed8086": {
      "model_module": "@jupyter-widgets/controls",
      "model_module_version": "1.5.0",
      "model_name": "DescriptionStyleModel",
      "state": {
       "description_width": ""
      }
     },
     "483b01a18a64487bab00f9607eac5840": {
      "model_module": "@jupyter-widgets/controls",
      "model_module_version": "1.5.0",
      "model_name": "DescriptionStyleModel",
      "state": {
       "description_width": ""
      }
     },
     "483be3f4c3dd45a2af7736a63799f93f": {
      "model_module": "@jupyter-widgets/base",
      "model_module_version": "1.2.0",
      "model_name": "LayoutModel",
      "state": {}
     },
     "48486ac0350d4aedb3954af4cc99e162": {
      "model_module": "@jupyter-widgets/controls",
      "model_module_version": "1.5.0",
      "model_name": "DescriptionStyleModel",
      "state": {
       "description_width": ""
      }
     },
     "484cd69bf58d4d4a951e959db68fea36": {
      "model_module": "@jupyter-widgets/controls",
      "model_module_version": "1.5.0",
      "model_name": "DescriptionStyleModel",
      "state": {
       "description_width": ""
      }
     },
     "48636aa4b5e24bf58e79c838453af41f": {
      "model_module": "@jupyter-widgets/controls",
      "model_module_version": "1.5.0",
      "model_name": "DescriptionStyleModel",
      "state": {
       "description_width": ""
      }
     },
     "487aa68e84f9405da699666871191041": {
      "model_module": "@jupyter-widgets/controls",
      "model_module_version": "1.5.0",
      "model_name": "DescriptionStyleModel",
      "state": {
       "description_width": ""
      }
     },
     "487b56b96004406ca39470bf20980886": {
      "model_module": "@jupyter-widgets/controls",
      "model_module_version": "1.5.0",
      "model_name": "HBoxModel",
      "state": {
       "children": [
        "IPY_MODEL_396b85400993447293849a2a714ea0b9",
        "IPY_MODEL_c58faf19eba644a2b01c0ba430deb90f"
       ],
       "layout": "IPY_MODEL_e1d4deb164f54c21ada0de9d846b50f2"
      }
     },
     "489a0eda15944aaeaee49e53a5697816": {
      "model_module": "@jupyter-widgets/controls",
      "model_module_version": "1.5.0",
      "model_name": "ButtonModel",
      "state": {
       "description": "Generate MultiCall Data",
       "layout": "IPY_MODEL_638b321435754f04abc8165b514db37e",
       "style": "IPY_MODEL_43834adeacf3468b92b1434571bed8eb"
      }
     },
     "48ad079001ce4ba9bcb8d8b3d8ecfaa7": {
      "model_module": "@jupyter-widgets/controls",
      "model_module_version": "1.5.0",
      "model_name": "LabelModel",
      "state": {
       "layout": "IPY_MODEL_3e1551dd6564417fae0807c684e4ee01",
       "style": "IPY_MODEL_57727857bc5c4f50bed7ea586d4dfcda",
       "value": "Swapping 83.52547 ALCX for 19822.382277384488 DAI"
      }
     },
     "48b5458727a94ea895bfd904ca78e579": {
      "model_module": "@jupyter-widgets/controls",
      "model_module_version": "1.5.0",
      "model_name": "DescriptionStyleModel",
      "state": {
       "description_width": ""
      }
     },
     "48c8444a131a4ddb854a8c01f9b7675d": {
      "model_module": "@jupyter-widgets/controls",
      "model_module_version": "1.5.0",
      "model_name": "DescriptionStyleModel",
      "state": {
       "description_width": ""
      }
     },
     "48de4b8968e84d64b8ca009a38a52980": {
      "model_module": "@jupyter-widgets/base",
      "model_module_version": "1.2.0",
      "model_name": "LayoutModel",
      "state": {}
     },
     "48f3773c0a0546c2a6974c71f8b18abc": {
      "model_module": "@jupyter-widgets/base",
      "model_module_version": "1.2.0",
      "model_name": "LayoutModel",
      "state": {}
     },
     "4900c8a4954a4a868b917bd93e1dc3db": {
      "model_module": "@jupyter-widgets/controls",
      "model_module_version": "1.5.0",
      "model_name": "DropdownModel",
      "state": {
       "_options_labels": [
        "WETH/ALCX",
        "DAI/ALCX",
        "CVX/ALCX",
        "ALCX-ETH SLP"
       ],
       "index": 3,
       "layout": "IPY_MODEL_860e1d00ab3840229ff7f93dce511fe9",
       "style": "IPY_MODEL_de8202d0427b4d1a9b4a729a796957b2"
      }
     },
     "4914d52a0f8e487e8599ff6079adb41c": {
      "model_module": "@jupyter-widgets/controls",
      "model_module_version": "1.5.0",
      "model_name": "LabelModel",
      "state": {
       "layout": "IPY_MODEL_9ef49eaf25ba45438e9b9a8b1afe0318",
       "style": "IPY_MODEL_65bfb8cda7644e278048ea10ea4958ce",
       "value": "Select Pool to Bond:"
      }
     },
     "492413e023af4dcbaa479b4d1df72f58": {
      "model_module": "@jupyter-widgets/base",
      "model_module_version": "1.2.0",
      "model_name": "LayoutModel",
      "state": {}
     },
     "492a70b0de0d43f1bad152f65fddcdfd": {
      "model_module": "@jupyter-widgets/base",
      "model_module_version": "1.2.0",
      "model_name": "LayoutModel",
      "state": {}
     },
     "49327291681d4a7f96d06bf97a4f1dac": {
      "model_module": "@jupyter-widgets/controls",
      "model_module_version": "1.5.0",
      "model_name": "LabelModel",
      "state": {
       "layout": "IPY_MODEL_93149b6095c944f49480925ac288bc6e",
       "style": "IPY_MODEL_e4fbea33014e455aaadfae64d25e9785",
       "value": "Select Assets to Claim:"
      }
     },
     "495b1855e6f8450d99fc6c3203c957eb": {
      "model_module": "@jupyter-widgets/controls",
      "model_module_version": "1.5.0",
      "model_name": "DescriptionStyleModel",
      "state": {
       "description_width": ""
      }
     },
     "4973e1cede90406486c78b88feef8617": {
      "model_module": "@jupyter-widgets/base",
      "model_module_version": "1.2.0",
      "model_name": "LayoutModel",
      "state": {}
     },
     "4990d183c4dc49478805fcb7d83d29b2": {
      "model_module": "@jupyter-widgets/controls",
      "model_module_version": "1.5.0",
      "model_name": "DescriptionStyleModel",
      "state": {
       "description_width": ""
      }
     },
     "49bdbfab6be7435d9b8f287b33efbcd5": {
      "model_module": "@jupyter-widgets/base",
      "model_module_version": "1.2.0",
      "model_name": "LayoutModel",
      "state": {}
     },
     "49c09058ef464d5b8dcd230b8fe493e9": {
      "model_module": "@jupyter-widgets/controls",
      "model_module_version": "1.5.0",
      "model_name": "DescriptionStyleModel",
      "state": {
       "description_width": ""
      }
     },
     "49d356094963499ea29a8e6fc09badb4": {
      "model_module": "@jupyter-widgets/base",
      "model_module_version": "1.2.0",
      "model_name": "LayoutModel",
      "state": {}
     },
     "49dcf0b68a2947168797253b9869ddc0": {
      "model_module": "@jupyter-widgets/controls",
      "model_module_version": "1.5.0",
      "model_name": "HBoxModel",
      "state": {
       "children": [
        "IPY_MODEL_ca67ba8f1fe047988c2d68409a7ad83f",
        "IPY_MODEL_3d2d498f9b0b4ed69cf93e187f8477e2"
       ],
       "layout": "IPY_MODEL_4ee5dfcea8d840eaae3bb059983a1f45"
      }
     },
     "49e67f1d1b0b4212a1332590f1917f27": {
      "model_module": "@jupyter-widgets/controls",
      "model_module_version": "1.5.0",
      "model_name": "LabelModel",
      "state": {
       "layout": "IPY_MODEL_5a14eb0e9ba341188ef5c49c970aaf20",
       "style": "IPY_MODEL_8a484f3ce8294b27b777417f149ba66b",
       "value": "Max Payout: 96.15842394776256 ALCX"
      }
     },
     "4a2807d064b44888bd58fb8f581da897": {
      "model_module": "@jupyter-widgets/base",
      "model_module_version": "1.2.0",
      "model_name": "LayoutModel",
      "state": {}
     },
     "4a35d73f95654ed7a94885d0d30d2ca2": {
      "model_module": "@jupyter-widgets/controls",
      "model_module_version": "1.5.0",
      "model_name": "LabelModel",
      "state": {
       "layout": "IPY_MODEL_76098e356ed34d85aeed172dbb0066b9",
       "style": "IPY_MODEL_de6a94a8ede94d9d880b16c514e540fb",
       "value": "Select Pool to Bond:"
      }
     },
     "4a5baefd798d48c59c1ae0f9e2dbddf3": {
      "model_module": "@jupyter-widgets/base",
      "model_module_version": "1.2.0",
      "model_name": "LayoutModel",
      "state": {}
     },
     "4a5dee28afb944b081a84c2b305bfa7e": {
      "model_module": "@jupyter-widgets/base",
      "model_module_version": "1.2.0",
      "model_name": "LayoutModel",
      "state": {}
     },
     "4aedd620c94a450d8030635da3093198": {
      "model_module": "@jupyter-widgets/controls",
      "model_module_version": "1.5.0",
      "model_name": "DescriptionStyleModel",
      "state": {
       "description_width": ""
      }
     },
     "4b061c6a01f9426cb752706cd8323d09": {
      "model_module": "@jupyter-widgets/controls",
      "model_module_version": "1.5.0",
      "model_name": "LabelModel",
      "state": {
       "layout": "IPY_MODEL_f8c5525d0660492d8434455c4b6c0272",
       "style": "IPY_MODEL_c01a83e3d6724b6b99baed67199ea7ae"
      }
     },
     "4b17f26ee973480689f98ead30bbf26e": {
      "model_module": "@jupyter-widgets/controls",
      "model_module_version": "1.5.0",
      "model_name": "VBoxModel",
      "state": {
       "children": [
        "IPY_MODEL_05c3e12ca7d54f9ca7e760106b13befc",
        "IPY_MODEL_0bbdd80c09cc4efd8d8100212a3f349e",
        "IPY_MODEL_2fe0d051324f44afae3ab92cd9f36de2",
        "IPY_MODEL_43509d944031466996a48f835b745082",
        "IPY_MODEL_74009c66892d4669a7f827d3675eb4e3",
        "IPY_MODEL_1aa3a66d955b4b4daca69a3bd202b92a",
        "IPY_MODEL_690c6ce3d46e4918979ab4e4d16659fc",
        "IPY_MODEL_3fdf732b66404dd9bb1d7a7fe3c015ba",
        "IPY_MODEL_cbc75d8413b64097a1246cacfc454a80",
        "IPY_MODEL_8a08c42754a9430a87f6dd0404b8585e",
        "IPY_MODEL_99f1ac9282144abcabf478e700542c4a",
        "IPY_MODEL_cc4aa88cb1dc4328b7d5b3276593da59",
        "IPY_MODEL_b484f65114d0469ba7a6da5385a0aacb",
        "IPY_MODEL_489a0eda15944aaeaee49e53a5697816"
       ],
       "layout": "IPY_MODEL_bc67ff08ecf84e42bd7ffd837df38de4"
      }
     },
     "4b319bc65ab442d08dbd95530882e09e": {
      "model_module": "@jupyter-widgets/controls",
      "model_module_version": "1.5.0",
      "model_name": "DescriptionStyleModel",
      "state": {
       "description_width": ""
      }
     },
     "4b74165963e64f49be0d9877776d35a4": {
      "model_module": "@jupyter-widgets/base",
      "model_module_version": "1.2.0",
      "model_name": "LayoutModel",
      "state": {}
     },
     "4b74bd5fac0940178541e27743ea80bb": {
      "model_module": "@jupyter-widgets/base",
      "model_module_version": "1.2.0",
      "model_name": "LayoutModel",
      "state": {}
     },
     "4b95e49ff5d2477c905b9ff534ab44dc": {
      "model_module": "@jupyter-widgets/base",
      "model_module_version": "1.2.0",
      "model_name": "LayoutModel",
      "state": {}
     },
     "4ba9daae4aea4e95b10a7696ffce69af": {
      "model_module": "@jupyter-widgets/controls",
      "model_module_version": "1.5.0",
      "model_name": "VBoxModel",
      "state": {
       "children": [
        "IPY_MODEL_ddb5f81bbd864ead804ed664bf685106",
        "IPY_MODEL_f4fca7f7c3eb4ee586b22c2292eaf827",
        "IPY_MODEL_0fbaa295882a4e90b6c261622f916cc2",
        "IPY_MODEL_cdeba1b83d72484582abf3f69fee9eff",
        "IPY_MODEL_7a3ba56a5a8345f59b4533e79a808e2a",
        "IPY_MODEL_54f01a6f3d2f43889e806042c931dfac",
        "IPY_MODEL_173691ed1ea040c2962b81fa80567c5c",
        "IPY_MODEL_d68d57dd8c49446cb7fb079fb4d74b46",
        "IPY_MODEL_25f29171fbe34817aa91a14207703242",
        "IPY_MODEL_2ea76fffd5054d3aa71a29eb99d7db8c",
        "IPY_MODEL_c31de7213ca8464fab2516deb6d451b0",
        "IPY_MODEL_aa40507123054573b5d221d46dc2a062",
        "IPY_MODEL_f671f8813f4d45b8a1ee4c13e5b2540e"
       ],
       "layout": "IPY_MODEL_80334c61e71546bfbac5e694a4470fd4"
      }
     },
     "4bc11143004b49e6b9d5698848250242": {
      "model_module": "@jupyter-widgets/controls",
      "model_module_version": "1.5.0",
      "model_name": "LabelModel",
      "state": {
       "layout": "IPY_MODEL_d4af0412ea43470fb4e0bd001885e964",
       "style": "IPY_MODEL_7de3712b848c4466a21e46259d924aed",
       "value": "Swapping 83.68757 ALCX for 19777.385945579288 DAI"
      }
     },
     "4be7a997e5bd4d06a5c2cf40e46d4af7": {
      "model_module": "@jupyter-widgets/controls",
      "model_module_version": "1.5.0",
      "model_name": "TextModel",
      "state": {
       "description": "Address: ",
       "layout": "IPY_MODEL_8c4c20be235846b7affc26176e4ef570",
       "style": "IPY_MODEL_76072a360c5b4f05bbc4c6c6b18ab8c2",
       "value": "0xeEEC0e4927704ab3BBE5df7F4EfFa818b43665a3"
      }
     },
     "4bf1cb38a38147f3baea2c3882d98bb7": {
      "model_module": "@jupyter-widgets/base",
      "model_module_version": "1.2.0",
      "model_name": "LayoutModel",
      "state": {}
     },
     "4c053e2d4cf240348081a6e17f9f6b89": {
      "model_module": "@jupyter-widgets/base",
      "model_module_version": "1.2.0",
      "model_name": "LayoutModel",
      "state": {}
     },
     "4c110ede957d44429edd31c804ac5b4b": {
      "model_module": "@jupyter-widgets/controls",
      "model_module_version": "1.5.0",
      "model_name": "DescriptionStyleModel",
      "state": {
       "description_width": ""
      }
     },
     "4c4bcaf385a94060ae3e79ebaf89e04a": {
      "model_module": "@jupyter-widgets/base",
      "model_module_version": "1.2.0",
      "model_name": "LayoutModel",
      "state": {}
     },
     "4ca948d51b2740cbb13e81abe0a78db6": {
      "model_module": "@jupyter-widgets/controls",
      "model_module_version": "1.5.0",
      "model_name": "HBoxModel",
      "state": {
       "children": [
        "IPY_MODEL_df58c1f344dc4413b5d97da03ef81013",
        "IPY_MODEL_912e0fd45fd74e609d729f798c59cb1a"
       ],
       "layout": "IPY_MODEL_c5514c5b06684e1ea7a0fcd4cea4f4f0"
      }
     },
     "4ce780ddc9064ed2854f736a53292251": {
      "model_module": "@jupyter-widgets/controls",
      "model_module_version": "1.5.0",
      "model_name": "DescriptionStyleModel",
      "state": {
       "description_width": ""
      }
     },
     "4d124c6392e24c43ad95f274fefb9a33": {
      "model_module": "@jupyter-widgets/base",
      "model_module_version": "1.2.0",
      "model_name": "LayoutModel",
      "state": {}
     },
     "4d59daae06da4ca08f561d9adcd080f0": {
      "model_module": "@jupyter-widgets/base",
      "model_module_version": "1.2.0",
      "model_name": "LayoutModel",
      "state": {}
     },
     "4d72151a924748aa86a6dae845fd31c5": {
      "model_module": "@jupyter-widgets/base",
      "model_module_version": "1.2.0",
      "model_name": "LayoutModel",
      "state": {}
     },
     "4d7345df4aa342cf89ccec3b28a1bbcf": {
      "model_module": "@jupyter-widgets/controls",
      "model_module_version": "1.5.0",
      "model_name": "DescriptionStyleModel",
      "state": {
       "description_width": ""
      }
     },
     "4d7ce6eb611e4e84942ca429b7a53775": {
      "model_module": "@jupyter-widgets/controls",
      "model_module_version": "1.5.0",
      "model_name": "DescriptionStyleModel",
      "state": {
       "description_width": ""
      }
     },
     "4d85acedd16b4d01a3549026a3c1ce43": {
      "model_module": "@jupyter-widgets/controls",
      "model_module_version": "1.5.0",
      "model_name": "DescriptionStyleModel",
      "state": {
       "description_width": ""
      }
     },
     "4d8a534d2aee4d558f04ca359df08419": {
      "model_module": "@jupyter-widgets/controls",
      "model_module_version": "1.5.0",
      "model_name": "DescriptionStyleModel",
      "state": {
       "description_width": ""
      }
     },
     "4dab503b46f142b6b466231b9205c680": {
      "model_module": "@jupyter-widgets/base",
      "model_module_version": "1.2.0",
      "model_name": "LayoutModel",
      "state": {}
     },
     "4db92d3e0f8841e98d510be46d23fe33": {
      "model_module": "@jupyter-widgets/controls",
      "model_module_version": "1.5.0",
      "model_name": "DescriptionStyleModel",
      "state": {
       "description_width": ""
      }
     },
     "4dcc270fc5004de7acccafcbd0b52fa9": {
      "model_module": "@jupyter-widgets/base",
      "model_module_version": "1.2.0",
      "model_name": "LayoutModel",
      "state": {}
     },
     "4ddf1b2dd51c4e77b5cec9c923e3200f": {
      "model_module": "@jupyter-widgets/base",
      "model_module_version": "1.2.0",
      "model_name": "LayoutModel",
      "state": {
       "width": "425px"
      }
     },
     "4de096b77bd84aeb932fb2b207c1e427": {
      "model_module": "@jupyter-widgets/controls",
      "model_module_version": "1.5.0",
      "model_name": "DescriptionStyleModel",
      "state": {
       "description_width": ""
      }
     },
     "4df597c5ecc94b7eba67a83941b289b4": {
      "model_module": "@jupyter-widgets/base",
      "model_module_version": "1.2.0",
      "model_name": "LayoutModel",
      "state": {}
     },
     "4dfd89ce0e7b432da68ae9f7818f4672": {
      "model_module": "@jupyter-widgets/base",
      "model_module_version": "1.2.0",
      "model_name": "LayoutModel",
      "state": {}
     },
     "4e38aa59c4af47249eccc5ece6d3529a": {
      "model_module": "@jupyter-widgets/base",
      "model_module_version": "1.2.0",
      "model_name": "LayoutModel",
      "state": {}
     },
     "4e3c0208204a4596804956da72eae919": {
      "model_module": "@jupyter-widgets/controls",
      "model_module_version": "1.5.0",
      "model_name": "DescriptionStyleModel",
      "state": {
       "description_width": ""
      }
     },
     "4e64f81bde804db29799cafeb2d130ef": {
      "model_module": "@jupyter-widgets/base",
      "model_module_version": "1.2.0",
      "model_name": "LayoutModel",
      "state": {}
     },
     "4ec03fc9f28a4fd2911704b93bd3dc79": {
      "model_module": "@jupyter-widgets/controls",
      "model_module_version": "1.5.0",
      "model_name": "DescriptionStyleModel",
      "state": {
       "description_width": ""
      }
     },
     "4edd743c0b9b44fbbdc2a30e23beedb9": {
      "model_module": "@jupyter-widgets/base",
      "model_module_version": "1.2.0",
      "model_name": "LayoutModel",
      "state": {}
     },
     "4ee5dfcea8d840eaae3bb059983a1f45": {
      "model_module": "@jupyter-widgets/base",
      "model_module_version": "1.2.0",
      "model_name": "LayoutModel",
      "state": {}
     },
     "4ef04e30fdd54abdb72045d83f41030f": {
      "model_module": "@jupyter-widgets/controls",
      "model_module_version": "1.5.0",
      "model_name": "LabelModel",
      "state": {
       "layout": "IPY_MODEL_b78cc5c637494623ba4700fa25fddde2",
       "style": "IPY_MODEL_3e30a2b6239d476aa0f80cc8d9d3ab76",
       "value": "Supplying 2.6953939400969538 WETH and 42.18779 ALCX for 9.987092182566354 ALCX-ETH SLP"
      }
     },
     "4f5030fa459e46e9b38ea9a0373bc84f": {
      "model_module": "@jupyter-widgets/base",
      "model_module_version": "1.2.0",
      "model_name": "LayoutModel",
      "state": {}
     },
     "4f514e538790451fbdad56d58eb1d7e0": {
      "model_module": "@jupyter-widgets/base",
      "model_module_version": "1.2.0",
      "model_name": "LayoutModel",
      "state": {
       "width": "425px"
      }
     },
     "4f5e2b1a607d4006bf7f82ca62d149e2": {
      "model_module": "@jupyter-widgets/base",
      "model_module_version": "1.2.0",
      "model_name": "LayoutModel",
      "state": {}
     },
     "4f70eb8fd2eb4a148ae729c853649923": {
      "model_module": "@jupyter-widgets/base",
      "model_module_version": "1.2.0",
      "model_name": "LayoutModel",
      "state": {}
     },
     "4fbe528af3524648ba6957af6b591faa": {
      "model_module": "@jupyter-widgets/controls",
      "model_module_version": "1.5.0",
      "model_name": "DescriptionStyleModel",
      "state": {
       "description_width": ""
      }
     },
     "4fc49c5f26e3494299d05bf87a85aa56": {
      "model_module": "@jupyter-widgets/controls",
      "model_module_version": "1.5.0",
      "model_name": "CheckboxModel",
      "state": {
       "description": "CVX/ALCX (0.0)",
       "disabled": false,
       "layout": "IPY_MODEL_21966e4d913a4b6c8766b6a4fc16a85f",
       "style": "IPY_MODEL_ce9bbf110b2a4a4094506beccee8b5c0",
       "value": false
      }
     },
     "4fcf43d61a844bf69780a7ed1b0bb9d8": {
      "model_module": "@jupyter-widgets/controls",
      "model_module_version": "1.5.0",
      "model_name": "LabelModel",
      "state": {
       "layout": "IPY_MODEL_e04b962931c840749708abb848ebb0fa",
       "style": "IPY_MODEL_905b725b13354e27bf66043972252229"
      }
     },
     "4fd49273ba274c0b84edd939e61366df": {
      "model_module": "@jupyter-widgets/controls",
      "model_module_version": "1.5.0",
      "model_name": "DescriptionStyleModel",
      "state": {
       "description_width": ""
      }
     },
     "4ff75ca4545547bd9d8a289d012ae8b0": {
      "model_module": "@jupyter-widgets/controls",
      "model_module_version": "1.5.0",
      "model_name": "DescriptionStyleModel",
      "state": {
       "description_width": ""
      }
     },
     "500e4a64412942b7ab532b95b9d6ddfc": {
      "model_module": "@jupyter-widgets/base",
      "model_module_version": "1.2.0",
      "model_name": "LayoutModel",
      "state": {}
     },
     "50133123f3244ddab2647a2d857399aa": {
      "model_module": "@jupyter-widgets/controls",
      "model_module_version": "1.5.0",
      "model_name": "HBoxModel",
      "state": {
       "children": [
        "IPY_MODEL_e6313e2dc31744fbba1645d72b5587ee",
        "IPY_MODEL_bf916a99faad4d6a8332eb77c638f21d"
       ],
       "layout": "IPY_MODEL_0ccc28a7a46442429ed7f95aaf256579"
      }
     },
     "502477c384ea4df99c13ae860cab2b88": {
      "model_module": "@jupyter-widgets/controls",
      "model_module_version": "1.5.0",
      "model_name": "DescriptionStyleModel",
      "state": {
       "description_width": ""
      }
     },
     "5075885bb34f4fb0a60644f32c516b52": {
      "model_module": "@jupyter-widgets/controls",
      "model_module_version": "1.5.0",
      "model_name": "DescriptionStyleModel",
      "state": {
       "description_width": ""
      }
     },
     "5077528a7bb8440b9c21642e1dad2067": {
      "model_module": "@jupyter-widgets/controls",
      "model_module_version": "1.5.0",
      "model_name": "ButtonStyleModel",
      "state": {}
     },
     "508e7004f16f40c59c7f472ce5d90257": {
      "model_module": "@jupyter-widgets/base",
      "model_module_version": "1.2.0",
      "model_name": "LayoutModel",
      "state": {}
     },
     "50bf5c0cb59a4645ab6b5d1946fc42b1": {
      "model_module": "@jupyter-widgets/base",
      "model_module_version": "1.2.0",
      "model_name": "LayoutModel",
      "state": {}
     },
     "50ca99da62cf441d8a26c7394bfd9603": {
      "model_module": "@jupyter-widgets/base",
      "model_module_version": "1.2.0",
      "model_name": "LayoutModel",
      "state": {}
     },
     "50dcc22b8130432d9be8d2eeb2afaf8f": {
      "model_module": "@jupyter-widgets/controls",
      "model_module_version": "1.5.0",
      "model_name": "DescriptionStyleModel",
      "state": {
       "description_width": ""
      }
     },
     "5116c4b310eb415e90e7d387db5484df": {
      "model_module": "@jupyter-widgets/base",
      "model_module_version": "1.2.0",
      "model_name": "LayoutModel",
      "state": {}
     },
     "512595d979a04d9a93aadd8ed722ca90": {
      "model_module": "@jupyter-widgets/controls",
      "model_module_version": "1.5.0",
      "model_name": "DescriptionStyleModel",
      "state": {
       "description_width": ""
      }
     },
     "5128173deef44124940f4ef7018fd158": {
      "model_module": "@jupyter-widgets/base",
      "model_module_version": "1.2.0",
      "model_name": "LayoutModel",
      "state": {
       "width": "200px"
      }
     },
     "51363463d5ee494a846eb0bd6527517d": {
      "model_module": "@jupyter-widgets/controls",
      "model_module_version": "1.5.0",
      "model_name": "CheckboxModel",
      "state": {
       "description": "Use Wallet Balance (72.80737)",
       "disabled": false,
       "layout": "IPY_MODEL_689c0fbe6383446e8a41f24287f6c2b8",
       "style": "IPY_MODEL_dd8d5908a42d47f8b8b2e0efbc6a5b62",
       "value": false
      }
     },
     "518029dc90d84a5a9933620384cc8269": {
      "model_module": "@jupyter-widgets/controls",
      "model_module_version": "1.5.0",
      "model_name": "HBoxModel",
      "state": {
       "children": [
        "IPY_MODEL_f27f51c70da747fa978265506da2a30a",
        "IPY_MODEL_2e098ddeb8304ef9ae0efb0c76dc18bd"
       ],
       "layout": "IPY_MODEL_3aca61870471475e833ce23c5688c9e3"
      }
     },
     "5196e12c304040db99a07f923032aff8": {
      "model_module": "@jupyter-widgets/controls",
      "model_module_version": "1.5.0",
      "model_name": "HBoxModel",
      "state": {
       "children": [
        "IPY_MODEL_f640507f289e4a978293b8094e7596a4",
        "IPY_MODEL_f5ccb32d147b4536ab8b5b258cf95bc8"
       ],
       "layout": "IPY_MODEL_c2ac1f7781134aacb67aa7d9c6b78cc5"
      }
     },
     "519ebf7042174b389bd1bbc72433cf85": {
      "model_module": "@jupyter-widgets/controls",
      "model_module_version": "1.5.0",
      "model_name": "LabelModel",
      "state": {
       "layout": "IPY_MODEL_6949caba92fe471dbabd76dc74141a90",
       "style": "IPY_MODEL_b2c3d93022644a0db5accf0c3a5b9d86",
       "value": "Max Payout: 96.15973854597343 ALCX"
      }
     },
     "51a7ee67448f4fa3b8089294e4e91f74": {
      "model_module": "@jupyter-widgets/controls",
      "model_module_version": "1.5.0",
      "model_name": "DescriptionStyleModel",
      "state": {
       "description_width": ""
      }
     },
     "51d7cd961ebf41189c5a72bd3274a368": {
      "model_module": "@jupyter-widgets/controls",
      "model_module_version": "1.5.0",
      "model_name": "LabelModel",
      "state": {
       "layout": "IPY_MODEL_fe410b290e964ba6877014c05230c495",
       "style": "IPY_MODEL_51e8545f447649ac92fe2c15ba75514b",
       "value": "You Will Get: 7.789557362468682 ALCX"
      }
     },
     "51e0c34952594ea5be8aeb5a9da83dab": {
      "model_module": "@jupyter-widgets/base",
      "model_module_version": "1.2.0",
      "model_name": "LayoutModel",
      "state": {}
     },
     "51e8545f447649ac92fe2c15ba75514b": {
      "model_module": "@jupyter-widgets/controls",
      "model_module_version": "1.5.0",
      "model_name": "DescriptionStyleModel",
      "state": {
       "description_width": ""
      }
     },
     "51f04da8a3dd404581aad98a9cee798c": {
      "model_module": "@jupyter-widgets/controls",
      "model_module_version": "1.5.0",
      "model_name": "DescriptionStyleModel",
      "state": {
       "description_width": ""
      }
     },
     "520baffda23648899e9d7e50e5c1850b": {
      "model_module": "@jupyter-widgets/controls",
      "model_module_version": "1.5.0",
      "model_name": "DescriptionStyleModel",
      "state": {
       "description_width": ""
      }
     },
     "5224724e2aae43afa1503dbbe0f19387": {
      "model_module": "@jupyter-widgets/controls",
      "model_module_version": "1.5.0",
      "model_name": "LabelModel",
      "state": {
       "layout": "IPY_MODEL_c9a927e0dbfc45e4867354b37cf50a7c",
       "style": "IPY_MODEL_6e8ec18d4b444d5a9062aa7f273420f6",
       "value": "Swapping 7.37632 ALCX for 0.4706878303985872 WETH"
      }
     },
     "522a80a750fd48a381cecc24c48ba8af": {
      "model_module": "@jupyter-widgets/controls",
      "model_module_version": "1.5.0",
      "model_name": "DescriptionStyleModel",
      "state": {
       "description_width": ""
      }
     },
     "522a950413dd4874a478242bb18ae0dd": {
      "model_module": "@jupyter-widgets/controls",
      "model_module_version": "1.5.0",
      "model_name": "HBoxModel",
      "state": {
       "children": [
        "IPY_MODEL_83ee4d50b5354ab99e7637857e9e9a45",
        "IPY_MODEL_cb3926ea213d4188b51f59441dfe1f48"
       ],
       "layout": "IPY_MODEL_3e61e29450f44cff90d66841980139ff"
      }
     },
     "5249c7e5770940428fbf6957685ebdb4": {
      "model_module": "@jupyter-widgets/base",
      "model_module_version": "1.2.0",
      "model_name": "LayoutModel",
      "state": {}
     },
     "5249ce8012584ed68d02a40410e0e940": {
      "model_module": "@jupyter-widgets/controls",
      "model_module_version": "1.5.0",
      "model_name": "DescriptionStyleModel",
      "state": {
       "description_width": ""
      }
     },
     "52598b3df9e543f997970edac33ff0d2": {
      "model_module": "@jupyter-widgets/controls",
      "model_module_version": "1.5.0",
      "model_name": "CheckboxModel",
      "state": {
       "description": "CVX/ALCX (0.0)",
       "disabled": false,
       "layout": "IPY_MODEL_96b56acca2fb444594263835e7de6f02",
       "style": "IPY_MODEL_c142af4254494247bbc9154e8aeb553f",
       "value": false
      }
     },
     "52805b2b417c4071be33365603930b84": {
      "model_module": "@jupyter-widgets/controls",
      "model_module_version": "1.5.0",
      "model_name": "CheckboxModel",
      "state": {
       "description": "WETH/ALCX (7.52248)",
       "disabled": false,
       "layout": "IPY_MODEL_3b2012fa69194e509ae813e008e13f08",
       "style": "IPY_MODEL_11ec7655ba7b498bb3fa68eaad450b1e",
       "value": false
      }
     },
     "52b99a686500425cbeec020800744e53": {
      "model_module": "@jupyter-widgets/controls",
      "model_module_version": "1.5.0",
      "model_name": "DescriptionStyleModel",
      "state": {
       "description_width": ""
      }
     },
     "52bbee2bbd714f678eb6cb88c73e4808": {
      "model_module": "@jupyter-widgets/controls",
      "model_module_version": "1.5.0",
      "model_name": "CheckboxModel",
      "state": {
       "description": "WETH/ALCX (7.42991)",
       "disabled": false,
       "layout": "IPY_MODEL_492413e023af4dcbaa479b4d1df72f58",
       "style": "IPY_MODEL_dacc2d9e8af0464c91d04cacae8822b7",
       "value": true
      }
     },
     "5306cd69161b4710927547f738c0274d": {
      "model_module": "@jupyter-widgets/base",
      "model_module_version": "1.2.0",
      "model_name": "LayoutModel",
      "state": {}
     },
     "5336206ab9534316951cad3bb001232c": {
      "model_module": "@jupyter-widgets/base",
      "model_module_version": "1.2.0",
      "model_name": "LayoutModel",
      "state": {}
     },
     "535e351363fa44bd83d6f837a6c5d08d": {
      "model_module": "@jupyter-widgets/controls",
      "model_module_version": "1.5.0",
      "model_name": "LabelModel",
      "state": {
       "layout": "IPY_MODEL_669503e1233d40b5a9712116ac8d24cb",
       "style": "IPY_MODEL_a4a6d5fe7205486ba3dccc48944080b9",
       "value": "Swapping 41.58047 ALCX for 2.6702556690546158 WETH"
      }
     },
     "536745e9bf7947e5a47dd19914f44e4b": {
      "model_module": "@jupyter-widgets/controls",
      "model_module_version": "1.5.0",
      "model_name": "DescriptionStyleModel",
      "state": {
       "description_width": ""
      }
     },
     "538b75a7c5e94eb89054e47e4b123ed6": {
      "model_module": "@jupyter-widgets/controls",
      "model_module_version": "1.5.0",
      "model_name": "DescriptionStyleModel",
      "state": {
       "description_width": ""
      }
     },
     "53af2637db42442090832debb26d8a07": {
      "model_module": "@jupyter-widgets/base",
      "model_module_version": "1.2.0",
      "model_name": "LayoutModel",
      "state": {}
     },
     "53bd4926cd814f888d6ccde019590514": {
      "model_module": "@jupyter-widgets/controls",
      "model_module_version": "1.5.0",
      "model_name": "CheckboxModel",
      "state": {
       "description": "WETH/ALCX (6.88911)",
       "disabled": false,
       "layout": "IPY_MODEL_5a83e6d963df44329a3c18dc07faf23b",
       "style": "IPY_MODEL_7eb9c5d6fba74f5b815e6ec70d1419cf",
       "value": true
      }
     },
     "53cccb4bd6a24422b9408bc8941d5ec0": {
      "model_module": "@jupyter-widgets/base",
      "model_module_version": "1.2.0",
      "model_name": "LayoutModel",
      "state": {}
     },
     "53d0f381bef4413c982ac2a4e2c1460f": {
      "model_module": "@jupyter-widgets/controls",
      "model_module_version": "1.5.0",
      "model_name": "LabelModel",
      "state": {
       "layout": "IPY_MODEL_f3ec506ec445414493e5f83937ed3d04",
       "style": "IPY_MODEL_00a64be33a424a51a30e495737a299a7"
      }
     },
     "53d1d637419b46bbba9648e597f30ab5": {
      "model_module": "@jupyter-widgets/controls",
      "model_module_version": "1.5.0",
      "model_name": "DescriptionStyleModel",
      "state": {
       "description_width": ""
      }
     },
     "53e50d3be3c7467b8e25e9e332dc8411": {
      "model_module": "@jupyter-widgets/controls",
      "model_module_version": "1.5.0",
      "model_name": "DescriptionStyleModel",
      "state": {
       "description_width": ""
      }
     },
     "53e83bec58f4448d980a58b41ab3b8bf": {
      "model_module": "@jupyter-widgets/controls",
      "model_module_version": "1.5.0",
      "model_name": "DescriptionStyleModel",
      "state": {
       "description_width": ""
      }
     },
     "53f3986f9f8847b3be5917e9c1065970": {
      "model_module": "@jupyter-widgets/controls",
      "model_module_version": "1.5.0",
      "model_name": "LabelModel",
      "state": {
       "layout": "IPY_MODEL_8523c5f86c57454a8e54de1d778b4f22",
       "style": "IPY_MODEL_009013906bd64059bf4b49b0bf02f5d7"
      }
     },
     "53fc6fcb5318491a853a3f3901fa4ad6": {
      "model_module": "@jupyter-widgets/base",
      "model_module_version": "1.2.0",
      "model_name": "LayoutModel",
      "state": {
       "width": "200px"
      }
     },
     "54128ac1f2ae4761997c2fe637566fcb": {
      "model_module": "@jupyter-widgets/controls",
      "model_module_version": "1.5.0",
      "model_name": "LabelModel",
      "state": {
       "layout": "IPY_MODEL_b7f700c1ff7f4c94907a3f0c0fdb284d",
       "style": "IPY_MODEL_2e66d3e47f1c40868f70834860f7a1c3",
       "value": "Supplying 2.6663920540192425 WETH and 41.5203 ALCX for 9.854557644505194 ALCX-ETH SLP"
      }
     },
     "541a9b8f93b34187aa4a10085892f7c5": {
      "model_module": "@jupyter-widgets/controls",
      "model_module_version": "1.5.0",
      "model_name": "DescriptionStyleModel",
      "state": {
       "description_width": ""
      }
     },
     "54248743a721439c9709baa8cb133821": {
      "model_module": "@jupyter-widgets/controls",
      "model_module_version": "1.5.0",
      "model_name": "LabelModel",
      "state": {
       "layout": "IPY_MODEL_58deb09387354ff8985f79c2b73e310d",
       "style": "IPY_MODEL_512595d979a04d9a93aadd8ed722ca90",
       "value": "Max Input: 5.991320820070845 WETH"
      }
     },
     "543465ea13c042e1a54c5a061db8ee1d": {
      "model_module": "@jupyter-widgets/controls",
      "model_module_version": "1.5.0",
      "model_name": "TextModel",
      "state": {
       "description": "Address: ",
       "layout": "IPY_MODEL_2677e882e7d148da9c3801fbaaeaceec",
       "style": "IPY_MODEL_192b189410a84cd5b4b50e3d35a28203",
       "value": "0xeEEC0e4927704ab3BBE5df7F4EfFa818b43665a3"
      }
     },
     "54377cc29f654f8c950347d336f80937": {
      "model_module": "@jupyter-widgets/controls",
      "model_module_version": "1.5.0",
      "model_name": "HBoxModel",
      "state": {
       "children": [
        "IPY_MODEL_def1de23023443c58846ca99d7ee433a",
        "IPY_MODEL_0c467c4e21994e8aa4303ec9d6a2fe4c"
       ],
       "layout": "IPY_MODEL_8a40fa993a904b37ad7d5216ce8bc884"
      }
     },
     "544950fc39b04ccbb5712672c5752546": {
      "model_module": "@jupyter-widgets/base",
      "model_module_version": "1.2.0",
      "model_name": "LayoutModel",
      "state": {}
     },
     "546026725a084377b701e08634172716": {
      "model_module": "@jupyter-widgets/controls",
      "model_module_version": "1.5.0",
      "model_name": "DescriptionStyleModel",
      "state": {
       "description_width": ""
      }
     },
     "54b210952f5e4f30910b8189c5261146": {
      "model_module": "@jupyter-widgets/base",
      "model_module_version": "1.2.0",
      "model_name": "LayoutModel",
      "state": {}
     },
     "54cebff30d39418b961971291f052818": {
      "model_module": "@jupyter-widgets/controls",
      "model_module_version": "1.5.0",
      "model_name": "DropdownModel",
      "state": {
       "_options_labels": [
        "WETH/ALCX",
        "DAI/ALCX",
        "CVX/ALCX",
        "ALCX-ETH SLP"
       ],
       "index": 0,
       "layout": "IPY_MODEL_0cc639ac6fea44f6a3df0232671c1f16",
       "style": "IPY_MODEL_f6174fc033ca4077ac684bad9329260b"
      }
     },
     "54f01a6f3d2f43889e806042c931dfac": {
      "model_module": "@jupyter-widgets/controls",
      "model_module_version": "1.5.0",
      "model_name": "HBoxModel",
      "state": {
       "children": [
        "IPY_MODEL_67d25df35b4348c0a25359edcd92f88d",
        "IPY_MODEL_01736d320aaa42409385d62e53705c62"
       ],
       "layout": "IPY_MODEL_d300abbc7c6940d0a3a3b84bbbbfdb60"
      }
     },
     "54f5faa401df401db0c2702e6cfec089": {
      "model_module": "@jupyter-widgets/base",
      "model_module_version": "1.2.0",
      "model_name": "LayoutModel",
      "state": {}
     },
     "552f24ecf1914c13a159c06befb6213d": {
      "model_module": "@jupyter-widgets/controls",
      "model_module_version": "1.5.0",
      "model_name": "DescriptionStyleModel",
      "state": {
       "description_width": ""
      }
     },
     "5533310119a44d2a87cf1ac137edc7ca": {
      "model_module": "@jupyter-widgets/controls",
      "model_module_version": "1.5.0",
      "model_name": "DescriptionStyleModel",
      "state": {
       "description_width": ""
      }
     },
     "5580efeeaaee42c3af46b364f36f300d": {
      "model_module": "@jupyter-widgets/base",
      "model_module_version": "1.2.0",
      "model_name": "LayoutModel",
      "state": {}
     },
     "5581f20b1eec4cb28aedd953e2fb3b6e": {
      "model_module": "@jupyter-widgets/controls",
      "model_module_version": "1.5.0",
      "model_name": "ButtonStyleModel",
      "state": {}
     },
     "5596a16a90914cd5b6d87f475623a71a": {
      "model_module": "@jupyter-widgets/controls",
      "model_module_version": "1.5.0",
      "model_name": "DescriptionStyleModel",
      "state": {
       "description_width": ""
      }
     },
     "559cfcb64f0749f4a8cbe2009ca93d25": {
      "model_module": "@jupyter-widgets/controls",
      "model_module_version": "1.5.0",
      "model_name": "DescriptionStyleModel",
      "state": {
       "description_width": ""
      }
     },
     "559e6ecb1877487493eaf318862eb641": {
      "model_module": "@jupyter-widgets/controls",
      "model_module_version": "1.5.0",
      "model_name": "LabelModel",
      "state": {
       "layout": "IPY_MODEL_e6faa74ae9ec47f39a46e75e0ad924ca",
       "style": "IPY_MODEL_6037b3705b2a4a54b05e4c27deac6cfc",
       "value": "Select Pool to Bond:"
      }
     },
     "55aefd3b613e4271b2d3786dc2c53e7b": {
      "model_module": "@jupyter-widgets/controls",
      "model_module_version": "1.5.0",
      "model_name": "DescriptionStyleModel",
      "state": {
       "description_width": ""
      }
     },
     "55b28210200d4caab26ec66a0dbdb6ba": {
      "model_module": "@jupyter-widgets/controls",
      "model_module_version": "1.5.0",
      "model_name": "LabelModel",
      "state": {
       "layout": "IPY_MODEL_ac988ff7e7e145848cb8063c5a643ae4",
       "style": "IPY_MODEL_b3394da587f2406b96fc6047b1fe1461",
       "value": "Select Assets to Claim:"
      }
     },
     "55bafa344e5e470a80c0acb8c308f748": {
      "model_module": "@jupyter-widgets/controls",
      "model_module_version": "1.5.0",
      "model_name": "ButtonModel",
      "state": {
       "description": "Generate MultiCall Data",
       "layout": "IPY_MODEL_1adbda751e0b49508e12e384cdb27fdc",
       "style": "IPY_MODEL_a2ec2e2177794c5e91b0b31060b76125"
      }
     },
     "55eb63de301b40e09a59891635940bf3": {
      "model_module": "@jupyter-widgets/base",
      "model_module_version": "1.2.0",
      "model_name": "LayoutModel",
      "state": {}
     },
     "55eedee654a34bdda48a6d5746f5a91f": {
      "model_module": "@jupyter-widgets/base",
      "model_module_version": "1.2.0",
      "model_name": "LayoutModel",
      "state": {}
     },
     "560bd45b91df453a9f49b2121f6bf9bb": {
      "model_module": "@jupyter-widgets/controls",
      "model_module_version": "1.5.0",
      "model_name": "DescriptionStyleModel",
      "state": {
       "description_width": ""
      }
     },
     "56261bd63d424808a942ae04e0637119": {
      "model_module": "@jupyter-widgets/controls",
      "model_module_version": "1.5.0",
      "model_name": "DescriptionStyleModel",
      "state": {
       "description_width": ""
      }
     },
     "56438681dd584c0397e46c31945eb663": {
      "model_module": "@jupyter-widgets/base",
      "model_module_version": "1.2.0",
      "model_name": "LayoutModel",
      "state": {}
     },
     "567034725afb4b6aa1b0480df4e6a140": {
      "model_module": "@jupyter-widgets/controls",
      "model_module_version": "1.5.0",
      "model_name": "DescriptionStyleModel",
      "state": {
       "description_width": ""
      }
     },
     "5684197912664181840fd743f8242f9d": {
      "model_module": "@jupyter-widgets/controls",
      "model_module_version": "1.5.0",
      "model_name": "DescriptionStyleModel",
      "state": {
       "description_width": ""
      }
     },
     "56b4e4b0ac9f454981d3b541363f028e": {
      "model_module": "@jupyter-widgets/controls",
      "model_module_version": "1.5.0",
      "model_name": "LabelModel",
      "state": {
       "layout": "IPY_MODEL_f6c0c388a34b46ff96e3682b74c4ed20",
       "style": "IPY_MODEL_dc52351d4e9f422b8e66d624a616e88e",
       "value": "Your Payout: 317704.32411730185 WETH"
      }
     },
     "572867d9229e41bcaa9b251a7f17d0ef": {
      "model_module": "@jupyter-widgets/controls",
      "model_module_version": "1.5.0",
      "model_name": "CheckboxModel",
      "state": {
       "description": "CVX/ALCX (0.0)",
       "disabled": false,
       "layout": "IPY_MODEL_b03687653f6049408f3d797cda9fab90",
       "style": "IPY_MODEL_10b6546a12874b1fa8dc45d4803e8087",
       "value": false
      }
     },
     "5732910717514363b7eade75d27f9867": {
      "model_module": "@jupyter-widgets/controls",
      "model_module_version": "1.5.0",
      "model_name": "TextModel",
      "state": {
       "description": "Address: ",
       "layout": "IPY_MODEL_71015cfc22364769a9ae1852512f6233",
       "style": "IPY_MODEL_c34425de09ad46ceb813a4f661774ec6",
       "value": "0xeEEC0e4927704ab3BBE5df7F4EfFa818b43665a3"
      }
     },
     "574907e224354cafa526b9ce8eaba511": {
      "model_module": "@jupyter-widgets/controls",
      "model_module_version": "1.5.0",
      "model_name": "VBoxModel",
      "state": {
       "children": [
        "IPY_MODEL_a6622d75e09c4772a8ea77dc1fbfb3e2",
        "IPY_MODEL_0218e80373854dcf8feabadd8c0b304e",
        "IPY_MODEL_55b28210200d4caab26ec66a0dbdb6ba",
        "IPY_MODEL_2774d1966a1846b5a547d80f7017eba8",
        "IPY_MODEL_f2071e28a48b4ba9bb2394843c00c7e3",
        "IPY_MODEL_a563c9f2d85a4a39adddc5fd86e15a7f",
        "IPY_MODEL_9eb3e5cd721448e69930e27b08dcc711",
        "IPY_MODEL_594d66fffef84901a410da340b622dc9",
        "IPY_MODEL_fdbe0918701143f0a620da593e596d23",
        "IPY_MODEL_61776eb8eabb454091d850ac2b6ecc76",
        "IPY_MODEL_bb14839de68a4596b5f0171e6efd8299",
        "IPY_MODEL_f2afa2e58c6044ff8dd452bc421fe448",
        "IPY_MODEL_83154002285945218dd8decbf95095b8",
        "IPY_MODEL_01a990fb199c4b63a80ab7e6c0c9bb15"
       ],
       "layout": "IPY_MODEL_28c603b1773248988ad19430fa38e0f6"
      }
     },
     "57517fdcdce94a86a39c1df09f71fc53": {
      "model_module": "@jupyter-widgets/controls",
      "model_module_version": "1.5.0",
      "model_name": "DescriptionStyleModel",
      "state": {
       "description_width": ""
      }
     },
     "5765c5fa4ebc4ad3970b88e130d39f61": {
      "model_module": "@jupyter-widgets/controls",
      "model_module_version": "1.5.0",
      "model_name": "ButtonModel",
      "state": {
       "description": "Generate MultiCall Data",
       "layout": "IPY_MODEL_e97b65d027004db4b34b314a90d7cefc",
       "style": "IPY_MODEL_198b70cecea048d4a24398e58e0ca5f6"
      }
     },
     "57727857bc5c4f50bed7ea586d4dfcda": {
      "model_module": "@jupyter-widgets/controls",
      "model_module_version": "1.5.0",
      "model_name": "DescriptionStyleModel",
      "state": {
       "description_width": ""
      }
     },
     "57a86c4e153f484fac5b9961a6eea793": {
      "model_module": "@jupyter-widgets/controls",
      "model_module_version": "1.5.0",
      "model_name": "DescriptionStyleModel",
      "state": {
       "description_width": ""
      }
     },
     "57a9f286e2064106a19e5d2874120761": {
      "model_module": "@jupyter-widgets/base",
      "model_module_version": "1.2.0",
      "model_name": "LayoutModel",
      "state": {}
     },
     "57ac3bc2c1f0421698095bd93729f475": {
      "model_module": "@jupyter-widgets/controls",
      "model_module_version": "1.5.0",
      "model_name": "CheckboxModel",
      "state": {
       "description": "Use Wallet Balance (72.80737)",
       "disabled": false,
       "layout": "IPY_MODEL_2c8a2cda32e54370943e886717875eaa",
       "style": "IPY_MODEL_da2c213bf9cc422297da80827d325b62",
       "value": false
      }
     },
     "57bb9068d4af4aad8dabe284dc651c51": {
      "model_module": "@jupyter-widgets/base",
      "model_module_version": "1.2.0",
      "model_name": "LayoutModel",
      "state": {}
     },
     "57d476d673a745f6bad817322cdb5f42": {
      "model_module": "@jupyter-widgets/base",
      "model_module_version": "1.2.0",
      "model_name": "LayoutModel",
      "state": {}
     },
     "57e9421b55e042b39c1947bf485cc4c1": {
      "model_module": "@jupyter-widgets/controls",
      "model_module_version": "1.5.0",
      "model_name": "HBoxModel",
      "state": {
       "children": [
        "IPY_MODEL_e6e7d9c608db47f6bcade6cc3a08bd43",
        "IPY_MODEL_aa95fafdfefc4313ae9dbec39796f853"
       ],
       "layout": "IPY_MODEL_e57ab27a4792418cb75e1c76cb3f0920"
      }
     },
     "582f152ca6e74e7bb531e29223526dff": {
      "model_module": "@jupyter-widgets/base",
      "model_module_version": "1.2.0",
      "model_name": "LayoutModel",
      "state": {
       "width": "425px"
      }
     },
     "5836c0f1e39046b0b8ebe4c0d47f8750": {
      "model_module": "@jupyter-widgets/controls",
      "model_module_version": "1.5.0",
      "model_name": "CheckboxModel",
      "state": {
       "description": "WETH/ALCX (7.43478)",
       "disabled": false,
       "layout": "IPY_MODEL_39b222202c7f4266b5454024b5619e9b",
       "style": "IPY_MODEL_c3bc4f03a50346d0b2ba3134e89d6b31",
       "value": true
      }
     },
     "583bfa4bb70641d2a903958767e99386": {
      "model_module": "@jupyter-widgets/base",
      "model_module_version": "1.2.0",
      "model_name": "LayoutModel",
      "state": {}
     },
     "58514678ad914dc0a50793a7b4b9fdf5": {
      "model_module": "@jupyter-widgets/base",
      "model_module_version": "1.2.0",
      "model_name": "LayoutModel",
      "state": {}
     },
     "586ca7f657c74167a5f296898fa71744": {
      "model_module": "@jupyter-widgets/base",
      "model_module_version": "1.2.0",
      "model_name": "LayoutModel",
      "state": {}
     },
     "5873268231bf4925bc05d87aa3829aa8": {
      "model_module": "@jupyter-widgets/controls",
      "model_module_version": "1.5.0",
      "model_name": "DescriptionStyleModel",
      "state": {
       "description_width": ""
      }
     },
     "5878093e08b24d6fa06ca0e6beeb744e": {
      "model_module": "@jupyter-widgets/controls",
      "model_module_version": "1.5.0",
      "model_name": "DescriptionStyleModel",
      "state": {
       "description_width": ""
      }
     },
     "5881a57f85fa47f0add9afcdbeee3055": {
      "model_module": "@jupyter-widgets/base",
      "model_module_version": "1.2.0",
      "model_name": "LayoutModel",
      "state": {}
     },
     "5890d3ece7794a82a1ab83692dbc6dbb": {
      "model_module": "@jupyter-widgets/controls",
      "model_module_version": "1.5.0",
      "model_name": "HBoxModel",
      "state": {
       "children": [
        "IPY_MODEL_196d1c7460e8489490fafc5996d3cbab",
        "IPY_MODEL_fc4f16f960bf4164b924b1cc741528ad"
       ],
       "layout": "IPY_MODEL_9e48808f89f24d5da6dafd636a2a5841"
      }
     },
     "58deb09387354ff8985f79c2b73e310d": {
      "model_module": "@jupyter-widgets/base",
      "model_module_version": "1.2.0",
      "model_name": "LayoutModel",
      "state": {}
     },
     "58f0cfa1f8e4454d8196e8ce72256b89": {
      "model_module": "@jupyter-widgets/base",
      "model_module_version": "1.2.0",
      "model_name": "LayoutModel",
      "state": {
       "width": "425px"
      }
     },
     "58f181efc0b14d768c0d3941af98fd24": {
      "model_module": "@jupyter-widgets/controls",
      "model_module_version": "1.5.0",
      "model_name": "DropdownModel",
      "state": {
       "_options_labels": [
        "WETH/ALCX",
        "DAI/ALCX",
        "CVX/ALCX",
        "ALCX-ETH SLP"
       ],
       "index": 1,
       "layout": "IPY_MODEL_ecaddb7d0dc9485c87d60e35f1e1aa6d",
       "style": "IPY_MODEL_9a874ad49f7145e183c325ee1dc797a5"
      }
     },
     "592134f991f34b6699759caf07bf252e": {
      "model_module": "@jupyter-widgets/controls",
      "model_module_version": "1.5.0",
      "model_name": "CheckboxModel",
      "state": {
       "description": "DAI/ALCX (3.58596)",
       "disabled": false,
       "layout": "IPY_MODEL_7585d2d12a2b47fa959258cc1df0b439",
       "style": "IPY_MODEL_4100e30708524a58adad9ea379314d22",
       "value": false
      }
     },
     "59270077507646e8a0d7968b373501dc": {
      "model_module": "@jupyter-widgets/controls",
      "model_module_version": "1.5.0",
      "model_name": "DescriptionStyleModel",
      "state": {
       "description_width": ""
      }
     },
     "594d66fffef84901a410da340b622dc9": {
      "model_module": "@jupyter-widgets/controls",
      "model_module_version": "1.5.0",
      "model_name": "LabelModel",
      "state": {
       "layout": "IPY_MODEL_e9a60cb269cf498695647e5e2e6961d3",
       "style": "IPY_MODEL_229ed6d844c4440384449697c66d2663"
      }
     },
     "595b9d36a5ad41b3be129e0282cd5b13": {
      "model_module": "@jupyter-widgets/controls",
      "model_module_version": "1.5.0",
      "model_name": "DescriptionStyleModel",
      "state": {
       "description_width": ""
      }
     },
     "5967eae850254ac5b4c19a8ee53688fe": {
      "model_module": "@jupyter-widgets/controls",
      "model_module_version": "1.5.0",
      "model_name": "LabelModel",
      "state": {
       "layout": "IPY_MODEL_e717ff2e1f3547378dc6f0ed50a5d34d",
       "style": "IPY_MODEL_51f04da8a3dd404581aad98a9cee798c",
       "value": "[Current block: 13905526]"
      }
     },
     "596e04ad870544f782e4ff429148d8e7": {
      "model_module": "@jupyter-widgets/controls",
      "model_module_version": "1.5.0",
      "model_name": "CheckboxModel",
      "state": {
       "description": "DAI/ALCX (3.61932)",
       "disabled": false,
       "layout": "IPY_MODEL_a9e517e2c0e243359540dfc27ac63be4",
       "style": "IPY_MODEL_1846430ef02444ff9f088b116714cf2a",
       "value": true
      }
     },
     "597ae608c0944f689a2436538f4daace": {
      "model_module": "@jupyter-widgets/controls",
      "model_module_version": "1.5.0",
      "model_name": "LabelModel",
      "state": {
       "layout": "IPY_MODEL_f494fa06515b4a968590c33bbe15f05a",
       "style": "IPY_MODEL_112750bd56c340f092dcd51fb0dc5855",
       "value": "Select Assets to Claim:"
      }
     },
     "59ec48999793476ab9695cb1dd472b74": {
      "model_module": "@jupyter-widgets/controls",
      "model_module_version": "1.5.0",
      "model_name": "CheckboxModel",
      "state": {
       "description": "DAI/ALCX (3.4984)",
       "disabled": false,
       "layout": "IPY_MODEL_7e5a681edcb34b7ab0250107e6fc903f",
       "style": "IPY_MODEL_3e6bc6e1799f420db9d53433b47383f0",
       "value": false
      }
     },
     "59edf0bc95194150946f9802e51b846b": {
      "model_module": "@jupyter-widgets/base",
      "model_module_version": "1.2.0",
      "model_name": "LayoutModel",
      "state": {}
     },
     "5a14eb0e9ba341188ef5c49c970aaf20": {
      "model_module": "@jupyter-widgets/base",
      "model_module_version": "1.2.0",
      "model_name": "LayoutModel",
      "state": {}
     },
     "5a19135891ae4d5099b399beb57bb766": {
      "model_module": "@jupyter-widgets/controls",
      "model_module_version": "1.5.0",
      "model_name": "DescriptionStyleModel",
      "state": {
       "description_width": ""
      }
     },
     "5a3542bdd2bd4897ad22520e347ea7ae": {
      "model_module": "@jupyter-widgets/controls",
      "model_module_version": "1.5.0",
      "model_name": "LabelModel",
      "state": {
       "layout": "IPY_MODEL_d639f7a37d5a47979482003d2ad90ad3",
       "style": "IPY_MODEL_c3ff75409c0b4ad3a70252ae6545e4ff",
       "value": "Max Input: 5.984265835171401 WETH"
      }
     },
     "5a3eaf53876d46afa1b35a46acd1fb18": {
      "model_module": "@jupyter-widgets/controls",
      "model_module_version": "1.5.0",
      "model_name": "DescriptionStyleModel",
      "state": {
       "description_width": ""
      }
     },
     "5a404184ecc449e7b7edd5b2200fac1c": {
      "model_module": "@jupyter-widgets/controls",
      "model_module_version": "1.5.0",
      "model_name": "CheckboxModel",
      "state": {
       "description": "Use Wallet Balance (72.80737)",
       "disabled": false,
       "layout": "IPY_MODEL_f1fc71e6f9fc4dbbaa5200cb89415ee9",
       "style": "IPY_MODEL_ad14a5e0e506457ba8e0d7ee6d0f751b",
       "value": false
      }
     },
     "5a40ae56af6140169171ebbde64315cc": {
      "model_module": "@jupyter-widgets/controls",
      "model_module_version": "1.5.0",
      "model_name": "DescriptionStyleModel",
      "state": {
       "description_width": ""
      }
     },
     "5a5ec2f9e1fb4401aea1d8a788af0c76": {
      "model_module": "@jupyter-widgets/controls",
      "model_module_version": "1.5.0",
      "model_name": "LabelModel",
      "state": {
       "layout": "IPY_MODEL_69a4184144914ebe8675d2ac35316771",
       "style": "IPY_MODEL_8e072c07ff9346f99d2c61f07c49aade",
       "value": "Max Input: 5.99338138589683 WETH"
      }
     },
     "5a6cd1f5e06241b281139f66bef40ca4": {
      "model_module": "@jupyter-widgets/controls",
      "model_module_version": "1.5.0",
      "model_name": "DescriptionStyleModel",
      "state": {
       "description_width": ""
      }
     },
     "5a730ae65d7d4b0ea13b75dcc00d16cb": {
      "model_module": "@jupyter-widgets/base",
      "model_module_version": "1.2.0",
      "model_name": "LayoutModel",
      "state": {
       "width": "200px"
      }
     },
     "5a7f986e8c9447198152a887e8c0bd36": {
      "model_module": "@jupyter-widgets/controls",
      "model_module_version": "1.5.0",
      "model_name": "LabelModel",
      "state": {
       "layout": "IPY_MODEL_280c1e2aff804d9d988015af30c84953",
       "style": "IPY_MODEL_f25f812f99d64098b36f44baace251d4",
       "value": "Max Input: 11.614340029292393 ALCX-ETH SLP"
      }
     },
     "5a83e6d963df44329a3c18dc07faf23b": {
      "model_module": "@jupyter-widgets/base",
      "model_module_version": "1.2.0",
      "model_name": "LayoutModel",
      "state": {}
     },
     "5a8b45a7c82e46a0b2389d72fea6d65b": {
      "model_module": "@jupyter-widgets/controls",
      "model_module_version": "1.5.0",
      "model_name": "LabelModel",
      "state": {
       "layout": "IPY_MODEL_1ae824a4576c4c37b62e5c133a4f70e0",
       "style": "IPY_MODEL_6f0c515e6573480f935c9d9ca9663722",
       "value": "Max Input: 11.613545239616656 ALCX-ETH SLP"
      }
     },
     "5ab19740098945fa9a922c6206e60e87": {
      "model_module": "@jupyter-widgets/base",
      "model_module_version": "1.2.0",
      "model_name": "LayoutModel",
      "state": {}
     },
     "5abbcb12e9bd454888df6ae025f68f49": {
      "model_module": "@jupyter-widgets/controls",
      "model_module_version": "1.5.0",
      "model_name": "LabelModel",
      "state": {
       "layout": "IPY_MODEL_b5998cf211334f91a0c4ecca66693089",
       "style": "IPY_MODEL_8947ea6ead564432a95a6010b56a7b2a",
       "value": "Select Assets to Claim:"
      }
     },
     "5af95b0dcc944cf0b832b3328d1551fa": {
      "model_module": "@jupyter-widgets/controls",
      "model_module_version": "1.5.0",
      "model_name": "LabelModel",
      "state": {
       "layout": "IPY_MODEL_ab3f79fe33914d18b2eae3cf167b5f48",
       "style": "IPY_MODEL_60ebb3a3126f4be3835ef0172d97aca6",
       "value": "Select Pool to Bond:"
      }
     },
     "5b1d33cc053b40598f035eb7373d1c0e": {
      "model_module": "@jupyter-widgets/controls",
      "model_module_version": "1.5.0",
      "model_name": "DescriptionStyleModel",
      "state": {
       "description_width": ""
      }
     },
     "5b238b1a62494860a1a2e47c65323132": {
      "model_module": "@jupyter-widgets/controls",
      "model_module_version": "1.5.0",
      "model_name": "CheckboxModel",
      "state": {
       "description": "Use Wallet Balance (72.80737)",
       "disabled": false,
       "layout": "IPY_MODEL_303361fa512e4f4c9114ea8b0656e998",
       "style": "IPY_MODEL_2f25430b7c344b7b85b24ccee63a60bc",
       "value": true
      }
     },
     "5b44384911df4eebb7195ab448da266c": {
      "model_module": "@jupyter-widgets/controls",
      "model_module_version": "1.5.0",
      "model_name": "DescriptionStyleModel",
      "state": {
       "description_width": ""
      }
     },
     "5b529a43dc8a4e28a74045cb1192a0d5": {
      "model_module": "@jupyter-widgets/controls",
      "model_module_version": "1.5.0",
      "model_name": "CheckboxModel",
      "state": {
       "description": "DAI/ALCX (3.5526)",
       "disabled": false,
       "layout": "IPY_MODEL_89fc02ef64234ccca322c30233511a80",
       "style": "IPY_MODEL_567034725afb4b6aa1b0480df4e6a140",
       "value": true
      }
     },
     "5b6a36af7191432fb51f03ced5ae4b91": {
      "model_module": "@jupyter-widgets/base",
      "model_module_version": "1.2.0",
      "model_name": "LayoutModel",
      "state": {}
     },
     "5b780366b554477f95b3404b74b89d77": {
      "model_module": "@jupyter-widgets/base",
      "model_module_version": "1.2.0",
      "model_name": "LayoutModel",
      "state": {}
     },
     "5b7f8f3639ca4c2e8b322a43c57dc22f": {
      "model_module": "@jupyter-widgets/base",
      "model_module_version": "1.2.0",
      "model_name": "LayoutModel",
      "state": {}
     },
     "5b9174ab9aba4a8fab4477e7a049dae8": {
      "model_module": "@jupyter-widgets/controls",
      "model_module_version": "1.5.0",
      "model_name": "CheckboxModel",
      "state": {
       "description": "CVX/ALCX (0.0)",
       "disabled": false,
       "layout": "IPY_MODEL_3d5a6a32908d45cb8efd1ad002db0e6a",
       "style": "IPY_MODEL_a68f48a420454038a6bbdc037637cebd",
       "value": false
      }
     },
     "5c1a95bbf6354bf6a75b005e2c0c1022": {
      "model_module": "@jupyter-widgets/controls",
      "model_module_version": "1.5.0",
      "model_name": "DescriptionStyleModel",
      "state": {
       "description_width": ""
      }
     },
     "5c5b339510504bffb34a7c524444f233": {
      "model_module": "@jupyter-widgets/controls",
      "model_module_version": "1.5.0",
      "model_name": "VBoxModel",
      "state": {
       "children": [
        "IPY_MODEL_5d108f1af1134884b2e2dcbd18087783",
        "IPY_MODEL_961ef820696b4d44a3bffcffe662bf4f",
        "IPY_MODEL_c0e0ffc9610d4a10a30a46546e2792fa",
        "IPY_MODEL_9fd1ed8242104c01b0cf6bdfbd6445e0",
        "IPY_MODEL_83ab8831462742709b9a11e3a827be8d",
        "IPY_MODEL_8789a1174681401e844fd25f62caca25",
        "IPY_MODEL_5d85dddc8f8a4a3983c41f34a4bab3f6",
        "IPY_MODEL_efe86b57499343ec94d85a06e36c9745",
        "IPY_MODEL_992c58ad7e4047b383e037dbe5949e7b",
        "IPY_MODEL_29fa707316184995ae5c146340b4fdf5",
        "IPY_MODEL_c2f8975c48dc419eb2a8332d261166da",
        "IPY_MODEL_51d7cd961ebf41189c5a72bd3274a368",
        "IPY_MODEL_4028b2b0c2b1436db01aebf2846cff01",
        "IPY_MODEL_0fbe9dd4334342ca93c62b0c4680b417"
       ],
       "layout": "IPY_MODEL_1ce9f9ea699c4334aedbb08ccb06705e"
      }
     },
     "5c5d92a267ba43c8b5895d5d9d3f05fe": {
      "model_module": "@jupyter-widgets/controls",
      "model_module_version": "1.5.0",
      "model_name": "LabelModel",
      "state": {
       "layout": "IPY_MODEL_28922d87f83440e1a9799049c1274523",
       "style": "IPY_MODEL_e2f0ade8a3e947228dfd963a88de8add",
       "value": "[Current block: 13905392]"
      }
     },
     "5c5fa68f89594fdaaa01b8880636536f": {
      "model_module": "@jupyter-widgets/base",
      "model_module_version": "1.2.0",
      "model_name": "LayoutModel",
      "state": {}
     },
     "5c71f3ababeb40e4973b5f245ae1b197": {
      "model_module": "@jupyter-widgets/controls",
      "model_module_version": "1.5.0",
      "model_name": "TextModel",
      "state": {
       "description": "Address: ",
       "layout": "IPY_MODEL_62496128da8f48cf9e9fd4fba3d1a90c",
       "style": "IPY_MODEL_e58c0b1865d248e18d88f721f4dc055e",
       "value": "0xeEEC0e4927704ab3BBE5df7F4EfFa818b43665a3"
      }
     },
     "5c72e91f3f164c888296c9b05b026f7a": {
      "model_module": "@jupyter-widgets/base",
      "model_module_version": "1.2.0",
      "model_name": "LayoutModel",
      "state": {
       "width": "425px"
      }
     },
     "5c818c29b4f84a50897790a8c84bf9d5": {
      "model_module": "@jupyter-widgets/base",
      "model_module_version": "1.2.0",
      "model_name": "LayoutModel",
      "state": {}
     },
     "5c8c5a01433e48b98bfbd56ea6bd7506": {
      "model_module": "@jupyter-widgets/base",
      "model_module_version": "1.2.0",
      "model_name": "LayoutModel",
      "state": {}
     },
     "5c9247177675458aadfd577615abb905": {
      "model_module": "@jupyter-widgets/controls",
      "model_module_version": "1.5.0",
      "model_name": "ButtonStyleModel",
      "state": {}
     },
     "5c99180c185a4e7a9492787446003a14": {
      "model_module": "@jupyter-widgets/controls",
      "model_module_version": "1.5.0",
      "model_name": "ButtonModel",
      "state": {
       "description": "Generate MultiCall Data",
       "layout": "IPY_MODEL_bc963ffc723f49fd839d6b5ab0d73a9a",
       "style": "IPY_MODEL_6a041c6d53634dc993b422a9fd29b6a8"
      }
     },
     "5cfcbbbf6f4740e4b810448ff66aad45": {
      "model_module": "@jupyter-widgets/controls",
      "model_module_version": "1.5.0",
      "model_name": "DescriptionStyleModel",
      "state": {
       "description_width": ""
      }
     },
     "5d108f1af1134884b2e2dcbd18087783": {
      "model_module": "@jupyter-widgets/controls",
      "model_module_version": "1.5.0",
      "model_name": "LabelModel",
      "state": {
       "layout": "IPY_MODEL_830edda8516e4055ac6671dc171221f9",
       "style": "IPY_MODEL_495b1855e6f8450d99fc6c3203c957eb",
       "value": "[Current block: 13905602]"
      }
     },
     "5d1a54a1909844a4a89ac67b52560698": {
      "model_module": "@jupyter-widgets/controls",
      "model_module_version": "1.5.0",
      "model_name": "DescriptionStyleModel",
      "state": {
       "description_width": ""
      }
     },
     "5d3005ccccf241359591d4a1011faa77": {
      "model_module": "@jupyter-widgets/controls",
      "model_module_version": "1.5.0",
      "model_name": "LabelModel",
      "state": {
       "layout": "IPY_MODEL_10f65659ec294aaf8993984d71779853",
       "style": "IPY_MODEL_10ce7c3984924a3685310ccd6e1450f2",
       "value": "Max Input: 5.993970118989969 WETH"
      }
     },
     "5d30c1a7daae45da9cbdc230cdac0b7a": {
      "model_module": "@jupyter-widgets/base",
      "model_module_version": "1.2.0",
      "model_name": "LayoutModel",
      "state": {}
     },
     "5d61c4176cdd42539b42495058d9e404": {
      "model_module": "@jupyter-widgets/controls",
      "model_module_version": "1.5.0",
      "model_name": "DescriptionStyleModel",
      "state": {
       "description_width": ""
      }
     },
     "5d67543980494e9690ee43c001c0fe7d": {
      "model_module": "@jupyter-widgets/base",
      "model_module_version": "1.2.0",
      "model_name": "LayoutModel",
      "state": {}
     },
     "5d70a929169a4ab18882640dc5719dbb": {
      "model_module": "@jupyter-widgets/controls",
      "model_module_version": "1.5.0",
      "model_name": "VBoxModel",
      "state": {
       "children": [
        "IPY_MODEL_fe06c220631a4dfeb7acdcf7548d7e36",
        "IPY_MODEL_7b5b1aed313a4ccdbec8f8fd7bcac609",
        "IPY_MODEL_ef149aae45784e6fae9a6e8d10043330",
        "IPY_MODEL_ac243a2deb384e8f9c6605525729d198",
        "IPY_MODEL_a2a45f75b33c4d4cacfeb0815fee41e4",
        "IPY_MODEL_be4cd8ae1a474aeba4150b20b43437b8",
        "IPY_MODEL_c16cfdf649174447ae2019a363c89ab3",
        "IPY_MODEL_3d3787dd82b54545b2ac3a2a533f348e",
        "IPY_MODEL_b53bd275c158496789324f0e8eb0790b",
        "IPY_MODEL_e8042468c1174c8c9840beac282225ad",
        "IPY_MODEL_5a3542bdd2bd4897ad22520e347ea7ae",
        "IPY_MODEL_039a5639e1274e92bd0d9a053dba6096",
        "IPY_MODEL_5d9e77d77a60456fb4cfd0831b450198",
        "IPY_MODEL_0ae93646cc4147a2b59b9cfd2223ff77"
       ],
       "layout": "IPY_MODEL_80788ac97f1142d4bc3fe036d55ea294"
      }
     },
     "5d84d3517c28476799878e8164363fcb": {
      "model_module": "@jupyter-widgets/base",
      "model_module_version": "1.2.0",
      "model_name": "LayoutModel",
      "state": {}
     },
     "5d85dddc8f8a4a3983c41f34a4bab3f6": {
      "model_module": "@jupyter-widgets/controls",
      "model_module_version": "1.5.0",
      "model_name": "LabelModel",
      "state": {
       "layout": "IPY_MODEL_50ca99da62cf441d8a26c7394bfd9603",
       "style": "IPY_MODEL_8a4e1886961f477db1e859dc01f335d7",
       "value": "Swapping 7.52248 ALCX for 0.4841329128693099 WETH"
      }
     },
     "5d9e77d77a60456fb4cfd0831b450198": {
      "model_module": "@jupyter-widgets/controls",
      "model_module_version": "1.5.0",
      "model_name": "LabelModel",
      "state": {
       "layout": "IPY_MODEL_ec78724c39104592a4ce2066bce31d56",
       "style": "IPY_MODEL_6f8507bee43f45da8d31857d1fd103b7",
       "value": "Max Payout: 96.15973854597343 ALCX"
      }
     },
     "5dc6b7be444344478ff6f070649715d7": {
      "model_module": "@jupyter-widgets/controls",
      "model_module_version": "1.5.0",
      "model_name": "LabelModel",
      "state": {
       "layout": "IPY_MODEL_3233d333280640b6967556f1e3c2194d",
       "style": "IPY_MODEL_af333b5ab84b40ac882243b77f17dee7",
       "value": "Supplying 2.7023003907455845 WETH and 41.99613 ALCX for 9.977248416500252 ALCX-ETH SLP"
      }
     },
     "5dd80a8b49884158bd92fe3d1c496b31": {
      "model_module": "@jupyter-widgets/base",
      "model_module_version": "1.2.0",
      "model_name": "LayoutModel",
      "state": {}
     },
     "5ddec74aa6af486793574e2df55e8d24": {
      "model_module": "@jupyter-widgets/controls",
      "model_module_version": "1.5.0",
      "model_name": "CheckboxModel",
      "state": {
       "description": "ALCX-ETH SLP (0.0)",
       "disabled": false,
       "layout": "IPY_MODEL_87fc86782d6a4fab9972404e61e9fe9b",
       "style": "IPY_MODEL_7615a0379b594cb0b0e52992c860231a",
       "value": false
      }
     },
     "5e1811a2c00d47eda3c94badbaf02428": {
      "model_module": "@jupyter-widgets/controls",
      "model_module_version": "1.5.0",
      "model_name": "DescriptionStyleModel",
      "state": {
       "description_width": ""
      }
     },
     "5e375f82bd9747949925f22fd28e2973": {
      "model_module": "@jupyter-widgets/controls",
      "model_module_version": "1.5.0",
      "model_name": "TextModel",
      "state": {
       "description": "Address: ",
       "layout": "IPY_MODEL_01b3ace8185a42d391a63657d208ed21",
       "style": "IPY_MODEL_330500153b7e4772b66e91278a66b94d",
       "value": "0xeEEC0e4927704ab3BBE5df7F4EfFa818b43665a3"
      }
     },
     "5e4b7f6296bf4073a8f7922f909e35bd": {
      "model_module": "@jupyter-widgets/controls",
      "model_module_version": "1.5.0",
      "model_name": "DescriptionStyleModel",
      "state": {
       "description_width": ""
      }
     },
     "5e87c842890c41ba8090f757478de031": {
      "model_module": "@jupyter-widgets/controls",
      "model_module_version": "1.5.0",
      "model_name": "DescriptionStyleModel",
      "state": {
       "description_width": ""
      }
     },
     "5e9647df84b94baa91601e41e966b412": {
      "model_module": "@jupyter-widgets/controls",
      "model_module_version": "1.5.0",
      "model_name": "CheckboxModel",
      "state": {
       "description": "WETH/ALCX (6.88911)",
       "disabled": false,
       "layout": "IPY_MODEL_72acd19def1347ca8ffb38e4fc4c8372",
       "style": "IPY_MODEL_ff5b0c8d5ef741b28304ac223c601610",
       "value": true
      }
     },
     "5e9c1719824443c7bf8cab1d7a64418d": {
      "model_module": "@jupyter-widgets/controls",
      "model_module_version": "1.5.0",
      "model_name": "CheckboxModel",
      "state": {
       "description": "Use Wallet Balance (72.80737)",
       "disabled": false,
       "layout": "IPY_MODEL_417464758f9e491b82d7e75c0b42355e",
       "style": "IPY_MODEL_1dda99a19c244947979d18cdbd10e62c",
       "value": true
      }
     },
     "5ebc854b081849709cf0dde5eaf01117": {
      "model_module": "@jupyter-widgets/controls",
      "model_module_version": "1.5.0",
      "model_name": "DescriptionStyleModel",
      "state": {
       "description_width": ""
      }
     },
     "5f105008f42c4fd78c7c45664b42912b": {
      "model_module": "@jupyter-widgets/controls",
      "model_module_version": "1.5.0",
      "model_name": "DescriptionStyleModel",
      "state": {
       "description_width": ""
      }
     },
     "5f1289271d1044feb1568ff20bcc69fd": {
      "model_module": "@jupyter-widgets/controls",
      "model_module_version": "1.5.0",
      "model_name": "LabelModel",
      "state": {
       "layout": "IPY_MODEL_22ec9f48badb41fda492b04bfdc5127d",
       "style": "IPY_MODEL_38c7d7ac86a64873939a61524e84190a"
      }
     },
     "5f157ac38b1f41a4a5f8f4bf89966d53": {
      "model_module": "@jupyter-widgets/controls",
      "model_module_version": "1.5.0",
      "model_name": "DescriptionStyleModel",
      "state": {
       "description_width": ""
      }
     },
     "5f784f1f09e442be80d886a1db533c61": {
      "model_module": "@jupyter-widgets/controls",
      "model_module_version": "1.5.0",
      "model_name": "LabelModel",
      "state": {
       "layout": "IPY_MODEL_b272f3b4f1e94ec38800a347fd9bedee",
       "style": "IPY_MODEL_78addf6fc902477d960795ecd700d522",
       "value": "Your Payout: 5.369414770881042e+18 ALCX"
      }
     },
     "5f93114dd12f483996e9e19d3ec43798": {
      "model_module": "@jupyter-widgets/base",
      "model_module_version": "1.2.0",
      "model_name": "LayoutModel",
      "state": {}
     },
     "5f94bff7be87464c97bb146460f81b04": {
      "model_module": "@jupyter-widgets/base",
      "model_module_version": "1.2.0",
      "model_name": "LayoutModel",
      "state": {}
     },
     "5f9af9cd0219407bae35390008bb8987": {
      "model_module": "@jupyter-widgets/controls",
      "model_module_version": "1.5.0",
      "model_name": "CheckboxModel",
      "state": {
       "description": "DAI/ALCX (3.64851)",
       "disabled": false,
       "layout": "IPY_MODEL_f725a4d85a884004bb2273c5e85e1182",
       "style": "IPY_MODEL_5596a16a90914cd5b6d87f475623a71a",
       "value": false
      }
     },
     "5f9f0b90e95b42efab382b247db36c4c": {
      "model_module": "@jupyter-widgets/base",
      "model_module_version": "1.2.0",
      "model_name": "LayoutModel",
      "state": {}
     },
     "5fab6e55049e416db74fae9a79d5a8e2": {
      "model_module": "@jupyter-widgets/base",
      "model_module_version": "1.2.0",
      "model_name": "LayoutModel",
      "state": {}
     },
     "5fae965da15c40c69414b9d81f1a1500": {
      "model_module": "@jupyter-widgets/controls",
      "model_module_version": "1.5.0",
      "model_name": "LabelModel",
      "state": {
       "layout": "IPY_MODEL_3d91f9547f9b4cb1b2bb9ce6399a2cfb",
       "style": "IPY_MODEL_e05ec8d1713845c385f12f1d94a83493",
       "value": "Max Payout: 96.15973854597343 ALCX"
      }
     },
     "5fc134ffa3044f87a19b73f4cae72399": {
      "model_module": "@jupyter-widgets/controls",
      "model_module_version": "1.5.0",
      "model_name": "LabelModel",
      "state": {
       "layout": "IPY_MODEL_b8629bc022724311b3b68ec825cc9120",
       "style": "IPY_MODEL_13be445b38774954b7757777c13e4b48",
       "value": "Select Pool to Bond:"
      }
     },
     "5fd5a113dc1d4cdd8c4d3d99a3cf14db": {
      "model_module": "@jupyter-widgets/controls",
      "model_module_version": "1.5.0",
      "model_name": "DescriptionStyleModel",
      "state": {
       "description_width": ""
      }
     },
     "5fdfb1234ba54c7b94f59c7a88ff63a2": {
      "model_module": "@jupyter-widgets/controls",
      "model_module_version": "1.5.0",
      "model_name": "HBoxModel",
      "state": {
       "children": [
        "IPY_MODEL_e8ac460fb6134ecc806c7640cfe1920e",
        "IPY_MODEL_e7c67d96d33d4c0884271c3f6abd3e33"
       ],
       "layout": "IPY_MODEL_c8f254b9d283465cbbbfb07445ae566e"
      }
     },
     "5febb9f73c214102996f4e05712171ef": {
      "model_module": "@jupyter-widgets/controls",
      "model_module_version": "1.5.0",
      "model_name": "DescriptionStyleModel",
      "state": {
       "description_width": ""
      }
     },
     "5fedb0ad62f4452c96ee8df64b725deb": {
      "model_module": "@jupyter-widgets/controls",
      "model_module_version": "1.5.0",
      "model_name": "DescriptionStyleModel",
      "state": {
       "description_width": ""
      }
     },
     "5ff2854593d147c9858d2b28a4bb9e3f": {
      "model_module": "@jupyter-widgets/base",
      "model_module_version": "1.2.0",
      "model_name": "LayoutModel",
      "state": {}
     },
     "6019c4139c2e41e8aee38382d71086dd": {
      "model_module": "@jupyter-widgets/controls",
      "model_module_version": "1.5.0",
      "model_name": "DescriptionStyleModel",
      "state": {
       "description_width": ""
      }
     },
     "6037b3705b2a4a54b05e4c27deac6cfc": {
      "model_module": "@jupyter-widgets/controls",
      "model_module_version": "1.5.0",
      "model_name": "DescriptionStyleModel",
      "state": {
       "description_width": ""
      }
     },
     "603890348abf4f3d9e015401db33b03e": {
      "model_module": "@jupyter-widgets/controls",
      "model_module_version": "1.5.0",
      "model_name": "CheckboxModel",
      "state": {
       "description": "WETH/ALCX (6.97193)",
       "disabled": false,
       "layout": "IPY_MODEL_e359404018944ca79ef191ac103c4c85",
       "style": "IPY_MODEL_10887ba6c30644cbaffca5a363a5314a",
       "value": true
      }
     },
     "603c6cc343ff498981a094d5f97250fc": {
      "model_module": "@jupyter-widgets/base",
      "model_module_version": "1.2.0",
      "model_name": "LayoutModel",
      "state": {}
     },
     "604a13c876b544e8ac138b055745625a": {
      "model_module": "@jupyter-widgets/base",
      "model_module_version": "1.2.0",
      "model_name": "LayoutModel",
      "state": {}
     },
     "6052a44ab8d746dc8e7cceae61d4e89a": {
      "model_module": "@jupyter-widgets/controls",
      "model_module_version": "1.5.0",
      "model_name": "ButtonStyleModel",
      "state": {}
     },
     "6064b533a4a24919b28d5b70ac7ab9d7": {
      "model_module": "@jupyter-widgets/controls",
      "model_module_version": "1.5.0",
      "model_name": "DescriptionStyleModel",
      "state": {
       "description_width": ""
      }
     },
     "607586b5a822473883a63dccf9c93aca": {
      "model_module": "@jupyter-widgets/base",
      "model_module_version": "1.2.0",
      "model_name": "LayoutModel",
      "state": {}
     },
     "60cca3ff789d457eb577ad5a96900125": {
      "model_module": "@jupyter-widgets/controls",
      "model_module_version": "1.5.0",
      "model_name": "ButtonModel",
      "state": {
       "description": "Generate MultiCall Data",
       "layout": "IPY_MODEL_e279c6ec243d4a09a8917e4fe210647d",
       "style": "IPY_MODEL_cb5a6a45bb1b411ab095438b85454ceb"
      }
     },
     "60e9d38afe744cb1b6fa9910a5323080": {
      "model_module": "@jupyter-widgets/base",
      "model_module_version": "1.2.0",
      "model_name": "LayoutModel",
      "state": {}
     },
     "60ebb3a3126f4be3835ef0172d97aca6": {
      "model_module": "@jupyter-widgets/controls",
      "model_module_version": "1.5.0",
      "model_name": "DescriptionStyleModel",
      "state": {
       "description_width": ""
      }
     },
     "60fe78b5594e4cee84d19f25f606aa1c": {
      "model_module": "@jupyter-widgets/base",
      "model_module_version": "1.2.0",
      "model_name": "LayoutModel",
      "state": {}
     },
     "6102a4ee8df549d2b41992d59a350a58": {
      "model_module": "@jupyter-widgets/controls",
      "model_module_version": "1.5.0",
      "model_name": "LabelModel",
      "state": {
       "layout": "IPY_MODEL_c0d80663e1464a6881c78953824eb4e3",
       "style": "IPY_MODEL_980efa5b866644638d19edf902e34ca1",
       "value": "Swapping 41.99613 ALCX for 2.7023003907455845 WETH"
      }
     },
     "6112f16dde8f45f2a67b92bd2910da75": {
      "model_module": "@jupyter-widgets/controls",
      "model_module_version": "1.5.0",
      "model_name": "DescriptionStyleModel",
      "state": {
       "description_width": ""
      }
     },
     "61549d1c5f0f49bf81bf066d37f815d8": {
      "model_module": "@jupyter-widgets/controls",
      "model_module_version": "1.5.0",
      "model_name": "LabelModel",
      "state": {
       "layout": "IPY_MODEL_a54f9747fc2747a283cdab38dafe540a",
       "style": "IPY_MODEL_267261d9a2b44794aa5fe26831135dfc",
       "value": "Select Pool to Bond:"
      }
     },
     "61776eb8eabb454091d850ac2b6ecc76": {
      "model_module": "@jupyter-widgets/controls",
      "model_module_version": "1.5.0",
      "model_name": "DropdownModel",
      "state": {
       "_options_labels": [
        "WETH/ALCX",
        "DAI/ALCX",
        "CVX/ALCX",
        "ALCX-ETH SLP"
       ],
       "index": 0,
       "layout": "IPY_MODEL_16c797f1210b47ac943260fec674c48c",
       "style": "IPY_MODEL_0150e54df3214755bbe726d91c2687a6"
      }
     },
     "617d8d6d5a464b8f9d841ea946803a24": {
      "model_module": "@jupyter-widgets/controls",
      "model_module_version": "1.5.0",
      "model_name": "DescriptionStyleModel",
      "state": {
       "description_width": ""
      }
     },
     "61829d2ba0824d8e80171de494b7befb": {
      "model_module": "@jupyter-widgets/controls",
      "model_module_version": "1.5.0",
      "model_name": "LabelModel",
      "state": {
       "layout": "IPY_MODEL_cec19b1728bb49588c65e98e1ed1b22f",
       "style": "IPY_MODEL_4d85acedd16b4d01a3549026a3c1ce43",
       "value": "[Current block: 13905506]"
      }
     },
     "61b75586f44747a6a019496d138525e9": {
      "model_module": "@jupyter-widgets/controls",
      "model_module_version": "1.5.0",
      "model_name": "ButtonModel",
      "state": {
       "description": "Generate MultiCall Data",
       "layout": "IPY_MODEL_084e93817c224b849a8c98f709c2f8bd",
       "style": "IPY_MODEL_93b6c8b75f8d4f15acf707a8dbae5f5e"
      }
     },
     "61c98aa1cded4e92a1c9edf929009f93": {
      "model_module": "@jupyter-widgets/controls",
      "model_module_version": "1.5.0",
      "model_name": "DescriptionStyleModel",
      "state": {
       "description_width": ""
      }
     },
     "61ce55804c174619bf71b2e00319fb50": {
      "model_module": "@jupyter-widgets/controls",
      "model_module_version": "1.5.0",
      "model_name": "DescriptionStyleModel",
      "state": {
       "description_width": ""
      }
     },
     "620f6d966c9a4d8999c61886729ca09b": {
      "model_module": "@jupyter-widgets/controls",
      "model_module_version": "1.5.0",
      "model_name": "TextModel",
      "state": {
       "description": "Address: ",
       "layout": "IPY_MODEL_7dfee500a49a4cde87df063c3c8749be",
       "style": "IPY_MODEL_e985abd671c243d697c8dd478057d599",
       "value": "0xeEEC0e4927704ab3BBE5df7F4EfFa818b43665a3"
      }
     },
     "6235cbc5994340eb8c855c9dd64b6c16": {
      "model_module": "@jupyter-widgets/controls",
      "model_module_version": "1.5.0",
      "model_name": "LabelModel",
      "state": {
       "layout": "IPY_MODEL_b4ba661b92614d8aa29e87e822ae1483",
       "style": "IPY_MODEL_b967d2f250a74ca6a9e11a7364bdfb4c",
       "value": "Max Input: 5.987641238238729 WETH"
      }
     },
     "62397a6818634b2b944c236bcbdc10a0": {
      "model_module": "@jupyter-widgets/controls",
      "model_module_version": "1.5.0",
      "model_name": "DescriptionStyleModel",
      "state": {
       "description_width": ""
      }
     },
     "62496128da8f48cf9e9fd4fba3d1a90c": {
      "model_module": "@jupyter-widgets/base",
      "model_module_version": "1.2.0",
      "model_name": "LayoutModel",
      "state": {
       "width": "425px"
      }
     },
     "625c9e3e41d243d5bab5cbcc32542160": {
      "model_module": "@jupyter-widgets/controls",
      "model_module_version": "1.5.0",
      "model_name": "LabelModel",
      "state": {
       "layout": "IPY_MODEL_904abd89703f4da18265b91cc8e87162",
       "style": "IPY_MODEL_78222215f0c44234af8910bbf0c2ce92",
       "value": "Max Input: 5.959138360215981 WETH"
      }
     },
     "6268260a3a8a4984adf6356e75a3458a": {
      "model_module": "@jupyter-widgets/base",
      "model_module_version": "1.2.0",
      "model_name": "LayoutModel",
      "state": {}
     },
     "62d968d6c62a41468b3c03662514a713": {
      "model_module": "@jupyter-widgets/base",
      "model_module_version": "1.2.0",
      "model_name": "LayoutModel",
      "state": {}
     },
     "62da3f3526b54a278107fb31c08a78a0": {
      "model_module": "@jupyter-widgets/controls",
      "model_module_version": "1.5.0",
      "model_name": "CheckboxModel",
      "state": {
       "description": "CVX/ALCX (0.0)",
       "disabled": false,
       "layout": "IPY_MODEL_112794ba283244b6b281f54020f567e2",
       "style": "IPY_MODEL_b705b3ba5ffd41e397a424485d37c3f6",
       "value": false
      }
     },
     "62e502b47d8c444ca2d9af75b947d7a6": {
      "model_module": "@jupyter-widgets/controls",
      "model_module_version": "1.5.0",
      "model_name": "DescriptionStyleModel",
      "state": {
       "description_width": ""
      }
     },
     "6313aeb51a9642c8b795d7bfee16b6f0": {
      "model_module": "@jupyter-widgets/base",
      "model_module_version": "1.2.0",
      "model_name": "LayoutModel",
      "state": {}
     },
     "63174c86a3564f1dbb2d5cf9737378ac": {
      "model_module": "@jupyter-widgets/controls",
      "model_module_version": "1.5.0",
      "model_name": "DropdownModel",
      "state": {
       "_options_labels": [
        "WETH/ALCX",
        "DAI/ALCX",
        "CVX/ALCX",
        "ALCX-ETH SLP"
       ],
       "index": 0,
       "layout": "IPY_MODEL_cf46c21deb2c4c11b07be8db2cdc479e",
       "style": "IPY_MODEL_9fabcf29c4e34b138597922a5ba15fe7"
      }
     },
     "633c3ce078ff426d846d36d70d15bf24": {
      "model_module": "@jupyter-widgets/controls",
      "model_module_version": "1.5.0",
      "model_name": "DescriptionStyleModel",
      "state": {
       "description_width": ""
      }
     },
     "6371f9a21f7446aab54e903781e43729": {
      "model_module": "@jupyter-widgets/controls",
      "model_module_version": "1.5.0",
      "model_name": "DescriptionStyleModel",
      "state": {
       "description_width": ""
      }
     },
     "63738034b76c4e8c9ff4887a3e9ed76b": {
      "model_module": "@jupyter-widgets/controls",
      "model_module_version": "1.5.0",
      "model_name": "ButtonStyleModel",
      "state": {}
     },
     "6387362215b74580944a8788bf0a72e7": {
      "model_module": "@jupyter-widgets/controls",
      "model_module_version": "1.5.0",
      "model_name": "HBoxModel",
      "state": {
       "children": [
        "IPY_MODEL_640cee4fb9904fb78679761ebaa56a88",
        "IPY_MODEL_f437694e31d34e639f1adb46932da1bb"
       ],
       "layout": "IPY_MODEL_f98bb2e7adb34c849e015fbdf8fe2e19"
      }
     },
     "6389786827c1472fbdbf2c941decf889": {
      "model_module": "@jupyter-widgets/controls",
      "model_module_version": "1.5.0",
      "model_name": "DescriptionStyleModel",
      "state": {
       "description_width": ""
      }
     },
     "638b321435754f04abc8165b514db37e": {
      "model_module": "@jupyter-widgets/base",
      "model_module_version": "1.2.0",
      "model_name": "LayoutModel",
      "state": {
       "width": "200px"
      }
     },
     "63ac906c49a147b581725ae90f5603a2": {
      "model_module": "@jupyter-widgets/controls",
      "model_module_version": "1.5.0",
      "model_name": "DescriptionStyleModel",
      "state": {
       "description_width": ""
      }
     },
     "63bcc648fc954ce0855754cfbbc94778": {
      "model_module": "@jupyter-widgets/controls",
      "model_module_version": "1.5.0",
      "model_name": "DescriptionStyleModel",
      "state": {
       "description_width": ""
      }
     },
     "63f556f5f9d94beda08321b29189a61a": {
      "model_module": "@jupyter-widgets/base",
      "model_module_version": "1.2.0",
      "model_name": "LayoutModel",
      "state": {
       "width": "425px"
      }
     },
     "640cee4fb9904fb78679761ebaa56a88": {
      "model_module": "@jupyter-widgets/controls",
      "model_module_version": "1.5.0",
      "model_name": "CheckboxModel",
      "state": {
       "description": "CVX/ALCX (0.0)",
       "disabled": false,
       "layout": "IPY_MODEL_0b1b9d685ea94668958584c874811df9",
       "style": "IPY_MODEL_a1f82714cae04cfc9b7ad075f72d0465",
       "value": false
      }
     },
     "640d8b0842914a1e8916b8d9b734e426": {
      "model_module": "@jupyter-widgets/controls",
      "model_module_version": "1.5.0",
      "model_name": "DescriptionStyleModel",
      "state": {
       "description_width": ""
      }
     },
     "641419c62c584565ace0333f33fbf585": {
      "model_module": "@jupyter-widgets/controls",
      "model_module_version": "1.5.0",
      "model_name": "DescriptionStyleModel",
      "state": {
       "description_width": ""
      }
     },
     "642ced75d4524d038065b80d76076c68": {
      "model_module": "@jupyter-widgets/controls",
      "model_module_version": "1.5.0",
      "model_name": "CheckboxModel",
      "state": {
       "description": "ALCX-ETH SLP (0.0)",
       "disabled": false,
       "layout": "IPY_MODEL_24de50eaff514801a5b652b5b11eb5a0",
       "style": "IPY_MODEL_40306cfad13a4cb09a48471d611e1632",
       "value": false
      }
     },
     "64306504d5c44ef8bf8c20bb70daf8a6": {
      "model_module": "@jupyter-widgets/controls",
      "model_module_version": "1.5.0",
      "model_name": "HBoxModel",
      "state": {
       "children": [
        "IPY_MODEL_02cd092042684a56a34486161d7ca48f",
        "IPY_MODEL_e0d309dc0e9f47fa8a64571cb857d11c"
       ],
       "layout": "IPY_MODEL_b7a8978917e64ed4833cddc1e4f67333"
      }
     },
     "647530f5c2fa42c3aedb1215dea50df0": {
      "model_module": "@jupyter-widgets/controls",
      "model_module_version": "1.5.0",
      "model_name": "LabelModel",
      "state": {
       "layout": "IPY_MODEL_59edf0bc95194150946f9802e51b846b",
       "style": "IPY_MODEL_d5eeba9e2c984e2ea27292ee76e318f7",
       "value": "Select Assets to Claim:"
      }
     },
     "64777ad7689040a09062438a2444f107": {
      "model_module": "@jupyter-widgets/controls",
      "model_module_version": "1.5.0",
      "model_name": "LabelModel",
      "state": {
       "layout": "IPY_MODEL_c5f0efb8c16b49d2b84505793b112ec9",
       "style": "IPY_MODEL_e1f594168a364f0f9d3f9b26397412c5",
       "value": "You Will Get: 82.86920511163723 ALCX"
      }
     },
     "648f707a81fd45eeb2ccc2ea889dc151": {
      "model_module": "@jupyter-widgets/controls",
      "model_module_version": "1.5.0",
      "model_name": "LabelModel",
      "state": {
       "layout": "IPY_MODEL_e0acf866fe5e4543b301aa2be2214528",
       "style": "IPY_MODEL_ad3c2a3c2d1740abae354c2f18a1cf55",
       "value": "Select Assets to Claim:"
      }
     },
     "64cfc778d08049159816949565b12edb": {
      "model_module": "@jupyter-widgets/base",
      "model_module_version": "1.2.0",
      "model_name": "LayoutModel",
      "state": {}
     },
     "64d0e4f8a5d642969fa700ff10123a01": {
      "model_module": "@jupyter-widgets/base",
      "model_module_version": "1.2.0",
      "model_name": "LayoutModel",
      "state": {}
     },
     "65032dcdab8042c1a76b7c905079c8ca": {
      "model_module": "@jupyter-widgets/base",
      "model_module_version": "1.2.0",
      "model_name": "LayoutModel",
      "state": {
       "width": "425px"
      }
     },
     "65351a8eb02949879e63349fdf8c4d8e": {
      "model_module": "@jupyter-widgets/controls",
      "model_module_version": "1.5.0",
      "model_name": "LabelModel",
      "state": {
       "layout": "IPY_MODEL_ae8459bcc69042759f03d45d22846435",
       "style": "IPY_MODEL_188b3388862247b6b915e6aac9e18e31",
       "value": "Your Payout: 0 WETH"
      }
     },
     "6549b04e87d5426eab18a0e425e4de5a": {
      "model_module": "@jupyter-widgets/base",
      "model_module_version": "1.2.0",
      "model_name": "LayoutModel",
      "state": {}
     },
     "654a58f9c9774c849b51050cea3dc8c9": {
      "model_module": "@jupyter-widgets/controls",
      "model_module_version": "1.5.0",
      "model_name": "LabelModel",
      "state": {
       "layout": "IPY_MODEL_e995866af27f42e08cc4cf656c104a25",
       "style": "IPY_MODEL_cb64aef0921041f4b4e35402cd194ccd",
       "value": "[Current block: 13905487]"
      }
     },
     "6574dec24e814dc5a39befb0f080e965": {
      "model_module": "@jupyter-widgets/controls",
      "model_module_version": "1.5.0",
      "model_name": "DescriptionStyleModel",
      "state": {
       "description_width": ""
      }
     },
     "658a82e9e1494fea8b04a6bd6094a5f8": {
      "model_module": "@jupyter-widgets/base",
      "model_module_version": "1.2.0",
      "model_name": "LayoutModel",
      "state": {}
     },
     "658e667e6e01452489768111ffee2497": {
      "model_module": "@jupyter-widgets/controls",
      "model_module_version": "1.5.0",
      "model_name": "LabelModel",
      "state": {
       "layout": "IPY_MODEL_2924d07083c8467d82544c090ccd79bf",
       "style": "IPY_MODEL_0c72e07cae744a0f9faf09ab868737a2",
       "value": "Select Pool to Bond:"
      }
     },
     "65950be6495849c98758e31a5a596fa7": {
      "model_module": "@jupyter-widgets/controls",
      "model_module_version": "1.5.0",
      "model_name": "LabelModel",
      "state": {
       "layout": "IPY_MODEL_b04372292f424d1ab4e5414b6c9403c2",
       "style": "IPY_MODEL_1145a0f611224ccfb1eecdb2724a9088",
       "value": "Select Pool to Bond:"
      }
     },
     "659f7e49cb54471184a5adeda1bffa19": {
      "model_module": "@jupyter-widgets/base",
      "model_module_version": "1.2.0",
      "model_name": "LayoutModel",
      "state": {}
     },
     "65adc74ca99147b691edc409553fe1fb": {
      "model_module": "@jupyter-widgets/base",
      "model_module_version": "1.2.0",
      "model_name": "LayoutModel",
      "state": {}
     },
     "65bfb8cda7644e278048ea10ea4958ce": {
      "model_module": "@jupyter-widgets/controls",
      "model_module_version": "1.5.0",
      "model_name": "DescriptionStyleModel",
      "state": {
       "description_width": ""
      }
     },
     "65ff1348dc7949ae83ca7cb24ee778e2": {
      "model_module": "@jupyter-widgets/base",
      "model_module_version": "1.2.0",
      "model_name": "LayoutModel",
      "state": {}
     },
     "663e884a67f84ac39d2f3f27cb3197db": {
      "model_module": "@jupyter-widgets/controls",
      "model_module_version": "1.5.0",
      "model_name": "TextModel",
      "state": {
       "description": "Address: ",
       "layout": "IPY_MODEL_5c72e91f3f164c888296c9b05b026f7a",
       "style": "IPY_MODEL_5533310119a44d2a87cf1ac137edc7ca",
       "value": "0xeEEC0e4927704ab3BBE5df7F4EfFa818b43665a3"
      }
     },
     "66429531378b46c09a738ff9213b6a5c": {
      "model_module": "@jupyter-widgets/base",
      "model_module_version": "1.2.0",
      "model_name": "LayoutModel",
      "state": {}
     },
     "667b802af812427d941919c754e1d651": {
      "model_module": "@jupyter-widgets/controls",
      "model_module_version": "1.5.0",
      "model_name": "TextModel",
      "state": {
       "description": "Address: ",
       "layout": "IPY_MODEL_1192832a077046d2b0a93db5c58523d2",
       "style": "IPY_MODEL_85377b0cfa0746bd946f12e8150e0925",
       "value": "0xeEEC0e4927704ab3BBE5df7F4EfFa818b43665a3"
      }
     },
     "668fb4bb44c445fa857427c3f56faa30": {
      "model_module": "@jupyter-widgets/controls",
      "model_module_version": "1.5.0",
      "model_name": "DescriptionStyleModel",
      "state": {
       "description_width": ""
      }
     },
     "669503e1233d40b5a9712116ac8d24cb": {
      "model_module": "@jupyter-widgets/base",
      "model_module_version": "1.2.0",
      "model_name": "LayoutModel",
      "state": {}
     },
     "66b9cfb524f44283b5d141af59c26ba7": {
      "model_module": "@jupyter-widgets/controls",
      "model_module_version": "1.5.0",
      "model_name": "LabelModel",
      "state": {
       "layout": "IPY_MODEL_33996d87e809462baf4598be142542b7",
       "style": "IPY_MODEL_c11d1a6a21564268948b4e4acb66b46b",
       "value": "Select Pool to Bond:"
      }
     },
     "66c269022b044477bef5c58713a0ce47": {
      "model_module": "@jupyter-widgets/controls",
      "model_module_version": "1.5.0",
      "model_name": "ButtonModel",
      "state": {
       "description": "Generate MultiCall Data",
       "layout": "IPY_MODEL_5a730ae65d7d4b0ea13b75dcc00d16cb",
       "style": "IPY_MODEL_8bea8868c59b47cb99a3fd0e661b80a3"
      }
     },
     "66d0262176d14b9eb731a0dc1f6e7cc1": {
      "model_module": "@jupyter-widgets/controls",
      "model_module_version": "1.5.0",
      "model_name": "HBoxModel",
      "state": {
       "children": [
        "IPY_MODEL_86583e81c4f34497bd3283f944eaaeb0",
        "IPY_MODEL_819c5ee540d74af3a0b154e706306d04"
       ],
       "layout": "IPY_MODEL_8c460baf8b714ea3b43626406216de7b"
      }
     },
     "66dc53b5a3b44266a32d52fc8a3820c5": {
      "model_module": "@jupyter-widgets/base",
      "model_module_version": "1.2.0",
      "model_name": "LayoutModel",
      "state": {}
     },
     "66ff3758db7348cc91d98112360c4506": {
      "model_module": "@jupyter-widgets/controls",
      "model_module_version": "1.5.0",
      "model_name": "DescriptionStyleModel",
      "state": {
       "description_width": ""
      }
     },
     "670a93b2b0b149e98146037ce6973ab6": {
      "model_module": "@jupyter-widgets/controls",
      "model_module_version": "1.5.0",
      "model_name": "ButtonModel",
      "state": {
       "description": "Generate MultiCall Data",
       "layout": "IPY_MODEL_4034b5478de7403caba4b5dbe5c02604",
       "style": "IPY_MODEL_a1463a59275349ea821a2e4390647caf"
      }
     },
     "673099bf605840ec9667d96e08536b00": {
      "model_module": "@jupyter-widgets/base",
      "model_module_version": "1.2.0",
      "model_name": "LayoutModel",
      "state": {
       "width": "200px"
      }
     },
     "67354bd803e143e18097d7e0f80c0363": {
      "model_module": "@jupyter-widgets/controls",
      "model_module_version": "1.5.0",
      "model_name": "CheckboxModel",
      "state": {
       "description": "WETH/ALCX (7.40555)",
       "disabled": false,
       "layout": "IPY_MODEL_57d476d673a745f6bad817322cdb5f42",
       "style": "IPY_MODEL_d36688b0f2b243379014cd1444f06264",
       "value": true
      }
     },
     "6736be3b07634e188a93bb19ba72fb06": {
      "model_module": "@jupyter-widgets/controls",
      "model_module_version": "1.5.0",
      "model_name": "DescriptionStyleModel",
      "state": {
       "description_width": ""
      }
     },
     "675bcc0218594399b48424eeaec25913": {
      "model_module": "@jupyter-widgets/controls",
      "model_module_version": "1.5.0",
      "model_name": "HBoxModel",
      "state": {
       "children": [
        "IPY_MODEL_52598b3df9e543f997970edac33ff0d2",
        "IPY_MODEL_75306c6cd925480288cbabe22dfb96b7"
       ],
       "layout": "IPY_MODEL_2b1a78503ed546c0ac6b9e8fe75c9167"
      }
     },
     "676b0c94566b459baa6da3b471b7de31": {
      "model_module": "@jupyter-widgets/controls",
      "model_module_version": "1.5.0",
      "model_name": "DescriptionStyleModel",
      "state": {
       "description_width": ""
      }
     },
     "677043f017504533a871c597caad795c": {
      "model_module": "@jupyter-widgets/controls",
      "model_module_version": "1.5.0",
      "model_name": "LabelModel",
      "state": {
       "layout": "IPY_MODEL_a44cc904b0b640c79075d676204f5873",
       "style": "IPY_MODEL_68ae29be595d410d96d6624c7d89f8fe",
       "value": "Your Payout: 5.9905849037044225 WETH"
      }
     },
     "67733fba98fb43fab1776fe3e1afbb0d": {
      "model_module": "@jupyter-widgets/controls",
      "model_module_version": "1.5.0",
      "model_name": "DescriptionStyleModel",
      "state": {
       "description_width": ""
      }
     },
     "67913fa68d78461e93ce04880a02e1b8": {
      "model_module": "@jupyter-widgets/base",
      "model_module_version": "1.2.0",
      "model_name": "LayoutModel",
      "state": {}
     },
     "67c5512b0b59485c8e4e6bc0878baaea": {
      "model_module": "@jupyter-widgets/controls",
      "model_module_version": "1.5.0",
      "model_name": "DescriptionStyleModel",
      "state": {
       "description_width": ""
      }
     },
     "67d25df35b4348c0a25359edcd92f88d": {
      "model_module": "@jupyter-widgets/controls",
      "model_module_version": "1.5.0",
      "model_name": "CheckboxModel",
      "state": {
       "description": "CVX/ALCX (0.0)",
       "disabled": false,
       "layout": "IPY_MODEL_f9691d17da4f47b9b1bbbae34eef4aad",
       "style": "IPY_MODEL_fb289a8137b2461b8ed97efe3563f7bc",
       "value": false
      }
     },
     "67d736435a6c487ab82c4969df113f99": {
      "model_module": "@jupyter-widgets/controls",
      "model_module_version": "1.5.0",
      "model_name": "ButtonModel",
      "state": {
       "description": "Generate MultiCall Data",
       "layout": "IPY_MODEL_1162a862ae284a308ef4811dca1c5a1d",
       "style": "IPY_MODEL_7a2282f95b6542c1bbe3b7e11ef58176"
      }
     },
     "6801ebe27aca4db0a8e55a009d8d3197": {
      "model_module": "@jupyter-widgets/base",
      "model_module_version": "1.2.0",
      "model_name": "LayoutModel",
      "state": {}
     },
     "681404c884a74089b3c01c65b905a4fe": {
      "model_module": "@jupyter-widgets/controls",
      "model_module_version": "1.5.0",
      "model_name": "CheckboxModel",
      "state": {
       "description": "DAI/ALCX (3.54009)",
       "disabled": false,
       "layout": "IPY_MODEL_e6f8da8e9406493dbdc39f320c45b620",
       "style": "IPY_MODEL_b8a6f962315f42c0abadc05a7ae8959f",
       "value": true
      }
     },
     "6821602ba6d64c84820a2d151b787070": {
      "model_module": "@jupyter-widgets/base",
      "model_module_version": "1.2.0",
      "model_name": "LayoutModel",
      "state": {}
     },
     "6834d94dcd124e05b6ddd9710ec09128": {
      "model_module": "@jupyter-widgets/controls",
      "model_module_version": "1.5.0",
      "model_name": "DescriptionStyleModel",
      "state": {
       "description_width": ""
      }
     },
     "683de60967c54b86a25e327bf0f17389": {
      "model_module": "@jupyter-widgets/base",
      "model_module_version": "1.2.0",
      "model_name": "LayoutModel",
      "state": {}
     },
     "684783c5f28b409baa467958bf8ebc67": {
      "model_module": "@jupyter-widgets/controls",
      "model_module_version": "1.5.0",
      "model_name": "DescriptionStyleModel",
      "state": {
       "description_width": ""
      }
     },
     "68480777a1764f0ca4103e57e92720ea": {
      "model_module": "@jupyter-widgets/controls",
      "model_module_version": "1.5.0",
      "model_name": "DescriptionStyleModel",
      "state": {
       "description_width": ""
      }
     },
     "684e48266cfa4723bf6b93625221180a": {
      "model_module": "@jupyter-widgets/controls",
      "model_module_version": "1.5.0",
      "model_name": "HBoxModel",
      "state": {
       "children": [
        "IPY_MODEL_24e9d91fea394ac684b4cf1c5a4cd966",
        "IPY_MODEL_0fb202c36eab454497d7cc01a9a4ea95"
       ],
       "layout": "IPY_MODEL_2b8e0e6758e5426c9035c72e2bafc9b5"
      }
     },
     "68684a13606d41b791c5fc31b994fcd5": {
      "model_module": "@jupyter-widgets/controls",
      "model_module_version": "1.5.0",
      "model_name": "DescriptionStyleModel",
      "state": {
       "description_width": ""
      }
     },
     "686a5e353161476996971568d2f6e9f9": {
      "model_module": "@jupyter-widgets/controls",
      "model_module_version": "1.5.0",
      "model_name": "DescriptionStyleModel",
      "state": {
       "description_width": ""
      }
     },
     "686abe2ce663497aab3a9e71c5627702": {
      "model_module": "@jupyter-widgets/base",
      "model_module_version": "1.2.0",
      "model_name": "LayoutModel",
      "state": {}
     },
     "6881f66747af450ab6fa6519d0ec4a08": {
      "model_module": "@jupyter-widgets/base",
      "model_module_version": "1.2.0",
      "model_name": "LayoutModel",
      "state": {}
     },
     "689c0fbe6383446e8a41f24287f6c2b8": {
      "model_module": "@jupyter-widgets/base",
      "model_module_version": "1.2.0",
      "model_name": "LayoutModel",
      "state": {}
     },
     "68ae29be595d410d96d6624c7d89f8fe": {
      "model_module": "@jupyter-widgets/controls",
      "model_module_version": "1.5.0",
      "model_name": "DescriptionStyleModel",
      "state": {
       "description_width": ""
      }
     },
     "68d2f93a052746d6ab41d215548428a8": {
      "model_module": "@jupyter-widgets/controls",
      "model_module_version": "1.5.0",
      "model_name": "VBoxModel",
      "state": {
       "children": [
        "IPY_MODEL_bee7305f43de4163a4973d0a49ae893f",
        "IPY_MODEL_b1d4258cdc604c06a0e142645cad8c54",
        "IPY_MODEL_a307780ac71344369bc401f3ef2f1f37",
        "IPY_MODEL_1eac8b4f5bd047daa8ee9019a2caf3bf",
        "IPY_MODEL_bf7ff1b09d8f45768b3021146d27eed0",
        "IPY_MODEL_0dea78867ef74d3eb8703293c4355571",
        "IPY_MODEL_ce961a2d58c14b97bd820d73d4cdf72e",
        "IPY_MODEL_faf9780fc14942a2923cc4b7d21b9cb7",
        "IPY_MODEL_559e6ecb1877487493eaf318862eb641",
        "IPY_MODEL_958bf8c6f64a4dc38070c02f18ce08fb",
        "IPY_MODEL_e45ce2c984d849918ebf56c96a113638",
        "IPY_MODEL_d8eb11b866634ea49fccfee1cef8726c",
        "IPY_MODEL_0cd08d02c2894bc7a3d0861b27671885",
        "IPY_MODEL_202c8294390b41ecafa9bef191c3f31d"
       ],
       "layout": "IPY_MODEL_1493ed43f08149f5a44f1bebbbd7b0f3"
      }
     },
     "690c6ce3d46e4918979ab4e4d16659fc": {
      "model_module": "@jupyter-widgets/controls",
      "model_module_version": "1.5.0",
      "model_name": "LabelModel",
      "state": {
       "layout": "IPY_MODEL_d348dddebe8e4329883970551191d232",
       "style": "IPY_MODEL_5878093e08b24d6fa06ca0e6beeb744e",
       "value": "Swapping 83.90878 ALCX for 455.4181389702989 CVX"
      }
     },
     "692405f1e93f48de81cb63c3978fa6a2": {
      "model_module": "@jupyter-widgets/base",
      "model_module_version": "1.2.0",
      "model_name": "LayoutModel",
      "state": {}
     },
     "6949caba92fe471dbabd76dc74141a90": {
      "model_module": "@jupyter-widgets/base",
      "model_module_version": "1.2.0",
      "model_name": "LayoutModel",
      "state": {}
     },
     "696bc84bf01243858139b66f94ae9a5b": {
      "model_module": "@jupyter-widgets/base",
      "model_module_version": "1.2.0",
      "model_name": "LayoutModel",
      "state": {}
     },
     "69a4184144914ebe8675d2ac35316771": {
      "model_module": "@jupyter-widgets/base",
      "model_module_version": "1.2.0",
      "model_name": "LayoutModel",
      "state": {}
     },
     "69a745710a3a4d88bda527d083490619": {
      "model_module": "@jupyter-widgets/controls",
      "model_module_version": "1.5.0",
      "model_name": "DescriptionStyleModel",
      "state": {
       "description_width": ""
      }
     },
     "69ac4d56368d465ab50c45b3737dab8e": {
      "model_module": "@jupyter-widgets/controls",
      "model_module_version": "1.5.0",
      "model_name": "DescriptionStyleModel",
      "state": {
       "description_width": ""
      }
     },
     "69b09f181b434ad5bf2599e329a323ea": {
      "model_module": "@jupyter-widgets/controls",
      "model_module_version": "1.5.0",
      "model_name": "CheckboxModel",
      "state": {
       "description": "ALCX-ETH SLP (0.0)",
       "disabled": false,
       "layout": "IPY_MODEL_d7b0cba60ba44163b7b006618f62e2f1",
       "style": "IPY_MODEL_5fd5a113dc1d4cdd8c4d3d99a3cf14db",
       "value": false
      }
     },
     "69e38e40b1a34c86a0278fa5e6c353df": {
      "model_module": "@jupyter-widgets/controls",
      "model_module_version": "1.5.0",
      "model_name": "DescriptionStyleModel",
      "state": {
       "description_width": ""
      }
     },
     "69e46bdf237140ddad33082d7dd67d31": {
      "model_module": "@jupyter-widgets/base",
      "model_module_version": "1.2.0",
      "model_name": "LayoutModel",
      "state": {
       "width": "425px"
      }
     },
     "69e54dbf24e1424fb7a7f34356dbe07c": {
      "model_module": "@jupyter-widgets/controls",
      "model_module_version": "1.5.0",
      "model_name": "VBoxModel",
      "state": {
       "children": [
        "IPY_MODEL_08a72e71ed3545d9a9313434e9f8fbeb",
        "IPY_MODEL_ee4b2c1778134b62ba7a32db5dbfed02",
        "IPY_MODEL_ee3f7777f29c48318f6541cc9affa8df",
        "IPY_MODEL_fc85232c958d4838ac5d0d69be089591",
        "IPY_MODEL_5890d3ece7794a82a1ab83692dbc6dbb",
        "IPY_MODEL_460dab82a6c049509c89388124ccb008",
        "IPY_MODEL_038f8d4ed3dd45d49224731d255f8d13",
        "IPY_MODEL_8662edbf836d454daed8665e53e530e6",
        "IPY_MODEL_1409e30e781140eea951f7b007d0c1a7",
        "IPY_MODEL_a1464a67ec7f449389824d4b1128fdbe",
        "IPY_MODEL_221187b06c854b08a1fe010a686ccb41",
        "IPY_MODEL_3764cee8debe4b5c81bfab2a76af2c42",
        "IPY_MODEL_9f479e74dec24928bd0072f0ae7a9e3e",
        "IPY_MODEL_3e619909ec304317bea45031be9beba4"
       ],
       "layout": "IPY_MODEL_e89bbbe6d13f494c9e4623f696cad655"
      }
     },
     "6a041c6d53634dc993b422a9fd29b6a8": {
      "model_module": "@jupyter-widgets/controls",
      "model_module_version": "1.5.0",
      "model_name": "ButtonStyleModel",
      "state": {}
     },
     "6a08663a677245588afcc7c330b931dc": {
      "model_module": "@jupyter-widgets/base",
      "model_module_version": "1.2.0",
      "model_name": "LayoutModel",
      "state": {}
     },
     "6a14d7dff76e455b963974a59405b905": {
      "model_module": "@jupyter-widgets/base",
      "model_module_version": "1.2.0",
      "model_name": "LayoutModel",
      "state": {}
     },
     "6a1e801d7a224ec0b005dc0430fa048e": {
      "model_module": "@jupyter-widgets/controls",
      "model_module_version": "1.5.0",
      "model_name": "LabelModel",
      "state": {
       "layout": "IPY_MODEL_34b86cd88323419c8c116b1d0cb54aca",
       "style": "IPY_MODEL_94328287439f40cdbcab3cb36336e073",
       "value": "Your Payout: 0 WETH"
      }
     },
     "6a22d8ab59a447308e31aec30db83764": {
      "model_module": "@jupyter-widgets/controls",
      "model_module_version": "1.5.0",
      "model_name": "CheckboxModel",
      "state": {
       "description": "ALCX-ETH SLP (0.0)",
       "disabled": false,
       "layout": "IPY_MODEL_bbd4d29e0b8d463f894136343465a48f",
       "style": "IPY_MODEL_d4a03f2f4695448ea2827d9a426027da",
       "value": false
      }
     },
     "6a249d6695494d37a2404d69ea4f6065": {
      "model_module": "@jupyter-widgets/controls",
      "model_module_version": "1.5.0",
      "model_name": "LabelModel",
      "state": {
       "layout": "IPY_MODEL_e88fa945b4a34d968104cd33807640b2",
       "style": "IPY_MODEL_c466b96e6f444ed18a8a41ecbb78c945",
       "value": "Max Payout: 96.15973854597343 ALCX"
      }
     },
     "6a5864fcd60b49fea24f729201f737cd": {
      "model_module": "@jupyter-widgets/controls",
      "model_module_version": "1.5.0",
      "model_name": "LabelModel",
      "state": {
       "layout": "IPY_MODEL_b707ca7d45744c7e8b7b8c0de4344ace",
       "style": "IPY_MODEL_7c2683e2d0a54cceb81635998a5447ab",
       "value": "Select Assets to Claim:"
      }
     },
     "6a8bcc5cfea740f991885384935709b8": {
      "model_module": "@jupyter-widgets/controls",
      "model_module_version": "1.5.0",
      "model_name": "CheckboxModel",
      "state": {
       "description": "DAI/ALCX (3.51091)",
       "disabled": false,
       "layout": "IPY_MODEL_cc7347d20939421f8fb810034340e42c",
       "style": "IPY_MODEL_16005e38d54b44d984b2d15b9865b405",
       "value": false
      }
     },
     "6a982d7fbfe8426cac7e76b0d7d77c01": {
      "model_module": "@jupyter-widgets/controls",
      "model_module_version": "1.5.0",
      "model_name": "HBoxModel",
      "state": {
       "children": [
        "IPY_MODEL_99994e27ebfb4cca9cbc629fd8112627",
        "IPY_MODEL_089f2f193749400fb4e0242517ae0ae2"
       ],
       "layout": "IPY_MODEL_f8834f95a2864fa686ac0dc758d2d1ba"
      }
     },
     "6a9b73514197432aa96719065334a96c": {
      "model_module": "@jupyter-widgets/controls",
      "model_module_version": "1.5.0",
      "model_name": "DescriptionStyleModel",
      "state": {
       "description_width": ""
      }
     },
     "6aacc4a25bee4d2fa1619df2b4470783": {
      "model_module": "@jupyter-widgets/controls",
      "model_module_version": "1.5.0",
      "model_name": "DescriptionStyleModel",
      "state": {
       "description_width": ""
      }
     },
     "6aad5522a34c484c99c14271d30cc0b0": {
      "model_module": "@jupyter-widgets/base",
      "model_module_version": "1.2.0",
      "model_name": "LayoutModel",
      "state": {}
     },
     "6ab84c750a6e421db01bd70affd28968": {
      "model_module": "@jupyter-widgets/controls",
      "model_module_version": "1.5.0",
      "model_name": "DescriptionStyleModel",
      "state": {
       "description_width": ""
      }
     },
     "6ad2f97f2194428b88ee1f0ad94758a2": {
      "model_module": "@jupyter-widgets/controls",
      "model_module_version": "1.5.0",
      "model_name": "ButtonModel",
      "state": {
       "description": "Generate MultiCall Data",
       "layout": "IPY_MODEL_408a9c923aa84a63a8665046b806e7bf",
       "style": "IPY_MODEL_5077528a7bb8440b9c21642e1dad2067"
      }
     },
     "6afeab89373d488889827b9bd3356d19": {
      "model_module": "@jupyter-widgets/controls",
      "model_module_version": "1.5.0",
      "model_name": "LabelModel",
      "state": {
       "layout": "IPY_MODEL_7dd402e84f68450da8be8d939c9feb9d",
       "style": "IPY_MODEL_7d0307043548417c884c8dbc6904749b",
       "value": "Max Input: 5.994549039864889 WETH"
      }
     },
     "6b286b99df3a429f95a53e6316df638f": {
      "model_module": "@jupyter-widgets/controls",
      "model_module_version": "1.5.0",
      "model_name": "DescriptionStyleModel",
      "state": {
       "description_width": ""
      }
     },
     "6b481fe42c1f4ea388a7a311e4fe6330": {
      "model_module": "@jupyter-widgets/controls",
      "model_module_version": "1.5.0",
      "model_name": "DescriptionStyleModel",
      "state": {
       "description_width": ""
      }
     },
     "6b7ecf0b9001454a910a584992e8125e": {
      "model_module": "@jupyter-widgets/base",
      "model_module_version": "1.2.0",
      "model_name": "LayoutModel",
      "state": {}
     },
     "6b94d1ccfbf04757a4276566fa87e2f6": {
      "model_module": "@jupyter-widgets/controls",
      "model_module_version": "1.5.0",
      "model_name": "LabelModel",
      "state": {
       "layout": "IPY_MODEL_1da62ee00dc8413395032a590108bd94",
       "style": "IPY_MODEL_4aedd620c94a450d8030635da3093198",
       "value": "Your Payout: 82.67131222820034 ALCX"
      }
     },
     "6bc5acd2904746ecacd45c3bdde4632a": {
      "model_module": "@jupyter-widgets/controls",
      "model_module_version": "1.5.0",
      "model_name": "LabelModel",
      "state": {
       "layout": "IPY_MODEL_2059bb02fbb143cf86d7da20ab482691",
       "style": "IPY_MODEL_f32a8f2a81a146ffbf18aadfd1d279a9"
      }
     },
     "6c059b8e1e3c47998f4518a24a6a4c76": {
      "model_module": "@jupyter-widgets/base",
      "model_module_version": "1.2.0",
      "model_name": "LayoutModel",
      "state": {}
     },
     "6c5a0f4a3c0048dea46991f6bb206110": {
      "model_module": "@jupyter-widgets/controls",
      "model_module_version": "1.5.0",
      "model_name": "LabelModel",
      "state": {
       "layout": "IPY_MODEL_83ea6ea6ab4648619e3ffe898eb4ed22",
       "style": "IPY_MODEL_4b319bc65ab442d08dbd95530882e09e"
      }
     },
     "6c6cd246aedc47e39c616573d490f3e2": {
      "model_module": "@jupyter-widgets/controls",
      "model_module_version": "1.5.0",
      "model_name": "CheckboxModel",
      "state": {
       "description": "Use Wallet Balance (72.80737)",
       "disabled": false,
       "layout": "IPY_MODEL_fce8eaa5d3204a3597700e2073e3b5d9",
       "style": "IPY_MODEL_b5bc5064fdea4885ab43286390247a10",
       "value": true
      }
     },
     "6ca57e78a4544d2ca542e213047c9969": {
      "model_module": "@jupyter-widgets/controls",
      "model_module_version": "1.5.0",
      "model_name": "DescriptionStyleModel",
      "state": {
       "description_width": ""
      }
     },
     "6cb9d5c8bc024b19be7dea8a2c3636f1": {
      "model_module": "@jupyter-widgets/controls",
      "model_module_version": "1.5.0",
      "model_name": "LabelModel",
      "state": {
       "layout": "IPY_MODEL_b8f72367b967480bba4710561d7bc733",
       "style": "IPY_MODEL_d745b84563e241e4af456d645a1e7a40",
       "value": "Swapping 7.32272 ALCX for 0.4682079037648684 WETH"
      }
     },
     "6cc3b611d8334e89980e9cd56b7a9a60": {
      "model_module": "@jupyter-widgets/base",
      "model_module_version": "1.2.0",
      "model_name": "LayoutModel",
      "state": {}
     },
     "6cd0b1ef205e4531ad270f47728810d1": {
      "model_module": "@jupyter-widgets/base",
      "model_module_version": "1.2.0",
      "model_name": "LayoutModel",
      "state": {}
     },
     "6cd73e74c3f04956ac1b940891ecbb9c": {
      "model_module": "@jupyter-widgets/controls",
      "model_module_version": "1.5.0",
      "model_name": "CheckboxModel",
      "state": {
       "description": "ALCX-ETH SLP (0.0)",
       "disabled": false,
       "layout": "IPY_MODEL_a6afa24a24b14d25b188adf09d7a57ee",
       "style": "IPY_MODEL_f53f883253a649a1a94240ee517fc266",
       "value": false
      }
     },
     "6ce8e9ea465a49c1a64157e7c7b39df3": {
      "model_module": "@jupyter-widgets/base",
      "model_module_version": "1.2.0",
      "model_name": "LayoutModel",
      "state": {}
     },
     "6d64dfd6d50a4b689ccc8ba4dc1f8091": {
      "model_module": "@jupyter-widgets/controls",
      "model_module_version": "1.5.0",
      "model_name": "DropdownModel",
      "state": {
       "_options_labels": [
        "WETH/ALCX",
        "DAI/ALCX",
        "CVX/ALCX",
        "ALCX-ETH SLP"
       ],
       "index": 0,
       "layout": "IPY_MODEL_158f3f7e954f44ab89b63c7869c43c99",
       "style": "IPY_MODEL_b427e64d0bf0430fa29ba9c268b2389e"
      }
     },
     "6d8cabb5b2b044e7993109e66202c809": {
      "model_module": "@jupyter-widgets/controls",
      "model_module_version": "1.5.0",
      "model_name": "HBoxModel",
      "state": {
       "children": [
        "IPY_MODEL_5836c0f1e39046b0b8ebe4c0d47f8750",
        "IPY_MODEL_fd81a6bc9669414b95f443f131d59cec"
       ],
       "layout": "IPY_MODEL_d3e56188f61744e685377a6a7d728c02"
      }
     },
     "6db0ff0327ed4d24bba95943681d9941": {
      "model_module": "@jupyter-widgets/base",
      "model_module_version": "1.2.0",
      "model_name": "LayoutModel",
      "state": {}
     },
     "6dc4005f25a746ed96c375479269edfa": {
      "model_module": "@jupyter-widgets/base",
      "model_module_version": "1.2.0",
      "model_name": "LayoutModel",
      "state": {}
     },
     "6ddb977e2d5a4795937cdc2cd9e0226c": {
      "model_module": "@jupyter-widgets/base",
      "model_module_version": "1.2.0",
      "model_name": "LayoutModel",
      "state": {}
     },
     "6df432f660c74bcb9dc149ef26c79125": {
      "model_module": "@jupyter-widgets/base",
      "model_module_version": "1.2.0",
      "model_name": "LayoutModel",
      "state": {}
     },
     "6dfc7363c3eb41b5a15aa59fd482b09e": {
      "model_module": "@jupyter-widgets/controls",
      "model_module_version": "1.5.0",
      "model_name": "DescriptionStyleModel",
      "state": {
       "description_width": ""
      }
     },
     "6e0dd54f382f41379beb2c1e0869cd89": {
      "model_module": "@jupyter-widgets/base",
      "model_module_version": "1.2.0",
      "model_name": "LayoutModel",
      "state": {}
     },
     "6e6566ba920949efa9b77843bf174494": {
      "model_module": "@jupyter-widgets/controls",
      "model_module_version": "1.5.0",
      "model_name": "LabelModel",
      "state": {
       "layout": "IPY_MODEL_66429531378b46c09a738ff9213b6a5c",
       "style": "IPY_MODEL_dee921b3e9ef4edeb1e69b9e520b327b",
       "value": "Max Input: 11.662957119783357 ALCX-ETH SLP"
      }
     },
     "6e6ace72a6be4cdca7f8f6218bfdd76d": {
      "model_module": "@jupyter-widgets/controls",
      "model_module_version": "1.5.0",
      "model_name": "CheckboxModel",
      "state": {
       "description": "CVX/ALCX (0.0)",
       "disabled": false,
       "layout": "IPY_MODEL_14fc62feca064842b67a7e7d3c1bf62c",
       "style": "IPY_MODEL_717d74d550ba4dde99b14ac2390b5e30",
       "value": false
      }
     },
     "6e6adb488646411ba558b82f75480b65": {
      "model_module": "@jupyter-widgets/controls",
      "model_module_version": "1.5.0",
      "model_name": "CheckboxModel",
      "state": {
       "description": "ALCX-ETH SLP (0.0)",
       "disabled": false,
       "layout": "IPY_MODEL_88fd4bd3634f47fe913edd0172d320de",
       "style": "IPY_MODEL_74e97adc2f964901934ee49961b4c3ba",
       "value": false
      }
     },
     "6e7c5c81936e44d1abd1edd9fdf690bd": {
      "model_module": "@jupyter-widgets/controls",
      "model_module_version": "1.5.0",
      "model_name": "DropdownModel",
      "state": {
       "_options_labels": [
        "WETH/ALCX",
        "DAI/ALCX",
        "CVX/ALCX",
        "ALCX-ETH SLP"
       ],
       "index": 0,
       "layout": "IPY_MODEL_b1e09aa4af4447249f345a147ad076e7",
       "style": "IPY_MODEL_6389786827c1472fbdbf2c941decf889"
      }
     },
     "6e882cd585f84f1a906993eac2b7fdd4": {
      "model_module": "@jupyter-widgets/controls",
      "model_module_version": "1.5.0",
      "model_name": "TextModel",
      "state": {
       "description": "Address: ",
       "layout": "IPY_MODEL_4f514e538790451fbdad56d58eb1d7e0",
       "style": "IPY_MODEL_705cde0b9298459599f6a297f133e335",
       "value": "0xeEEC0e4927704ab3BBE5df7F4EfFa818b43665a3"
      }
     },
     "6e8ec18d4b444d5a9062aa7f273420f6": {
      "model_module": "@jupyter-widgets/controls",
      "model_module_version": "1.5.0",
      "model_name": "DescriptionStyleModel",
      "state": {
       "description_width": ""
      }
     },
     "6e9d38643dba492cb846c74cdc11dbed": {
      "model_module": "@jupyter-widgets/base",
      "model_module_version": "1.2.0",
      "model_name": "LayoutModel",
      "state": {}
     },
     "6eef0eee362e437c81f944f7951a31d8": {
      "model_module": "@jupyter-widgets/base",
      "model_module_version": "1.2.0",
      "model_name": "LayoutModel",
      "state": {}
     },
     "6ef5474d39df45c8b770fe5f3bd52690": {
      "model_module": "@jupyter-widgets/base",
      "model_module_version": "1.2.0",
      "model_name": "LayoutModel",
      "state": {}
     },
     "6f03ecd14efc43e6884b20bd1f1d679c": {
      "model_module": "@jupyter-widgets/base",
      "model_module_version": "1.2.0",
      "model_name": "LayoutModel",
      "state": {
       "width": "425px"
      }
     },
     "6f0c515e6573480f935c9d9ca9663722": {
      "model_module": "@jupyter-widgets/controls",
      "model_module_version": "1.5.0",
      "model_name": "DescriptionStyleModel",
      "state": {
       "description_width": ""
      }
     },
     "6f22e32fb3c145e5b6de172f2a767112": {
      "model_module": "@jupyter-widgets/base",
      "model_module_version": "1.2.0",
      "model_name": "LayoutModel",
      "state": {}
     },
     "6f7cc0f703a444b99bbb94271f0078f0": {
      "model_module": "@jupyter-widgets/controls",
      "model_module_version": "1.5.0",
      "model_name": "DropdownModel",
      "state": {
       "_options_labels": [
        "WETH/ALCX",
        "DAI/ALCX",
        "CVX/ALCX",
        "ALCX-ETH SLP"
       ],
       "index": 3,
       "layout": "IPY_MODEL_6ef5474d39df45c8b770fe5f3bd52690",
       "style": "IPY_MODEL_c98b3da4c0134234b0fd133414560239"
      }
     },
     "6f8507bee43f45da8d31857d1fd103b7": {
      "model_module": "@jupyter-widgets/controls",
      "model_module_version": "1.5.0",
      "model_name": "DescriptionStyleModel",
      "state": {
       "description_width": ""
      }
     },
     "6f9e8feb5e5a4676898b753b976fbc08": {
      "model_module": "@jupyter-widgets/base",
      "model_module_version": "1.2.0",
      "model_name": "LayoutModel",
      "state": {}
     },
     "6fb5c7efbd504afa9e39845a28860c73": {
      "model_module": "@jupyter-widgets/controls",
      "model_module_version": "1.5.0",
      "model_name": "ButtonModel",
      "state": {
       "description": "Generate MultiCall Data",
       "layout": "IPY_MODEL_673099bf605840ec9667d96e08536b00",
       "style": "IPY_MODEL_3bca4339b4424d139323e46cc757316d"
      }
     },
     "6fcabaf3a5d94d8f85bc9c8e8225c627": {
      "model_module": "@jupyter-widgets/controls",
      "model_module_version": "1.5.0",
      "model_name": "LabelModel",
      "state": {
       "layout": "IPY_MODEL_659f7e49cb54471184a5adeda1bffa19",
       "style": "IPY_MODEL_0c839e549b794d0290574aedfa4fbc0e",
       "value": "Swapping 80.25677 ALCX for 5.141185498052607 WETH"
      }
     },
     "6fcb997d95734f929d6688fcf14d7a18": {
      "model_module": "@jupyter-widgets/base",
      "model_module_version": "1.2.0",
      "model_name": "LayoutModel",
      "state": {}
     },
     "6fda3b37e6c64596a65db67b3b1a4a0d": {
      "model_module": "@jupyter-widgets/controls",
      "model_module_version": "1.5.0",
      "model_name": "LabelModel",
      "state": {
       "layout": "IPY_MODEL_1fae1af8cb9341c38066885ae3809c69",
       "style": "IPY_MODEL_48b5458727a94ea895bfd904ca78e579",
       "value": "Max Input: 5.982794002438554 WETH"
      }
     },
     "6fda68574dca476b8f9866dfec7ffe9f": {
      "model_module": "@jupyter-widgets/controls",
      "model_module_version": "1.5.0",
      "model_name": "LabelModel",
      "state": {
       "layout": "IPY_MODEL_5336206ab9534316951cad3bb001232c",
       "style": "IPY_MODEL_d8af9e14dff940cebe342f09591a3325"
      }
     },
     "700ad1464d5a4b488775869c5ed718c8": {
      "model_module": "@jupyter-widgets/base",
      "model_module_version": "1.2.0",
      "model_name": "LayoutModel",
      "state": {}
     },
     "702f97740bc14852a96963150cc38627": {
      "model_module": "@jupyter-widgets/controls",
      "model_module_version": "1.5.0",
      "model_name": "DescriptionStyleModel",
      "state": {
       "description_width": ""
      }
     },
     "705cde0b9298459599f6a297f133e335": {
      "model_module": "@jupyter-widgets/controls",
      "model_module_version": "1.5.0",
      "model_name": "DescriptionStyleModel",
      "state": {
       "description_width": ""
      }
     },
     "70a208be994a4bc48ffd14355a5ca419": {
      "model_module": "@jupyter-widgets/base",
      "model_module_version": "1.2.0",
      "model_name": "LayoutModel",
      "state": {}
     },
     "70bdba93af57448caa336b17660f9d5d": {
      "model_module": "@jupyter-widgets/base",
      "model_module_version": "1.2.0",
      "model_name": "LayoutModel",
      "state": {}
     },
     "70d5a25cf2274222824f9c3b5874a3f9": {
      "model_module": "@jupyter-widgets/base",
      "model_module_version": "1.2.0",
      "model_name": "LayoutModel",
      "state": {}
     },
     "71015cfc22364769a9ae1852512f6233": {
      "model_module": "@jupyter-widgets/base",
      "model_module_version": "1.2.0",
      "model_name": "LayoutModel",
      "state": {
       "width": "425px"
      }
     },
     "714b960e7aae4d49b6f9ea247bbefcfb": {
      "model_module": "@jupyter-widgets/base",
      "model_module_version": "1.2.0",
      "model_name": "LayoutModel",
      "state": {}
     },
     "715dd81aee16496f86a230ee490dac75": {
      "model_module": "@jupyter-widgets/base",
      "model_module_version": "1.2.0",
      "model_name": "LayoutModel",
      "state": {}
     },
     "716bf881203b48d6ae28945f0f95e81b": {
      "model_module": "@jupyter-widgets/base",
      "model_module_version": "1.2.0",
      "model_name": "LayoutModel",
      "state": {}
     },
     "717d74d550ba4dde99b14ac2390b5e30": {
      "model_module": "@jupyter-widgets/controls",
      "model_module_version": "1.5.0",
      "model_name": "DescriptionStyleModel",
      "state": {
       "description_width": ""
      }
     },
     "71c677dde313409c843a8d0f1af098f1": {
      "model_module": "@jupyter-widgets/controls",
      "model_module_version": "1.5.0",
      "model_name": "DescriptionStyleModel",
      "state": {
       "description_width": ""
      }
     },
     "71cd48d9981d45b19e67552343fd54a8": {
      "model_module": "@jupyter-widgets/controls",
      "model_module_version": "1.5.0",
      "model_name": "DescriptionStyleModel",
      "state": {
       "description_width": ""
      }
     },
     "720dfe0f0ee34711ae8d9e1bce60c678": {
      "model_module": "@jupyter-widgets/controls",
      "model_module_version": "1.5.0",
      "model_name": "CheckboxModel",
      "state": {
       "description": "DAI/ALCX (3.52758)",
       "disabled": false,
       "layout": "IPY_MODEL_b38ad8ec795740f7811a020aee593de9",
       "style": "IPY_MODEL_95c7a54805904aafa909ce083a01409a",
       "value": false
      }
     },
     "721cfa42936a495887d22f3741db896c": {
      "model_module": "@jupyter-widgets/base",
      "model_module_version": "1.2.0",
      "model_name": "LayoutModel",
      "state": {}
     },
     "7227a76e45b14f489d39d1fbad9789cd": {
      "model_module": "@jupyter-widgets/controls",
      "model_module_version": "1.5.0",
      "model_name": "DescriptionStyleModel",
      "state": {
       "description_width": ""
      }
     },
     "72748e5a78c046808ae4596805783bdd": {
      "model_module": "@jupyter-widgets/base",
      "model_module_version": "1.2.0",
      "model_name": "LayoutModel",
      "state": {}
     },
     "72acd19def1347ca8ffb38e4fc4c8372": {
      "model_module": "@jupyter-widgets/base",
      "model_module_version": "1.2.0",
      "model_name": "LayoutModel",
      "state": {}
     },
     "72ba345fa2b74dbd97bc1cba3299a447": {
      "model_module": "@jupyter-widgets/controls",
      "model_module_version": "1.5.0",
      "model_name": "LabelModel",
      "state": {
       "layout": "IPY_MODEL_3508dbcc5bca47998b50903cda1ecc3b",
       "style": "IPY_MODEL_bd53d428b955492694fe34d707727cae",
       "value": "Select Pool to Bond:"
      }
     },
     "72ba9f5fbf854bb4b89449dc8acb17c8": {
      "model_module": "@jupyter-widgets/base",
      "model_module_version": "1.2.0",
      "model_name": "LayoutModel",
      "state": {}
     },
     "72be0b19ef7a4b35b65ccc2f9b193844": {
      "model_module": "@jupyter-widgets/base",
      "model_module_version": "1.2.0",
      "model_name": "LayoutModel",
      "state": {}
     },
     "72d5b6c78ffb4ea98e76dee5ff472c56": {
      "model_module": "@jupyter-widgets/base",
      "model_module_version": "1.2.0",
      "model_name": "LayoutModel",
      "state": {}
     },
     "72e6259987a44cf48c6e0bd91524d3fb": {
      "model_module": "@jupyter-widgets/controls",
      "model_module_version": "1.5.0",
      "model_name": "DescriptionStyleModel",
      "state": {
       "description_width": ""
      }
     },
     "73099a871a5748cd9f76cd653f6b859d": {
      "model_module": "@jupyter-widgets/controls",
      "model_module_version": "1.5.0",
      "model_name": "LabelModel",
      "state": {
       "layout": "IPY_MODEL_a1fc2b64bc814279924a39997dbf3939",
       "style": "IPY_MODEL_61c98aa1cded4e92a1c9edf929009f93",
       "value": "Max Payout: 96.15973854597343 ALCX"
      }
     },
     "732fd59a39ec411f84f6d5af478ea964": {
      "model_module": "@jupyter-widgets/controls",
      "model_module_version": "1.5.0",
      "model_name": "DescriptionStyleModel",
      "state": {
       "description_width": ""
      }
     },
     "733159f2b3a1403298c669a4b4ca1327": {
      "model_module": "@jupyter-widgets/base",
      "model_module_version": "1.2.0",
      "model_name": "LayoutModel",
      "state": {}
     },
     "735482f8f0da4af6856fa7cfe60fc09c": {
      "model_module": "@jupyter-widgets/base",
      "model_module_version": "1.2.0",
      "model_name": "LayoutModel",
      "state": {}
     },
     "7372a73e1c9a49d1bb5cb28fc6f14ed0": {
      "model_module": "@jupyter-widgets/controls",
      "model_module_version": "1.5.0",
      "model_name": "CheckboxModel",
      "state": {
       "description": "ALCX-ETH SLP (0.0)",
       "disabled": false,
       "layout": "IPY_MODEL_47b2fe2bb40d4c8b8301f6676d70612d",
       "style": "IPY_MODEL_089d67ee4036478d8043f9a10ac2dd2d",
       "value": false
      }
     },
     "73aba8f3b4ac4a88b55c33ed0ea75b2c": {
      "model_module": "@jupyter-widgets/base",
      "model_module_version": "1.2.0",
      "model_name": "LayoutModel",
      "state": {}
     },
     "73adf84456bd4dba98c084cd9aae6dcb": {
      "model_module": "@jupyter-widgets/controls",
      "model_module_version": "1.5.0",
      "model_name": "LabelModel",
      "state": {
       "layout": "IPY_MODEL_1d301c4405464e0a8a8d7c03decbc28a",
       "style": "IPY_MODEL_8a177269853e4f22af06832462f505ce"
      }
     },
     "73b23e4a0bf34a3591ed461bcc7b8f21": {
      "model_module": "@jupyter-widgets/controls",
      "model_module_version": "1.5.0",
      "model_name": "DescriptionStyleModel",
      "state": {
       "description_width": ""
      }
     },
     "73c1af5abf244061b075e26a495b97ef": {
      "model_module": "@jupyter-widgets/base",
      "model_module_version": "1.2.0",
      "model_name": "LayoutModel",
      "state": {
       "width": "425px"
      }
     },
     "73e9ccfc5ed84b49837e27dc5a0f229a": {
      "model_module": "@jupyter-widgets/controls",
      "model_module_version": "1.5.0",
      "model_name": "DescriptionStyleModel",
      "state": {
       "description_width": ""
      }
     },
     "73f5cd0f835f497a988bcd6a61f02265": {
      "model_module": "@jupyter-widgets/controls",
      "model_module_version": "1.5.0",
      "model_name": "CheckboxModel",
      "state": {
       "description": "CVX/ALCX (0.0)",
       "disabled": false,
       "layout": "IPY_MODEL_054a5aab48f84a7ea16aa50b6b3720f0",
       "style": "IPY_MODEL_617d8d6d5a464b8f9d841ea946803a24",
       "value": false
      }
     },
     "73faa92ebdda4e3d90b9cc07a4a028c2": {
      "model_module": "@jupyter-widgets/base",
      "model_module_version": "1.2.0",
      "model_name": "LayoutModel",
      "state": {}
     },
     "74009c66892d4669a7f827d3675eb4e3": {
      "model_module": "@jupyter-widgets/controls",
      "model_module_version": "1.5.0",
      "model_name": "HBoxModel",
      "state": {
       "children": [
        "IPY_MODEL_fbd09323890740c1a8a0e8dba6ffab7a",
        "IPY_MODEL_34cfe0aec8e4446899ac0817db63a971"
       ],
       "layout": "IPY_MODEL_3207c50c9fd54bdc93d9d5c583b9de31"
      }
     },
     "7427a57505854ba8ae1f2fc76c32364a": {
      "model_module": "@jupyter-widgets/base",
      "model_module_version": "1.2.0",
      "model_name": "LayoutModel",
      "state": {
       "width": "200px"
      }
     },
     "74bf13e644324300b0be65f8221352d2": {
      "model_module": "@jupyter-widgets/controls",
      "model_module_version": "1.5.0",
      "model_name": "DescriptionStyleModel",
      "state": {
       "description_width": ""
      }
     },
     "74d571eecfe34d9a9f6b287ce20afbe4": {
      "model_module": "@jupyter-widgets/base",
      "model_module_version": "1.2.0",
      "model_name": "LayoutModel",
      "state": {}
     },
     "74e97adc2f964901934ee49961b4c3ba": {
      "model_module": "@jupyter-widgets/controls",
      "model_module_version": "1.5.0",
      "model_name": "DescriptionStyleModel",
      "state": {
       "description_width": ""
      }
     },
     "74f3da89ac54447faef872d539c5d332": {
      "model_module": "@jupyter-widgets/controls",
      "model_module_version": "1.5.0",
      "model_name": "DropdownModel",
      "state": {
       "_options_labels": [
        "WETH/ALCX",
        "DAI/ALCX",
        "CVX/ALCX",
        "ALCX-ETH SLP"
       ],
       "index": 3,
       "layout": "IPY_MODEL_2e4c91e9d0984cbd91e4654ead6d0022",
       "style": "IPY_MODEL_7ce70ec40a6f4749b5493f7a68222b52"
      }
     },
     "74fd5dc907ba47e089a778ff832e6e2c": {
      "model_module": "@jupyter-widgets/controls",
      "model_module_version": "1.5.0",
      "model_name": "LabelModel",
      "state": {
       "layout": "IPY_MODEL_2ffc616048db403fb2b238fc57d7453e",
       "style": "IPY_MODEL_4fd49273ba274c0b84edd939e61366df",
       "value": "Select Assets to Claim:"
      }
     },
     "7505866210894662982233a9b140691d": {
      "model_module": "@jupyter-widgets/controls",
      "model_module_version": "1.5.0",
      "model_name": "DescriptionStyleModel",
      "state": {
       "description_width": ""
      }
     },
     "7509718b49204a8d9d5bafb3af05b1d0": {
      "model_module": "@jupyter-widgets/controls",
      "model_module_version": "1.5.0",
      "model_name": "LabelModel",
      "state": {
       "layout": "IPY_MODEL_9f3a79f2a21f4973a1f0e3b4c9d14b6f",
       "style": "IPY_MODEL_c80d9660c06e4d55be316940a5fbc52f",
       "value": "Max Payout: 96.15973854597343 ALCX"
      }
     },
     "7515885c6c58427aa15e1ea3ac9bfc0c": {
      "model_module": "@jupyter-widgets/controls",
      "model_module_version": "1.5.0",
      "model_name": "DescriptionStyleModel",
      "state": {
       "description_width": ""
      }
     },
     "75306c6cd925480288cbabe22dfb96b7": {
      "model_module": "@jupyter-widgets/controls",
      "model_module_version": "1.5.0",
      "model_name": "CheckboxModel",
      "state": {
       "description": "ALCX-ETH SLP (0.0)",
       "disabled": false,
       "layout": "IPY_MODEL_d5b7ee0ec4dd49cd9d5c34d17fb777ea",
       "style": "IPY_MODEL_f8cc4de3d7b345c6a8b892084a92c7ee",
       "value": false
      }
     },
     "754404d684504b7c9a6fc00fcf9486be": {
      "model_module": "@jupyter-widgets/base",
      "model_module_version": "1.2.0",
      "model_name": "LayoutModel",
      "state": {}
     },
     "754e9aa252484e8289c1c7dd1d25a0f2": {
      "model_module": "@jupyter-widgets/base",
      "model_module_version": "1.2.0",
      "model_name": "LayoutModel",
      "state": {}
     },
     "7582fa84ce094cabadd780f9ab9bee66": {
      "model_module": "@jupyter-widgets/base",
      "model_module_version": "1.2.0",
      "model_name": "LayoutModel",
      "state": {
       "width": "200px"
      }
     },
     "7585d2d12a2b47fa959258cc1df0b439": {
      "model_module": "@jupyter-widgets/base",
      "model_module_version": "1.2.0",
      "model_name": "LayoutModel",
      "state": {}
     },
     "75a5cfb387904fe68a198422a401efab": {
      "model_module": "@jupyter-widgets/controls",
      "model_module_version": "1.5.0",
      "model_name": "DescriptionStyleModel",
      "state": {
       "description_width": ""
      }
     },
     "75d69ff0351c40c7b32a8ddbf1f10df6": {
      "model_module": "@jupyter-widgets/controls",
      "model_module_version": "1.5.0",
      "model_name": "CheckboxModel",
      "state": {
       "description": "CVX/ALCX (0.0)",
       "disabled": false,
       "layout": "IPY_MODEL_8f5c70805cfb45c686a1416b4de4c1e5",
       "style": "IPY_MODEL_69e38e40b1a34c86a0278fa5e6c353df",
       "value": false
      }
     },
     "75e1dd0ec3d640e1b7bd7a4b8fe8af2c": {
      "model_module": "@jupyter-widgets/base",
      "model_module_version": "1.2.0",
      "model_name": "LayoutModel",
      "state": {}
     },
     "75e2c3357229410592e5596409f99ba0": {
      "model_module": "@jupyter-widgets/controls",
      "model_module_version": "1.5.0",
      "model_name": "CheckboxModel",
      "state": {
       "description": "ALCX-ETH SLP (0.0)",
       "disabled": false,
       "layout": "IPY_MODEL_03ad1538bf484ad6974142e96c783b3e",
       "style": "IPY_MODEL_4de096b77bd84aeb932fb2b207c1e427",
       "value": false
      }
     },
     "7602c1caae2d4983a32dc74269e3115d": {
      "model_module": "@jupyter-widgets/base",
      "model_module_version": "1.2.0",
      "model_name": "LayoutModel",
      "state": {}
     },
     "76072a360c5b4f05bbc4c6c6b18ab8c2": {
      "model_module": "@jupyter-widgets/controls",
      "model_module_version": "1.5.0",
      "model_name": "DescriptionStyleModel",
      "state": {
       "description_width": ""
      }
     },
     "76098e356ed34d85aeed172dbb0066b9": {
      "model_module": "@jupyter-widgets/base",
      "model_module_version": "1.2.0",
      "model_name": "LayoutModel",
      "state": {}
     },
     "7615a0379b594cb0b0e52992c860231a": {
      "model_module": "@jupyter-widgets/controls",
      "model_module_version": "1.5.0",
      "model_name": "DescriptionStyleModel",
      "state": {
       "description_width": ""
      }
     },
     "7615aac9a44e4b1bb4a5d92da0a5d63a": {
      "model_module": "@jupyter-widgets/controls",
      "model_module_version": "1.5.0",
      "model_name": "DescriptionStyleModel",
      "state": {
       "description_width": ""
      }
     },
     "7626292d0bcc4d08a46511f98e99a0d3": {
      "model_module": "@jupyter-widgets/controls",
      "model_module_version": "1.5.0",
      "model_name": "DescriptionStyleModel",
      "state": {
       "description_width": ""
      }
     },
     "762ee0270eda4a2cae81eb9d4d28c0ca": {
      "model_module": "@jupyter-widgets/controls",
      "model_module_version": "1.5.0",
      "model_name": "LabelModel",
      "state": {
       "layout": "IPY_MODEL_500e4a64412942b7ab532b95b9d6ddfc",
       "style": "IPY_MODEL_0cb18daf32f04235aa8e325e90cfeac1",
       "value": "Swapping 7.27888 ALCX for 0.4674180000072051 WETH"
      }
     },
     "7637f9b6b3db4b58b09577c6c37aa0cb": {
      "model_module": "@jupyter-widgets/controls",
      "model_module_version": "1.5.0",
      "model_name": "VBoxModel",
      "state": {
       "children": [
        "IPY_MODEL_8cee57cefd8d4e5eb8adf4e0fab2bdde",
        "IPY_MODEL_5e375f82bd9747949925f22fd28e2973",
        "IPY_MODEL_597ae608c0944f689a2436538f4daace",
        "IPY_MODEL_210032a4928e4081a7fe987d5728f405",
        "IPY_MODEL_25db1d70d284402ab66b07f02a962010",
        "IPY_MODEL_d782df1233ad4150946bb1170cd53b5e",
        "IPY_MODEL_edaa7abd60374c20a66f3f98c63e59d4",
        "IPY_MODEL_73adf84456bd4dba98c084cd9aae6dcb",
        "IPY_MODEL_61549d1c5f0f49bf81bf066d37f815d8",
        "IPY_MODEL_74f3da89ac54447faef872d539c5d332",
        "IPY_MODEL_a9b56c76c32c48f3a7400ee32c25ef07",
        "IPY_MODEL_1d6b805c45e4427aa6536d431899ce7b",
        "IPY_MODEL_e1f57efdc47b4db482b5ba8da9c9ba64"
       ],
       "layout": "IPY_MODEL_93007870278f4fd3b5da7e1a28a0a463"
      }
     },
     "76563b41081448ef885ea8a7b3e64af0": {
      "model_module": "@jupyter-widgets/controls",
      "model_module_version": "1.5.0",
      "model_name": "LabelModel",
      "state": {
       "layout": "IPY_MODEL_2fe0a40531be448b9cc3a80c69258f2e",
       "style": "IPY_MODEL_376466dfe7b544fe9bf6ad978f62fff0",
       "value": "Select Pool to Bond:"
      }
     },
     "765d24b22853495698a5279ab2b720cb": {
      "model_module": "@jupyter-widgets/controls",
      "model_module_version": "1.5.0",
      "model_name": "DescriptionStyleModel",
      "state": {
       "description_width": ""
      }
     },
     "765df12cd42c4074afe792d627bad18e": {
      "model_module": "@jupyter-widgets/controls",
      "model_module_version": "1.5.0",
      "model_name": "ButtonModel",
      "state": {
       "description": "Generate MultiCall Data",
       "layout": "IPY_MODEL_22e780dbe60d4d928f408a3d6b9fe575",
       "style": "IPY_MODEL_1c75f785818f44d280594785b8eb39b4"
      }
     },
     "769002c421c549ec88907250440b4318": {
      "model_module": "@jupyter-widgets/base",
      "model_module_version": "1.2.0",
      "model_name": "LayoutModel",
      "state": {}
     },
     "769bdfee215c4723b592f2b12c770855": {
      "model_module": "@jupyter-widgets/controls",
      "model_module_version": "1.5.0",
      "model_name": "DescriptionStyleModel",
      "state": {
       "description_width": ""
      }
     },
     "76a8ad95d67c4d94b59c873f19fec266": {
      "model_module": "@jupyter-widgets/controls",
      "model_module_version": "1.5.0",
      "model_name": "DescriptionStyleModel",
      "state": {
       "description_width": ""
      }
     },
     "76b78e066d35438fb8b26ab06e18ec89": {
      "model_module": "@jupyter-widgets/base",
      "model_module_version": "1.2.0",
      "model_name": "LayoutModel",
      "state": {}
     },
     "76bd59dd8ba241579f92354c6e5c8b07": {
      "model_module": "@jupyter-widgets/controls",
      "model_module_version": "1.5.0",
      "model_name": "DescriptionStyleModel",
      "state": {
       "description_width": ""
      }
     },
     "76d8c6fe21634513932ec4e3a8f6372f": {
      "model_module": "@jupyter-widgets/controls",
      "model_module_version": "1.5.0",
      "model_name": "LabelModel",
      "state": {
       "layout": "IPY_MODEL_e9759f90f7864c4f88635f61acdfde4c",
       "style": "IPY_MODEL_5b1d33cc053b40598f035eb7373d1c0e"
      }
     },
     "76ed55d42ac645e28ed3d3f73fb07ca4": {
      "model_module": "@jupyter-widgets/base",
      "model_module_version": "1.2.0",
      "model_name": "LayoutModel",
      "state": {
       "width": "425px"
      }
     },
     "76f2b930e9cb4b0684a59880ebbea82e": {
      "model_module": "@jupyter-widgets/controls",
      "model_module_version": "1.5.0",
      "model_name": "DescriptionStyleModel",
      "state": {
       "description_width": ""
      }
     },
     "772a61e4e36840748a7fb4e92226b774": {
      "model_module": "@jupyter-widgets/base",
      "model_module_version": "1.2.0",
      "model_name": "LayoutModel",
      "state": {}
     },
     "774fd8371bae4ed3bf97610076edb903": {
      "model_module": "@jupyter-widgets/controls",
      "model_module_version": "1.5.0",
      "model_name": "DescriptionStyleModel",
      "state": {
       "description_width": ""
      }
     },
     "778e8afaea1348b6b999ee67e43ac030": {
      "model_module": "@jupyter-widgets/base",
      "model_module_version": "1.2.0",
      "model_name": "LayoutModel",
      "state": {}
     },
     "77b11e4fabb3431ab8d8e168c00351e6": {
      "model_module": "@jupyter-widgets/controls",
      "model_module_version": "1.5.0",
      "model_name": "LabelModel",
      "state": {
       "layout": "IPY_MODEL_46bb986614084db49d785517ade3d444",
       "style": "IPY_MODEL_0068d10a2e4a43b3992f47143497399c",
       "value": "[Current block: 13905602]"
      }
     },
     "781a925c5d4a43fba25c8788a03e11bc": {
      "model_module": "@jupyter-widgets/controls",
      "model_module_version": "1.5.0",
      "model_name": "LabelModel",
      "state": {
       "layout": "IPY_MODEL_354aeed557c1414ca64e1f50f3cc2108",
       "style": "IPY_MODEL_3193311054a8430a978e542b15c699ce",
       "value": "Max Payout: 96.15973854597343 ALCX"
      }
     },
     "78222215f0c44234af8910bbf0c2ce92": {
      "model_module": "@jupyter-widgets/controls",
      "model_module_version": "1.5.0",
      "model_name": "DescriptionStyleModel",
      "state": {
       "description_width": ""
      }
     },
     "7861eaa5fe824a999dc28a9c2c4469d5": {
      "model_module": "@jupyter-widgets/controls",
      "model_module_version": "1.5.0",
      "model_name": "LabelModel",
      "state": {
       "layout": "IPY_MODEL_bed2d01a3b304291b74ffbf9863bf58d",
       "style": "IPY_MODEL_b629c77dbd214fe4b0593bfefc3cce47",
       "value": "Select Assets to Claim:"
      }
     },
     "787266f51e264b658728aae6b49339d0": {
      "model_module": "@jupyter-widgets/controls",
      "model_module_version": "1.5.0",
      "model_name": "DescriptionStyleModel",
      "state": {
       "description_width": ""
      }
     },
     "788dfd9f51a54b3fb43476ececb0b33d": {
      "model_module": "@jupyter-widgets/base",
      "model_module_version": "1.2.0",
      "model_name": "LayoutModel",
      "state": {}
     },
     "789ca0c1179d436a8eb1d507b123955f": {
      "model_module": "@jupyter-widgets/controls",
      "model_module_version": "1.5.0",
      "model_name": "LabelModel",
      "state": {
       "layout": "IPY_MODEL_a8e3883429cf430c97efe67b1cbd5ded",
       "style": "IPY_MODEL_081d645abab847c8bcd97a7531017ba3",
       "value": "Select Assets to Claim:"
      }
     },
     "78addf6fc902477d960795ecd700d522": {
      "model_module": "@jupyter-widgets/controls",
      "model_module_version": "1.5.0",
      "model_name": "DescriptionStyleModel",
      "state": {
       "description_width": ""
      }
     },
     "78c6f0c755b74b138875f3235c48ee0c": {
      "model_module": "@jupyter-widgets/controls",
      "model_module_version": "1.5.0",
      "model_name": "VBoxModel",
      "state": {
       "children": [
        "IPY_MODEL_61829d2ba0824d8e80171de494b7befb",
        "IPY_MODEL_9177dc7ea0eb4286ac187f45f4ba0acb",
        "IPY_MODEL_9cd58197299449cd92fba23cef1c5e0e",
        "IPY_MODEL_57ac3bc2c1f0421698095bd93729f475",
        "IPY_MODEL_8dd5f24e18534f58931dbc5438d93454",
        "IPY_MODEL_a944352b876f4567bc6a8b2ce2ec7896",
        "IPY_MODEL_53f3986f9f8847b3be5917e9c1065970",
        "IPY_MODEL_d3636143a3c04579a4c324eee5d61749",
        "IPY_MODEL_44d475e9b3e04d1cb2e66c5d69539424",
        "IPY_MODEL_35a7d1209943425f882d68d6b5253385",
        "IPY_MODEL_a18d17b4700746e29f15c62ba1f79fca",
        "IPY_MODEL_e2f91132bccc48d18fa535c70f5e5289",
        "IPY_MODEL_bd6b56db0c0f42feade9b1e1b87e618b",
        "IPY_MODEL_f907f2437ddd4f009dfd2d31d85663ff"
       ],
       "layout": "IPY_MODEL_a7e4b5437357461485ade3a62e867572"
      }
     },
     "78d0f6b457d742c69121b93980e2cc28": {
      "model_module": "@jupyter-widgets/base",
      "model_module_version": "1.2.0",
      "model_name": "LayoutModel",
      "state": {}
     },
     "78e208e4ffb441309f816e1a5c1a44cc": {
      "model_module": "@jupyter-widgets/controls",
      "model_module_version": "1.5.0",
      "model_name": "LabelModel",
      "state": {
       "layout": "IPY_MODEL_375b1d0d41b74e74b705fe8a88fbb6d8",
       "style": "IPY_MODEL_6574dec24e814dc5a39befb0f080e965",
       "value": "Max Input: 5.995137772958027 WETH"
      }
     },
     "7906d403d48c486d8b22c13cedb531c4": {
      "model_module": "@jupyter-widgets/controls",
      "model_module_version": "1.5.0",
      "model_name": "CheckboxModel",
      "state": {
       "description": "Use Wallet Balance (72.80737)",
       "disabled": false,
       "layout": "IPY_MODEL_c51946ffa97c4020abdd7e9e4e7639f8",
       "style": "IPY_MODEL_52b99a686500425cbeec020800744e53",
       "value": true
      }
     },
     "7920ef3461e846b9bbe9f257c731bb68": {
      "model_module": "@jupyter-widgets/controls",
      "model_module_version": "1.5.0",
      "model_name": "LabelModel",
      "state": {
       "layout": "IPY_MODEL_56438681dd584c0397e46c31945eb663",
       "style": "IPY_MODEL_1bbffdd1437e4455ae0c80ecbfb003fe",
       "value": "Swapping 79.95957 ALCX for 5.133879277896977 WETH"
      }
     },
     "79289326cf3d41708a277b3e3bf5dc24": {
      "model_module": "@jupyter-widgets/base",
      "model_module_version": "1.2.0",
      "model_name": "LayoutModel",
      "state": {
       "width": "425px"
      }
     },
     "793a720c669243918926d312cdff757e": {
      "model_module": "@jupyter-widgets/controls",
      "model_module_version": "1.5.0",
      "model_name": "LabelModel",
      "state": {
       "layout": "IPY_MODEL_bfaea67af12840cfad666ce8a4f89057",
       "style": "IPY_MODEL_732fd59a39ec411f84f6d5af478ea964",
       "value": "Max Input: 5.9832355522584075 WETH"
      }
     },
     "794d8899eb2e4bad833c5247e92d8036": {
      "model_module": "@jupyter-widgets/controls",
      "model_module_version": "1.5.0",
      "model_name": "CheckboxModel",
      "state": {
       "description": "DAI/ALCX (3.57762)",
       "disabled": false,
       "layout": "IPY_MODEL_8e4521019c2644b8be5796a5b2389b9f",
       "style": "IPY_MODEL_9a5b085bf31544e9936fab2eeb1ce4bb",
       "value": false
      }
     },
     "799eaab59b0d4cb688fcde0060c70d5f": {
      "model_module": "@jupyter-widgets/controls",
      "model_module_version": "1.5.0",
      "model_name": "DescriptionStyleModel",
      "state": {
       "description_width": ""
      }
     },
     "79be52d0bf8c44979b3fc39585d5cacd": {
      "model_module": "@jupyter-widgets/base",
      "model_module_version": "1.2.0",
      "model_name": "LayoutModel",
      "state": {}
     },
     "79da7b4c73ea448cac52505eb4719db0": {
      "model_module": "@jupyter-widgets/base",
      "model_module_version": "1.2.0",
      "model_name": "LayoutModel",
      "state": {}
     },
     "79e1ee6b452841a9b59a72fc30c93ca1": {
      "model_module": "@jupyter-widgets/base",
      "model_module_version": "1.2.0",
      "model_name": "LayoutModel",
      "state": {}
     },
     "79f93af3f4c34cdcafbbb81bd588f004": {
      "model_module": "@jupyter-widgets/controls",
      "model_module_version": "1.5.0",
      "model_name": "DescriptionStyleModel",
      "state": {
       "description_width": ""
      }
     },
     "79fda938027142d896062593a358bb22": {
      "model_module": "@jupyter-widgets/controls",
      "model_module_version": "1.5.0",
      "model_name": "DescriptionStyleModel",
      "state": {
       "description_width": ""
      }
     },
     "7a157137fdaa4533b76c807b8e61691e": {
      "model_module": "@jupyter-widgets/controls",
      "model_module_version": "1.5.0",
      "model_name": "DescriptionStyleModel",
      "state": {
       "description_width": ""
      }
     },
     "7a2282f95b6542c1bbe3b7e11ef58176": {
      "model_module": "@jupyter-widgets/controls",
      "model_module_version": "1.5.0",
      "model_name": "ButtonStyleModel",
      "state": {}
     },
     "7a3ba56a5a8345f59b4533e79a808e2a": {
      "model_module": "@jupyter-widgets/controls",
      "model_module_version": "1.5.0",
      "model_name": "HBoxModel",
      "state": {
       "children": [
        "IPY_MODEL_a338bfc5c1fa488f9ac94009b99eb227",
        "IPY_MODEL_f8658be0c58d44aaad8313bd3b1fc3e5"
       ],
       "layout": "IPY_MODEL_25ced08fd1434357afc996531d6d0369"
      }
     },
     "7a4679cc3a124676a5766bf1faeebedf": {
      "model_module": "@jupyter-widgets/controls",
      "model_module_version": "1.5.0",
      "model_name": "DescriptionStyleModel",
      "state": {
       "description_width": ""
      }
     },
     "7a6dd56d52384e229de42aa9a4b3ff70": {
      "model_module": "@jupyter-widgets/base",
      "model_module_version": "1.2.0",
      "model_name": "LayoutModel",
      "state": {}
     },
     "7a7e9d94482e44afb1873a69a82edfd7": {
      "model_module": "@jupyter-widgets/base",
      "model_module_version": "1.2.0",
      "model_name": "LayoutModel",
      "state": {}
     },
     "7ac4757fc3e64568806cb4dae27c04f6": {
      "model_module": "@jupyter-widgets/base",
      "model_module_version": "1.2.0",
      "model_name": "LayoutModel",
      "state": {}
     },
     "7af1350519064e5c925dc884cf59e540": {
      "model_module": "@jupyter-widgets/controls",
      "model_module_version": "1.5.0",
      "model_name": "DescriptionStyleModel",
      "state": {
       "description_width": ""
      }
     },
     "7b5b1aed313a4ccdbec8f8fd7bcac609": {
      "model_module": "@jupyter-widgets/controls",
      "model_module_version": "1.5.0",
      "model_name": "TextModel",
      "state": {
       "description": "Address: ",
       "layout": "IPY_MODEL_c2ff20b394bd496d9b0b44dad5b3da33",
       "style": "IPY_MODEL_3ab47c7011ea4b3fac21c9fda43afe8d",
       "value": "0xeEEC0e4927704ab3BBE5df7F4EfFa818b43665a3"
      }
     },
     "7b712d486e5d4756beb844de4e032b06": {
      "model_module": "@jupyter-widgets/controls",
      "model_module_version": "1.5.0",
      "model_name": "DescriptionStyleModel",
      "state": {
       "description_width": ""
      }
     },
     "7b9e571817ab40cd82246b670fb40db6": {
      "model_module": "@jupyter-widgets/controls",
      "model_module_version": "1.5.0",
      "model_name": "CheckboxModel",
      "state": {
       "description": "CVX/ALCX (0.0)",
       "disabled": false,
       "layout": "IPY_MODEL_c4576cb874b147cc9df79c9b22e2688e",
       "style": "IPY_MODEL_57a86c4e153f484fac5b9961a6eea793",
       "value": false
      }
     },
     "7ba22bb7afbc42b59d7e66a97cc94ad0": {
      "model_module": "@jupyter-widgets/controls",
      "model_module_version": "1.5.0",
      "model_name": "LabelModel",
      "state": {
       "layout": "IPY_MODEL_e51c6c232739407bae306064e23c0cc2",
       "style": "IPY_MODEL_63bcc648fc954ce0855754cfbbc94778",
       "value": "Select Assets to Claim:"
      }
     },
     "7ba636ed664b49a1b20f35e28faa8679": {
      "model_module": "@jupyter-widgets/base",
      "model_module_version": "1.2.0",
      "model_name": "LayoutModel",
      "state": {}
     },
     "7bad7ea46a6d4fbc9fc0c856e274ddf7": {
      "model_module": "@jupyter-widgets/controls",
      "model_module_version": "1.5.0",
      "model_name": "DescriptionStyleModel",
      "state": {
       "description_width": ""
      }
     },
     "7bd5abd0a7644b018a6c3faac54e6020": {
      "model_module": "@jupyter-widgets/controls",
      "model_module_version": "1.5.0",
      "model_name": "LabelModel",
      "state": {
       "layout": "IPY_MODEL_0caf61f7ce284bf8b2d6e3eb47886b4c",
       "style": "IPY_MODEL_df9383386896473bb06ece6294283262",
       "value": "Select Pool to Bond:"
      }
     },
     "7c2683e2d0a54cceb81635998a5447ab": {
      "model_module": "@jupyter-widgets/controls",
      "model_module_version": "1.5.0",
      "model_name": "DescriptionStyleModel",
      "state": {
       "description_width": ""
      }
     },
     "7c4015c7f0214d938a98e50446766d9e": {
      "model_module": "@jupyter-widgets/controls",
      "model_module_version": "1.5.0",
      "model_name": "DescriptionStyleModel",
      "state": {
       "description_width": ""
      }
     },
     "7c494f699e8d44bc9805f3bce6a14b68": {
      "model_module": "@jupyter-widgets/controls",
      "model_module_version": "1.5.0",
      "model_name": "HBoxModel",
      "state": {
       "children": [
        "IPY_MODEL_c1167254894f458684c114d773deaaf1",
        "IPY_MODEL_6a22d8ab59a447308e31aec30db83764"
       ],
       "layout": "IPY_MODEL_1c79e4600a13440f8e606924566a2aff"
      }
     },
     "7c51f3bb68f94c7284e20f8435669d6a": {
      "model_module": "@jupyter-widgets/base",
      "model_module_version": "1.2.0",
      "model_name": "LayoutModel",
      "state": {}
     },
     "7c6911030dd04eb29afb920f0c3002b4": {
      "model_module": "@jupyter-widgets/base",
      "model_module_version": "1.2.0",
      "model_name": "LayoutModel",
      "state": {}
     },
     "7cd71d91b47e48599eb1247a479a1dfd": {
      "model_module": "@jupyter-widgets/controls",
      "model_module_version": "1.5.0",
      "model_name": "CheckboxModel",
      "state": {
       "description": "ALCX-ETH SLP (0.0)",
       "disabled": false,
       "layout": "IPY_MODEL_bdd5470fccef4cada102db80d93d6569",
       "style": "IPY_MODEL_dda4e87034964372832ce26f7bcb7224",
       "value": false
      }
     },
     "7cdf7a25369e40af999f0994c39600c2": {
      "model_module": "@jupyter-widgets/controls",
      "model_module_version": "1.5.0",
      "model_name": "DescriptionStyleModel",
      "state": {
       "description_width": ""
      }
     },
     "7ce70ec40a6f4749b5493f7a68222b52": {
      "model_module": "@jupyter-widgets/controls",
      "model_module_version": "1.5.0",
      "model_name": "DescriptionStyleModel",
      "state": {
       "description_width": ""
      }
     },
     "7cf172f7fc3340209e3fe48e3ebf2a70": {
      "model_module": "@jupyter-widgets/controls",
      "model_module_version": "1.5.0",
      "model_name": "CheckboxModel",
      "state": {
       "description": "ALCX-ETH SLP (0.0)",
       "disabled": false,
       "layout": "IPY_MODEL_fdc2ebb941de41f7aafcde8a62bbad88",
       "style": "IPY_MODEL_56261bd63d424808a942ae04e0637119",
       "value": false
      }
     },
     "7cf7958a7c6b4f1fa99d9e9208e36902": {
      "model_module": "@jupyter-widgets/base",
      "model_module_version": "1.2.0",
      "model_name": "LayoutModel",
      "state": {}
     },
     "7d0307043548417c884c8dbc6904749b": {
      "model_module": "@jupyter-widgets/controls",
      "model_module_version": "1.5.0",
      "model_name": "DescriptionStyleModel",
      "state": {
       "description_width": ""
      }
     },
     "7d18572aa69c4c50b965532f52ad3d0c": {
      "model_module": "@jupyter-widgets/base",
      "model_module_version": "1.2.0",
      "model_name": "LayoutModel",
      "state": {}
     },
     "7d1a27454cd74f38a12cf648e17280ca": {
      "model_module": "@jupyter-widgets/base",
      "model_module_version": "1.2.0",
      "model_name": "LayoutModel",
      "state": {
       "width": "200px"
      }
     },
     "7d4b79e7504047a98765b1164be1af78": {
      "model_module": "@jupyter-widgets/controls",
      "model_module_version": "1.5.0",
      "model_name": "LabelModel",
      "state": {
       "layout": "IPY_MODEL_1577715beaa84d469f945244078044f1",
       "style": "IPY_MODEL_8b6953fe850e4b44ba6f3912536f7a9d",
       "value": "[Current block: 13905621]"
      }
     },
     "7d4f30df204646aab960a3550b9abf28": {
      "model_module": "@jupyter-widgets/base",
      "model_module_version": "1.2.0",
      "model_name": "LayoutModel",
      "state": {}
     },
     "7d556da2aaf74273bfb36126bed8945e": {
      "model_module": "@jupyter-widgets/base",
      "model_module_version": "1.2.0",
      "model_name": "LayoutModel",
      "state": {}
     },
     "7d619fa0e5294fe59b8008083ca36569": {
      "model_module": "@jupyter-widgets/base",
      "model_module_version": "1.2.0",
      "model_name": "LayoutModel",
      "state": {}
     },
     "7d7362319f554570bf37cc89e1327d09": {
      "model_module": "@jupyter-widgets/controls",
      "model_module_version": "1.5.0",
      "model_name": "DescriptionStyleModel",
      "state": {
       "description_width": ""
      }
     },
     "7d7797f056d74f51ac52ba41a7289e18": {
      "model_module": "@jupyter-widgets/controls",
      "model_module_version": "1.5.0",
      "model_name": "DescriptionStyleModel",
      "state": {
       "description_width": ""
      }
     },
     "7d928a4591674404b5c0ccc80f793038": {
      "model_module": "@jupyter-widgets/controls",
      "model_module_version": "1.5.0",
      "model_name": "DescriptionStyleModel",
      "state": {
       "description_width": ""
      }
     },
     "7dd402e84f68450da8be8d939c9feb9d": {
      "model_module": "@jupyter-widgets/base",
      "model_module_version": "1.2.0",
      "model_name": "LayoutModel",
      "state": {}
     },
     "7dd7b0ae79a3484b868a17a5947207b0": {
      "model_module": "@jupyter-widgets/controls",
      "model_module_version": "1.5.0",
      "model_name": "ButtonStyleModel",
      "state": {}
     },
     "7de3712b848c4466a21e46259d924aed": {
      "model_module": "@jupyter-widgets/controls",
      "model_module_version": "1.5.0",
      "model_name": "DescriptionStyleModel",
      "state": {
       "description_width": ""
      }
     },
     "7df42774c1654a8aa31b44952c0fd623": {
      "model_module": "@jupyter-widgets/base",
      "model_module_version": "1.2.0",
      "model_name": "LayoutModel",
      "state": {}
     },
     "7dfee500a49a4cde87df063c3c8749be": {
      "model_module": "@jupyter-widgets/base",
      "model_module_version": "1.2.0",
      "model_name": "LayoutModel",
      "state": {
       "width": "425px"
      }
     },
     "7e05d6c8f10b4541b077f2f3298ee3a4": {
      "model_module": "@jupyter-widgets/base",
      "model_module_version": "1.2.0",
      "model_name": "LayoutModel",
      "state": {}
     },
     "7e220ee32e7544f5a55c28281489b2a2": {
      "model_module": "@jupyter-widgets/base",
      "model_module_version": "1.2.0",
      "model_name": "LayoutModel",
      "state": {}
     },
     "7e4629a3143446a5985914999b11c294": {
      "model_module": "@jupyter-widgets/base",
      "model_module_version": "1.2.0",
      "model_name": "LayoutModel",
      "state": {}
     },
     "7e5a681edcb34b7ab0250107e6fc903f": {
      "model_module": "@jupyter-widgets/base",
      "model_module_version": "1.2.0",
      "model_name": "LayoutModel",
      "state": {}
     },
     "7e6044f872aa4dcfb30a02ed8607fa74": {
      "model_module": "@jupyter-widgets/controls",
      "model_module_version": "1.5.0",
      "model_name": "DescriptionStyleModel",
      "state": {
       "description_width": ""
      }
     },
     "7e6dabb049504ff9a86a01a1d5c8abf1": {
      "model_module": "@jupyter-widgets/controls",
      "model_module_version": "1.5.0",
      "model_name": "DescriptionStyleModel",
      "state": {
       "description_width": ""
      }
     },
     "7e7ea94c066f490a9f2b797721c02155": {
      "model_module": "@jupyter-widgets/controls",
      "model_module_version": "1.5.0",
      "model_name": "DescriptionStyleModel",
      "state": {
       "description_width": ""
      }
     },
     "7e926c190c304f2d812e2b43faf8eb2c": {
      "model_module": "@jupyter-widgets/base",
      "model_module_version": "1.2.0",
      "model_name": "LayoutModel",
      "state": {}
     },
     "7eb9c5d6fba74f5b815e6ec70d1419cf": {
      "model_module": "@jupyter-widgets/controls",
      "model_module_version": "1.5.0",
      "model_name": "DescriptionStyleModel",
      "state": {
       "description_width": ""
      }
     },
     "7ec19044053641cb9760d3a944cd52e0": {
      "model_module": "@jupyter-widgets/controls",
      "model_module_version": "1.5.0",
      "model_name": "CheckboxModel",
      "state": {
       "description": "DAI/ALCX (3.51924)",
       "disabled": false,
       "layout": "IPY_MODEL_7e05d6c8f10b4541b077f2f3298ee3a4",
       "style": "IPY_MODEL_560bd45b91df453a9f49b2121f6bf9bb",
       "value": true
      }
     },
     "7edc9c3d63814bdc85e8192d59438721": {
      "model_module": "@jupyter-widgets/base",
      "model_module_version": "1.2.0",
      "model_name": "LayoutModel",
      "state": {}
     },
     "7f780654612f45959a09c0e28609fd8f": {
      "model_module": "@jupyter-widgets/base",
      "model_module_version": "1.2.0",
      "model_name": "LayoutModel",
      "state": {}
     },
     "7f827a63be404602a83a1fa437f36cd2": {
      "model_module": "@jupyter-widgets/controls",
      "model_module_version": "1.5.0",
      "model_name": "CheckboxModel",
      "state": {
       "description": "ALCX-ETH SLP (0.0)",
       "disabled": false,
       "layout": "IPY_MODEL_bc29fd6e30844c8087c93cd33cfe3b5b",
       "style": "IPY_MODEL_a48eb8cc83cc4e04865b0e11a4a63808",
       "value": false
      }
     },
     "7f8adaa467654dfb87ea7966a026a1e7": {
      "model_module": "@jupyter-widgets/base",
      "model_module_version": "1.2.0",
      "model_name": "LayoutModel",
      "state": {}
     },
     "7fa377c3d23247b7a56b68cd9b8f0286": {
      "model_module": "@jupyter-widgets/controls",
      "model_module_version": "1.5.0",
      "model_name": "LabelModel",
      "state": {
       "layout": "IPY_MODEL_60e9d38afe744cb1b6fa9910a5323080",
       "style": "IPY_MODEL_f633e50e35d74d319a0e136b174e6aab",
       "value": "Max Payout: 96.15973854597343 ALCX"
      }
     },
     "7fd5449b1c2e45649f69c4482612ad6e": {
      "model_module": "@jupyter-widgets/base",
      "model_module_version": "1.2.0",
      "model_name": "LayoutModel",
      "state": {}
     },
     "7fe2b1e90803429380a7cb2355689506": {
      "model_module": "@jupyter-widgets/base",
      "model_module_version": "1.2.0",
      "model_name": "LayoutModel",
      "state": {}
     },
     "801c20c403574d9bbb1277ea90cb2535": {
      "model_module": "@jupyter-widgets/controls",
      "model_module_version": "1.5.0",
      "model_name": "LabelModel",
      "state": {
       "layout": "IPY_MODEL_bcddd182987c41438340018ba1080ff0",
       "style": "IPY_MODEL_0e343b5a14a146c7bf74695e1e85536f"
      }
     },
     "80334c61e71546bfbac5e694a4470fd4": {
      "model_module": "@jupyter-widgets/base",
      "model_module_version": "1.2.0",
      "model_name": "LayoutModel",
      "state": {}
     },
     "8046ea9f196d485689c2dd6a09814fb7": {
      "model_module": "@jupyter-widgets/controls",
      "model_module_version": "1.5.0",
      "model_name": "HBoxModel",
      "state": {
       "children": [
        "IPY_MODEL_0520343507a54ee7a791809560e0b79d",
        "IPY_MODEL_75e2c3357229410592e5596409f99ba0"
       ],
       "layout": "IPY_MODEL_8487cb76eb054d42b32ef1ab772911d5"
      }
     },
     "80788ac97f1142d4bc3fe036d55ea294": {
      "model_module": "@jupyter-widgets/base",
      "model_module_version": "1.2.0",
      "model_name": "LayoutModel",
      "state": {}
     },
     "807f36fb74e540c59331ef633a3e096c": {
      "model_module": "@jupyter-widgets/controls",
      "model_module_version": "1.5.0",
      "model_name": "DescriptionStyleModel",
      "state": {
       "description_width": ""
      }
     },
     "80894fba65344c13a534b5030e1043c9": {
      "model_module": "@jupyter-widgets/controls",
      "model_module_version": "1.5.0",
      "model_name": "DescriptionStyleModel",
      "state": {
       "description_width": ""
      }
     },
     "8099356f207f43e3be1c0232499c559d": {
      "model_module": "@jupyter-widgets/controls",
      "model_module_version": "1.5.0",
      "model_name": "TextModel",
      "state": {
       "description": "Address: ",
       "layout": "IPY_MODEL_29a1c78b5c6b4b9cb8441191cd647e05",
       "style": "IPY_MODEL_d4c47a02196e4f2eb7df8dd9158cb016",
       "value": "0xeEEC0e4927704ab3BBE5df7F4EfFa818b43665a3"
      }
     },
     "80a37063fa28462d89505dc826a0bfd8": {
      "model_module": "@jupyter-widgets/base",
      "model_module_version": "1.2.0",
      "model_name": "LayoutModel",
      "state": {}
     },
     "80a799acd03148929a00b7dca6d1e4e8": {
      "model_module": "@jupyter-widgets/controls",
      "model_module_version": "1.5.0",
      "model_name": "DescriptionStyleModel",
      "state": {
       "description_width": ""
      }
     },
     "80c2c0ffb8a24b86827bf76e28bca7d9": {
      "model_module": "@jupyter-widgets/controls",
      "model_module_version": "1.5.0",
      "model_name": "CheckboxModel",
      "state": {
       "description": "Use Wallet Balance (72.80737)",
       "disabled": false,
       "layout": "IPY_MODEL_f08450d5f64f446c8c7637d5c56958ad",
       "style": "IPY_MODEL_96ed06a1e5074721bcd331b57f1c52f7",
       "value": true
      }
     },
     "80e0119e800c4d7482cd9849a92ee0e3": {
      "model_module": "@jupyter-widgets/base",
      "model_module_version": "1.2.0",
      "model_name": "LayoutModel",
      "state": {
       "width": "425px"
      }
     },
     "8112ef662f01460089b1aff973143737": {
      "model_module": "@jupyter-widgets/base",
      "model_module_version": "1.2.0",
      "model_name": "LayoutModel",
      "state": {}
     },
     "813cf2af01914721aca974e014f5cb59": {
      "model_module": "@jupyter-widgets/base",
      "model_module_version": "1.2.0",
      "model_name": "LayoutModel",
      "state": {}
     },
     "81515dc95bf747e9a3972a1b90d8e095": {
      "model_module": "@jupyter-widgets/controls",
      "model_module_version": "1.5.0",
      "model_name": "DescriptionStyleModel",
      "state": {
       "description_width": ""
      }
     },
     "81667e5cfd4e4cf5a7a0f05b3c41e826": {
      "model_module": "@jupyter-widgets/controls",
      "model_module_version": "1.5.0",
      "model_name": "CheckboxModel",
      "state": {
       "description": "CVX/ALCX (0.0)",
       "disabled": false,
       "layout": "IPY_MODEL_bdd7685cd79143aab49f8bf2c4bcbd09",
       "style": "IPY_MODEL_e324271a7075472387d346e77a2ce754",
       "value": true
      }
     },
     "816f8f19c1944db49f45c4a5dec82ba1": {
      "model_module": "@jupyter-widgets/base",
      "model_module_version": "1.2.0",
      "model_name": "LayoutModel",
      "state": {
       "width": "425px"
      }
     },
     "8178032b3f4241e1a0aa7bd6304023cd": {
      "model_module": "@jupyter-widgets/controls",
      "model_module_version": "1.5.0",
      "model_name": "DescriptionStyleModel",
      "state": {
       "description_width": ""
      }
     },
     "818ebecbc9c7409594f9181e27f05b74": {
      "model_module": "@jupyter-widgets/base",
      "model_module_version": "1.2.0",
      "model_name": "LayoutModel",
      "state": {}
     },
     "819c5ee540d74af3a0b154e706306d04": {
      "model_module": "@jupyter-widgets/controls",
      "model_module_version": "1.5.0",
      "model_name": "CheckboxModel",
      "state": {
       "description": "DAI/ALCX (3.51091)",
       "disabled": false,
       "layout": "IPY_MODEL_a60adf35be8c4520ba7341226e781beb",
       "style": "IPY_MODEL_5e4b7f6296bf4073a8f7922f909e35bd",
       "value": false
      }
     },
     "81ac22e44d8f4ea4aed453d104cc9628": {
      "model_module": "@jupyter-widgets/controls",
      "model_module_version": "1.5.0",
      "model_name": "LabelModel",
      "state": {
       "layout": "IPY_MODEL_21c0d4fc552c4dbeb4e16f348a1a20ac",
       "style": "IPY_MODEL_44fb3fcaf57c46349e87eb7aacec33ab",
       "value": "Your Payout: 0.0 WETH"
      }
     },
     "8220d2f808c64f3e93819810bd059352": {
      "model_module": "@jupyter-widgets/controls",
      "model_module_version": "1.5.0",
      "model_name": "LabelModel",
      "state": {
       "layout": "IPY_MODEL_b92066853a6f45699460186ec048b7f8",
       "style": "IPY_MODEL_2f7fb48d6ec5466a9e00a4536c3688e3"
      }
     },
     "823d04651424470f9e7b9c1e410fcb02": {
      "model_module": "@jupyter-widgets/controls",
      "model_module_version": "1.5.0",
      "model_name": "LabelModel",
      "state": {
       "layout": "IPY_MODEL_9cef992329494c97ad2e3e4f7f5c9970",
       "style": "IPY_MODEL_6064b533a4a24919b28d5b70ac7ab9d7",
       "value": "Swapping 80.02291 ALCX for 5.136748424524337 WETH"
      }
     },
     "824a75dec4e34e2eb81f13be33432a64": {
      "model_module": "@jupyter-widgets/base",
      "model_module_version": "1.2.0",
      "model_name": "LayoutModel",
      "state": {}
     },
     "82544873a1b345b2af4e306ccde19a16": {
      "model_module": "@jupyter-widgets/base",
      "model_module_version": "1.2.0",
      "model_name": "LayoutModel",
      "state": {}
     },
     "828f364a50c4465b9d213d64b879f7b5": {
      "model_module": "@jupyter-widgets/controls",
      "model_module_version": "1.5.0",
      "model_name": "DescriptionStyleModel",
      "state": {
       "description_width": ""
      }
     },
     "82a4c10c3f37439a8438679ecdbe199a": {
      "model_module": "@jupyter-widgets/controls",
      "model_module_version": "1.5.0",
      "model_name": "LabelModel",
      "state": {
       "layout": "IPY_MODEL_4b95e49ff5d2477c905b9ff534ab44dc",
       "style": "IPY_MODEL_53e83bec58f4448d980a58b41ab3b8bf"
      }
     },
     "82a9ee7c375b4829b99ae18d0bbcd5cb": {
      "model_module": "@jupyter-widgets/base",
      "model_module_version": "1.2.0",
      "model_name": "LayoutModel",
      "state": {
       "width": "200px"
      }
     },
     "82aa14785dcc4a26845d54e964096c2d": {
      "model_module": "@jupyter-widgets/base",
      "model_module_version": "1.2.0",
      "model_name": "LayoutModel",
      "state": {}
     },
     "82de018c7ec84573bf211a12c7f5434f": {
      "model_module": "@jupyter-widgets/base",
      "model_module_version": "1.2.0",
      "model_name": "LayoutModel",
      "state": {}
     },
     "830edda8516e4055ac6671dc171221f9": {
      "model_module": "@jupyter-widgets/base",
      "model_module_version": "1.2.0",
      "model_name": "LayoutModel",
      "state": {}
     },
     "83154002285945218dd8decbf95095b8": {
      "model_module": "@jupyter-widgets/controls",
      "model_module_version": "1.5.0",
      "model_name": "LabelModel",
      "state": {
       "layout": "IPY_MODEL_6db0ff0327ed4d24bba95943681d9941",
       "style": "IPY_MODEL_d5b22aac6d5d4e02a446d55497f8492f",
       "value": "Max Payout: 96.15973854597343 ALCX"
      }
     },
     "831fe7a3a0184cb98a1f48c991e8ae6a": {
      "model_module": "@jupyter-widgets/base",
      "model_module_version": "1.2.0",
      "model_name": "LayoutModel",
      "state": {}
     },
     "8351774e11084630b949b18d891d1178": {
      "model_module": "@jupyter-widgets/controls",
      "model_module_version": "1.5.0",
      "model_name": "LabelModel",
      "state": {
       "layout": "IPY_MODEL_eff654fb38444a8fae7af8d1a9cecfad",
       "style": "IPY_MODEL_e242985f2ee2424d803e152fdf0d1e07",
       "value": "Select Pool to Bond:"
      }
     },
     "8379c1d4248746958a1a65f37a62f3bf": {
      "model_module": "@jupyter-widgets/base",
      "model_module_version": "1.2.0",
      "model_name": "LayoutModel",
      "state": {}
     },
     "838437b617fc46aab50bf8aed9b07516": {
      "model_module": "@jupyter-widgets/controls",
      "model_module_version": "1.5.0",
      "model_name": "LabelModel",
      "state": {
       "layout": "IPY_MODEL_7df42774c1654a8aa31b44952c0fd623",
       "style": "IPY_MODEL_8f1558f0c3d84cc4a15d77ab9a479fdf",
       "value": "Max Payout: 96.15973854597343 ALCX"
      }
     },
     "83ab8831462742709b9a11e3a827be8d": {
      "model_module": "@jupyter-widgets/controls",
      "model_module_version": "1.5.0",
      "model_name": "HBoxModel",
      "state": {
       "children": [
        "IPY_MODEL_2b61928653ad48f88ed1363cfd4d8ae7",
        "IPY_MODEL_5f9af9cd0219407bae35390008bb8987"
       ],
       "layout": "IPY_MODEL_089df7a9ec8c4d4eb1b0ccec143e3caa"
      }
     },
     "83b25e725b8e40eeadee89b2b508a7ec": {
      "model_module": "@jupyter-widgets/base",
      "model_module_version": "1.2.0",
      "model_name": "LayoutModel",
      "state": {}
     },
     "83ea6ea6ab4648619e3ffe898eb4ed22": {
      "model_module": "@jupyter-widgets/base",
      "model_module_version": "1.2.0",
      "model_name": "LayoutModel",
      "state": {}
     },
     "83ee4d50b5354ab99e7637857e9e9a45": {
      "model_module": "@jupyter-widgets/controls",
      "model_module_version": "1.5.0",
      "model_name": "CheckboxModel",
      "state": {
       "description": "CVX/ALCX (0.0)",
       "disabled": false,
       "layout": "IPY_MODEL_d43f7303a3ec467fa0847429d499277b",
       "style": "IPY_MODEL_ad319892a19a45069a73bad669b2414a",
       "value": false
      }
     },
     "83ffe1c76a2340d18a0722ab03411652": {
      "model_module": "@jupyter-widgets/base",
      "model_module_version": "1.2.0",
      "model_name": "LayoutModel",
      "state": {}
     },
     "841f2febaa7b41cfba4cb631d83c6ace": {
      "model_module": "@jupyter-widgets/controls",
      "model_module_version": "1.5.0",
      "model_name": "DescriptionStyleModel",
      "state": {
       "description_width": ""
      }
     },
     "84355aae60dd40d48bd225dcf956a4d4": {
      "model_module": "@jupyter-widgets/base",
      "model_module_version": "1.2.0",
      "model_name": "LayoutModel",
      "state": {}
     },
     "844a03f0516e450eb7246e5d1cf85f2d": {
      "model_module": "@jupyter-widgets/controls",
      "model_module_version": "1.5.0",
      "model_name": "LabelModel",
      "state": {
       "layout": "IPY_MODEL_07e7b668dbb84c2996fd01665416f70d",
       "style": "IPY_MODEL_e92120e54db440f2a7328a2146bbf748"
      }
     },
     "84598be92c7a4b4ea2f0a134c9a49a28": {
      "model_module": "@jupyter-widgets/controls",
      "model_module_version": "1.5.0",
      "model_name": "LabelModel",
      "state": {
       "layout": "IPY_MODEL_5fab6e55049e416db74fae9a79d5a8e2",
       "style": "IPY_MODEL_48636aa4b5e24bf58e79c838453af41f",
       "value": "Swapping 42.18779 ALCX for 2.6953939400969538 WETH"
      }
     },
     "846fb15432cb4a4f94df187a54f4da04": {
      "model_module": "@jupyter-widgets/controls",
      "model_module_version": "1.5.0",
      "model_name": "DescriptionStyleModel",
      "state": {
       "description_width": ""
      }
     },
     "84729694df764afea74dd669ff2b527f": {
      "model_module": "@jupyter-widgets/base",
      "model_module_version": "1.2.0",
      "model_name": "LayoutModel",
      "state": {
       "width": "200px"
      }
     },
     "847a230cd38e4d02bd31332b388d52b1": {
      "model_module": "@jupyter-widgets/base",
      "model_module_version": "1.2.0",
      "model_name": "LayoutModel",
      "state": {}
     },
     "8487cb76eb054d42b32ef1ab772911d5": {
      "model_module": "@jupyter-widgets/base",
      "model_module_version": "1.2.0",
      "model_name": "LayoutModel",
      "state": {}
     },
     "848a87a100e54d2aa6f7965db062af90": {
      "model_module": "@jupyter-widgets/base",
      "model_module_version": "1.2.0",
      "model_name": "LayoutModel",
      "state": {}
     },
     "84af777e27ad4401b620390a68733899": {
      "model_module": "@jupyter-widgets/base",
      "model_module_version": "1.2.0",
      "model_name": "LayoutModel",
      "state": {}
     },
     "84c803897240448d8a585c35f0fbf425": {
      "model_module": "@jupyter-widgets/base",
      "model_module_version": "1.2.0",
      "model_name": "LayoutModel",
      "state": {}
     },
     "84e9a251ac144f5484f78fe67fb356f0": {
      "model_module": "@jupyter-widgets/controls",
      "model_module_version": "1.5.0",
      "model_name": "DescriptionStyleModel",
      "state": {
       "description_width": ""
      }
     },
     "84f26012eab140a09a91e53ef23a4cbe": {
      "model_module": "@jupyter-widgets/base",
      "model_module_version": "1.2.0",
      "model_name": "LayoutModel",
      "state": {}
     },
     "84f9448a7d69470eb586e864b64c145c": {
      "model_module": "@jupyter-widgets/controls",
      "model_module_version": "1.5.0",
      "model_name": "DescriptionStyleModel",
      "state": {
       "description_width": ""
      }
     },
     "850604d97b9f45b6ba1c21269e99e3ca": {
      "model_module": "@jupyter-widgets/base",
      "model_module_version": "1.2.0",
      "model_name": "LayoutModel",
      "state": {}
     },
     "851b48e1a663483fa8bab8335cb6891f": {
      "model_module": "@jupyter-widgets/controls",
      "model_module_version": "1.5.0",
      "model_name": "DescriptionStyleModel",
      "state": {
       "description_width": ""
      }
     },
     "8522c7975d92407aa86691c4b1eebd31": {
      "model_module": "@jupyter-widgets/base",
      "model_module_version": "1.2.0",
      "model_name": "LayoutModel",
      "state": {}
     },
     "8523c5f86c57454a8e54de1d778b4f22": {
      "model_module": "@jupyter-widgets/base",
      "model_module_version": "1.2.0",
      "model_name": "LayoutModel",
      "state": {}
     },
     "85377b0cfa0746bd946f12e8150e0925": {
      "model_module": "@jupyter-widgets/controls",
      "model_module_version": "1.5.0",
      "model_name": "DescriptionStyleModel",
      "state": {
       "description_width": ""
      }
     },
     "855d6a6a29fc43cb854f06c6a037b490": {
      "model_module": "@jupyter-widgets/controls",
      "model_module_version": "1.5.0",
      "model_name": "DescriptionStyleModel",
      "state": {
       "description_width": ""
      }
     },
     "85aa29874df14e2e9f80e5a84f81d569": {
      "model_module": "@jupyter-widgets/controls",
      "model_module_version": "1.5.0",
      "model_name": "DescriptionStyleModel",
      "state": {
       "description_width": ""
      }
     },
     "85aad44c39e14018893d7a212d683a8b": {
      "model_module": "@jupyter-widgets/base",
      "model_module_version": "1.2.0",
      "model_name": "LayoutModel",
      "state": {
       "width": "425px"
      }
     },
     "85d28b0d0470451ab2716a2ba8efbffe": {
      "model_module": "@jupyter-widgets/base",
      "model_module_version": "1.2.0",
      "model_name": "LayoutModel",
      "state": {}
     },
     "85ea89080005483f87896e807f899900": {
      "model_module": "@jupyter-widgets/base",
      "model_module_version": "1.2.0",
      "model_name": "LayoutModel",
      "state": {}
     },
     "85f36ba138524a7287ceb667c1b7bd32": {
      "model_module": "@jupyter-widgets/base",
      "model_module_version": "1.2.0",
      "model_name": "LayoutModel",
      "state": {}
     },
     "860e1d00ab3840229ff7f93dce511fe9": {
      "model_module": "@jupyter-widgets/base",
      "model_module_version": "1.2.0",
      "model_name": "LayoutModel",
      "state": {}
     },
     "861e6eaef3a14c508d67ab40ef0e4f7a": {
      "model_module": "@jupyter-widgets/controls",
      "model_module_version": "1.5.0",
      "model_name": "ButtonStyleModel",
      "state": {}
     },
     "86237f2f8f8f4650a5097e8e80753c2f": {
      "model_module": "@jupyter-widgets/base",
      "model_module_version": "1.2.0",
      "model_name": "LayoutModel",
      "state": {}
     },
     "862cd4d6c9244fe28e88bb7014227637": {
      "model_module": "@jupyter-widgets/controls",
      "model_module_version": "1.5.0",
      "model_name": "LabelModel",
      "state": {
       "layout": "IPY_MODEL_a567ba0b474e47988e040cbfb3514263",
       "style": "IPY_MODEL_ad8bd9d81b6845409f49327ccb27ae09",
       "value": "Your Payout: 0 WETH"
      }
     },
     "863d4ae9634c413c9189aa861333702b": {
      "model_module": "@jupyter-widgets/controls",
      "model_module_version": "1.5.0",
      "model_name": "DescriptionStyleModel",
      "state": {
       "description_width": ""
      }
     },
     "86583e81c4f34497bd3283f944eaaeb0": {
      "model_module": "@jupyter-widgets/controls",
      "model_module_version": "1.5.0",
      "model_name": "CheckboxModel",
      "state": {
       "description": "WETH/ALCX (7.2399)",
       "disabled": false,
       "layout": "IPY_MODEL_0ecf0ceceacb409ca8a7541ba596855e",
       "style": "IPY_MODEL_bd1d389ddabc42d3b0b33b24f4eae834",
       "value": true
      }
     },
     "8662edbf836d454daed8665e53e530e6": {
      "model_module": "@jupyter-widgets/controls",
      "model_module_version": "1.5.0",
      "model_name": "LabelModel",
      "state": {
       "layout": "IPY_MODEL_eade7ac18a8c49e0b93f73822f815d8f",
       "style": "IPY_MODEL_799eaab59b0d4cb688fcde0060c70d5f",
       "value": "Supplying 2.583710081965526 WETH and 40.15274 ALCX for 9.539397400921018 ALCX-ETH SLP"
      }
     },
     "866a6651bcf8498e9df2c62c03037155": {
      "model_module": "@jupyter-widgets/controls",
      "model_module_version": "1.5.0",
      "model_name": "LabelModel",
      "state": {
       "layout": "IPY_MODEL_480b230f7e7549449bac3e9709bdfe87",
       "style": "IPY_MODEL_536745e9bf7947e5a47dd19914f44e4b",
       "value": "Max Payout: 96.15992295640763 ALCX"
      }
     },
     "8674b9b34d5346a6bf52a5293bf35a33": {
      "model_module": "@jupyter-widgets/controls",
      "model_module_version": "1.5.0",
      "model_name": "VBoxModel",
      "state": {
       "children": [
        "IPY_MODEL_31019918b498439bbcb92ef3b4664ca0",
        "IPY_MODEL_bf4d59c1c2354a9db4e32ef68850a534",
        "IPY_MODEL_43b6d92c666a4b84b0ce022460680b00",
        "IPY_MODEL_51363463d5ee494a846eb0bd6527517d",
        "IPY_MODEL_443c4332b5cf42e0815912a6baa1b46c",
        "IPY_MODEL_8a747af60db7487ea621cdfae7b44fb2",
        "IPY_MODEL_c05605cd60a84679876f6ab5b32748bc",
        "IPY_MODEL_6bc5acd2904746ecacd45c3bdde4632a",
        "IPY_MODEL_72ba345fa2b74dbd97bc1cba3299a447",
        "IPY_MODEL_af4e98d7238143df97e8596ac49b9dc7",
        "IPY_MODEL_0fb27b567d2a48928966698550cc9d12",
        "IPY_MODEL_288852d9162348a6a53501fe2492c9eb",
        "IPY_MODEL_9698d382abe844d49d51c82441d9afe0",
        "IPY_MODEL_274b932327c443b2812befe0c92b2b85"
       ],
       "layout": "IPY_MODEL_173ac22556ba497b80624121e65558d7"
      }
     },
     "86b7c8db5d1c492eb2b41bbe3ec2d4bb": {
      "model_module": "@jupyter-widgets/controls",
      "model_module_version": "1.5.0",
      "model_name": "LabelModel",
      "state": {
       "layout": "IPY_MODEL_66dc53b5a3b44266a32d52fc8a3820c5",
       "style": "IPY_MODEL_0306861fd0ca45748104199c42edc347",
       "value": "Select Assets to Claim:"
      }
     },
     "86d53ceaed7f40ed8d68169659436b68": {
      "model_module": "@jupyter-widgets/base",
      "model_module_version": "1.2.0",
      "model_name": "LayoutModel",
      "state": {}
     },
     "86f1b609ac834047bb12078743b3789b": {
      "model_module": "@jupyter-widgets/controls",
      "model_module_version": "1.5.0",
      "model_name": "DropdownModel",
      "state": {
       "_options_labels": [
        "WETH/ALCX",
        "DAI/ALCX",
        "CVX/ALCX",
        "ALCX-ETH SLP"
       ],
       "index": 0,
       "layout": "IPY_MODEL_dbb43d7053f64e80948d873a42694ced",
       "style": "IPY_MODEL_68684a13606d41b791c5fc31b994fcd5"
      }
     },
     "870b6983b2b54d91869c40c0d8ae660f": {
      "model_module": "@jupyter-widgets/base",
      "model_module_version": "1.2.0",
      "model_name": "LayoutModel",
      "state": {}
     },
     "8714fdf19d2e49a5ac0cc4c6154b0ad6": {
      "model_module": "@jupyter-widgets/controls",
      "model_module_version": "1.5.0",
      "model_name": "DescriptionStyleModel",
      "state": {
       "description_width": ""
      }
     },
     "87272083c35d43288d1eb81f0f4d2346": {
      "model_module": "@jupyter-widgets/controls",
      "model_module_version": "1.5.0",
      "model_name": "CheckboxModel",
      "state": {
       "description": "CVX/ALCX (0.0)",
       "disabled": false,
       "layout": "IPY_MODEL_508e7004f16f40c59c7f472ce5d90257",
       "style": "IPY_MODEL_7227a76e45b14f489d39d1fbad9789cd",
       "value": false
      }
     },
     "873d31f5106c4091a974e468bbcfa0ce": {
      "model_module": "@jupyter-widgets/base",
      "model_module_version": "1.2.0",
      "model_name": "LayoutModel",
      "state": {}
     },
     "8744da0709a04660a60557b0b6b321fa": {
      "model_module": "@jupyter-widgets/controls",
      "model_module_version": "1.5.0",
      "model_name": "VBoxModel",
      "state": {
       "children": [
        "IPY_MODEL_fd1f395f53484096b6f5268e33f89d23",
        "IPY_MODEL_6e882cd585f84f1a906993eac2b7fdd4",
        "IPY_MODEL_17acbe711211437cb76cdcae2fc43296",
        "IPY_MODEL_8827c92e5a3948c196a4ec1a79fafa6a",
        "IPY_MODEL_f2aa5d8823844fc78cbf141f4c1b226c",
        "IPY_MODEL_7c494f699e8d44bc9805f3bce6a14b68",
        "IPY_MODEL_4bc11143004b49e6b9d5698848250242",
        "IPY_MODEL_d3b8a40636774ab98a913d2687544f3f",
        "IPY_MODEL_ca120c0409d04b0f8cc65e22f3d0ed68",
        "IPY_MODEL_45e167e9d64641d1ae07020e55d507d4",
        "IPY_MODEL_a22c48e414b647029e223fc8ff008a0a",
        "IPY_MODEL_56b4e4b0ac9f454981d3b541363f028e",
        "IPY_MODEL_a497e2c6907f445e82f61bca78fe93f9",
        "IPY_MODEL_a22337459a2d4e04ad6cbbbe995da9aa"
       ],
       "layout": "IPY_MODEL_6aad5522a34c484c99c14271d30cc0b0"
      }
     },
     "8761468f59c84b91aabe22177fa3aaec": {
      "model_module": "@jupyter-widgets/base",
      "model_module_version": "1.2.0",
      "model_name": "LayoutModel",
      "state": {}
     },
     "877e652e23204410916a041c5b8ee805": {
      "model_module": "@jupyter-widgets/controls",
      "model_module_version": "1.5.0",
      "model_name": "DescriptionStyleModel",
      "state": {
       "description_width": ""
      }
     },
     "8789a1174681401e844fd25f62caca25": {
      "model_module": "@jupyter-widgets/controls",
      "model_module_version": "1.5.0",
      "model_name": "HBoxModel",
      "state": {
       "children": [
        "IPY_MODEL_bcdb97c228694745ab65d00df260f5e5",
        "IPY_MODEL_4477e8016b694da5b9a6839b945ad79f"
       ],
       "layout": "IPY_MODEL_e6feaa8671e74c9e87427289c9fb7d7d"
      }
     },
     "879b188b8c0b4a9f9bd14440720b70dc": {
      "model_module": "@jupyter-widgets/controls",
      "model_module_version": "1.5.0",
      "model_name": "CheckboxModel",
      "state": {
       "description": "WETH/ALCX (7.45427)",
       "disabled": false,
       "layout": "IPY_MODEL_3fa22198d2c342cca682165d3073c3e5",
       "style": "IPY_MODEL_7a157137fdaa4533b76c807b8e61691e",
       "value": true
      }
     },
     "879c8246a1b44e7c9d4a87bafa20d8c1": {
      "model_module": "@jupyter-widgets/controls",
      "model_module_version": "1.5.0",
      "model_name": "HBoxModel",
      "state": {
       "children": [
        "IPY_MODEL_6e6ace72a6be4cdca7f8f6218bfdd76d",
        "IPY_MODEL_c3a804bf6558420e8caad3d90ca6bf85"
       ],
       "layout": "IPY_MODEL_2aecb1955c9c47ddb8a33e0fd434a717"
      }
     },
     "87b5303993864b03b738484a0311c166": {
      "model_module": "@jupyter-widgets/controls",
      "model_module_version": "1.5.0",
      "model_name": "LabelModel",
      "state": {
       "layout": "IPY_MODEL_85d28b0d0470451ab2716a2ba8efbffe",
       "style": "IPY_MODEL_765d24b22853495698a5279ab2b720cb",
       "value": "Swapping 80.23728 ALCX for 433.0450664152934 CVX"
      }
     },
     "87fc86782d6a4fab9972404e61e9fe9b": {
      "model_module": "@jupyter-widgets/base",
      "model_module_version": "1.2.0",
      "model_name": "LayoutModel",
      "state": {}
     },
     "880486870a1c49c69a48c08d165429ec": {
      "model_module": "@jupyter-widgets/base",
      "model_module_version": "1.2.0",
      "model_name": "LayoutModel",
      "state": {}
     },
     "882507c51e1449e3b9e8714d4bccec2b": {
      "model_module": "@jupyter-widgets/controls",
      "model_module_version": "1.5.0",
      "model_name": "ButtonStyleModel",
      "state": {}
     },
     "8827c92e5a3948c196a4ec1a79fafa6a": {
      "model_module": "@jupyter-widgets/controls",
      "model_module_version": "1.5.0",
      "model_name": "CheckboxModel",
      "state": {
       "description": "Use Wallet Balance (72.80737)",
       "disabled": false,
       "layout": "IPY_MODEL_65ff1348dc7949ae83ca7cb24ee778e2",
       "style": "IPY_MODEL_7d7797f056d74f51ac52ba41a7289e18",
       "value": true
      }
     },
     "883c1310bc0444a783394b81f6c5ddc8": {
      "model_module": "@jupyter-widgets/controls",
      "model_module_version": "1.5.0",
      "model_name": "DescriptionStyleModel",
      "state": {
       "description_width": ""
      }
     },
     "88421758384244a393dca24afc63b20a": {
      "model_module": "@jupyter-widgets/base",
      "model_module_version": "1.2.0",
      "model_name": "LayoutModel",
      "state": {}
     },
     "889246d4a9914de0bc7a4d99a4d42859": {
      "model_module": "@jupyter-widgets/controls",
      "model_module_version": "1.5.0",
      "model_name": "LabelModel",
      "state": {
       "layout": "IPY_MODEL_eb6cdf0dd6f647fe8d9f1d74cc3008d1",
       "style": "IPY_MODEL_9957a49c186a436180bd9fab0a061ee0",
       "value": "Swapping 80.21292 ALCX for 5.13837777913979 WETH"
      }
     },
     "88fbd9aa7528412299ee1254cc352f83": {
      "model_module": "@jupyter-widgets/controls",
      "model_module_version": "1.5.0",
      "model_name": "TextModel",
      "state": {
       "description": "Address: ",
       "layout": "IPY_MODEL_79289326cf3d41708a277b3e3bf5dc24",
       "style": "IPY_MODEL_16fc64120dde411c8320ccdf7997d6e3",
       "value": "0xeEEC0e4927704ab3BBE5df7F4EfFa818b43665a3"
      }
     },
     "88fd4bd3634f47fe913edd0172d320de": {
      "model_module": "@jupyter-widgets/base",
      "model_module_version": "1.2.0",
      "model_name": "LayoutModel",
      "state": {}
     },
     "890cf03bda17486eaeee2eb14bb9df91": {
      "model_module": "@jupyter-widgets/base",
      "model_module_version": "1.2.0",
      "model_name": "LayoutModel",
      "state": {}
     },
     "8947ea6ead564432a95a6010b56a7b2a": {
      "model_module": "@jupyter-widgets/controls",
      "model_module_version": "1.5.0",
      "model_name": "DescriptionStyleModel",
      "state": {
       "description_width": ""
      }
     },
     "898c8f31447643ee8b589c7e530f50fc": {
      "model_module": "@jupyter-widgets/controls",
      "model_module_version": "1.5.0",
      "model_name": "CheckboxModel",
      "state": {
       "description": "CVX/ALCX (0.0)",
       "disabled": false,
       "layout": "IPY_MODEL_efd94bf3679d4e8bb66df07f8a17202b",
       "style": "IPY_MODEL_487aa68e84f9405da699666871191041",
       "value": false
      }
     },
     "89d8b56dd8ac447a816060276109c64b": {
      "model_module": "@jupyter-widgets/controls",
      "model_module_version": "1.5.0",
      "model_name": "DescriptionStyleModel",
      "state": {
       "description_width": ""
      }
     },
     "89e99243d3b44f9c9bbed7f19b4dbd52": {
      "model_module": "@jupyter-widgets/controls",
      "model_module_version": "1.5.0",
      "model_name": "ButtonModel",
      "state": {
       "description": "Generate MultiCall Data",
       "layout": "IPY_MODEL_f6971249a6384911bf2425beb40cbd60",
       "style": "IPY_MODEL_5c9247177675458aadfd577615abb905"
      }
     },
     "89fc02ef64234ccca322c30233511a80": {
      "model_module": "@jupyter-widgets/base",
      "model_module_version": "1.2.0",
      "model_name": "LayoutModel",
      "state": {}
     },
     "8a08c42754a9430a87f6dd0404b8585e": {
      "model_module": "@jupyter-widgets/controls",
      "model_module_version": "1.5.0",
      "model_name": "DropdownModel",
      "state": {
       "_options_labels": [
        "WETH/ALCX",
        "DAI/ALCX",
        "CVX/ALCX",
        "ALCX-ETH SLP"
       ],
       "index": 3,
       "layout": "IPY_MODEL_0d2d382711b043bab48194f1670094dc",
       "style": "IPY_MODEL_a8fe3f20720243778a90015ccc53fe4d"
      }
     },
     "8a177269853e4f22af06832462f505ce": {
      "model_module": "@jupyter-widgets/controls",
      "model_module_version": "1.5.0",
      "model_name": "DescriptionStyleModel",
      "state": {
       "description_width": ""
      }
     },
     "8a26a6fd9556462ab7b3739340540ed4": {
      "model_module": "@jupyter-widgets/base",
      "model_module_version": "1.2.0",
      "model_name": "LayoutModel",
      "state": {}
     },
     "8a40fa993a904b37ad7d5216ce8bc884": {
      "model_module": "@jupyter-widgets/base",
      "model_module_version": "1.2.0",
      "model_name": "LayoutModel",
      "state": {}
     },
     "8a484f3ce8294b27b777417f149ba66b": {
      "model_module": "@jupyter-widgets/controls",
      "model_module_version": "1.5.0",
      "model_name": "DescriptionStyleModel",
      "state": {
       "description_width": ""
      }
     },
     "8a4e1886961f477db1e859dc01f335d7": {
      "model_module": "@jupyter-widgets/controls",
      "model_module_version": "1.5.0",
      "model_name": "DescriptionStyleModel",
      "state": {
       "description_width": ""
      }
     },
     "8a747af60db7487ea621cdfae7b44fb2": {
      "model_module": "@jupyter-widgets/controls",
      "model_module_version": "1.5.0",
      "model_name": "HBoxModel",
      "state": {
       "children": [
        "IPY_MODEL_ac4cc6114b3445e3881cfb806fde4966",
        "IPY_MODEL_7f827a63be404602a83a1fa437f36cd2"
       ],
       "layout": "IPY_MODEL_6801ebe27aca4db0a8e55a009d8d3197"
      }
     },
     "8aa2a7ccc8824653aad25a5d2994b0a2": {
      "model_module": "@jupyter-widgets/base",
      "model_module_version": "1.2.0",
      "model_name": "LayoutModel",
      "state": {}
     },
     "8abddb22b1df4722a51e0139454d5cbf": {
      "model_module": "@jupyter-widgets/base",
      "model_module_version": "1.2.0",
      "model_name": "LayoutModel",
      "state": {}
     },
     "8ad1217c1b4447bea09bfd043786e8c9": {
      "model_module": "@jupyter-widgets/base",
      "model_module_version": "1.2.0",
      "model_name": "LayoutModel",
      "state": {}
     },
     "8afe6c61d88c4bc3b0c3988707238bcd": {
      "model_module": "@jupyter-widgets/base",
      "model_module_version": "1.2.0",
      "model_name": "LayoutModel",
      "state": {}
     },
     "8b09e0a849f44bc39c2e6deb5ccf97ca": {
      "model_module": "@jupyter-widgets/controls",
      "model_module_version": "1.5.0",
      "model_name": "DescriptionStyleModel",
      "state": {
       "description_width": ""
      }
     },
     "8b3c67442c6446ceb121b842286f44c7": {
      "model_module": "@jupyter-widgets/base",
      "model_module_version": "1.2.0",
      "model_name": "LayoutModel",
      "state": {}
     },
     "8b484c8bd9604266b3e506596c31bd4f": {
      "model_module": "@jupyter-widgets/base",
      "model_module_version": "1.2.0",
      "model_name": "LayoutModel",
      "state": {}
     },
     "8b4e9268841b48ed9238c8a578a047d5": {
      "model_module": "@jupyter-widgets/controls",
      "model_module_version": "1.5.0",
      "model_name": "LabelModel",
      "state": {
       "layout": "IPY_MODEL_696bc84bf01243858139b66f94ae9a5b",
       "style": "IPY_MODEL_72e6259987a44cf48c6e0bd91524d3fb",
       "value": "Your Payout: 5.13837777913979e+18 WETH"
      }
     },
     "8b504ee5ca1944459318519e5ec45185": {
      "model_module": "@jupyter-widgets/base",
      "model_module_version": "1.2.0",
      "model_name": "LayoutModel",
      "state": {}
     },
     "8b6953fe850e4b44ba6f3912536f7a9d": {
      "model_module": "@jupyter-widgets/controls",
      "model_module_version": "1.5.0",
      "model_name": "DescriptionStyleModel",
      "state": {
       "description_width": ""
      }
     },
     "8b814060f4d84dee82aedbc206990122": {
      "model_module": "@jupyter-widgets/base",
      "model_module_version": "1.2.0",
      "model_name": "LayoutModel",
      "state": {}
     },
     "8b8495ed823f4a3c84e2f4cdc25b9dc6": {
      "model_module": "@jupyter-widgets/controls",
      "model_module_version": "1.5.0",
      "model_name": "LabelModel",
      "state": {
       "layout": "IPY_MODEL_308deaced5e8495aadb4e342a81b21b0",
       "style": "IPY_MODEL_5e87c842890c41ba8090f757478de031",
       "value": "Swapping 7.45427 ALCX for 0.4776984925088639 WETH"
      }
     },
     "8bcc6f83e4664c35b0d23e6b68a7fd76": {
      "model_module": "@jupyter-widgets/base",
      "model_module_version": "1.2.0",
      "model_name": "LayoutModel",
      "state": {}
     },
     "8bea8868c59b47cb99a3fd0e661b80a3": {
      "model_module": "@jupyter-widgets/controls",
      "model_module_version": "1.5.0",
      "model_name": "ButtonStyleModel",
      "state": {}
     },
     "8bf62832f59743b6b82113ae06662d54": {
      "model_module": "@jupyter-widgets/controls",
      "model_module_version": "1.5.0",
      "model_name": "DescriptionStyleModel",
      "state": {
       "description_width": ""
      }
     },
     "8c3e6f88a94d485cb303fcede294897d": {
      "model_module": "@jupyter-widgets/controls",
      "model_module_version": "1.5.0",
      "model_name": "DescriptionStyleModel",
      "state": {
       "description_width": ""
      }
     },
     "8c460baf8b714ea3b43626406216de7b": {
      "model_module": "@jupyter-widgets/base",
      "model_module_version": "1.2.0",
      "model_name": "LayoutModel",
      "state": {}
     },
     "8c4c20be235846b7affc26176e4ef570": {
      "model_module": "@jupyter-widgets/base",
      "model_module_version": "1.2.0",
      "model_name": "LayoutModel",
      "state": {
       "width": "425px"
      }
     },
     "8c59745bb9d041b08ed90740ea624a53": {
      "model_module": "@jupyter-widgets/base",
      "model_module_version": "1.2.0",
      "model_name": "LayoutModel",
      "state": {}
     },
     "8c5e3da091c64cae83afd9ed4eac79dc": {
      "model_module": "@jupyter-widgets/controls",
      "model_module_version": "1.5.0",
      "model_name": "ButtonModel",
      "state": {
       "description": "Generate MultiCall Data",
       "layout": "IPY_MODEL_af0cbae86e5f4131ae0450e3a3007a12",
       "style": "IPY_MODEL_cc329e141611468db77dda815b955356"
      }
     },
     "8c87d8e1b53b43898c769854d22c3ccd": {
      "model_module": "@jupyter-widgets/controls",
      "model_module_version": "1.5.0",
      "model_name": "DescriptionStyleModel",
      "state": {
       "description_width": ""
      }
     },
     "8ca3a80c5a9244bf8e2d08f18849d902": {
      "model_module": "@jupyter-widgets/base",
      "model_module_version": "1.2.0",
      "model_name": "LayoutModel",
      "state": {}
     },
     "8cb384fbbbf141f89a9c67ed89a1c738": {
      "model_module": "@jupyter-widgets/controls",
      "model_module_version": "1.5.0",
      "model_name": "DescriptionStyleModel",
      "state": {
       "description_width": ""
      }
     },
     "8cee57cefd8d4e5eb8adf4e0fab2bdde": {
      "model_module": "@jupyter-widgets/controls",
      "model_module_version": "1.5.0",
      "model_name": "LabelModel",
      "state": {
       "layout": "IPY_MODEL_4b74bd5fac0940178541e27743ea80bb",
       "style": "IPY_MODEL_b24d762723284a3ab81bc49a8bc7c789",
       "value": "[Current block: 13905391]"
      }
     },
     "8d06aa6a52b2464ca06ba977bacd6b1f": {
      "model_module": "@jupyter-widgets/controls",
      "model_module_version": "1.5.0",
      "model_name": "LabelModel",
      "state": {
       "layout": "IPY_MODEL_199ecde9c78c49f8b1256c8e05e61e73",
       "style": "IPY_MODEL_306c24b538764cff85437379c87e195c",
       "value": "Max Input: 5.980743248830788 WETH"
      }
     },
     "8d1668009c9d491f9c31849c0461c36a": {
      "model_module": "@jupyter-widgets/controls",
      "model_module_version": "1.5.0",
      "model_name": "DescriptionStyleModel",
      "state": {
       "description_width": ""
      }
     },
     "8d3f3252f5554bc2bb912d70c8fde1a4": {
      "model_module": "@jupyter-widgets/base",
      "model_module_version": "1.2.0",
      "model_name": "LayoutModel",
      "state": {}
     },
     "8dcfb22d6c3b4095a6ab0abbe7df6eef": {
      "model_module": "@jupyter-widgets/controls",
      "model_module_version": "1.5.0",
      "model_name": "DescriptionStyleModel",
      "state": {
       "description_width": ""
      }
     },
     "8dd1e620ae03459ebc9f3ea197f59acb": {
      "model_module": "@jupyter-widgets/controls",
      "model_module_version": "1.5.0",
      "model_name": "LabelModel",
      "state": {
       "layout": "IPY_MODEL_2112f6149b3b4d8487a7aba59b17526b",
       "style": "IPY_MODEL_9f321e57ab9a4b4ab72116d531e46668",
       "value": "Max Payout: 96.15973854597343 ALCX"
      }
     },
     "8dd5f24e18534f58931dbc5438d93454": {
      "model_module": "@jupyter-widgets/controls",
      "model_module_version": "1.5.0",
      "model_name": "HBoxModel",
      "state": {
       "children": [
        "IPY_MODEL_97890e384796493d9a71e22edf6c5c25",
        "IPY_MODEL_6a8bcc5cfea740f991885384935709b8"
       ],
       "layout": "IPY_MODEL_e371ec40bfb4440cb9adad123d32d279"
      }
     },
     "8dd80bfcc3734074a517b216ba337b61": {
      "model_module": "@jupyter-widgets/base",
      "model_module_version": "1.2.0",
      "model_name": "LayoutModel",
      "state": {}
     },
     "8e072c07ff9346f99d2c61f07c49aade": {
      "model_module": "@jupyter-widgets/controls",
      "model_module_version": "1.5.0",
      "model_name": "DescriptionStyleModel",
      "state": {
       "description_width": ""
      }
     },
     "8e0a41f602804f94b53a4941fac54652": {
      "model_module": "@jupyter-widgets/controls",
      "model_module_version": "1.5.0",
      "model_name": "DescriptionStyleModel",
      "state": {
       "description_width": ""
      }
     },
     "8e297482003349ad996724ee85133d0e": {
      "model_module": "@jupyter-widgets/controls",
      "model_module_version": "1.5.0",
      "model_name": "DescriptionStyleModel",
      "state": {
       "description_width": ""
      }
     },
     "8e353b92c43f4a17afe77c1690beb12c": {
      "model_module": "@jupyter-widgets/controls",
      "model_module_version": "1.5.0",
      "model_name": "DescriptionStyleModel",
      "state": {
       "description_width": ""
      }
     },
     "8e4521019c2644b8be5796a5b2389b9f": {
      "model_module": "@jupyter-widgets/base",
      "model_module_version": "1.2.0",
      "model_name": "LayoutModel",
      "state": {}
     },
     "8e6a45fe55104ebabbcfd4223b170a19": {
      "model_module": "@jupyter-widgets/controls",
      "model_module_version": "1.5.0",
      "model_name": "ButtonStyleModel",
      "state": {}
     },
     "8ed1d61a7a6d42cdac6d12e5391122e0": {
      "model_module": "@jupyter-widgets/controls",
      "model_module_version": "1.5.0",
      "model_name": "DescriptionStyleModel",
      "state": {
       "description_width": ""
      }
     },
     "8ed669d9b29e49b490ba296054d4879c": {
      "model_module": "@jupyter-widgets/controls",
      "model_module_version": "1.5.0",
      "model_name": "CheckboxModel",
      "state": {
       "description": "DAI/ALCX (3.77777)",
       "disabled": false,
       "layout": "IPY_MODEL_02635ec1020542ddbdf2b3faa85b30d8",
       "style": "IPY_MODEL_45f8a0411be5404793c763b6df0f1f32",
       "value": true
      }
     },
     "8f0e1e86381646758e0693bc1bfba9f8": {
      "model_module": "@jupyter-widgets/base",
      "model_module_version": "1.2.0",
      "model_name": "LayoutModel",
      "state": {
       "width": "425px"
      }
     },
     "8f1558f0c3d84cc4a15d77ab9a479fdf": {
      "model_module": "@jupyter-widgets/controls",
      "model_module_version": "1.5.0",
      "model_name": "DescriptionStyleModel",
      "state": {
       "description_width": ""
      }
     },
     "8f5c70805cfb45c686a1416b4de4c1e5": {
      "model_module": "@jupyter-widgets/base",
      "model_module_version": "1.2.0",
      "model_name": "LayoutModel",
      "state": {}
     },
     "8f5e91466c0040679aa2673c2d22346b": {
      "model_module": "@jupyter-widgets/controls",
      "model_module_version": "1.5.0",
      "model_name": "CheckboxModel",
      "state": {
       "description": "WETH/ALCX (7.17656)",
       "disabled": false,
       "layout": "IPY_MODEL_9ed3165e9e0e4abd9b9eb58d93d836d6",
       "style": "IPY_MODEL_acef88a3f8384d6da4dfd1a502ac1747",
       "value": false
      }
     },
     "8f69a2f8ef48469388c3018ff0b99209": {
      "model_module": "@jupyter-widgets/controls",
      "model_module_version": "1.5.0",
      "model_name": "DescriptionStyleModel",
      "state": {
       "description_width": ""
      }
     },
     "8f91122fdc054374ae399965f72a4c96": {
      "model_module": "@jupyter-widgets/controls",
      "model_module_version": "1.5.0",
      "model_name": "DescriptionStyleModel",
      "state": {
       "description_width": ""
      }
     },
     "8fbe0a03f64a45d1a2ac55f93ca0203e": {
      "model_module": "@jupyter-widgets/base",
      "model_module_version": "1.2.0",
      "model_name": "LayoutModel",
      "state": {}
     },
     "900c5225bd5d44afaf731c725632dd38": {
      "model_module": "@jupyter-widgets/controls",
      "model_module_version": "1.5.0",
      "model_name": "CheckboxModel",
      "state": {
       "description": "ALCX-ETH SLP (0.0)",
       "disabled": false,
       "layout": "IPY_MODEL_daaa292bf8eb41109fdde15c9e02c6db",
       "style": "IPY_MODEL_c7cc77e575054012a0d5f4a47d59e098",
       "value": false
      }
     },
     "90123e5a09154807916890bce8d3a95a": {
      "model_module": "@jupyter-widgets/base",
      "model_module_version": "1.2.0",
      "model_name": "LayoutModel",
      "state": {
       "width": "200px"
      }
     },
     "9037b1e5f9134b2a802b97bcd287beb3": {
      "model_module": "@jupyter-widgets/controls",
      "model_module_version": "1.5.0",
      "model_name": "LabelModel",
      "state": {
       "layout": "IPY_MODEL_bee84bd7ef2d4de380550e6c8205a1d9",
       "style": "IPY_MODEL_541a9b8f93b34187aa4a10085892f7c5",
       "value": "Swapping 79.96931 ALCX for 5.133309706787144 WETH"
      }
     },
     "904abd89703f4da18265b91cc8e87162": {
      "model_module": "@jupyter-widgets/base",
      "model_module_version": "1.2.0",
      "model_name": "LayoutModel",
      "state": {}
     },
     "905b725b13354e27bf66043972252229": {
      "model_module": "@jupyter-widgets/controls",
      "model_module_version": "1.5.0",
      "model_name": "DescriptionStyleModel",
      "state": {
       "description_width": ""
      }
     },
     "908928bfb2044441bc814c7abd0e5427": {
      "model_module": "@jupyter-widgets/controls",
      "model_module_version": "1.5.0",
      "model_name": "LabelModel",
      "state": {
       "layout": "IPY_MODEL_03f95b2c13024883b243278585502b00",
       "style": "IPY_MODEL_c346af28df8949c0a56a4ba4a7d36c6a",
       "value": "Select Assets to Claim:"
      }
     },
     "90bfbd26743748e49f76c710d9e74573": {
      "model_module": "@jupyter-widgets/controls",
      "model_module_version": "1.5.0",
      "model_name": "ButtonStyleModel",
      "state": {}
     },
     "90cbde2db121465f9edd762e3a531564": {
      "model_module": "@jupyter-widgets/controls",
      "model_module_version": "1.5.0",
      "model_name": "CheckboxModel",
      "state": {
       "description": "DAI/ALCX (3.59847)",
       "disabled": false,
       "layout": "IPY_MODEL_94e377eb56ba4c2a901539d73eb80828",
       "style": "IPY_MODEL_846fb15432cb4a4f94df187a54f4da04",
       "value": true
      }
     },
     "90d42deda652474497ee1d93accd9a64": {
      "model_module": "@jupyter-widgets/controls",
      "model_module_version": "1.5.0",
      "model_name": "HBoxModel",
      "state": {
       "children": [
        "IPY_MODEL_87272083c35d43288d1eb81f0f4d2346",
        "IPY_MODEL_d4c1135972bd4c21bdf33838d6f76b8a"
       ],
       "layout": "IPY_MODEL_5ff2854593d147c9858d2b28a4bb9e3f"
      }
     },
     "90df976a5db84a5ebcc5cec1f4ad81c6": {
      "model_module": "@jupyter-widgets/base",
      "model_module_version": "1.2.0",
      "model_name": "LayoutModel",
      "state": {}
     },
     "90ff05df39504ad88e94d8c9298e00db": {
      "model_module": "@jupyter-widgets/controls",
      "model_module_version": "1.5.0",
      "model_name": "DescriptionStyleModel",
      "state": {
       "description_width": ""
      }
     },
     "91026d11477649eaae889d888ba6090b": {
      "model_module": "@jupyter-widgets/controls",
      "model_module_version": "1.5.0",
      "model_name": "CheckboxModel",
      "state": {
       "description": "WETH/ALCX (7.23503)",
       "disabled": false,
       "layout": "IPY_MODEL_c91e067a6e944f778fcefac24f1549d4",
       "style": "IPY_MODEL_883c1310bc0444a783394b81f6c5ddc8",
       "value": false
      }
     },
     "912e0fd45fd74e609d729f798c59cb1a": {
      "model_module": "@jupyter-widgets/controls",
      "model_module_version": "1.5.0",
      "model_name": "CheckboxModel",
      "state": {
       "description": "DAI/ALCX (3.58179)",
       "disabled": false,
       "layout": "IPY_MODEL_a4635f94f75b445ebf86eac6c5a4b79c",
       "style": "IPY_MODEL_c699851342a343dbb6bc2d7f42223a2a",
       "value": false
      }
     },
     "91415ed476dd4774917dd95fb12500e8": {
      "model_module": "@jupyter-widgets/controls",
      "model_module_version": "1.5.0",
      "model_name": "DescriptionStyleModel",
      "state": {
       "description_width": ""
      }
     },
     "915887dddb7b45f6bdf47f3d770314ec": {
      "model_module": "@jupyter-widgets/controls",
      "model_module_version": "1.5.0",
      "model_name": "DescriptionStyleModel",
      "state": {
       "description_width": ""
      }
     },
     "9177dc7ea0eb4286ac187f45f4ba0acb": {
      "model_module": "@jupyter-widgets/controls",
      "model_module_version": "1.5.0",
      "model_name": "TextModel",
      "state": {
       "description": "Address: ",
       "layout": "IPY_MODEL_80e0119e800c4d7482cd9849a92ee0e3",
       "style": "IPY_MODEL_e2c9139159384300a847a1cb4eb5e78c",
       "value": "0xeEEC0e4927704ab3BBE5df7F4EfFa818b43665a3"
      }
     },
     "9191265adb9e43bb997a1b542eec1d41": {
      "model_module": "@jupyter-widgets/base",
      "model_module_version": "1.2.0",
      "model_name": "LayoutModel",
      "state": {}
     },
     "91d8e8e81815469bac9e23b7858a3401": {
      "model_module": "@jupyter-widgets/controls",
      "model_module_version": "1.5.0",
      "model_name": "LabelModel",
      "state": {
       "layout": "IPY_MODEL_4f70eb8fd2eb4a148ae729c853649923",
       "style": "IPY_MODEL_b1fc1d0bf85d42728d94d7554cc0c1bc",
       "value": "Max Input: 22740.729789479326 DAI"
      }
     },
     "9239063cdf52475e860ada4be35037fc": {
      "model_module": "@jupyter-widgets/base",
      "model_module_version": "1.2.0",
      "model_name": "LayoutModel",
      "state": {}
     },
     "926d7355637d4db5a5b6560b7d765286": {
      "model_module": "@jupyter-widgets/controls",
      "model_module_version": "1.5.0",
      "model_name": "HBoxModel",
      "state": {
       "children": [
        "IPY_MODEL_603890348abf4f3d9e015401db33b03e",
        "IPY_MODEL_17a057b3f98249a497947c77b27ee07d"
       ],
       "layout": "IPY_MODEL_1b3a4d59af3d44fda7542ff717a08723"
      }
     },
     "929b39ba8dc447198241be1fcf0dd788": {
      "model_module": "@jupyter-widgets/controls",
      "model_module_version": "1.5.0",
      "model_name": "DescriptionStyleModel",
      "state": {
       "description_width": ""
      }
     },
     "92a2bd510fcb4334b782b2e5eb21ae39": {
      "model_module": "@jupyter-widgets/base",
      "model_module_version": "1.2.0",
      "model_name": "LayoutModel",
      "state": {}
     },
     "92e3e80ad8dc49be824675e718a80a2a": {
      "model_module": "@jupyter-widgets/base",
      "model_module_version": "1.2.0",
      "model_name": "LayoutModel",
      "state": {}
     },
     "92fa5cef661a4c89bad1819e40ee0127": {
      "model_module": "@jupyter-widgets/controls",
      "model_module_version": "1.5.0",
      "model_name": "DescriptionStyleModel",
      "state": {
       "description_width": ""
      }
     },
     "93007870278f4fd3b5da7e1a28a0a463": {
      "model_module": "@jupyter-widgets/base",
      "model_module_version": "1.2.0",
      "model_name": "LayoutModel",
      "state": {}
     },
     "9303726b91c440a8a585b8f759a7808e": {
      "model_module": "@jupyter-widgets/base",
      "model_module_version": "1.2.0",
      "model_name": "LayoutModel",
      "state": {}
     },
     "930429099053492293b89f10d0b4f3de": {
      "model_module": "@jupyter-widgets/base",
      "model_module_version": "1.2.0",
      "model_name": "LayoutModel",
      "state": {}
     },
     "93149b6095c944f49480925ac288bc6e": {
      "model_module": "@jupyter-widgets/base",
      "model_module_version": "1.2.0",
      "model_name": "LayoutModel",
      "state": {}
     },
     "93238ff07f1c45d88c82cadcec81f40f": {
      "model_module": "@jupyter-widgets/controls",
      "model_module_version": "1.5.0",
      "model_name": "LabelModel",
      "state": {
       "layout": "IPY_MODEL_efc317b27ae042eeacdd28941e6dd131",
       "style": "IPY_MODEL_d3be253fbd624631884cb8c508f8da21",
       "value": "Max Input: 11.609299187253674 ALCX-ETH SLP"
      }
     },
     "93253f271d0146bfbb4a9c46e428cb7e": {
      "model_module": "@jupyter-widgets/base",
      "model_module_version": "1.2.0",
      "model_name": "LayoutModel",
      "state": {}
     },
     "93258b5b1d8e434d852d87761ddbf3d9": {
      "model_module": "@jupyter-widgets/controls",
      "model_module_version": "1.5.0",
      "model_name": "DescriptionStyleModel",
      "state": {
       "description_width": ""
      }
     },
     "9328466a818a4e3f91622633937bfd8e": {
      "model_module": "@jupyter-widgets/controls",
      "model_module_version": "1.5.0",
      "model_name": "DescriptionStyleModel",
      "state": {
       "description_width": ""
      }
     },
     "934126bdef38495996cbf9ba24a31d60": {
      "model_module": "@jupyter-widgets/controls",
      "model_module_version": "1.5.0",
      "model_name": "DescriptionStyleModel",
      "state": {
       "description_width": ""
      }
     },
     "93920870aacd41d4b8d6827ddf00037f": {
      "model_module": "@jupyter-widgets/base",
      "model_module_version": "1.2.0",
      "model_name": "LayoutModel",
      "state": {}
     },
     "93949860f636460a9f1502ba5a110dfb": {
      "model_module": "@jupyter-widgets/base",
      "model_module_version": "1.2.0",
      "model_name": "LayoutModel",
      "state": {}
     },
     "93b6c8b75f8d4f15acf707a8dbae5f5e": {
      "model_module": "@jupyter-widgets/controls",
      "model_module_version": "1.5.0",
      "model_name": "ButtonStyleModel",
      "state": {}
     },
     "93b72e7c70614892bbc2b9137563c13a": {
      "model_module": "@jupyter-widgets/controls",
      "model_module_version": "1.5.0",
      "model_name": "DescriptionStyleModel",
      "state": {
       "description_width": ""
      }
     },
     "93fbb7b2a56e474b8796d399ecf0e1a4": {
      "model_module": "@jupyter-widgets/base",
      "model_module_version": "1.2.0",
      "model_name": "LayoutModel",
      "state": {}
     },
     "94176aba3a344dfdaf5f6e2d81b10f6f": {
      "model_module": "@jupyter-widgets/controls",
      "model_module_version": "1.5.0",
      "model_name": "DescriptionStyleModel",
      "state": {
       "description_width": ""
      }
     },
     "942bf129cde1449a9bc36144c6290e0f": {
      "model_module": "@jupyter-widgets/controls",
      "model_module_version": "1.5.0",
      "model_name": "CheckboxModel",
      "state": {
       "description": "DAI/ALCX (3.57345)",
       "disabled": false,
       "layout": "IPY_MODEL_e0c40ec191974868a6349c8a8b1aa5b8",
       "style": "IPY_MODEL_e218a1032df44e60a735dba45c0776e6",
       "value": false
      }
     },
     "94328287439f40cdbcab3cb36336e073": {
      "model_module": "@jupyter-widgets/controls",
      "model_module_version": "1.5.0",
      "model_name": "DescriptionStyleModel",
      "state": {
       "description_width": ""
      }
     },
     "943ba9705ddd4d3fb0d20bafea28bb9a": {
      "model_module": "@jupyter-widgets/controls",
      "model_module_version": "1.5.0",
      "model_name": "CheckboxModel",
      "state": {
       "description": "ALCX-ETH SLP (0.0)",
       "disabled": false,
       "layout": "IPY_MODEL_3cd87d73f5d44b83ad0304d2d1594615",
       "style": "IPY_MODEL_8d1668009c9d491f9c31849c0461c36a",
       "value": false
      }
     },
     "9448b92c71a54102a4426d42626e60a6": {
      "model_module": "@jupyter-widgets/controls",
      "model_module_version": "1.5.0",
      "model_name": "DescriptionStyleModel",
      "state": {
       "description_width": ""
      }
     },
     "94ace01f4e91443b8b2fb6f5f52d22dc": {
      "model_module": "@jupyter-widgets/controls",
      "model_module_version": "1.5.0",
      "model_name": "DescriptionStyleModel",
      "state": {
       "description_width": ""
      }
     },
     "94e377eb56ba4c2a901539d73eb80828": {
      "model_module": "@jupyter-widgets/base",
      "model_module_version": "1.2.0",
      "model_name": "LayoutModel",
      "state": {}
     },
     "953dbe4b525643589b48dc4cbc1e3b04": {
      "model_module": "@jupyter-widgets/controls",
      "model_module_version": "1.5.0",
      "model_name": "CheckboxModel",
      "state": {
       "description": "WETH/ALCX (7.3276)",
       "disabled": false,
       "layout": "IPY_MODEL_9666a4c1efeb4eba9202e5d05930a942",
       "style": "IPY_MODEL_6b286b99df3a429f95a53e6316df638f",
       "value": true
      }
     },
     "957910e4290c4690b8a1b0a7f97faa13": {
      "model_module": "@jupyter-widgets/controls",
      "model_module_version": "1.5.0",
      "model_name": "DescriptionStyleModel",
      "state": {
       "description_width": ""
      }
     },
     "958bf8c6f64a4dc38070c02f18ce08fb": {
      "model_module": "@jupyter-widgets/controls",
      "model_module_version": "1.5.0",
      "model_name": "DropdownModel",
      "state": {
       "_options_labels": [
        "WETH/ALCX",
        "DAI/ALCX",
        "CVX/ALCX",
        "ALCX-ETH SLP"
       ],
       "index": 3,
       "layout": "IPY_MODEL_6e9d38643dba492cb846c74cdc11dbed",
       "style": "IPY_MODEL_f1fd688c7b36455aab28e204b5f6d71c"
      }
     },
     "95a636d82e3d483aa496ffe16ef79241": {
      "model_module": "@jupyter-widgets/base",
      "model_module_version": "1.2.0",
      "model_name": "LayoutModel",
      "state": {
       "width": "200px"
      }
     },
     "95bc1f719e0c4d679bf9cb9701b16c64": {
      "model_module": "@jupyter-widgets/base",
      "model_module_version": "1.2.0",
      "model_name": "LayoutModel",
      "state": {}
     },
     "95c7a54805904aafa909ce083a01409a": {
      "model_module": "@jupyter-widgets/controls",
      "model_module_version": "1.5.0",
      "model_name": "DescriptionStyleModel",
      "state": {
       "description_width": ""
      }
     },
     "95d28892607046dc84713612c4faf214": {
      "model_module": "@jupyter-widgets/base",
      "model_module_version": "1.2.0",
      "model_name": "LayoutModel",
      "state": {}
     },
     "95f7b7e7232c4d449bb22efd91169f4c": {
      "model_module": "@jupyter-widgets/controls",
      "model_module_version": "1.5.0",
      "model_name": "DescriptionStyleModel",
      "state": {
       "description_width": ""
      }
     },
     "95fcad598d0948b98a7f7a60f043629e": {
      "model_module": "@jupyter-widgets/controls",
      "model_module_version": "1.5.0",
      "model_name": "VBoxModel",
      "state": {
       "children": [
        "IPY_MODEL_0df4e47acf3d4da08c37552210509f3c",
        "IPY_MODEL_4be7a997e5bd4d06a5c2cf40e46d4af7",
        "IPY_MODEL_bfd70509ff9c4621be36ea3e3d670be8",
        "IPY_MODEL_db39b113fa994331932a06f7c2aa4031",
        "IPY_MODEL_684e48266cfa4723bf6b93625221180a",
        "IPY_MODEL_b37ce703d3c648cf825e9cf9bada69ad",
        "IPY_MODEL_cb5ad2bf5c8b4d21b203e2c8d417ac87",
        "IPY_MODEL_08da02430fcb466fa1ad11f8ac0b178f",
        "IPY_MODEL_9c326b30e0424d5c992fd3466ba24bec",
        "IPY_MODEL_cff1e632426f47edbc364e85496bf458",
        "IPY_MODEL_415ea0d2e7994c28a6b2abc5fc3b82a8",
        "IPY_MODEL_0f3c0295f1074ef2a2f5da750bd0da2f",
        "IPY_MODEL_f7c95e3a2c0d4b38b678e87f8ab20d01",
        "IPY_MODEL_de806704a5ef451aa563efc4b5dced8d"
       ],
       "layout": "IPY_MODEL_c1f47ede521546fc8a3f0639bb93f7c4"
      }
     },
     "96089e13d4314265a92ae9516759e1ee": {
      "model_module": "@jupyter-widgets/controls",
      "model_module_version": "1.5.0",
      "model_name": "DescriptionStyleModel",
      "state": {
       "description_width": ""
      }
     },
     "961ef820696b4d44a3bffcffe662bf4f": {
      "model_module": "@jupyter-widgets/controls",
      "model_module_version": "1.5.0",
      "model_name": "TextModel",
      "state": {
       "description": "Address: ",
       "layout": "IPY_MODEL_76ed55d42ac645e28ed3d3f73fb07ca4",
       "style": "IPY_MODEL_34abfd34f0c04d0ca7a4fc40546c5ae8",
       "value": "0xeEEC0e4927704ab3BBE5df7F4EfFa818b43665a3"
      }
     },
     "963da0915b8741fa890db42c9485bbd3": {
      "model_module": "@jupyter-widgets/controls",
      "model_module_version": "1.5.0",
      "model_name": "CheckboxModel",
      "state": {
       "description": "Use Wallet Balance (72.80737)",
       "disabled": false,
       "layout": "IPY_MODEL_5d84d3517c28476799878e8164363fcb",
       "style": "IPY_MODEL_3407ae0ba97b4510885cfd8a43b65238",
       "value": false
      }
     },
     "9666a4c1efeb4eba9202e5d05930a942": {
      "model_module": "@jupyter-widgets/base",
      "model_module_version": "1.2.0",
      "model_name": "LayoutModel",
      "state": {}
     },
     "9684a81310634e04a4d18d3355b1d62c": {
      "model_module": "@jupyter-widgets/base",
      "model_module_version": "1.2.0",
      "model_name": "LayoutModel",
      "state": {}
     },
     "9696e42d46ff437680a7d41c984efeb7": {
      "model_module": "@jupyter-widgets/controls",
      "model_module_version": "1.5.0",
      "model_name": "CheckboxModel",
      "state": {
       "description": "Use Wallet Balance (72.80737)",
       "disabled": false,
       "layout": "IPY_MODEL_714b960e7aae4d49b6f9ea247bbefcfb",
       "style": "IPY_MODEL_233bf05b2bbe479a84ab19ef2f07b0db",
       "value": true
      }
     },
     "9698d382abe844d49d51c82441d9afe0": {
      "model_module": "@jupyter-widgets/controls",
      "model_module_version": "1.5.0",
      "model_name": "LabelModel",
      "state": {
       "layout": "IPY_MODEL_a32cbce69c284875b37942a20b8b8547",
       "style": "IPY_MODEL_37037dfebe8e492684810c1307a54d55",
       "value": "Max Payout: 96.15973854597343 ALCX"
      }
     },
     "969a2dc29bf34728b949d6d5b509fdee": {
      "model_module": "@jupyter-widgets/controls",
      "model_module_version": "1.5.0",
      "model_name": "DescriptionStyleModel",
      "state": {
       "description_width": ""
      }
     },
     "96a5d03cd6664d43b196b3864d172301": {
      "model_module": "@jupyter-widgets/controls",
      "model_module_version": "1.5.0",
      "model_name": "DescriptionStyleModel",
      "state": {
       "description_width": ""
      }
     },
     "96b56acca2fb444594263835e7de6f02": {
      "model_module": "@jupyter-widgets/base",
      "model_module_version": "1.2.0",
      "model_name": "LayoutModel",
      "state": {}
     },
     "96bbe06364d641ccb088545f6a11e84b": {
      "model_module": "@jupyter-widgets/base",
      "model_module_version": "1.2.0",
      "model_name": "LayoutModel",
      "state": {}
     },
     "96ed06a1e5074721bcd331b57f1c52f7": {
      "model_module": "@jupyter-widgets/controls",
      "model_module_version": "1.5.0",
      "model_name": "DescriptionStyleModel",
      "state": {
       "description_width": ""
      }
     },
     "9715d70f09ba4845b39dd515a8638c74": {
      "model_module": "@jupyter-widgets/controls",
      "model_module_version": "1.5.0",
      "model_name": "LabelModel",
      "state": {
       "layout": "IPY_MODEL_9eb82bc1bf8543a59baab6ef8a914f58",
       "style": "IPY_MODEL_114b73863439445b91403ee0cb710aa8",
       "value": "Max Payout: 96.15842394776256 ALCX"
      }
     },
     "977b9115554547638685335f97b42db1": {
      "model_module": "@jupyter-widgets/controls",
      "model_module_version": "1.5.0",
      "model_name": "DescriptionStyleModel",
      "state": {
       "description_width": ""
      }
     },
     "97890e384796493d9a71e22edf6c5c25": {
      "model_module": "@jupyter-widgets/controls",
      "model_module_version": "1.5.0",
      "model_name": "CheckboxModel",
      "state": {
       "description": "WETH/ALCX (7.23503)",
       "disabled": false,
       "layout": "IPY_MODEL_d5581602bd0744af9772e39533ea2282",
       "style": "IPY_MODEL_c0643e106c9d45c89ec0cb932c374c12",
       "value": false
      }
     },
     "97949829ef5a4bdd924faa2f6ea3673f": {
      "model_module": "@jupyter-widgets/controls",
      "model_module_version": "1.5.0",
      "model_name": "CheckboxModel",
      "state": {
       "description": "ALCX-ETH SLP (0.0)",
       "disabled": false,
       "layout": "IPY_MODEL_0411878323c543d6ae6d7d1c3596ff89",
       "style": "IPY_MODEL_1395dfab428a4932a4bca5bf99100061",
       "value": false
      }
     },
     "980efa5b866644638d19edf902e34ca1": {
      "model_module": "@jupyter-widgets/controls",
      "model_module_version": "1.5.0",
      "model_name": "DescriptionStyleModel",
      "state": {
       "description_width": ""
      }
     },
     "981aaba8fd264d29bedd1d4e5daccaf3": {
      "model_module": "@jupyter-widgets/controls",
      "model_module_version": "1.5.0",
      "model_name": "DescriptionStyleModel",
      "state": {
       "description_width": ""
      }
     },
     "9826d8b56b604ca3920211b71e33fbeb": {
      "model_module": "@jupyter-widgets/controls",
      "model_module_version": "1.5.0",
      "model_name": "HBoxModel",
      "state": {
       "children": [
        "IPY_MODEL_1a57cb2c4aa248cd8a474b1d9c7be7cc",
        "IPY_MODEL_ace20469dd54479494cad9e50dcd41a3"
       ],
       "layout": "IPY_MODEL_683de60967c54b86a25e327bf0f17389"
      }
     },
     "982f3fa2530d4d9ba2337d3962df0b07": {
      "model_module": "@jupyter-widgets/controls",
      "model_module_version": "1.5.0",
      "model_name": "LabelModel",
      "state": {
       "layout": "IPY_MODEL_fff12709f7274b1694d27154ee8a8a93",
       "style": "IPY_MODEL_d4b94d58c97741c9a6e4e538a970438e",
       "value": "Select Pool to Bond:"
      }
     },
     "98c63c6aa6e24d0b8a2932eed187771c": {
      "model_module": "@jupyter-widgets/controls",
      "model_module_version": "1.5.0",
      "model_name": "DescriptionStyleModel",
      "state": {
       "description_width": ""
      }
     },
     "991fde4750934cba9b83cbf0b5f67c21": {
      "model_module": "@jupyter-widgets/base",
      "model_module_version": "1.2.0",
      "model_name": "LayoutModel",
      "state": {}
     },
     "992c58ad7e4047b383e037dbe5949e7b": {
      "model_module": "@jupyter-widgets/controls",
      "model_module_version": "1.5.0",
      "model_name": "LabelModel",
      "state": {
       "layout": "IPY_MODEL_fe098e2f6b204e399d5cdf4e27ba4bb8",
       "style": "IPY_MODEL_841f2febaa7b41cfba4cb631d83c6ace",
       "value": "Select Pool to Bond:"
      }
     },
     "9933edff9f8544969a0661f572bbb21c": {
      "model_module": "@jupyter-widgets/controls",
      "model_module_version": "1.5.0",
      "model_name": "ButtonStyleModel",
      "state": {}
     },
     "9935e7e91fc44edd90b13aa4d5bb98c8": {
      "model_module": "@jupyter-widgets/controls",
      "model_module_version": "1.5.0",
      "model_name": "DescriptionStyleModel",
      "state": {
       "description_width": ""
      }
     },
     "993a60f2d0da4807892f56cb2b200732": {
      "model_module": "@jupyter-widgets/base",
      "model_module_version": "1.2.0",
      "model_name": "LayoutModel",
      "state": {
       "width": "200px"
      }
     },
     "9945136dcb7c4f81ae4eb13df12392b2": {
      "model_module": "@jupyter-widgets/controls",
      "model_module_version": "1.5.0",
      "model_name": "LabelModel",
      "state": {
       "layout": "IPY_MODEL_c350bf14bfae439b8cb24fb09d0d0cfb",
       "style": "IPY_MODEL_73e9ccfc5ed84b49837e27dc5a0f229a",
       "value": "Select Pool to Bond:"
      }
     },
     "9957a49c186a436180bd9fab0a061ee0": {
      "model_module": "@jupyter-widgets/controls",
      "model_module_version": "1.5.0",
      "model_name": "DescriptionStyleModel",
      "state": {
       "description_width": ""
      }
     },
     "9986abc4d57845bf80cfe9b976c3239c": {
      "model_module": "@jupyter-widgets/controls",
      "model_module_version": "1.5.0",
      "model_name": "LabelModel",
      "state": {
       "layout": "IPY_MODEL_476dc395575f4f12bc654c7144d8f4db",
       "style": "IPY_MODEL_3ea91ecda97a46b8905915fd58790c5e",
       "value": "[Current block: 13905581]"
      }
     },
     "99994e27ebfb4cca9cbc629fd8112627": {
      "model_module": "@jupyter-widgets/controls",
      "model_module_version": "1.5.0",
      "model_name": "CheckboxModel",
      "state": {
       "description": "CVX/ALCX (0.0)",
       "disabled": false,
       "layout": "IPY_MODEL_46ab53d313894871af6566c1772db502",
       "style": "IPY_MODEL_cb0acd4ed213452ea022076248832796",
       "value": false
      }
     },
     "99f1ac9282144abcabf478e700542c4a": {
      "model_module": "@jupyter-widgets/controls",
      "model_module_version": "1.5.0",
      "model_name": "LabelModel",
      "state": {
       "layout": "IPY_MODEL_b7792dcb08664fd5a8ed353039fbc573",
       "style": "IPY_MODEL_b3370e08ffb54e3195de81ef1f5d79b0",
       "value": "Max Input: 11.618323789889297 ALCX-ETH SLP"
      }
     },
     "9a5b085bf31544e9936fab2eeb1ce4bb": {
      "model_module": "@jupyter-widgets/controls",
      "model_module_version": "1.5.0",
      "model_name": "DescriptionStyleModel",
      "state": {
       "description_width": ""
      }
     },
     "9a69e1d0ea3f47638bead5141d1ffff0": {
      "model_module": "@jupyter-widgets/base",
      "model_module_version": "1.2.0",
      "model_name": "LayoutModel",
      "state": {}
     },
     "9a6af30b8a5a42c3be78a15e9318a9a1": {
      "model_module": "@jupyter-widgets/controls",
      "model_module_version": "1.5.0",
      "model_name": "DescriptionStyleModel",
      "state": {
       "description_width": ""
      }
     },
     "9a874ad49f7145e183c325ee1dc797a5": {
      "model_module": "@jupyter-widgets/controls",
      "model_module_version": "1.5.0",
      "model_name": "DescriptionStyleModel",
      "state": {
       "description_width": ""
      }
     },
     "9a9f3356659e4fd2aab14b2f7056ca10": {
      "model_module": "@jupyter-widgets/controls",
      "model_module_version": "1.5.0",
      "model_name": "DropdownModel",
      "state": {
       "_options_labels": [
        "WETH/ALCX",
        "DAI/ALCX",
        "CVX/ALCX",
        "ALCX-ETH SLP"
       ],
       "index": 1,
       "layout": "IPY_MODEL_991fde4750934cba9b83cbf0b5f67c21",
       "style": "IPY_MODEL_ae6f6a3d0b7a4b519a03ce69b6d2ab18"
      }
     },
     "9b0177348b5b4152bd66c7bc97994fe2": {
      "model_module": "@jupyter-widgets/controls",
      "model_module_version": "1.5.0",
      "model_name": "LabelModel",
      "state": {
       "layout": "IPY_MODEL_733159f2b3a1403298c669a4b4ca1327",
       "style": "IPY_MODEL_20ab2552ce244061b5c85f684daab70f",
       "value": "[Current block: 13905514]"
      }
     },
     "9b260e0956624832a0a3db25685e7820": {
      "model_module": "@jupyter-widgets/controls",
      "model_module_version": "1.5.0",
      "model_name": "LabelModel",
      "state": {
       "layout": "IPY_MODEL_ef570a51e54f448fac7682d80e895c03",
       "style": "IPY_MODEL_96a5d03cd6664d43b196b3864d172301",
       "value": "Select Pool to Bond:"
      }
     },
     "9b26e42d459a4b018fd25b3996e19fac": {
      "model_module": "@jupyter-widgets/controls",
      "model_module_version": "1.5.0",
      "model_name": "CheckboxModel",
      "state": {
       "description": "ALCX-ETH SLP (0.0)",
       "disabled": false,
       "layout": "IPY_MODEL_b3e86b58ded14878a3a21d6c81a3e178",
       "style": "IPY_MODEL_39f2240a28ec486283fcc64df1ace035",
       "value": false
      }
     },
     "9b53ac2b7cc7408cad72fdb90b5afff6": {
      "model_module": "@jupyter-widgets/controls",
      "model_module_version": "1.5.0",
      "model_name": "DescriptionStyleModel",
      "state": {
       "description_width": ""
      }
     },
     "9b61465068854f9fbc0ce7627a75b48b": {
      "model_module": "@jupyter-widgets/controls",
      "model_module_version": "1.5.0",
      "model_name": "LabelModel",
      "state": {
       "layout": "IPY_MODEL_5f94bff7be87464c97bb146460f81b04",
       "style": "IPY_MODEL_3f9428bd490a45b589ad14d7c3a0113c",
       "value": "Select Assets to Claim:"
      }
     },
     "9c267512848b4c629a9160f08d9a9ec4": {
      "model_module": "@jupyter-widgets/base",
      "model_module_version": "1.2.0",
      "model_name": "LayoutModel",
      "state": {}
     },
     "9c2ec5c3e6c248bf81621e1712a099da": {
      "model_module": "@jupyter-widgets/controls",
      "model_module_version": "1.5.0",
      "model_name": "DescriptionStyleModel",
      "state": {
       "description_width": ""
      }
     },
     "9c326b30e0424d5c992fd3466ba24bec": {
      "model_module": "@jupyter-widgets/controls",
      "model_module_version": "1.5.0",
      "model_name": "LabelModel",
      "state": {
       "layout": "IPY_MODEL_82aa14785dcc4a26845d54e964096c2d",
       "style": "IPY_MODEL_8b09e0a849f44bc39c2e6deb5ccf97ca",
       "value": "Select Pool to Bond:"
      }
     },
     "9c7aff23a9944426b6fe7bf804193e90": {
      "model_module": "@jupyter-widgets/controls",
      "model_module_version": "1.5.0",
      "model_name": "DescriptionStyleModel",
      "state": {
       "description_width": ""
      }
     },
     "9c92b4757ae24e71a0a3d419be455440": {
      "model_module": "@jupyter-widgets/controls",
      "model_module_version": "1.5.0",
      "model_name": "DescriptionStyleModel",
      "state": {
       "description_width": ""
      }
     },
     "9cc6aa6ad6c44d17b48d1010dd5d2218": {
      "model_module": "@jupyter-widgets/controls",
      "model_module_version": "1.5.0",
      "model_name": "DescriptionStyleModel",
      "state": {
       "description_width": ""
      }
     },
     "9cc8a82a9d70409d9d1afa138e2ec9bc": {
      "model_module": "@jupyter-widgets/controls",
      "model_module_version": "1.5.0",
      "model_name": "CheckboxModel",
      "state": {
       "description": "ALCX-ETH SLP (0.0)",
       "disabled": false,
       "layout": "IPY_MODEL_93253f271d0146bfbb4a9c46e428cb7e",
       "style": "IPY_MODEL_e2f6834fdd63410b9c2249e2054bfb8c",
       "value": false
      }
     },
     "9cd58197299449cd92fba23cef1c5e0e": {
      "model_module": "@jupyter-widgets/controls",
      "model_module_version": "1.5.0",
      "model_name": "LabelModel",
      "state": {
       "layout": "IPY_MODEL_7c51f3bb68f94c7284e20f8435669d6a",
       "style": "IPY_MODEL_16de5d22acdc44d5a584b2150e5b0fc4",
       "value": "Select Assets to Claim:"
      }
     },
     "9cef992329494c97ad2e3e4f7f5c9970": {
      "model_module": "@jupyter-widgets/base",
      "model_module_version": "1.2.0",
      "model_name": "LayoutModel",
      "state": {}
     },
     "9d0945b329e84850b7dbdcc4d0298d13": {
      "model_module": "@jupyter-widgets/controls",
      "model_module_version": "1.5.0",
      "model_name": "LabelModel",
      "state": {
       "layout": "IPY_MODEL_af5a02f2c9ff4696bef96b7b660ab25b",
       "style": "IPY_MODEL_92fa5cef661a4c89bad1819e40ee0127",
       "value": "You Will Get: 82.61314405159928 ALCX"
      }
     },
     "9dac60f69efe42d2b481704a6624be82": {
      "model_module": "@jupyter-widgets/base",
      "model_module_version": "1.2.0",
      "model_name": "LayoutModel",
      "state": {}
     },
     "9dad6bae9b344ebb802209e33a00a018": {
      "model_module": "@jupyter-widgets/base",
      "model_module_version": "1.2.0",
      "model_name": "LayoutModel",
      "state": {
       "width": "425px"
      }
     },
     "9dbe0bd2c15c4e5dbd9bb8c0c8633803": {
      "model_module": "@jupyter-widgets/controls",
      "model_module_version": "1.5.0",
      "model_name": "VBoxModel",
      "state": {
       "children": [
        "IPY_MODEL_d946290029714a5b8c1fe4cb7389329d",
        "IPY_MODEL_2c706132b4fb40d6acac794548bc1b3e",
        "IPY_MODEL_d811d6ea44b74f78815267c2e1e1b93b",
        "IPY_MODEL_29f7fb26ff724070abfe7a45bdb04665",
        "IPY_MODEL_f53330448d2540da8a48ab7601e49d8e",
        "IPY_MODEL_90d42deda652474497ee1d93accd9a64",
        "IPY_MODEL_db4d075fb37f4b86ae2ccd2803b2c6cf",
        "IPY_MODEL_03277f30bdb249e7a05785e966c26c8c",
        "IPY_MODEL_9945136dcb7c4f81ae4eb13df12392b2",
        "IPY_MODEL_a76019fa21134ed3a3eabc6d76ffc832",
        "IPY_MODEL_00e5c36aede047628f78f15c13883fbc",
        "IPY_MODEL_5f784f1f09e442be80d886a1db533c61",
        "IPY_MODEL_8dd1e620ae03459ebc9f3ea197f59acb",
        "IPY_MODEL_45a92001a36247c3a1b3d0450b152e59"
       ],
       "layout": "IPY_MODEL_769002c421c549ec88907250440b4318"
      }
     },
     "9e041ec82a4e4678a71025fc384d1a70": {
      "model_module": "@jupyter-widgets/controls",
      "model_module_version": "1.5.0",
      "model_name": "DescriptionStyleModel",
      "state": {
       "description_width": ""
      }
     },
     "9e19a297661f4faab411452acaecdb8b": {
      "model_module": "@jupyter-widgets/controls",
      "model_module_version": "1.5.0",
      "model_name": "LabelModel",
      "state": {
       "layout": "IPY_MODEL_74d571eecfe34d9a9f6b287ce20afbe4",
       "style": "IPY_MODEL_b55358466355460a91b6ccd7b5eb3d18",
       "value": "Swapping 72.80737 ALCX for 4.644284847895197 WETH"
      }
     },
     "9e2068727d9b46fcbf3894b10dd4161a": {
      "model_module": "@jupyter-widgets/base",
      "model_module_version": "1.2.0",
      "model_name": "LayoutModel",
      "state": {}
     },
     "9e275a1b8ca34c3593e933675862a141": {
      "model_module": "@jupyter-widgets/controls",
      "model_module_version": "1.5.0",
      "model_name": "CheckboxModel",
      "state": {
       "description": "DAI/ALCX (3.50257)",
       "disabled": false,
       "layout": "IPY_MODEL_5f93114dd12f483996e9e19d3ec43798",
       "style": "IPY_MODEL_3728b37d8b5841a39ced0931cf2c3b11",
       "value": false
      }
     },
     "9e48808f89f24d5da6dafd636a2a5841": {
      "model_module": "@jupyter-widgets/base",
      "model_module_version": "1.2.0",
      "model_name": "LayoutModel",
      "state": {}
     },
     "9e558dc10363436dad10ffb20bbecc21": {
      "model_module": "@jupyter-widgets/controls",
      "model_module_version": "1.5.0",
      "model_name": "LabelModel",
      "state": {
       "layout": "IPY_MODEL_0a7722221ed24591a3b5c5e31fe7dfbb",
       "style": "IPY_MODEL_c8e949fb35dc4ec78e8aa30bf178b458",
       "value": "Swapping 80.01803 ALCX for 5.136435813901543 WETH"
      }
     },
     "9e6da62c72504335a63f46885c7e38cf": {
      "model_module": "@jupyter-widgets/base",
      "model_module_version": "1.2.0",
      "model_name": "LayoutModel",
      "state": {}
     },
     "9e7f188f965d439383bdbe08a527eb9f": {
      "model_module": "@jupyter-widgets/controls",
      "model_module_version": "1.5.0",
      "model_name": "DescriptionStyleModel",
      "state": {
       "description_width": ""
      }
     },
     "9e8a702a853841768d15dd6080e6b10a": {
      "model_module": "@jupyter-widgets/base",
      "model_module_version": "1.2.0",
      "model_name": "LayoutModel",
      "state": {}
     },
     "9e9fd193af32474da0506fe084ccdbad": {
      "model_module": "@jupyter-widgets/controls",
      "model_module_version": "1.5.0",
      "model_name": "CheckboxModel",
      "state": {
       "description": "ALCX-ETH SLP (0.0)",
       "disabled": false,
       "layout": "IPY_MODEL_027c0ac7777a412f8ca16fa197c591c1",
       "style": "IPY_MODEL_118f82c5bf984cb78146d1c2fef013c5",
       "value": false
      }
     },
     "9eb08fc2aa164336b759df9f25e2feb6": {
      "model_module": "@jupyter-widgets/base",
      "model_module_version": "1.2.0",
      "model_name": "LayoutModel",
      "state": {}
     },
     "9eb3e5cd721448e69930e27b08dcc711": {
      "model_module": "@jupyter-widgets/controls",
      "model_module_version": "1.5.0",
      "model_name": "LabelModel",
      "state": {
       "layout": "IPY_MODEL_398bc1326fe6443e9ce15a1df2311721",
       "style": "IPY_MODEL_ef47a7317f8543dd8766c3ffabcca99c",
       "value": "Swapping 80.26164 ALCX for 5.14149746674036 WETH"
      }
     },
     "9eb82bc1bf8543a59baab6ef8a914f58": {
      "model_module": "@jupyter-widgets/base",
      "model_module_version": "1.2.0",
      "model_name": "LayoutModel",
      "state": {}
     },
     "9ed3165e9e0e4abd9b9eb58d93d836d6": {
      "model_module": "@jupyter-widgets/base",
      "model_module_version": "1.2.0",
      "model_name": "LayoutModel",
      "state": {}
     },
     "9ef105cb13f04630886039dcf46797ac": {
      "model_module": "@jupyter-widgets/base",
      "model_module_version": "1.2.0",
      "model_name": "LayoutModel",
      "state": {}
     },
     "9ef49eaf25ba45438e9b9a8b1afe0318": {
      "model_module": "@jupyter-widgets/base",
      "model_module_version": "1.2.0",
      "model_name": "LayoutModel",
      "state": {}
     },
     "9f2142df8f3343038df5403685c4afb9": {
      "model_module": "@jupyter-widgets/controls",
      "model_module_version": "1.5.0",
      "model_name": "DescriptionStyleModel",
      "state": {
       "description_width": ""
      }
     },
     "9f321e57ab9a4b4ab72116d531e46668": {
      "model_module": "@jupyter-widgets/controls",
      "model_module_version": "1.5.0",
      "model_name": "DescriptionStyleModel",
      "state": {
       "description_width": ""
      }
     },
     "9f3a79f2a21f4973a1f0e3b4c9d14b6f": {
      "model_module": "@jupyter-widgets/base",
      "model_module_version": "1.2.0",
      "model_name": "LayoutModel",
      "state": {}
     },
     "9f4402a0acc34fcfa6a23e1990a42eea": {
      "model_module": "@jupyter-widgets/base",
      "model_module_version": "1.2.0",
      "model_name": "LayoutModel",
      "state": {}
     },
     "9f479e74dec24928bd0072f0ae7a9e3e": {
      "model_module": "@jupyter-widgets/controls",
      "model_module_version": "1.5.0",
      "model_name": "LabelModel",
      "state": {
       "layout": "IPY_MODEL_0706ff931a2c4412835d7379cad6022d",
       "style": "IPY_MODEL_37a0034f1f454c7ea86e571e268a9144",
       "value": "Max Payout: 96.15973854597343 ALCX"
      }
     },
     "9f49cd9bcfea4a589adc51ef62bd4ab8": {
      "model_module": "@jupyter-widgets/controls",
      "model_module_version": "1.5.0",
      "model_name": "CheckboxModel",
      "state": {
       "description": "Use Wallet Balance (72.80737)",
       "disabled": false,
       "layout": "IPY_MODEL_7cf7958a7c6b4f1fa99d9e9208e36902",
       "style": "IPY_MODEL_bae25000f8da465cb1320ee8ef38617a",
       "value": true
      }
     },
     "9fabcf29c4e34b138597922a5ba15fe7": {
      "model_module": "@jupyter-widgets/controls",
      "model_module_version": "1.5.0",
      "model_name": "DescriptionStyleModel",
      "state": {
       "description_width": ""
      }
     },
     "9fd1ed8242104c01b0cf6bdfbd6445e0": {
      "model_module": "@jupyter-widgets/controls",
      "model_module_version": "1.5.0",
      "model_name": "CheckboxModel",
      "state": {
       "description": "Use Wallet Balance (72.80737)",
       "disabled": false,
       "layout": "IPY_MODEL_79da7b4c73ea448cac52505eb4719db0",
       "style": "IPY_MODEL_502477c384ea4df99c13ae860cab2b88",
       "value": false
      }
     },
     "a00dcc6c5b8b4ffbb784555900456b80": {
      "model_module": "@jupyter-widgets/controls",
      "model_module_version": "1.5.0",
      "model_name": "VBoxModel",
      "state": {
       "children": [
        "IPY_MODEL_d26d770ecc674e14973613cf2e79500f",
        "IPY_MODEL_543465ea13c042e1a54c5a061db8ee1d",
        "IPY_MODEL_c2050da07ea547b1892d3ce4fccb730b",
        "IPY_MODEL_5b238b1a62494860a1a2e47c65323132",
        "IPY_MODEL_38cd2acb1d49427197501bb9d1337382",
        "IPY_MODEL_fde8f0b8ada245eab99f0163ee89e523",
        "IPY_MODEL_9e558dc10363436dad10ffb20bbecc21",
        "IPY_MODEL_cee2b6b60c3849bba1205202bb471682",
        "IPY_MODEL_2149225842404e19a7ae75b1b9edea09",
        "IPY_MODEL_0db44ea0ce2a4623ae0bc8409d282088",
        "IPY_MODEL_3f03291a175e4e15bdb4a72ce2589909",
        "IPY_MODEL_2b38a9971614401f8056d22c1e01bf32",
        "IPY_MODEL_bb47caed8e5847ecb15ee94ab33c8218"
       ],
       "layout": "IPY_MODEL_0e46e0d9a6db4bd094ba3590214f0c98"
      }
     },
     "a014304a5bc64e1e80332c9800ff09c1": {
      "model_module": "@jupyter-widgets/controls",
      "model_module_version": "1.5.0",
      "model_name": "DescriptionStyleModel",
      "state": {
       "description_width": ""
      }
     },
     "a03044d61d29406488b00a6d8e7f0d45": {
      "model_module": "@jupyter-widgets/controls",
      "model_module_version": "1.5.0",
      "model_name": "ButtonModel",
      "state": {
       "description": "Generate MultiCall Data",
       "layout": "IPY_MODEL_4462b2c642a94538a8b422998d251324",
       "style": "IPY_MODEL_3cb6867af2a24684a53ea9c622cb3a49"
      }
     },
     "a0934ddef6124f038eb04d729b0fc130": {
      "model_module": "@jupyter-widgets/controls",
      "model_module_version": "1.5.0",
      "model_name": "CheckboxModel",
      "state": {
       "description": "CVX/ALCX (0.0)",
       "disabled": false,
       "layout": "IPY_MODEL_be839b71f1c44b1388f0cc7ebe602c23",
       "style": "IPY_MODEL_1e39b190016d4b7dad0d4eddee93669a",
       "value": false
      }
     },
     "a095e1ddd00d4704950a1005fac5934e": {
      "model_module": "@jupyter-widgets/controls",
      "model_module_version": "1.5.0",
      "model_name": "ButtonStyleModel",
      "state": {}
     },
     "a0a1376c986c4fe4b280c8da985cb69e": {
      "model_module": "@jupyter-widgets/base",
      "model_module_version": "1.2.0",
      "model_name": "LayoutModel",
      "state": {
       "width": "200px"
      }
     },
     "a0a8acb278924264ab88c9efb7a97a17": {
      "model_module": "@jupyter-widgets/controls",
      "model_module_version": "1.5.0",
      "model_name": "DropdownModel",
      "state": {
       "_options_labels": [
        "WETH/ALCX",
        "DAI/ALCX",
        "CVX/ALCX",
        "ALCX-ETH SLP"
       ],
       "index": 0,
       "layout": "IPY_MODEL_087c244d69814a33a25ee0f0ede108c4",
       "style": "IPY_MODEL_1f31738618f045c9b470ab66bc8f6ae1"
      }
     },
     "a0dc8116edc24a278eb958ac7e47f270": {
      "model_module": "@jupyter-widgets/controls",
      "model_module_version": "1.5.0",
      "model_name": "LabelModel",
      "state": {
       "layout": "IPY_MODEL_0a4be7b48ca649d6b46d0c50e08e9546",
       "style": "IPY_MODEL_016cb5d4f6db43fabeca38a4b96a9352",
       "value": "Max Payout: 96.15973854597343 ALCX"
      }
     },
     "a126b8fd9c3045abbc53a3a9e645bf34": {
      "model_module": "@jupyter-widgets/controls",
      "model_module_version": "1.5.0",
      "model_name": "TextModel",
      "state": {
       "description": "Address: ",
       "layout": "IPY_MODEL_73c1af5abf244061b075e26a495b97ef",
       "style": "IPY_MODEL_684783c5f28b409baa467958bf8ebc67",
       "value": "0xeEEC0e4927704ab3BBE5df7F4EfFa818b43665a3"
      }
     },
     "a1463a59275349ea821a2e4390647caf": {
      "model_module": "@jupyter-widgets/controls",
      "model_module_version": "1.5.0",
      "model_name": "ButtonStyleModel",
      "state": {}
     },
     "a1464a67ec7f449389824d4b1128fdbe": {
      "model_module": "@jupyter-widgets/controls",
      "model_module_version": "1.5.0",
      "model_name": "DropdownModel",
      "state": {
       "_options_labels": [
        "WETH/ALCX",
        "DAI/ALCX",
        "CVX/ALCX",
        "ALCX-ETH SLP"
       ],
       "index": 3,
       "layout": "IPY_MODEL_e4caed1cdcbb42078bec0e3890d77950",
       "style": "IPY_MODEL_6ca57e78a4544d2ca542e213047c9969"
      }
     },
     "a14974372a2741f6a71e57bcbc435509": {
      "model_module": "@jupyter-widgets/base",
      "model_module_version": "1.2.0",
      "model_name": "LayoutModel",
      "state": {}
     },
     "a16e45eb6b2748d39df44329e7df51b4": {
      "model_module": "@jupyter-widgets/base",
      "model_module_version": "1.2.0",
      "model_name": "LayoutModel",
      "state": {}
     },
     "a18d17b4700746e29f15c62ba1f79fca": {
      "model_module": "@jupyter-widgets/controls",
      "model_module_version": "1.5.0",
      "model_name": "LabelModel",
      "state": {
       "layout": "IPY_MODEL_8bcc6f83e4664c35b0d23e6b68a7fd76",
       "style": "IPY_MODEL_280cb70dd4ed4086848f68bacf598730",
       "value": "Max Input: 5.9905849037044225 WETH"
      }
     },
     "a18da9acdb7546fa8977e4755693ac56": {
      "model_module": "@jupyter-widgets/controls",
      "model_module_version": "1.5.0",
      "model_name": "DescriptionStyleModel",
      "state": {
       "description_width": ""
      }
     },
     "a1d16e5f0f374da29eadb42bf7901d24": {
      "model_module": "@jupyter-widgets/controls",
      "model_module_version": "1.5.0",
      "model_name": "HBoxModel",
      "state": {
       "children": [
        "IPY_MODEL_e99369a57e6f455eb657bfde99614ba6",
        "IPY_MODEL_b137b7d16b0545089a087bf7f8464331"
       ],
       "layout": "IPY_MODEL_7d556da2aaf74273bfb36126bed8945e"
      }
     },
     "a1f8183ca653498a8d043e63657dc2ab": {
      "model_module": "@jupyter-widgets/base",
      "model_module_version": "1.2.0",
      "model_name": "LayoutModel",
      "state": {}
     },
     "a1f82714cae04cfc9b7ad075f72d0465": {
      "model_module": "@jupyter-widgets/controls",
      "model_module_version": "1.5.0",
      "model_name": "DescriptionStyleModel",
      "state": {
       "description_width": ""
      }
     },
     "a1fc2b64bc814279924a39997dbf3939": {
      "model_module": "@jupyter-widgets/base",
      "model_module_version": "1.2.0",
      "model_name": "LayoutModel",
      "state": {}
     },
     "a22337459a2d4e04ad6cbbbe995da9aa": {
      "model_module": "@jupyter-widgets/controls",
      "model_module_version": "1.5.0",
      "model_name": "ButtonModel",
      "state": {
       "description": "Generate MultiCall Data",
       "layout": "IPY_MODEL_e02dc30cae094885b17e859003f1ceb4",
       "style": "IPY_MODEL_3c318cf6f4794608b165f07f0baace84"
      }
     },
     "a227e9fae3e14f9c893797fbc635f8f6": {
      "model_module": "@jupyter-widgets/controls",
      "model_module_version": "1.5.0",
      "model_name": "DescriptionStyleModel",
      "state": {
       "description_width": ""
      }
     },
     "a22c48e414b647029e223fc8ff008a0a": {
      "model_module": "@jupyter-widgets/controls",
      "model_module_version": "1.5.0",
      "model_name": "LabelModel",
      "state": {
       "layout": "IPY_MODEL_7ba636ed664b49a1b20f35e28faa8679",
       "style": "IPY_MODEL_69ac4d56368d465ab50c45b3737dab8e",
       "value": "Max Input: 22765.923248489646 DAI"
      }
     },
     "a2421aed7cab46e6b04f20a840a1bb9a": {
      "model_module": "@jupyter-widgets/controls",
      "model_module_version": "1.5.0",
      "model_name": "DescriptionStyleModel",
      "state": {
       "description_width": ""
      }
     },
     "a281d643daf64652973ca2b7d3bc3eef": {
      "model_module": "@jupyter-widgets/controls",
      "model_module_version": "1.5.0",
      "model_name": "DescriptionStyleModel",
      "state": {
       "description_width": ""
      }
     },
     "a2a45f75b33c4d4cacfeb0815fee41e4": {
      "model_module": "@jupyter-widgets/controls",
      "model_module_version": "1.5.0",
      "model_name": "HBoxModel",
      "state": {
       "children": [
        "IPY_MODEL_c5db27c70bae440eaa3268ffe781fa44",
        "IPY_MODEL_942bf129cde1449a9bc36144c6290e0f"
       ],
       "layout": "IPY_MODEL_788dfd9f51a54b3fb43476ececb0b33d"
      }
     },
     "a2c5241b15e74f26878168034aad1043": {
      "model_module": "@jupyter-widgets/base",
      "model_module_version": "1.2.0",
      "model_name": "LayoutModel",
      "state": {}
     },
     "a2cf680f4278492788e00cfcca7fa26a": {
      "model_module": "@jupyter-widgets/controls",
      "model_module_version": "1.5.0",
      "model_name": "HBoxModel",
      "state": {
       "children": [
        "IPY_MODEL_b6ee769f62f2498f9f7e0058add48f41",
        "IPY_MODEL_33c89e2d80124e959e79ed91931f9c17"
       ],
       "layout": "IPY_MODEL_92a2bd510fcb4334b782b2e5eb21ae39"
      }
     },
     "a2ea7eb44c6d4e4bbd5a9bf8099b57e7": {
      "model_module": "@jupyter-widgets/base",
      "model_module_version": "1.2.0",
      "model_name": "LayoutModel",
      "state": {}
     },
     "a2ec2e2177794c5e91b0b31060b76125": {
      "model_module": "@jupyter-widgets/controls",
      "model_module_version": "1.5.0",
      "model_name": "ButtonStyleModel",
      "state": {}
     },
     "a2f15c6658284eb59fb072aa705467e2": {
      "model_module": "@jupyter-widgets/base",
      "model_module_version": "1.2.0",
      "model_name": "LayoutModel",
      "state": {}
     },
     "a307780ac71344369bc401f3ef2f1f37": {
      "model_module": "@jupyter-widgets/controls",
      "model_module_version": "1.5.0",
      "model_name": "LabelModel",
      "state": {
       "layout": "IPY_MODEL_dd551fb0e5db45beb51b078abb4401b5",
       "style": "IPY_MODEL_0a7e380ea6804b36bf49faa3644ce729",
       "value": "Select Assets to Claim:"
      }
     },
     "a30dc670ca7040a585c2be0fe015703c": {
      "model_module": "@jupyter-widgets/controls",
      "model_module_version": "1.5.0",
      "model_name": "DescriptionStyleModel",
      "state": {
       "description_width": ""
      }
     },
     "a32cbce69c284875b37942a20b8b8547": {
      "model_module": "@jupyter-widgets/base",
      "model_module_version": "1.2.0",
      "model_name": "LayoutModel",
      "state": {}
     },
     "a338bfc5c1fa488f9ac94009b99eb227": {
      "model_module": "@jupyter-widgets/controls",
      "model_module_version": "1.5.0",
      "model_name": "CheckboxModel",
      "state": {
       "description": "WETH/ALCX (6.87449)",
       "disabled": false,
       "layout": "IPY_MODEL_29f9f7971b534067ad5cc6274ca7b5d4",
       "style": "IPY_MODEL_d06820754ce94313857ef473a8c34156",
       "value": true
      }
     },
     "a34379529c62451083e04fecca3d58df": {
      "model_module": "@jupyter-widgets/controls",
      "model_module_version": "1.5.0",
      "model_name": "DescriptionStyleModel",
      "state": {
       "description_width": ""
      }
     },
     "a3535366be254b16a83574ab7f5b8216": {
      "model_module": "@jupyter-widgets/controls",
      "model_module_version": "1.5.0",
      "model_name": "HBoxModel",
      "state": {
       "children": [
        "IPY_MODEL_73f5cd0f835f497a988bcd6a61f02265",
        "IPY_MODEL_3dc1df8492454b8781348a549d1afe8b"
       ],
       "layout": "IPY_MODEL_0aff1c108e0e4891b141770b9613a4ec"
      }
     },
     "a36482b780cd42c8b615e7674d50488d": {
      "model_module": "@jupyter-widgets/controls",
      "model_module_version": "1.5.0",
      "model_name": "DescriptionStyleModel",
      "state": {
       "description_width": ""
      }
     },
     "a378351e9e0841ee97400a879c69e178": {
      "model_module": "@jupyter-widgets/controls",
      "model_module_version": "1.5.0",
      "model_name": "VBoxModel",
      "state": {
       "children": [
        "IPY_MODEL_33d1ba62ddd94f4fb59cc25f192339ba",
        "IPY_MODEL_d861459993624a0cbbafe2818a5f8bc6",
        "IPY_MODEL_c63b51a734684b5cbca1e9b00e7c6a30",
        "IPY_MODEL_5e9c1719824443c7bf8cab1d7a64418d",
        "IPY_MODEL_926d7355637d4db5a5b6560b7d765286",
        "IPY_MODEL_b1cea5b1789b47b69b205a510a825961",
        "IPY_MODEL_535e351363fa44bd83d6f837a6c5d08d",
        "IPY_MODEL_1174eedd78574cc2977bd588c5e7ac8d",
        "IPY_MODEL_76563b41081448ef885ea8a7b3e64af0",
        "IPY_MODEL_feb6da1bf34546b78e66d11ed44ff018",
        "IPY_MODEL_6e6566ba920949efa9b77843bf174494",
        "IPY_MODEL_9715d70f09ba4845b39dd515a8638c74",
        "IPY_MODEL_1a6aa6b027044d7a88901904cfbad50c"
       ],
       "layout": "IPY_MODEL_d960826e356a48908c965a63a3d6a5a2"
      }
     },
     "a39aa1795f1a468783a11c29bc2e7b55": {
      "model_module": "@jupyter-widgets/controls",
      "model_module_version": "1.5.0",
      "model_name": "LabelModel",
      "state": {
       "layout": "IPY_MODEL_95d28892607046dc84713612c4faf214",
       "style": "IPY_MODEL_9c2ec5c3e6c248bf81621e1712a099da",
       "value": "[Current block: 13905563]"
      }
     },
     "a39fb11ddbe5463e89a84346b7f4d3bc": {
      "model_module": "@jupyter-widgets/controls",
      "model_module_version": "1.5.0",
      "model_name": "LabelModel",
      "state": {
       "layout": "IPY_MODEL_80a37063fa28462d89505dc826a0bfd8",
       "style": "IPY_MODEL_522a80a750fd48a381cecc24c48ba8af",
       "value": "Select Assets to Claim:"
      }
     },
     "a39fdb422a9d4b7db06c1bb6aa6811d2": {
      "model_module": "@jupyter-widgets/base",
      "model_module_version": "1.2.0",
      "model_name": "LayoutModel",
      "state": {}
     },
     "a3ae39fb53b84e9db3bd1719c82d007f": {
      "model_module": "@jupyter-widgets/controls",
      "model_module_version": "1.5.0",
      "model_name": "DescriptionStyleModel",
      "state": {
       "description_width": ""
      }
     },
     "a42a46841c4a47c486cf09b410aa7cf5": {
      "model_module": "@jupyter-widgets/controls",
      "model_module_version": "1.5.0",
      "model_name": "DescriptionStyleModel",
      "state": {
       "description_width": ""
      }
     },
     "a4485926e4a04f2b8db231d028b8981c": {
      "model_module": "@jupyter-widgets/controls",
      "model_module_version": "1.5.0",
      "model_name": "ButtonModel",
      "state": {
       "description": "Generate MultiCall Data",
       "layout": "IPY_MODEL_a0a1376c986c4fe4b280c8da985cb69e",
       "style": "IPY_MODEL_9933edff9f8544969a0661f572bbb21c"
      }
     },
     "a44cc904b0b640c79075d676204f5873": {
      "model_module": "@jupyter-widgets/base",
      "model_module_version": "1.2.0",
      "model_name": "LayoutModel",
      "state": {}
     },
     "a4635f94f75b445ebf86eac6c5a4b79c": {
      "model_module": "@jupyter-widgets/base",
      "model_module_version": "1.2.0",
      "model_name": "LayoutModel",
      "state": {}
     },
     "a47354764b0a4654bca890cb675de715": {
      "model_module": "@jupyter-widgets/base",
      "model_module_version": "1.2.0",
      "model_name": "LayoutModel",
      "state": {}
     },
     "a47b670caed842ad92cbe4abfefb6ad9": {
      "model_module": "@jupyter-widgets/controls",
      "model_module_version": "1.5.0",
      "model_name": "CheckboxModel",
      "state": {
       "description": "Use Wallet Balance (72.80737)",
       "disabled": false,
       "layout": "IPY_MODEL_b4e11fbb238b4e83958c3cc05b0a22e7",
       "style": "IPY_MODEL_d31fc33b0d704a41b4159e76ef238321",
       "value": true
      }
     },
     "a48b6193356e431b95d40b932ae03cd7": {
      "model_module": "@jupyter-widgets/controls",
      "model_module_version": "1.5.0",
      "model_name": "DescriptionStyleModel",
      "state": {
       "description_width": ""
      }
     },
     "a48eb8cc83cc4e04865b0e11a4a63808": {
      "model_module": "@jupyter-widgets/controls",
      "model_module_version": "1.5.0",
      "model_name": "DescriptionStyleModel",
      "state": {
       "description_width": ""
      }
     },
     "a497e2c6907f445e82f61bca78fe93f9": {
      "model_module": "@jupyter-widgets/controls",
      "model_module_version": "1.5.0",
      "model_name": "LabelModel",
      "state": {
       "layout": "IPY_MODEL_c11c7e17a11e4660ba9da33465b0a90f",
       "style": "IPY_MODEL_f3c379946d4349699531d41e9fca469a",
       "value": "Max Payout: 96.15973854597343 ALCX"
      }
     },
     "a49a35d74cbd4aea9247c824beb60f69": {
      "model_module": "@jupyter-widgets/controls",
      "model_module_version": "1.5.0",
      "model_name": "LabelModel",
      "state": {
       "layout": "IPY_MODEL_9f4402a0acc34fcfa6a23e1990a42eea",
       "style": "IPY_MODEL_a4f2232075f14ebea7dba1db4b0be5b6",
       "value": "Your Payout: 84.00583467049377 ALCX"
      }
     },
     "a4a6d5fe7205486ba3dccc48944080b9": {
      "model_module": "@jupyter-widgets/controls",
      "model_module_version": "1.5.0",
      "model_name": "DescriptionStyleModel",
      "state": {
       "description_width": ""
      }
     },
     "a4bf78d8432a4cbcb2fb1ccfe60ddaea": {
      "model_module": "@jupyter-widgets/controls",
      "model_module_version": "1.5.0",
      "model_name": "ButtonStyleModel",
      "state": {}
     },
     "a4c02107567344a093d1f2dda72fb50d": {
      "model_module": "@jupyter-widgets/controls",
      "model_module_version": "1.5.0",
      "model_name": "DescriptionStyleModel",
      "state": {
       "description_width": ""
      }
     },
     "a4e755a3ed2445708ec692c9bc912d3e": {
      "model_module": "@jupyter-widgets/controls",
      "model_module_version": "1.5.0",
      "model_name": "ButtonModel",
      "state": {
       "description": "Generate MultiCall Data",
       "layout": "IPY_MODEL_e38336abda884b938be9bc7158b52ecb",
       "style": "IPY_MODEL_861e6eaef3a14c508d67ab40ef0e4f7a"
      }
     },
     "a4efc30e503448ec9248815f5f312529": {
      "model_module": "@jupyter-widgets/base",
      "model_module_version": "1.2.0",
      "model_name": "LayoutModel",
      "state": {}
     },
     "a4f2232075f14ebea7dba1db4b0be5b6": {
      "model_module": "@jupyter-widgets/controls",
      "model_module_version": "1.5.0",
      "model_name": "DescriptionStyleModel",
      "state": {
       "description_width": ""
      }
     },
     "a5227b29f8ce4d7294dfaf8d9d9696ca": {
      "model_module": "@jupyter-widgets/base",
      "model_module_version": "1.2.0",
      "model_name": "LayoutModel",
      "state": {}
     },
     "a538293910bd4654a4eb7ce8ce7d9612": {
      "model_module": "@jupyter-widgets/base",
      "model_module_version": "1.2.0",
      "model_name": "LayoutModel",
      "state": {}
     },
     "a5441fa1b56c49c68b733fd9889f1718": {
      "model_module": "@jupyter-widgets/controls",
      "model_module_version": "1.5.0",
      "model_name": "CheckboxModel",
      "state": {
       "description": "CVX/ALCX (0.0)",
       "disabled": false,
       "layout": "IPY_MODEL_e6946e2bde40474db3645ba63518291e",
       "style": "IPY_MODEL_f862bd9b84b24a969ad1eb741db84ae0",
       "value": false
      }
     },
     "a545dac89744454186f82e0fbc289a15": {
      "model_module": "@jupyter-widgets/controls",
      "model_module_version": "1.5.0",
      "model_name": "DescriptionStyleModel",
      "state": {
       "description_width": ""
      }
     },
     "a54f9747fc2747a283cdab38dafe540a": {
      "model_module": "@jupyter-widgets/base",
      "model_module_version": "1.2.0",
      "model_name": "LayoutModel",
      "state": {}
     },
     "a563c9f2d85a4a39adddc5fd86e15a7f": {
      "model_module": "@jupyter-widgets/controls",
      "model_module_version": "1.5.0",
      "model_name": "HBoxModel",
      "state": {
       "children": [
        "IPY_MODEL_a0934ddef6124f038eb04d729b0fc130",
        "IPY_MODEL_a7b4b3254cc4454298e99e2681256f96"
       ],
       "layout": "IPY_MODEL_287ecd19879a4091bdb933cd7fb3f269"
      }
     },
     "a567ba0b474e47988e040cbfb3514263": {
      "model_module": "@jupyter-widgets/base",
      "model_module_version": "1.2.0",
      "model_name": "LayoutModel",
      "state": {}
     },
     "a5707f7945fb4808b431a9a762e088ec": {
      "model_module": "@jupyter-widgets/base",
      "model_module_version": "1.2.0",
      "model_name": "LayoutModel",
      "state": {}
     },
     "a58521df40fc4d279e391bc9a6f3b695": {
      "model_module": "@jupyter-widgets/base",
      "model_module_version": "1.2.0",
      "model_name": "LayoutModel",
      "state": {}
     },
     "a58b080966e845e6806dab6022f0b1aa": {
      "model_module": "@jupyter-widgets/base",
      "model_module_version": "1.2.0",
      "model_name": "LayoutModel",
      "state": {}
     },
     "a5a33c07e3e14a49beee487e69d765a7": {
      "model_module": "@jupyter-widgets/base",
      "model_module_version": "1.2.0",
      "model_name": "LayoutModel",
      "state": {}
     },
     "a5c2d2344e004a76917ed115b30521f8": {
      "model_module": "@jupyter-widgets/controls",
      "model_module_version": "1.5.0",
      "model_name": "DescriptionStyleModel",
      "state": {
       "description_width": ""
      }
     },
     "a5f7e7504f0d4bb09684a5d251e7f516": {
      "model_module": "@jupyter-widgets/controls",
      "model_module_version": "1.5.0",
      "model_name": "DescriptionStyleModel",
      "state": {
       "description_width": ""
      }
     },
     "a60adf35be8c4520ba7341226e781beb": {
      "model_module": "@jupyter-widgets/base",
      "model_module_version": "1.2.0",
      "model_name": "LayoutModel",
      "state": {}
     },
     "a61f6d1a0e594388a94a782703b053e4": {
      "model_module": "@jupyter-widgets/controls",
      "model_module_version": "1.5.0",
      "model_name": "DescriptionStyleModel",
      "state": {
       "description_width": ""
      }
     },
     "a6207fd02f3d4f629036482676386ccf": {
      "model_module": "@jupyter-widgets/base",
      "model_module_version": "1.2.0",
      "model_name": "LayoutModel",
      "state": {}
     },
     "a6622d75e09c4772a8ea77dc1fbfb3e2": {
      "model_module": "@jupyter-widgets/controls",
      "model_module_version": "1.5.0",
      "model_name": "LabelModel",
      "state": {
       "layout": "IPY_MODEL_48de4b8968e84d64b8ca009a38a52980",
       "style": "IPY_MODEL_7d7362319f554570bf37cc89e1327d09",
       "value": "[Current block: 13905580]"
      }
     },
     "a68f48a420454038a6bbdc037637cebd": {
      "model_module": "@jupyter-widgets/controls",
      "model_module_version": "1.5.0",
      "model_name": "DescriptionStyleModel",
      "state": {
       "description_width": ""
      }
     },
     "a69d50b789454ddeb618587ec13906b1": {
      "model_module": "@jupyter-widgets/controls",
      "model_module_version": "1.5.0",
      "model_name": "DescriptionStyleModel",
      "state": {
       "description_width": ""
      }
     },
     "a69f51dee118488b927cc99c1a3cc66c": {
      "model_module": "@jupyter-widgets/controls",
      "model_module_version": "1.5.0",
      "model_name": "DescriptionStyleModel",
      "state": {
       "description_width": ""
      }
     },
     "a6afa24a24b14d25b188adf09d7a57ee": {
      "model_module": "@jupyter-widgets/base",
      "model_module_version": "1.2.0",
      "model_name": "LayoutModel",
      "state": {}
     },
     "a6bd8e5afa3d419e849ec26bef717388": {
      "model_module": "@jupyter-widgets/controls",
      "model_module_version": "1.5.0",
      "model_name": "ButtonStyleModel",
      "state": {}
     },
     "a6f305be6dcc462ba053bd5014ab9e7b": {
      "model_module": "@jupyter-widgets/controls",
      "model_module_version": "1.5.0",
      "model_name": "LabelModel",
      "state": {
       "layout": "IPY_MODEL_3039a59f3a514bdbad8b37e751cf3721",
       "style": "IPY_MODEL_91415ed476dd4774917dd95fb12500e8",
       "value": "Select Pool to Bond:"
      }
     },
     "a6fd111d16b247e1962e225aa780d941": {
      "model_module": "@jupyter-widgets/controls",
      "model_module_version": "1.5.0",
      "model_name": "VBoxModel",
      "state": {
       "children": [
        "IPY_MODEL_9b0177348b5b4152bd66c7bc97994fe2",
        "IPY_MODEL_f839d60cf2394f3db2ef1123b04a48b9",
        "IPY_MODEL_f44b77a1475a405182da3ce0031537bf",
        "IPY_MODEL_f59f2c4e199c498c909695b02debc9a8",
        "IPY_MODEL_12c5eddc333a4557a2949ce3f81083a9",
        "IPY_MODEL_f758c50cf6cd488789914330a08caa68",
        "IPY_MODEL_b5bd1e5524ff47aaaa43db11a9eb21c5",
        "IPY_MODEL_01a747b6c6d744b2b0e5a81dc950beac",
        "IPY_MODEL_105f19022e4148208cd730077b6d509a",
        "IPY_MODEL_e784ffc3db1149aab0bc6acf896871e1",
        "IPY_MODEL_342fb71502ab496983f604dea231f8b0",
        "IPY_MODEL_446060256db0401883dfb13cd8348684",
        "IPY_MODEL_bd2c27e65e574b0fa793ed98b38b9ed5",
        "IPY_MODEL_89e99243d3b44f9c9bbed7f19b4dbd52"
       ],
       "layout": "IPY_MODEL_492a70b0de0d43f1bad152f65fddcdfd"
      }
     },
     "a7195172ded540758a72d45796256956": {
      "model_module": "@jupyter-widgets/controls",
      "model_module_version": "1.5.0",
      "model_name": "DescriptionStyleModel",
      "state": {
       "description_width": ""
      }
     },
     "a71e00cc2611468693073653bdd9f6ca": {
      "model_module": "@jupyter-widgets/controls",
      "model_module_version": "1.5.0",
      "model_name": "LabelModel",
      "state": {
       "layout": "IPY_MODEL_7602c1caae2d4983a32dc74269e3115d",
       "style": "IPY_MODEL_686a5e353161476996971568d2f6e9f9",
       "value": "Max Payout: 96.15973854597343 ALCX"
      }
     },
     "a722cf7e4c5a48b6ae0ec8e473ee71c2": {
      "model_module": "@jupyter-widgets/controls",
      "model_module_version": "1.5.0",
      "model_name": "VBoxModel",
      "state": {
       "children": [
        "IPY_MODEL_e1a5a26411744b1084d9ee00c910f5c9",
        "IPY_MODEL_663e884a67f84ac39d2f3f27cb3197db",
        "IPY_MODEL_86b7c8db5d1c492eb2b41bbe3ec2d4bb",
        "IPY_MODEL_2df1a032a1714b17b49b0e7fbe997ca9",
        "IPY_MODEL_54377cc29f654f8c950347d336f80937",
        "IPY_MODEL_03a14e9bf58c48498043211f48c7e559",
        "IPY_MODEL_c59aaee2baaa4816ae37fb0ae4194107",
        "IPY_MODEL_ee48cae399104eb6a5357cc024e9fcc5",
        "IPY_MODEL_5af95b0dcc944cf0b832b3328d1551fa",
        "IPY_MODEL_a0a8acb278924264ab88c9efb7a97a17",
        "IPY_MODEL_625c9e3e41d243d5bab5cbcc32542160",
        "IPY_MODEL_addb1498c2b7436b810a4d61c86386c9",
        "IPY_MODEL_09e41f42a82345349b62913a5c142a12",
        "IPY_MODEL_fe119396a32e4643b4e37468cf694567"
       ],
       "layout": "IPY_MODEL_831fe7a3a0184cb98a1f48c991e8ae6a"
      }
     },
     "a7246534f8474107b6836b92e3d1f688": {
      "model_module": "@jupyter-widgets/controls",
      "model_module_version": "1.5.0",
      "model_name": "DescriptionStyleModel",
      "state": {
       "description_width": ""
      }
     },
     "a73c6586bd404c33a7ea9a43992729b6": {
      "model_module": "@jupyter-widgets/controls",
      "model_module_version": "1.5.0",
      "model_name": "DescriptionStyleModel",
      "state": {
       "description_width": ""
      }
     },
     "a76019fa21134ed3a3eabc6d76ffc832": {
      "model_module": "@jupyter-widgets/controls",
      "model_module_version": "1.5.0",
      "model_name": "DropdownModel",
      "state": {
       "_options_labels": [
        "WETH/ALCX",
        "DAI/ALCX",
        "CVX/ALCX",
        "ALCX-ETH SLP"
       ],
       "index": 1,
       "layout": "IPY_MODEL_d3bbffd15e47490785a33a4d1ee581e2",
       "style": "IPY_MODEL_f67486a31a74475eb8042d7b9cf09346"
      }
     },
     "a760bed66b954753b1fe22793c30a3f3": {
      "model_module": "@jupyter-widgets/controls",
      "model_module_version": "1.5.0",
      "model_name": "DescriptionStyleModel",
      "state": {
       "description_width": ""
      }
     },
     "a787f7861d724d04b0018275ba34c850": {
      "model_module": "@jupyter-widgets/controls",
      "model_module_version": "1.5.0",
      "model_name": "CheckboxModel",
      "state": {
       "description": "Use Wallet Balance (72.80737)",
       "disabled": false,
       "layout": "IPY_MODEL_0390d79e71bd4aaea45d5cd4c348668a",
       "style": "IPY_MODEL_8cb384fbbbf141f89a9c67ed89a1c738",
       "value": true
      }
     },
     "a78ea904bf9945efb5f351f17c58d624": {
      "model_module": "@jupyter-widgets/base",
      "model_module_version": "1.2.0",
      "model_name": "LayoutModel",
      "state": {
       "width": "200px"
      }
     },
     "a7a60d6b57e445039663b9df34d0c028": {
      "model_module": "@jupyter-widgets/controls",
      "model_module_version": "1.5.0",
      "model_name": "LabelModel",
      "state": {
       "layout": "IPY_MODEL_df444e885b194df194517504fb91793b",
       "style": "IPY_MODEL_9e7f188f965d439383bdbe08a527eb9f",
       "value": "Select Assets to Claim:"
      }
     },
     "a7b4b3254cc4454298e99e2681256f96": {
      "model_module": "@jupyter-widgets/controls",
      "model_module_version": "1.5.0",
      "model_name": "CheckboxModel",
      "state": {
       "description": "ALCX-ETH SLP (0.0)",
       "disabled": false,
       "layout": "IPY_MODEL_ed26b415245b4f64a9fa09c5efb7bdef",
       "style": "IPY_MODEL_ca89e4af9db34c4dbdbc14d714f099fd",
       "value": false
      }
     },
     "a7dd4e546a8e48568ac024a09e551093": {
      "model_module": "@jupyter-widgets/controls",
      "model_module_version": "1.5.0",
      "model_name": "LabelModel",
      "state": {
       "layout": "IPY_MODEL_32a94f02d7184423873f7010b2e23e56",
       "style": "IPY_MODEL_d849cea063404224bf56ffd061530154",
       "value": "[Current block: 13905537]"
      }
     },
     "a7e4b5437357461485ade3a62e867572": {
      "model_module": "@jupyter-widgets/base",
      "model_module_version": "1.2.0",
      "model_name": "LayoutModel",
      "state": {}
     },
     "a7e975dfb983469181dedf485cfdfdd2": {
      "model_module": "@jupyter-widgets/controls",
      "model_module_version": "1.5.0",
      "model_name": "CheckboxModel",
      "state": {
       "description": "DAI/ALCX (3.60264)",
       "disabled": false,
       "layout": "IPY_MODEL_95bc1f719e0c4d679bf9cb9701b16c64",
       "style": "IPY_MODEL_520baffda23648899e9d7e50e5c1850b",
       "value": false
      }
     },
     "a806da92862c43759b7512c2f982fe83": {
      "model_module": "@jupyter-widgets/controls",
      "model_module_version": "1.5.0",
      "model_name": "LabelModel",
      "state": {
       "layout": "IPY_MODEL_85ea89080005483f87896e807f899900",
       "style": "IPY_MODEL_676b0c94566b459baa6da3b471b7de31",
       "value": "Select Pool to Bond:"
      }
     },
     "a812eced8a5046dcaa1692a56fb4a55a": {
      "model_module": "@jupyter-widgets/controls",
      "model_module_version": "1.5.0",
      "model_name": "DropdownModel",
      "state": {
       "_options_labels": [
        "WETH/ALCX",
        "DAI/ALCX",
        "CVX/ALCX",
        "ALCX-ETH SLP"
       ],
       "index": 1,
       "layout": "IPY_MODEL_d3cae8376351445ba7b33f3b49052a82",
       "style": "IPY_MODEL_76f2b930e9cb4b0684a59880ebbea82e"
      }
     },
     "a827189449da47e9a2986d71f2ec9068": {
      "model_module": "@jupyter-widgets/controls",
      "model_module_version": "1.5.0",
      "model_name": "DescriptionStyleModel",
      "state": {
       "description_width": ""
      }
     },
     "a82e47c08e124955bcbc6348e7960ea5": {
      "model_module": "@jupyter-widgets/base",
      "model_module_version": "1.2.0",
      "model_name": "LayoutModel",
      "state": {}
     },
     "a831e46c02ad464892ba6eb70d40642b": {
      "model_module": "@jupyter-widgets/base",
      "model_module_version": "1.2.0",
      "model_name": "LayoutModel",
      "state": {}
     },
     "a83c2c6d508f487c87257969554d91c3": {
      "model_module": "@jupyter-widgets/controls",
      "model_module_version": "1.5.0",
      "model_name": "HBoxModel",
      "state": {
       "children": [
        "IPY_MODEL_c20af12dbf364a75816fc26687add5bd",
        "IPY_MODEL_edbfa74797544a6483db3aa46078a4fc"
       ],
       "layout": "IPY_MODEL_e469324c351342e7b7ffc632b4e0d77c"
      }
     },
     "a84ccc6fd896442f84eaa5067ceaf4c5": {
      "model_module": "@jupyter-widgets/base",
      "model_module_version": "1.2.0",
      "model_name": "LayoutModel",
      "state": {}
     },
     "a8588f944f9145f69b404467773bf3bb": {
      "model_module": "@jupyter-widgets/controls",
      "model_module_version": "1.5.0",
      "model_name": "ButtonStyleModel",
      "state": {}
     },
     "a8720a1cc3194c9daf68c7136cf4bc4e": {
      "model_module": "@jupyter-widgets/base",
      "model_module_version": "1.2.0",
      "model_name": "LayoutModel",
      "state": {}
     },
     "a88b5e115c7248dbbc5714d0c9963a77": {
      "model_module": "@jupyter-widgets/base",
      "model_module_version": "1.2.0",
      "model_name": "LayoutModel",
      "state": {}
     },
     "a8e3883429cf430c97efe67b1cbd5ded": {
      "model_module": "@jupyter-widgets/base",
      "model_module_version": "1.2.0",
      "model_name": "LayoutModel",
      "state": {}
     },
     "a8fe3f20720243778a90015ccc53fe4d": {
      "model_module": "@jupyter-widgets/controls",
      "model_module_version": "1.5.0",
      "model_name": "DescriptionStyleModel",
      "state": {
       "description_width": ""
      }
     },
     "a93b02352b0547f684577c454826c30f": {
      "model_module": "@jupyter-widgets/base",
      "model_module_version": "1.2.0",
      "model_name": "LayoutModel",
      "state": {}
     },
     "a94288d1fb98420c9428fbe7497cf722": {
      "model_module": "@jupyter-widgets/controls",
      "model_module_version": "1.5.0",
      "model_name": "DescriptionStyleModel",
      "state": {
       "description_width": ""
      }
     },
     "a944352b876f4567bc6a8b2ce2ec7896": {
      "model_module": "@jupyter-widgets/controls",
      "model_module_version": "1.5.0",
      "model_name": "HBoxModel",
      "state": {
       "children": [
        "IPY_MODEL_42e8aa88891643448f2e3437e2e51bce",
        "IPY_MODEL_9e9fd193af32474da0506fe084ccdbad"
       ],
       "layout": "IPY_MODEL_39ded48a38cc48d9a13b285098d12057"
      }
     },
     "a948b636de2940818760836a7e8c849f": {
      "model_module": "@jupyter-widgets/controls",
      "model_module_version": "1.5.0",
      "model_name": "ButtonStyleModel",
      "state": {}
     },
     "a94b765f2b9948abae3b95f682f4634e": {
      "model_module": "@jupyter-widgets/base",
      "model_module_version": "1.2.0",
      "model_name": "LayoutModel",
      "state": {}
     },
     "a9549ef4be0b4853b1a6f4aaf6ad5ebe": {
      "model_module": "@jupyter-widgets/base",
      "model_module_version": "1.2.0",
      "model_name": "LayoutModel",
      "state": {}
     },
     "a96504092863458ea11acc124069f35b": {
      "model_module": "@jupyter-widgets/controls",
      "model_module_version": "1.5.0",
      "model_name": "CheckboxModel",
      "state": {
       "description": "WETH/ALCX (0.0)",
       "disabled": false,
       "layout": "IPY_MODEL_f6ac9b6fd6ff4adca00eb54e2317f1c7",
       "style": "IPY_MODEL_4732d90c10ac4ecda4aabcb199a0dfea",
       "value": true
      }
     },
     "a9b56c76c32c48f3a7400ee32c25ef07": {
      "model_module": "@jupyter-widgets/controls",
      "model_module_version": "1.5.0",
      "model_name": "LabelModel",
      "state": {
       "layout": "IPY_MODEL_40fe326b77aa44f78ee9dcf6a4d2d850",
       "style": "IPY_MODEL_3dbce710b83e4b0eb8c13c80964be5cb",
       "value": "Max Input: 11.670394679513196 ALCX-ETH SLP"
      }
     },
     "a9e517e2c0e243359540dfc27ac63be4": {
      "model_module": "@jupyter-widgets/base",
      "model_module_version": "1.2.0",
      "model_name": "LayoutModel",
      "state": {}
     },
     "aa0ea625491d42a4ba128d4f1084bee6": {
      "model_module": "@jupyter-widgets/base",
      "model_module_version": "1.2.0",
      "model_name": "LayoutModel",
      "state": {}
     },
     "aa14938af0c74aa6a7b7440f5e02804b": {
      "model_module": "@jupyter-widgets/controls",
      "model_module_version": "1.5.0",
      "model_name": "CheckboxModel",
      "state": {
       "description": "Use Wallet Balance (72.80737)",
       "disabled": false,
       "layout": "IPY_MODEL_bf33c24fdbf048868956a23ad2704497",
       "style": "IPY_MODEL_fce6ac388b77495ea4fb11993cd9f208",
       "value": true
      }
     },
     "aa3837b634894afaae446ada3ce27bb3": {
      "model_module": "@jupyter-widgets/controls",
      "model_module_version": "1.5.0",
      "model_name": "CheckboxModel",
      "state": {
       "description": "DAI/ALCX (3.48172)",
       "disabled": false,
       "layout": "IPY_MODEL_7fe2b1e90803429380a7cb2355689506",
       "style": "IPY_MODEL_df12df23d6c54a83ac971b024e33de43",
       "value": false
      }
     },
     "aa3eadd75c14477f9789cc87f7e42cdd": {
      "model_module": "@jupyter-widgets/controls",
      "model_module_version": "1.5.0",
      "model_name": "CheckboxModel",
      "state": {
       "description": "CVX/ALCX (0.0)",
       "disabled": false,
       "layout": "IPY_MODEL_3dd3099fae5740db812f0f796d58a9aa",
       "style": "IPY_MODEL_79f93af3f4c34cdcafbbb81bd588f004",
       "value": false
      }
     },
     "aa40507123054573b5d221d46dc2a062": {
      "model_module": "@jupyter-widgets/controls",
      "model_module_version": "1.5.0",
      "model_name": "LabelModel",
      "state": {
       "layout": "IPY_MODEL_2eb5d64ff3b249eab4387981ef1d2412",
       "style": "IPY_MODEL_07868297a5524404a1c6504b60b4041d",
       "value": "Max Payout: 96.15842394776256 ALCX"
      }
     },
     "aa609a3c389246f2adcbff93a37595f0": {
      "model_module": "@jupyter-widgets/base",
      "model_module_version": "1.2.0",
      "model_name": "LayoutModel",
      "state": {}
     },
     "aa9335561f584c319e74d4c4ffa79540": {
      "model_module": "@jupyter-widgets/controls",
      "model_module_version": "1.5.0",
      "model_name": "CheckboxModel",
      "state": {
       "description": "Use Wallet Balance (72.80737)",
       "disabled": false,
       "layout": "IPY_MODEL_e9d9e79a69c3432c9ee3957a1290ebcf",
       "style": "IPY_MODEL_0ac7aed028b2442691a392764c553e02",
       "value": true
      }
     },
     "aa95fafdfefc4313ae9dbec39796f853": {
      "model_module": "@jupyter-widgets/controls",
      "model_module_version": "1.5.0",
      "model_name": "CheckboxModel",
      "state": {
       "description": "ALCX-ETH SLP (0.0)",
       "disabled": false,
       "layout": "IPY_MODEL_4e64f81bde804db29799cafeb2d130ef",
       "style": "IPY_MODEL_74bf13e644324300b0be65f8221352d2",
       "value": false
      }
     },
     "aac2fd9b51834e6dbbda4cf09f00b67c": {
      "model_module": "@jupyter-widgets/controls",
      "model_module_version": "1.5.0",
      "model_name": "DescriptionStyleModel",
      "state": {
       "description_width": ""
      }
     },
     "aac5e7857eaa45c4a5ee6985fe3835fc": {
      "model_module": "@jupyter-widgets/controls",
      "model_module_version": "1.5.0",
      "model_name": "VBoxModel",
      "state": {
       "children": [
        "IPY_MODEL_e83d824f6ce745f499dac668640e988c",
        "IPY_MODEL_23e3190494e94500b108a0116b132be0",
        "IPY_MODEL_e94966e1e5d44bf58f749b18ebdcced9",
        "IPY_MODEL_a787f7861d724d04b0018275ba34c850",
        "IPY_MODEL_28d4f95bc08442639397530fd1cda55c",
        "IPY_MODEL_518029dc90d84a5a9933620384cc8269",
        "IPY_MODEL_7920ef3461e846b9bbe9f257c731bb68",
        "IPY_MODEL_d981e698b72f42628c60d276907c8551",
        "IPY_MODEL_bd4e3bb1ca3b4951b60736f9ae938e3e",
        "IPY_MODEL_b162e6b883b140a8abeb8a9e26347299",
        "IPY_MODEL_6afeab89373d488889827b9bd3356d19",
        "IPY_MODEL_5fae965da15c40c69414b9d81f1a1500",
        "IPY_MODEL_8c5e3da091c64cae83afd9ed4eac79dc"
       ],
       "layout": "IPY_MODEL_d0c653910a3342119485d18e82a79f55"
      }
     },
     "aaea7e99e7954b468288672bef7d31ab": {
      "model_module": "@jupyter-widgets/controls",
      "model_module_version": "1.5.0",
      "model_name": "LabelModel",
      "state": {
       "layout": "IPY_MODEL_1066d447571242d88cfb6443ef6a50e2",
       "style": "IPY_MODEL_31499337ee5e43cb9ebe20f0c1e9a032",
       "value": "Max Input: 5.983529918804978 WETH"
      }
     },
     "aaeefa0427c84808891ecfe8aead8874": {
      "model_module": "@jupyter-widgets/controls",
      "model_module_version": "1.5.0",
      "model_name": "DescriptionStyleModel",
      "state": {
       "description_width": ""
      }
     },
     "aafcafc0b9424d02a8b53ed5dffdfa38": {
      "model_module": "@jupyter-widgets/controls",
      "model_module_version": "1.5.0",
      "model_name": "HBoxModel",
      "state": {
       "children": [
        "IPY_MODEL_52bbee2bbd714f678eb6cb88c73e4808",
        "IPY_MODEL_a7e975dfb983469181dedf485cfdfdd2"
       ],
       "layout": "IPY_MODEL_db5bff4ec29c49ca9d128066fea69dad"
      }
     },
     "ab0a35f9c1c44ce59d9c67abb897b183": {
      "model_module": "@jupyter-widgets/base",
      "model_module_version": "1.2.0",
      "model_name": "LayoutModel",
      "state": {}
     },
     "ab253d716f424cc8b96bc4489372ffba": {
      "model_module": "@jupyter-widgets/controls",
      "model_module_version": "1.5.0",
      "model_name": "DescriptionStyleModel",
      "state": {
       "description_width": ""
      }
     },
     "ab3f79fe33914d18b2eae3cf167b5f48": {
      "model_module": "@jupyter-widgets/base",
      "model_module_version": "1.2.0",
      "model_name": "LayoutModel",
      "state": {}
     },
     "ab6575d6cec94a59ae85916f25520725": {
      "model_module": "@jupyter-widgets/base",
      "model_module_version": "1.2.0",
      "model_name": "LayoutModel",
      "state": {}
     },
     "ab809168562a40f6a63b4c3a189f7f21": {
      "model_module": "@jupyter-widgets/controls",
      "model_module_version": "1.5.0",
      "model_name": "DropdownModel",
      "state": {
       "_options_labels": [
        "WETH/ALCX",
        "DAI/ALCX",
        "CVX/ALCX",
        "ALCX-ETH SLP"
       ],
       "index": 1,
       "layout": "IPY_MODEL_a5227b29f8ce4d7294dfaf8d9d9696ca",
       "style": "IPY_MODEL_4ff75ca4545547bd9d8a289d012ae8b0"
      }
     },
     "abb237f18b1242e9938419a2fb573e3a": {
      "model_module": "@jupyter-widgets/controls",
      "model_module_version": "1.5.0",
      "model_name": "DescriptionStyleModel",
      "state": {
       "description_width": ""
      }
     },
     "abf6ecca259f4ca495283a967d9417ec": {
      "model_module": "@jupyter-widgets/controls",
      "model_module_version": "1.5.0",
      "model_name": "DescriptionStyleModel",
      "state": {
       "description_width": ""
      }
     },
     "ac0ee69bd5514ece954aa2f9495b1d92": {
      "model_module": "@jupyter-widgets/controls",
      "model_module_version": "1.5.0",
      "model_name": "LabelModel",
      "state": {
       "layout": "IPY_MODEL_8b484c8bd9604266b3e506596c31bd4f",
       "style": "IPY_MODEL_31740ce5f00f427cb9c10d0d3e3c2a8e",
       "value": "[Current block: 13905522]"
      }
     },
     "ac243a2deb384e8f9c6605525729d198": {
      "model_module": "@jupyter-widgets/controls",
      "model_module_version": "1.5.0",
      "model_name": "CheckboxModel",
      "state": {
       "description": "Use Wallet Balance (72.80737)",
       "disabled": false,
       "layout": "IPY_MODEL_cc619910712043b9a3407795e4a002b3",
       "style": "IPY_MODEL_5249ce8012584ed68d02a40410e0e940",
       "value": true
      }
     },
     "ac4cc6114b3445e3881cfb806fde4966": {
      "model_module": "@jupyter-widgets/controls",
      "model_module_version": "1.5.0",
      "model_name": "CheckboxModel",
      "state": {
       "description": "CVX/ALCX (0.0)",
       "disabled": false,
       "layout": "IPY_MODEL_249e4e0ae2514917ab046933b0526bbd",
       "style": "IPY_MODEL_a42a46841c4a47c486cf09b410aa7cf5",
       "value": false
      }
     },
     "ac4dd0a9d32f4049ae20078b749205c5": {
      "model_module": "@jupyter-widgets/base",
      "model_module_version": "1.2.0",
      "model_name": "LayoutModel",
      "state": {}
     },
     "ac79c1c67f1142959083dccf24636d23": {
      "model_module": "@jupyter-widgets/base",
      "model_module_version": "1.2.0",
      "model_name": "LayoutModel",
      "state": {}
     },
     "ac8a6d4e91d14e4c9137b230405ba009": {
      "model_module": "@jupyter-widgets/controls",
      "model_module_version": "1.5.0",
      "model_name": "VBoxModel",
      "state": {
       "children": [
        "IPY_MODEL_c89a0a11d5554b32ace22dabfcd445a9",
        "IPY_MODEL_ea7432c143364edb8cfe8ad6eab6dcba",
        "IPY_MODEL_b25bd0fd2cb24c168b3b14cca43ae087",
        "IPY_MODEL_3ea6a719795c4fdf993142b8dbd4ee77",
        "IPY_MODEL_d09948b3813b4ecda7092f146cdcbf10",
        "IPY_MODEL_a1d16e5f0f374da29eadb42bf7901d24",
        "IPY_MODEL_e871b82e9ad24641a0c15456cac23dcb",
        "IPY_MODEL_2ca58aa085f84af4a29632c21e83ddc0",
        "IPY_MODEL_66b9cfb524f44283b5d141af59c26ba7",
        "IPY_MODEL_ab809168562a40f6a63b4c3a189f7f21",
        "IPY_MODEL_91d8e8e81815469bac9e23b7858a3401",
        "IPY_MODEL_a49a35d74cbd4aea9247c824beb60f69",
        "IPY_MODEL_c22efd0a62de4b459bcd93beb2c69fb9",
        "IPY_MODEL_3ae062549a864946a3c9033a66823baa"
       ],
       "layout": "IPY_MODEL_fb88b265ac4e48b6abd330d14354a36a"
      }
     },
     "ac93a8fb05ec475980c68f70a4f618d3": {
      "model_module": "@jupyter-widgets/controls",
      "model_module_version": "1.5.0",
      "model_name": "LabelModel",
      "state": {
       "layout": "IPY_MODEL_cd354ff35ae948c0baa515e7e64b3ee4",
       "style": "IPY_MODEL_ccf614dd7b694bed89f3c910a56bf55f",
       "value": "Max Input: 5.960315828660345 WETH"
      }
     },
     "ac988ff7e7e145848cb8063c5a643ae4": {
      "model_module": "@jupyter-widgets/base",
      "model_module_version": "1.2.0",
      "model_name": "LayoutModel",
      "state": {}
     },
     "ace0a1a006c2483ea256741f5aab7842": {
      "model_module": "@jupyter-widgets/base",
      "model_module_version": "1.2.0",
      "model_name": "LayoutModel",
      "state": {}
     },
     "ace20469dd54479494cad9e50dcd41a3": {
      "model_module": "@jupyter-widgets/controls",
      "model_module_version": "1.5.0",
      "model_name": "CheckboxModel",
      "state": {
       "description": "DAI/ALCX (3.5526)",
       "disabled": false,
       "layout": "IPY_MODEL_c949365b91d3431eaa039f634377c8b5",
       "style": "IPY_MODEL_cd51b7f069ab42eb927aab63df4e8abf",
       "value": false
      }
     },
     "acef88a3f8384d6da4dfd1a502ac1747": {
      "model_module": "@jupyter-widgets/controls",
      "model_module_version": "1.5.0",
      "model_name": "DescriptionStyleModel",
      "state": {
       "description_width": ""
      }
     },
     "ad14a5e0e506457ba8e0d7ee6d0f751b": {
      "model_module": "@jupyter-widgets/controls",
      "model_module_version": "1.5.0",
      "model_name": "DescriptionStyleModel",
      "state": {
       "description_width": ""
      }
     },
     "ad2522f61e8948cfbfe58cc4484fb7d3": {
      "model_module": "@jupyter-widgets/controls",
      "model_module_version": "1.5.0",
      "model_name": "LabelModel",
      "state": {
       "layout": "IPY_MODEL_3028d4d0444b4df5afbf1efecb9901de",
       "style": "IPY_MODEL_a014304a5bc64e1e80332c9800ff09c1"
      }
     },
     "ad2a197b8bf046579a861f8373ef6345": {
      "model_module": "@jupyter-widgets/controls",
      "model_module_version": "1.5.0",
      "model_name": "DropdownModel",
      "state": {
       "_options_labels": [
        "WETH/ALCX",
        "DAI/ALCX",
        "CVX/ALCX",
        "ALCX-ETH SLP"
       ],
       "index": 0,
       "layout": "IPY_MODEL_e8c70793912d45988e1c338ceea36483",
       "style": "IPY_MODEL_1a07761c3b794b3ca6d0901105a125db"
      }
     },
     "ad319892a19a45069a73bad669b2414a": {
      "model_module": "@jupyter-widgets/controls",
      "model_module_version": "1.5.0",
      "model_name": "DescriptionStyleModel",
      "state": {
       "description_width": ""
      }
     },
     "ad3c2a3c2d1740abae354c2f18a1cf55": {
      "model_module": "@jupyter-widgets/controls",
      "model_module_version": "1.5.0",
      "model_name": "DescriptionStyleModel",
      "state": {
       "description_width": ""
      }
     },
     "ad68b1cfccc24bda9be9ec8c9e2f6723": {
      "model_module": "@jupyter-widgets/controls",
      "model_module_version": "1.5.0",
      "model_name": "LabelModel",
      "state": {
       "layout": "IPY_MODEL_7d4f30df204646aab960a3550b9abf28",
       "style": "IPY_MODEL_ca0940e1058946c1911b4a7ac1e0dd0d",
       "value": "Select Assets to Claim:"
      }
     },
     "ad809a8eec5841249d228d2314829615": {
      "model_module": "@jupyter-widgets/controls",
      "model_module_version": "1.5.0",
      "model_name": "DescriptionStyleModel",
      "state": {
       "description_width": ""
      }
     },
     "ad8bd9d81b6845409f49327ccb27ae09": {
      "model_module": "@jupyter-widgets/controls",
      "model_module_version": "1.5.0",
      "model_name": "DescriptionStyleModel",
      "state": {
       "description_width": ""
      }
     },
     "adc3241717aa400495ec890b139a3917": {
      "model_module": "@jupyter-widgets/controls",
      "model_module_version": "1.5.0",
      "model_name": "TextModel",
      "state": {
       "description": "Address: ",
       "layout": "IPY_MODEL_eb94ec7d6ed542ed87d86d9118a88ca4",
       "style": "IPY_MODEL_edcc17c977f441c9aaeb636287a9da08",
       "value": "0xeEEC0e4927704ab3BBE5df7F4EfFa818b43665a3"
      }
     },
     "addb1498c2b7436b810a4d61c86386c9": {
      "model_module": "@jupyter-widgets/controls",
      "model_module_version": "1.5.0",
      "model_name": "LabelModel",
      "state": {
       "layout": "IPY_MODEL_a58521df40fc4d279e391bc9a6f3b695",
       "style": "IPY_MODEL_9c92b4757ae24e71a0a3d419be455440",
       "value": "You Will Get: 87.36198661115971 ALCX"
      }
     },
     "ae3bac4358674f33bc00e563b8d996cc": {
      "model_module": "@jupyter-widgets/controls",
      "model_module_version": "1.5.0",
      "model_name": "DescriptionStyleModel",
      "state": {
       "description_width": ""
      }
     },
     "ae60cca023f8490d97557118cb970f6f": {
      "model_module": "@jupyter-widgets/base",
      "model_module_version": "1.2.0",
      "model_name": "LayoutModel",
      "state": {}
     },
     "ae6f6a3d0b7a4b519a03ce69b6d2ab18": {
      "model_module": "@jupyter-widgets/controls",
      "model_module_version": "1.5.0",
      "model_name": "DescriptionStyleModel",
      "state": {
       "description_width": ""
      }
     },
     "ae8459bcc69042759f03d45d22846435": {
      "model_module": "@jupyter-widgets/base",
      "model_module_version": "1.2.0",
      "model_name": "LayoutModel",
      "state": {}
     },
     "ae973ba0123a4634b756cbd6390c7e89": {
      "model_module": "@jupyter-widgets/base",
      "model_module_version": "1.2.0",
      "model_name": "LayoutModel",
      "state": {}
     },
     "ae9d2554b66440b0b400e6cef0cfd212": {
      "model_module": "@jupyter-widgets/base",
      "model_module_version": "1.2.0",
      "model_name": "LayoutModel",
      "state": {}
     },
     "aea1a967eedf4fff82607a54c345e178": {
      "model_module": "@jupyter-widgets/controls",
      "model_module_version": "1.5.0",
      "model_name": "HBoxModel",
      "state": {
       "children": [
        "IPY_MODEL_112d17be96a74610ab8a541d9722d5d7",
        "IPY_MODEL_d5481f64d00449fc824da869b8163e19"
       ],
       "layout": "IPY_MODEL_ba69b417aa454c55bb348c5ab99cce51"
      }
     },
     "aea7f0f6f48c465086c1d06e5e060b9f": {
      "model_module": "@jupyter-widgets/controls",
      "model_module_version": "1.5.0",
      "model_name": "DescriptionStyleModel",
      "state": {
       "description_width": ""
      }
     },
     "aef13f6073b343bc9104ab0e499f2db3": {
      "model_module": "@jupyter-widgets/controls",
      "model_module_version": "1.5.0",
      "model_name": "DescriptionStyleModel",
      "state": {
       "description_width": ""
      }
     },
     "af0cbae86e5f4131ae0450e3a3007a12": {
      "model_module": "@jupyter-widgets/base",
      "model_module_version": "1.2.0",
      "model_name": "LayoutModel",
      "state": {
       "width": "200px"
      }
     },
     "af333b5ab84b40ac882243b77f17dee7": {
      "model_module": "@jupyter-widgets/controls",
      "model_module_version": "1.5.0",
      "model_name": "DescriptionStyleModel",
      "state": {
       "description_width": ""
      }
     },
     "af4e98d7238143df97e8596ac49b9dc7": {
      "model_module": "@jupyter-widgets/controls",
      "model_module_version": "1.5.0",
      "model_name": "DropdownModel",
      "state": {
       "_options_labels": [
        "WETH/ALCX",
        "DAI/ALCX",
        "CVX/ALCX",
        "ALCX-ETH SLP"
       ],
       "index": 0,
       "layout": "IPY_MODEL_d33019af258447c48b965e09dbc2ff62",
       "style": "IPY_MODEL_a94288d1fb98420c9428fbe7497cf722"
      }
     },
     "af5a02f2c9ff4696bef96b7b660ab25b": {
      "model_module": "@jupyter-widgets/base",
      "model_module_version": "1.2.0",
      "model_name": "LayoutModel",
      "state": {}
     },
     "af6974a5c1e249bcb59d13f937ba43d6": {
      "model_module": "@jupyter-widgets/controls",
      "model_module_version": "1.5.0",
      "model_name": "DescriptionStyleModel",
      "state": {
       "description_width": ""
      }
     },
     "b0091e36865c4eb28ea019cd7861af49": {
      "model_module": "@jupyter-widgets/base",
      "model_module_version": "1.2.0",
      "model_name": "LayoutModel",
      "state": {}
     },
     "b03687653f6049408f3d797cda9fab90": {
      "model_module": "@jupyter-widgets/base",
      "model_module_version": "1.2.0",
      "model_name": "LayoutModel",
      "state": {}
     },
     "b04372292f424d1ab4e5414b6c9403c2": {
      "model_module": "@jupyter-widgets/base",
      "model_module_version": "1.2.0",
      "model_name": "LayoutModel",
      "state": {}
     },
     "b071a6ee10f94ecb825c9ac849b11bc2": {
      "model_module": "@jupyter-widgets/controls",
      "model_module_version": "1.5.0",
      "model_name": "ButtonStyleModel",
      "state": {}
     },
     "b08d1fe2e9ca403cbb204e81442e0138": {
      "model_module": "@jupyter-widgets/controls",
      "model_module_version": "1.5.0",
      "model_name": "CheckboxModel",
      "state": {
       "description": "DAI/ALCX (3.8153)",
       "disabled": false,
       "layout": "IPY_MODEL_32bb3f7d09964930b64bb29efadffad5",
       "style": "IPY_MODEL_552f24ecf1914c13a159c06befb6213d",
       "value": false
      }
     },
     "b0aff95656c741babe97812822ca3863": {
      "model_module": "@jupyter-widgets/controls",
      "model_module_version": "1.5.0",
      "model_name": "DescriptionStyleModel",
      "state": {
       "description_width": ""
      }
     },
     "b0b177225e2f49f3b11f59081fc967be": {
      "model_module": "@jupyter-widgets/controls",
      "model_module_version": "1.5.0",
      "model_name": "LabelModel",
      "state": {
       "layout": "IPY_MODEL_cc862cd7711a4040a3ac760516a6bdab",
       "style": "IPY_MODEL_c3d75501005c48b2b1dcaf27df1c7bac",
       "value": "Max Input: 5.99338138589683 WETH"
      }
     },
     "b12564310c274dcf99956ef20e4da187": {
      "model_module": "@jupyter-widgets/base",
      "model_module_version": "1.2.0",
      "model_name": "LayoutModel",
      "state": {}
     },
     "b137b7d16b0545089a087bf7f8464331": {
      "model_module": "@jupyter-widgets/controls",
      "model_module_version": "1.5.0",
      "model_name": "CheckboxModel",
      "state": {
       "description": "ALCX-ETH SLP (0.0)",
       "disabled": false,
       "layout": "IPY_MODEL_1a58ef21c1ff43ccb0eae2632dbbc525",
       "style": "IPY_MODEL_28b5beb6bb1d4216989b1f918f026a63",
       "value": false
      }
     },
     "b13f1cbfd8fd408f9e344a7dfb80e72a": {
      "model_module": "@jupyter-widgets/base",
      "model_module_version": "1.2.0",
      "model_name": "LayoutModel",
      "state": {}
     },
     "b162e6b883b140a8abeb8a9e26347299": {
      "model_module": "@jupyter-widgets/controls",
      "model_module_version": "1.5.0",
      "model_name": "DropdownModel",
      "state": {
       "_options_labels": [
        "WETH/ALCX",
        "DAI/ALCX",
        "CVX/ALCX",
        "ALCX-ETH SLP"
       ],
       "index": 0,
       "layout": "IPY_MODEL_e1205f125adb448d895c1163ef60f3db",
       "style": "IPY_MODEL_2b5bb7cee78d4f578a7f76a66cbae858"
      }
     },
     "b19121d3a88e41508a3dbac0a918667b": {
      "model_module": "@jupyter-widgets/controls",
      "model_module_version": "1.5.0",
      "model_name": "LabelModel",
      "state": {
       "layout": "IPY_MODEL_4c4bcaf385a94060ae3e79ebaf89e04a",
       "style": "IPY_MODEL_44eb9c02467841bdb8d372eb61c14d30",
       "value": "[Current block: 13905501]"
      }
     },
     "b1cea5b1789b47b69b205a510a825961": {
      "model_module": "@jupyter-widgets/controls",
      "model_module_version": "1.5.0",
      "model_name": "HBoxModel",
      "state": {
       "children": [
        "IPY_MODEL_17353bd8c268439fbb7c15037fee987a",
        "IPY_MODEL_26c97cff16f04f1b827a4ca04b71ccdc"
       ],
       "layout": "IPY_MODEL_5881a57f85fa47f0add9afcdbeee3055"
      }
     },
     "b1d4258cdc604c06a0e142645cad8c54": {
      "model_module": "@jupyter-widgets/controls",
      "model_module_version": "1.5.0",
      "model_name": "TextModel",
      "state": {
       "description": "Address: ",
       "layout": "IPY_MODEL_005f3cd6f0ed4191a4f00dca1dca1414",
       "style": "IPY_MODEL_d49f93565da14cc0bb8912c0659b3498",
       "value": "0x696969536948c9902A622ddb9d959AE4038f5CBB"
      }
     },
     "b1e09aa4af4447249f345a147ad076e7": {
      "model_module": "@jupyter-widgets/base",
      "model_module_version": "1.2.0",
      "model_name": "LayoutModel",
      "state": {}
     },
     "b1ee182f4e9c460fa7b400c5bcfe8610": {
      "model_module": "@jupyter-widgets/controls",
      "model_module_version": "1.5.0",
      "model_name": "DescriptionStyleModel",
      "state": {
       "description_width": ""
      }
     },
     "b1f4e78e67144f1b8da0887d8b40f59a": {
      "model_module": "@jupyter-widgets/controls",
      "model_module_version": "1.5.0",
      "model_name": "DescriptionStyleModel",
      "state": {
       "description_width": ""
      }
     },
     "b1f9497e648943a5bfdfb4c89309f8da": {
      "model_module": "@jupyter-widgets/base",
      "model_module_version": "1.2.0",
      "model_name": "LayoutModel",
      "state": {}
     },
     "b1fc1d0bf85d42728d94d7554cc0c1bc": {
      "model_module": "@jupyter-widgets/controls",
      "model_module_version": "1.5.0",
      "model_name": "DescriptionStyleModel",
      "state": {
       "description_width": ""
      }
     },
     "b216d3f5b22e4c24b4652979873c3414": {
      "model_module": "@jupyter-widgets/base",
      "model_module_version": "1.2.0",
      "model_name": "LayoutModel",
      "state": {}
     },
     "b22593f4b5e14bf4a35b3c29d266e492": {
      "model_module": "@jupyter-widgets/controls",
      "model_module_version": "1.5.0",
      "model_name": "CheckboxModel",
      "state": {
       "description": "WETH/ALCX (7.79044)",
       "disabled": false,
       "layout": "IPY_MODEL_aa609a3c389246f2adcbff93a37595f0",
       "style": "IPY_MODEL_a4c02107567344a093d1f2dda72fb50d",
       "value": true
      }
     },
     "b24d762723284a3ab81bc49a8bc7c789": {
      "model_module": "@jupyter-widgets/controls",
      "model_module_version": "1.5.0",
      "model_name": "DescriptionStyleModel",
      "state": {
       "description_width": ""
      }
     },
     "b2597792ff9e4031964e358b46fee2f4": {
      "model_module": "@jupyter-widgets/controls",
      "model_module_version": "1.5.0",
      "model_name": "LabelModel",
      "state": {
       "layout": "IPY_MODEL_388ca896721c45418d4bdf300c7b0e16",
       "style": "IPY_MODEL_d542a723103e43419420dd8be6e1ed0f",
       "value": "Max Payout: 96.15842394776256 ALCX"
      }
     },
     "b25bd0fd2cb24c168b3b14cca43ae087": {
      "model_module": "@jupyter-widgets/controls",
      "model_module_version": "1.5.0",
      "model_name": "LabelModel",
      "state": {
       "layout": "IPY_MODEL_847a230cd38e4d02bd31332b388d52b1",
       "style": "IPY_MODEL_480dfd1936e746028616722fc4ed8086",
       "value": "Select Assets to Claim:"
      }
     },
     "b272f3b4f1e94ec38800a347fd9bedee": {
      "model_module": "@jupyter-widgets/base",
      "model_module_version": "1.2.0",
      "model_name": "LayoutModel",
      "state": {}
     },
     "b28fccdfc7904cdbad0c6f6258ed0db4": {
      "model_module": "@jupyter-widgets/controls",
      "model_module_version": "1.5.0",
      "model_name": "LabelModel",
      "state": {
       "layout": "IPY_MODEL_0c979f0e5df7484e9c7049f9199d1b4e",
       "style": "IPY_MODEL_b381edf8b5ae439ca9a97bf3d636ed57",
       "value": "[Current block: 13905562]"
      }
     },
     "b2c38878851b4bfa85e22effdc3f157e": {
      "model_module": "@jupyter-widgets/controls",
      "model_module_version": "1.5.0",
      "model_name": "ButtonModel",
      "state": {
       "description": "Generate MultiCall Data",
       "layout": "IPY_MODEL_3163c170f9a9493b841c1c1ee68577c1",
       "style": "IPY_MODEL_a948b636de2940818760836a7e8c849f"
      }
     },
     "b2c3d93022644a0db5accf0c3a5b9d86": {
      "model_module": "@jupyter-widgets/controls",
      "model_module_version": "1.5.0",
      "model_name": "DescriptionStyleModel",
      "state": {
       "description_width": ""
      }
     },
     "b2f5b2386e2449eba5b281128732ef7c": {
      "model_module": "@jupyter-widgets/controls",
      "model_module_version": "1.5.0",
      "model_name": "DescriptionStyleModel",
      "state": {
       "description_width": ""
      }
     },
     "b3370e08ffb54e3195de81ef1f5d79b0": {
      "model_module": "@jupyter-widgets/controls",
      "model_module_version": "1.5.0",
      "model_name": "DescriptionStyleModel",
      "state": {
       "description_width": ""
      }
     },
     "b33897ba0d0b45c79e516537da63241f": {
      "model_module": "@jupyter-widgets/base",
      "model_module_version": "1.2.0",
      "model_name": "LayoutModel",
      "state": {}
     },
     "b3394da587f2406b96fc6047b1fe1461": {
      "model_module": "@jupyter-widgets/controls",
      "model_module_version": "1.5.0",
      "model_name": "DescriptionStyleModel",
      "state": {
       "description_width": ""
      }
     },
     "b36457c3459746aeb37cc6a8cb6c76a2": {
      "model_module": "@jupyter-widgets/controls",
      "model_module_version": "1.5.0",
      "model_name": "HBoxModel",
      "state": {
       "children": [
        "IPY_MODEL_62da3f3526b54a278107fb31c08a78a0",
        "IPY_MODEL_b97c1205fb604dc1a231d9ccb81a4933"
       ],
       "layout": "IPY_MODEL_cc892d4322334f1c97467be411065f52"
      }
     },
     "b37ce703d3c648cf825e9cf9bada69ad": {
      "model_module": "@jupyter-widgets/controls",
      "model_module_version": "1.5.0",
      "model_name": "HBoxModel",
      "state": {
       "children": [
        "IPY_MODEL_e9309a0c3e3645eb97e428734b1d19d1",
        "IPY_MODEL_7cf172f7fc3340209e3fe48e3ebf2a70"
       ],
       "layout": "IPY_MODEL_6f9e8feb5e5a4676898b753b976fbc08"
      }
     },
     "b381edf8b5ae439ca9a97bf3d636ed57": {
      "model_module": "@jupyter-widgets/controls",
      "model_module_version": "1.5.0",
      "model_name": "DescriptionStyleModel",
      "state": {
       "description_width": ""
      }
     },
     "b38ad8ec795740f7811a020aee593de9": {
      "model_module": "@jupyter-widgets/base",
      "model_module_version": "1.2.0",
      "model_name": "LayoutModel",
      "state": {}
     },
     "b3bef83c4daa4c3b8eaa489650548e74": {
      "model_module": "@jupyter-widgets/controls",
      "model_module_version": "1.5.0",
      "model_name": "CheckboxModel",
      "state": {
       "description": "CVX/ALCX (0.0)",
       "disabled": false,
       "layout": "IPY_MODEL_ed2968d7a56e42129ffef2dc20c5b47d",
       "style": "IPY_MODEL_71c677dde313409c843a8d0f1af098f1",
       "value": false
      }
     },
     "b3d65f6b05cb4d4e9a7b21a79b2a2f06": {
      "model_module": "@jupyter-widgets/controls",
      "model_module_version": "1.5.0",
      "model_name": "HBoxModel",
      "state": {
       "children": [
        "IPY_MODEL_aa3eadd75c14477f9789cc87f7e42cdd",
        "IPY_MODEL_6e6adb488646411ba558b82f75480b65"
       ],
       "layout": "IPY_MODEL_ee551ae0e15b4e6c88d72df97c674330"
      }
     },
     "b3e86b58ded14878a3a21d6c81a3e178": {
      "model_module": "@jupyter-widgets/base",
      "model_module_version": "1.2.0",
      "model_name": "LayoutModel",
      "state": {}
     },
     "b41ccf01f101401087a3bd6db86bde10": {
      "model_module": "@jupyter-widgets/base",
      "model_module_version": "1.2.0",
      "model_name": "LayoutModel",
      "state": {}
     },
     "b427e64d0bf0430fa29ba9c268b2389e": {
      "model_module": "@jupyter-widgets/controls",
      "model_module_version": "1.5.0",
      "model_name": "DescriptionStyleModel",
      "state": {
       "description_width": ""
      }
     },
     "b4825c3be6ba42029e02c103d87d749a": {
      "model_module": "@jupyter-widgets/controls",
      "model_module_version": "1.5.0",
      "model_name": "DescriptionStyleModel",
      "state": {
       "description_width": ""
      }
     },
     "b484f65114d0469ba7a6da5385a0aacb": {
      "model_module": "@jupyter-widgets/controls",
      "model_module_version": "1.5.0",
      "model_name": "LabelModel",
      "state": {
       "layout": "IPY_MODEL_604a13c876b544e8ac138b055745625a",
       "style": "IPY_MODEL_5873268231bf4925bc05d87aa3829aa8",
       "value": "Max Payout: 96.15973854597343 ALCX"
      }
     },
     "b4ba661b92614d8aa29e87e822ae1483": {
      "model_module": "@jupyter-widgets/base",
      "model_module_version": "1.2.0",
      "model_name": "LayoutModel",
      "state": {}
     },
     "b4d4de61b92d4c2a817eb476544cf994": {
      "model_module": "@jupyter-widgets/base",
      "model_module_version": "1.2.0",
      "model_name": "LayoutModel",
      "state": {}
     },
     "b4e11fbb238b4e83958c3cc05b0a22e7": {
      "model_module": "@jupyter-widgets/base",
      "model_module_version": "1.2.0",
      "model_name": "LayoutModel",
      "state": {}
     },
     "b50dd7f182f14df599e52932fad7716c": {
      "model_module": "@jupyter-widgets/base",
      "model_module_version": "1.2.0",
      "model_name": "LayoutModel",
      "state": {}
     },
     "b5203bb6220a461e9c128bd506bc4780": {
      "model_module": "@jupyter-widgets/controls",
      "model_module_version": "1.5.0",
      "model_name": "DescriptionStyleModel",
      "state": {
       "description_width": ""
      }
     },
     "b52f91e43a694e85827be923df518375": {
      "model_module": "@jupyter-widgets/base",
      "model_module_version": "1.2.0",
      "model_name": "LayoutModel",
      "state": {}
     },
     "b5367cb749c8421a854155606f301ed4": {
      "model_module": "@jupyter-widgets/controls",
      "model_module_version": "1.5.0",
      "model_name": "LabelModel",
      "state": {
       "layout": "IPY_MODEL_9684a81310634e04a4d18d3355b1d62c",
       "style": "IPY_MODEL_eaccec267e684e0a8dd18d4a43286145"
      }
     },
     "b53bd275c158496789324f0e8eb0790b": {
      "model_module": "@jupyter-widgets/controls",
      "model_module_version": "1.5.0",
      "model_name": "LabelModel",
      "state": {
       "layout": "IPY_MODEL_716bf881203b48d6ae28945f0f95e81b",
       "style": "IPY_MODEL_f7a5cb82ef7c413b9526428efaeebef8",
       "value": "Select Pool to Bond:"
      }
     },
     "b55358466355460a91b6ccd7b5eb3d18": {
      "model_module": "@jupyter-widgets/controls",
      "model_module_version": "1.5.0",
      "model_name": "DescriptionStyleModel",
      "state": {
       "description_width": ""
      }
     },
     "b57bc3104aae4bcf8562a04385a4e605": {
      "model_module": "@jupyter-widgets/controls",
      "model_module_version": "1.5.0",
      "model_name": "DescriptionStyleModel",
      "state": {
       "description_width": ""
      }
     },
     "b5998cf211334f91a0c4ecca66693089": {
      "model_module": "@jupyter-widgets/base",
      "model_module_version": "1.2.0",
      "model_name": "LayoutModel",
      "state": {}
     },
     "b5bc5064fdea4885ab43286390247a10": {
      "model_module": "@jupyter-widgets/controls",
      "model_module_version": "1.5.0",
      "model_name": "DescriptionStyleModel",
      "state": {
       "description_width": ""
      }
     },
     "b5bd1e5524ff47aaaa43db11a9eb21c5": {
      "model_module": "@jupyter-widgets/controls",
      "model_module_version": "1.5.0",
      "model_name": "LabelModel",
      "state": {
       "layout": "IPY_MODEL_a9549ef4be0b4853b1a6f4aaf6ad5ebe",
       "style": "IPY_MODEL_12fc3764c44e4b5faa15050cf7f3942d",
       "value": "Swapping 76.32661 ALCX for 4.899575576887231 WETH"
      }
     },
     "b5d501a079564e0883c6c798aae73b53": {
      "model_module": "@jupyter-widgets/controls",
      "model_module_version": "1.5.0",
      "model_name": "LabelModel",
      "state": {
       "layout": "IPY_MODEL_8dd80bfcc3734074a517b216ba337b61",
       "style": "IPY_MODEL_a3ae39fb53b84e9db3bd1719c82d007f",
       "value": "Select Assets to Claim:"
      }
     },
     "b629c77dbd214fe4b0593bfefc3cce47": {
      "model_module": "@jupyter-widgets/controls",
      "model_module_version": "1.5.0",
      "model_name": "DescriptionStyleModel",
      "state": {
       "description_width": ""
      }
     },
     "b6401e1069dd48c1bbf822096702f70c": {
      "model_module": "@jupyter-widgets/controls",
      "model_module_version": "1.5.0",
      "model_name": "LabelModel",
      "state": {
       "layout": "IPY_MODEL_586ca7f657c74167a5f296898fa71744",
       "style": "IPY_MODEL_0f7e3b4597b14defa102eaca5f65cc8a",
       "value": "Max Payout: 96.15973854597343 ALCX"
      }
     },
     "b641310b9cc84bafa593723e8be39bbd": {
      "model_module": "@jupyter-widgets/controls",
      "model_module_version": "1.5.0",
      "model_name": "DescriptionStyleModel",
      "state": {
       "description_width": ""
      }
     },
     "b651b8155d8c4d548720bf87f6f7ca73": {
      "model_module": "@jupyter-widgets/controls",
      "model_module_version": "1.5.0",
      "model_name": "DescriptionStyleModel",
      "state": {
       "description_width": ""
      }
     },
     "b69d6b04713142fda7afca267ba880d5": {
      "model_module": "@jupyter-widgets/base",
      "model_module_version": "1.2.0",
      "model_name": "LayoutModel",
      "state": {}
     },
     "b6d84e04087e445daa0c13835fb43219": {
      "model_module": "@jupyter-widgets/base",
      "model_module_version": "1.2.0",
      "model_name": "LayoutModel",
      "state": {}
     },
     "b6ee769f62f2498f9f7e0058add48f41": {
      "model_module": "@jupyter-widgets/controls",
      "model_module_version": "1.5.0",
      "model_name": "CheckboxModel",
      "state": {
       "description": "WETH/ALCX (7.57607)",
       "disabled": false,
       "layout": "IPY_MODEL_5c818c29b4f84a50897790a8c84bf9d5",
       "style": "IPY_MODEL_de3dbf98426448589fa75335bd5bc5e0",
       "value": true
      }
     },
     "b700d1945d9d473c9cd7171cf788cff1": {
      "model_module": "@jupyter-widgets/base",
      "model_module_version": "1.2.0",
      "model_name": "LayoutModel",
      "state": {}
     },
     "b705b3ba5ffd41e397a424485d37c3f6": {
      "model_module": "@jupyter-widgets/controls",
      "model_module_version": "1.5.0",
      "model_name": "DescriptionStyleModel",
      "state": {
       "description_width": ""
      }
     },
     "b707ca7d45744c7e8b7b8c0de4344ace": {
      "model_module": "@jupyter-widgets/base",
      "model_module_version": "1.2.0",
      "model_name": "LayoutModel",
      "state": {}
     },
     "b71cab67a1bd4e408530b646420a20bc": {
      "model_module": "@jupyter-widgets/base",
      "model_module_version": "1.2.0",
      "model_name": "LayoutModel",
      "state": {}
     },
     "b71d198a5ce54039ac01fde8da159fc1": {
      "model_module": "@jupyter-widgets/controls",
      "model_module_version": "1.5.0",
      "model_name": "VBoxModel",
      "state": {
       "children": [
        "IPY_MODEL_b28fccdfc7904cdbad0c6f6258ed0db4",
        "IPY_MODEL_5c71f3ababeb40e4973b5f245ae1b197",
        "IPY_MODEL_0d1abaa9164f4e8f9498ef1b389a1d4c",
        "IPY_MODEL_14ce069f2d5345aba060154bc48888be",
        "IPY_MODEL_321bcda4db884045a225ca81e713eb8a",
        "IPY_MODEL_b3d65f6b05cb4d4e9a7b21a79b2a2f06",
        "IPY_MODEL_5f1289271d1044feb1568ff20bcc69fd",
        "IPY_MODEL_801c20c403574d9bbb1277ea90cb2535",
        "IPY_MODEL_37f32d5f77414a0797b99f540775cbaa",
        "IPY_MODEL_bd6d762444354dc581b3f123edd1135d",
        "IPY_MODEL_3d8a5a9051414550b2bb8a107708318a",
        "IPY_MODEL_3b3ecd5b51f84470a14d9fda8c56c1e9",
        "IPY_MODEL_781a925c5d4a43fba25c8788a03e11bc",
        "IPY_MODEL_60cca3ff789d457eb577ad5a96900125"
       ],
       "layout": "IPY_MODEL_9191265adb9e43bb997a1b542eec1d41"
      }
     },
     "b744bd0922584246953683302ce13982": {
      "model_module": "@jupyter-widgets/controls",
      "model_module_version": "1.5.0",
      "model_name": "DescriptionStyleModel",
      "state": {
       "description_width": ""
      }
     },
     "b77100e5132a43108f334fee84f888f2": {
      "model_module": "@jupyter-widgets/base",
      "model_module_version": "1.2.0",
      "model_name": "LayoutModel",
      "state": {}
     },
     "b7792dcb08664fd5a8ed353039fbc573": {
      "model_module": "@jupyter-widgets/base",
      "model_module_version": "1.2.0",
      "model_name": "LayoutModel",
      "state": {}
     },
     "b77f73aeb7b240fa9efec7739ad251cb": {
      "model_module": "@jupyter-widgets/controls",
      "model_module_version": "1.5.0",
      "model_name": "TextModel",
      "state": {
       "description": "Address: ",
       "layout": "IPY_MODEL_36580716884e415ebe644111d30a6049",
       "style": "IPY_MODEL_595b9d36a5ad41b3be129e0282cd5b13",
       "value": "0xeEEC0e4927704ab3BBE5df7F4EfFa818b43665a3"
      }
     },
     "b78cc5c637494623ba4700fa25fddde2": {
      "model_module": "@jupyter-widgets/base",
      "model_module_version": "1.2.0",
      "model_name": "LayoutModel",
      "state": {}
     },
     "b7a5077e437b4355806fa2621648e36e": {
      "model_module": "@jupyter-widgets/controls",
      "model_module_version": "1.5.0",
      "model_name": "CheckboxModel",
      "state": {
       "description": "Use Wallet Balance (72.80737)",
       "disabled": false,
       "layout": "IPY_MODEL_3050d4fd79d24dabb09fc95cf4c66828",
       "style": "IPY_MODEL_8c87d8e1b53b43898c769854d22c3ccd",
       "value": true
      }
     },
     "b7a8978917e64ed4833cddc1e4f67333": {
      "model_module": "@jupyter-widgets/base",
      "model_module_version": "1.2.0",
      "model_name": "LayoutModel",
      "state": {}
     },
     "b7d0677bcbbb4c3c8f3cb688c802babf": {
      "model_module": "@jupyter-widgets/controls",
      "model_module_version": "1.5.0",
      "model_name": "DropdownModel",
      "state": {
       "_options_labels": [
        "WETH/ALCX",
        "DAI/ALCX",
        "CVX/ALCX",
        "ALCX-ETH SLP"
       ],
       "index": 3,
       "layout": "IPY_MODEL_9ef105cb13f04630886039dcf46797ac",
       "style": "IPY_MODEL_2e8104dc13b84113beb2d032a6d361d9"
      }
     },
     "b7f700c1ff7f4c94907a3f0c0fdb284d": {
      "model_module": "@jupyter-widgets/base",
      "model_module_version": "1.2.0",
      "model_name": "LayoutModel",
      "state": {}
     },
     "b80e7ffa5138476ba0a66111556a5c5f": {
      "model_module": "@jupyter-widgets/base",
      "model_module_version": "1.2.0",
      "model_name": "LayoutModel",
      "state": {}
     },
     "b8629bc022724311b3b68ec825cc9120": {
      "model_module": "@jupyter-widgets/base",
      "model_module_version": "1.2.0",
      "model_name": "LayoutModel",
      "state": {}
     },
     "b8a6f962315f42c0abadc05a7ae8959f": {
      "model_module": "@jupyter-widgets/controls",
      "model_module_version": "1.5.0",
      "model_name": "DescriptionStyleModel",
      "state": {
       "description_width": ""
      }
     },
     "b8b9d1aaebc1434b807d7d612ed3146c": {
      "model_module": "@jupyter-widgets/controls",
      "model_module_version": "1.5.0",
      "model_name": "LabelModel",
      "state": {
       "layout": "IPY_MODEL_390d903725e5410da715ba3d96aa183f",
       "style": "IPY_MODEL_ffe929d945184f15a580802d4ae9ddab",
       "value": "Select Pool to Bond:"
      }
     },
     "b8c24e3bd5fe4e479b51e8ff3a9674c1": {
      "model_module": "@jupyter-widgets/controls",
      "model_module_version": "1.5.0",
      "model_name": "DescriptionStyleModel",
      "state": {
       "description_width": ""
      }
     },
     "b8f72367b967480bba4710561d7bc733": {
      "model_module": "@jupyter-widgets/base",
      "model_module_version": "1.2.0",
      "model_name": "LayoutModel",
      "state": {}
     },
     "b912a51bb0664683a961aba05a469c82": {
      "model_module": "@jupyter-widgets/base",
      "model_module_version": "1.2.0",
      "model_name": "LayoutModel",
      "state": {
       "width": "425px"
      }
     },
     "b92066853a6f45699460186ec048b7f8": {
      "model_module": "@jupyter-widgets/base",
      "model_module_version": "1.2.0",
      "model_name": "LayoutModel",
      "state": {}
     },
     "b93b8684271742ec902e3cbc4febe779": {
      "model_module": "@jupyter-widgets/base",
      "model_module_version": "1.2.0",
      "model_name": "LayoutModel",
      "state": {}
     },
     "b941b05f27e5464db93e5f0803ee0828": {
      "model_module": "@jupyter-widgets/controls",
      "model_module_version": "1.5.0",
      "model_name": "DescriptionStyleModel",
      "state": {
       "description_width": ""
      }
     },
     "b94f264ffc6c4a338e3a4f3e2c2b2307": {
      "model_module": "@jupyter-widgets/controls",
      "model_module_version": "1.5.0",
      "model_name": "LabelModel",
      "state": {
       "layout": "IPY_MODEL_7e220ee32e7544f5a55c28281489b2a2",
       "style": "IPY_MODEL_6aacc4a25bee4d2fa1619df2b4470783",
       "value": "[Current block: 13905716]"
      }
     },
     "b967d2f250a74ca6a9e11a7364bdfb4c": {
      "model_module": "@jupyter-widgets/controls",
      "model_module_version": "1.5.0",
      "model_name": "DescriptionStyleModel",
      "state": {
       "description_width": ""
      }
     },
     "b97c1205fb604dc1a231d9ccb81a4933": {
      "model_module": "@jupyter-widgets/controls",
      "model_module_version": "1.5.0",
      "model_name": "CheckboxModel",
      "state": {
       "description": "ALCX-ETH SLP (0.0)",
       "disabled": false,
       "layout": "IPY_MODEL_53cccb4bd6a24422b9408bc8941d5ec0",
       "style": "IPY_MODEL_4fbe528af3524648ba6957af6b591faa",
       "value": false
      }
     },
     "b98c2bfbfcc64eaf88d9f94814f625df": {
      "model_module": "@jupyter-widgets/controls",
      "model_module_version": "1.5.0",
      "model_name": "DescriptionStyleModel",
      "state": {
       "description_width": ""
      }
     },
     "b9a20a549d8a4f90815d9b7139e5dd19": {
      "model_module": "@jupyter-widgets/controls",
      "model_module_version": "1.5.0",
      "model_name": "LabelModel",
      "state": {
       "layout": "IPY_MODEL_7a6dd56d52384e229de42aa9a4b3ff70",
       "style": "IPY_MODEL_640d8b0842914a1e8916b8d9b734e426",
       "value": "Max Input: 880.5836724806944 CVX"
      }
     },
     "ba2d5e8304ab48ff880cdb130580d002": {
      "model_module": "@jupyter-widgets/controls",
      "model_module_version": "1.5.0",
      "model_name": "LabelModel",
      "state": {
       "layout": "IPY_MODEL_264a7eefabf64d7598c02573c87f0fa7",
       "style": "IPY_MODEL_4d7ce6eb611e4e84942ca429b7a53775"
      }
     },
     "ba4495064cf84a15a33cd7a5ce579924": {
      "model_module": "@jupyter-widgets/controls",
      "model_module_version": "1.5.0",
      "model_name": "DescriptionStyleModel",
      "state": {
       "description_width": ""
      }
     },
     "ba4f63bea67f4fdab739c659b4822a3a": {
      "model_module": "@jupyter-widgets/controls",
      "model_module_version": "1.5.0",
      "model_name": "ButtonModel",
      "state": {
       "description": "Generate MultiCall Data",
       "layout": "IPY_MODEL_cfdf787f8cdc4076a4f45d0af5598290",
       "style": "IPY_MODEL_882507c51e1449e3b9e8714d4bccec2b"
      }
     },
     "ba618e3ab94b4fafb4ded847193a8394": {
      "model_module": "@jupyter-widgets/base",
      "model_module_version": "1.2.0",
      "model_name": "LayoutModel",
      "state": {}
     },
     "ba69b417aa454c55bb348c5ab99cce51": {
      "model_module": "@jupyter-widgets/base",
      "model_module_version": "1.2.0",
      "model_name": "LayoutModel",
      "state": {}
     },
     "ba74ad47a1594a519dd6e457bf0b8895": {
      "model_module": "@jupyter-widgets/controls",
      "model_module_version": "1.5.0",
      "model_name": "DescriptionStyleModel",
      "state": {
       "description_width": ""
      }
     },
     "baa0faa87d854a408ecc5a20d5e95386": {
      "model_module": "@jupyter-widgets/controls",
      "model_module_version": "1.5.0",
      "model_name": "DescriptionStyleModel",
      "state": {
       "description_width": ""
      }
     },
     "baac8c6c02284afb87a23c42d2d56348": {
      "model_module": "@jupyter-widgets/base",
      "model_module_version": "1.2.0",
      "model_name": "LayoutModel",
      "state": {}
     },
     "bac23c06405f468186de24f94a282ad0": {
      "model_module": "@jupyter-widgets/controls",
      "model_module_version": "1.5.0",
      "model_name": "DropdownModel",
      "state": {
       "_options_labels": [
        "WETH/ALCX",
        "DAI/ALCX",
        "CVX/ALCX",
        "ALCX-ETH SLP"
       ],
       "index": 0,
       "layout": "IPY_MODEL_6a08663a677245588afcc7c330b931dc",
       "style": "IPY_MODEL_bef1c097e3024413946781a98005b518"
      }
     },
     "badca5dc54a64929ad0b76e1912b6dd6": {
      "model_module": "@jupyter-widgets/controls",
      "model_module_version": "1.5.0",
      "model_name": "LabelModel",
      "state": {
       "layout": "IPY_MODEL_84af777e27ad4401b620390a68733899",
       "style": "IPY_MODEL_b8c24e3bd5fe4e479b51e8ff3a9674c1",
       "value": "Select Pool to Bond:"
      }
     },
     "bae25000f8da465cb1320ee8ef38617a": {
      "model_module": "@jupyter-widgets/controls",
      "model_module_version": "1.5.0",
      "model_name": "DescriptionStyleModel",
      "state": {
       "description_width": ""
      }
     },
     "baebd116460e4a72819424553127bc29": {
      "model_module": "@jupyter-widgets/controls",
      "model_module_version": "1.5.0",
      "model_name": "DescriptionStyleModel",
      "state": {
       "description_width": ""
      }
     },
     "baf1f95a3a754ad894ecdd5b304737d7": {
      "model_module": "@jupyter-widgets/controls",
      "model_module_version": "1.5.0",
      "model_name": "LabelModel",
      "state": {
       "layout": "IPY_MODEL_a538293910bd4654a4eb7ce8ce7d9612",
       "style": "IPY_MODEL_fed5ef60ca2a48e6abe8d931d397f78b",
       "value": "Your Payout: 0 WETH"
      }
     },
     "baf79e087d5f486b9becd7b5f4ec3564": {
      "model_module": "@jupyter-widgets/base",
      "model_module_version": "1.2.0",
      "model_name": "LayoutModel",
      "state": {
       "width": "425px"
      }
     },
     "bb14839de68a4596b5f0171e6efd8299": {
      "model_module": "@jupyter-widgets/controls",
      "model_module_version": "1.5.0",
      "model_name": "LabelModel",
      "state": {
       "layout": "IPY_MODEL_a88b5e115c7248dbbc5714d0c9963a77",
       "style": "IPY_MODEL_5febb9f73c214102996f4e05712171ef",
       "value": "Max Input: 5.979712965917796 WETH"
      }
     },
     "bb420638a0294e2690946041e9a85485": {
      "model_module": "@jupyter-widgets/controls",
      "model_module_version": "1.5.0",
      "model_name": "DropdownModel",
      "state": {
       "_options_labels": [
        "WETH/ALCX",
        "DAI/ALCX",
        "CVX/ALCX",
        "ALCX-ETH SLP"
       ],
       "index": 3,
       "layout": "IPY_MODEL_fe37c9d5e6ba483d8b03384f64f2990a",
       "style": "IPY_MODEL_db6b0d1b28044ffb984bb2afc55cd5e9"
      }
     },
     "bb47caed8e5847ecb15ee94ab33c8218": {
      "model_module": "@jupyter-widgets/controls",
      "model_module_version": "1.5.0",
      "model_name": "ButtonModel",
      "state": {
       "description": "Generate MultiCall Data",
       "layout": "IPY_MODEL_d91af4b7656b482d85a33c25bad5b3d3",
       "style": "IPY_MODEL_8e6a45fe55104ebabbcfd4223b170a19"
      }
     },
     "bb6f1345a8e34a5da390bd75615b90b1": {
      "model_module": "@jupyter-widgets/base",
      "model_module_version": "1.2.0",
      "model_name": "LayoutModel",
      "state": {}
     },
     "bbac615e28c84a1087abc34add1d6963": {
      "model_module": "@jupyter-widgets/controls",
      "model_module_version": "1.5.0",
      "model_name": "DescriptionStyleModel",
      "state": {
       "description_width": ""
      }
     },
     "bbcccdfa37734d8a923b9ba0ff223dd2": {
      "model_module": "@jupyter-widgets/controls",
      "model_module_version": "1.5.0",
      "model_name": "CheckboxModel",
      "state": {
       "description": "WETH/ALCX (7.25451)",
       "disabled": false,
       "layout": "IPY_MODEL_dab24b57c92148fba61ea92c5be6ede9",
       "style": "IPY_MODEL_e5ab1d3045a542cb91ef33d6745f727a",
       "value": true
      }
     },
     "bbd4d29e0b8d463f894136343465a48f": {
      "model_module": "@jupyter-widgets/base",
      "model_module_version": "1.2.0",
      "model_name": "LayoutModel",
      "state": {}
     },
     "bc29fd6e30844c8087c93cd33cfe3b5b": {
      "model_module": "@jupyter-widgets/base",
      "model_module_version": "1.2.0",
      "model_name": "LayoutModel",
      "state": {}
     },
     "bc3cd95839074e40b06ed86f5a547f4b": {
      "model_module": "@jupyter-widgets/controls",
      "model_module_version": "1.5.0",
      "model_name": "DescriptionStyleModel",
      "state": {
       "description_width": ""
      }
     },
     "bc5f11ec7f2343b0a783ff37fc77069b": {
      "model_module": "@jupyter-widgets/base",
      "model_module_version": "1.2.0",
      "model_name": "LayoutModel",
      "state": {
       "width": "425px"
      }
     },
     "bc65a092ba004221ba64edac91fbe5dc": {
      "model_module": "@jupyter-widgets/base",
      "model_module_version": "1.2.0",
      "model_name": "LayoutModel",
      "state": {}
     },
     "bc67ff08ecf84e42bd7ffd837df38de4": {
      "model_module": "@jupyter-widgets/base",
      "model_module_version": "1.2.0",
      "model_name": "LayoutModel",
      "state": {}
     },
     "bc85b3b3e5904637b470ffc9488848df": {
      "model_module": "@jupyter-widgets/controls",
      "model_module_version": "1.5.0",
      "model_name": "DescriptionStyleModel",
      "state": {
       "description_width": ""
      }
     },
     "bc963ffc723f49fd839d6b5ab0d73a9a": {
      "model_module": "@jupyter-widgets/base",
      "model_module_version": "1.2.0",
      "model_name": "LayoutModel",
      "state": {
       "width": "200px"
      }
     },
     "bc9abd990ccf4d4491ae2318c16dfd2c": {
      "model_module": "@jupyter-widgets/controls",
      "model_module_version": "1.5.0",
      "model_name": "TextModel",
      "state": {
       "description": "Address: ",
       "layout": "IPY_MODEL_69e46bdf237140ddad33082d7dd67d31",
       "style": "IPY_MODEL_16b5a229d6c941afabd6b67151fc00b2",
       "value": "0xeEEC0e4927704ab3BBE5df7F4EfFa818b43665a3"
      }
     },
     "bcb8c854bfe546a8b1af269543862ad2": {
      "model_module": "@jupyter-widgets/base",
      "model_module_version": "1.2.0",
      "model_name": "LayoutModel",
      "state": {}
     },
     "bcb921f045ee41cc93e615328b8c3db9": {
      "model_module": "@jupyter-widgets/controls",
      "model_module_version": "1.5.0",
      "model_name": "LabelModel",
      "state": {
       "layout": "IPY_MODEL_55eedee654a34bdda48a6d5746f5a91f",
       "style": "IPY_MODEL_c512dfef3fd94ad1a1b89e8510db1b14",
       "value": "Select Pool to Bond:"
      }
     },
     "bcdb97c228694745ab65d00df260f5e5": {
      "model_module": "@jupyter-widgets/controls",
      "model_module_version": "1.5.0",
      "model_name": "CheckboxModel",
      "state": {
       "description": "CVX/ALCX (0.0)",
       "disabled": false,
       "layout": "IPY_MODEL_da9c6c91053c48d19ceb00fd9e992a14",
       "style": "IPY_MODEL_7af1350519064e5c925dc884cf59e540",
       "value": false
      }
     },
     "bcddd182987c41438340018ba1080ff0": {
      "model_module": "@jupyter-widgets/base",
      "model_module_version": "1.2.0",
      "model_name": "LayoutModel",
      "state": {}
     },
     "bce632cb101a4bc1b124c56ed38795ef": {
      "model_module": "@jupyter-widgets/controls",
      "model_module_version": "1.5.0",
      "model_name": "ButtonModel",
      "state": {
       "description": "Generate MultiCall Data",
       "layout": "IPY_MODEL_31387430ccc94ef49ea6380ae07ad1bd",
       "style": "IPY_MODEL_7dd7b0ae79a3484b868a17a5947207b0"
      }
     },
     "bd1d389ddabc42d3b0b33b24f4eae834": {
      "model_module": "@jupyter-widgets/controls",
      "model_module_version": "1.5.0",
      "model_name": "DescriptionStyleModel",
      "state": {
       "description_width": ""
      }
     },
     "bd2c27e65e574b0fa793ed98b38b9ed5": {
      "model_module": "@jupyter-widgets/controls",
      "model_module_version": "1.5.0",
      "model_name": "LabelModel",
      "state": {
       "layout": "IPY_MODEL_818ebecbc9c7409594f9181e27f05b74",
       "style": "IPY_MODEL_32f3c79576d14719a81ac1153c34719e",
       "value": "Max Payout: 96.15973854597343 ALCX"
      }
     },
     "bd4e3bb1ca3b4951b60736f9ae938e3e": {
      "model_module": "@jupyter-widgets/controls",
      "model_module_version": "1.5.0",
      "model_name": "LabelModel",
      "state": {
       "layout": "IPY_MODEL_23d836f5d3ca4853addfa87e3e88fce6",
       "style": "IPY_MODEL_7cdf7a25369e40af999f0994c39600c2",
       "value": "Select Pool to Bond:"
      }
     },
     "bd53d428b955492694fe34d707727cae": {
      "model_module": "@jupyter-widgets/controls",
      "model_module_version": "1.5.0",
      "model_name": "DescriptionStyleModel",
      "state": {
       "description_width": ""
      }
     },
     "bd6b56db0c0f42feade9b1e1b87e618b": {
      "model_module": "@jupyter-widgets/controls",
      "model_module_version": "1.5.0",
      "model_name": "LabelModel",
      "state": {
       "layout": "IPY_MODEL_a47354764b0a4654bca890cb675de715",
       "style": "IPY_MODEL_48c8444a131a4ddb854a8c01f9b7675d",
       "value": "Max Payout: 318185.14014765696 ALCX"
      }
     },
     "bd6d762444354dc581b3f123edd1135d": {
      "model_module": "@jupyter-widgets/controls",
      "model_module_version": "1.5.0",
      "model_name": "DropdownModel",
      "state": {
       "_options_labels": [
        "WETH/ALCX",
        "DAI/ALCX",
        "CVX/ALCX",
        "ALCX-ETH SLP"
       ],
       "index": 0,
       "layout": "IPY_MODEL_76b78e066d35438fb8b26ab06e18ec89",
       "style": "IPY_MODEL_4530ce38134b4526a1bc54043bd047d6"
      }
     },
     "bd9f4ae75c274ae3b11eb5cd99f05d54": {
      "model_module": "@jupyter-widgets/base",
      "model_module_version": "1.2.0",
      "model_name": "LayoutModel",
      "state": {}
     },
     "bdd5470fccef4cada102db80d93d6569": {
      "model_module": "@jupyter-widgets/base",
      "model_module_version": "1.2.0",
      "model_name": "LayoutModel",
      "state": {}
     },
     "bdd7685cd79143aab49f8bf2c4bcbd09": {
      "model_module": "@jupyter-widgets/base",
      "model_module_version": "1.2.0",
      "model_name": "LayoutModel",
      "state": {}
     },
     "bdd9d2d80d0e4159b4639195bc037b57": {
      "model_module": "@jupyter-widgets/controls",
      "model_module_version": "1.5.0",
      "model_name": "DescriptionStyleModel",
      "state": {
       "description_width": ""
      }
     },
     "bde9b0b4be4b48bf916b812ff9b1a616": {
      "model_module": "@jupyter-widgets/controls",
      "model_module_version": "1.5.0",
      "model_name": "CheckboxModel",
      "state": {
       "description": "Use Wallet Balance (72.80737)",
       "disabled": false,
       "layout": "IPY_MODEL_ae973ba0123a4634b756cbd6390c7e89",
       "style": "IPY_MODEL_f7103e4d002d4685aedf67d37a8d7b62",
       "value": true
      }
     },
     "bdea3c2ec11b44ebaed5a3ed7f26c60e": {
      "model_module": "@jupyter-widgets/controls",
      "model_module_version": "1.5.0",
      "model_name": "DescriptionStyleModel",
      "state": {
       "description_width": ""
      }
     },
     "be4cd8ae1a474aeba4150b20b43437b8": {
      "model_module": "@jupyter-widgets/controls",
      "model_module_version": "1.5.0",
      "model_name": "HBoxModel",
      "state": {
       "children": [
        "IPY_MODEL_c774460dd009465e90e8be49ae205371",
        "IPY_MODEL_943ba9705ddd4d3fb0d20bafea28bb9a"
       ],
       "layout": "IPY_MODEL_a84ccc6fd896442f84eaa5067ceaf4c5"
      }
     },
     "be74c96c33f44eef8e6eec27a6796396": {
      "model_module": "@jupyter-widgets/base",
      "model_module_version": "1.2.0",
      "model_name": "LayoutModel",
      "state": {
       "width": "200px"
      }
     },
     "be7f6a7ddc4e4140a6309ac5e64e506c": {
      "model_module": "@jupyter-widgets/controls",
      "model_module_version": "1.5.0",
      "model_name": "TextModel",
      "state": {
       "description": "Address: ",
       "layout": "IPY_MODEL_27784ebf37a64fc7a8ecc9f1b550981b",
       "style": "IPY_MODEL_d108e4c7ba354cb8be319014e1d2d618",
       "value": "0xeEEC0e4927704ab3BBE5df7F4EfFa818b43665a3"
      }
     },
     "be839b71f1c44b1388f0cc7ebe602c23": {
      "model_module": "@jupyter-widgets/base",
      "model_module_version": "1.2.0",
      "model_name": "LayoutModel",
      "state": {}
     },
     "bed2d01a3b304291b74ffbf9863bf58d": {
      "model_module": "@jupyter-widgets/base",
      "model_module_version": "1.2.0",
      "model_name": "LayoutModel",
      "state": {}
     },
     "bee7305f43de4163a4973d0a49ae893f": {
      "model_module": "@jupyter-widgets/controls",
      "model_module_version": "1.5.0",
      "model_name": "LabelModel",
      "state": {
       "layout": "IPY_MODEL_3ace2e724ba84656a29744f193339f09",
       "style": "IPY_MODEL_a69d50b789454ddeb618587ec13906b1",
       "value": "[Current block: 13905713]"
      }
     },
     "bee84bd7ef2d4de380550e6c8205a1d9": {
      "model_module": "@jupyter-widgets/base",
      "model_module_version": "1.2.0",
      "model_name": "LayoutModel",
      "state": {}
     },
     "beea691dffef4e08b1cb26525a2eee73": {
      "model_module": "@jupyter-widgets/controls",
      "model_module_version": "1.5.0",
      "model_name": "LabelModel",
      "state": {
       "layout": "IPY_MODEL_0e47ca4d5aa84ec39f21f425039d3ec5",
       "style": "IPY_MODEL_8f69a2f8ef48469388c3018ff0b99209",
       "value": "Swapping 42.02848 ALCX for 2.693727772748767 WETH"
      }
     },
     "bef1c097e3024413946781a98005b518": {
      "model_module": "@jupyter-widgets/controls",
      "model_module_version": "1.5.0",
      "model_name": "DescriptionStyleModel",
      "state": {
       "description_width": ""
      }
     },
     "bf33c24fdbf048868956a23ad2704497": {
      "model_module": "@jupyter-widgets/base",
      "model_module_version": "1.2.0",
      "model_name": "LayoutModel",
      "state": {}
     },
     "bf33e90df1bd4e2b97d978e91fe86ac5": {
      "model_module": "@jupyter-widgets/base",
      "model_module_version": "1.2.0",
      "model_name": "LayoutModel",
      "state": {}
     },
     "bf4d59c1c2354a9db4e32ef68850a534": {
      "model_module": "@jupyter-widgets/controls",
      "model_module_version": "1.5.0",
      "model_name": "TextModel",
      "state": {
       "description": "Address: ",
       "layout": "IPY_MODEL_40fbed8c0dbe49af8687e28318a4db10",
       "style": "IPY_MODEL_12cea06532314a0e87ac6800e7ab3708",
       "value": "0xeEEC0e4927704ab3BBE5df7F4EfFa818b43665a3"
      }
     },
     "bf4da3f80e344d1680a3a6361f6583e5": {
      "model_module": "@jupyter-widgets/controls",
      "model_module_version": "1.5.0",
      "model_name": "TextModel",
      "state": {
       "description": "Address: ",
       "layout": "IPY_MODEL_f4bf916696c24526a3c38f3873e91055",
       "style": "IPY_MODEL_e07ba3e40b144fb78fc6ae9992dc3d14",
       "value": "0xeEEC0e4927704ab3BBE5df7F4EfFa818b43665a3"
      }
     },
     "bf5d90803cfd4f2a8605e0a4309caad8": {
      "model_module": "@jupyter-widgets/controls",
      "model_module_version": "1.5.0",
      "model_name": "ButtonModel",
      "state": {
       "description": "Generate MultiCall Data",
       "layout": "IPY_MODEL_a78ea904bf9945efb5f351f17c58d624",
       "style": "IPY_MODEL_a8588f944f9145f69b404467773bf3bb"
      }
     },
     "bf7ff1b09d8f45768b3021146d27eed0": {
      "model_module": "@jupyter-widgets/controls",
      "model_module_version": "1.5.0",
      "model_name": "HBoxModel",
      "state": {
       "children": [
        "IPY_MODEL_a96504092863458ea11acc124069f35b",
        "IPY_MODEL_c667cd3f91fb47cba30725cff5acac8c"
       ],
       "layout": "IPY_MODEL_24f437d16ff24d9d86b63cb60c01d1d9"
      }
     },
     "bf916a99faad4d6a8332eb77c638f21d": {
      "model_module": "@jupyter-widgets/controls",
      "model_module_version": "1.5.0",
      "model_name": "CheckboxModel",
      "state": {
       "description": "DAI/ALCX (3.42334)",
       "disabled": false,
       "layout": "IPY_MODEL_4b74165963e64f49be0d9877776d35a4",
       "style": "IPY_MODEL_8ed1d61a7a6d42cdac6d12e5391122e0",
       "value": true
      }
     },
     "bfaea67af12840cfad666ce8a4f89057": {
      "model_module": "@jupyter-widgets/base",
      "model_module_version": "1.2.0",
      "model_name": "LayoutModel",
      "state": {}
     },
     "bfd70509ff9c4621be36ea3e3d670be8": {
      "model_module": "@jupyter-widgets/controls",
      "model_module_version": "1.5.0",
      "model_name": "LabelModel",
      "state": {
       "layout": "IPY_MODEL_ae60cca023f8490d97557118cb970f6f",
       "style": "IPY_MODEL_1afaecfd4c4a45b7b6901661e7db33fb",
       "value": "Select Assets to Claim:"
      }
     },
     "bfdeda6015be41f0b8d852dcaf9a0709": {
      "model_module": "@jupyter-widgets/controls",
      "model_module_version": "1.5.0",
      "model_name": "VBoxModel",
      "state": {
       "children": [
        "IPY_MODEL_b94f264ffc6c4a338e3a4f3e2c2b2307",
        "IPY_MODEL_88fbd9aa7528412299ee1254cc352f83",
        "IPY_MODEL_dee605646abf45ccbf80d12367831375",
        "IPY_MODEL_d47a039342c7412982557d52434d573b",
        "IPY_MODEL_390f87da1b204e5caea6f088a4945d99",
        "IPY_MODEL_6387362215b74580944a8788bf0a72e7",
        "IPY_MODEL_ba2d5e8304ab48ff880cdb130580d002",
        "IPY_MODEL_8220d2f808c64f3e93819810bd059352",
        "IPY_MODEL_65950be6495849c98758e31a5a596fa7",
        "IPY_MODEL_54cebff30d39418b961971291f052818",
        "IPY_MODEL_d382aa11f0b24366931e09e085e614ed",
        "IPY_MODEL_2a2ff8733a3a4d04a9d2b525259b4b49",
        "IPY_MODEL_0c322e054cee41d7b5a4285fb01fbeee",
        "IPY_MODEL_6ad2f97f2194428b88ee1f0ad94758a2"
       ],
       "layout": "IPY_MODEL_eb237f41f1404feeb8ca74d91ad4385e"
      }
     },
     "c01a83e3d6724b6b99baed67199ea7ae": {
      "model_module": "@jupyter-widgets/controls",
      "model_module_version": "1.5.0",
      "model_name": "DescriptionStyleModel",
      "state": {
       "description_width": ""
      }
     },
     "c02adeb6356f43d8a5fc502f31447b73": {
      "model_module": "@jupyter-widgets/controls",
      "model_module_version": "1.5.0",
      "model_name": "HBoxModel",
      "state": {
       "children": [
        "IPY_MODEL_12949c7bf0f34ccab172d38af216894c",
        "IPY_MODEL_1bd1e63820fc4fb9bdf8bba7fe322c69"
       ],
       "layout": "IPY_MODEL_c04ff8af521049259faf25abe185598c"
      }
     },
     "c04967e68c0b4e62b10a5e6c2bf4cc39": {
      "model_module": "@jupyter-widgets/controls",
      "model_module_version": "1.5.0",
      "model_name": "DescriptionStyleModel",
      "state": {
       "description_width": ""
      }
     },
     "c04ff8af521049259faf25abe185598c": {
      "model_module": "@jupyter-widgets/base",
      "model_module_version": "1.2.0",
      "model_name": "LayoutModel",
      "state": {}
     },
     "c053ceb14e3e4d70913eeea5a32c80d6": {
      "model_module": "@jupyter-widgets/controls",
      "model_module_version": "1.5.0",
      "model_name": "DescriptionStyleModel",
      "state": {
       "description_width": ""
      }
     },
     "c05605cd60a84679876f6ab5b32748bc": {
      "model_module": "@jupyter-widgets/controls",
      "model_module_version": "1.5.0",
      "model_name": "LabelModel",
      "state": {
       "layout": "IPY_MODEL_9a69e1d0ea3f47638bead5141d1ffff0",
       "style": "IPY_MODEL_5f105008f42c4fd78c7c45664b42912b"
      }
     },
     "c0643e106c9d45c89ec0cb932c374c12": {
      "model_module": "@jupyter-widgets/controls",
      "model_module_version": "1.5.0",
      "model_name": "DescriptionStyleModel",
      "state": {
       "description_width": ""
      }
     },
     "c072fe88db7148e199747c31b1a57baa": {
      "model_module": "@jupyter-widgets/controls",
      "model_module_version": "1.5.0",
      "model_name": "ButtonModel",
      "state": {
       "description": "Generate MultiCall Data",
       "layout": "IPY_MODEL_d0561906c2cb4509833649a5c6f4780b",
       "style": "IPY_MODEL_1c93d400ad1040b093822e9862c8df9d"
      }
     },
     "c086b27e6924462e9133be332c94f527": {
      "model_module": "@jupyter-widgets/controls",
      "model_module_version": "1.5.0",
      "model_name": "CheckboxModel",
      "state": {
       "description": "Use Wallet Balance (72.80737)",
       "disabled": false,
       "layout": "IPY_MODEL_9e8a702a853841768d15dd6080e6b10a",
       "style": "IPY_MODEL_f8cf1515901c48c180d0883fc44e3c60",
       "value": false
      }
     },
     "c08ff76a3ca14b8abfb693a0ea3dbbab": {
      "model_module": "@jupyter-widgets/base",
      "model_module_version": "1.2.0",
      "model_name": "LayoutModel",
      "state": {}
     },
     "c09d51c663b44c299b77004be8e75be1": {
      "model_module": "@jupyter-widgets/controls",
      "model_module_version": "1.5.0",
      "model_name": "TextModel",
      "state": {
       "description": "Address: ",
       "layout": "IPY_MODEL_58f0cfa1f8e4454d8196e8ce72256b89",
       "style": "IPY_MODEL_94176aba3a344dfdaf5f6e2d81b10f6f",
       "value": "0xeEEC0e4927704ab3BBE5df7F4EfFa818b43665a3"
      }
     },
     "c0c7b54d13fc4aad9d76071534508a25": {
      "model_module": "@jupyter-widgets/base",
      "model_module_version": "1.2.0",
      "model_name": "LayoutModel",
      "state": {}
     },
     "c0d5599d51d34678afaec2d07f01b8b8": {
      "model_module": "@jupyter-widgets/controls",
      "model_module_version": "1.5.0",
      "model_name": "HBoxModel",
      "state": {
       "children": [
        "IPY_MODEL_c77a0c3a6dcb425590ee4eb88642f26b",
        "IPY_MODEL_7372a73e1c9a49d1bb5cb28fc6f14ed0"
       ],
       "layout": "IPY_MODEL_57bb9068d4af4aad8dabe284dc651c51"
      }
     },
     "c0d80663e1464a6881c78953824eb4e3": {
      "model_module": "@jupyter-widgets/base",
      "model_module_version": "1.2.0",
      "model_name": "LayoutModel",
      "state": {}
     },
     "c0e0ffc9610d4a10a30a46546e2792fa": {
      "model_module": "@jupyter-widgets/controls",
      "model_module_version": "1.5.0",
      "model_name": "LabelModel",
      "state": {
       "layout": "IPY_MODEL_00189de9b1734de9ac96b08892ba4ac0",
       "style": "IPY_MODEL_22cbe78e868c46bf9b72fcc3dcfdc3f9",
       "value": "Select Assets to Claim:"
      }
     },
     "c0f903f8486a4d5f98f2f68b70192417": {
      "model_module": "@jupyter-widgets/controls",
      "model_module_version": "1.5.0",
      "model_name": "DescriptionStyleModel",
      "state": {
       "description_width": ""
      }
     },
     "c1167254894f458684c114d773deaaf1": {
      "model_module": "@jupyter-widgets/controls",
      "model_module_version": "1.5.0",
      "model_name": "CheckboxModel",
      "state": {
       "description": "CVX/ALCX (0.0)",
       "disabled": false,
       "layout": "IPY_MODEL_6ddb977e2d5a4795937cdc2cd9e0226c",
       "style": "IPY_MODEL_45e0ec1537c948dea01ef453138015d4",
       "value": false
      }
     },
     "c11c7e17a11e4660ba9da33465b0a90f": {
      "model_module": "@jupyter-widgets/base",
      "model_module_version": "1.2.0",
      "model_name": "LayoutModel",
      "state": {}
     },
     "c11d1a6a21564268948b4e4acb66b46b": {
      "model_module": "@jupyter-widgets/controls",
      "model_module_version": "1.5.0",
      "model_name": "DescriptionStyleModel",
      "state": {
       "description_width": ""
      }
     },
     "c142af4254494247bbc9154e8aeb553f": {
      "model_module": "@jupyter-widgets/controls",
      "model_module_version": "1.5.0",
      "model_name": "DescriptionStyleModel",
      "state": {
       "description_width": ""
      }
     },
     "c16cfdf649174447ae2019a363c89ab3": {
      "model_module": "@jupyter-widgets/controls",
      "model_module_version": "1.5.0",
      "model_name": "LabelModel",
      "state": {
       "layout": "IPY_MODEL_6cd0b1ef205e4531ad270f47728810d1",
       "style": "IPY_MODEL_76a8ad95d67c4d94b59c873f19fec266",
       "value": "Swapping 72.80737 ALCX for 4.649196397364857 WETH"
      }
     },
     "c19ffc8e31b846b49db0dd0eaa83678e": {
      "model_module": "@jupyter-widgets/controls",
      "model_module_version": "1.5.0",
      "model_name": "TextModel",
      "state": {
       "description": "Address: ",
       "layout": "IPY_MODEL_d1ebdc6f926d4e1aa5c4ad56f2b9cced",
       "style": "IPY_MODEL_63ac906c49a147b581725ae90f5603a2",
       "value": "0xeEEC0e4927704ab3BBE5df7F4EfFa818b43665a3"
      }
     },
     "c1df6079da11479b8a765acf405779db": {
      "model_module": "@jupyter-widgets/base",
      "model_module_version": "1.2.0",
      "model_name": "LayoutModel",
      "state": {}
     },
     "c1f47ede521546fc8a3f0639bb93f7c4": {
      "model_module": "@jupyter-widgets/base",
      "model_module_version": "1.2.0",
      "model_name": "LayoutModel",
      "state": {}
     },
     "c2050da07ea547b1892d3ce4fccb730b": {
      "model_module": "@jupyter-widgets/controls",
      "model_module_version": "1.5.0",
      "model_name": "LabelModel",
      "state": {
       "layout": "IPY_MODEL_9303726b91c440a8a585b8f759a7808e",
       "style": "IPY_MODEL_b641310b9cc84bafa593723e8be39bbd",
       "value": "Select Assets to Claim:"
      }
     },
     "c20af12dbf364a75816fc26687add5bd": {
      "model_module": "@jupyter-widgets/controls",
      "model_module_version": "1.5.0",
      "model_name": "CheckboxModel",
      "state": {
       "description": "CVX/ALCX (0.0)",
       "disabled": false,
       "layout": "IPY_MODEL_32176f9f1eb049c19be2117fd9b00615",
       "style": "IPY_MODEL_f868dfdf6f7a461287cc9f93a63bfb03",
       "value": false
      }
     },
     "c211d2f1b5e54221959967fc91285d00": {
      "model_module": "@jupyter-widgets/controls",
      "model_module_version": "1.5.0",
      "model_name": "DescriptionStyleModel",
      "state": {
       "description_width": ""
      }
     },
     "c22079225b0e4a5cba6c6e607f9afafe": {
      "model_module": "@jupyter-widgets/controls",
      "model_module_version": "1.5.0",
      "model_name": "DescriptionStyleModel",
      "state": {
       "description_width": ""
      }
     },
     "c22efd0a62de4b459bcd93beb2c69fb9": {
      "model_module": "@jupyter-widgets/controls",
      "model_module_version": "1.5.0",
      "model_name": "LabelModel",
      "state": {
       "layout": "IPY_MODEL_7d18572aa69c4c50b965532f52ad3d0c",
       "style": "IPY_MODEL_278654eafb0b47fb8db834494d32237f",
       "value": "Max Payout: 96.15973854597343 ALCX"
      }
     },
     "c258481cac06435caf175f7d7910f8c1": {
      "model_module": "@jupyter-widgets/controls",
      "model_module_version": "1.5.0",
      "model_name": "DescriptionStyleModel",
      "state": {
       "description_width": ""
      }
     },
     "c2ac1f7781134aacb67aa7d9c6b78cc5": {
      "model_module": "@jupyter-widgets/base",
      "model_module_version": "1.2.0",
      "model_name": "LayoutModel",
      "state": {}
     },
     "c2b289fc6b51481993b4bf30ace18c6d": {
      "model_module": "@jupyter-widgets/base",
      "model_module_version": "1.2.0",
      "model_name": "LayoutModel",
      "state": {}
     },
     "c2c211f5d3b541b49d53e54061fde660": {
      "model_module": "@jupyter-widgets/controls",
      "model_module_version": "1.5.0",
      "model_name": "ButtonStyleModel",
      "state": {}
     },
     "c2c8f3df7d1d4cce9654ed91a5de828e": {
      "model_module": "@jupyter-widgets/controls",
      "model_module_version": "1.5.0",
      "model_name": "ButtonModel",
      "state": {
       "description": "Generate MultiCall Data",
       "layout": "IPY_MODEL_53fc6fcb5318491a853a3f3901fa4ad6",
       "style": "IPY_MODEL_a4bf78d8432a4cbcb2fb1ccfe60ddaea"
      }
     },
     "c2d982e4151d4de98ac9483e7e9032c6": {
      "model_module": "@jupyter-widgets/base",
      "model_module_version": "1.2.0",
      "model_name": "LayoutModel",
      "state": {}
     },
     "c2f8975c48dc419eb2a8332d261166da": {
      "model_module": "@jupyter-widgets/controls",
      "model_module_version": "1.5.0",
      "model_name": "LabelModel",
      "state": {
       "layout": "IPY_MODEL_5ab19740098945fa9a922c6206e60e87",
       "style": "IPY_MODEL_668fb4bb44c445fa857427c3f56faa30",
       "value": "Max Input: 5.976474933905533 WETH"
      }
     },
     "c2ff20b394bd496d9b0b44dad5b3da33": {
      "model_module": "@jupyter-widgets/base",
      "model_module_version": "1.2.0",
      "model_name": "LayoutModel",
      "state": {
       "width": "425px"
      }
     },
     "c31de7213ca8464fab2516deb6d451b0": {
      "model_module": "@jupyter-widgets/controls",
      "model_module_version": "1.5.0",
      "model_name": "LabelModel",
      "state": {
       "layout": "IPY_MODEL_23d47d6c0909475992f44fb6dfd0d031",
       "style": "IPY_MODEL_090f0218439347a091f66ef960b3ad47",
       "value": "Max Input: 11.671454384593437 ALCX-ETH SLP"
      }
     },
     "c31e06828b1e40fbb92df80fd993320c": {
      "model_module": "@jupyter-widgets/controls",
      "model_module_version": "1.5.0",
      "model_name": "DescriptionStyleModel",
      "state": {
       "description_width": ""
      }
     },
     "c34425de09ad46ceb813a4f661774ec6": {
      "model_module": "@jupyter-widgets/controls",
      "model_module_version": "1.5.0",
      "model_name": "DescriptionStyleModel",
      "state": {
       "description_width": ""
      }
     },
     "c346af28df8949c0a56a4ba4a7d36c6a": {
      "model_module": "@jupyter-widgets/controls",
      "model_module_version": "1.5.0",
      "model_name": "DescriptionStyleModel",
      "state": {
       "description_width": ""
      }
     },
     "c350bf14bfae439b8cb24fb09d0d0cfb": {
      "model_module": "@jupyter-widgets/base",
      "model_module_version": "1.2.0",
      "model_name": "LayoutModel",
      "state": {}
     },
     "c359308d084041299f9f53b031aa3306": {
      "model_module": "@jupyter-widgets/controls",
      "model_module_version": "1.5.0",
      "model_name": "LabelModel",
      "state": {
       "layout": "IPY_MODEL_18ceda2cf730441aad6f194a0650a0b6",
       "style": "IPY_MODEL_0049ae8f7d8d4ec2add1db87f9cc460c",
       "value": "[Current block: 13905446]"
      }
     },
     "c3639eb7703b4c33a334ddffc9ea6f9d": {
      "model_module": "@jupyter-widgets/base",
      "model_module_version": "1.2.0",
      "model_name": "LayoutModel",
      "state": {}
     },
     "c367f2b321374e878e58a00d1dd95a05": {
      "model_module": "@jupyter-widgets/controls",
      "model_module_version": "1.5.0",
      "model_name": "DescriptionStyleModel",
      "state": {
       "description_width": ""
      }
     },
     "c381dc89f05d4b47a41113f47fafaa29": {
      "model_module": "@jupyter-widgets/controls",
      "model_module_version": "1.5.0",
      "model_name": "DescriptionStyleModel",
      "state": {
       "description_width": ""
      }
     },
     "c3a804bf6558420e8caad3d90ca6bf85": {
      "model_module": "@jupyter-widgets/controls",
      "model_module_version": "1.5.0",
      "model_name": "CheckboxModel",
      "state": {
       "description": "ALCX-ETH SLP (0.0)",
       "disabled": false,
       "layout": "IPY_MODEL_d8c6e2fa73b54dbb8c766e423b164aeb",
       "style": "IPY_MODEL_7a4679cc3a124676a5766bf1faeebedf",
       "value": false
      }
     },
     "c3bc4f03a50346d0b2ba3134e89d6b31": {
      "model_module": "@jupyter-widgets/controls",
      "model_module_version": "1.5.0",
      "model_name": "DescriptionStyleModel",
      "state": {
       "description_width": ""
      }
     },
     "c3d75501005c48b2b1dcaf27df1c7bac": {
      "model_module": "@jupyter-widgets/controls",
      "model_module_version": "1.5.0",
      "model_name": "DescriptionStyleModel",
      "state": {
       "description_width": ""
      }
     },
     "c3ff75409c0b4ad3a70252ae6545e4ff": {
      "model_module": "@jupyter-widgets/controls",
      "model_module_version": "1.5.0",
      "model_name": "DescriptionStyleModel",
      "state": {
       "description_width": ""
      }
     },
     "c45575acad05475ba05ac01705f7761f": {
      "model_module": "@jupyter-widgets/controls",
      "model_module_version": "1.5.0",
      "model_name": "DescriptionStyleModel",
      "state": {
       "description_width": ""
      }
     },
     "c4576cb874b147cc9df79c9b22e2688e": {
      "model_module": "@jupyter-widgets/base",
      "model_module_version": "1.2.0",
      "model_name": "LayoutModel",
      "state": {}
     },
     "c46260d5cd8a4affaa96bf59ff784593": {
      "model_module": "@jupyter-widgets/base",
      "model_module_version": "1.2.0",
      "model_name": "LayoutModel",
      "state": {}
     },
     "c466b96e6f444ed18a8a41ecbb78c945": {
      "model_module": "@jupyter-widgets/controls",
      "model_module_version": "1.5.0",
      "model_name": "DescriptionStyleModel",
      "state": {
       "description_width": ""
      }
     },
     "c490d0809bf643da839b34b60a697b86": {
      "model_module": "@jupyter-widgets/controls",
      "model_module_version": "1.5.0",
      "model_name": "TextModel",
      "state": {
       "description": "Address: ",
       "layout": "IPY_MODEL_8f0e1e86381646758e0693bc1bfba9f8",
       "style": "IPY_MODEL_e1a79a15f0ef44128d6bbdc6f4221b6d",
       "value": "0xeEEC0e4927704ab3BBE5df7F4EfFa818b43665a3"
      }
     },
     "c4b4ffefb5f54628bdeef15902e2d5e7": {
      "model_module": "@jupyter-widgets/controls",
      "model_module_version": "1.5.0",
      "model_name": "DescriptionStyleModel",
      "state": {
       "description_width": ""
      }
     },
     "c4d6019d4bf34c3d91cf27ec80cd2302": {
      "model_module": "@jupyter-widgets/base",
      "model_module_version": "1.2.0",
      "model_name": "LayoutModel",
      "state": {}
     },
     "c5026186e089446bbe915e6b17032f9c": {
      "model_module": "@jupyter-widgets/controls",
      "model_module_version": "1.5.0",
      "model_name": "DescriptionStyleModel",
      "state": {
       "description_width": ""
      }
     },
     "c512dfef3fd94ad1a1b89e8510db1b14": {
      "model_module": "@jupyter-widgets/controls",
      "model_module_version": "1.5.0",
      "model_name": "DescriptionStyleModel",
      "state": {
       "description_width": ""
      }
     },
     "c51946ffa97c4020abdd7e9e4e7639f8": {
      "model_module": "@jupyter-widgets/base",
      "model_module_version": "1.2.0",
      "model_name": "LayoutModel",
      "state": {}
     },
     "c5489af60f79416784b6c2a9b1ad59cd": {
      "model_module": "@jupyter-widgets/controls",
      "model_module_version": "1.5.0",
      "model_name": "ButtonStyleModel",
      "state": {}
     },
     "c5514c5b06684e1ea7a0fcd4cea4f4f0": {
      "model_module": "@jupyter-widgets/base",
      "model_module_version": "1.2.0",
      "model_name": "LayoutModel",
      "state": {}
     },
     "c57941264476463790b8b7211df82dbd": {
      "model_module": "@jupyter-widgets/controls",
      "model_module_version": "1.5.0",
      "model_name": "LabelModel",
      "state": {
       "layout": "IPY_MODEL_2cbd3f43a89a48c1b9f4d839a07a21fe",
       "style": "IPY_MODEL_3f18d2104eaa4c4494973b00761a5b4b",
       "value": "Max Payout: 96.15973854597343 ALCX"
      }
     },
     "c58f5d7f4d3c4a13a2c13bca0dff27b4": {
      "model_module": "@jupyter-widgets/controls",
      "model_module_version": "1.5.0",
      "model_name": "LabelModel",
      "state": {
       "layout": "IPY_MODEL_778e8afaea1348b6b999ee67e43ac030",
       "style": "IPY_MODEL_57517fdcdce94a86a39c1df09f71fc53",
       "value": "[Current block: 13905605]"
      }
     },
     "c58faf19eba644a2b01c0ba430deb90f": {
      "model_module": "@jupyter-widgets/controls",
      "model_module_version": "1.5.0",
      "model_name": "CheckboxModel",
      "state": {
       "description": "DAI/ALCX (3.46504)",
       "disabled": false,
       "layout": "IPY_MODEL_44fb9be330a140c9a0aae656f99b9dd1",
       "style": "IPY_MODEL_f971ee56028c425db02f60bb311101d1",
       "value": false
      }
     },
     "c595e5cc21c94559a93498b86605efd7": {
      "model_module": "@jupyter-widgets/base",
      "model_module_version": "1.2.0",
      "model_name": "LayoutModel",
      "state": {}
     },
     "c59aaee2baaa4816ae37fb0ae4194107": {
      "model_module": "@jupyter-widgets/controls",
      "model_module_version": "1.5.0",
      "model_name": "LabelModel",
      "state": {
       "layout": "IPY_MODEL_46339994de0e4d2ba3dfdd05ddc425fa",
       "style": "IPY_MODEL_0d4c4cbafa514f9b9cf358c5698a59c2",
       "value": "Swapping 84.5001 ALCX for 5.413652935013403 WETH"
      }
     },
     "c59af3e86da84b41855d6efa6f647c4e": {
      "model_module": "@jupyter-widgets/controls",
      "model_module_version": "1.5.0",
      "model_name": "DescriptionStyleModel",
      "state": {
       "description_width": ""
      }
     },
     "c5db27c70bae440eaa3268ffe781fa44": {
      "model_module": "@jupyter-widgets/controls",
      "model_module_version": "1.5.0",
      "model_name": "CheckboxModel",
      "state": {
       "description": "WETH/ALCX (7.3617)",
       "disabled": false,
       "layout": "IPY_MODEL_4c053e2d4cf240348081a6e17f9f6b89",
       "style": "IPY_MODEL_2145714688894119a6c9d6d2e6650f74",
       "value": false
      }
     },
     "c5f0efb8c16b49d2b84505793b112ec9": {
      "model_module": "@jupyter-widgets/base",
      "model_module_version": "1.2.0",
      "model_name": "LayoutModel",
      "state": {}
     },
     "c62e09499f524ae39f475029c6a1f6b0": {
      "model_module": "@jupyter-widgets/base",
      "model_module_version": "1.2.0",
      "model_name": "LayoutModel",
      "state": {}
     },
     "c639e5efddeb460795d98d614929837b": {
      "model_module": "@jupyter-widgets/controls",
      "model_module_version": "1.5.0",
      "model_name": "DescriptionStyleModel",
      "state": {
       "description_width": ""
      }
     },
     "c63b51a734684b5cbca1e9b00e7c6a30": {
      "model_module": "@jupyter-widgets/controls",
      "model_module_version": "1.5.0",
      "model_name": "LabelModel",
      "state": {
       "layout": "IPY_MODEL_85f36ba138524a7287ceb667c1b7bd32",
       "style": "IPY_MODEL_55aefd3b613e4271b2d3786dc2c53e7b",
       "value": "Select Assets to Claim:"
      }
     },
     "c667cd3f91fb47cba30725cff5acac8c": {
      "model_module": "@jupyter-widgets/controls",
      "model_module_version": "1.5.0",
      "model_name": "CheckboxModel",
      "state": {
       "description": "DAI/ALCX (0.0)",
       "disabled": false,
       "layout": "IPY_MODEL_e6e4102934004af8b116fbe68878e236",
       "style": "IPY_MODEL_96089e13d4314265a92ae9516759e1ee",
       "value": true
      }
     },
     "c682c13b32794866b4a9dff9e07faf6b": {
      "model_module": "@jupyter-widgets/controls",
      "model_module_version": "1.5.0",
      "model_name": "CheckboxModel",
      "state": {
       "description": "WETH/ALCX (7.45427)",
       "disabled": false,
       "layout": "IPY_MODEL_686abe2ce663497aab3a9e71c5627702",
       "style": "IPY_MODEL_cca351c4374341f2af51c3c8171c9064",
       "value": true
      }
     },
     "c699851342a343dbb6bc2d7f42223a2a": {
      "model_module": "@jupyter-widgets/controls",
      "model_module_version": "1.5.0",
      "model_name": "DescriptionStyleModel",
      "state": {
       "description_width": ""
      }
     },
     "c6ea17dedaca4b0897cc0cbcba8d4a2a": {
      "model_module": "@jupyter-widgets/base",
      "model_module_version": "1.2.0",
      "model_name": "LayoutModel",
      "state": {}
     },
     "c6fc1bac6cf841d9a0723aad4a1287a7": {
      "model_module": "@jupyter-widgets/base",
      "model_module_version": "1.2.0",
      "model_name": "LayoutModel",
      "state": {}
     },
     "c707a564d4e64a59b65d0dec2aa77054": {
      "model_module": "@jupyter-widgets/base",
      "model_module_version": "1.2.0",
      "model_name": "LayoutModel",
      "state": {}
     },
     "c71d5cf9084b432b899ede0d889071b1": {
      "model_module": "@jupyter-widgets/controls",
      "model_module_version": "1.5.0",
      "model_name": "LabelModel",
      "state": {
       "layout": "IPY_MODEL_7d619fa0e5294fe59b8008083ca36569",
       "style": "IPY_MODEL_5e1811a2c00d47eda3c94badbaf02428"
      }
     },
     "c730d7d1e4c448708f26d100cb1ddc4b": {
      "model_module": "@jupyter-widgets/base",
      "model_module_version": "1.2.0",
      "model_name": "LayoutModel",
      "state": {}
     },
     "c737901fef194cd280a341876b4953ba": {
      "model_module": "@jupyter-widgets/base",
      "model_module_version": "1.2.0",
      "model_name": "LayoutModel",
      "state": {}
     },
     "c74fd885bca647f0a680bfe6c13eead9": {
      "model_module": "@jupyter-widgets/controls",
      "model_module_version": "1.5.0",
      "model_name": "LabelModel",
      "state": {
       "layout": "IPY_MODEL_93fbb7b2a56e474b8796d399ecf0e1a4",
       "style": "IPY_MODEL_0831b1a1ffc644e4bd6a0b95705fb7ec",
       "value": "Max Input: 5.999402566773517 WETH"
      }
     },
     "c774460dd009465e90e8be49ae205371": {
      "model_module": "@jupyter-widgets/controls",
      "model_module_version": "1.5.0",
      "model_name": "CheckboxModel",
      "state": {
       "description": "CVX/ALCX (0.0)",
       "disabled": false,
       "layout": "IPY_MODEL_0bb4f95e7a0e4b71b04d95d743311d8c",
       "style": "IPY_MODEL_62397a6818634b2b944c236bcbdc10a0",
       "value": false
      }
     },
     "c77a0c3a6dcb425590ee4eb88642f26b": {
      "model_module": "@jupyter-widgets/controls",
      "model_module_version": "1.5.0",
      "model_name": "CheckboxModel",
      "state": {
       "description": "CVX/ALCX (0.0)",
       "disabled": false,
       "layout": "IPY_MODEL_2b7f8dd5802245b5a9727316d977e6c3",
       "style": "IPY_MODEL_4c110ede957d44429edd31c804ac5b4b",
       "value": false
      }
     },
     "c796e631eeaf47b2b58585e433a690eb": {
      "model_module": "@jupyter-widgets/base",
      "model_module_version": "1.2.0",
      "model_name": "LayoutModel",
      "state": {}
     },
     "c7cc77e575054012a0d5f4a47d59e098": {
      "model_module": "@jupyter-widgets/controls",
      "model_module_version": "1.5.0",
      "model_name": "DescriptionStyleModel",
      "state": {
       "description_width": ""
      }
     },
     "c80d9660c06e4d55be316940a5fbc52f": {
      "model_module": "@jupyter-widgets/controls",
      "model_module_version": "1.5.0",
      "model_name": "DescriptionStyleModel",
      "state": {
       "description_width": ""
      }
     },
     "c815da570228474bb6c67fc3b21a92fd": {
      "model_module": "@jupyter-widgets/base",
      "model_module_version": "1.2.0",
      "model_name": "LayoutModel",
      "state": {}
     },
     "c87d0d2e2d6647d9a65db180fa2006e5": {
      "model_module": "@jupyter-widgets/controls",
      "model_module_version": "1.5.0",
      "model_name": "CheckboxModel",
      "state": {
       "description": "CVX/ALCX (0.0)",
       "disabled": false,
       "layout": "IPY_MODEL_d32766ceb89b48049e3420ce65579a07",
       "style": "IPY_MODEL_6834d94dcd124e05b6ddd9710ec09128",
       "value": false
      }
     },
     "c89a0a11d5554b32ace22dabfcd445a9": {
      "model_module": "@jupyter-widgets/controls",
      "model_module_version": "1.5.0",
      "model_name": "LabelModel",
      "state": {
       "layout": "IPY_MODEL_6549b04e87d5426eab18a0e425e4de5a",
       "style": "IPY_MODEL_c45575acad05475ba05ac01705f7761f",
       "value": "[Current block: 13905582]"
      }
     },
     "c8e949fb35dc4ec78e8aa30bf178b458": {
      "model_module": "@jupyter-widgets/controls",
      "model_module_version": "1.5.0",
      "model_name": "DescriptionStyleModel",
      "state": {
       "description_width": ""
      }
     },
     "c8f254b9d283465cbbbfb07445ae566e": {
      "model_module": "@jupyter-widgets/base",
      "model_module_version": "1.2.0",
      "model_name": "LayoutModel",
      "state": {}
     },
     "c91e067a6e944f778fcefac24f1549d4": {
      "model_module": "@jupyter-widgets/base",
      "model_module_version": "1.2.0",
      "model_name": "LayoutModel",
      "state": {}
     },
     "c949365b91d3431eaa039f634377c8b5": {
      "model_module": "@jupyter-widgets/base",
      "model_module_version": "1.2.0",
      "model_name": "LayoutModel",
      "state": {}
     },
     "c965ea999ee14904bd8d775ccbba1d18": {
      "model_module": "@jupyter-widgets/controls",
      "model_module_version": "1.5.0",
      "model_name": "LabelModel",
      "state": {
       "layout": "IPY_MODEL_b216d3f5b22e4c24b4652979873c3414",
       "style": "IPY_MODEL_b744bd0922584246953683302ce13982",
       "value": "Max Input: 5.9905849037044225 WETH"
      }
     },
     "c96b644cef6a4852ae2e0a1cbbcb5b0d": {
      "model_module": "@jupyter-widgets/base",
      "model_module_version": "1.2.0",
      "model_name": "LayoutModel",
      "state": {}
     },
     "c987fab9ad7d4c1daad1e7d57adccafd": {
      "model_module": "@jupyter-widgets/controls",
      "model_module_version": "1.5.0",
      "model_name": "HBoxModel",
      "state": {
       "children": [
        "IPY_MODEL_cbfb6d217c4a4189a7b3340dc12a2520",
        "IPY_MODEL_9e275a1b8ca34c3593e933675862a141"
       ],
       "layout": "IPY_MODEL_8c59745bb9d041b08ed90740ea624a53"
      }
     },
     "c98b3da4c0134234b0fd133414560239": {
      "model_module": "@jupyter-widgets/controls",
      "model_module_version": "1.5.0",
      "model_name": "DescriptionStyleModel",
      "state": {
       "description_width": ""
      }
     },
     "c993e3fa40f244a09903c1519f507c31": {
      "model_module": "@jupyter-widgets/controls",
      "model_module_version": "1.5.0",
      "model_name": "LabelModel",
      "state": {
       "layout": "IPY_MODEL_06a8acbcee414a4fbfbd80998ad13273",
       "style": "IPY_MODEL_e9e5db99ea044bf48ae7926cab1fb1a0",
       "value": "Select Assets to Claim:"
      }
     },
     "c9a3f61679314251bce2efebc6d156f8": {
      "model_module": "@jupyter-widgets/controls",
      "model_module_version": "1.5.0",
      "model_name": "DescriptionStyleModel",
      "state": {
       "description_width": ""
      }
     },
     "c9a927e0dbfc45e4867354b37cf50a7c": {
      "model_module": "@jupyter-widgets/base",
      "model_module_version": "1.2.0",
      "model_name": "LayoutModel",
      "state": {}
     },
     "c9ff11476eab47df93565f5ac280023d": {
      "model_module": "@jupyter-widgets/controls",
      "model_module_version": "1.5.0",
      "model_name": "CheckboxModel",
      "state": {
       "description": "DAI/ALCX (3.61515)",
       "disabled": false,
       "layout": "IPY_MODEL_b71cab67a1bd4e408530b646420a20bc",
       "style": "IPY_MODEL_0bdbf1eff7644b49ae112c14ec99a27b",
       "value": false
      }
     },
     "ca0940e1058946c1911b4a7ac1e0dd0d": {
      "model_module": "@jupyter-widgets/controls",
      "model_module_version": "1.5.0",
      "model_name": "DescriptionStyleModel",
      "state": {
       "description_width": ""
      }
     },
     "ca120c0409d04b0f8cc65e22f3d0ed68": {
      "model_module": "@jupyter-widgets/controls",
      "model_module_version": "1.5.0",
      "model_name": "LabelModel",
      "state": {
       "layout": "IPY_MODEL_f1e764fcb8264260bf56516624f1cde6",
       "style": "IPY_MODEL_1aaa7c091d444dfeba066c2b02915ac8",
       "value": "Select Pool to Bond:"
      }
     },
     "ca19c2ee7fbe4c12b85319ff3cb5669b": {
      "model_module": "@jupyter-widgets/controls",
      "model_module_version": "1.5.0",
      "model_name": "DropdownModel",
      "state": {
       "_options_labels": [
        "WETH/ALCX",
        "DAI/ALCX",
        "CVX/ALCX",
        "ALCX-ETH SLP"
       ],
       "index": 2,
       "layout": "IPY_MODEL_8379c1d4248746958a1a65f37a62f3bf",
       "style": "IPY_MODEL_d98c555558a14fe4baeccd451f9f4122"
      }
     },
     "ca267432c9184834b7814a7126c3d1bd": {
      "model_module": "@jupyter-widgets/controls",
      "model_module_version": "1.5.0",
      "model_name": "HBoxModel",
      "state": {
       "children": [
        "IPY_MODEL_572867d9229e41bcaa9b251a7f17d0ef",
        "IPY_MODEL_9b26e42d459a4b018fd25b3996e19fac"
       ],
       "layout": "IPY_MODEL_c4d6019d4bf34c3d91cf27ec80cd2302"
      }
     },
     "ca358b89404d4c0289f8fe99f7171fda": {
      "model_module": "@jupyter-widgets/controls",
      "model_module_version": "1.5.0",
      "model_name": "DescriptionStyleModel",
      "state": {
       "description_width": ""
      }
     },
     "ca67ba8f1fe047988c2d68409a7ad83f": {
      "model_module": "@jupyter-widgets/controls",
      "model_module_version": "1.5.0",
      "model_name": "CheckboxModel",
      "state": {
       "description": "WETH/ALCX (7.4494)",
       "disabled": false,
       "layout": "IPY_MODEL_db0ba23507c54fb1b3e1fe3d2251f345",
       "style": "IPY_MODEL_e29530f4b2b74d3eb33aed627ae8be4d",
       "value": true
      }
     },
     "ca89e4af9db34c4dbdbc14d714f099fd": {
      "model_module": "@jupyter-widgets/controls",
      "model_module_version": "1.5.0",
      "model_name": "DescriptionStyleModel",
      "state": {
       "description_width": ""
      }
     },
     "cac3982c118845ec999737dfd49a3c10": {
      "model_module": "@jupyter-widgets/controls",
      "model_module_version": "1.5.0",
      "model_name": "LabelModel",
      "state": {
       "layout": "IPY_MODEL_ecd709f37df948829f871867c5fe5705",
       "style": "IPY_MODEL_1fb0bd3109a64291830f6113a4daa297",
       "value": "Max Input: 5.986032034450817 WETH"
      }
     },
     "cae09b91d899466c9694f3abb29c0a0f": {
      "model_module": "@jupyter-widgets/controls",
      "model_module_version": "1.5.0",
      "model_name": "DescriptionStyleModel",
      "state": {
       "description_width": ""
      }
     },
     "cae71cf6fa094328a84a4ea9f1ac8a12": {
      "model_module": "@jupyter-widgets/controls",
      "model_module_version": "1.5.0",
      "model_name": "ButtonStyleModel",
      "state": {}
     },
     "cafc4f95e7d44a7f8156bb64ceb80476": {
      "model_module": "@jupyter-widgets/controls",
      "model_module_version": "1.5.0",
      "model_name": "DescriptionStyleModel",
      "state": {
       "description_width": ""
      }
     },
     "cb0acd4ed213452ea022076248832796": {
      "model_module": "@jupyter-widgets/controls",
      "model_module_version": "1.5.0",
      "model_name": "DescriptionStyleModel",
      "state": {
       "description_width": ""
      }
     },
     "cb3926ea213d4188b51f59441dfe1f48": {
      "model_module": "@jupyter-widgets/controls",
      "model_module_version": "1.5.0",
      "model_name": "CheckboxModel",
      "state": {
       "description": "ALCX-ETH SLP (0.0)",
       "disabled": false,
       "layout": "IPY_MODEL_7ac4757fc3e64568806cb4dae27c04f6",
       "style": "IPY_MODEL_1e0274e078834b1a8603f069e4913651",
       "value": false
      }
     },
     "cb5a6a45bb1b411ab095438b85454ceb": {
      "model_module": "@jupyter-widgets/controls",
      "model_module_version": "1.5.0",
      "model_name": "ButtonStyleModel",
      "state": {}
     },
     "cb5ad2bf5c8b4d21b203e2c8d417ac87": {
      "model_module": "@jupyter-widgets/controls",
      "model_module_version": "1.5.0",
      "model_name": "LabelModel",
      "state": {
       "layout": "IPY_MODEL_1abcab8123c247a392127641b14dab13",
       "style": "IPY_MODEL_aaeefa0427c84808891ecfe8aead8874"
      }
     },
     "cb64aef0921041f4b4e35402cd194ccd": {
      "model_module": "@jupyter-widgets/controls",
      "model_module_version": "1.5.0",
      "model_name": "DescriptionStyleModel",
      "state": {
       "description_width": ""
      }
     },
     "cb865ed59bc44ae888f2cb380737603a": {
      "model_module": "@jupyter-widgets/controls",
      "model_module_version": "1.5.0",
      "model_name": "DescriptionStyleModel",
      "state": {
       "description_width": ""
      }
     },
     "cb9844eb4e7a478cb6e8b88187d2e9cf": {
      "model_module": "@jupyter-widgets/base",
      "model_module_version": "1.2.0",
      "model_name": "LayoutModel",
      "state": {}
     },
     "cbc75d8413b64097a1246cacfc454a80": {
      "model_module": "@jupyter-widgets/controls",
      "model_module_version": "1.5.0",
      "model_name": "LabelModel",
      "state": {
       "layout": "IPY_MODEL_79e1ee6b452841a9b59a72fc30c93ca1",
       "style": "IPY_MODEL_483b01a18a64487bab00f9607eac5840",
       "value": "Select Pool to Bond:"
      }
     },
     "cbfb6d217c4a4189a7b3340dc12a2520": {
      "model_module": "@jupyter-widgets/controls",
      "model_module_version": "1.5.0",
      "model_name": "CheckboxModel",
      "state": {
       "description": "WETH/ALCX (7.21554)",
       "disabled": false,
       "layout": "IPY_MODEL_38ada1413d9249c38f5fcac0c62a6bfa",
       "style": "IPY_MODEL_045f747a8f46414ca87ff35f9c8c9433",
       "value": true
      }
     },
     "cc286aec993e4ee3a5bf8927e238bbc8": {
      "model_module": "@jupyter-widgets/controls",
      "model_module_version": "1.5.0",
      "model_name": "CheckboxModel",
      "state": {
       "description": "ALCX-ETH SLP (0.0)",
       "disabled": false,
       "layout": "IPY_MODEL_930429099053492293b89f10d0b4f3de",
       "style": "IPY_MODEL_20a9116954b74144b2683624102ea94c",
       "value": false
      }
     },
     "cc329e141611468db77dda815b955356": {
      "model_module": "@jupyter-widgets/controls",
      "model_module_version": "1.5.0",
      "model_name": "ButtonStyleModel",
      "state": {}
     },
     "cc4aa88cb1dc4328b7d5b3276593da59": {
      "model_module": "@jupyter-widgets/controls",
      "model_module_version": "1.5.0",
      "model_name": "LabelModel",
      "state": {
       "layout": "IPY_MODEL_93949860f636460a9f1502ba5a110dfb",
       "style": "IPY_MODEL_969a2dc29bf34728b949d6d5b509fdee",
       "value": "You Will Get: 82.88610259509029 ALCX"
      }
     },
     "cc619910712043b9a3407795e4a002b3": {
      "model_module": "@jupyter-widgets/base",
      "model_module_version": "1.2.0",
      "model_name": "LayoutModel",
      "state": {}
     },
     "cc7347d20939421f8fb810034340e42c": {
      "model_module": "@jupyter-widgets/base",
      "model_module_version": "1.2.0",
      "model_name": "LayoutModel",
      "state": {}
     },
     "cc826968327b4763a44678f77d297fb1": {
      "model_module": "@jupyter-widgets/controls",
      "model_module_version": "1.5.0",
      "model_name": "TextModel",
      "state": {
       "description": "Address: ",
       "layout": "IPY_MODEL_d08e7439a3ce40629d8dbdc2db81b14a",
       "style": "IPY_MODEL_c367f2b321374e878e58a00d1dd95a05",
       "value": "0xeEEC0e4927704ab3BBE5df7F4EfFa818b43665a3"
      }
     },
     "cc862cd7711a4040a3ac760516a6bdab": {
      "model_module": "@jupyter-widgets/base",
      "model_module_version": "1.2.0",
      "model_name": "LayoutModel",
      "state": {}
     },
     "cc892d4322334f1c97467be411065f52": {
      "model_module": "@jupyter-widgets/base",
      "model_module_version": "1.2.0",
      "model_name": "LayoutModel",
      "state": {}
     },
     "cc8aaef814654711b2dbebb340ff7e74": {
      "model_module": "@jupyter-widgets/controls",
      "model_module_version": "1.5.0",
      "model_name": "DescriptionStyleModel",
      "state": {
       "description_width": ""
      }
     },
     "cca28f2386a546f1972d0db16519c724": {
      "model_module": "@jupyter-widgets/controls",
      "model_module_version": "1.5.0",
      "model_name": "DescriptionStyleModel",
      "state": {
       "description_width": ""
      }
     },
     "cca351c4374341f2af51c3c8171c9064": {
      "model_module": "@jupyter-widgets/controls",
      "model_module_version": "1.5.0",
      "model_name": "DescriptionStyleModel",
      "state": {
       "description_width": ""
      }
     },
     "cca36b05c7974965a1bd10fc38960fb3": {
      "model_module": "@jupyter-widgets/base",
      "model_module_version": "1.2.0",
      "model_name": "LayoutModel",
      "state": {}
     },
     "ccc5d9f6f5694afba52d4e3f24b6e3d6": {
      "model_module": "@jupyter-widgets/controls",
      "model_module_version": "1.5.0",
      "model_name": "VBoxModel",
      "state": {
       "children": [
        "IPY_MODEL_2a9bb310ef974cf79a4133d2ea60b37b",
        "IPY_MODEL_c19ffc8e31b846b49db0dd0eaa83678e",
        "IPY_MODEL_9b61465068854f9fbc0ce7627a75b48b",
        "IPY_MODEL_aa14938af0c74aa6a7b7440f5e02804b",
        "IPY_MODEL_64306504d5c44ef8bf8c20bb70daf8a6",
        "IPY_MODEL_c0d5599d51d34678afaec2d07f01b8b8",
        "IPY_MODEL_9037b1e5f9134b2a802b97bcd287beb3",
        "IPY_MODEL_dc2eade2cd76428f9fccfeec6335d59e",
        "IPY_MODEL_658e667e6e01452489768111ffee2497",
        "IPY_MODEL_22957dbc977141df9ba4f7a62b77a076",
        "IPY_MODEL_5d3005ccccf241359591d4a1011faa77",
        "IPY_MODEL_7509718b49204a8d9d5bafb3af05b1d0",
        "IPY_MODEL_c072fe88db7148e199747c31b1a57baa"
       ],
       "layout": "IPY_MODEL_5dd80a8b49884158bd92fe3d1c496b31"
      }
     },
     "ccef72017c8c490fb15a548c43132bec": {
      "model_module": "@jupyter-widgets/controls",
      "model_module_version": "1.5.0",
      "model_name": "VBoxModel",
      "state": {
       "children": [
        "IPY_MODEL_fad153ea406947e39b03026cbb06176c",
        "IPY_MODEL_e786719ac904459d8a7cbec525b682a1",
        "IPY_MODEL_908928bfb2044441bc814c7abd0e5427",
        "IPY_MODEL_9f49cd9bcfea4a589adc51ef62bd4ab8",
        "IPY_MODEL_5fdfb1234ba54c7b94f59c7a88ff63a2",
        "IPY_MODEL_8046ea9f196d485689c2dd6a09814fb7",
        "IPY_MODEL_48ad079001ce4ba9bcb8d8b3d8ecfaa7",
        "IPY_MODEL_09acc75c144b4bedb9e7604df67f8263",
        "IPY_MODEL_9b260e0956624832a0a3db25685e7820",
        "IPY_MODEL_9a9f3356659e4fd2aab14b2f7056ca10",
        "IPY_MODEL_f18c7bdcf2224f0faabb8d41c251b93e",
        "IPY_MODEL_519ebf7042174b389bd1bbc72433cf85",
        "IPY_MODEL_bf5d90803cfd4f2a8605e0a4309caad8"
       ],
       "layout": "IPY_MODEL_3ab0622eed2f442284741963beb698e5"
      }
     },
     "ccf614dd7b694bed89f3c910a56bf55f": {
      "model_module": "@jupyter-widgets/controls",
      "model_module_version": "1.5.0",
      "model_name": "DescriptionStyleModel",
      "state": {
       "description_width": ""
      }
     },
     "ccf69abc24c84f67ad6bba8327c24b0c": {
      "model_module": "@jupyter-widgets/controls",
      "model_module_version": "1.5.0",
      "model_name": "HBoxModel",
      "state": {
       "children": [
        "IPY_MODEL_4fc49c5f26e3494299d05bf87a85aa56",
        "IPY_MODEL_6cd73e74c3f04956ac1b940891ecbb9c"
       ],
       "layout": "IPY_MODEL_1abd3199bab64780b2968e716ff3c753"
      }
     },
     "cd09218816e5482ebff0ffcba205bf90": {
      "model_module": "@jupyter-widgets/base",
      "model_module_version": "1.2.0",
      "model_name": "LayoutModel",
      "state": {}
     },
     "cd354ff35ae948c0baa515e7e64b3ee4": {
      "model_module": "@jupyter-widgets/base",
      "model_module_version": "1.2.0",
      "model_name": "LayoutModel",
      "state": {}
     },
     "cd513a11a5184baa8b1c9f82b48c71d9": {
      "model_module": "@jupyter-widgets/controls",
      "model_module_version": "1.5.0",
      "model_name": "LabelModel",
      "state": {
       "layout": "IPY_MODEL_113c30e069e04a51a12db1a9208750fa",
       "style": "IPY_MODEL_5cfcbbbf6f4740e4b810448ff66aad45"
      }
     },
     "cd51b7f069ab42eb927aab63df4e8abf": {
      "model_module": "@jupyter-widgets/controls",
      "model_module_version": "1.5.0",
      "model_name": "DescriptionStyleModel",
      "state": {
       "description_width": ""
      }
     },
     "cd65fb2b27f1456397e52ba725cc78f5": {
      "model_module": "@jupyter-widgets/controls",
      "model_module_version": "1.5.0",
      "model_name": "DescriptionStyleModel",
      "state": {
       "description_width": ""
      }
     },
     "cd79ddee524e41e1935bc9dc7c547870": {
      "model_module": "@jupyter-widgets/base",
      "model_module_version": "1.2.0",
      "model_name": "LayoutModel",
      "state": {
       "width": "200px"
      }
     },
     "cd9633ee16c8402883f1f3a33bc9440b": {
      "model_module": "@jupyter-widgets/controls",
      "model_module_version": "1.5.0",
      "model_name": "HBoxModel",
      "state": {
       "children": [
        "IPY_MODEL_91026d11477649eaae889d888ba6090b",
        "IPY_MODEL_08f558523cf94039b1ee372e4deb3a8f"
       ],
       "layout": "IPY_MODEL_2715794e00414b84a19214c60f1c3d84"
      }
     },
     "cdcb46697011443a81edd1654c342c02": {
      "model_module": "@jupyter-widgets/controls",
      "model_module_version": "1.5.0",
      "model_name": "DescriptionStyleModel",
      "state": {
       "description_width": ""
      }
     },
     "cdeba1b83d72484582abf3f69fee9eff": {
      "model_module": "@jupyter-widgets/controls",
      "model_module_version": "1.5.0",
      "model_name": "CheckboxModel",
      "state": {
       "description": "Use Wallet Balance (72.80737)",
       "disabled": false,
       "layout": "IPY_MODEL_e6dab7ac72234d6e98ea2ae0275ddb61",
       "style": "IPY_MODEL_1b3c36d9118f4532a27586aa5226db46",
       "value": true
      }
     },
     "ce27dbb805c34c94be4afef04557c774": {
      "model_module": "@jupyter-widgets/controls",
      "model_module_version": "1.5.0",
      "model_name": "CheckboxModel",
      "state": {
       "description": "Use Wallet Balance (72.80737)",
       "disabled": false,
       "layout": "IPY_MODEL_3a431cc73fed425a87f8e00d236af0e7",
       "style": "IPY_MODEL_f6440166ebd64abb9f80e25805dace7f",
       "value": true
      }
     },
     "ce55893be1974e068866a3e917b41c6c": {
      "model_module": "@jupyter-widgets/controls",
      "model_module_version": "1.5.0",
      "model_name": "DescriptionStyleModel",
      "state": {
       "description_width": ""
      }
     },
     "ce717ea58dfa4249a2a68e247fd1605a": {
      "model_module": "@jupyter-widgets/base",
      "model_module_version": "1.2.0",
      "model_name": "LayoutModel",
      "state": {}
     },
     "ce760f4cdbf64122b1744d54a1b1e8fe": {
      "model_module": "@jupyter-widgets/base",
      "model_module_version": "1.2.0",
      "model_name": "LayoutModel",
      "state": {
       "width": "200px"
      }
     },
     "ce961a2d58c14b97bd820d73d4cdf72e": {
      "model_module": "@jupyter-widgets/controls",
      "model_module_version": "1.5.0",
      "model_name": "LabelModel",
      "state": {
       "layout": "IPY_MODEL_70bdba93af57448caa336b17660f9d5d",
       "style": "IPY_MODEL_24d3c722bcef4576858fe32dbbb06324"
      }
     },
     "ce972b8ed5824a1c89b04aef67c47c4f": {
      "model_module": "@jupyter-widgets/controls",
      "model_module_version": "1.5.0",
      "model_name": "CheckboxModel",
      "state": {
       "description": "ALCX-ETH SLP (0.0)",
       "disabled": false,
       "layout": "IPY_MODEL_ae9d2554b66440b0b400e6cef0cfd212",
       "style": "IPY_MODEL_a69f51dee118488b927cc99c1a3cc66c",
       "value": false
      }
     },
     "ce9bbf110b2a4a4094506beccee8b5c0": {
      "model_module": "@jupyter-widgets/controls",
      "model_module_version": "1.5.0",
      "model_name": "DescriptionStyleModel",
      "state": {
       "description_width": ""
      }
     },
     "cec19b1728bb49588c65e98e1ed1b22f": {
      "model_module": "@jupyter-widgets/base",
      "model_module_version": "1.2.0",
      "model_name": "LayoutModel",
      "state": {}
     },
     "cec56e9b55ea49e5b2930db82aa42c29": {
      "model_module": "@jupyter-widgets/controls",
      "model_module_version": "1.5.0",
      "model_name": "ButtonModel",
      "state": {
       "description": "Generate MultiCall Data",
       "layout": "IPY_MODEL_038092cefd9c43848d88c914814be2ff",
       "style": "IPY_MODEL_b071a6ee10f94ecb825c9ac849b11bc2"
      }
     },
     "ceca9662dda14813aa8b1b114b20679a": {
      "model_module": "@jupyter-widgets/controls",
      "model_module_version": "1.5.0",
      "model_name": "VBoxModel",
      "state": {
       "children": [
        "IPY_MODEL_c359308d084041299f9f53b031aa3306",
        "IPY_MODEL_f27e8aa346e74aadad5708fd6a789316",
        "IPY_MODEL_647530f5c2fa42c3aedb1215dea50df0",
        "IPY_MODEL_aa9335561f584c319e74d4c4ffa79540",
        "IPY_MODEL_50133123f3244ddab2647a2d857399aa",
        "IPY_MODEL_36aa9384f45243c6af5557fd3403ccad",
        "IPY_MODEL_e39bd49bd7d7452db3a95b0e442b6f0f",
        "IPY_MODEL_6fda68574dca476b8f9866dfec7ffe9f",
        "IPY_MODEL_43c2061b709c459b903b0789bbc21b0e",
        "IPY_MODEL_f0832530697c4f19bdf3db0383ecb997",
        "IPY_MODEL_c74fd885bca647f0a680bfe6c13eead9",
        "IPY_MODEL_49e67f1d1b0b4212a1332590f1917f27",
        "IPY_MODEL_e810b9f942fd4d68882187f010c10560"
       ],
       "layout": "IPY_MODEL_459da8987f8c42128468aaa56c4b23f6"
      }
     },
     "ced5928080da4df797be215e8b20792b": {
      "model_module": "@jupyter-widgets/controls",
      "model_module_version": "1.5.0",
      "model_name": "HBoxModel",
      "state": {
       "children": [
        "IPY_MODEL_c87d0d2e2d6647d9a65db180fa2006e5",
        "IPY_MODEL_e79d29413b6447cc9d1135fdfa72777e"
       ],
       "layout": "IPY_MODEL_5d67543980494e9690ee43c001c0fe7d"
      }
     },
     "cee2b6b60c3849bba1205202bb471682": {
      "model_module": "@jupyter-widgets/controls",
      "model_module_version": "1.5.0",
      "model_name": "LabelModel",
      "state": {
       "layout": "IPY_MODEL_8ad1217c1b4447bea09bfd043786e8c9",
       "style": "IPY_MODEL_6019c4139c2e41e8aee38382d71086dd"
      }
     },
     "cf09d6d08c6442ae839facb86e987041": {
      "model_module": "@jupyter-widgets/controls",
      "model_module_version": "1.5.0",
      "model_name": "DescriptionStyleModel",
      "state": {
       "description_width": ""
      }
     },
     "cf0a648418d34dc38850767a27ffdffe": {
      "model_module": "@jupyter-widgets/base",
      "model_module_version": "1.2.0",
      "model_name": "LayoutModel",
      "state": {}
     },
     "cf16ce5715364158bbf115c65e418e77": {
      "model_module": "@jupyter-widgets/controls",
      "model_module_version": "1.5.0",
      "model_name": "CheckboxModel",
      "state": {
       "description": "CVX/ALCX (0.0)",
       "disabled": false,
       "layout": "IPY_MODEL_84f26012eab140a09a91e53ef23a4cbe",
       "style": "IPY_MODEL_15cadc94f5174622af583c60b55a69f9",
       "value": false
      }
     },
     "cf3bd6751814440a8c3729b37a1c1366": {
      "model_module": "@jupyter-widgets/controls",
      "model_module_version": "1.5.0",
      "model_name": "DescriptionStyleModel",
      "state": {
       "description_width": ""
      }
     },
     "cf46c21deb2c4c11b07be8db2cdc479e": {
      "model_module": "@jupyter-widgets/base",
      "model_module_version": "1.2.0",
      "model_name": "LayoutModel",
      "state": {}
     },
     "cf816fda0525442ba853b7eae6402f8c": {
      "model_module": "@jupyter-widgets/base",
      "model_module_version": "1.2.0",
      "model_name": "LayoutModel",
      "state": {}
     },
     "cfa5f6dfccb04c8a9e1dc7bec60202c0": {
      "model_module": "@jupyter-widgets/controls",
      "model_module_version": "1.5.0",
      "model_name": "VBoxModel",
      "state": {
       "children": [
        "IPY_MODEL_a39aa1795f1a468783a11c29bc2e7b55",
        "IPY_MODEL_bc9abd990ccf4d4491ae2318c16dfd2c",
        "IPY_MODEL_46bc240661ae4c25b7b6d222f5f83d7e",
        "IPY_MODEL_e886a179b44148279419fb64eb114707",
        "IPY_MODEL_1764ee3e7abc4a3d91805c152890f034",
        "IPY_MODEL_aea1a967eedf4fff82607a54c345e178",
        "IPY_MODEL_889246d4a9914de0bc7a4d99a4d42859",
        "IPY_MODEL_82a4c10c3f37439a8438679ecdbe199a",
        "IPY_MODEL_8351774e11084630b949b18d891d1178",
        "IPY_MODEL_a812eced8a5046dcaa1692a56fb4a55a",
        "IPY_MODEL_dec44bcf804c4b209c07a50d60c9f91d",
        "IPY_MODEL_8b4e9268841b48ed9238c8a578a047d5",
        "IPY_MODEL_d41eca1699e844f7ade55be9d45f4601",
        "IPY_MODEL_cec56e9b55ea49e5b2930db82aa42c29"
       ],
       "layout": "IPY_MODEL_67913fa68d78461e93ce04880a02e1b8"
      }
     },
     "cfaa199a9fa94a4bb73f7feb01bc4a1e": {
      "model_module": "@jupyter-widgets/controls",
      "model_module_version": "1.5.0",
      "model_name": "DescriptionStyleModel",
      "state": {
       "description_width": ""
      }
     },
     "cfca1d52af6e47c2a766ac2d8247e896": {
      "model_module": "@jupyter-widgets/controls",
      "model_module_version": "1.5.0",
      "model_name": "VBoxModel",
      "state": {
       "children": [
        "IPY_MODEL_f104e31791434f8eac161c47deddf5ba",
        "IPY_MODEL_f6e4d70c31dc4ce0a0638a4b69b25095",
        "IPY_MODEL_0756e01907e2461c97786df5b779fad8",
        "IPY_MODEL_2e0caed52e284ec9b6aa087def1698ee",
        "IPY_MODEL_66d0262176d14b9eb731a0dc1f6e7cc1",
        "IPY_MODEL_6a982d7fbfe8426cac7e76b0d7d77c01",
        "IPY_MODEL_fd54cd8930d8476fbc3835923167c141",
        "IPY_MODEL_e36ab2a3bef04c3586abcb43a4c8e78c",
        "IPY_MODEL_2f7cb36ed3d443838e23fa13759c69fe",
        "IPY_MODEL_0287dff6f80e414b8cdddcad37e3fc81",
        "IPY_MODEL_ed158d2532ff42faa51e6d4c1ff4c062",
        "IPY_MODEL_65351a8eb02949879e63349fdf8c4d8e",
        "IPY_MODEL_ec0714a3e77b47e38722fa43f816013e",
        "IPY_MODEL_b2c38878851b4bfa85e22effdc3f157e"
       ],
       "layout": "IPY_MODEL_4d72151a924748aa86a6dae845fd31c5"
      }
     },
     "cfdf0d6f320f4bc88e5034858c14b497": {
      "model_module": "@jupyter-widgets/controls",
      "model_module_version": "1.5.0",
      "model_name": "CheckboxModel",
      "state": {
       "description": "Use Wallet Balance (72.80737)",
       "disabled": false,
       "layout": "IPY_MODEL_0af043e620404b8dba6938c00cd419cb",
       "style": "IPY_MODEL_d5814564934c440b81dc28139d4da584",
       "value": false
      }
     },
     "cfdf787f8cdc4076a4f45d0af5598290": {
      "model_module": "@jupyter-widgets/base",
      "model_module_version": "1.2.0",
      "model_name": "LayoutModel",
      "state": {
       "width": "200px"
      }
     },
     "cff1e632426f47edbc364e85496bf458": {
      "model_module": "@jupyter-widgets/controls",
      "model_module_version": "1.5.0",
      "model_name": "DropdownModel",
      "state": {
       "_options_labels": [
        "WETH/ALCX",
        "DAI/ALCX",
        "CVX/ALCX",
        "ALCX-ETH SLP"
       ],
       "index": 3,
       "layout": "IPY_MODEL_c730d7d1e4c448708f26d100cb1ddc4b",
       "style": "IPY_MODEL_1ea53cf58bdd4b91aa760091f72d11db"
      }
     },
     "d03a072cb98d43cfbcf7d9168fdf00d5": {
      "model_module": "@jupyter-widgets/controls",
      "model_module_version": "1.5.0",
      "model_name": "CheckboxModel",
      "state": {
       "description": "DAI/ALCX (3.33995)",
       "disabled": false,
       "layout": "IPY_MODEL_c2d982e4151d4de98ac9483e7e9032c6",
       "style": "IPY_MODEL_476d9339cc9147c281343da9c37fab71",
       "value": true
      }
     },
     "d0561906c2cb4509833649a5c6f4780b": {
      "model_module": "@jupyter-widgets/base",
      "model_module_version": "1.2.0",
      "model_name": "LayoutModel",
      "state": {
       "width": "200px"
      }
     },
     "d06820754ce94313857ef473a8c34156": {
      "model_module": "@jupyter-widgets/controls",
      "model_module_version": "1.5.0",
      "model_name": "DescriptionStyleModel",
      "state": {
       "description_width": ""
      }
     },
     "d06d37ff575346d28a007143c5bcb3c2": {
      "model_module": "@jupyter-widgets/controls",
      "model_module_version": "1.5.0",
      "model_name": "DescriptionStyleModel",
      "state": {
       "description_width": ""
      }
     },
     "d08e7439a3ce40629d8dbdc2db81b14a": {
      "model_module": "@jupyter-widgets/base",
      "model_module_version": "1.2.0",
      "model_name": "LayoutModel",
      "state": {
       "width": "425px"
      }
     },
     "d09948b3813b4ecda7092f146cdcbf10": {
      "model_module": "@jupyter-widgets/controls",
      "model_module_version": "1.5.0",
      "model_name": "HBoxModel",
      "state": {
       "children": [
        "IPY_MODEL_1270eccdc4d74af1b25a9ef9f51c3538",
        "IPY_MODEL_596e04ad870544f782e4ff429148d8e7"
       ],
       "layout": "IPY_MODEL_692405f1e93f48de81cb63c3978fa6a2"
      }
     },
     "d0a3a48cfd8d4e9eb34cf5b714aac1fb": {
      "model_module": "@jupyter-widgets/base",
      "model_module_version": "1.2.0",
      "model_name": "LayoutModel",
      "state": {}
     },
     "d0c653910a3342119485d18e82a79f55": {
      "model_module": "@jupyter-widgets/base",
      "model_module_version": "1.2.0",
      "model_name": "LayoutModel",
      "state": {}
     },
     "d0cef793dd3c49b6ac1357d09a636c65": {
      "model_module": "@jupyter-widgets/base",
      "model_module_version": "1.2.0",
      "model_name": "LayoutModel",
      "state": {
       "width": "425px"
      }
     },
     "d0d38e3798664a23b8960d59de70f53c": {
      "model_module": "@jupyter-widgets/controls",
      "model_module_version": "1.5.0",
      "model_name": "DescriptionStyleModel",
      "state": {
       "description_width": ""
      }
     },
     "d108e4c7ba354cb8be319014e1d2d618": {
      "model_module": "@jupyter-widgets/controls",
      "model_module_version": "1.5.0",
      "model_name": "DescriptionStyleModel",
      "state": {
       "description_width": ""
      }
     },
     "d14a502cdaf44c48b1f4e5ac8801804d": {
      "model_module": "@jupyter-widgets/controls",
      "model_module_version": "1.5.0",
      "model_name": "LabelModel",
      "state": {
       "layout": "IPY_MODEL_b93b8684271742ec902e3cbc4febe779",
       "style": "IPY_MODEL_48486ac0350d4aedb3954af4cc99e162",
       "value": "Max Payout: 96.15973854597343 ALCX"
      }
     },
     "d19f11f308864f2b9e09cdfc805138c9": {
      "model_module": "@jupyter-widgets/controls",
      "model_module_version": "1.5.0",
      "model_name": "CheckboxModel",
      "state": {
       "description": "Use Wallet Balance (72.80737)",
       "disabled": false,
       "layout": "IPY_MODEL_4edd743c0b9b44fbbdc2a30e23beedb9",
       "style": "IPY_MODEL_4ec03fc9f28a4fd2911704b93bd3dc79",
       "value": false
      }
     },
     "d1a46b43eb9845b9b293d68696f1a627": {
      "model_module": "@jupyter-widgets/controls",
      "model_module_version": "1.5.0",
      "model_name": "ButtonStyleModel",
      "state": {}
     },
     "d1d14f91ca0745d085e2985b23bb33c7": {
      "model_module": "@jupyter-widgets/controls",
      "model_module_version": "1.5.0",
      "model_name": "VBoxModel",
      "state": {
       "children": [
        "IPY_MODEL_a7dd4e546a8e48568ac024a09e551093",
        "IPY_MODEL_f4efcaf541774bb7a80cb4143d450507",
        "IPY_MODEL_49327291681d4a7f96d06bf97a4f1dac",
        "IPY_MODEL_d19f11f308864f2b9e09cdfc805138c9",
        "IPY_MODEL_9826d8b56b604ca3920211b71e33fbeb",
        "IPY_MODEL_283919188b4646e388d28f1d784ed9da",
        "IPY_MODEL_6cb9d5c8bc024b19be7dea8a2c3636f1",
        "IPY_MODEL_f04187f5b825418283ba36590c001e47",
        "IPY_MODEL_3a51fffed2f64db385f92db510d3fe0a",
        "IPY_MODEL_341dddfe898b45c2b474a6ed4f7b522e",
        "IPY_MODEL_cac3982c118845ec999737dfd49a3c10",
        "IPY_MODEL_baf1f95a3a754ad894ecdd5b304737d7",
        "IPY_MODEL_a0dc8116edc24a278eb958ac7e47f270",
        "IPY_MODEL_e47fc44d082c433eac16a902d0bc7058"
       ],
       "layout": "IPY_MODEL_4973e1cede90406486c78b88feef8617"
      }
     },
     "d1e8ebdb5f9b477e90aaccdadf16ffaa": {
      "model_module": "@jupyter-widgets/base",
      "model_module_version": "1.2.0",
      "model_name": "LayoutModel",
      "state": {}
     },
     "d1ebdc6f926d4e1aa5c4ad56f2b9cced": {
      "model_module": "@jupyter-widgets/base",
      "model_module_version": "1.2.0",
      "model_name": "LayoutModel",
      "state": {
       "width": "425px"
      }
     },
     "d20e74fb63c74add8c54b85202e965a4": {
      "model_module": "@jupyter-widgets/base",
      "model_module_version": "1.2.0",
      "model_name": "LayoutModel",
      "state": {}
     },
     "d2115fca03b549bf9407b8f11c892a98": {
      "model_module": "@jupyter-widgets/controls",
      "model_module_version": "1.5.0",
      "model_name": "DescriptionStyleModel",
      "state": {
       "description_width": ""
      }
     },
     "d222ed89318d4e76b4ce6f383352d2aa": {
      "model_module": "@jupyter-widgets/base",
      "model_module_version": "1.2.0",
      "model_name": "LayoutModel",
      "state": {}
     },
     "d26d770ecc674e14973613cf2e79500f": {
      "model_module": "@jupyter-widgets/controls",
      "model_module_version": "1.5.0",
      "model_name": "LabelModel",
      "state": {
       "layout": "IPY_MODEL_b12564310c274dcf99956ef20e4da187",
       "style": "IPY_MODEL_c258481cac06435caf175f7d7910f8c1",
       "value": "[Current block: 13905499]"
      }
     },
     "d2be80e602c1403286984925ba00dd52": {
      "model_module": "@jupyter-widgets/base",
      "model_module_version": "1.2.0",
      "model_name": "LayoutModel",
      "state": {
       "width": "425px"
      }
     },
     "d2ea0f09ed4e4c0589028729e0470964": {
      "model_module": "@jupyter-widgets/base",
      "model_module_version": "1.2.0",
      "model_name": "LayoutModel",
      "state": {}
     },
     "d300abbc7c6940d0a3a3b84bbbbfdb60": {
      "model_module": "@jupyter-widgets/base",
      "model_module_version": "1.2.0",
      "model_name": "LayoutModel",
      "state": {}
     },
     "d31fc33b0d704a41b4159e76ef238321": {
      "model_module": "@jupyter-widgets/controls",
      "model_module_version": "1.5.0",
      "model_name": "DescriptionStyleModel",
      "state": {
       "description_width": ""
      }
     },
     "d32766ceb89b48049e3420ce65579a07": {
      "model_module": "@jupyter-widgets/base",
      "model_module_version": "1.2.0",
      "model_name": "LayoutModel",
      "state": {}
     },
     "d33019af258447c48b965e09dbc2ff62": {
      "model_module": "@jupyter-widgets/base",
      "model_module_version": "1.2.0",
      "model_name": "LayoutModel",
      "state": {}
     },
     "d348dddebe8e4329883970551191d232": {
      "model_module": "@jupyter-widgets/base",
      "model_module_version": "1.2.0",
      "model_name": "LayoutModel",
      "state": {}
     },
     "d3636143a3c04579a4c324eee5d61749": {
      "model_module": "@jupyter-widgets/controls",
      "model_module_version": "1.5.0",
      "model_name": "LabelModel",
      "state": {
       "layout": "IPY_MODEL_88421758384244a393dca24afc63b20a",
       "style": "IPY_MODEL_ab253d716f424cc8b96bc4489372ffba"
      }
     },
     "d36688b0f2b243379014cd1444f06264": {
      "model_module": "@jupyter-widgets/controls",
      "model_module_version": "1.5.0",
      "model_name": "DescriptionStyleModel",
      "state": {
       "description_width": ""
      }
     },
     "d382aa11f0b24366931e09e085e614ed": {
      "model_module": "@jupyter-widgets/controls",
      "model_module_version": "1.5.0",
      "model_name": "LabelModel",
      "state": {
       "layout": "IPY_MODEL_8112ef662f01460089b1aff973143737",
       "style": "IPY_MODEL_1d9cdd82a874436d845748e2edcf383a",
       "value": "Max Input: 5.959727094438163 WETH"
      }
     },
     "d3a4f00905c5447b8cde84b3799e6318": {
      "model_module": "@jupyter-widgets/controls",
      "model_module_version": "1.5.0",
      "model_name": "LabelModel",
      "state": {
       "layout": "IPY_MODEL_01520542817c45d4a899caa4b8c8385b",
       "style": "IPY_MODEL_81515dc95bf747e9a3972a1b90d8e095"
      }
     },
     "d3b8a40636774ab98a913d2687544f3f": {
      "model_module": "@jupyter-widgets/controls",
      "model_module_version": "1.5.0",
      "model_name": "LabelModel",
      "state": {
       "layout": "IPY_MODEL_715dd81aee16496f86a230ee490dac75",
       "style": "IPY_MODEL_18f9c418a5ed460e84c7f911b713219a"
      }
     },
     "d3bbffd15e47490785a33a4d1ee581e2": {
      "model_module": "@jupyter-widgets/base",
      "model_module_version": "1.2.0",
      "model_name": "LayoutModel",
      "state": {}
     },
     "d3be253fbd624631884cb8c508f8da21": {
      "model_module": "@jupyter-widgets/controls",
      "model_module_version": "1.5.0",
      "model_name": "DescriptionStyleModel",
      "state": {
       "description_width": ""
      }
     },
     "d3cae8376351445ba7b33f3b49052a82": {
      "model_module": "@jupyter-widgets/base",
      "model_module_version": "1.2.0",
      "model_name": "LayoutModel",
      "state": {}
     },
     "d3ddb83d50584e9b8b6270f89cc1b2e6": {
      "model_module": "@jupyter-widgets/base",
      "model_module_version": "1.2.0",
      "model_name": "LayoutModel",
      "state": {}
     },
     "d3e56188f61744e685377a6a7d728c02": {
      "model_module": "@jupyter-widgets/base",
      "model_module_version": "1.2.0",
      "model_name": "LayoutModel",
      "state": {}
     },
     "d3f33eb90d1f4e1aaa55de910cd8cb01": {
      "model_module": "@jupyter-widgets/base",
      "model_module_version": "1.2.0",
      "model_name": "LayoutModel",
      "state": {}
     },
     "d41eca1699e844f7ade55be9d45f4601": {
      "model_module": "@jupyter-widgets/controls",
      "model_module_version": "1.5.0",
      "model_name": "LabelModel",
      "state": {
       "layout": "IPY_MODEL_5b7f8f3639ca4c2e8b322a43c57dc22f",
       "style": "IPY_MODEL_daa45e2c41fe4266b2b6faa9f43f1296",
       "value": "Max Payout: 96.15973854597343 ALCX"
      }
     },
     "d43f214de81c419f9f1126367bbedfbb": {
      "model_module": "@jupyter-widgets/base",
      "model_module_version": "1.2.0",
      "model_name": "LayoutModel",
      "state": {}
     },
     "d43f7303a3ec467fa0847429d499277b": {
      "model_module": "@jupyter-widgets/base",
      "model_module_version": "1.2.0",
      "model_name": "LayoutModel",
      "state": {}
     },
     "d44a320de4404b7c831bb8f41ed1ae81": {
      "model_module": "@jupyter-widgets/controls",
      "model_module_version": "1.5.0",
      "model_name": "LabelModel",
      "state": {
       "layout": "IPY_MODEL_4a5baefd798d48c59c1ae0f9e2dbddf3",
       "style": "IPY_MODEL_c04967e68c0b4e62b10a5e6c2bf4cc39",
       "value": "Select Pool to Bond:"
      }
     },
     "d464387b4c7146e58325e71650e53090": {
      "model_module": "@jupyter-widgets/controls",
      "model_module_version": "1.5.0",
      "model_name": "CheckboxModel",
      "state": {
       "description": "CVX/ALCX (0.0)",
       "disabled": false,
       "layout": "IPY_MODEL_c0c7b54d13fc4aad9d76071534508a25",
       "style": "IPY_MODEL_395a5d92e5c5475e96200c8e83603b3d",
       "value": false
      }
     },
     "d47a039342c7412982557d52434d573b": {
      "model_module": "@jupyter-widgets/controls",
      "model_module_version": "1.5.0",
      "model_name": "CheckboxModel",
      "state": {
       "description": "Use Wallet Balance (72.80737)",
       "disabled": false,
       "layout": "IPY_MODEL_3a1a02f6e9ac42ae89c1018908eb797a",
       "style": "IPY_MODEL_94ace01f4e91443b8b2fb6f5f52d22dc",
       "value": false
      }
     },
     "d48a382360bc4730bef03fc5b1b1f74f": {
      "model_module": "@jupyter-widgets/controls",
      "model_module_version": "1.5.0",
      "model_name": "ButtonStyleModel",
      "state": {}
     },
     "d49ed5a63f584b6497985291f504e911": {
      "model_module": "@jupyter-widgets/base",
      "model_module_version": "1.2.0",
      "model_name": "LayoutModel",
      "state": {}
     },
     "d49f93565da14cc0bb8912c0659b3498": {
      "model_module": "@jupyter-widgets/controls",
      "model_module_version": "1.5.0",
      "model_name": "DescriptionStyleModel",
      "state": {
       "description_width": ""
      }
     },
     "d4a03f2f4695448ea2827d9a426027da": {
      "model_module": "@jupyter-widgets/controls",
      "model_module_version": "1.5.0",
      "model_name": "DescriptionStyleModel",
      "state": {
       "description_width": ""
      }
     },
     "d4af0412ea43470fb4e0bd001885e964": {
      "model_module": "@jupyter-widgets/base",
      "model_module_version": "1.2.0",
      "model_name": "LayoutModel",
      "state": {}
     },
     "d4b94d58c97741c9a6e4e538a970438e": {
      "model_module": "@jupyter-widgets/controls",
      "model_module_version": "1.5.0",
      "model_name": "DescriptionStyleModel",
      "state": {
       "description_width": ""
      }
     },
     "d4c1135972bd4c21bdf33838d6f76b8a": {
      "model_module": "@jupyter-widgets/controls",
      "model_module_version": "1.5.0",
      "model_name": "CheckboxModel",
      "state": {
       "description": "ALCX-ETH SLP (0.0)",
       "disabled": false,
       "layout": "IPY_MODEL_41a82023f8d84c93bfed9b7a1918f958",
       "style": "IPY_MODEL_c639e5efddeb460795d98d614929837b",
       "value": false
      }
     },
     "d4c47a02196e4f2eb7df8dd9158cb016": {
      "model_module": "@jupyter-widgets/controls",
      "model_module_version": "1.5.0",
      "model_name": "DescriptionStyleModel",
      "state": {
       "description_width": ""
      }
     },
     "d4f092df8333420080e07e42ef21d101": {
      "model_module": "@jupyter-widgets/base",
      "model_module_version": "1.2.0",
      "model_name": "LayoutModel",
      "state": {}
     },
     "d542a723103e43419420dd8be6e1ed0f": {
      "model_module": "@jupyter-widgets/controls",
      "model_module_version": "1.5.0",
      "model_name": "DescriptionStyleModel",
      "state": {
       "description_width": ""
      }
     },
     "d5475c5888f8473c8a6d5ae96b70b852": {
      "model_module": "@jupyter-widgets/controls",
      "model_module_version": "1.5.0",
      "model_name": "DescriptionStyleModel",
      "state": {
       "description_width": ""
      }
     },
     "d5481f64d00449fc824da869b8163e19": {
      "model_module": "@jupyter-widgets/controls",
      "model_module_version": "1.5.0",
      "model_name": "CheckboxModel",
      "state": {
       "description": "ALCX-ETH SLP (0.0)",
       "disabled": false,
       "layout": "IPY_MODEL_c6fc1bac6cf841d9a0723aad4a1287a7",
       "style": "IPY_MODEL_85aa29874df14e2e9f80e5a84f81d569",
       "value": false
      }
     },
     "d5581602bd0744af9772e39533ea2282": {
      "model_module": "@jupyter-widgets/base",
      "model_module_version": "1.2.0",
      "model_name": "LayoutModel",
      "state": {}
     },
     "d5814564934c440b81dc28139d4da584": {
      "model_module": "@jupyter-widgets/controls",
      "model_module_version": "1.5.0",
      "model_name": "DescriptionStyleModel",
      "state": {
       "description_width": ""
      }
     },
     "d58dc706ed0f46f089e0ef554d63d292": {
      "model_module": "@jupyter-widgets/base",
      "model_module_version": "1.2.0",
      "model_name": "LayoutModel",
      "state": {}
     },
     "d5b22aac6d5d4e02a446d55497f8492f": {
      "model_module": "@jupyter-widgets/controls",
      "model_module_version": "1.5.0",
      "model_name": "DescriptionStyleModel",
      "state": {
       "description_width": ""
      }
     },
     "d5b7ee0ec4dd49cd9d5c34d17fb777ea": {
      "model_module": "@jupyter-widgets/base",
      "model_module_version": "1.2.0",
      "model_name": "LayoutModel",
      "state": {}
     },
     "d5c7f65bfcb84dddac3c175e28bedf3f": {
      "model_module": "@jupyter-widgets/controls",
      "model_module_version": "1.5.0",
      "model_name": "LabelModel",
      "state": {
       "layout": "IPY_MODEL_8d3f3252f5554bc2bb912d70c8fde1a4",
       "style": "IPY_MODEL_5a6cd1f5e06241b281139f66bef40ca4"
      }
     },
     "d5eeba9e2c984e2ea27292ee76e318f7": {
      "model_module": "@jupyter-widgets/controls",
      "model_module_version": "1.5.0",
      "model_name": "DescriptionStyleModel",
      "state": {
       "description_width": ""
      }
     },
     "d639f7a37d5a47979482003d2ad90ad3": {
      "model_module": "@jupyter-widgets/base",
      "model_module_version": "1.2.0",
      "model_name": "LayoutModel",
      "state": {}
     },
     "d665bcc5b38b4eb7ab08596baa042e6e": {
      "model_module": "@jupyter-widgets/controls",
      "model_module_version": "1.5.0",
      "model_name": "LabelModel",
      "state": {
       "layout": "IPY_MODEL_c796e631eeaf47b2b58585e433a690eb",
       "style": "IPY_MODEL_b98c2bfbfcc64eaf88d9f94814f625df"
      }
     },
     "d68d57dd8c49446cb7fb079fb4d74b46": {
      "model_module": "@jupyter-widgets/controls",
      "model_module_version": "1.5.0",
      "model_name": "LabelModel",
      "state": {
       "layout": "IPY_MODEL_1cc5e7c86d51450aae1deb30824338c5",
       "style": "IPY_MODEL_53d1d637419b46bbba9648e597f30ab5"
      }
     },
     "d6b412c3cc1b4127a2ddcf71a0b9cee5": {
      "model_module": "@jupyter-widgets/controls",
      "model_module_version": "1.5.0",
      "model_name": "LabelModel",
      "state": {
       "layout": "IPY_MODEL_2a76d4b877fc4dfd8a1b8831e6bca318",
       "style": "IPY_MODEL_3a5b48990b414b61bc5d136745ff51a5",
       "value": "Select Pool to Bond:"
      }
     },
     "d6bedf1144c84e369f416f5208021976": {
      "model_module": "@jupyter-widgets/controls",
      "model_module_version": "1.5.0",
      "model_name": "CheckboxModel",
      "state": {
       "description": "WETH/ALCX (7.1522)",
       "disabled": false,
       "layout": "IPY_MODEL_c6ea17dedaca4b0897cc0cbcba8d4a2a",
       "style": "IPY_MODEL_024d792d7941456cb7fa276ee514fc1d",
       "value": true
      }
     },
     "d6ee3e1deb2f4399b43adbb02bb3cf9c": {
      "model_module": "@jupyter-widgets/controls",
      "model_module_version": "1.5.0",
      "model_name": "HBoxModel",
      "state": {
       "children": [
        "IPY_MODEL_b22593f4b5e14bf4a35b3c29d266e492",
        "IPY_MODEL_8ed669d9b29e49b490ba296054d4879c"
       ],
       "layout": "IPY_MODEL_f55f7ef32e984afd84d0b1741796f4fe"
      }
     },
     "d6ef9359266c4ad6883c1a568ab78c92": {
      "model_module": "@jupyter-widgets/controls",
      "model_module_version": "1.5.0",
      "model_name": "VBoxModel",
      "state": {
       "children": [
        "IPY_MODEL_ac0ee69bd5514ece954aa2f9495b1d92",
        "IPY_MODEL_5732910717514363b7eade75d27f9867",
        "IPY_MODEL_74fd5dc907ba47e089a778ff832e6e2c",
        "IPY_MODEL_cfdf0d6f320f4bc88e5034858c14b497",
        "IPY_MODEL_0a25a91f3daa46cc83655d35cecd0b86",
        "IPY_MODEL_0d60a0618b354059aabf417e5834d510",
        "IPY_MODEL_762ee0270eda4a2cae81eb9d4d28c0ca",
        "IPY_MODEL_2726c930679347c79916cde311695c9a",
        "IPY_MODEL_d8c2e5958ca84841aa237ab7d3403abc",
        "IPY_MODEL_bac23c06405f468186de24f94a282ad0",
        "IPY_MODEL_05cf7512d4bc4097a718bed8ec6966ef",
        "IPY_MODEL_81ac22e44d8f4ea4aed453d104cc9628",
        "IPY_MODEL_0eacdca768e44fec9d2d931e283caf26",
        "IPY_MODEL_ba4f63bea67f4fdab739c659b4822a3a"
       ],
       "layout": "IPY_MODEL_82544873a1b345b2af4e306ccde19a16"
      }
     },
     "d745b84563e241e4af456d645a1e7a40": {
      "model_module": "@jupyter-widgets/controls",
      "model_module_version": "1.5.0",
      "model_name": "DescriptionStyleModel",
      "state": {
       "description_width": ""
      }
     },
     "d780894bc2b24b99b0f330ab9c73493b": {
      "model_module": "@jupyter-widgets/base",
      "model_module_version": "1.2.0",
      "model_name": "LayoutModel",
      "state": {
       "width": "425px"
      }
     },
     "d782df1233ad4150946bb1170cd53b5e": {
      "model_module": "@jupyter-widgets/controls",
      "model_module_version": "1.5.0",
      "model_name": "HBoxModel",
      "state": {
       "children": [
        "IPY_MODEL_a5441fa1b56c49c68b733fd9889f1718",
        "IPY_MODEL_1d3cd5771bc246c4b9eebf9a669fca0c"
       ],
       "layout": "IPY_MODEL_f45b80b8eacf4306b195296b12b09640"
      }
     },
     "d7b0cba60ba44163b7b006618f62e2f1": {
      "model_module": "@jupyter-widgets/base",
      "model_module_version": "1.2.0",
      "model_name": "LayoutModel",
      "state": {}
     },
     "d7b5a75a97654b518b368d06af6f63b5": {
      "model_module": "@jupyter-widgets/controls",
      "model_module_version": "1.5.0",
      "model_name": "HBoxModel",
      "state": {
       "children": [
        "IPY_MODEL_fe0f794773a74f7388b3fe1646fd4b39",
        "IPY_MODEL_02601c5deda844fb958539111954a39f"
       ],
       "layout": "IPY_MODEL_70a208be994a4bc48ffd14355a5ca419"
      }
     },
     "d811d6ea44b74f78815267c2e1e1b93b": {
      "model_module": "@jupyter-widgets/controls",
      "model_module_version": "1.5.0",
      "model_name": "LabelModel",
      "state": {
       "layout": "IPY_MODEL_45fff8b6b979469d82fa45c4494c25bf",
       "style": "IPY_MODEL_c4b4ffefb5f54628bdeef15902e2d5e7",
       "value": "Select Assets to Claim:"
      }
     },
     "d8179d47cc684291885e293446a0ba39": {
      "model_module": "@jupyter-widgets/controls",
      "model_module_version": "1.5.0",
      "model_name": "DescriptionStyleModel",
      "state": {
       "description_width": ""
      }
     },
     "d83ca0c4223d42e394188afcd70fc375": {
      "model_module": "@jupyter-widgets/controls",
      "model_module_version": "1.5.0",
      "model_name": "CheckboxModel",
      "state": {
       "description": "Use Wallet Balance (72.80737)",
       "disabled": false,
       "layout": "IPY_MODEL_473ec7d73c6a44068becd2bd27b74f25",
       "style": "IPY_MODEL_b1f4e78e67144f1b8da0887d8b40f59a",
       "value": false
      }
     },
     "d849cea063404224bf56ffd061530154": {
      "model_module": "@jupyter-widgets/controls",
      "model_module_version": "1.5.0",
      "model_name": "DescriptionStyleModel",
      "state": {
       "description_width": ""
      }
     },
     "d861459993624a0cbbafe2818a5f8bc6": {
      "model_module": "@jupyter-widgets/controls",
      "model_module_version": "1.5.0",
      "model_name": "TextModel",
      "state": {
       "description": "Address: ",
       "layout": "IPY_MODEL_25440b842e25466a949a2910d4038c76",
       "style": "IPY_MODEL_d0d38e3798664a23b8960d59de70f53c",
       "value": "0xeEEC0e4927704ab3BBE5df7F4EfFa818b43665a3"
      }
     },
     "d89ae0cfc4994ba6ad38544abf9635bd": {
      "model_module": "@jupyter-widgets/controls",
      "model_module_version": "1.5.0",
      "model_name": "DescriptionStyleModel",
      "state": {
       "description_width": ""
      }
     },
     "d8af9e14dff940cebe342f09591a3325": {
      "model_module": "@jupyter-widgets/controls",
      "model_module_version": "1.5.0",
      "model_name": "DescriptionStyleModel",
      "state": {
       "description_width": ""
      }
     },
     "d8c2e5958ca84841aa237ab7d3403abc": {
      "model_module": "@jupyter-widgets/controls",
      "model_module_version": "1.5.0",
      "model_name": "LabelModel",
      "state": {
       "layout": "IPY_MODEL_2f9462f087844f86a7d4ba50ccebcd09",
       "style": "IPY_MODEL_1062675d92dc40feb1a849d594c86643",
       "value": "Select Pool to Bond:"
      }
     },
     "d8c63532a67d43e5a421fb791d28ab73": {
      "model_module": "@jupyter-widgets/controls",
      "model_module_version": "1.5.0",
      "model_name": "LabelModel",
      "state": {
       "layout": "IPY_MODEL_870b6983b2b54d91869c40c0d8ae660f",
       "style": "IPY_MODEL_ef13e07735ef4a59a26fe1b78e486378"
      }
     },
     "d8c6e2fa73b54dbb8c766e423b164aeb": {
      "model_module": "@jupyter-widgets/base",
      "model_module_version": "1.2.0",
      "model_name": "LayoutModel",
      "state": {}
     },
     "d8eb11b866634ea49fccfee1cef8726c": {
      "model_module": "@jupyter-widgets/controls",
      "model_module_version": "1.5.0",
      "model_name": "LabelModel",
      "state": {
       "layout": "IPY_MODEL_813cf2af01914721aca974e014f5cb59",
       "style": "IPY_MODEL_f5678881127b4b9b91f930dd65bbd375",
       "value": "You Will Get: 0 ALCX"
      }
     },
     "d91af4b7656b482d85a33c25bad5b3d3": {
      "model_module": "@jupyter-widgets/base",
      "model_module_version": "1.2.0",
      "model_name": "LayoutModel",
      "state": {
       "width": "200px"
      }
     },
     "d9226b8a179341d6b62cd3cc0eeb30ec": {
      "model_module": "@jupyter-widgets/controls",
      "model_module_version": "1.5.0",
      "model_name": "LabelModel",
      "state": {
       "layout": "IPY_MODEL_07ecc2d3e4fb41d6943ddf852886818f",
       "style": "IPY_MODEL_1e47d4c672be4ce8821af4b3b6eb9cd5",
       "value": "Select Assets to Claim:"
      }
     },
     "d923ae23a787455ea381598f3ece13cf": {
      "model_module": "@jupyter-widgets/base",
      "model_module_version": "1.2.0",
      "model_name": "LayoutModel",
      "state": {}
     },
     "d946290029714a5b8c1fe4cb7389329d": {
      "model_module": "@jupyter-widgets/controls",
      "model_module_version": "1.5.0",
      "model_name": "LabelModel",
      "state": {
       "layout": "IPY_MODEL_1f86df694cde478f85b03994e86e73c9",
       "style": "IPY_MODEL_6736be3b07634e188a93bb19ba72fb06",
       "value": "[Current block: 13905567]"
      }
     },
     "d960826e356a48908c965a63a3d6a5a2": {
      "model_module": "@jupyter-widgets/base",
      "model_module_version": "1.2.0",
      "model_name": "LayoutModel",
      "state": {}
     },
     "d9637e833962490b8e6f939452d3cc1a": {
      "model_module": "@jupyter-widgets/controls",
      "model_module_version": "1.5.0",
      "model_name": "LabelModel",
      "state": {
       "layout": "IPY_MODEL_e3013299d8b84b728a04bd77c24b84cf",
       "style": "IPY_MODEL_51a7ee67448f4fa3b8089294e4e91f74",
       "value": "[Current block: 13905487]"
      }
     },
     "d97471849a334a13a3314d07372cadeb": {
      "model_module": "@jupyter-widgets/controls",
      "model_module_version": "1.5.0",
      "model_name": "CheckboxModel",
      "state": {
       "description": "CVX/ALCX (0.0)",
       "disabled": false,
       "layout": "IPY_MODEL_4dfd89ce0e7b432da68ae9f7818f4672",
       "style": "IPY_MODEL_1629625aa6874e9e8f9708923caaa7f8",
       "value": false
      }
     },
     "d97af3e7c33b40b7ba1e0271e984a53f": {
      "model_module": "@jupyter-widgets/base",
      "model_module_version": "1.2.0",
      "model_name": "LayoutModel",
      "state": {}
     },
     "d981e698b72f42628c60d276907c8551": {
      "model_module": "@jupyter-widgets/controls",
      "model_module_version": "1.5.0",
      "model_name": "LabelModel",
      "state": {
       "layout": "IPY_MODEL_4f5030fa459e46e9b38ea9a0373bc84f",
       "style": "IPY_MODEL_abb237f18b1242e9938419a2fb573e3a"
      }
     },
     "d98c555558a14fe4baeccd451f9f4122": {
      "model_module": "@jupyter-widgets/controls",
      "model_module_version": "1.5.0",
      "model_name": "DescriptionStyleModel",
      "state": {
       "description_width": ""
      }
     },
     "da112d69b75e4cbeae76c12c607ce8f7": {
      "model_module": "@jupyter-widgets/controls",
      "model_module_version": "1.5.0",
      "model_name": "DescriptionStyleModel",
      "state": {
       "description_width": ""
      }
     },
     "da2c213bf9cc422297da80827d325b62": {
      "model_module": "@jupyter-widgets/controls",
      "model_module_version": "1.5.0",
      "model_name": "DescriptionStyleModel",
      "state": {
       "description_width": ""
      }
     },
     "da66347b5a6449769fbab0d6a741b654": {
      "model_module": "@jupyter-widgets/controls",
      "model_module_version": "1.5.0",
      "model_name": "DescriptionStyleModel",
      "state": {
       "description_width": ""
      }
     },
     "da9c6c91053c48d19ceb00fd9e992a14": {
      "model_module": "@jupyter-widgets/base",
      "model_module_version": "1.2.0",
      "model_name": "LayoutModel",
      "state": {}
     },
     "daa45e2c41fe4266b2b6faa9f43f1296": {
      "model_module": "@jupyter-widgets/controls",
      "model_module_version": "1.5.0",
      "model_name": "DescriptionStyleModel",
      "state": {
       "description_width": ""
      }
     },
     "daaa292bf8eb41109fdde15c9e02c6db": {
      "model_module": "@jupyter-widgets/base",
      "model_module_version": "1.2.0",
      "model_name": "LayoutModel",
      "state": {}
     },
     "daac784fdeb64f56a063d840b54b111f": {
      "model_module": "@jupyter-widgets/base",
      "model_module_version": "1.2.0",
      "model_name": "LayoutModel",
      "state": {}
     },
     "dab24b57c92148fba61ea92c5be6ede9": {
      "model_module": "@jupyter-widgets/base",
      "model_module_version": "1.2.0",
      "model_name": "LayoutModel",
      "state": {}
     },
     "dab91aa5ed36455294d1992520c455ee": {
      "model_module": "@jupyter-widgets/controls",
      "model_module_version": "1.5.0",
      "model_name": "CheckboxModel",
      "state": {
       "description": "ALCX-ETH SLP (0.0)",
       "disabled": false,
       "layout": "IPY_MODEL_4d59daae06da4ca08f561d9adcd080f0",
       "style": "IPY_MODEL_cc8aaef814654711b2dbebb340ff7e74",
       "value": true
      }
     },
     "dacc2d9e8af0464c91d04cacae8822b7": {
      "model_module": "@jupyter-widgets/controls",
      "model_module_version": "1.5.0",
      "model_name": "DescriptionStyleModel",
      "state": {
       "description_width": ""
      }
     },
     "db0ba23507c54fb1b3e1fe3d2251f345": {
      "model_module": "@jupyter-widgets/base",
      "model_module_version": "1.2.0",
      "model_name": "LayoutModel",
      "state": {}
     },
     "db39b113fa994331932a06f7c2aa4031": {
      "model_module": "@jupyter-widgets/controls",
      "model_module_version": "1.5.0",
      "model_name": "CheckboxModel",
      "state": {
       "description": "Use Wallet Balance (72.80737)",
       "disabled": false,
       "layout": "IPY_MODEL_40f4d0cb1bab49aca626fbca449fe2db",
       "style": "IPY_MODEL_08fea82f09ce4fca91e06b23015a21b6",
       "value": false
      }
     },
     "db4d075fb37f4b86ae2ccd2803b2c6cf": {
      "model_module": "@jupyter-widgets/controls",
      "model_module_version": "1.5.0",
      "model_name": "LabelModel",
      "state": {
       "layout": "IPY_MODEL_c3639eb7703b4c33a334ddffc9ea6f9d",
       "style": "IPY_MODEL_c0f903f8486a4d5f98f2f68b70192417",
       "value": "Swapping 83.82113 ALCX for 5.3694147708810425 WETH"
      }
     },
     "db59a0751ed3441f8d0c3235a551c8e5": {
      "model_module": "@jupyter-widgets/controls",
      "model_module_version": "1.5.0",
      "model_name": "CheckboxModel",
      "state": {
       "description": "ALCX-ETH SLP (0.0)",
       "disabled": false,
       "layout": "IPY_MODEL_ef07e36ef58a4a61bee4d5e41e6a859d",
       "style": "IPY_MODEL_113aaef0c0184d45937d5e1fafce82c0",
       "value": false
      }
     },
     "db5bff4ec29c49ca9d128066fea69dad": {
      "model_module": "@jupyter-widgets/base",
      "model_module_version": "1.2.0",
      "model_name": "LayoutModel",
      "state": {}
     },
     "db6b0d1b28044ffb984bb2afc55cd5e9": {
      "model_module": "@jupyter-widgets/controls",
      "model_module_version": "1.5.0",
      "model_name": "DescriptionStyleModel",
      "state": {
       "description_width": ""
      }
     },
     "db9bf06ca9474a36b2bd5dec42de774f": {
      "model_module": "@jupyter-widgets/base",
      "model_module_version": "1.2.0",
      "model_name": "LayoutModel",
      "state": {
       "width": "425px"
      }
     },
     "dbb43d7053f64e80948d873a42694ced": {
      "model_module": "@jupyter-widgets/base",
      "model_module_version": "1.2.0",
      "model_name": "LayoutModel",
      "state": {}
     },
     "dbd37ab3a1664d51be6a20e975e0ccf9": {
      "model_module": "@jupyter-widgets/controls",
      "model_module_version": "1.5.0",
      "model_name": "DescriptionStyleModel",
      "state": {
       "description_width": ""
      }
     },
     "dbe6230845994265ab23b177312e7493": {
      "model_module": "@jupyter-widgets/controls",
      "model_module_version": "1.5.0",
      "model_name": "DescriptionStyleModel",
      "state": {
       "description_width": ""
      }
     },
     "dc2e898c0a504eb892a0541e57318e82": {
      "model_module": "@jupyter-widgets/controls",
      "model_module_version": "1.5.0",
      "model_name": "TextModel",
      "state": {
       "description": "Address: ",
       "layout": "IPY_MODEL_160d4e398d2744c0877036d4fcfcf762",
       "style": "IPY_MODEL_2e33ff24ad9e4b29b2c20ce671401d4e",
       "value": "0xeEEC0e4927704ab3BBE5df7F4EfFa818b43665a3"
      }
     },
     "dc2eade2cd76428f9fccfeec6335d59e": {
      "model_module": "@jupyter-widgets/controls",
      "model_module_version": "1.5.0",
      "model_name": "LabelModel",
      "state": {
       "layout": "IPY_MODEL_9c267512848b4c629a9160f08d9a9ec4",
       "style": "IPY_MODEL_f37e2faeb3864523a8db82c02f00b841"
      }
     },
     "dc52351d4e9f422b8e66d624a616e88e": {
      "model_module": "@jupyter-widgets/controls",
      "model_module_version": "1.5.0",
      "model_name": "DescriptionStyleModel",
      "state": {
       "description_width": ""
      }
     },
     "dcc076368ee8416db8b34149415aa013": {
      "model_module": "@jupyter-widgets/controls",
      "model_module_version": "1.5.0",
      "model_name": "LabelModel",
      "state": {
       "layout": "IPY_MODEL_11ab630f52984dc492cb9bd36e7d8887",
       "style": "IPY_MODEL_9cc6aa6ad6c44d17b48d1010dd5d2218",
       "value": "Select Assets to Claim:"
      }
     },
     "dcc6657ff74044b0b42b30f6a9899c8d": {
      "model_module": "@jupyter-widgets/controls",
      "model_module_version": "1.5.0",
      "model_name": "LabelModel",
      "state": {
       "layout": "IPY_MODEL_72d5b6c78ffb4ea98e76dee5ff472c56",
       "style": "IPY_MODEL_93258b5b1d8e434d852d87761ddbf3d9",
       "value": "Max Input: 5.979712965917796 WETH"
      }
     },
     "dd551fb0e5db45beb51b078abb4401b5": {
      "model_module": "@jupyter-widgets/base",
      "model_module_version": "1.2.0",
      "model_name": "LayoutModel",
      "state": {}
     },
     "dd65da9c66fe48f09b69c77b61e3a738": {
      "model_module": "@jupyter-widgets/controls",
      "model_module_version": "1.5.0",
      "model_name": "TextModel",
      "state": {
       "description": "Address: ",
       "layout": "IPY_MODEL_d0cef793dd3c49b6ac1357d09a636c65",
       "style": "IPY_MODEL_a36482b780cd42c8b615e7674d50488d",
       "value": "0xeEEC0e4927704ab3BBE5df7F4EfFa818b43665a3"
      }
     },
     "dd8b1f7a98574c3cb57993a0dc3e3584": {
      "model_module": "@jupyter-widgets/controls",
      "model_module_version": "1.5.0",
      "model_name": "DescriptionStyleModel",
      "state": {
       "description_width": ""
      }
     },
     "dd8d5908a42d47f8b8b2e0efbc6a5b62": {
      "model_module": "@jupyter-widgets/controls",
      "model_module_version": "1.5.0",
      "model_name": "DescriptionStyleModel",
      "state": {
       "description_width": ""
      }
     },
     "dda4e87034964372832ce26f7bcb7224": {
      "model_module": "@jupyter-widgets/controls",
      "model_module_version": "1.5.0",
      "model_name": "DescriptionStyleModel",
      "state": {
       "description_width": ""
      }
     },
     "ddb5f81bbd864ead804ed664bf685106": {
      "model_module": "@jupyter-widgets/controls",
      "model_module_version": "1.5.0",
      "model_name": "LabelModel",
      "state": {
       "layout": "IPY_MODEL_fdb8edd013f845af8133c9adc6c9dadc",
       "style": "IPY_MODEL_f343b3cfce554a6f87c209b620d0fe21",
       "value": "[Current block: 13905387]"
      }
     },
     "de3dbf98426448589fa75335bd5bc5e0": {
      "model_module": "@jupyter-widgets/controls",
      "model_module_version": "1.5.0",
      "model_name": "DescriptionStyleModel",
      "state": {
       "description_width": ""
      }
     },
     "de6a94a8ede94d9d880b16c514e540fb": {
      "model_module": "@jupyter-widgets/controls",
      "model_module_version": "1.5.0",
      "model_name": "DescriptionStyleModel",
      "state": {
       "description_width": ""
      }
     },
     "de72c59ac5e0425394584293f89a8f0d": {
      "model_module": "@jupyter-widgets/base",
      "model_module_version": "1.2.0",
      "model_name": "LayoutModel",
      "state": {}
     },
     "de806704a5ef451aa563efc4b5dced8d": {
      "model_module": "@jupyter-widgets/controls",
      "model_module_version": "1.5.0",
      "model_name": "ButtonModel",
      "state": {
       "description": "Generate MultiCall Data",
       "layout": "IPY_MODEL_82a9ee7c375b4829b99ae18d0bbcd5cb",
       "style": "IPY_MODEL_1e2757353a7e49329a21be5fe82759ab"
      }
     },
     "de8202d0427b4d1a9b4a729a796957b2": {
      "model_module": "@jupyter-widgets/controls",
      "model_module_version": "1.5.0",
      "model_name": "DescriptionStyleModel",
      "state": {
       "description_width": ""
      }
     },
     "deb2e5d8926a4d3b8dcddc293fdc3fbc": {
      "model_module": "@jupyter-widgets/controls",
      "model_module_version": "1.5.0",
      "model_name": "DescriptionStyleModel",
      "state": {
       "description_width": ""
      }
     },
     "dec44bcf804c4b209c07a50d60c9f91d": {
      "model_module": "@jupyter-widgets/controls",
      "model_module_version": "1.5.0",
      "model_name": "LabelModel",
      "state": {
       "layout": "IPY_MODEL_2b4e22463a574ea29c60efce2f57f63a",
       "style": "IPY_MODEL_ba4495064cf84a15a33cd7a5ce579924",
       "value": "Max Input: 5.982205269345415 WETH"
      }
     },
     "dee605646abf45ccbf80d12367831375": {
      "model_module": "@jupyter-widgets/controls",
      "model_module_version": "1.5.0",
      "model_name": "LabelModel",
      "state": {
       "layout": "IPY_MODEL_c96b644cef6a4852ae2e0a1cbbcb5b0d",
       "style": "IPY_MODEL_cafc4f95e7d44a7f8156bb64ceb80476",
       "value": "Select Assets to Claim:"
      }
     },
     "dee921b3e9ef4edeb1e69b9e520b327b": {
      "model_module": "@jupyter-widgets/controls",
      "model_module_version": "1.5.0",
      "model_name": "DescriptionStyleModel",
      "state": {
       "description_width": ""
      }
     },
     "def1de23023443c58846ca99d7ee433a": {
      "model_module": "@jupyter-widgets/controls",
      "model_module_version": "1.5.0",
      "model_name": "CheckboxModel",
      "state": {
       "description": "WETH/ALCX (7.87327)",
       "disabled": false,
       "layout": "IPY_MODEL_8fbe0a03f64a45d1a2ac55f93ca0203e",
       "style": "IPY_MODEL_fefa79e392f1423c9dd46d8ebeecf1d7",
       "value": true
      }
     },
     "defb14c1a7334176a195f99e32b890ff": {
      "model_module": "@jupyter-widgets/controls",
      "model_module_version": "1.5.0",
      "model_name": "HBoxModel",
      "state": {
       "children": [
        "IPY_MODEL_7b9e571817ab40cd82246b670fb40db6",
        "IPY_MODEL_642ced75d4524d038065b80d76076c68"
       ],
       "layout": "IPY_MODEL_544950fc39b04ccbb5712672c5752546"
      }
     },
     "df12df23d6c54a83ac971b024e33de43": {
      "model_module": "@jupyter-widgets/controls",
      "model_module_version": "1.5.0",
      "model_name": "DescriptionStyleModel",
      "state": {
       "description_width": ""
      }
     },
     "df21b7db7a5a4aba94201cff8d2561a0": {
      "model_module": "@jupyter-widgets/controls",
      "model_module_version": "1.5.0",
      "model_name": "LabelModel",
      "state": {
       "layout": "IPY_MODEL_bc65a092ba004221ba64edac91fbe5dc",
       "style": "IPY_MODEL_6112f16dde8f45f2a67b92bd2910da75",
       "value": "Select Assets to Claim:"
      }
     },
     "df444e885b194df194517504fb91793b": {
      "model_module": "@jupyter-widgets/base",
      "model_module_version": "1.2.0",
      "model_name": "LayoutModel",
      "state": {}
     },
     "df58c1f344dc4413b5d97da03ef81013": {
      "model_module": "@jupyter-widgets/controls",
      "model_module_version": "1.5.0",
      "model_name": "CheckboxModel",
      "state": {
       "description": "WETH/ALCX (7.38606)",
       "disabled": false,
       "layout": "IPY_MODEL_a2f15c6658284eb59fb072aa705467e2",
       "style": "IPY_MODEL_cf09d6d08c6442ae839facb86e987041",
       "value": false
      }
     },
     "df9383386896473bb06ece6294283262": {
      "model_module": "@jupyter-widgets/controls",
      "model_module_version": "1.5.0",
      "model_name": "DescriptionStyleModel",
      "state": {
       "description_width": ""
      }
     },
     "dfbc8e08df2f493198837d05ea9f3c3a": {
      "model_module": "@jupyter-widgets/controls",
      "model_module_version": "1.5.0",
      "model_name": "DescriptionStyleModel",
      "state": {
       "description_width": ""
      }
     },
     "e02dc30cae094885b17e859003f1ceb4": {
      "model_module": "@jupyter-widgets/base",
      "model_module_version": "1.2.0",
      "model_name": "LayoutModel",
      "state": {
       "width": "200px"
      }
     },
     "e033ee598f4745e7b78a1a55376b548d": {
      "model_module": "@jupyter-widgets/base",
      "model_module_version": "1.2.0",
      "model_name": "LayoutModel",
      "state": {}
     },
     "e04b962931c840749708abb848ebb0fa": {
      "model_module": "@jupyter-widgets/base",
      "model_module_version": "1.2.0",
      "model_name": "LayoutModel",
      "state": {}
     },
     "e05ec8d1713845c385f12f1d94a83493": {
      "model_module": "@jupyter-widgets/controls",
      "model_module_version": "1.5.0",
      "model_name": "DescriptionStyleModel",
      "state": {
       "description_width": ""
      }
     },
     "e07ba3e40b144fb78fc6ae9992dc3d14": {
      "model_module": "@jupyter-widgets/controls",
      "model_module_version": "1.5.0",
      "model_name": "DescriptionStyleModel",
      "state": {
       "description_width": ""
      }
     },
     "e0acf866fe5e4543b301aa2be2214528": {
      "model_module": "@jupyter-widgets/base",
      "model_module_version": "1.2.0",
      "model_name": "LayoutModel",
      "state": {}
     },
     "e0bb00cae5314caf82d1edd59ff6acd4": {
      "model_module": "@jupyter-widgets/base",
      "model_module_version": "1.2.0",
      "model_name": "LayoutModel",
      "state": {}
     },
     "e0c40ec191974868a6349c8a8b1aa5b8": {
      "model_module": "@jupyter-widgets/base",
      "model_module_version": "1.2.0",
      "model_name": "LayoutModel",
      "state": {}
     },
     "e0d309dc0e9f47fa8a64571cb857d11c": {
      "model_module": "@jupyter-widgets/controls",
      "model_module_version": "1.5.0",
      "model_name": "CheckboxModel",
      "state": {
       "description": "DAI/ALCX (3.47755)",
       "disabled": false,
       "layout": "IPY_MODEL_51e0c34952594ea5be8aeb5a9da83dab",
       "style": "IPY_MODEL_50dcc22b8130432d9be8d2eeb2afaf8f",
       "value": false
      }
     },
     "e0d8d9d913114abca3dcdc5b877ec49e": {
      "model_module": "@jupyter-widgets/controls",
      "model_module_version": "1.5.0",
      "model_name": "LabelModel",
      "state": {
       "layout": "IPY_MODEL_02ef44fa31274552926ef65b542cecdb",
       "style": "IPY_MODEL_044efbb2ed2e47d4976a00daf700a673",
       "value": "Max Payout: 160.2662309099557 ALCX"
      }
     },
     "e0df7d134275470d926a94a13fa618cd": {
      "model_module": "@jupyter-widgets/controls",
      "model_module_version": "1.5.0",
      "model_name": "DropdownModel",
      "state": {
       "_options_labels": [
        "WETH/ALCX",
        "DAI/ALCX",
        "CVX/ALCX",
        "ALCX-ETH SLP"
       ],
       "index": 0,
       "layout": "IPY_MODEL_a8720a1cc3194c9daf68c7136cf4bc4e",
       "style": "IPY_MODEL_09e080d4a4904a83bf22ad988651d974"
      }
     },
     "e0e0b16cc7b84454a8a1022754e99a95": {
      "model_module": "@jupyter-widgets/base",
      "model_module_version": "1.2.0",
      "model_name": "LayoutModel",
      "state": {
       "width": "425px"
      }
     },
     "e0f20866de424aa9b4963e8518fe6caa": {
      "model_module": "@jupyter-widgets/base",
      "model_module_version": "1.2.0",
      "model_name": "LayoutModel",
      "state": {}
     },
     "e1205f125adb448d895c1163ef60f3db": {
      "model_module": "@jupyter-widgets/base",
      "model_module_version": "1.2.0",
      "model_name": "LayoutModel",
      "state": {}
     },
     "e1256b33ad3a4815928ab3ff6aa3acbe": {
      "model_module": "@jupyter-widgets/controls",
      "model_module_version": "1.5.0",
      "model_name": "DescriptionStyleModel",
      "state": {
       "description_width": ""
      }
     },
     "e1899b02d3fa4a1f8af7e2eac9f9c88e": {
      "model_module": "@jupyter-widgets/controls",
      "model_module_version": "1.5.0",
      "model_name": "LabelModel",
      "state": {
       "layout": "IPY_MODEL_2f8b106f80a94924bfdf164cf779ecb2",
       "style": "IPY_MODEL_66ff3758db7348cc91d98112360c4506",
       "value": "[Current block: 13905712]"
      }
     },
     "e18c3b7b335d458cb3eb24d49335ed78": {
      "model_module": "@jupyter-widgets/controls",
      "model_module_version": "1.5.0",
      "model_name": "VBoxModel",
      "state": {
       "children": [
        "IPY_MODEL_5c5d92a267ba43c8b5895d5d9d3f05fe",
        "IPY_MODEL_37be1c5a21f54da6a8161380a01f2281",
        "IPY_MODEL_789ca0c1179d436a8eb1d507b123955f",
        "IPY_MODEL_132ffaebb2a445d8967f92703f26688c",
        "IPY_MODEL_fd18bd3d88bc40c78db84cb14a45c30a",
        "IPY_MODEL_30d84c1d3d1d4bc69bd00ddbcbfb0b3b",
        "IPY_MODEL_28ab5c6fae724bcfbe1ac582ac1d2136",
        "IPY_MODEL_54128ac1f2ae4761997c2fe637566fcb",
        "IPY_MODEL_f863d1a5eac347b99908284f1c52759e",
        "IPY_MODEL_0458a46fbd5348ddbbdf5aa76b1ac86c",
        "IPY_MODEL_ef4ef72a788241a8a750eeb941a3a624",
        "IPY_MODEL_b2597792ff9e4031964e358b46fee2f4",
        "IPY_MODEL_3944c879168649bdbed8b9eb46879f64"
       ],
       "layout": "IPY_MODEL_2bb8b04db2d94dbbafb18d14cb2590cf"
      }
     },
     "e1a5a26411744b1084d9ee00c910f5c9": {
      "model_module": "@jupyter-widgets/controls",
      "model_module_version": "1.5.0",
      "model_name": "LabelModel",
      "state": {
       "layout": "IPY_MODEL_735482f8f0da4af6856fa7cfe60fc09c",
       "style": "IPY_MODEL_c053ceb14e3e4d70913eeea5a32c80d6",
       "value": "[Current block: 13905720]"
      }
     },
     "e1a79a15f0ef44128d6bbdc6f4221b6d": {
      "model_module": "@jupyter-widgets/controls",
      "model_module_version": "1.5.0",
      "model_name": "DescriptionStyleModel",
      "state": {
       "description_width": ""
      }
     },
     "e1d4deb164f54c21ada0de9d846b50f2": {
      "model_module": "@jupyter-widgets/base",
      "model_module_version": "1.2.0",
      "model_name": "LayoutModel",
      "state": {}
     },
     "e1f35e89e42e41e2bc967415bc45f91d": {
      "model_module": "@jupyter-widgets/base",
      "model_module_version": "1.2.0",
      "model_name": "LayoutModel",
      "state": {}
     },
     "e1f57efdc47b4db482b5ba8da9c9ba64": {
      "model_module": "@jupyter-widgets/controls",
      "model_module_version": "1.5.0",
      "model_name": "ButtonModel",
      "state": {
       "description": "Generate MultiCall Data",
       "layout": "IPY_MODEL_95a636d82e3d483aa496ffe16ef79241",
       "style": "IPY_MODEL_90bfbd26743748e49f76c710d9e74573"
      }
     },
     "e1f594168a364f0f9d3f9b26397412c5": {
      "model_module": "@jupyter-widgets/controls",
      "model_module_version": "1.5.0",
      "model_name": "DescriptionStyleModel",
      "state": {
       "description_width": ""
      }
     },
     "e218a1032df44e60a735dba45c0776e6": {
      "model_module": "@jupyter-widgets/controls",
      "model_module_version": "1.5.0",
      "model_name": "DescriptionStyleModel",
      "state": {
       "description_width": ""
      }
     },
     "e239dab3295e406191cbf0f42802c4c2": {
      "model_module": "@jupyter-widgets/controls",
      "model_module_version": "1.5.0",
      "model_name": "CheckboxModel",
      "state": {
       "description": "CVX/ALCX (0.0)",
       "disabled": false,
       "layout": "IPY_MODEL_0347b5975fca498b93e89d8af52ab37c",
       "style": "IPY_MODEL_fd7024cfa5954114ae8895d2623b60c7",
       "value": false
      }
     },
     "e242985f2ee2424d803e152fdf0d1e07": {
      "model_module": "@jupyter-widgets/controls",
      "model_module_version": "1.5.0",
      "model_name": "DescriptionStyleModel",
      "state": {
       "description_width": ""
      }
     },
     "e279c6ec243d4a09a8917e4fe210647d": {
      "model_module": "@jupyter-widgets/base",
      "model_module_version": "1.2.0",
      "model_name": "LayoutModel",
      "state": {
       "width": "200px"
      }
     },
     "e29530f4b2b74d3eb33aed627ae8be4d": {
      "model_module": "@jupyter-widgets/controls",
      "model_module_version": "1.5.0",
      "model_name": "DescriptionStyleModel",
      "state": {
       "description_width": ""
      }
     },
     "e2c9139159384300a847a1cb4eb5e78c": {
      "model_module": "@jupyter-widgets/controls",
      "model_module_version": "1.5.0",
      "model_name": "DescriptionStyleModel",
      "state": {
       "description_width": ""
      }
     },
     "e2e1f771d0574c658fd93af8de72d87e": {
      "model_module": "@jupyter-widgets/controls",
      "model_module_version": "1.5.0",
      "model_name": "ButtonModel",
      "state": {
       "description": "Generate MultiCall Data",
       "layout": "IPY_MODEL_15498a6e0ede4ec082ac0c45014d00da",
       "style": "IPY_MODEL_45e754e2193745aba4f480d21f926657"
      }
     },
     "e2ea99c990a840ae873c75973af418c7": {
      "model_module": "@jupyter-widgets/controls",
      "model_module_version": "1.5.0",
      "model_name": "DescriptionStyleModel",
      "state": {
       "description_width": ""
      }
     },
     "e2f0ade8a3e947228dfd963a88de8add": {
      "model_module": "@jupyter-widgets/controls",
      "model_module_version": "1.5.0",
      "model_name": "DescriptionStyleModel",
      "state": {
       "description_width": ""
      }
     },
     "e2f6834fdd63410b9c2249e2054bfb8c": {
      "model_module": "@jupyter-widgets/controls",
      "model_module_version": "1.5.0",
      "model_name": "DescriptionStyleModel",
      "state": {
       "description_width": ""
      }
     },
     "e2f91132bccc48d18fa535c70f5e5289": {
      "model_module": "@jupyter-widgets/controls",
      "model_module_version": "1.5.0",
      "model_name": "LabelModel",
      "state": {
       "layout": "IPY_MODEL_5d30c1a7daae45da9cbdc230cdac0b7a",
       "style": "IPY_MODEL_a281d643daf64652973ca2b7d3bc3eef",
       "value": "Your Payout: 5.9905849037044225 WETH"
      }
     },
     "e3013299d8b84b728a04bd77c24b84cf": {
      "model_module": "@jupyter-widgets/base",
      "model_module_version": "1.2.0",
      "model_name": "LayoutModel",
      "state": {}
     },
     "e31fb3f3f3a443f184af2ede705f4cce": {
      "model_module": "@jupyter-widgets/controls",
      "model_module_version": "1.5.0",
      "model_name": "DescriptionStyleModel",
      "state": {
       "description_width": ""
      }
     },
     "e324271a7075472387d346e77a2ce754": {
      "model_module": "@jupyter-widgets/controls",
      "model_module_version": "1.5.0",
      "model_name": "DescriptionStyleModel",
      "state": {
       "description_width": ""
      }
     },
     "e359404018944ca79ef191ac103c4c85": {
      "model_module": "@jupyter-widgets/base",
      "model_module_version": "1.2.0",
      "model_name": "LayoutModel",
      "state": {}
     },
     "e36ab2a3bef04c3586abcb43a4c8e78c": {
      "model_module": "@jupyter-widgets/controls",
      "model_module_version": "1.5.0",
      "model_name": "LabelModel",
      "state": {
       "layout": "IPY_MODEL_f24b886709e74fd7b9569d8aa56a243d",
       "style": "IPY_MODEL_c59af3e86da84b41855d6efa6f647c4e"
      }
     },
     "e371ec40bfb4440cb9adad123d32d279": {
      "model_module": "@jupyter-widgets/base",
      "model_module_version": "1.2.0",
      "model_name": "LayoutModel",
      "state": {}
     },
     "e38336abda884b938be9bc7158b52ecb": {
      "model_module": "@jupyter-widgets/base",
      "model_module_version": "1.2.0",
      "model_name": "LayoutModel",
      "state": {
       "width": "200px"
      }
     },
     "e39bd49bd7d7452db3a95b0e442b6f0f": {
      "model_module": "@jupyter-widgets/controls",
      "model_module_version": "1.5.0",
      "model_name": "LabelModel",
      "state": {
       "layout": "IPY_MODEL_0374fe04313948afa9b43efddab6c737",
       "style": "IPY_MODEL_8bf62832f59743b6b82113ae06662d54",
       "value": "Swapping 83.28547 ALCX for 5.347327690284395 WETH"
      }
     },
     "e3b28f0b50c04604beded17f8417a1b1": {
      "model_module": "@jupyter-widgets/base",
      "model_module_version": "1.2.0",
      "model_name": "LayoutModel",
      "state": {}
     },
     "e3e4cc5f086447f4964b4cb6f4954d95": {
      "model_module": "@jupyter-widgets/controls",
      "model_module_version": "1.5.0",
      "model_name": "DescriptionStyleModel",
      "state": {
       "description_width": ""
      }
     },
     "e3f76976a8b74176893b604bbd61ca28": {
      "model_module": "@jupyter-widgets/controls",
      "model_module_version": "1.5.0",
      "model_name": "DescriptionStyleModel",
      "state": {
       "description_width": ""
      }
     },
     "e45ce2c984d849918ebf56c96a113638": {
      "model_module": "@jupyter-widgets/controls",
      "model_module_version": "1.5.0",
      "model_name": "LabelModel",
      "state": {
       "layout": "IPY_MODEL_47e266d092774a4fac84e83a2b799e45",
       "style": "IPY_MODEL_4ce780ddc9064ed2854f736a53292251",
       "value": "Max Input: 11.584856905936174 ALCX-ETH SLP"
      }
     },
     "e469324c351342e7b7ffc632b4e0d77c": {
      "model_module": "@jupyter-widgets/base",
      "model_module_version": "1.2.0",
      "model_name": "LayoutModel",
      "state": {}
     },
     "e47fc44d082c433eac16a902d0bc7058": {
      "model_module": "@jupyter-widgets/controls",
      "model_module_version": "1.5.0",
      "model_name": "ButtonModel",
      "state": {
       "description": "Generate MultiCall Data",
       "layout": "IPY_MODEL_7d1a27454cd74f38a12cf648e17280ca",
       "style": "IPY_MODEL_10dfbaa14f72422e8d64dd6e5606ec48"
      }
     },
     "e4caed1cdcbb42078bec0e3890d77950": {
      "model_module": "@jupyter-widgets/base",
      "model_module_version": "1.2.0",
      "model_name": "LayoutModel",
      "state": {}
     },
     "e4fbea33014e455aaadfae64d25e9785": {
      "model_module": "@jupyter-widgets/controls",
      "model_module_version": "1.5.0",
      "model_name": "DescriptionStyleModel",
      "state": {
       "description_width": ""
      }
     },
     "e51c6c232739407bae306064e23c0cc2": {
      "model_module": "@jupyter-widgets/base",
      "model_module_version": "1.2.0",
      "model_name": "LayoutModel",
      "state": {}
     },
     "e520cf5bb0154fceb138cb9ea1425cd4": {
      "model_module": "@jupyter-widgets/base",
      "model_module_version": "1.2.0",
      "model_name": "LayoutModel",
      "state": {}
     },
     "e52c856134e14c4ebd9e1c4918296313": {
      "model_module": "@jupyter-widgets/controls",
      "model_module_version": "1.5.0",
      "model_name": "LabelModel",
      "state": {
       "layout": "IPY_MODEL_275ba2bcab3d41e4b1a01e663139bdf2",
       "style": "IPY_MODEL_0031820563cf466081ce10b82406802b",
       "value": "Your Payout: 7.682056492594136 ALCX"
      }
     },
     "e52d635f1ada47b3b41350db5329e33c": {
      "model_module": "@jupyter-widgets/controls",
      "model_module_version": "1.5.0",
      "model_name": "VBoxModel",
      "state": {
       "children": [
        "IPY_MODEL_360a17b8214b4f9da1672839e3be8d6a",
        "IPY_MODEL_cc826968327b4763a44678f77d297fb1",
        "IPY_MODEL_b5d501a079564e0883c6c798aae73b53",
        "IPY_MODEL_f69b5b454fa44335a9460da7f5879392",
        "IPY_MODEL_31cb10ca43ad49c8bc25882012c18891",
        "IPY_MODEL_ced5928080da4df797be215e8b20792b",
        "IPY_MODEL_5224724e2aae43afa1503dbbe0f19387",
        "IPY_MODEL_53d0f381bef4413c982ac2a4e2c1460f",
        "IPY_MODEL_982f3fa2530d4d9ba2337d3962df0b07",
        "IPY_MODEL_86f1b609ac834047bb12078743b3789b",
        "IPY_MODEL_aaea7e99e7954b468288672bef7d31ab",
        "IPY_MODEL_2f61141d2c1341d79ebbdfb5277a20eb",
        "IPY_MODEL_73099a871a5748cd9f76cd653f6b859d",
        "IPY_MODEL_670a93b2b0b149e98146037ce6973ab6"
       ],
       "layout": "IPY_MODEL_890cf03bda17486eaeee2eb14bb9df91"
      }
     },
     "e57ab27a4792418cb75e1c76cb3f0920": {
      "model_module": "@jupyter-widgets/base",
      "model_module_version": "1.2.0",
      "model_name": "LayoutModel",
      "state": {}
     },
     "e58c0b1865d248e18d88f721f4dc055e": {
      "model_module": "@jupyter-widgets/controls",
      "model_module_version": "1.5.0",
      "model_name": "DescriptionStyleModel",
      "state": {
       "description_width": ""
      }
     },
     "e5ab1d3045a542cb91ef33d6745f727a": {
      "model_module": "@jupyter-widgets/controls",
      "model_module_version": "1.5.0",
      "model_name": "DescriptionStyleModel",
      "state": {
       "description_width": ""
      }
     },
     "e5ada24dadf249eca7c3356944e34b05": {
      "model_module": "@jupyter-widgets/base",
      "model_module_version": "1.2.0",
      "model_name": "LayoutModel",
      "state": {}
     },
     "e5d8b736f2524c279c9b6e54e5672f95": {
      "model_module": "@jupyter-widgets/base",
      "model_module_version": "1.2.0",
      "model_name": "LayoutModel",
      "state": {}
     },
     "e61fe93e145e4ed9a20568cd7a8b73b8": {
      "model_module": "@jupyter-widgets/controls",
      "model_module_version": "1.5.0",
      "model_name": "DescriptionStyleModel",
      "state": {
       "description_width": ""
      }
     },
     "e6313e2dc31744fbba1645d72b5587ee": {
      "model_module": "@jupyter-widgets/controls",
      "model_module_version": "1.5.0",
      "model_name": "CheckboxModel",
      "state": {
       "description": "WETH/ALCX (7.05476)",
       "disabled": false,
       "layout": "IPY_MODEL_64d0e4f8a5d642969fa700ff10123a01",
       "style": "IPY_MODEL_93b72e7c70614892bbc2b9137563c13a",
       "value": true
      }
     },
     "e6946e2bde40474db3645ba63518291e": {
      "model_module": "@jupyter-widgets/base",
      "model_module_version": "1.2.0",
      "model_name": "LayoutModel",
      "state": {}
     },
     "e6d68874685c4df89b00766f6d1d72d3": {
      "model_module": "@jupyter-widgets/controls",
      "model_module_version": "1.5.0",
      "model_name": "HBoxModel",
      "state": {
       "children": [
        "IPY_MODEL_fa0590c2847b4ef08ccbbcb60830a6a0",
        "IPY_MODEL_025f911e1a604118ac4f102c03ab132e"
       ],
       "layout": "IPY_MODEL_33737ad81f5741658e45ccbf07e73920"
      }
     },
     "e6dab7ac72234d6e98ea2ae0275ddb61": {
      "model_module": "@jupyter-widgets/base",
      "model_module_version": "1.2.0",
      "model_name": "LayoutModel",
      "state": {}
     },
     "e6e4102934004af8b116fbe68878e236": {
      "model_module": "@jupyter-widgets/base",
      "model_module_version": "1.2.0",
      "model_name": "LayoutModel",
      "state": {}
     },
     "e6e7d9c608db47f6bcade6cc3a08bd43": {
      "model_module": "@jupyter-widgets/controls",
      "model_module_version": "1.5.0",
      "model_name": "CheckboxModel",
      "state": {
       "description": "CVX/ALCX (0.0)",
       "disabled": false,
       "layout": "IPY_MODEL_850604d97b9f45b6ba1c21269e99e3ca",
       "style": "IPY_MODEL_863d4ae9634c413c9189aa861333702b",
       "value": false
      }
     },
     "e6f8da8e9406493dbdc39f320c45b620": {
      "model_module": "@jupyter-widgets/base",
      "model_module_version": "1.2.0",
      "model_name": "LayoutModel",
      "state": {}
     },
     "e6faa74ae9ec47f39a46e75e0ad924ca": {
      "model_module": "@jupyter-widgets/base",
      "model_module_version": "1.2.0",
      "model_name": "LayoutModel",
      "state": {}
     },
     "e6feaa8671e74c9e87427289c9fb7d7d": {
      "model_module": "@jupyter-widgets/base",
      "model_module_version": "1.2.0",
      "model_name": "LayoutModel",
      "state": {}
     },
     "e717ff2e1f3547378dc6f0ed50a5d34d": {
      "model_module": "@jupyter-widgets/base",
      "model_module_version": "1.2.0",
      "model_name": "LayoutModel",
      "state": {}
     },
     "e76c56f3609845eab1a66ac3fc7941ff": {
      "model_module": "@jupyter-widgets/base",
      "model_module_version": "1.2.0",
      "model_name": "LayoutModel",
      "state": {}
     },
     "e76fe48d617b493b9557bb5e500354d4": {
      "model_module": "@jupyter-widgets/controls",
      "model_module_version": "1.5.0",
      "model_name": "DescriptionStyleModel",
      "state": {
       "description_width": ""
      }
     },
     "e7819cd213fa4d5dbf67bd29bdc0945b": {
      "model_module": "@jupyter-widgets/controls",
      "model_module_version": "1.5.0",
      "model_name": "DescriptionStyleModel",
      "state": {
       "description_width": ""
      }
     },
     "e784ffc3db1149aab0bc6acf896871e1": {
      "model_module": "@jupyter-widgets/controls",
      "model_module_version": "1.5.0",
      "model_name": "DropdownModel",
      "state": {
       "_options_labels": [
        "WETH/ALCX",
        "DAI/ALCX",
        "CVX/ALCX",
        "ALCX-ETH SLP"
       ],
       "index": 0,
       "layout": "IPY_MODEL_47846dc5ac8e433aaf9765a04e6e41f8",
       "style": "IPY_MODEL_eb12b636121548468a4d35e591395f56"
      }
     },
     "e786719ac904459d8a7cbec525b682a1": {
      "model_module": "@jupyter-widgets/controls",
      "model_module_version": "1.5.0",
      "model_name": "TextModel",
      "state": {
       "description": "Address: ",
       "layout": "IPY_MODEL_baf79e087d5f486b9becd7b5f4ec3564",
       "style": "IPY_MODEL_5075885bb34f4fb0a60644f32c516b52",
       "value": "0xeEEC0e4927704ab3BBE5df7F4EfFa818b43665a3"
      }
     },
     "e79d29413b6447cc9d1135fdfa72777e": {
      "model_module": "@jupyter-widgets/controls",
      "model_module_version": "1.5.0",
      "model_name": "CheckboxModel",
      "state": {
       "description": "ALCX-ETH SLP (0.0)",
       "disabled": false,
       "layout": "IPY_MODEL_1395ae51a3e04fd697f190ce86e0e6bc",
       "style": "IPY_MODEL_339ff331863745ff81e5721fcfe6348f",
       "value": false
      }
     },
     "e7c67d96d33d4c0884271c3f6abd3e33": {
      "model_module": "@jupyter-widgets/controls",
      "model_module_version": "1.5.0",
      "model_name": "CheckboxModel",
      "state": {
       "description": "DAI/ALCX (3.50257)",
       "disabled": false,
       "layout": "IPY_MODEL_4f5e2b1a607d4006bf7f82ca62d149e2",
       "style": "IPY_MODEL_8f91122fdc054374ae399965f72a4c96",
       "value": true
      }
     },
     "e7eeb6634cc34892bed903a3a1cda305": {
      "model_module": "@jupyter-widgets/controls",
      "model_module_version": "1.5.0",
      "model_name": "DropdownModel",
      "state": {
       "_options_labels": [
        "WETH/ALCX",
        "DAI/ALCX",
        "CVX/ALCX",
        "ALCX-ETH SLP"
       ],
       "index": 0,
       "layout": "IPY_MODEL_c595e5cc21c94559a93498b86605efd7",
       "style": "IPY_MODEL_bbac615e28c84a1087abc34add1d6963"
      }
     },
     "e8042468c1174c8c9840beac282225ad": {
      "model_module": "@jupyter-widgets/controls",
      "model_module_version": "1.5.0",
      "model_name": "DropdownModel",
      "state": {
       "_options_labels": [
        "WETH/ALCX",
        "DAI/ALCX",
        "CVX/ALCX",
        "ALCX-ETH SLP"
       ],
       "index": 1,
       "layout": "IPY_MODEL_84355aae60dd40d48bd225dcf956a4d4",
       "style": "IPY_MODEL_7e6044f872aa4dcfb30a02ed8607fa74"
      }
     },
     "e810b9f942fd4d68882187f010c10560": {
      "model_module": "@jupyter-widgets/controls",
      "model_module_version": "1.5.0",
      "model_name": "ButtonModel",
      "state": {
       "description": "Generate MultiCall Data",
       "layout": "IPY_MODEL_be74c96c33f44eef8e6eec27a6796396",
       "style": "IPY_MODEL_e869ceb296f5484388992318f918e992"
      }
     },
     "e83d824f6ce745f499dac668640e988c": {
      "model_module": "@jupyter-widgets/controls",
      "model_module_version": "1.5.0",
      "model_name": "LabelModel",
      "state": {
       "layout": "IPY_MODEL_7f8adaa467654dfb87ea7966a026a1e7",
       "style": "IPY_MODEL_32b6f02733bc41319d4d0ba1cac25834",
       "value": "[Current block: 13905479]"
      }
     },
     "e869ceb296f5484388992318f918e992": {
      "model_module": "@jupyter-widgets/controls",
      "model_module_version": "1.5.0",
      "model_name": "ButtonStyleModel",
      "state": {}
     },
     "e871b82e9ad24641a0c15456cac23dcb": {
      "model_module": "@jupyter-widgets/controls",
      "model_module_version": "1.5.0",
      "model_name": "LabelModel",
      "state": {
       "layout": "IPY_MODEL_1128bd1f18954b979cc691958fd81de8",
       "style": "IPY_MODEL_ed191035c3254c29a3c6a003d00f8883",
       "value": "Swapping 83.88583 ALCX for 19865.974936275008 DAI"
      }
     },
     "e87c89874f3342449be512917d737ec0": {
      "model_module": "@jupyter-widgets/controls",
      "model_module_version": "1.5.0",
      "model_name": "CheckboxModel",
      "state": {
       "description": "WETH/ALCX (7.38119)",
       "disabled": false,
       "layout": "IPY_MODEL_1c1456edd3e5417db2d6b42a0c55eef8",
       "style": "IPY_MODEL_49c09058ef464d5b8dcd230b8fe493e9",
       "value": false
      }
     },
     "e87d3d6fe6fc46ae8252cbdaf0cac03c": {
      "model_module": "@jupyter-widgets/base",
      "model_module_version": "1.2.0",
      "model_name": "LayoutModel",
      "state": {}
     },
     "e886a179b44148279419fb64eb114707": {
      "model_module": "@jupyter-widgets/controls",
      "model_module_version": "1.5.0",
      "model_name": "CheckboxModel",
      "state": {
       "description": "Use Wallet Balance (72.80737)",
       "disabled": false,
       "layout": "IPY_MODEL_daac784fdeb64f56a063d840b54b111f",
       "style": "IPY_MODEL_f5a051a260344920b4f7764904fbe6a3",
       "value": true
      }
     },
     "e88fa945b4a34d968104cd33807640b2": {
      "model_module": "@jupyter-widgets/base",
      "model_module_version": "1.2.0",
      "model_name": "LayoutModel",
      "state": {}
     },
     "e89bbbe6d13f494c9e4623f696cad655": {
      "model_module": "@jupyter-widgets/base",
      "model_module_version": "1.2.0",
      "model_name": "LayoutModel",
      "state": {}
     },
     "e8ac460fb6134ecc806c7640cfe1920e": {
      "model_module": "@jupyter-widgets/controls",
      "model_module_version": "1.5.0",
      "model_name": "CheckboxModel",
      "state": {
       "description": "WETH/ALCX (7.21554)",
       "disabled": false,
       "layout": "IPY_MODEL_d43f214de81c419f9f1126367bbedfbb",
       "style": "IPY_MODEL_5d1a54a1909844a4a89ac67b52560698",
       "value": true
      }
     },
     "e8c70793912d45988e1c338ceea36483": {
      "model_module": "@jupyter-widgets/base",
      "model_module_version": "1.2.0",
      "model_name": "LayoutModel",
      "state": {}
     },
     "e8e5278fb48c423fba7f20a2fffaa91e": {
      "model_module": "@jupyter-widgets/base",
      "model_module_version": "1.2.0",
      "model_name": "LayoutModel",
      "state": {}
     },
     "e8f64a4637694789974002ad9dd4f4e1": {
      "model_module": "@jupyter-widgets/controls",
      "model_module_version": "1.5.0",
      "model_name": "DescriptionStyleModel",
      "state": {
       "description_width": ""
      }
     },
     "e92120e54db440f2a7328a2146bbf748": {
      "model_module": "@jupyter-widgets/controls",
      "model_module_version": "1.5.0",
      "model_name": "DescriptionStyleModel",
      "state": {
       "description_width": ""
      }
     },
     "e9309a0c3e3645eb97e428734b1d19d1": {
      "model_module": "@jupyter-widgets/controls",
      "model_module_version": "1.5.0",
      "model_name": "CheckboxModel",
      "state": {
       "description": "CVX/ALCX (0.0)",
       "disabled": false,
       "layout": "IPY_MODEL_b700d1945d9d473c9cd7171cf788cff1",
       "style": "IPY_MODEL_4d7345df4aa342cf89ccec3b28a1bbcf",
       "value": false
      }
     },
     "e94966e1e5d44bf58f749b18ebdcced9": {
      "model_module": "@jupyter-widgets/controls",
      "model_module_version": "1.5.0",
      "model_name": "LabelModel",
      "state": {
       "layout": "IPY_MODEL_b77100e5132a43108f334fee84f888f2",
       "style": "IPY_MODEL_7e6dabb049504ff9a86a01a1d5c8abf1",
       "value": "Select Assets to Claim:"
      }
     },
     "e9759f90f7864c4f88635f61acdfde4c": {
      "model_module": "@jupyter-widgets/base",
      "model_module_version": "1.2.0",
      "model_name": "LayoutModel",
      "state": {}
     },
     "e979121eac114c7992b8e779e63946e8": {
      "model_module": "@jupyter-widgets/base",
      "model_module_version": "1.2.0",
      "model_name": "LayoutModel",
      "state": {
       "width": "200px"
      }
     },
     "e97b65d027004db4b34b314a90d7cefc": {
      "model_module": "@jupyter-widgets/base",
      "model_module_version": "1.2.0",
      "model_name": "LayoutModel",
      "state": {
       "width": "200px"
      }
     },
     "e98161e1f2fc4e588608df41823a87e6": {
      "model_module": "@jupyter-widgets/base",
      "model_module_version": "1.2.0",
      "model_name": "LayoutModel",
      "state": {}
     },
     "e985abd671c243d697c8dd478057d599": {
      "model_module": "@jupyter-widgets/controls",
      "model_module_version": "1.5.0",
      "model_name": "DescriptionStyleModel",
      "state": {
       "description_width": ""
      }
     },
     "e99369a57e6f455eb657bfde99614ba6": {
      "model_module": "@jupyter-widgets/controls",
      "model_module_version": "1.5.0",
      "model_name": "CheckboxModel",
      "state": {
       "description": "CVX/ALCX (0.0)",
       "disabled": false,
       "layout": "IPY_MODEL_b13f1cbfd8fd408f9e344a7dfb80e72a",
       "style": "IPY_MODEL_0e3d5ebdd9a64942899e367642004ae4",
       "value": false
      }
     },
     "e995866af27f42e08cc4cf656c104a25": {
      "model_module": "@jupyter-widgets/base",
      "model_module_version": "1.2.0",
      "model_name": "LayoutModel",
      "state": {}
     },
     "e9a60cb269cf498695647e5e2e6961d3": {
      "model_module": "@jupyter-widgets/base",
      "model_module_version": "1.2.0",
      "model_name": "LayoutModel",
      "state": {}
     },
     "e9b63854bf2841608a315c5c47d435f2": {
      "model_module": "@jupyter-widgets/base",
      "model_module_version": "1.2.0",
      "model_name": "LayoutModel",
      "state": {}
     },
     "e9c74d6716d648dd85855ed69fd3d940": {
      "model_module": "@jupyter-widgets/controls",
      "model_module_version": "1.5.0",
      "model_name": "DescriptionStyleModel",
      "state": {
       "description_width": ""
      }
     },
     "e9d9e79a69c3432c9ee3957a1290ebcf": {
      "model_module": "@jupyter-widgets/base",
      "model_module_version": "1.2.0",
      "model_name": "LayoutModel",
      "state": {}
     },
     "e9e5db99ea044bf48ae7926cab1fb1a0": {
      "model_module": "@jupyter-widgets/controls",
      "model_module_version": "1.5.0",
      "model_name": "DescriptionStyleModel",
      "state": {
       "description_width": ""
      }
     },
     "ea1357aa7ceb46fabe21157e69de494a": {
      "model_module": "@jupyter-widgets/controls",
      "model_module_version": "1.5.0",
      "model_name": "DescriptionStyleModel",
      "state": {
       "description_width": ""
      }
     },
     "ea29bd2cc3354505ad593f7f84c32f3c": {
      "model_module": "@jupyter-widgets/controls",
      "model_module_version": "1.5.0",
      "model_name": "DescriptionStyleModel",
      "state": {
       "description_width": ""
      }
     },
     "ea382948b8fc4df3a39b72c82f7e7d0b": {
      "model_module": "@jupyter-widgets/controls",
      "model_module_version": "1.5.0",
      "model_name": "LabelModel",
      "state": {
       "layout": "IPY_MODEL_f47c5ff31b304eb798bde2013a651dc2",
       "style": "IPY_MODEL_0d382669bb744fdf9adab15382d54de5",
       "value": "[Current block: 13905506]"
      }
     },
     "ea430f5e1bc24fd986c311810bd49a61": {
      "model_module": "@jupyter-widgets/controls",
      "model_module_version": "1.5.0",
      "model_name": "DescriptionStyleModel",
      "state": {
       "description_width": ""
      }
     },
     "ea632bdd6537482f9910911d8aa8d365": {
      "model_module": "@jupyter-widgets/controls",
      "model_module_version": "1.5.0",
      "model_name": "DescriptionStyleModel",
      "state": {
       "description_width": ""
      }
     },
     "ea7432c143364edb8cfe8ad6eab6dcba": {
      "model_module": "@jupyter-widgets/controls",
      "model_module_version": "1.5.0",
      "model_name": "TextModel",
      "state": {
       "description": "Address: ",
       "layout": "IPY_MODEL_65032dcdab8042c1a76b7c905079c8ca",
       "style": "IPY_MODEL_769bdfee215c4723b592f2b12c770855",
       "value": "0xeEEC0e4927704ab3BBE5df7F4EfFa818b43665a3"
      }
     },
     "eabe42d9bf834499a996c659610b77eb": {
      "model_module": "@jupyter-widgets/controls",
      "model_module_version": "1.5.0",
      "model_name": "CheckboxModel",
      "state": {
       "description": "CVX/ALCX (0.0)",
       "disabled": false,
       "layout": "IPY_MODEL_49d356094963499ea29a8e6fc09badb4",
       "style": "IPY_MODEL_33ec49478a6d46608a03597a7fce54a2",
       "value": true
      }
     },
     "eaccec267e684e0a8dd18d4a43286145": {
      "model_module": "@jupyter-widgets/controls",
      "model_module_version": "1.5.0",
      "model_name": "DescriptionStyleModel",
      "state": {
       "description_width": ""
      }
     },
     "ead84279e3d34750a898aae9e3ac8c6e": {
      "model_module": "@jupyter-widgets/base",
      "model_module_version": "1.2.0",
      "model_name": "LayoutModel",
      "state": {}
     },
     "eade7ac18a8c49e0b93f73822f815d8f": {
      "model_module": "@jupyter-widgets/base",
      "model_module_version": "1.2.0",
      "model_name": "LayoutModel",
      "state": {}
     },
     "eb052c0deba740558e8419228703694c": {
      "model_module": "@jupyter-widgets/controls",
      "model_module_version": "1.5.0",
      "model_name": "DescriptionStyleModel",
      "state": {
       "description_width": ""
      }
     },
     "eb12b636121548468a4d35e591395f56": {
      "model_module": "@jupyter-widgets/controls",
      "model_module_version": "1.5.0",
      "model_name": "DescriptionStyleModel",
      "state": {
       "description_width": ""
      }
     },
     "eb237f41f1404feeb8ca74d91ad4385e": {
      "model_module": "@jupyter-widgets/base",
      "model_module_version": "1.2.0",
      "model_name": "LayoutModel",
      "state": {}
     },
     "eb2f5c0610aa45d5882c594bb638a6c9": {
      "model_module": "@jupyter-widgets/controls",
      "model_module_version": "1.5.0",
      "model_name": "HBoxModel",
      "state": {
       "children": [
        "IPY_MODEL_8f5e91466c0040679aa2673c2d22346b",
        "IPY_MODEL_aa3837b634894afaae446ada3ce27bb3"
       ],
       "layout": "IPY_MODEL_eda3b7b3ab414aba9af24a4ae785ccad"
      }
     },
     "eb56ea9d77ca467a9d3522bd556ced53": {
      "model_module": "@jupyter-widgets/controls",
      "model_module_version": "1.5.0",
      "model_name": "LabelModel",
      "state": {
       "layout": "IPY_MODEL_a1f8183ca653498a8d043e63657dc2ab",
       "style": "IPY_MODEL_a2421aed7cab46e6b04f20a840a1bb9a",
       "value": "You Will Get: 71.60911837056126 ALCX"
      }
     },
     "eb6cdf0dd6f647fe8d9f1d74cc3008d1": {
      "model_module": "@jupyter-widgets/base",
      "model_module_version": "1.2.0",
      "model_name": "LayoutModel",
      "state": {}
     },
     "eb94ec7d6ed542ed87d86d9118a88ca4": {
      "model_module": "@jupyter-widgets/base",
      "model_module_version": "1.2.0",
      "model_name": "LayoutModel",
      "state": {
       "width": "425px"
      }
     },
     "eba9b80fcad04ea28291a6ec62a0b3db": {
      "model_module": "@jupyter-widgets/controls",
      "model_module_version": "1.5.0",
      "model_name": "DescriptionStyleModel",
      "state": {
       "description_width": ""
      }
     },
     "ebbc97d2a93f4014bb92cf297264433a": {
      "model_module": "@jupyter-widgets/controls",
      "model_module_version": "1.5.0",
      "model_name": "CheckboxModel",
      "state": {
       "description": "WETH/ALCX (7.39093)",
       "disabled": false,
       "layout": "IPY_MODEL_7e926c190c304f2d812e2b43faf8eb2c",
       "style": "IPY_MODEL_ba74ad47a1594a519dd6e457bf0b8895",
       "value": false
      }
     },
     "ebbef4ee4d7049ab8dc576e5da63b8fd": {
      "model_module": "@jupyter-widgets/base",
      "model_module_version": "1.2.0",
      "model_name": "LayoutModel",
      "state": {}
     },
     "ebe8999160774c188c6d362161d916ef": {
      "model_module": "@jupyter-widgets/controls",
      "model_module_version": "1.5.0",
      "model_name": "LabelModel",
      "state": {
       "layout": "IPY_MODEL_3e1cc52ade9a422ab3bafb399a97f56b",
       "style": "IPY_MODEL_c9a3f61679314251bce2efebc6d156f8",
       "value": "Your Payout: 45513991.50937293 WETH"
      }
     },
     "ec0714a3e77b47e38722fa43f816013e": {
      "model_module": "@jupyter-widgets/controls",
      "model_module_version": "1.5.0",
      "model_name": "LabelModel",
      "state": {
       "layout": "IPY_MODEL_07e9755344c547bb939d04bd4b28d246",
       "style": "IPY_MODEL_45dd2a96db804f3f96cc0c71882d8a79",
       "value": "Max Payout: 96.15973854597343 ALCX"
      }
     },
     "ec78724c39104592a4ce2066bce31d56": {
      "model_module": "@jupyter-widgets/base",
      "model_module_version": "1.2.0",
      "model_name": "LayoutModel",
      "state": {}
     },
     "ec9473281b064c8cb0d6831a97a1f192": {
      "model_module": "@jupyter-widgets/controls",
      "model_module_version": "1.5.0",
      "model_name": "LabelModel",
      "state": {
       "layout": "IPY_MODEL_28cc7c9f327943dfb4085478c5442e7f",
       "style": "IPY_MODEL_eba9b80fcad04ea28291a6ec62a0b3db",
       "value": "Max Input: 5.980007332464365 WETH"
      }
     },
     "ecaddb7d0dc9485c87d60e35f1e1aa6d": {
      "model_module": "@jupyter-widgets/base",
      "model_module_version": "1.2.0",
      "model_name": "LayoutModel",
      "state": {}
     },
     "ecd709f37df948829f871867c5fe5705": {
      "model_module": "@jupyter-widgets/base",
      "model_module_version": "1.2.0",
      "model_name": "LayoutModel",
      "state": {}
     },
     "ed158d2532ff42faa51e6d4c1ff4c062": {
      "model_module": "@jupyter-widgets/controls",
      "model_module_version": "1.5.0",
      "model_name": "LabelModel",
      "state": {
       "layout": "IPY_MODEL_d3f33eb90d1f4e1aaa55de910cd8cb01",
       "style": "IPY_MODEL_98c63c6aa6e24d0b8a2932eed187771c",
       "value": "Max Input: 5.990290537157853 WETH"
      }
     },
     "ed191035c3254c29a3c6a003d00f8883": {
      "model_module": "@jupyter-widgets/controls",
      "model_module_version": "1.5.0",
      "model_name": "DescriptionStyleModel",
      "state": {
       "description_width": ""
      }
     },
     "ed26b415245b4f64a9fa09c5efb7bdef": {
      "model_module": "@jupyter-widgets/base",
      "model_module_version": "1.2.0",
      "model_name": "LayoutModel",
      "state": {}
     },
     "ed2968d7a56e42129ffef2dc20c5b47d": {
      "model_module": "@jupyter-widgets/base",
      "model_module_version": "1.2.0",
      "model_name": "LayoutModel",
      "state": {}
     },
     "eda3b7b3ab414aba9af24a4ae785ccad": {
      "model_module": "@jupyter-widgets/base",
      "model_module_version": "1.2.0",
      "model_name": "LayoutModel",
      "state": {}
     },
     "edaa7abd60374c20a66f3f98c63e59d4": {
      "model_module": "@jupyter-widgets/controls",
      "model_module_version": "1.5.0",
      "model_name": "LabelModel",
      "state": {
       "layout": "IPY_MODEL_5b6a36af7191432fb51f03ced5ae4b91",
       "style": "IPY_MODEL_21ca8217d52e46b5b36057e250cb9be9",
       "value": "Swapping 83.03642 ALCX for 449.5620721547643 CVX"
      }
     },
     "edbfa74797544a6483db3aa46078a4fc": {
      "model_module": "@jupyter-widgets/controls",
      "model_module_version": "1.5.0",
      "model_name": "CheckboxModel",
      "state": {
       "description": "ALCX-ETH SLP (0.0)",
       "disabled": false,
       "layout": "IPY_MODEL_58514678ad914dc0a50793a7b4b9fdf5",
       "style": "IPY_MODEL_80a799acd03148929a00b7dca6d1e4e8",
       "value": false
      }
     },
     "edcc17c977f441c9aaeb636287a9da08": {
      "model_module": "@jupyter-widgets/controls",
      "model_module_version": "1.5.0",
      "model_name": "DescriptionStyleModel",
      "state": {
       "description_width": ""
      }
     },
     "ee345988b9b44dbf9578ed8ca441ed14": {
      "model_module": "@jupyter-widgets/controls",
      "model_module_version": "1.5.0",
      "model_name": "DescriptionStyleModel",
      "state": {
       "description_width": ""
      }
     },
     "ee3f7777f29c48318f6541cc9affa8df": {
      "model_module": "@jupyter-widgets/controls",
      "model_module_version": "1.5.0",
      "model_name": "LabelModel",
      "state": {
       "layout": "IPY_MODEL_6c059b8e1e3c47998f4518a24a6a4c76",
       "style": "IPY_MODEL_02b51ff935f84e5e87733a42cd0e565d",
       "value": "Select Assets to Claim:"
      }
     },
     "ee48cae399104eb6a5357cc024e9fcc5": {
      "model_module": "@jupyter-widgets/controls",
      "model_module_version": "1.5.0",
      "model_name": "LabelModel",
      "state": {
       "layout": "IPY_MODEL_f85d37663fbe4ddbb44c57434f647689",
       "style": "IPY_MODEL_e3e4cc5f086447f4964b4cb6f4954d95"
      }
     },
     "ee4b2c1778134b62ba7a32db5dbfed02": {
      "model_module": "@jupyter-widgets/controls",
      "model_module_version": "1.5.0",
      "model_name": "TextModel",
      "state": {
       "description": "Address: ",
       "layout": "IPY_MODEL_d2be80e602c1403286984925ba00dd52",
       "style": "IPY_MODEL_ea632bdd6537482f9910911d8aa8d365",
       "value": "0xeEEC0e4927704ab3BBE5df7F4EfFa818b43665a3"
      }
     },
     "ee551ae0e15b4e6c88d72df97c674330": {
      "model_module": "@jupyter-widgets/base",
      "model_module_version": "1.2.0",
      "model_name": "LayoutModel",
      "state": {}
     },
     "ee8c179c40cf45e7bc67b396d78746ad": {
      "model_module": "@jupyter-widgets/base",
      "model_module_version": "1.2.0",
      "model_name": "LayoutModel",
      "state": {}
     },
     "eec4fcb4a21146e288e802ae99eb9f7c": {
      "model_module": "@jupyter-widgets/controls",
      "model_module_version": "1.5.0",
      "model_name": "LabelModel",
      "state": {
       "layout": "IPY_MODEL_72748e5a78c046808ae4596805783bdd",
       "style": "IPY_MODEL_8e353b92c43f4a17afe77c1690beb12c",
       "value": "[Current block: 13905578]"
      }
     },
     "eee7b1dc0d0545e0a8ce0f7a8cb58ec0": {
      "model_module": "@jupyter-widgets/base",
      "model_module_version": "1.2.0",
      "model_name": "LayoutModel",
      "state": {}
     },
     "ef048fdd009048fbacd5dec7ca025e04": {
      "model_module": "@jupyter-widgets/base",
      "model_module_version": "1.2.0",
      "model_name": "LayoutModel",
      "state": {
       "width": "425px"
      }
     },
     "ef07e36ef58a4a61bee4d5e41e6a859d": {
      "model_module": "@jupyter-widgets/base",
      "model_module_version": "1.2.0",
      "model_name": "LayoutModel",
      "state": {}
     },
     "ef13e07735ef4a59a26fe1b78e486378": {
      "model_module": "@jupyter-widgets/controls",
      "model_module_version": "1.5.0",
      "model_name": "DescriptionStyleModel",
      "state": {
       "description_width": ""
      }
     },
     "ef149aae45784e6fae9a6e8d10043330": {
      "model_module": "@jupyter-widgets/controls",
      "model_module_version": "1.5.0",
      "model_name": "LabelModel",
      "state": {
       "layout": "IPY_MODEL_1bd322e6c3394ae98ef46fd8024a314e",
       "style": "IPY_MODEL_287a4bc858844f73b3d28dde4489f262",
       "value": "Select Assets to Claim:"
      }
     },
     "ef47a7317f8543dd8766c3ffabcca99c": {
      "model_module": "@jupyter-widgets/controls",
      "model_module_version": "1.5.0",
      "model_name": "DescriptionStyleModel",
      "state": {
       "description_width": ""
      }
     },
     "ef4df6b3ca504872b20d5c15c5c80af1": {
      "model_module": "@jupyter-widgets/controls",
      "model_module_version": "1.5.0",
      "model_name": "HBoxModel",
      "state": {
       "children": [
        "IPY_MODEL_d464387b4c7146e58325e71650e53090",
        "IPY_MODEL_97949829ef5a4bdd924faa2f6ea3673f"
       ],
       "layout": "IPY_MODEL_1c763beb6d77493c9259d3e099e09c23"
      }
     },
     "ef4ef72a788241a8a750eeb941a3a624": {
      "model_module": "@jupyter-widgets/controls",
      "model_module_version": "1.5.0",
      "model_name": "LabelModel",
      "state": {
       "layout": "IPY_MODEL_08edade0ab3047e7abe242253ee6d062",
       "style": "IPY_MODEL_8dcfb22d6c3b4095a6ab0abbe7df6eef",
       "value": "Max Input: 11.670129753243135 ALCX-ETH SLP"
      }
     },
     "ef570a51e54f448fac7682d80e895c03": {
      "model_module": "@jupyter-widgets/base",
      "model_module_version": "1.2.0",
      "model_name": "LayoutModel",
      "state": {}
     },
     "ef647a8bd6ac496a9577b8b5fdfe3139": {
      "model_module": "@jupyter-widgets/controls",
      "model_module_version": "1.5.0",
      "model_name": "LabelModel",
      "state": {
       "layout": "IPY_MODEL_65adc74ca99147b691edc409553fe1fb",
       "style": "IPY_MODEL_1c75fceb912544c7a644237820ce5622",
       "value": "Max Input: 5.983088368985124 WETH"
      }
     },
     "ef8c467056c44f15b372a7d93e0bf0c0": {
      "model_module": "@jupyter-widgets/controls",
      "model_module_version": "1.5.0",
      "model_name": "LabelModel",
      "state": {
       "layout": "IPY_MODEL_f68e343e5c704cd9bc53744f28ab807e",
       "style": "IPY_MODEL_7e7ea94c066f490a9f2b797721c02155",
       "value": "Your Payout: 75.06267415335292 WETH"
      }
     },
     "efc317b27ae042eeacdd28941e6dd131": {
      "model_module": "@jupyter-widgets/base",
      "model_module_version": "1.2.0",
      "model_name": "LayoutModel",
      "state": {}
     },
     "efd94bf3679d4e8bb66df07f8a17202b": {
      "model_module": "@jupyter-widgets/base",
      "model_module_version": "1.2.0",
      "model_name": "LayoutModel",
      "state": {}
     },
     "efe86b57499343ec94d85a06e36c9745": {
      "model_module": "@jupyter-widgets/controls",
      "model_module_version": "1.5.0",
      "model_name": "LabelModel",
      "state": {
       "layout": "IPY_MODEL_0e9bea98a3774a84b5c2bf5e72bfa433",
       "style": "IPY_MODEL_abf6ecca259f4ca495283a967d9417ec"
      }
     },
     "eff654fb38444a8fae7af8d1a9cecfad": {
      "model_module": "@jupyter-widgets/base",
      "model_module_version": "1.2.0",
      "model_name": "LayoutModel",
      "state": {}
     },
     "effd933d6a38496eb639ec0738406fc2": {
      "model_module": "@jupyter-widgets/controls",
      "model_module_version": "1.5.0",
      "model_name": "CheckboxModel",
      "state": {
       "description": "CVX/ALCX (0.0)",
       "disabled": false,
       "layout": "IPY_MODEL_8b814060f4d84dee82aedbc206990122",
       "style": "IPY_MODEL_4990d183c4dc49478805fcb7d83d29b2",
       "value": false
      }
     },
     "f03c31633ee049889d34506032b9d7b7": {
      "model_module": "@jupyter-widgets/controls",
      "model_module_version": "1.5.0",
      "model_name": "DescriptionStyleModel",
      "state": {
       "description_width": ""
      }
     },
     "f04187f5b825418283ba36590c001e47": {
      "model_module": "@jupyter-widgets/controls",
      "model_module_version": "1.5.0",
      "model_name": "LabelModel",
      "state": {
       "layout": "IPY_MODEL_82de018c7ec84573bf211a12c7f5434f",
       "style": "IPY_MODEL_ee345988b9b44dbf9578ed8ca441ed14"
      }
     },
     "f0832530697c4f19bdf3db0383ecb997": {
      "model_module": "@jupyter-widgets/controls",
      "model_module_version": "1.5.0",
      "model_name": "DropdownModel",
      "state": {
       "_options_labels": [
        "WETH/ALCX",
        "DAI/ALCX",
        "CVX/ALCX",
        "ALCX-ETH SLP"
       ],
       "index": 0,
       "layout": "IPY_MODEL_7f780654612f45959a09c0e28609fd8f",
       "style": "IPY_MODEL_25517a50985144ac9b276b8a67545213"
      }
     },
     "f08450d5f64f446c8c7637d5c56958ad": {
      "model_module": "@jupyter-widgets/base",
      "model_module_version": "1.2.0",
      "model_name": "LayoutModel",
      "state": {}
     },
     "f0b3da94fd5b4de0920ac22fc0027ee9": {
      "model_module": "@jupyter-widgets/controls",
      "model_module_version": "1.5.0",
      "model_name": "CheckboxModel",
      "state": {
       "description": "ALCX-ETH SLP (0.0)",
       "disabled": false,
       "layout": "IPY_MODEL_167a9e6b7c504a6190b972dd597b2359",
       "style": "IPY_MODEL_c22079225b0e4a5cba6c6e607f9afafe",
       "value": false
      }
     },
     "f104e31791434f8eac161c47deddf5ba": {
      "model_module": "@jupyter-widgets/controls",
      "model_module_version": "1.5.0",
      "model_name": "LabelModel",
      "state": {
       "layout": "IPY_MODEL_4161057d35b04d83ab70d620a94c3e04",
       "style": "IPY_MODEL_546026725a084377b701e08634172716",
       "value": "[Current block: 13905508]"
      }
     },
     "f186be498b1c4ed8980dcf899e044794": {
      "model_module": "@jupyter-widgets/controls",
      "model_module_version": "1.5.0",
      "model_name": "LabelModel",
      "state": {
       "layout": "IPY_MODEL_f55d5787f3104a6c90762f9de4f94683",
       "style": "IPY_MODEL_2cbd9d8b50b444f68947118901901d35",
       "value": "Swapping 72.80737 ALCX for 4.674842410818088 WETH"
      }
     },
     "f18c7bdcf2224f0faabb8d41c251b93e": {
      "model_module": "@jupyter-widgets/controls",
      "model_module_version": "1.5.0",
      "model_name": "LabelModel",
      "state": {
       "layout": "IPY_MODEL_5c5fa68f89594fdaaa01b8880636536f",
       "style": "IPY_MODEL_e9c74d6716d648dd85855ed69fd3d940",
       "value": "Max Input: 22786.078005885676 DAI"
      }
     },
     "f1e764fcb8264260bf56516624f1cde6": {
      "model_module": "@jupyter-widgets/base",
      "model_module_version": "1.2.0",
      "model_name": "LayoutModel",
      "state": {}
     },
     "f1fc71e6f9fc4dbbaa5200cb89415ee9": {
      "model_module": "@jupyter-widgets/base",
      "model_module_version": "1.2.0",
      "model_name": "LayoutModel",
      "state": {}
     },
     "f1fd688c7b36455aab28e204b5f6d71c": {
      "model_module": "@jupyter-widgets/controls",
      "model_module_version": "1.5.0",
      "model_name": "DescriptionStyleModel",
      "state": {
       "description_width": ""
      }
     },
     "f2071e28a48b4ba9bb2394843c00c7e3": {
      "model_module": "@jupyter-widgets/controls",
      "model_module_version": "1.5.0",
      "model_name": "HBoxModel",
      "state": {
       "children": [
        "IPY_MODEL_879b188b8c0b4a9f9bd14440720b70dc",
        "IPY_MODEL_c9ff11476eab47df93565f5ac280023d"
       ],
       "layout": "IPY_MODEL_42ebc750ff0f487db323e70e918a5844"
      }
     },
     "f22bfd52e41441f7a5377b7662c41c6e": {
      "model_module": "@jupyter-widgets/controls",
      "model_module_version": "1.5.0",
      "model_name": "LabelModel",
      "state": {
       "layout": "IPY_MODEL_a82e47c08e124955bcbc6348e7960ea5",
       "style": "IPY_MODEL_2cd02f7794354016b26776d8bc5bf453",
       "value": "Select Pool to Bond:"
      }
     },
     "f240f1257b904403908451ba8caa63b7": {
      "model_module": "@jupyter-widgets/controls",
      "model_module_version": "1.5.0",
      "model_name": "LabelModel",
      "state": {
       "layout": "IPY_MODEL_f46b90445ed14557b909d2a544cac04d",
       "style": "IPY_MODEL_4db92d3e0f8841e98d510be46d23fe33",
       "value": "Select Pool to Bond:"
      }
     },
     "f246378df49741c68f353833e8ec1764": {
      "model_module": "@jupyter-widgets/controls",
      "model_module_version": "1.5.0",
      "model_name": "DescriptionStyleModel",
      "state": {
       "description_width": ""
      }
     },
     "f24b886709e74fd7b9569d8aa56a243d": {
      "model_module": "@jupyter-widgets/base",
      "model_module_version": "1.2.0",
      "model_name": "LayoutModel",
      "state": {}
     },
     "f25f812f99d64098b36f44baace251d4": {
      "model_module": "@jupyter-widgets/controls",
      "model_module_version": "1.5.0",
      "model_name": "DescriptionStyleModel",
      "state": {
       "description_width": ""
      }
     },
     "f2607b6e24e140d3a0f4e9f1aed83727": {
      "model_module": "@jupyter-widgets/controls",
      "model_module_version": "1.5.0",
      "model_name": "DescriptionStyleModel",
      "state": {
       "description_width": ""
      }
     },
     "f27e8aa346e74aadad5708fd6a789316": {
      "model_module": "@jupyter-widgets/controls",
      "model_module_version": "1.5.0",
      "model_name": "TextModel",
      "state": {
       "description": "Address: ",
       "layout": "IPY_MODEL_ef048fdd009048fbacd5dec7ca025e04",
       "style": "IPY_MODEL_641419c62c584565ace0333f33fbf585",
       "value": "0xeEEC0e4927704ab3BBE5df7F4EfFa818b43665a3"
      }
     },
     "f27f51c70da747fa978265506da2a30a": {
      "model_module": "@jupyter-widgets/controls",
      "model_module_version": "1.5.0",
      "model_name": "CheckboxModel",
      "state": {
       "description": "CVX/ALCX (0.0)",
       "disabled": false,
       "layout": "IPY_MODEL_3161db288af14d33bff69abcebc313e8",
       "style": "IPY_MODEL_a34379529c62451083e04fecca3d58df",
       "value": false
      }
     },
     "f2aa5d8823844fc78cbf141f4c1b226c": {
      "model_module": "@jupyter-widgets/controls",
      "model_module_version": "1.5.0",
      "model_name": "HBoxModel",
      "state": {
       "children": [
        "IPY_MODEL_953dbe4b525643589b48dc4cbc1e3b04",
        "IPY_MODEL_5b529a43dc8a4e28a74045cb1192a0d5"
       ],
       "layout": "IPY_MODEL_27cbd07a19ac407d98281502cfdf956d"
      }
     },
     "f2afa2e58c6044ff8dd452bc421fe448": {
      "model_module": "@jupyter-widgets/controls",
      "model_module_version": "1.5.0",
      "model_name": "LabelModel",
      "state": {
       "layout": "IPY_MODEL_a831e46c02ad464892ba6eb70d40642b",
       "style": "IPY_MODEL_dfbc8e08df2f493198837d05ea9f3c3a",
       "value": "Your Payout: 82.6803987004841 ALCX"
      }
     },
     "f32a8f2a81a146ffbf18aadfd1d279a9": {
      "model_module": "@jupyter-widgets/controls",
      "model_module_version": "1.5.0",
      "model_name": "DescriptionStyleModel",
      "state": {
       "description_width": ""
      }
     },
     "f335563880e340f7a274efd16dcde058": {
      "model_module": "@jupyter-widgets/base",
      "model_module_version": "1.2.0",
      "model_name": "LayoutModel",
      "state": {
       "width": "200px"
      }
     },
     "f343b3cfce554a6f87c209b620d0fe21": {
      "model_module": "@jupyter-widgets/controls",
      "model_module_version": "1.5.0",
      "model_name": "DescriptionStyleModel",
      "state": {
       "description_width": ""
      }
     },
     "f37e2faeb3864523a8db82c02f00b841": {
      "model_module": "@jupyter-widgets/controls",
      "model_module_version": "1.5.0",
      "model_name": "DescriptionStyleModel",
      "state": {
       "description_width": ""
      }
     },
     "f396d4921ef7447ba15ff18448d1ffc0": {
      "model_module": "@jupyter-widgets/controls",
      "model_module_version": "1.5.0",
      "model_name": "HBoxModel",
      "state": {
       "children": [
        "IPY_MODEL_ebbc97d2a93f4014bb92cf297264433a",
        "IPY_MODEL_592134f991f34b6699759caf07bf252e"
       ],
       "layout": "IPY_MODEL_0bbe950d91304ee98e0e2b204f5aea7e"
      }
     },
     "f398cb668e154be18deb95890e85b52b": {
      "model_module": "@jupyter-widgets/base",
      "model_module_version": "1.2.0",
      "model_name": "LayoutModel",
      "state": {}
     },
     "f3b1a40610fd4e5dbb0d08576b6eca54": {
      "model_module": "@jupyter-widgets/controls",
      "model_module_version": "1.5.0",
      "model_name": "DescriptionStyleModel",
      "state": {
       "description_width": ""
      }
     },
     "f3c379946d4349699531d41e9fca469a": {
      "model_module": "@jupyter-widgets/controls",
      "model_module_version": "1.5.0",
      "model_name": "DescriptionStyleModel",
      "state": {
       "description_width": ""
      }
     },
     "f3ec506ec445414493e5f83937ed3d04": {
      "model_module": "@jupyter-widgets/base",
      "model_module_version": "1.2.0",
      "model_name": "LayoutModel",
      "state": {}
     },
     "f3fc82cecad64858acc31ff031194ec0": {
      "model_module": "@jupyter-widgets/base",
      "model_module_version": "1.2.0",
      "model_name": "LayoutModel",
      "state": {}
     },
     "f437694e31d34e639f1adb46932da1bb": {
      "model_module": "@jupyter-widgets/controls",
      "model_module_version": "1.5.0",
      "model_name": "CheckboxModel",
      "state": {
       "description": "ALCX-ETH SLP (0.0)",
       "disabled": false,
       "layout": "IPY_MODEL_583bfa4bb70641d2a903958767e99386",
       "style": "IPY_MODEL_3bd58873a2d348368d6668b950f6871e",
       "value": false
      }
     },
     "f437aee605834ec7b3440e5ec5085571": {
      "model_module": "@jupyter-widgets/controls",
      "model_module_version": "1.5.0",
      "model_name": "DescriptionStyleModel",
      "state": {
       "description_width": ""
      }
     },
     "f44b77a1475a405182da3ce0031537bf": {
      "model_module": "@jupyter-widgets/controls",
      "model_module_version": "1.5.0",
      "model_name": "LabelModel",
      "state": {
       "layout": "IPY_MODEL_b1f9497e648943a5bfdfb4c89309f8da",
       "style": "IPY_MODEL_84f9448a7d69470eb586e864b64c145c",
       "value": "Select Assets to Claim:"
      }
     },
     "f45b80b8eacf4306b195296b12b09640": {
      "model_module": "@jupyter-widgets/base",
      "model_module_version": "1.2.0",
      "model_name": "LayoutModel",
      "state": {}
     },
     "f45c99afc3c9439e8f8130486acd4196": {
      "model_module": "@jupyter-widgets/base",
      "model_module_version": "1.2.0",
      "model_name": "LayoutModel",
      "state": {
       "width": "200px"
      }
     },
     "f46b90445ed14557b909d2a544cac04d": {
      "model_module": "@jupyter-widgets/base",
      "model_module_version": "1.2.0",
      "model_name": "LayoutModel",
      "state": {}
     },
     "f47c5ff31b304eb798bde2013a651dc2": {
      "model_module": "@jupyter-widgets/base",
      "model_module_version": "1.2.0",
      "model_name": "LayoutModel",
      "state": {}
     },
     "f494fa06515b4a968590c33bbe15f05a": {
      "model_module": "@jupyter-widgets/base",
      "model_module_version": "1.2.0",
      "model_name": "LayoutModel",
      "state": {}
     },
     "f4bf916696c24526a3c38f3873e91055": {
      "model_module": "@jupyter-widgets/base",
      "model_module_version": "1.2.0",
      "model_name": "LayoutModel",
      "state": {
       "width": "425px"
      }
     },
     "f4efcaf541774bb7a80cb4143d450507": {
      "model_module": "@jupyter-widgets/controls",
      "model_module_version": "1.5.0",
      "model_name": "TextModel",
      "state": {
       "description": "Address: ",
       "layout": "IPY_MODEL_85aad44c39e14018893d7a212d683a8b",
       "style": "IPY_MODEL_a5c2d2344e004a76917ed115b30521f8",
       "value": "0xeEEC0e4927704ab3BBE5df7F4EfFa818b43665a3"
      }
     },
     "f4fca7f7c3eb4ee586b22c2292eaf827": {
      "model_module": "@jupyter-widgets/controls",
      "model_module_version": "1.5.0",
      "model_name": "TextModel",
      "state": {
       "description": "Address: ",
       "layout": "IPY_MODEL_2aaaf13feff04b48955ac93cddefe6ec",
       "style": "IPY_MODEL_dbd37ab3a1664d51be6a20e975e0ccf9",
       "value": "0xeEEC0e4927704ab3BBE5df7F4EfFa818b43665a3"
      }
     },
     "f53330448d2540da8a48ab7601e49d8e": {
      "model_module": "@jupyter-widgets/controls",
      "model_module_version": "1.5.0",
      "model_name": "HBoxModel",
      "state": {
       "children": [
        "IPY_MODEL_08541c9f4d654acaaa6760984ab596c7",
        "IPY_MODEL_90cbde2db121465f9edd762e3a531564"
       ],
       "layout": "IPY_MODEL_ce717ea58dfa4249a2a68e247fd1605a"
      }
     },
     "f53f883253a649a1a94240ee517fc266": {
      "model_module": "@jupyter-widgets/controls",
      "model_module_version": "1.5.0",
      "model_name": "DescriptionStyleModel",
      "state": {
       "description_width": ""
      }
     },
     "f55d5787f3104a6c90762f9de4f94683": {
      "model_module": "@jupyter-widgets/base",
      "model_module_version": "1.2.0",
      "model_name": "LayoutModel",
      "state": {}
     },
     "f55f7ef32e984afd84d0b1741796f4fe": {
      "model_module": "@jupyter-widgets/base",
      "model_module_version": "1.2.0",
      "model_name": "LayoutModel",
      "state": {}
     },
     "f5678881127b4b9b91f930dd65bbd375": {
      "model_module": "@jupyter-widgets/controls",
      "model_module_version": "1.5.0",
      "model_name": "DescriptionStyleModel",
      "state": {
       "description_width": ""
      }
     },
     "f59f2c4e199c498c909695b02debc9a8": {
      "model_module": "@jupyter-widgets/controls",
      "model_module_version": "1.5.0",
      "model_name": "CheckboxModel",
      "state": {
       "description": "Use Wallet Balance (72.80737)",
       "disabled": false,
       "layout": "IPY_MODEL_96bbe06364d641ccb088545f6a11e84b",
       "style": "IPY_MODEL_71cd48d9981d45b19e67552343fd54a8",
       "value": true
      }
     },
     "f5a051a260344920b4f7764904fbe6a3": {
      "model_module": "@jupyter-widgets/controls",
      "model_module_version": "1.5.0",
      "model_name": "DescriptionStyleModel",
      "state": {
       "description_width": ""
      }
     },
     "f5b310a4d23940348dc3ac996f005abc": {
      "model_module": "@jupyter-widgets/base",
      "model_module_version": "1.2.0",
      "model_name": "LayoutModel",
      "state": {}
     },
     "f5c54b6cb87a4b27b313d2253ba2c61a": {
      "model_module": "@jupyter-widgets/controls",
      "model_module_version": "1.5.0",
      "model_name": "VBoxModel",
      "state": {
       "children": [
        "IPY_MODEL_7d4b79e7504047a98765b1164be1af78",
        "IPY_MODEL_bf4da3f80e344d1680a3a6361f6583e5",
        "IPY_MODEL_7861eaa5fe824a999dc28a9c2c4469d5",
        "IPY_MODEL_b7a5077e437b4355806fa2621648e36e",
        "IPY_MODEL_a2cf680f4278492788e00cfcca7fa26a",
        "IPY_MODEL_675bcc0218594399b48424eeaec25913",
        "IPY_MODEL_beea691dffef4e08b1cb26525a2eee73",
        "IPY_MODEL_fbc81a8be6ed481db787e39a4dce465a",
        "IPY_MODEL_2b188eff1bf64fad875bda527967e8a0",
        "IPY_MODEL_bb420638a0294e2690946041e9a85485",
        "IPY_MODEL_93238ff07f1c45d88c82cadcec81f40f",
        "IPY_MODEL_29299ea8742845b4a8ed1cb23ae4da1c",
        "IPY_MODEL_28f9477c4d5f48aea8a44a8757b38f21",
        "IPY_MODEL_5c99180c185a4e7a9492787446003a14"
       ],
       "layout": "IPY_MODEL_b80e7ffa5138476ba0a66111556a5c5f"
      }
     },
     "f5c6af1549ed46cb89ccf33a1f67b327": {
      "model_module": "@jupyter-widgets/base",
      "model_module_version": "1.2.0",
      "model_name": "LayoutModel",
      "state": {}
     },
     "f5ccb32d147b4536ab8b5b258cf95bc8": {
      "model_module": "@jupyter-widgets/controls",
      "model_module_version": "1.5.0",
      "model_name": "CheckboxModel",
      "state": {
       "description": "DAI/ALCX (3.48172)",
       "disabled": false,
       "layout": "IPY_MODEL_f5b310a4d23940348dc3ac996f005abc",
       "style": "IPY_MODEL_12e41338a7fa4cc4829f01c9a2c84284",
       "value": false
      }
     },
     "f60a96d19bb74978b2880084e7a36281": {
      "model_module": "@jupyter-widgets/controls",
      "model_module_version": "1.5.0",
      "model_name": "DescriptionStyleModel",
      "state": {
       "description_width": ""
      }
     },
     "f6174fc033ca4077ac684bad9329260b": {
      "model_module": "@jupyter-widgets/controls",
      "model_module_version": "1.5.0",
      "model_name": "DescriptionStyleModel",
      "state": {
       "description_width": ""
      }
     },
     "f633e50e35d74d319a0e136b174e6aab": {
      "model_module": "@jupyter-widgets/controls",
      "model_module_version": "1.5.0",
      "model_name": "DescriptionStyleModel",
      "state": {
       "description_width": ""
      }
     },
     "f640507f289e4a978293b8094e7596a4": {
      "model_module": "@jupyter-widgets/controls",
      "model_module_version": "1.5.0",
      "model_name": "CheckboxModel",
      "state": {
       "description": "WETH/ALCX (7.17656)",
       "disabled": false,
       "layout": "IPY_MODEL_083ba90156df4b0991d5ff67d67cf744",
       "style": "IPY_MODEL_150e46d7cce9464b8d2e58ae8ba04328",
       "value": false
      }
     },
     "f6440166ebd64abb9f80e25805dace7f": {
      "model_module": "@jupyter-widgets/controls",
      "model_module_version": "1.5.0",
      "model_name": "DescriptionStyleModel",
      "state": {
       "description_width": ""
      }
     },
     "f647d3d4537b402ea5b2d8c386e2f45f": {
      "model_module": "@jupyter-widgets/controls",
      "model_module_version": "1.5.0",
      "model_name": "DescriptionStyleModel",
      "state": {
       "description_width": ""
      }
     },
     "f671f8813f4d45b8a1ee4c13e5b2540e": {
      "model_module": "@jupyter-widgets/controls",
      "model_module_version": "1.5.0",
      "model_name": "ButtonModel",
      "state": {
       "description": "Generate MultiCall Data",
       "layout": "IPY_MODEL_17e27bf90cd24d41a07808ef0041c53a",
       "style": "IPY_MODEL_31c416cea9cb421bbce7646938a2358e"
      }
     },
     "f67486a31a74475eb8042d7b9cf09346": {
      "model_module": "@jupyter-widgets/controls",
      "model_module_version": "1.5.0",
      "model_name": "DescriptionStyleModel",
      "state": {
       "description_width": ""
      }
     },
     "f68e343e5c704cd9bc53744f28ab807e": {
      "model_module": "@jupyter-widgets/base",
      "model_module_version": "1.2.0",
      "model_name": "LayoutModel",
      "state": {}
     },
     "f6971249a6384911bf2425beb40cbd60": {
      "model_module": "@jupyter-widgets/base",
      "model_module_version": "1.2.0",
      "model_name": "LayoutModel",
      "state": {
       "width": "200px"
      }
     },
     "f6976d29c4684e479de3e9422c9c1c0a": {
      "model_module": "@jupyter-widgets/controls",
      "model_module_version": "1.5.0",
      "model_name": "CheckboxModel",
      "state": {
       "description": "Use Wallet Balance (72.80737)",
       "disabled": false,
       "layout": "IPY_MODEL_86237f2f8f8f4650a5097e8e80753c2f",
       "style": "IPY_MODEL_877e652e23204410916a041c5b8ee805",
       "value": true
      }
     },
     "f69b5b454fa44335a9460da7f5879392": {
      "model_module": "@jupyter-widgets/controls",
      "model_module_version": "1.5.0",
      "model_name": "CheckboxModel",
      "state": {
       "description": "Use Wallet Balance (72.80737)",
       "disabled": false,
       "layout": "IPY_MODEL_a5a33c07e3e14a49beee487e69d765a7",
       "style": "IPY_MODEL_2d7b3689a3c34ef6b61980dbbdc2f639",
       "value": false
      }
     },
     "f6ac9b6fd6ff4adca00eb54e2317f1c7": {
      "model_module": "@jupyter-widgets/base",
      "model_module_version": "1.2.0",
      "model_name": "LayoutModel",
      "state": {}
     },
     "f6c0c388a34b46ff96e3682b74c4ed20": {
      "model_module": "@jupyter-widgets/base",
      "model_module_version": "1.2.0",
      "model_name": "LayoutModel",
      "state": {}
     },
     "f6e4d70c31dc4ce0a0638a4b69b25095": {
      "model_module": "@jupyter-widgets/controls",
      "model_module_version": "1.5.0",
      "model_name": "TextModel",
      "state": {
       "description": "Address: ",
       "layout": "IPY_MODEL_bc5f11ec7f2343b0a783ff37fc77069b",
       "style": "IPY_MODEL_e8f64a4637694789974002ad9dd4f4e1",
       "value": "0xeEEC0e4927704ab3BBE5df7F4EfFa818b43665a3"
      }
     },
     "f6edbc23757547b6befdc5fdebef2ab5": {
      "model_module": "@jupyter-widgets/controls",
      "model_module_version": "1.5.0",
      "model_name": "ButtonStyleModel",
      "state": {}
     },
     "f7103e4d002d4685aedf67d37a8d7b62": {
      "model_module": "@jupyter-widgets/controls",
      "model_module_version": "1.5.0",
      "model_name": "DescriptionStyleModel",
      "state": {
       "description_width": ""
      }
     },
     "f725a4d85a884004bb2273c5e85e1182": {
      "model_module": "@jupyter-widgets/base",
      "model_module_version": "1.2.0",
      "model_name": "LayoutModel",
      "state": {}
     },
     "f73f545caa8844deb13ab32f561a62a4": {
      "model_module": "@jupyter-widgets/base",
      "model_module_version": "1.2.0",
      "model_name": "LayoutModel",
      "state": {}
     },
     "f758c50cf6cd488789914330a08caa68": {
      "model_module": "@jupyter-widgets/controls",
      "model_module_version": "1.5.0",
      "model_name": "HBoxModel",
      "state": {
       "children": [
        "IPY_MODEL_cf16ce5715364158bbf115c65e418e77",
        "IPY_MODEL_20892b55a49f4bdfb35882476279c1aa"
       ],
       "layout": "IPY_MODEL_5f9f0b90e95b42efab382b247db36c4c"
      }
     },
     "f7a42663b0894fbf88c07e31d8e5c0ef": {
      "model_module": "@jupyter-widgets/base",
      "model_module_version": "1.2.0",
      "model_name": "LayoutModel",
      "state": {}
     },
     "f7a5cb82ef7c413b9526428efaeebef8": {
      "model_module": "@jupyter-widgets/controls",
      "model_module_version": "1.5.0",
      "model_name": "DescriptionStyleModel",
      "state": {
       "description_width": ""
      }
     },
     "f7c95e3a2c0d4b38b678e87f8ab20d01": {
      "model_module": "@jupyter-widgets/controls",
      "model_module_version": "1.5.0",
      "model_name": "LabelModel",
      "state": {
       "layout": "IPY_MODEL_48f3773c0a0546c2a6974c71f8b18abc",
       "style": "IPY_MODEL_d8179d47cc684291885e293446a0ba39",
       "value": "Max Payout: 96.15973854597343 ALCX"
      }
     },
     "f839d60cf2394f3db2ef1123b04a48b9": {
      "model_module": "@jupyter-widgets/controls",
      "model_module_version": "1.5.0",
      "model_name": "TextModel",
      "state": {
       "description": "Address: ",
       "layout": "IPY_MODEL_2101c3ef0583430589805cf78bec7f28",
       "style": "IPY_MODEL_bc85b3b3e5904637b470ffc9488848df",
       "value": "0xeEEC0e4927704ab3BBE5df7F4EfFa818b43665a3"
      }
     },
     "f841ffab3b4f4eef8cb7d6a407f03827": {
      "model_module": "@jupyter-widgets/base",
      "model_module_version": "1.2.0",
      "model_name": "LayoutModel",
      "state": {}
     },
     "f854ac3e2b7c46839e9b0215bd5cc303": {
      "model_module": "@jupyter-widgets/controls",
      "model_module_version": "1.5.0",
      "model_name": "LabelModel",
      "state": {
       "layout": "IPY_MODEL_721cfa42936a495887d22f3741db896c",
       "style": "IPY_MODEL_2711980563aa486d928843e814e4a370",
       "value": "Max Payout: 96.15973854597343 ALCX"
      }
     },
     "f85d37663fbe4ddbb44c57434f647689": {
      "model_module": "@jupyter-widgets/base",
      "model_module_version": "1.2.0",
      "model_name": "LayoutModel",
      "state": {}
     },
     "f862bd9b84b24a969ad1eb741db84ae0": {
      "model_module": "@jupyter-widgets/controls",
      "model_module_version": "1.5.0",
      "model_name": "DescriptionStyleModel",
      "state": {
       "description_width": ""
      }
     },
     "f863d1a5eac347b99908284f1c52759e": {
      "model_module": "@jupyter-widgets/controls",
      "model_module_version": "1.5.0",
      "model_name": "LabelModel",
      "state": {
       "layout": "IPY_MODEL_824a75dec4e34e2eb81f13be33432a64",
       "style": "IPY_MODEL_981aaba8fd264d29bedd1d4e5daccaf3",
       "value": "Select Pool to Bond:"
      }
     },
     "f8658be0c58d44aaad8313bd3b1fc3e5": {
      "model_module": "@jupyter-widgets/controls",
      "model_module_version": "1.5.0",
      "model_name": "CheckboxModel",
      "state": {
       "description": "DAI/ALCX (3.33578)",
       "disabled": false,
       "layout": "IPY_MODEL_ba618e3ab94b4fafb4ded847193a8394",
       "style": "IPY_MODEL_b4825c3be6ba42029e02c103d87d749a",
       "value": true
      }
     },
     "f865991b6b7c4e64b5b74e0396f2538d": {
      "model_module": "@jupyter-widgets/controls",
      "model_module_version": "1.5.0",
      "model_name": "LabelModel",
      "state": {
       "layout": "IPY_MODEL_c08ff76a3ca14b8abfb693a0ea3dbbab",
       "style": "IPY_MODEL_fe6aefef7d7a4e4c8c0f3def93005639",
       "value": "[Current block: 13905573]"
      }
     },
     "f868dfdf6f7a461287cc9f93a63bfb03": {
      "model_module": "@jupyter-widgets/controls",
      "model_module_version": "1.5.0",
      "model_name": "DescriptionStyleModel",
      "state": {
       "description_width": ""
      }
     },
     "f8834f95a2864fa686ac0dc758d2d1ba": {
      "model_module": "@jupyter-widgets/base",
      "model_module_version": "1.2.0",
      "model_name": "LayoutModel",
      "state": {}
     },
     "f88ec3774065463ca516a90b6e5d05ad": {
      "model_module": "@jupyter-widgets/base",
      "model_module_version": "1.2.0",
      "model_name": "LayoutModel",
      "state": {
       "width": "200px"
      }
     },
     "f8c5525d0660492d8434455c4b6c0272": {
      "model_module": "@jupyter-widgets/base",
      "model_module_version": "1.2.0",
      "model_name": "LayoutModel",
      "state": {}
     },
     "f8cc4de3d7b345c6a8b892084a92c7ee": {
      "model_module": "@jupyter-widgets/controls",
      "model_module_version": "1.5.0",
      "model_name": "DescriptionStyleModel",
      "state": {
       "description_width": ""
      }
     },
     "f8cf1515901c48c180d0883fc44e3c60": {
      "model_module": "@jupyter-widgets/controls",
      "model_module_version": "1.5.0",
      "model_name": "DescriptionStyleModel",
      "state": {
       "description_width": ""
      }
     },
     "f907f2437ddd4f009dfd2d31d85663ff": {
      "model_module": "@jupyter-widgets/controls",
      "model_module_version": "1.5.0",
      "model_name": "ButtonModel",
      "state": {
       "description": "Generate MultiCall Data",
       "layout": "IPY_MODEL_84729694df764afea74dd669ff2b527f",
       "style": "IPY_MODEL_5581f20b1eec4cb28aedd953e2fb3b6e"
      }
     },
     "f9691d17da4f47b9b1bbbae34eef4aad": {
      "model_module": "@jupyter-widgets/base",
      "model_module_version": "1.2.0",
      "model_name": "LayoutModel",
      "state": {}
     },
     "f971ee56028c425db02f60bb311101d1": {
      "model_module": "@jupyter-widgets/controls",
      "model_module_version": "1.5.0",
      "model_name": "DescriptionStyleModel",
      "state": {
       "description_width": ""
      }
     },
     "f98bb2e7adb34c849e015fbdf8fe2e19": {
      "model_module": "@jupyter-widgets/base",
      "model_module_version": "1.2.0",
      "model_name": "LayoutModel",
      "state": {}
     },
     "fa0590c2847b4ef08ccbbcb60830a6a0": {
      "model_module": "@jupyter-widgets/controls",
      "model_module_version": "1.5.0",
      "model_name": "CheckboxModel",
      "state": {
       "description": "WETH/ALCX (7.53222)",
       "disabled": false,
       "layout": "IPY_MODEL_11dfa85eca33473e814e7873d9017e14",
       "style": "IPY_MODEL_2945cb2cd4d24af29b6499996f21fb2b",
       "value": true
      }
     },
     "fa253848d9ce41e7ad85eabd2238d6ab": {
      "model_module": "@jupyter-widgets/controls",
      "model_module_version": "1.5.0",
      "model_name": "DescriptionStyleModel",
      "state": {
       "description_width": ""
      }
     },
     "fa2a5ec7b9df439cbbbbf19c89eefef7": {
      "model_module": "@jupyter-widgets/controls",
      "model_module_version": "1.5.0",
      "model_name": "VBoxModel",
      "state": {
       "children": [
        "IPY_MODEL_5967eae850254ac5b4c19a8ee53688fe",
        "IPY_MODEL_a126b8fd9c3045abbc53a3a9e645bf34",
        "IPY_MODEL_6a5864fcd60b49fea24f729201f737cd",
        "IPY_MODEL_7906d403d48c486d8b22c13cedb531c4",
        "IPY_MODEL_17cda58c7f40479a82be39ab7f1a9f08",
        "IPY_MODEL_879c8246a1b44e7c9d4a87bafa20d8c1",
        "IPY_MODEL_1b27c4094af9472680c04c05fc32b456",
        "IPY_MODEL_b5367cb749c8421a854155606f301ed4",
        "IPY_MODEL_f240f1257b904403908451ba8caa63b7",
        "IPY_MODEL_6e7c5c81936e44d1abd1edd9fdf690bd",
        "IPY_MODEL_6235cbc5994340eb8c855c9dd64b6c16",
        "IPY_MODEL_ef8c467056c44f15b372a7d93e0bf0c0",
        "IPY_MODEL_21f7042d6e4c43d8b79064ef18ea3c55",
        "IPY_MODEL_67d736435a6c487ab82c4969df113f99"
       ],
       "layout": "IPY_MODEL_fde4cffdff974340a068006d98eb0c65"
      }
     },
     "fa2e3ae5a0dd45159f698388957fb6da": {
      "model_module": "@jupyter-widgets/controls",
      "model_module_version": "1.5.0",
      "model_name": "DescriptionStyleModel",
      "state": {
       "description_width": ""
      }
     },
     "fa6a71b80e304713a8b5127e8d61d7ae": {
      "model_module": "@jupyter-widgets/controls",
      "model_module_version": "1.5.0",
      "model_name": "DescriptionStyleModel",
      "state": {
       "description_width": ""
      }
     },
     "fa76152f858a4c1ead9c591f86a3f213": {
      "model_module": "@jupyter-widgets/controls",
      "model_module_version": "1.5.0",
      "model_name": "DescriptionStyleModel",
      "state": {
       "description_width": ""
      }
     },
     "fa82b8cba92a471b9eb5facb60a353db": {
      "model_module": "@jupyter-widgets/base",
      "model_module_version": "1.2.0",
      "model_name": "LayoutModel",
      "state": {}
     },
     "fad153ea406947e39b03026cbb06176c": {
      "model_module": "@jupyter-widgets/controls",
      "model_module_version": "1.5.0",
      "model_name": "LabelModel",
      "state": {
       "layout": "IPY_MODEL_e98161e1f2fc4e588608df41823a87e6",
       "style": "IPY_MODEL_4e3c0208204a4596804956da72eae919",
       "value": "[Current block: 13905501]"
      }
     },
     "faf9780fc14942a2923cc4b7d21b9cb7": {
      "model_module": "@jupyter-widgets/controls",
      "model_module_version": "1.5.0",
      "model_name": "LabelModel",
      "state": {
       "layout": "IPY_MODEL_feaa7c8127d34f2eb1192bdc0deb00de",
       "style": "IPY_MODEL_da66347b5a6449769fbab0d6a741b654"
      }
     },
     "fb289a8137b2461b8ed97efe3563f7bc": {
      "model_module": "@jupyter-widgets/controls",
      "model_module_version": "1.5.0",
      "model_name": "DescriptionStyleModel",
      "state": {
       "description_width": ""
      }
     },
     "fb88b265ac4e48b6abd330d14354a36a": {
      "model_module": "@jupyter-widgets/base",
      "model_module_version": "1.2.0",
      "model_name": "LayoutModel",
      "state": {}
     },
     "fba7984852df449199f86b5849d13996": {
      "model_module": "@jupyter-widgets/controls",
      "model_module_version": "1.5.0",
      "model_name": "DropdownModel",
      "state": {
       "_options_labels": [
        "WETH/ALCX",
        "DAI/ALCX",
        "CVX/ALCX",
        "ALCX-ETH SLP"
       ],
       "index": 0,
       "layout": "IPY_MODEL_ead84279e3d34750a898aae9e3ac8c6e",
       "style": "IPY_MODEL_fa76152f858a4c1ead9c591f86a3f213"
      }
     },
     "fbc81a8be6ed481db787e39a4dce465a": {
      "model_module": "@jupyter-widgets/controls",
      "model_module_version": "1.5.0",
      "model_name": "LabelModel",
      "state": {
       "layout": "IPY_MODEL_4df597c5ecc94b7eba67a83941b289b4",
       "style": "IPY_MODEL_6b481fe42c1f4ea388a7a311e4fe6330",
       "value": "Supplying 2.693727772748767 WETH and 42.02848 ALCX for 9.965162703246277 ALCX-ETH SLP"
      }
     },
     "fbd09323890740c1a8a0e8dba6ffab7a": {
      "model_module": "@jupyter-widgets/controls",
      "model_module_version": "1.5.0",
      "model_name": "CheckboxModel",
      "state": {
       "description": "WETH/ALCX (7.47376)",
       "disabled": false,
       "layout": "IPY_MODEL_8afe6c61d88c4bc3b0c3988707238bcd",
       "style": "IPY_MODEL_cca28f2386a546f1972d0db16519c724",
       "value": true
      }
     },
     "fbdedc69e8974c17abe643286bc603cf": {
      "model_module": "@jupyter-widgets/base",
      "model_module_version": "1.2.0",
      "model_name": "LayoutModel",
      "state": {}
     },
     "fc337c560f0f4193ac4064caa65d8dc7": {
      "model_module": "@jupyter-widgets/base",
      "model_module_version": "1.2.0",
      "model_name": "LayoutModel",
      "state": {}
     },
     "fc4f16f960bf4164b924b1cc741528ad": {
      "model_module": "@jupyter-widgets/controls",
      "model_module_version": "1.5.0",
      "model_name": "CheckboxModel",
      "state": {
       "description": "DAI/ALCX (3.636)",
       "disabled": false,
       "layout": "IPY_MODEL_8aa2a7ccc8824653aad25a5d2994b0a2",
       "style": "IPY_MODEL_cfaa199a9fa94a4bb73f7feb01bc4a1e",
       "value": false
      }
     },
     "fc85232c958d4838ac5d0d69be089591": {
      "model_module": "@jupyter-widgets/controls",
      "model_module_version": "1.5.0",
      "model_name": "CheckboxModel",
      "state": {
       "description": "Use Wallet Balance (72.80737)",
       "disabled": false,
       "layout": "IPY_MODEL_6df432f660c74bcb9dc149ef26c79125",
       "style": "IPY_MODEL_9328466a818a4e3f91622633937bfd8e",
       "value": false
      }
     },
     "fcc98e5f2a464d169de7ca97c7bf9ab8": {
      "model_module": "@jupyter-widgets/controls",
      "model_module_version": "1.5.0",
      "model_name": "CheckboxModel",
      "state": {
       "description": "CVX/ALCX (0.0)",
       "disabled": false,
       "layout": "IPY_MODEL_c62e09499f524ae39f475029c6a1f6b0",
       "style": "IPY_MODEL_53e50d3be3c7467b8e25e9e332dc8411",
       "value": false
      }
     },
     "fccf41b7e43d4c72ab64ce762a496bf7": {
      "model_module": "@jupyter-widgets/controls",
      "model_module_version": "1.5.0",
      "model_name": "DescriptionStyleModel",
      "state": {
       "description_width": ""
      }
     },
     "fce6ac388b77495ea4fb11993cd9f208": {
      "model_module": "@jupyter-widgets/controls",
      "model_module_version": "1.5.0",
      "model_name": "DescriptionStyleModel",
      "state": {
       "description_width": ""
      }
     },
     "fce8eaa5d3204a3597700e2073e3b5d9": {
      "model_module": "@jupyter-widgets/base",
      "model_module_version": "1.2.0",
      "model_name": "LayoutModel",
      "state": {}
     },
     "fd18bd3d88bc40c78db84cb14a45c30a": {
      "model_module": "@jupyter-widgets/controls",
      "model_module_version": "1.5.0",
      "model_name": "HBoxModel",
      "state": {
       "children": [
        "IPY_MODEL_5e9647df84b94baa91601e41e966b412",
        "IPY_MODEL_4692c7112db34f69bfd11b0408f8345d"
       ],
       "layout": "IPY_MODEL_1f346e01d09d481598f5c2e47a9efb10"
      }
     },
     "fd1f395f53484096b6f5268e33f89d23": {
      "model_module": "@jupyter-widgets/controls",
      "model_module_version": "1.5.0",
      "model_name": "LabelModel",
      "state": {
       "layout": "IPY_MODEL_19f57b19441842eea3317e0a6bcf0a21",
       "style": "IPY_MODEL_7c4015c7f0214d938a98e50446766d9e",
       "value": "[Current block: 13905537]"
      }
     },
     "fd26a40e9ed743cbb35f11120b8bfb0c": {
      "model_module": "@jupyter-widgets/controls",
      "model_module_version": "1.5.0",
      "model_name": "LabelModel",
      "state": {
       "layout": "IPY_MODEL_04a6f6bdf65b497285f6e4f569a8f1a6",
       "style": "IPY_MODEL_538b75a7c5e94eb89054e47e4b123ed6",
       "value": "Max Payout: 96.15973854597343 ALCX"
      }
     },
     "fd54cd8930d8476fbc3835923167c141": {
      "model_module": "@jupyter-widgets/controls",
      "model_module_version": "1.5.0",
      "model_name": "LabelModel",
      "state": {
       "layout": "IPY_MODEL_e520cf5bb0154fceb138cb9ea1425cd4",
       "style": "IPY_MODEL_934126bdef38495996cbf9ba24a31d60",
       "value": "Swapping 80.04727 ALCX for 5.138311477396549 WETH"
      }
     },
     "fd7024cfa5954114ae8895d2623b60c7": {
      "model_module": "@jupyter-widgets/controls",
      "model_module_version": "1.5.0",
      "model_name": "DescriptionStyleModel",
      "state": {
       "description_width": ""
      }
     },
     "fd73e0752b5f41deb5e4bfc516b0a14b": {
      "model_module": "@jupyter-widgets/base",
      "model_module_version": "1.2.0",
      "model_name": "LayoutModel",
      "state": {}
     },
     "fd81a6bc9669414b95f443f131d59cec": {
      "model_module": "@jupyter-widgets/controls",
      "model_module_version": "1.5.0",
      "model_name": "CheckboxModel",
      "state": {
       "description": "DAI/ALCX (3.60681)",
       "disabled": false,
       "layout": "IPY_MODEL_d20e74fb63c74add8c54b85202e965a4",
       "style": "IPY_MODEL_3dd0ec70dae84d05b86d5ec3a23bc1be",
       "value": true
      }
     },
     "fdb8edd013f845af8133c9adc6c9dadc": {
      "model_module": "@jupyter-widgets/base",
      "model_module_version": "1.2.0",
      "model_name": "LayoutModel",
      "state": {}
     },
     "fdbe0918701143f0a620da593e596d23": {
      "model_module": "@jupyter-widgets/controls",
      "model_module_version": "1.5.0",
      "model_name": "LabelModel",
      "state": {
       "layout": "IPY_MODEL_35eccdadcc99428bbbe4fc6fe3265695",
       "style": "IPY_MODEL_3e1bb9b8dcf547bbb7c485574c516e34",
       "value": "Select Pool to Bond:"
      }
     },
     "fdc2ebb941de41f7aafcde8a62bbad88": {
      "model_module": "@jupyter-widgets/base",
      "model_module_version": "1.2.0",
      "model_name": "LayoutModel",
      "state": {}
     },
     "fde4cffdff974340a068006d98eb0c65": {
      "model_module": "@jupyter-widgets/base",
      "model_module_version": "1.2.0",
      "model_name": "LayoutModel",
      "state": {}
     },
     "fde8f0b8ada245eab99f0163ee89e523": {
      "model_module": "@jupyter-widgets/controls",
      "model_module_version": "1.5.0",
      "model_name": "HBoxModel",
      "state": {
       "children": [
        "IPY_MODEL_14fff5954a2d49c6a5f381aaa4be5349",
        "IPY_MODEL_9cc8a82a9d70409d9d1afa138e2ec9bc"
       ],
       "layout": "IPY_MODEL_de72c59ac5e0425394584293f89a8f0d"
      }
     },
     "fe06c220631a4dfeb7acdcf7548d7e36": {
      "model_module": "@jupyter-widgets/controls",
      "model_module_version": "1.5.0",
      "model_name": "LabelModel",
      "state": {
       "layout": "IPY_MODEL_bf33e90df1bd4e2b97d978e91fe86ac5",
       "style": "IPY_MODEL_a827189449da47e9a2986d71f2ec9068",
       "value": "[Current block: 13905549]"
      }
     },
     "fe098e2f6b204e399d5cdf4e27ba4bb8": {
      "model_module": "@jupyter-widgets/base",
      "model_module_version": "1.2.0",
      "model_name": "LayoutModel",
      "state": {}
     },
     "fe0f794773a74f7388b3fe1646fd4b39": {
      "model_module": "@jupyter-widgets/controls",
      "model_module_version": "1.5.0",
      "model_name": "CheckboxModel",
      "state": {
       "description": "CVX/ALCX (0.0)",
       "disabled": false,
       "layout": "IPY_MODEL_f841ffab3b4f4eef8cb7d6a407f03827",
       "style": "IPY_MODEL_ca358b89404d4c0289f8fe99f7171fda",
       "value": false
      }
     },
     "fe119396a32e4643b4e37468cf694567": {
      "model_module": "@jupyter-widgets/controls",
      "model_module_version": "1.5.0",
      "model_name": "ButtonModel",
      "state": {
       "description": "Generate MultiCall Data",
       "layout": "IPY_MODEL_f88ec3774065463ca516a90b6e5d05ad",
       "style": "IPY_MODEL_d1a46b43eb9845b9b293d68696f1a627"
      }
     },
     "fe37c9d5e6ba483d8b03384f64f2990a": {
      "model_module": "@jupyter-widgets/base",
      "model_module_version": "1.2.0",
      "model_name": "LayoutModel",
      "state": {}
     },
     "fe410b290e964ba6877014c05230c495": {
      "model_module": "@jupyter-widgets/base",
      "model_module_version": "1.2.0",
      "model_name": "LayoutModel",
      "state": {}
     },
     "fe500c06705041d68b8ae2858d076389": {
      "model_module": "@jupyter-widgets/controls",
      "model_module_version": "1.5.0",
      "model_name": "DescriptionStyleModel",
      "state": {
       "description_width": ""
      }
     },
     "fe6aefef7d7a4e4c8c0f3def93005639": {
      "model_module": "@jupyter-widgets/controls",
      "model_module_version": "1.5.0",
      "model_name": "DescriptionStyleModel",
      "state": {
       "description_width": ""
      }
     },
     "feaa7c8127d34f2eb1192bdc0deb00de": {
      "model_module": "@jupyter-widgets/base",
      "model_module_version": "1.2.0",
      "model_name": "LayoutModel",
      "state": {}
     },
     "feb26f014c3c4c1a89f2bd3838759b86": {
      "model_module": "@jupyter-widgets/base",
      "model_module_version": "1.2.0",
      "model_name": "LayoutModel",
      "state": {}
     },
     "feb6da1bf34546b78e66d11ed44ff018": {
      "model_module": "@jupyter-widgets/controls",
      "model_module_version": "1.5.0",
      "model_name": "DropdownModel",
      "state": {
       "_options_labels": [
        "WETH/ALCX",
        "DAI/ALCX",
        "CVX/ALCX",
        "ALCX-ETH SLP"
       ],
       "index": 3,
       "layout": "IPY_MODEL_b69d6b04713142fda7afca267ba880d5",
       "style": "IPY_MODEL_aef13f6073b343bc9104ab0e499f2db3"
      }
     },
     "feb77c7f145a4d39be6f4b7d2666cf1f": {
      "model_module": "@jupyter-widgets/controls",
      "model_module_version": "1.5.0",
      "model_name": "CheckboxModel",
      "state": {
       "description": "DAI/ALCX (3.61515)",
       "disabled": false,
       "layout": "IPY_MODEL_b0091e36865c4eb28ea019cd7861af49",
       "style": "IPY_MODEL_5a3eaf53876d46afa1b35a46acd1fb18",
       "value": false
      }
     },
     "febe83adc80843419cd5683250a687c4": {
      "model_module": "@jupyter-widgets/controls",
      "model_module_version": "1.5.0",
      "model_name": "DescriptionStyleModel",
      "state": {
       "description_width": ""
      }
     },
     "fed5ef60ca2a48e6abe8d931d397f78b": {
      "model_module": "@jupyter-widgets/controls",
      "model_module_version": "1.5.0",
      "model_name": "DescriptionStyleModel",
      "state": {
       "description_width": ""
      }
     },
     "fefa79e392f1423c9dd46d8ebeecf1d7": {
      "model_module": "@jupyter-widgets/controls",
      "model_module_version": "1.5.0",
      "model_name": "DescriptionStyleModel",
      "state": {
       "description_width": ""
      }
     },
     "ff0b2f51db3e4c3f98ecfe1afbae40e7": {
      "model_module": "@jupyter-widgets/base",
      "model_module_version": "1.2.0",
      "model_name": "LayoutModel",
      "state": {}
     },
     "ff5b0c8d5ef741b28304ac223c601610": {
      "model_module": "@jupyter-widgets/controls",
      "model_module_version": "1.5.0",
      "model_name": "DescriptionStyleModel",
      "state": {
       "description_width": ""
      }
     },
     "ff68f4f2594a4ced99b9dec34f34e7aa": {
      "model_module": "@jupyter-widgets/controls",
      "model_module_version": "1.5.0",
      "model_name": "DescriptionStyleModel",
      "state": {
       "description_width": ""
      }
     },
     "ff6c4ac5fc374553a4d0c48259b934ed": {
      "model_module": "@jupyter-widgets/controls",
      "model_module_version": "1.5.0",
      "model_name": "CheckboxModel",
      "state": {
       "description": "CVX/ALCX (0.0)",
       "disabled": false,
       "layout": "IPY_MODEL_6881f66747af450ab6fa6519d0ec4a08",
       "style": "IPY_MODEL_fccf41b7e43d4c72ab64ce762a496bf7",
       "value": false
      }
     },
     "ffa38d480b8e4003aaf720a1b1561b44": {
      "model_module": "@jupyter-widgets/base",
      "model_module_version": "1.2.0",
      "model_name": "LayoutModel",
      "state": {}
     },
     "ffe929d945184f15a580802d4ae9ddab": {
      "model_module": "@jupyter-widgets/controls",
      "model_module_version": "1.5.0",
      "model_name": "DescriptionStyleModel",
      "state": {
       "description_width": ""
      }
     },
     "fff12709f7274b1694d27154ee8a8a93": {
      "model_module": "@jupyter-widgets/base",
      "model_module_version": "1.2.0",
      "model_name": "LayoutModel",
      "state": {}
     }
    },
    "version_major": 2,
    "version_minor": 0
   }
  }
 },
 "nbformat": 4,
 "nbformat_minor": 5
}
